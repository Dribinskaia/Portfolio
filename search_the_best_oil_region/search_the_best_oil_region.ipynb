{
 "cells": [
  {
   "cell_type": "markdown",
   "metadata": {},
   "source": [
    "# Выбор локации для скважины"
   ]
  },
  {
   "cell_type": "markdown",
   "metadata": {},
   "source": [
    "Добывающей компании необходимо решить, где бурить новую скважину.\n",
    "\n",
    "Предоставлены пробы нефти в трёх регионах: в каждом 10 000 месторождений, где измерили качество нефти и объём её запасов. \
     Требуется построить модель машинного обучения, которая поможет определить регион, где добыча принесёт наибольшую прибыль.\
   Кроме того, необходимо проанализировать возможную прибыль и риски. \n"
 
   ]
  },
  {
   "cell_type": "markdown",
   "metadata": {},
   "source": [
    "Цель исследования - изучив данные о качестве и объемах запасов нефти в трех регионах, определить самый потенциально прибыльный регион.\n",
    "Исследование будет проходить в несколько этапов:\n",
    "- изучение и подготовка данных;\n",
    "- построение модели, которая будет предсказывать объем запасов в каждом из регионов. Необходимо предсказать значение количественного признака, таким образом модель должна решать задачу регрессии. Для обучения модели будет использоваться линейная регрессия, как наиболее предсказуемая;\n",
    "- получение с помощью обученной модели предсказаний;\n",
    "- рассчет объемов сырья, необходимых для безубыточной разработки скважины;\n",
    "- рассчет для каждого региона с помощью полученных предсказаний средний прибыли, доверительного интервала для прибыли и риска убытков;\n",
    "- выбор наиболее перспективного для разработки региона."
   ]
  },
  {
   "cell_type": "markdown",
   "metadata": {},
   "source": [
    "## Загрузка и подготовка данных"
   ]
  },
  {
   "cell_type": "code",
   "execution_count": 55,
   "metadata": {},
   "outputs": [],
   "source": [
    "# Импортируем необходимые библиотеки\n",
    "import pandas as pd\n",
    "import numpy as np\n",
    "from sklearn.preprocessing import StandardScaler\n",
    "from sklearn.model_selection import train_test_split\n",
    "from sklearn.linear_model import LinearRegression\n",
    "from sklearn.metrics import mean_squared_error\n",
    "import scipy.stats as st"
   ]
  },
  {
   "cell_type": "code",
   "execution_count": 56,
   "metadata": {},
   "outputs": [],
   "source": [
    "# Загружаем данные \n",
    "df0 = pd.read_csv('/datasets/geo_data_0.csv')"
   ]
  },
  {
   "cell_type": "code",
   "execution_count": 57,
   "metadata": {},
   "outputs": [],
   "source": [
    "df1 = pd.read_csv('/datasets/geo_data_1.cs')"
   ]
  },
  {
   "cell_type": "code",
   "execution_count": 58,
   "metadata": {},
   "outputs": [],
   "source": [
    "df2 = pd.read_csv('/datasets/geo_data_2.csv')"
   ]
  },
  {
   "cell_type": "code",
   "execution_count": 59,
   "metadata": {},
   "outputs": [
    {
     "name": "stdout",
     "output_type": "stream",
     "text": [
      "      id        f0        f1        f2     product\n",
      "0  txEyH  0.705745 -0.497823  1.221170  105.280062\n",
      "1  2acmU  1.334711 -0.340164  4.365080   73.037750\n",
      "2  409Wp  1.022732  0.151990  1.419926   85.265647\n",
      "3  iJLyR -0.032172  0.139033  2.978566  168.620776\n",
      "4  Xdl7t  1.988431  0.155413  4.751769  154.036647\n",
      "\n",
      "      id         f0         f1        f2     product\n",
      "0  kBEdx -15.001348  -8.276000 -0.005876    3.179103\n",
      "1  62mP7  14.272088  -3.475083  0.999183   26.953261\n",
      "2  vyE1P   6.263187  -5.948386  5.001160  134.766305\n",
      "3  KcrkZ -13.081196 -11.506057  4.999415  137.945408\n",
      "4  AHL4O  12.702195  -8.147433  5.004363  134.766305\n",
      "\n",
      "      id        f0        f1        f2     product\n",
      "0  fwXo0 -1.146987  0.963328 -0.828965   27.758673\n",
      "1  WJtFt  0.262778  0.269839 -2.530187   56.069697\n",
      "2  ovLUW  0.194587  0.289035 -5.586433   62.871910\n",
      "3  q6cA6  2.236060 -0.553760  0.930038  114.572842\n",
      "4  WPMUX -0.515993  1.716266  5.899011  149.600746\n",
      "\n"
     ]
    }
   ],
   "source": [
    "# Выведем первые строки, чтобы посмотреть датафремы\n",
    "df = [df0, df1, df2]\n",
    "for i in df:\n",
    "    print(i.head())\n",
    "    print()"
   ]
  },
  {
   "cell_type": "code",
   "execution_count": 60,
   "metadata": {},
   "outputs": [
    {
     "name": "stdout",
     "output_type": "stream",
     "text": [
      "<class 'pandas.core.frame.DataFrame'>\n",
      "RangeIndex: 100000 entries, 0 to 99999\n",
      "Data columns (total 5 columns):\n",
      " #   Column   Non-Null Count   Dtype  \n",
      "---  ------   --------------   -----  \n",
      " 0   id       100000 non-null  object \n",
      " 1   f0       100000 non-null  float64\n",
      " 2   f1       100000 non-null  float64\n",
      " 3   f2       100000 non-null  float64\n",
      " 4   product  100000 non-null  float64\n",
      "dtypes: float64(4), object(1)\n",
      "memory usage: 3.8+ MB\n",
      "None\n",
      "\n",
      "<class 'pandas.core.frame.DataFrame'>\n",
      "RangeIndex: 100000 entries, 0 to 99999\n",
      "Data columns (total 5 columns):\n",
      " #   Column   Non-Null Count   Dtype  \n",
      "---  ------   --------------   -----  \n",
      " 0   id       100000 non-null  object \n",
      " 1   f0       100000 non-null  float64\n",
      " 2   f1       100000 non-null  float64\n",
      " 3   f2       100000 non-null  float64\n",
      " 4   product  100000 non-null  float64\n",
      "dtypes: float64(4), object(1)\n",
      "memory usage: 3.8+ MB\n",
      "None\n",
      "\n",
      "<class 'pandas.core.frame.DataFrame'>\n",
      "RangeIndex: 100000 entries, 0 to 99999\n",
      "Data columns (total 5 columns):\n",
      " #   Column   Non-Null Count   Dtype  \n",
      "---  ------   --------------   -----  \n",
      " 0   id       100000 non-null  object \n",
      " 1   f0       100000 non-null  float64\n",
      " 2   f1       100000 non-null  float64\n",
      " 3   f2       100000 non-null  float64\n",
      " 4   product  100000 non-null  float64\n",
      "dtypes: float64(4), object(1)\n",
      "memory usage: 3.8+ MB\n",
      "None\n",
      "\n"
     ]
    }
   ],
   "source": [
    "# Изучим информацию о датафреймах\n",
    "for i in df:\n",
    "    print(i.info())\n",
    "    print()"
   ]
  },
  {
   "cell_type": "code",
   "execution_count": 61,
   "metadata": {},
   "outputs": [
    {
     "name": "stdout",
     "output_type": "stream",
     "text": [
      "Наличие явных дубликатов\n",
      "0\n",
      "0\n",
      "0\n"
     ]
    }
   ],
   "source": [
    "print('Наличие явных дубликатов')\n",
    "for i in df:\n",
    "    print(i.duplicated().sum())  "
   ]
  },
  {
   "cell_type": "markdown",
   "metadata": {},
   "source": [
    "Выделим целевой признак, который необходимо будет предсказать модели. В данном случае это product - объем запасов в скважине."
   ]
  },
  {
   "cell_type": "code",
   "execution_count": 62,
   "metadata": {},
   "outputs": [],
   "source": [
    "target_0 = df0['product'] # Целевой признак\n",
    "features_0 = df0.drop(['product', 'id'], axis=1) # Признаки, на которых модель будет обучаться\n",
    "\n",
    "target_1 = df1['product']\n",
    "features_1 = df1.drop(['product', 'id'], axis=1)\n",
    "\n",
    "target_2 = df2['product']\n",
    "features_2 = df2.drop(['product', 'id'], axis=1)"
   ]
  },
  {
   "cell_type": "code",
   "execution_count": 63,
   "metadata": {},
   "outputs": [
    {
     "name": "stdout",
     "output_type": "stream",
     "text": [
      "Распределение признаков для регионов 1, 2, 3:\n"
     ]
    },
    {
     "data": {
      "image/png": "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\n",
      "text/plain": [
       "<Figure size 432x288 with 4 Axes>"
      ]
     },
     "metadata": {
      "needs_background": "light"
     },
     "output_type": "display_data"
    },
    {
     "data": {
      "image/png": "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\n",
      "text/plain": [
       "<Figure size 432x288 with 4 Axes>"
      ]
     },
     "metadata": {
      "needs_background": "light"
     },
     "output_type": "display_data"
    },
    {
     "data": {
      "image/png": "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\n",
      "text/plain": [
       "<Figure size 432x288 with 4 Axes>"
      ]
     },
     "metadata": {
      "needs_background": "light"
     },
     "output_type": "display_data"
    }
   ],
   "source": [
    "# С помощью гистограмм посмотрим распределение признаков\n",
    "features = [features_0, features_1, features_2]\n",
    "print('Распределение признаков для регионов 1, 2, 3:')\n",
    "for i in features:\n",
    "    i.hist()"
   ]
  },
  {
   "cell_type": "markdown",
   "metadata": {},
   "source": [
    "Значения признаков f0, f1 и f2 имеют разный масштаб, используем StandardScaler(), чтобы привести значения к одному масштабу."
   ]
  },
  {
   "cell_type": "markdown",
   "metadata": {},
   "source": [
    "Вывод: В рассматриваемых данных отсутствуют пропуски, типы значений в столбцах соответствуют фактическому содержимому. Явные дубликаты также отсутствуют. На этапе подготовки был выделен целевой признак - product, и обучающие признаки. Обучающие признаки были приведены к одному масштабу с помощью StandardScaler()."
   ]
  },
  {
   "cell_type": "code",
   "execution_count": 65,
   "metadata": {},
   "outputs": [
    {
     "name": "stdout",
     "output_type": "stream",
     "text": [
      "Коэффициент корреляции для признаков в регионе 1\n",
      "-0.4407228509719545\n",
      "0.0017244324591400761\n",
      "-0.003153342067205498\n",
      "\n",
      "Коэффициент корреляции для признаков в регионе 2\n",
      "0.18228653311373366\n",
      "-0.0025953204598529052\n",
      "-0.001777036078809357\n",
      "\n",
      "Коэффициент корреляции для признаков в регионе 3\n",
      "0.0005282827065541896\n",
      "0.0007786614973662288\n",
      "-0.00044813310658758134\n",
      "\n"
     ]
    }
   ],
   "source": [
    "features = [features_0, features_1, features_2]\n",
    "i = 1\n",
    "for feat in features:\n",
    "    print('Коэффициент корреляции для признаков в регионе', i)\n",
    "    print(feat['f0'].corr(feat['f1']))\n",
    "    print(feat['f1'].corr(feat['f2']))\n",
    "    print(feat['f0'].corr(feat['f2']))\n",
    "    i+=1\n",
    "    print()"
   ]
  },
  {
   "cell_type": "markdown",
   "metadata": {},
   "source": [
    "## Обучение и проверка модели"
   ]
  },
  {
   "cell_type": "markdown",
   "metadata": {},
   "source": [
    "Построим предсказания для каждого региона. Для этого напишем функцию, которая будет принимать на вход обучающие признаки и целевой признак, затем делить данные на обучающую и валидационную выборки. После чего функция будет обучать модель линейной регрессии на тестовой выборке, делать предсказания на валидационной выборке, рассчитывать RMSE и средний запас предсказанного сырья."
   ]
  },
  {
   "cell_type": "code",
   "execution_count": 66,
   "metadata": {},
   "outputs": [],
   "source": [
    "# Создаем функцию, которая принимает на вход features и target\n",
    "def function_for_lr(features, target):\n",
    "# Разбиваем признаки на две выборки в соотношении 75% и 25%\n",
    "    features_train, features_valid, target_train, target_valid = train_test_split\\\n",
    "    (features, target, test_size=0.25, random_state=12345)\n",
    "    \n",
    "    scaler = StandardScaler()\n",
    "    features_train = scaler.fit_transform(features_train)\n",
    "    features_valid = scaler.transform(features_valid)\n",
    "    \n",
    "# Обучаем модель и делаем предсказания\n",
    "    lr = LinearRegression()\n",
    "    lr.fit(features_train, target_train)\n",
    "    predictions = lr.predict(features_valid)\n",
    "\n",
    "# Создаем объекты Series, а также сбрасываем индексы target_valid для удобства работы в дальнейшем\n",
    "    predictions = pd.Series(predictions)\n",
    "    target_valid = pd.Series(target_valid.reset_index(drop=True))\n",
    "\n",
    "# Считаем RMSE        \n",
    "    rmse = (mean_squared_error(target_valid, predictions))**(0.5)\n",
    "    \n",
    "# Для рассчета среднего предсказанного запаса делим сумму всех предсказаний на их количество    \n",
    "    average_product = sum(predictions) / len(predictions)\n",
    "    print('Средний запас предсказанного сырья:', round(average_product, 3), 'ед.')\n",
    "    print('RMSE модели:', round(rmse, 3))\n",
    "      \n",
    "    return (predictions, target_valid, average_product, rmse)"
   ]
  },
  {
   "cell_type": "markdown",
   "metadata": {},
   "source": [
    "Для каждого региона сохраним в отдельных переменных предсказания, правильные ответы на валидационной выборке, средний предсказанный запас и RMSE. Средний предсказанный запас и RMSE  выведем на экран"
   ]
  },
  {
   "cell_type": "code",
   "execution_count": 67,
   "metadata": {},
   "outputs": [
    {
     "name": "stdout",
     "output_type": "stream",
     "text": [
      "Показатели для региона 1\n",
      "Средний запас предсказанного сырья: 92.593 ед.\n",
      "RMSE модели: 37.579\n"
     ]
    }
   ],
   "source": [
    "print('Показатели для региона 1')\n",
    "predictions_0, target_valid_0, average_product_0, rmse_0 = function_for_lr(features_0, target_0)"
   ]
  },
  {
   "cell_type": "code",
   "execution_count": 68,
   "metadata": {},
   "outputs": [
    {
     "name": "stdout",
     "output_type": "stream",
     "text": [
      "Показатели для региона 2\n",
      "Средний запас предсказанного сырья: 68.729 ед.\n",
      "RMSE модели: 0.893\n"
     ]
    }
   ],
   "source": [
    "print('Показатели для региона 2')\n",
    "predictions_1, target_valid_1, average_product_1, rmse_1 = function_for_lr(features_1, target_1)"
   ]
  },
  {
   "cell_type": "code",
   "execution_count": 69,
   "metadata": {},
   "outputs": [
    {
     "name": "stdout",
     "output_type": "stream",
     "text": [
      "Показатели для региона 3\n",
      "Средний запас предсказанного сырья: 94.965 ед.\n",
      "RMSE модели: 40.03\n"
     ]
    }
   ],
   "source": [
    "print('Показатели для региона 3')\n",
    "predictions_2, target_valid_2, average_product_2, rmse_2 = function_for_lr(features_2, target_2)"
   ]
  },
  {
   "cell_type": "markdown",
   "metadata": {},
   "source": [
    "Вывод: На данном этапе исследования модель предсказала наименьшие запасы сырья для региона 2, при этом для данного региона также самое высокое значение RMSE, то есть модель с большей вероятностью переоценивает запасы в этом регионе, чем в других.\n",
    "Для регионов 1 и 3 запасы и RMSE сопоставимы, самые большие предсказанные запасы сырья в регионе 3."
   ]
  },
  {
   "cell_type": "markdown",
   "metadata": {},
   "source": [
    "## Подготовка к расчёту прибыли"
   ]
  },
  {
   "cell_type": "markdown",
   "metadata": {},
   "source": [
    "Сохраним в отдельных переменных значения, которые потребуются для дальнейших рассчетов."
   ]
  },
  {
   "cell_type": "code",
   "execution_count": 70,
   "metadata": {},
   "outputs": [
    {
     "name": "stdout",
     "output_type": "stream",
     "text": [
      "Достаточный объём сырья для безубыточной разработки новой скважины: 112.0 ед.\n"
     ]
    }
   ],
   "source": [
    "# Бюджет на разработку всех скважин в регионе, руб\n",
    "BUDGET_FOR_WELL = 10**10\n",
    "\n",
    "# Доход с одной единицы продукта, руб\n",
    "PROFIT_FOR_ITEM = 450_000\n",
    "\n",
    "# Рассчитываем объем сырья, необходимый для безубыточной разработки одной скважины\n",
    "# Для  этого бюджет на разработку всех скважин поделим на стоимость одной единицы сырья,\n",
    "# а также на число подлежащих разработке скважин (200 штук)\n",
    "\n",
    "BREAK_EVEN_POINT = np.ceil(BUDGET_FOR_WELL/(PROFIT_FOR_ITEM*200))\n",
    "print('Достаточный объём сырья для безубыточной разработки новой скважины:', BREAK_EVEN_POINT, 'ед.')\n",
    "    "
   ]
  },
  {
   "cell_type": "markdown",
   "metadata": {},
   "source": [
    "Во всех регионах средний предсказанный объем сырья ниже точки безубыточности."
   ]
  },
  {
   "cell_type": "markdown",
   "metadata": {},
   "source": [
    "## Расчёт прибыли и рисков "
   ]
  },
  {
   "cell_type": "markdown",
   "metadata": {},
   "source": [
    "Напишем функцию, которая будет рассчитывать прибыль по отобранным скважинам"
   ]
  },
  {
   "cell_type": "code",
   "execution_count": 71,
   "metadata": {},
   "outputs": [],
   "source": [
    "# функция принимает на вход предсказания и значения target\n",
    "def function_for_profit(predictions, target_valid):\n",
    "    best_predictions = predictions.sort_values(ascending=False) # сортируем предсказания по убыванию\n",
    "    best_target = target_valid[best_predictions.index][:200] # отбираем 200 лучших скважин\n",
    "    # прибыль рассчитываем как сумму запасов на отобранных шахтах,\n",
    "    # минус затраты на разработку в регионе\n",
    "    profit = (PROFIT_FOR_ITEM*best_target.sum() - BUDGET_FOR_WELL)\n",
    "    return profit\n",
    "      "
   ]
  },
  {
   "cell_type": "code",
   "execution_count": 72,
   "metadata": {},
   "outputs": [],
   "source": [
    "state = np.random.RandomState(12345)"
   ]
  },
  {
   "cell_type": "markdown",
   "metadata": {},
   "source": [
    "Напишем функцию для рассчета доверительного интервала, средней прибыли и рисков с помощью процедуры бутстрэп"
   ]
  },
  {
   "cell_type": "code",
   "execution_count": 73,
   "metadata": {},
   "outputs": [],
   "source": [
    "# функция принимает на вход предсказания и значения target\n",
    "\n",
    "def func_bootstrap(predictions, target):\n",
    "    profit = []\n",
    "    for i in range(1000):\n",
    "        target_subsample = target.sample(n=500, replace=True, random_state=state)\n",
    "        predictions_subsample = predictions[target_subsample.index]\n",
    "        # для рассчета прибыли по каждой выборке используем ранее созданную функцию function_for_profit\n",
    "        profit.append(function_for_profit(predictions_subsample, target_subsample))\n",
    "    \n",
    "    profit = pd.Series(profit)\n",
    "    \n",
    "    # считаем границы доверительного интервала\n",
    "    # рассчитываемые величины будем переводить в млрд и оставлять 3 цифры после запятой\n",
    "\n",
    "    lower = round((profit.quantile(0.025))/10**9, 3)\n",
    "    upper = round((profit.quantile(0.975))/10**9, 3)\n",
    "    \n",
    "    # считаем среднюю прибыль \n",
    "    mean_profit = round((profit.mean())/10**9, 3)\n",
    "    \n",
    "    # считаем риски как процент значений profit, оказавшихся ниже нуля\n",
    "    risk = round(st.percentileofscore(profit, 0), 3)\n",
    "    \n",
    "    return  (lower, upper, mean_profit, risk)      "
   ]
  },
  {
   "cell_type": "markdown",
   "metadata": {},
   "source": [
    "Поскольку функцию func_bootstrap необходимо запустить трижды, сделаем это в цикле"
   ]
  },
  {
   "cell_type": "code",
   "execution_count": 74,
   "metadata": {},
   "outputs": [
    {
     "name": "stdout",
     "output_type": "stream",
     "text": [
      "Показатели для региона 1\n",
      "Доверительный интервал: -0.102 : 0.948 мдрд. руб\n",
      "Средняя прибыль: 0.426 мдрд. руб\n",
      "Риск убытков: 6.0 %\n",
      "\n",
      "Показатели для региона 2\n",
      "Доверительный интервал: 0.128 : 0.954 мдрд. руб\n",
      "Средняя прибыль: 0.518 мдрд. руб\n",
      "Риск убытков: 0.3 %\n",
      "\n",
      "Показатели для региона 3\n",
      "Доверительный интервал: -0.116 : 0.99 мдрд. руб\n",
      "Средняя прибыль: 0.42 мдрд. руб\n",
      "Риск убытков: 6.2 %\n",
      "\n"
     ]
    }
   ],
   "source": [
    "predictions = [predictions_0, predictions_1, predictions_2]\n",
    "target = [target_valid_0, target_valid_1, target_valid_2]\n",
    "i = 1\n",
    "# циклом пройдем по значениям предсказаний и target \n",
    "for n, m in zip(predictions, target):        \n",
    "    lower, upper, mean_profit, risk = func_bootstrap(n, m);\n",
    "    print('Показатели для региона', i)\n",
    "    print('Доверительный интервал:', lower, ':', upper, 'мдрд. руб')\n",
    "    print('Средняя прибыль:', mean_profit, 'мдрд. руб')\n",
    "    print('Риск убытков:', risk, '%')\n",
    "    i+=1\n",
    "    print()"
   ]
  },
  {
   "cell_type": "markdown",
   "metadata": {},
   "source": [
    "Выводы: \n",
    "- в ходе исследования были изучены данные о качестве и объемах запасов нефти в трех регионах;\n",
    "- на этапе подготовки был выделен целевой и обучающие признаки. Данные приведены к одному масштабу;\n",
    "- на полученных данных обучена модель линейной регрессии, для каждого региона рассчитан предсказанный средний запас сырья и RMSE;\n",
    "- после проведенных выше продедур наилучшие показатели были у региона 3, наихудшие у региона 2;\n",
    "- рассчитан объем запасов сырья, необходимый для безубыточной разработки скважины;\n",
    "- для улучшения точности работы модели была применена техника бутстрэп: с ее помощью для каждого региона рассчитана средняя прибыль, доверительный интервал прибыли и риск убытков (риск того, что прибыль со скважин будет отрицательной);\n",
    "- по результатам проведенных рассчетов регион-лидер изменился - самый высокий объем средней прибыли и самые низкие риски спрогнозированы для региона 2. Изменение лидера может быть связано с тем, что не все признаки, использованные для обучения модели, были распределены нормально. \n",
    "- По итогам иследования для разработки новых скважин рекомендуется регион номер 2, как регион с самой высокой потенциальной средней прибылью и самыми низкими рисками убытков. \n"
   ]
  },
  {
   "cell_type": "code",
   "execution_count": null,
   "metadata": {},
   "outputs": [],
   "source": []
  }
 ],
 "metadata": {
  "ExecuteTimeLog": [
   {
    "duration": 404,
    "start_time": "2023-01-08T09:45:42.704Z"
   },
   {
    "duration": 505,
    "start_time": "2023-01-08T09:45:43.200Z"
   },
   {
    "duration": 250,
    "start_time": "2023-01-08T09:45:43.707Z"
   },
   {
    "duration": 553,
    "start_time": "2023-01-08T09:45:44.408Z"
   },
   {
    "duration": 17,
    "start_time": "2023-01-08T09:45:47.007Z"
   },
   {
    "duration": 383,
    "start_time": "2023-01-08T09:46:14.858Z"
   },
   {
    "duration": 143,
    "start_time": "2023-01-08T09:46:17.865Z"
   },
   {
    "duration": 9,
    "start_time": "2023-01-08T09:46:18.305Z"
   },
   {
    "duration": 11,
    "start_time": "2023-01-08T09:46:29.869Z"
   },
   {
    "duration": 10,
    "start_time": "2023-01-08T09:46:36.208Z"
   },
   {
    "duration": 14,
    "start_time": "2023-01-08T09:51:37.973Z"
   },
   {
    "duration": 40,
    "start_time": "2023-01-08T10:02:37.996Z"
   },
   {
    "duration": 38,
    "start_time": "2023-01-08T10:03:00.380Z"
   },
   {
    "duration": 14,
    "start_time": "2023-01-08T10:03:09.763Z"
   },
   {
    "duration": 12,
    "start_time": "2023-01-08T10:05:23.134Z"
   },
   {
    "duration": 23,
    "start_time": "2023-01-08T10:05:35.685Z"
   },
   {
    "duration": 12,
    "start_time": "2023-01-08T10:05:48.462Z"
   },
   {
    "duration": 9,
    "start_time": "2023-01-08T10:34:10.357Z"
   },
   {
    "duration": 9,
    "start_time": "2023-01-08T10:40:51.510Z"
   },
   {
    "duration": 16,
    "start_time": "2023-01-08T10:41:17.620Z"
   },
   {
    "duration": 12,
    "start_time": "2023-01-08T10:41:23.411Z"
   },
   {
    "duration": 11,
    "start_time": "2023-01-08T10:41:27.720Z"
   },
   {
    "duration": 24,
    "start_time": "2023-01-08T10:44:22.082Z"
   },
   {
    "duration": 49,
    "start_time": "2023-01-08T10:49:10.892Z"
   },
   {
    "duration": 7,
    "start_time": "2023-01-08T10:49:35.824Z"
   },
   {
    "duration": 46,
    "start_time": "2023-01-08T10:49:42.351Z"
   },
   {
    "duration": 132,
    "start_time": "2023-01-08T10:50:00.955Z"
   },
   {
    "duration": 147,
    "start_time": "2023-01-08T10:50:30.604Z"
   },
   {
    "duration": 129,
    "start_time": "2023-01-08T10:50:43.375Z"
   },
   {
    "duration": 6,
    "start_time": "2023-01-08T11:39:30.344Z"
   },
   {
    "duration": 12,
    "start_time": "2023-01-08T11:40:07.266Z"
   },
   {
    "duration": 15,
    "start_time": "2023-01-08T11:43:42.239Z"
   },
   {
    "duration": 3,
    "start_time": "2023-01-08T11:44:13.456Z"
   },
   {
    "duration": 699,
    "start_time": "2023-01-08T11:48:20.366Z"
   },
   {
    "duration": 134,
    "start_time": "2023-01-08T11:48:21.068Z"
   },
   {
    "duration": 315,
    "start_time": "2023-01-08T11:48:21.203Z"
   },
   {
    "duration": 120,
    "start_time": "2023-01-08T11:48:21.521Z"
   },
   {
    "duration": 46,
    "start_time": "2023-01-08T11:48:21.643Z"
   },
   {
    "duration": 0,
    "start_time": "2023-01-08T11:48:21.690Z"
   },
   {
    "duration": 0,
    "start_time": "2023-01-08T11:48:21.692Z"
   },
   {
    "duration": 127,
    "start_time": "2023-01-08T11:48:21.744Z"
   },
   {
    "duration": 11,
    "start_time": "2023-01-08T11:48:21.897Z"
   },
   {
    "duration": 77,
    "start_time": "2023-01-08T11:48:22.074Z"
   },
   {
    "duration": 12,
    "start_time": "2023-01-08T11:57:05.819Z"
   },
   {
    "duration": 16,
    "start_time": "2023-01-08T11:57:36.987Z"
   },
   {
    "duration": 3,
    "start_time": "2023-01-08T11:58:10.141Z"
   },
   {
    "duration": 21,
    "start_time": "2023-01-08T12:02:23.604Z"
   },
   {
    "duration": 159,
    "start_time": "2023-01-08T12:03:05.592Z"
   },
   {
    "duration": 153,
    "start_time": "2023-01-08T12:03:44.552Z"
   },
   {
    "duration": 9,
    "start_time": "2023-01-08T12:04:10.392Z"
   },
   {
    "duration": 11,
    "start_time": "2023-01-08T12:05:29.649Z"
   },
   {
    "duration": 151,
    "start_time": "2023-01-08T13:25:59.205Z"
   },
   {
    "duration": 9,
    "start_time": "2023-01-08T13:26:06.588Z"
   },
   {
    "duration": 11,
    "start_time": "2023-01-08T13:32:02.458Z"
   },
   {
    "duration": 154,
    "start_time": "2023-01-08T13:32:03.027Z"
   },
   {
    "duration": 10,
    "start_time": "2023-01-08T13:32:05.602Z"
   },
   {
    "duration": 53,
    "start_time": "2023-01-08T13:34:05.712Z"
   },
   {
    "duration": 56,
    "start_time": "2023-01-08T13:34:24.831Z"
   },
   {
    "duration": 173,
    "start_time": "2023-01-08T13:35:15.535Z"
   },
   {
    "duration": 153,
    "start_time": "2023-01-08T13:36:11.722Z"
   },
   {
    "duration": 59,
    "start_time": "2023-01-08T13:44:38.363Z"
   },
   {
    "duration": 10,
    "start_time": "2023-01-08T13:57:41.843Z"
   },
   {
    "duration": 822,
    "start_time": "2023-01-08T13:57:55.652Z"
   },
   {
    "duration": 1031,
    "start_time": "2023-01-08T13:59:10.293Z"
   },
   {
    "duration": 972,
    "start_time": "2023-01-09T06:27:37.778Z"
   },
   {
    "duration": 500,
    "start_time": "2023-01-09T06:27:38.752Z"
   },
   {
    "duration": 320,
    "start_time": "2023-01-09T06:27:39.254Z"
   },
   {
    "duration": 547,
    "start_time": "2023-01-09T06:27:39.576Z"
   },
   {
    "duration": 11,
    "start_time": "2023-01-09T06:27:40.124Z"
   },
   {
    "duration": 30,
    "start_time": "2023-01-09T06:27:40.514Z"
   },
   {
    "duration": 101,
    "start_time": "2023-01-09T06:27:40.781Z"
   },
   {
    "duration": 10,
    "start_time": "2023-01-09T06:27:43.529Z"
   },
   {
    "duration": 1113,
    "start_time": "2023-01-09T06:27:43.757Z"
   },
   {
    "duration": 128,
    "start_time": "2023-01-09T06:27:47.848Z"
   },
   {
    "duration": 3,
    "start_time": "2023-01-09T06:34:39.510Z"
   },
   {
    "duration": 116,
    "start_time": "2023-01-09T06:34:39.671Z"
   },
   {
    "duration": 336,
    "start_time": "2023-01-09T06:34:39.834Z"
   },
   {
    "duration": 139,
    "start_time": "2023-01-09T06:34:40.171Z"
   },
   {
    "duration": 22,
    "start_time": "2023-01-09T06:34:40.312Z"
   },
   {
    "duration": 30,
    "start_time": "2023-01-09T06:34:40.481Z"
   },
   {
    "duration": 106,
    "start_time": "2023-01-09T06:34:40.653Z"
   },
   {
    "duration": 11,
    "start_time": "2023-01-09T06:34:40.977Z"
   },
   {
    "duration": 729,
    "start_time": "2023-01-09T06:34:41.145Z"
   },
   {
    "duration": 137,
    "start_time": "2023-01-09T06:34:41.876Z"
   },
   {
    "duration": 96,
    "start_time": "2023-01-09T06:37:27.030Z"
   },
   {
    "duration": 10,
    "start_time": "2023-01-09T06:38:16.383Z"
   },
   {
    "duration": 732,
    "start_time": "2023-01-09T06:38:17.341Z"
   },
   {
    "duration": 136,
    "start_time": "2023-01-09T06:38:23.711Z"
   },
   {
    "duration": 8,
    "start_time": "2023-01-09T06:38:25.935Z"
   },
   {
    "duration": 23,
    "start_time": "2023-01-09T06:38:37.055Z"
   },
   {
    "duration": 15,
    "start_time": "2023-01-09T06:40:22.414Z"
   },
   {
    "duration": 16,
    "start_time": "2023-01-09T06:40:25.851Z"
   },
   {
    "duration": 5,
    "start_time": "2023-01-09T07:55:33.565Z"
   },
   {
    "duration": 55,
    "start_time": "2023-01-09T07:56:20.360Z"
   },
   {
    "duration": 5,
    "start_time": "2023-01-09T08:01:13.264Z"
   },
   {
    "duration": 49,
    "start_time": "2023-01-09T08:01:13.705Z"
   },
   {
    "duration": 44,
    "start_time": "2023-01-09T08:02:46.359Z"
   },
   {
    "duration": 10,
    "start_time": "2023-01-09T08:04:33.979Z"
   },
   {
    "duration": 72,
    "start_time": "2023-01-09T08:05:15.612Z"
   },
   {
    "duration": 10,
    "start_time": "2023-01-09T08:05:24.865Z"
   },
   {
    "duration": 961,
    "start_time": "2023-01-09T08:05:29.573Z"
   },
   {
    "duration": 38,
    "start_time": "2023-01-09T08:05:34.028Z"
   },
   {
    "duration": 4,
    "start_time": "2023-01-09T08:05:41.630Z"
   },
   {
    "duration": 235,
    "start_time": "2023-01-09T08:05:42.479Z"
   },
   {
    "duration": 3,
    "start_time": "2023-01-09T08:06:23.531Z"
   },
   {
    "duration": 138,
    "start_time": "2023-01-09T08:06:25.324Z"
   },
   {
    "duration": 339,
    "start_time": "2023-01-09T08:06:25.464Z"
   },
   {
    "duration": 121,
    "start_time": "2023-01-09T08:06:25.805Z"
   },
   {
    "duration": 17,
    "start_time": "2023-01-09T08:06:25.927Z"
   },
   {
    "duration": 36,
    "start_time": "2023-01-09T08:06:26.012Z"
   },
   {
    "duration": 117,
    "start_time": "2023-01-09T08:06:26.420Z"
   },
   {
    "duration": 7,
    "start_time": "2023-01-09T08:06:29.036Z"
   },
   {
    "duration": 816,
    "start_time": "2023-01-09T08:06:29.224Z"
   },
   {
    "duration": 38,
    "start_time": "2023-01-09T08:06:30.043Z"
   },
   {
    "duration": 4,
    "start_time": "2023-01-09T08:06:36.261Z"
   },
   {
    "duration": 188,
    "start_time": "2023-01-09T08:06:37.828Z"
   },
   {
    "duration": 5,
    "start_time": "2023-01-09T08:11:27.336Z"
   },
   {
    "duration": 100,
    "start_time": "2023-01-09T08:11:27.920Z"
   },
   {
    "duration": 5,
    "start_time": "2023-01-09T08:15:00.908Z"
   },
   {
    "duration": 73,
    "start_time": "2023-01-09T08:15:01.441Z"
   },
   {
    "duration": 4,
    "start_time": "2023-01-09T08:16:07.050Z"
   },
   {
    "duration": 27,
    "start_time": "2023-01-09T08:16:07.563Z"
   },
   {
    "duration": 4,
    "start_time": "2023-01-09T08:17:13.635Z"
   },
   {
    "duration": 25,
    "start_time": "2023-01-09T08:17:14.509Z"
   },
   {
    "duration": 4,
    "start_time": "2023-01-09T08:17:41.747Z"
   },
   {
    "duration": 28,
    "start_time": "2023-01-09T08:17:42.388Z"
   },
   {
    "duration": 4,
    "start_time": "2023-01-09T08:18:01.708Z"
   },
   {
    "duration": 61,
    "start_time": "2023-01-09T08:18:02.153Z"
   },
   {
    "duration": 4,
    "start_time": "2023-01-09T08:18:07.829Z"
   },
   {
    "duration": 24,
    "start_time": "2023-01-09T08:18:08.453Z"
   },
   {
    "duration": 4,
    "start_time": "2023-01-09T08:18:41.650Z"
   },
   {
    "duration": 25,
    "start_time": "2023-01-09T08:18:41.736Z"
   },
   {
    "duration": 24,
    "start_time": "2023-01-09T08:22:06.542Z"
   },
   {
    "duration": 102,
    "start_time": "2023-01-09T08:32:47.812Z"
   },
   {
    "duration": 89,
    "start_time": "2023-01-09T08:34:29.123Z"
   },
   {
    "duration": 96,
    "start_time": "2023-01-09T08:37:30.718Z"
   },
   {
    "duration": 4,
    "start_time": "2023-01-09T08:37:39.738Z"
   },
   {
    "duration": 24,
    "start_time": "2023-01-09T08:43:55.925Z"
   },
   {
    "duration": 24,
    "start_time": "2023-01-09T08:43:59.236Z"
   },
   {
    "duration": 4,
    "start_time": "2023-01-09T09:06:09.730Z"
   },
   {
    "duration": 24,
    "start_time": "2023-01-09T09:08:39.619Z"
   },
   {
    "duration": 4,
    "start_time": "2023-01-09T11:18:15.924Z"
   },
   {
    "duration": 4,
    "start_time": "2023-01-09T11:18:22.971Z"
   },
   {
    "duration": 69,
    "start_time": "2023-01-09T11:21:32.450Z"
   },
   {
    "duration": 69,
    "start_time": "2023-01-09T11:22:51.025Z"
   },
   {
    "duration": 4,
    "start_time": "2023-01-09T11:23:08.333Z"
   },
   {
    "duration": 4,
    "start_time": "2023-01-09T11:23:20.807Z"
   },
   {
    "duration": 4,
    "start_time": "2023-01-09T11:23:39.097Z"
   },
   {
    "duration": 4,
    "start_time": "2023-01-09T11:23:50.542Z"
   },
   {
    "duration": 2,
    "start_time": "2023-01-09T11:36:07.862Z"
   },
   {
    "duration": 2,
    "start_time": "2023-01-09T11:43:17.783Z"
   },
   {
    "duration": 12,
    "start_time": "2023-01-09T11:46:24.155Z"
   },
   {
    "duration": 5,
    "start_time": "2023-01-09T11:47:09.794Z"
   },
   {
    "duration": 21,
    "start_time": "2023-01-09T11:47:11.773Z"
   },
   {
    "duration": 84,
    "start_time": "2023-01-09T11:47:11.931Z"
   },
   {
    "duration": 24,
    "start_time": "2023-01-09T11:47:12.136Z"
   },
   {
    "duration": 4,
    "start_time": "2023-01-09T11:47:14.389Z"
   },
   {
    "duration": 4,
    "start_time": "2023-01-09T11:47:16.625Z"
   },
   {
    "duration": 25,
    "start_time": "2023-01-09T11:47:16.989Z"
   },
   {
    "duration": 3,
    "start_time": "2023-01-09T11:48:01.815Z"
   },
   {
    "duration": 22,
    "start_time": "2023-01-09T11:48:02.653Z"
   },
   {
    "duration": 7,
    "start_time": "2023-01-09T11:54:21.792Z"
   },
   {
    "duration": 86,
    "start_time": "2023-01-09T11:54:22.134Z"
   },
   {
    "duration": 49,
    "start_time": "2023-01-09T11:54:22.368Z"
   },
   {
    "duration": 186,
    "start_time": "2023-01-09T11:54:22.528Z"
   },
   {
    "duration": 5,
    "start_time": "2023-01-09T11:54:23.971Z"
   },
   {
    "duration": 3,
    "start_time": "2023-01-09T11:54:26.088Z"
   },
   {
    "duration": 23,
    "start_time": "2023-01-09T11:54:26.727Z"
   },
   {
    "duration": 3,
    "start_time": "2023-01-09T11:56:56.574Z"
   },
   {
    "duration": 16,
    "start_time": "2023-01-09T11:56:58.126Z"
   },
   {
    "duration": 4,
    "start_time": "2023-01-09T11:58:08.724Z"
   },
   {
    "duration": 24,
    "start_time": "2023-01-09T11:58:09.235Z"
   },
   {
    "duration": 4,
    "start_time": "2023-01-09T11:59:28.565Z"
   },
   {
    "duration": 15,
    "start_time": "2023-01-09T11:59:29.228Z"
   },
   {
    "duration": 4,
    "start_time": "2023-01-09T12:00:00.725Z"
   },
   {
    "duration": 14,
    "start_time": "2023-01-09T12:00:01.280Z"
   },
   {
    "duration": 3,
    "start_time": "2023-01-09T12:09:29.306Z"
   },
   {
    "duration": 14,
    "start_time": "2023-01-09T12:09:29.791Z"
   },
   {
    "duration": 3,
    "start_time": "2023-01-09T12:09:58.916Z"
   },
   {
    "duration": 21,
    "start_time": "2023-01-09T12:09:59.945Z"
   },
   {
    "duration": 10,
    "start_time": "2023-01-09T12:10:57.389Z"
   },
   {
    "duration": 3,
    "start_time": "2023-01-09T12:11:02.363Z"
   },
   {
    "duration": 23,
    "start_time": "2023-01-09T12:11:02.827Z"
   },
   {
    "duration": 4,
    "start_time": "2023-01-09T12:13:33.223Z"
   },
   {
    "duration": 25,
    "start_time": "2023-01-09T12:13:33.959Z"
   },
   {
    "duration": 89,
    "start_time": "2023-01-09T12:13:34.125Z"
   },
   {
    "duration": 29,
    "start_time": "2023-01-09T12:13:34.314Z"
   },
   {
    "duration": 5,
    "start_time": "2023-01-09T12:13:34.987Z"
   },
   {
    "duration": 3,
    "start_time": "2023-01-09T12:13:36.794Z"
   },
   {
    "duration": 11,
    "start_time": "2023-01-09T12:13:37.433Z"
   },
   {
    "duration": 3,
    "start_time": "2023-01-09T12:13:37.478Z"
   },
   {
    "duration": 12,
    "start_time": "2023-01-09T12:13:38.282Z"
   },
   {
    "duration": 10,
    "start_time": "2023-01-09T12:16:26.586Z"
   },
   {
    "duration": 9,
    "start_time": "2023-01-09T12:16:43.392Z"
   },
   {
    "duration": 6,
    "start_time": "2023-01-09T12:16:57.693Z"
   },
   {
    "duration": 58,
    "start_time": "2023-01-09T12:16:58.555Z"
   },
   {
    "duration": 29,
    "start_time": "2023-01-09T12:16:58.858Z"
   },
   {
    "duration": 25,
    "start_time": "2023-01-09T12:16:59.061Z"
   },
   {
    "duration": 6,
    "start_time": "2023-01-09T12:17:00.219Z"
   },
   {
    "duration": 9,
    "start_time": "2023-01-09T12:17:01.596Z"
   },
   {
    "duration": 10,
    "start_time": "2023-01-09T12:17:15.989Z"
   },
   {
    "duration": 17,
    "start_time": "2023-01-09T12:20:41.364Z"
   },
   {
    "duration": 18,
    "start_time": "2023-01-09T12:20:59.744Z"
   },
   {
    "duration": 31,
    "start_time": "2023-01-09T12:21:06.070Z"
   },
   {
    "duration": 7,
    "start_time": "2023-01-09T12:21:17.677Z"
   },
   {
    "duration": 11,
    "start_time": "2023-01-09T12:21:25.490Z"
   },
   {
    "duration": 3,
    "start_time": "2023-01-09T12:21:47.751Z"
   },
   {
    "duration": 20,
    "start_time": "2023-01-09T12:21:48.367Z"
   },
   {
    "duration": 4,
    "start_time": "2023-01-09T12:26:21.673Z"
   },
   {
    "duration": 25,
    "start_time": "2023-01-09T12:26:22.159Z"
   },
   {
    "duration": 3,
    "start_time": "2023-01-09T12:27:10.150Z"
   },
   {
    "duration": 11,
    "start_time": "2023-01-09T12:27:10.666Z"
   },
   {
    "duration": 104,
    "start_time": "2023-01-09T12:27:50.955Z"
   },
   {
    "duration": 3,
    "start_time": "2023-01-09T12:27:59.026Z"
   },
   {
    "duration": 12,
    "start_time": "2023-01-09T12:28:02.615Z"
   },
   {
    "duration": 3,
    "start_time": "2023-01-09T12:29:31.071Z"
   },
   {
    "duration": 12,
    "start_time": "2023-01-09T12:29:32.334Z"
   },
   {
    "duration": 3,
    "start_time": "2023-01-09T12:32:38.586Z"
   },
   {
    "duration": 15,
    "start_time": "2023-01-09T12:32:39.144Z"
   },
   {
    "duration": 3,
    "start_time": "2023-01-09T12:35:47.813Z"
   },
   {
    "duration": 17,
    "start_time": "2023-01-09T12:35:48.583Z"
   },
   {
    "duration": 3,
    "start_time": "2023-01-09T12:36:32.468Z"
   },
   {
    "duration": 13,
    "start_time": "2023-01-09T12:36:33.031Z"
   },
   {
    "duration": 3,
    "start_time": "2023-01-09T12:36:44.026Z"
   },
   {
    "duration": 23,
    "start_time": "2023-01-09T12:36:44.688Z"
   },
   {
    "duration": 3,
    "start_time": "2023-01-09T12:38:13.665Z"
   },
   {
    "duration": 21,
    "start_time": "2023-01-09T12:38:14.510Z"
   },
   {
    "duration": 4,
    "start_time": "2023-01-09T12:39:58.482Z"
   },
   {
    "duration": 21,
    "start_time": "2023-01-09T12:39:59.196Z"
   },
   {
    "duration": 3,
    "start_time": "2023-01-09T12:40:13.593Z"
   },
   {
    "duration": 20,
    "start_time": "2023-01-09T12:40:14.461Z"
   },
   {
    "duration": 3,
    "start_time": "2023-01-09T12:40:47.814Z"
   },
   {
    "duration": 12,
    "start_time": "2023-01-09T12:40:48.492Z"
   },
   {
    "duration": 3,
    "start_time": "2023-01-09T12:57:39.475Z"
   },
   {
    "duration": 13,
    "start_time": "2023-01-09T12:57:40.000Z"
   },
   {
    "duration": 8,
    "start_time": "2023-01-09T13:09:24.718Z"
   },
   {
    "duration": 7,
    "start_time": "2023-01-09T13:10:29.033Z"
   },
   {
    "duration": 13,
    "start_time": "2023-01-09T13:11:06.901Z"
   },
   {
    "duration": 7,
    "start_time": "2023-01-09T13:11:23.458Z"
   },
   {
    "duration": 17,
    "start_time": "2023-01-09T13:16:17.491Z"
   },
   {
    "duration": 16,
    "start_time": "2023-01-09T13:16:40.531Z"
   },
   {
    "duration": 13,
    "start_time": "2023-01-09T13:20:16.501Z"
   },
   {
    "duration": 19,
    "start_time": "2023-01-09T13:20:25.583Z"
   },
   {
    "duration": 11,
    "start_time": "2023-01-09T13:22:43.893Z"
   },
   {
    "duration": 14,
    "start_time": "2023-01-09T13:22:52.584Z"
   },
   {
    "duration": 69,
    "start_time": "2023-01-09T13:23:02.171Z"
   },
   {
    "duration": 16,
    "start_time": "2023-01-09T13:23:06.027Z"
   },
   {
    "duration": 32,
    "start_time": "2023-01-09T13:25:23.471Z"
   },
   {
    "duration": 5,
    "start_time": "2023-01-09T13:26:35.548Z"
   },
   {
    "duration": 5,
    "start_time": "2023-01-09T13:32:38.298Z"
   },
   {
    "duration": 27,
    "start_time": "2023-01-09T13:32:39.444Z"
   },
   {
    "duration": 27,
    "start_time": "2023-01-09T13:32:39.636Z"
   },
   {
    "duration": 28,
    "start_time": "2023-01-09T13:32:39.853Z"
   },
   {
    "duration": 4,
    "start_time": "2023-01-09T13:32:41.843Z"
   },
   {
    "duration": 41,
    "start_time": "2023-01-09T13:32:44.348Z"
   },
   {
    "duration": 39,
    "start_time": "2023-01-09T13:34:00.242Z"
   },
   {
    "duration": 5,
    "start_time": "2023-01-09T13:34:00.640Z"
   },
   {
    "duration": 10,
    "start_time": "2023-01-09T13:34:35.182Z"
   },
   {
    "duration": 3,
    "start_time": "2023-01-09T13:35:31.382Z"
   },
   {
    "duration": 9,
    "start_time": "2023-01-09T13:35:31.774Z"
   },
   {
    "duration": 10,
    "start_time": "2023-01-09T13:36:17.257Z"
   },
   {
    "duration": 74,
    "start_time": "2023-01-09T13:37:59.130Z"
   },
   {
    "duration": 5,
    "start_time": "2023-01-09T13:38:07.797Z"
   },
   {
    "duration": 19,
    "start_time": "2023-01-09T13:38:09.567Z"
   },
   {
    "duration": 11,
    "start_time": "2023-01-09T13:38:32.324Z"
   },
   {
    "duration": 4,
    "start_time": "2023-01-09T13:39:03.676Z"
   },
   {
    "duration": 10,
    "start_time": "2023-01-09T13:39:04.218Z"
   },
   {
    "duration": 3,
    "start_time": "2023-01-09T13:39:16.129Z"
   },
   {
    "duration": 8,
    "start_time": "2023-01-09T13:39:17.354Z"
   },
   {
    "duration": 8,
    "start_time": "2023-01-09T13:41:38.134Z"
   },
   {
    "duration": 4,
    "start_time": "2023-01-09T13:46:38.247Z"
   },
   {
    "duration": 9,
    "start_time": "2023-01-09T13:46:38.753Z"
   },
   {
    "duration": 4,
    "start_time": "2023-01-09T13:57:35.241Z"
   },
   {
    "duration": 9,
    "start_time": "2023-01-09T13:57:57.195Z"
   },
   {
    "duration": 9,
    "start_time": "2023-01-09T13:58:33.046Z"
   },
   {
    "duration": 12,
    "start_time": "2023-01-09T14:01:48.945Z"
   },
   {
    "duration": 10,
    "start_time": "2023-01-09T14:01:51.580Z"
   },
   {
    "duration": 11,
    "start_time": "2023-01-09T14:01:54.110Z"
   },
   {
    "duration": 10,
    "start_time": "2023-01-09T14:01:54.784Z"
   },
   {
    "duration": 4,
    "start_time": "2023-01-09T14:02:11.042Z"
   },
   {
    "duration": 10,
    "start_time": "2023-01-09T14:02:11.413Z"
   },
   {
    "duration": 8,
    "start_time": "2023-01-09T14:02:12.412Z"
   },
   {
    "duration": 8,
    "start_time": "2023-01-09T14:02:27.477Z"
   },
   {
    "duration": 8,
    "start_time": "2023-01-09T14:02:32.379Z"
   },
   {
    "duration": 3,
    "start_time": "2023-01-09T14:02:39.005Z"
   },
   {
    "duration": 132,
    "start_time": "2023-01-09T14:02:40.082Z"
   },
   {
    "duration": 352,
    "start_time": "2023-01-09T14:02:40.322Z"
   },
   {
    "duration": 113,
    "start_time": "2023-01-09T14:02:40.714Z"
   },
   {
    "duration": 18,
    "start_time": "2023-01-09T14:02:40.960Z"
   },
   {
    "duration": 34,
    "start_time": "2023-01-09T14:02:41.206Z"
   },
   {
    "duration": 134,
    "start_time": "2023-01-09T14:02:41.453Z"
   },
   {
    "duration": 7,
    "start_time": "2023-01-09T14:02:42.485Z"
   },
   {
    "duration": 937,
    "start_time": "2023-01-09T14:02:42.979Z"
   },
   {
    "duration": 40,
    "start_time": "2023-01-09T14:02:44.939Z"
   },
   {
    "duration": 5,
    "start_time": "2023-01-09T14:02:46.265Z"
   },
   {
    "duration": 29,
    "start_time": "2023-01-09T14:02:47.068Z"
   },
   {
    "duration": 35,
    "start_time": "2023-01-09T14:02:47.492Z"
   },
   {
    "duration": 42,
    "start_time": "2023-01-09T14:02:47.873Z"
   },
   {
    "duration": 4,
    "start_time": "2023-01-09T14:02:49.620Z"
   },
   {
    "duration": 3,
    "start_time": "2023-01-09T14:02:52.680Z"
   },
   {
    "duration": 21,
    "start_time": "2023-01-09T14:02:53.155Z"
   },
   {
    "duration": 4,
    "start_time": "2023-01-09T14:03:50.736Z"
   },
   {
    "duration": 22,
    "start_time": "2023-01-09T14:03:51.552Z"
   },
   {
    "duration": 5,
    "start_time": "2023-01-09T14:04:35.879Z"
   },
   {
    "duration": 26,
    "start_time": "2023-01-09T14:04:37.544Z"
   },
   {
    "duration": 103,
    "start_time": "2023-01-09T14:04:37.810Z"
   },
   {
    "duration": 86,
    "start_time": "2023-01-09T14:04:38.031Z"
   },
   {
    "duration": 4,
    "start_time": "2023-01-09T14:04:38.834Z"
   },
   {
    "duration": 3,
    "start_time": "2023-01-09T14:04:47.815Z"
   },
   {
    "duration": 8,
    "start_time": "2023-01-09T14:04:48.570Z"
   },
   {
    "duration": 9,
    "start_time": "2023-01-09T14:04:50.012Z"
   },
   {
    "duration": 9,
    "start_time": "2023-01-09T14:04:50.550Z"
   },
   {
    "duration": 3,
    "start_time": "2023-01-09T14:09:06.432Z"
   },
   {
    "duration": 8,
    "start_time": "2023-01-09T14:09:09.266Z"
   },
   {
    "duration": 72,
    "start_time": "2023-01-09T14:27:04.747Z"
   },
   {
    "duration": 5,
    "start_time": "2023-01-09T14:27:15.041Z"
   },
   {
    "duration": 14,
    "start_time": "2023-01-09T14:27:47.621Z"
   },
   {
    "duration": 6,
    "start_time": "2023-01-09T14:28:03.831Z"
   },
   {
    "duration": 15,
    "start_time": "2023-01-09T14:28:04.414Z"
   },
   {
    "duration": 5,
    "start_time": "2023-01-09T14:28:22.694Z"
   },
   {
    "duration": 17,
    "start_time": "2023-01-09T14:28:23.398Z"
   },
   {
    "duration": 7,
    "start_time": "2023-01-09T14:28:34.699Z"
   },
   {
    "duration": 10,
    "start_time": "2023-01-09T14:28:35.328Z"
   },
   {
    "duration": 8,
    "start_time": "2023-01-09T14:35:24.393Z"
   },
   {
    "duration": 6,
    "start_time": "2023-01-09T14:36:53.253Z"
   },
   {
    "duration": 8,
    "start_time": "2023-01-09T14:36:53.798Z"
   },
   {
    "duration": 5,
    "start_time": "2023-01-09T14:39:23.640Z"
   },
   {
    "duration": 8,
    "start_time": "2023-01-09T14:39:52.611Z"
   },
   {
    "duration": 6,
    "start_time": "2023-01-09T14:41:00.452Z"
   },
   {
    "duration": 17,
    "start_time": "2023-01-09T14:41:30.611Z"
   },
   {
    "duration": 4,
    "start_time": "2023-01-09T14:41:46.595Z"
   },
   {
    "duration": 9,
    "start_time": "2023-01-09T14:41:47.455Z"
   },
   {
    "duration": 4,
    "start_time": "2023-01-09T14:52:53.658Z"
   },
   {
    "duration": 9,
    "start_time": "2023-01-09T14:52:54.163Z"
   },
   {
    "duration": 44,
    "start_time": "2023-01-10T06:54:39.797Z"
   },
   {
    "duration": 1036,
    "start_time": "2023-01-10T06:54:45.565Z"
   },
   {
    "duration": 218,
    "start_time": "2023-01-10T06:54:46.603Z"
   },
   {
    "duration": 365,
    "start_time": "2023-01-10T06:54:46.823Z"
   },
   {
    "duration": 220,
    "start_time": "2023-01-10T06:54:47.190Z"
   },
   {
    "duration": 14,
    "start_time": "2023-01-10T06:54:47.412Z"
   },
   {
    "duration": 36,
    "start_time": "2023-01-10T06:54:47.428Z"
   },
   {
    "duration": 149,
    "start_time": "2023-01-10T06:54:47.466Z"
   },
   {
    "duration": 8,
    "start_time": "2023-01-10T06:54:47.616Z"
   },
   {
    "duration": 1207,
    "start_time": "2023-01-10T06:54:47.626Z"
   },
   {
    "duration": 39,
    "start_time": "2023-01-10T06:54:48.835Z"
   },
   {
    "duration": 4,
    "start_time": "2023-01-10T06:54:48.876Z"
   },
   {
    "duration": 111,
    "start_time": "2023-01-10T06:54:51.411Z"
   },
   {
    "duration": 5,
    "start_time": "2023-01-10T06:55:11.648Z"
   },
   {
    "duration": 31,
    "start_time": "2023-01-10T06:55:12.689Z"
   },
   {
    "duration": 6,
    "start_time": "2023-01-10T06:55:34.973Z"
   },
   {
    "duration": 5,
    "start_time": "2023-01-10T06:55:51.041Z"
   },
   {
    "duration": 21,
    "start_time": "2023-01-10T06:55:52.123Z"
   },
   {
    "duration": 6,
    "start_time": "2023-01-10T06:55:52.890Z"
   },
   {
    "duration": 5,
    "start_time": "2023-01-10T06:57:44.051Z"
   },
   {
    "duration": 5,
    "start_time": "2023-01-10T06:57:54.643Z"
   },
   {
    "duration": 28,
    "start_time": "2023-01-10T07:01:58.235Z"
   },
   {
    "duration": 23,
    "start_time": "2023-01-10T07:01:58.412Z"
   },
   {
    "duration": 24,
    "start_time": "2023-01-10T07:01:58.613Z"
   },
   {
    "duration": 5,
    "start_time": "2023-01-10T07:02:01.998Z"
   },
   {
    "duration": 3,
    "start_time": "2023-01-10T07:02:13.020Z"
   },
   {
    "duration": 8,
    "start_time": "2023-01-10T07:02:13.356Z"
   },
   {
    "duration": 11,
    "start_time": "2023-01-10T07:02:13.646Z"
   },
   {
    "duration": 8,
    "start_time": "2023-01-10T07:02:14.357Z"
   },
   {
    "duration": 5,
    "start_time": "2023-01-10T07:41:45.903Z"
   },
   {
    "duration": 12,
    "start_time": "2023-01-10T07:41:46.380Z"
   },
   {
    "duration": 8,
    "start_time": "2023-01-10T07:41:49.783Z"
   },
   {
    "duration": 12,
    "start_time": "2023-01-10T07:41:51.032Z"
   },
   {
    "duration": 12,
    "start_time": "2023-01-10T07:42:28.466Z"
   },
   {
    "duration": 9,
    "start_time": "2023-01-10T07:42:29.364Z"
   },
   {
    "duration": 11,
    "start_time": "2023-01-10T07:42:30.104Z"
   },
   {
    "duration": 4,
    "start_time": "2023-01-10T07:43:14.964Z"
   },
   {
    "duration": 8,
    "start_time": "2023-01-10T07:43:15.291Z"
   },
   {
    "duration": 10,
    "start_time": "2023-01-10T07:43:15.926Z"
   },
   {
    "duration": 13,
    "start_time": "2023-01-10T07:43:16.463Z"
   },
   {
    "duration": 5,
    "start_time": "2023-01-10T07:45:07.154Z"
   },
   {
    "duration": 80,
    "start_time": "2023-01-10T07:45:07.692Z"
   },
   {
    "duration": 4,
    "start_time": "2023-01-10T07:45:53.302Z"
   },
   {
    "duration": 5,
    "start_time": "2023-01-10T07:45:53.783Z"
   },
   {
    "duration": 10,
    "start_time": "2023-01-10T07:45:54.375Z"
   },
   {
    "duration": 5,
    "start_time": "2023-01-10T07:46:31.043Z"
   },
   {
    "duration": 23,
    "start_time": "2023-01-10T07:46:32.178Z"
   },
   {
    "duration": 6,
    "start_time": "2023-01-10T07:47:06.369Z"
   },
   {
    "duration": 1390,
    "start_time": "2023-01-10T07:47:07.018Z"
   },
   {
    "duration": 4,
    "start_time": "2023-01-10T08:02:42.216Z"
   },
   {
    "duration": 1364,
    "start_time": "2023-01-10T08:02:42.776Z"
   },
   {
    "duration": 5,
    "start_time": "2023-01-10T08:06:44.305Z"
   },
   {
    "duration": 1384,
    "start_time": "2023-01-10T08:06:44.859Z"
   },
   {
    "duration": 4,
    "start_time": "2023-01-10T08:07:25.145Z"
   },
   {
    "duration": 1482,
    "start_time": "2023-01-10T08:07:25.704Z"
   },
   {
    "duration": 5,
    "start_time": "2023-01-10T08:07:47.020Z"
   },
   {
    "duration": 1408,
    "start_time": "2023-01-10T08:07:47.546Z"
   },
   {
    "duration": 5,
    "start_time": "2023-01-10T08:08:18.210Z"
   },
   {
    "duration": 1379,
    "start_time": "2023-01-10T08:08:18.708Z"
   },
   {
    "duration": 5,
    "start_time": "2023-01-10T08:08:41.248Z"
   },
   {
    "duration": 1390,
    "start_time": "2023-01-10T08:08:41.908Z"
   },
   {
    "duration": 4,
    "start_time": "2023-01-10T08:09:20.810Z"
   },
   {
    "duration": 1379,
    "start_time": "2023-01-10T08:09:21.441Z"
   },
   {
    "duration": 5,
    "start_time": "2023-01-10T08:10:04.010Z"
   },
   {
    "duration": 1385,
    "start_time": "2023-01-10T08:10:04.608Z"
   },
   {
    "duration": 5,
    "start_time": "2023-01-10T08:10:34.951Z"
   },
   {
    "duration": 1446,
    "start_time": "2023-01-10T08:10:35.416Z"
   },
   {
    "duration": 4,
    "start_time": "2023-01-10T08:20:36.854Z"
   },
   {
    "duration": 12,
    "start_time": "2023-01-10T08:20:45.439Z"
   },
   {
    "duration": 10,
    "start_time": "2023-01-10T08:20:51.050Z"
   },
   {
    "duration": 5,
    "start_time": "2023-01-10T08:20:59.110Z"
   },
   {
    "duration": 1338,
    "start_time": "2023-01-10T08:29:23.703Z"
   },
   {
    "duration": 5,
    "start_time": "2023-01-10T08:30:18.354Z"
   },
   {
    "duration": 1412,
    "start_time": "2023-01-10T08:30:18.931Z"
   },
   {
    "duration": 5,
    "start_time": "2023-01-10T08:30:43.767Z"
   },
   {
    "duration": 1448,
    "start_time": "2023-01-10T08:30:44.841Z"
   },
   {
    "duration": 5,
    "start_time": "2023-01-10T08:30:55.631Z"
   },
   {
    "duration": 1456,
    "start_time": "2023-01-10T08:30:56.412Z"
   },
   {
    "duration": 1408,
    "start_time": "2023-01-10T08:31:27.904Z"
   },
   {
    "duration": 4,
    "start_time": "2023-01-10T08:31:33.520Z"
   },
   {
    "duration": 1342,
    "start_time": "2023-01-10T08:31:34.377Z"
   },
   {
    "duration": 1367,
    "start_time": "2023-01-10T08:32:17.499Z"
   },
   {
    "duration": 94,
    "start_time": "2023-01-10T08:32:18.869Z"
   },
   {
    "duration": 1372,
    "start_time": "2023-01-10T08:32:45.105Z"
   },
   {
    "duration": 1364,
    "start_time": "2023-01-10T08:33:00.150Z"
   },
   {
    "duration": 1424,
    "start_time": "2023-01-10T08:33:15.547Z"
   },
   {
    "duration": 1377,
    "start_time": "2023-01-10T08:33:30.644Z"
   },
   {
    "duration": 5,
    "start_time": "2023-01-10T08:33:53.452Z"
   },
   {
    "duration": 1371,
    "start_time": "2023-01-10T08:33:53.971Z"
   },
   {
    "duration": 4,
    "start_time": "2023-01-10T08:34:21.404Z"
   },
   {
    "duration": 1351,
    "start_time": "2023-01-10T08:34:22.667Z"
   },
   {
    "duration": 4,
    "start_time": "2023-01-10T08:34:50.135Z"
   },
   {
    "duration": 145,
    "start_time": "2023-01-10T08:34:50.510Z"
   },
   {
    "duration": 324,
    "start_time": "2023-01-10T08:34:50.709Z"
   },
   {
    "duration": 113,
    "start_time": "2023-01-10T08:34:51.035Z"
   },
   {
    "duration": 21,
    "start_time": "2023-01-10T08:34:51.150Z"
   },
   {
    "duration": 38,
    "start_time": "2023-01-10T08:34:51.240Z"
   },
   {
    "duration": 135,
    "start_time": "2023-01-10T08:34:51.408Z"
   },
   {
    "duration": 10,
    "start_time": "2023-01-10T08:34:51.811Z"
   },
   {
    "duration": 977,
    "start_time": "2023-01-10T08:34:52.002Z"
   },
   {
    "duration": 50,
    "start_time": "2023-01-10T08:34:52.981Z"
   },
   {
    "duration": 5,
    "start_time": "2023-01-10T08:34:53.204Z"
   },
   {
    "duration": 51,
    "start_time": "2023-01-10T08:34:53.670Z"
   },
   {
    "duration": 111,
    "start_time": "2023-01-10T08:34:54.005Z"
   },
   {
    "duration": 31,
    "start_time": "2023-01-10T08:34:54.377Z"
   },
   {
    "duration": 4,
    "start_time": "2023-01-10T08:34:55.875Z"
   },
   {
    "duration": 3,
    "start_time": "2023-01-10T08:34:58.474Z"
   },
   {
    "duration": 10,
    "start_time": "2023-01-10T08:34:59.002Z"
   },
   {
    "duration": 11,
    "start_time": "2023-01-10T08:35:00.059Z"
   },
   {
    "duration": 9,
    "start_time": "2023-01-10T08:35:03.395Z"
   },
   {
    "duration": 4,
    "start_time": "2023-01-10T08:35:04.341Z"
   },
   {
    "duration": 5,
    "start_time": "2023-01-10T08:35:07.017Z"
   },
   {
    "duration": 1442,
    "start_time": "2023-01-10T08:35:08.343Z"
   },
   {
    "duration": 1333,
    "start_time": "2023-01-10T08:35:23.105Z"
   },
   {
    "duration": 89,
    "start_time": "2023-01-10T08:35:30.366Z"
   },
   {
    "duration": 1409,
    "start_time": "2023-01-10T08:35:32.457Z"
   },
   {
    "duration": 4,
    "start_time": "2023-01-10T08:40:09.141Z"
   },
   {
    "duration": 1404,
    "start_time": "2023-01-10T08:40:09.658Z"
   },
   {
    "duration": 1434,
    "start_time": "2023-01-10T08:43:38.366Z"
   },
   {
    "duration": 124,
    "start_time": "2023-01-10T08:44:35.698Z"
   },
   {
    "duration": 35,
    "start_time": "2023-01-10T08:44:36.198Z"
   },
   {
    "duration": 80,
    "start_time": "2023-01-10T08:44:37.632Z"
   },
   {
    "duration": 5,
    "start_time": "2023-01-10T08:45:09.249Z"
   },
   {
    "duration": 1436,
    "start_time": "2023-01-10T08:45:09.847Z"
   },
   {
    "duration": 6,
    "start_time": "2023-01-10T08:47:04.918Z"
   },
   {
    "duration": 6,
    "start_time": "2023-01-10T08:47:15.778Z"
   },
   {
    "duration": 1572,
    "start_time": "2023-01-10T08:47:16.412Z"
   },
   {
    "duration": 5,
    "start_time": "2023-01-10T08:47:50.649Z"
   },
   {
    "duration": 1430,
    "start_time": "2023-01-10T08:47:51.255Z"
   },
   {
    "duration": 5,
    "start_time": "2023-01-10T08:48:22.825Z"
   },
   {
    "duration": 1470,
    "start_time": "2023-01-10T08:48:23.780Z"
   },
   {
    "duration": 1388,
    "start_time": "2023-01-10T08:49:29.517Z"
   },
   {
    "duration": 1582,
    "start_time": "2023-01-10T08:50:36.774Z"
   },
   {
    "duration": 11,
    "start_time": "2023-01-10T08:56:29.376Z"
   },
   {
    "duration": 15,
    "start_time": "2023-01-10T08:57:35.759Z"
   },
   {
    "duration": 78,
    "start_time": "2023-01-10T08:58:56.173Z"
   },
   {
    "duration": 12,
    "start_time": "2023-01-10T08:59:13.052Z"
   },
   {
    "duration": 10,
    "start_time": "2023-01-10T08:59:25.196Z"
   },
   {
    "duration": 10,
    "start_time": "2023-01-10T08:59:48.565Z"
   },
   {
    "duration": 74,
    "start_time": "2023-01-10T09:00:56.410Z"
   },
   {
    "duration": 16,
    "start_time": "2023-01-10T09:01:00.211Z"
   },
   {
    "duration": 19,
    "start_time": "2023-01-10T09:01:12.945Z"
   },
   {
    "duration": 15,
    "start_time": "2023-01-10T09:02:23.100Z"
   },
   {
    "duration": 19,
    "start_time": "2023-01-10T09:02:26.592Z"
   },
   {
    "duration": 5,
    "start_time": "2023-01-10T09:02:31.390Z"
   },
   {
    "duration": 14,
    "start_time": "2023-01-10T09:02:32.136Z"
   },
   {
    "duration": 15,
    "start_time": "2023-01-10T09:04:58.394Z"
   },
   {
    "duration": 19,
    "start_time": "2023-01-10T09:06:28.349Z"
   },
   {
    "duration": 4625,
    "start_time": "2023-01-10T09:07:53.929Z"
   },
   {
    "duration": 1370,
    "start_time": "2023-01-10T09:13:26.998Z"
   },
   {
    "duration": 53,
    "start_time": "2023-01-10T09:13:40.941Z"
   },
   {
    "duration": 4056,
    "start_time": "2023-01-10T09:14:18.556Z"
   },
   {
    "duration": 5,
    "start_time": "2023-01-10T09:14:46.501Z"
   },
   {
    "duration": 9,
    "start_time": "2023-01-10T09:14:48.541Z"
   },
   {
    "duration": 11,
    "start_time": "2023-01-10T09:14:49.190Z"
   },
   {
    "duration": 11,
    "start_time": "2023-01-10T09:14:49.652Z"
   },
   {
    "duration": 4328,
    "start_time": "2023-01-10T09:15:44.072Z"
   },
   {
    "duration": 13,
    "start_time": "2023-01-10T09:18:27.830Z"
   },
   {
    "duration": 11,
    "start_time": "2023-01-10T09:18:34.266Z"
   },
   {
    "duration": 10,
    "start_time": "2023-01-10T09:18:40.229Z"
   },
   {
    "duration": 13,
    "start_time": "2023-01-10T09:18:52.989Z"
   },
   {
    "duration": 12,
    "start_time": "2023-01-10T09:18:57.052Z"
   },
   {
    "duration": 5,
    "start_time": "2023-01-10T09:21:12.911Z"
   },
   {
    "duration": 4314,
    "start_time": "2023-01-10T09:21:13.758Z"
   },
   {
    "duration": 5,
    "start_time": "2023-01-10T09:26:54.473Z"
   },
   {
    "duration": 12,
    "start_time": "2023-01-10T09:26:55.456Z"
   },
   {
    "duration": 4,
    "start_time": "2023-01-10T09:27:35.271Z"
   },
   {
    "duration": 4230,
    "start_time": "2023-01-10T09:27:35.896Z"
   },
   {
    "duration": 4,
    "start_time": "2023-01-10T09:29:52.225Z"
   },
   {
    "duration": 4,
    "start_time": "2023-01-10T09:29:55.033Z"
   },
   {
    "duration": 13,
    "start_time": "2023-01-10T09:29:55.709Z"
   },
   {
    "duration": 11,
    "start_time": "2023-01-10T09:29:59.252Z"
   },
   {
    "duration": 10,
    "start_time": "2023-01-10T09:30:00.310Z"
   },
   {
    "duration": 3,
    "start_time": "2023-01-10T09:30:03.332Z"
   },
   {
    "duration": 5,
    "start_time": "2023-01-10T09:30:04.081Z"
   },
   {
    "duration": 4013,
    "start_time": "2023-01-10T09:30:05.052Z"
   },
   {
    "duration": 4,
    "start_time": "2023-01-10T09:31:23.906Z"
   },
   {
    "duration": 4,
    "start_time": "2023-01-10T09:31:30.322Z"
   },
   {
    "duration": 11,
    "start_time": "2023-01-10T09:31:30.929Z"
   },
   {
    "duration": 4045,
    "start_time": "2023-01-10T09:32:30.337Z"
   },
   {
    "duration": 4,
    "start_time": "2023-01-10T09:34:12.729Z"
   },
   {
    "duration": 3,
    "start_time": "2023-01-10T09:34:17.388Z"
   },
   {
    "duration": 9,
    "start_time": "2023-01-10T09:34:17.916Z"
   },
   {
    "duration": 12,
    "start_time": "2023-01-10T09:34:19.204Z"
   },
   {
    "duration": 9,
    "start_time": "2023-01-10T09:34:19.770Z"
   },
   {
    "duration": 3,
    "start_time": "2023-01-10T09:34:22.682Z"
   },
   {
    "duration": 4,
    "start_time": "2023-01-10T09:34:22.957Z"
   },
   {
    "duration": 4245,
    "start_time": "2023-01-10T09:34:23.977Z"
   },
   {
    "duration": 4,
    "start_time": "2023-01-10T09:35:21.388Z"
   },
   {
    "duration": 4,
    "start_time": "2023-01-10T09:35:23.775Z"
   },
   {
    "duration": 9,
    "start_time": "2023-01-10T09:35:24.055Z"
   },
   {
    "duration": 13,
    "start_time": "2023-01-10T09:35:41.458Z"
   },
   {
    "duration": 12,
    "start_time": "2023-01-10T09:35:42.062Z"
   },
   {
    "duration": 4,
    "start_time": "2023-01-10T09:35:43.416Z"
   },
   {
    "duration": 4,
    "start_time": "2023-01-10T09:35:46.108Z"
   },
   {
    "duration": 4092,
    "start_time": "2023-01-10T09:35:47.392Z"
   },
   {
    "duration": 3,
    "start_time": "2023-01-10T09:36:10.477Z"
   },
   {
    "duration": 133,
    "start_time": "2023-01-10T09:36:16.136Z"
   },
   {
    "duration": 500,
    "start_time": "2023-01-10T09:36:16.606Z"
   },
   {
    "duration": 137,
    "start_time": "2023-01-10T09:36:17.500Z"
   },
   {
    "duration": 20,
    "start_time": "2023-01-10T09:36:19.250Z"
   },
   {
    "duration": 34,
    "start_time": "2023-01-10T09:36:21.127Z"
   },
   {
    "duration": 113,
    "start_time": "2023-01-10T09:36:32.982Z"
   },
   {
    "duration": 7,
    "start_time": "2023-01-10T09:36:35.443Z"
   },
   {
    "duration": 913,
    "start_time": "2023-01-10T09:36:36.436Z"
   },
   {
    "duration": 38,
    "start_time": "2023-01-10T09:36:40.466Z"
   },
   {
    "duration": 5,
    "start_time": "2023-01-10T09:36:48.544Z"
   },
   {
    "duration": 34,
    "start_time": "2023-01-10T09:37:02.048Z"
   },
   {
    "duration": 25,
    "start_time": "2023-01-10T09:37:03.070Z"
   },
   {
    "duration": 32,
    "start_time": "2023-01-10T09:37:03.784Z"
   },
   {
    "duration": 5,
    "start_time": "2023-01-10T09:37:11.591Z"
   },
   {
    "duration": 3,
    "start_time": "2023-01-10T09:37:16.979Z"
   },
   {
    "duration": 10,
    "start_time": "2023-01-10T09:37:17.362Z"
   },
   {
    "duration": 10,
    "start_time": "2023-01-10T09:37:18.053Z"
   },
   {
    "duration": 9,
    "start_time": "2023-01-10T09:37:18.567Z"
   },
   {
    "duration": 4,
    "start_time": "2023-01-10T09:37:27.628Z"
   },
   {
    "duration": 7,
    "start_time": "2023-01-10T09:37:29.345Z"
   },
   {
    "duration": 4104,
    "start_time": "2023-01-10T09:37:31.030Z"
   },
   {
    "duration": 5,
    "start_time": "2023-01-10T09:38:46.746Z"
   },
   {
    "duration": 3,
    "start_time": "2023-01-10T09:38:48.863Z"
   },
   {
    "duration": 9,
    "start_time": "2023-01-10T09:38:49.433Z"
   },
   {
    "duration": 4,
    "start_time": "2023-01-10T09:40:25.123Z"
   },
   {
    "duration": 10,
    "start_time": "2023-01-10T09:40:25.677Z"
   },
   {
    "duration": 13,
    "start_time": "2023-01-10T09:40:26.434Z"
   },
   {
    "duration": 3,
    "start_time": "2023-01-10T09:41:04.310Z"
   },
   {
    "duration": 10,
    "start_time": "2023-01-10T09:41:04.792Z"
   },
   {
    "duration": 4,
    "start_time": "2023-01-10T09:41:18.397Z"
   },
   {
    "duration": 12,
    "start_time": "2023-01-10T09:41:18.911Z"
   },
   {
    "duration": 3,
    "start_time": "2023-01-10T09:43:20.599Z"
   },
   {
    "duration": 10,
    "start_time": "2023-01-10T09:43:21.358Z"
   },
   {
    "duration": 11,
    "start_time": "2023-01-10T10:10:14.949Z"
   },
   {
    "duration": 4,
    "start_time": "2023-01-10T10:10:39.112Z"
   },
   {
    "duration": 9,
    "start_time": "2023-01-10T10:10:39.672Z"
   },
   {
    "duration": 4,
    "start_time": "2023-01-10T10:10:57.683Z"
   },
   {
    "duration": 10,
    "start_time": "2023-01-10T10:10:58.165Z"
   },
   {
    "duration": 4,
    "start_time": "2023-01-10T10:10:58.879Z"
   },
   {
    "duration": 7,
    "start_time": "2023-01-10T10:10:59.331Z"
   },
   {
    "duration": 12,
    "start_time": "2023-01-10T10:11:00.256Z"
   },
   {
    "duration": 3,
    "start_time": "2023-01-10T10:11:50.066Z"
   },
   {
    "duration": 10,
    "start_time": "2023-01-10T10:11:51.138Z"
   },
   {
    "duration": 5,
    "start_time": "2023-01-10T10:13:32.754Z"
   },
   {
    "duration": 6,
    "start_time": "2023-01-10T10:13:33.312Z"
   },
   {
    "duration": 13,
    "start_time": "2023-01-10T10:13:33.818Z"
   },
   {
    "duration": 4366,
    "start_time": "2023-01-10T10:13:43.839Z"
   },
   {
    "duration": 6,
    "start_time": "2023-01-10T10:16:55.112Z"
   },
   {
    "duration": 4300,
    "start_time": "2023-01-10T10:16:55.859Z"
   },
   {
    "duration": 4174,
    "start_time": "2023-01-10T10:43:19.550Z"
   },
   {
    "duration": 4293,
    "start_time": "2023-01-10T10:58:37.156Z"
   },
   {
    "duration": 4249,
    "start_time": "2023-01-10T11:15:18.355Z"
   },
   {
    "duration": 4,
    "start_time": "2023-01-10T11:15:56.325Z"
   },
   {
    "duration": 4084,
    "start_time": "2023-01-10T11:15:57.210Z"
   },
   {
    "duration": 1023,
    "start_time": "2023-01-10T11:28:09.704Z"
   },
   {
    "duration": 897,
    "start_time": "2023-01-10T11:28:24.304Z"
   },
   {
    "duration": 982,
    "start_time": "2023-01-10T11:29:31.912Z"
   },
   {
    "duration": 41,
    "start_time": "2023-01-10T11:31:56.111Z"
   },
   {
    "duration": 5,
    "start_time": "2023-01-10T11:32:14.495Z"
   },
   {
    "duration": 5,
    "start_time": "2023-01-10T11:35:40.053Z"
   },
   {
    "duration": 29,
    "start_time": "2023-01-10T11:35:41.179Z"
   },
   {
    "duration": 123,
    "start_time": "2023-01-10T11:35:43.089Z"
   },
   {
    "duration": 26,
    "start_time": "2023-01-10T11:35:44.139Z"
   },
   {
    "duration": 5,
    "start_time": "2023-01-10T11:36:03.408Z"
   },
   {
    "duration": 30,
    "start_time": "2023-01-10T11:36:04.732Z"
   },
   {
    "duration": 30,
    "start_time": "2023-01-10T11:36:06.324Z"
   },
   {
    "duration": 7,
    "start_time": "2023-01-10T11:36:21.617Z"
   },
   {
    "duration": 28,
    "start_time": "2023-01-10T11:36:22.737Z"
   },
   {
    "duration": 44,
    "start_time": "2023-01-10T11:36:25.371Z"
   },
   {
    "duration": 33,
    "start_time": "2023-01-10T11:36:26.583Z"
   },
   {
    "duration": 4,
    "start_time": "2023-01-10T11:47:38.599Z"
   },
   {
    "duration": 5,
    "start_time": "2023-01-10T11:49:05.040Z"
   },
   {
    "duration": 5,
    "start_time": "2023-01-10T11:56:51.554Z"
   },
   {
    "duration": 4323,
    "start_time": "2023-01-10T11:58:28.712Z"
   },
   {
    "duration": 147,
    "start_time": "2023-01-10T12:27:32.587Z"
   },
   {
    "duration": 892,
    "start_time": "2023-01-10T12:28:32.470Z"
   },
   {
    "duration": 1107,
    "start_time": "2023-01-10T12:29:05.770Z"
   },
   {
    "duration": 41,
    "start_time": "2023-01-10T12:29:44.269Z"
   },
   {
    "duration": 5,
    "start_time": "2023-01-10T12:35:19.723Z"
   },
   {
    "duration": 59,
    "start_time": "2023-01-10T12:35:36.229Z"
   },
   {
    "duration": 12,
    "start_time": "2023-01-10T12:35:50.862Z"
   },
   {
    "duration": 52,
    "start_time": "2023-01-10T12:36:27.546Z"
   },
   {
    "duration": 58,
    "start_time": "2023-01-10T12:36:41.280Z"
   },
   {
    "duration": 66,
    "start_time": "2023-01-10T12:37:32.036Z"
   },
   {
    "duration": 58,
    "start_time": "2023-01-10T12:38:03.333Z"
   },
   {
    "duration": 78,
    "start_time": "2023-01-10T12:38:09.389Z"
   },
   {
    "duration": 12,
    "start_time": "2023-01-10T12:38:34.091Z"
   },
   {
    "duration": 10,
    "start_time": "2023-01-10T12:38:53.669Z"
   },
   {
    "duration": 5,
    "start_time": "2023-01-10T12:39:04.485Z"
   },
   {
    "duration": 4284,
    "start_time": "2023-01-10T12:43:21.276Z"
   },
   {
    "duration": 63,
    "start_time": "2023-01-10T13:01:07.050Z"
   },
   {
    "duration": 4,
    "start_time": "2023-01-10T13:05:04.879Z"
   },
   {
    "duration": 131,
    "start_time": "2023-01-10T13:05:05.333Z"
   },
   {
    "duration": 318,
    "start_time": "2023-01-10T13:05:05.788Z"
   },
   {
    "duration": 128,
    "start_time": "2023-01-10T13:05:06.990Z"
   },
   {
    "duration": 17,
    "start_time": "2023-01-10T13:05:09.679Z"
   },
   {
    "duration": 37,
    "start_time": "2023-01-10T13:05:11.900Z"
   },
   {
    "duration": 116,
    "start_time": "2023-01-10T13:05:12.765Z"
   },
   {
    "duration": 7,
    "start_time": "2023-01-10T13:05:15.764Z"
   },
   {
    "duration": 929,
    "start_time": "2023-01-10T13:05:16.348Z"
   },
   {
    "duration": 39,
    "start_time": "2023-01-10T13:05:20.513Z"
   },
   {
    "duration": 5,
    "start_time": "2023-01-10T13:05:28.030Z"
   },
   {
    "duration": 78,
    "start_time": "2023-01-10T13:05:32.140Z"
   },
   {
    "duration": 24,
    "start_time": "2023-01-10T13:05:33.109Z"
   },
   {
    "duration": 25,
    "start_time": "2023-01-10T13:05:33.865Z"
   },
   {
    "duration": 4,
    "start_time": "2023-01-10T13:05:38.547Z"
   },
   {
    "duration": 4,
    "start_time": "2023-01-10T13:05:43.164Z"
   },
   {
    "duration": 3,
    "start_time": "2023-01-10T13:05:43.712Z"
   },
   {
    "duration": 6,
    "start_time": "2023-01-10T13:05:48.415Z"
   },
   {
    "duration": 4276,
    "start_time": "2023-01-10T13:05:52.146Z"
   },
   {
    "duration": 2576,
    "start_time": "2023-01-10T14:20:16.745Z"
   },
   {
    "duration": 118,
    "start_time": "2023-01-10T14:20:19.323Z"
   },
   {
    "duration": 262,
    "start_time": "2023-01-10T14:20:19.442Z"
   },
   {
    "duration": 107,
    "start_time": "2023-01-10T14:20:19.705Z"
   },
   {
    "duration": 19,
    "start_time": "2023-01-10T14:20:19.814Z"
   },
   {
    "duration": 36,
    "start_time": "2023-01-10T14:20:19.834Z"
   },
   {
    "duration": 108,
    "start_time": "2023-01-10T14:20:19.872Z"
   },
   {
    "duration": 6,
    "start_time": "2023-01-10T14:20:19.982Z"
   },
   {
    "duration": 985,
    "start_time": "2023-01-10T14:20:19.990Z"
   },
   {
    "duration": 36,
    "start_time": "2023-01-10T14:20:20.976Z"
   },
   {
    "duration": 78,
    "start_time": "2023-01-10T14:20:21.026Z"
   },
   {
    "duration": 43,
    "start_time": "2023-01-10T14:20:21.106Z"
   },
   {
    "duration": 204,
    "start_time": "2023-01-10T14:20:21.150Z"
   },
   {
    "duration": 200,
    "start_time": "2023-01-10T14:20:21.426Z"
   },
   {
    "duration": 105,
    "start_time": "2023-01-10T14:20:21.631Z"
   },
   {
    "duration": 29,
    "start_time": "2023-01-10T14:20:21.738Z"
   },
   {
    "duration": 25,
    "start_time": "2023-01-10T14:20:21.769Z"
   },
   {
    "duration": 32,
    "start_time": "2023-01-10T14:20:21.796Z"
   },
   {
    "duration": 3612,
    "start_time": "2023-01-10T14:20:21.830Z"
   },
   {
    "duration": 71,
    "start_time": "2023-01-10T14:54:04.254Z"
   },
   {
    "duration": 6,
    "start_time": "2023-01-10T14:55:05.987Z"
   },
   {
    "duration": 40,
    "start_time": "2023-01-10T14:55:09.894Z"
   },
   {
    "duration": 1117,
    "start_time": "2023-01-10T14:55:28.263Z"
   },
   {
    "duration": 1031,
    "start_time": "2023-01-10T14:55:29.382Z"
   },
   {
    "duration": 482,
    "start_time": "2023-01-10T14:55:30.414Z"
   },
   {
    "duration": 569,
    "start_time": "2023-01-10T14:55:30.899Z"
   },
   {
    "duration": 13,
    "start_time": "2023-01-10T14:55:31.469Z"
   },
   {
    "duration": 56,
    "start_time": "2023-01-10T14:55:31.484Z"
   },
   {
    "duration": 142,
    "start_time": "2023-01-10T14:55:31.542Z"
   },
   {
    "duration": 6,
    "start_time": "2023-01-10T14:55:31.686Z"
   },
   {
    "duration": 1241,
    "start_time": "2023-01-10T14:55:31.694Z"
   },
   {
    "duration": 3,
    "start_time": "2023-01-10T14:55:32.938Z"
   },
   {
    "duration": 48,
    "start_time": "2023-01-10T14:55:32.942Z"
   },
   {
    "duration": 82,
    "start_time": "2023-01-10T14:55:33.553Z"
   },
   {
    "duration": 5,
    "start_time": "2023-01-10T14:55:57.321Z"
   },
   {
    "duration": 33,
    "start_time": "2023-01-10T14:55:59.897Z"
   },
   {
    "duration": 89,
    "start_time": "2023-01-10T14:56:51.217Z"
   },
   {
    "duration": 28,
    "start_time": "2023-01-10T14:56:53.467Z"
   },
   {
    "duration": 4,
    "start_time": "2023-01-10T15:01:26.602Z"
   },
   {
    "duration": 27,
    "start_time": "2023-01-10T15:01:41.247Z"
   },
   {
    "duration": 6,
    "start_time": "2023-01-10T15:02:26.084Z"
   },
   {
    "duration": 148,
    "start_time": "2023-01-10T15:02:27.331Z"
   },
   {
    "duration": 32,
    "start_time": "2023-01-10T15:02:29.413Z"
   },
   {
    "duration": 28,
    "start_time": "2023-01-10T15:02:30.110Z"
   },
   {
    "duration": 9,
    "start_time": "2023-01-10T15:13:46.000Z"
   },
   {
    "duration": 9,
    "start_time": "2023-01-10T15:14:19.134Z"
   },
   {
    "duration": 12,
    "start_time": "2023-01-10T15:14:22.052Z"
   },
   {
    "duration": 12,
    "start_time": "2023-01-10T15:14:44.684Z"
   },
   {
    "duration": 6,
    "start_time": "2023-01-10T15:15:11.524Z"
   },
   {
    "duration": 9,
    "start_time": "2023-01-10T15:19:01.968Z"
   },
   {
    "duration": 17,
    "start_time": "2023-01-10T15:19:44.642Z"
   },
   {
    "duration": 21,
    "start_time": "2023-01-10T15:21:15.630Z"
   },
   {
    "duration": 18,
    "start_time": "2023-01-10T15:21:53.103Z"
   },
   {
    "duration": 10,
    "start_time": "2023-01-10T15:29:27.419Z"
   },
   {
    "duration": 20,
    "start_time": "2023-01-10T15:29:47.838Z"
   },
   {
    "duration": 90,
    "start_time": "2023-01-10T15:31:11.140Z"
   },
   {
    "duration": 10,
    "start_time": "2023-01-10T15:31:16.290Z"
   },
   {
    "duration": 5,
    "start_time": "2023-01-10T15:31:26.145Z"
   },
   {
    "duration": 4,
    "start_time": "2023-01-10T15:36:39.108Z"
   },
   {
    "duration": 3,
    "start_time": "2023-01-10T15:36:41.485Z"
   },
   {
    "duration": 4,
    "start_time": "2023-01-10T15:36:49.880Z"
   },
   {
    "duration": 23,
    "start_time": "2023-01-10T15:36:51.899Z"
   },
   {
    "duration": 10,
    "start_time": "2023-01-10T15:37:08.336Z"
   },
   {
    "duration": 10,
    "start_time": "2023-01-10T15:37:28.144Z"
   },
   {
    "duration": 4,
    "start_time": "2023-01-10T15:37:38.204Z"
   },
   {
    "duration": 3,
    "start_time": "2023-01-10T15:37:45.395Z"
   },
   {
    "duration": 3,
    "start_time": "2023-01-10T15:37:47.492Z"
   },
   {
    "duration": 6,
    "start_time": "2023-01-10T15:37:47.924Z"
   },
   {
    "duration": 4155,
    "start_time": "2023-01-10T15:37:51.868Z"
   },
   {
    "duration": 65,
    "start_time": "2023-01-10T15:39:16.896Z"
   },
   {
    "duration": 4,
    "start_time": "2023-01-10T15:40:00.938Z"
   },
   {
    "duration": 4,
    "start_time": "2023-01-10T15:40:34.270Z"
   },
   {
    "duration": 122,
    "start_time": "2023-01-10T15:40:34.734Z"
   },
   {
    "duration": 391,
    "start_time": "2023-01-10T15:40:34.911Z"
   },
   {
    "duration": 111,
    "start_time": "2023-01-10T15:40:35.304Z"
   },
   {
    "duration": 20,
    "start_time": "2023-01-10T15:40:36.838Z"
   },
   {
    "duration": 41,
    "start_time": "2023-01-10T15:40:40.728Z"
   },
   {
    "duration": 126,
    "start_time": "2023-01-10T15:40:40.990Z"
   },
   {
    "duration": 7,
    "start_time": "2023-01-10T15:40:42.222Z"
   },
   {
    "duration": 819,
    "start_time": "2023-01-10T15:40:42.370Z"
   },
   {
    "duration": 2,
    "start_time": "2023-01-10T15:40:43.192Z"
   },
   {
    "duration": 19,
    "start_time": "2023-01-10T15:42:14.559Z"
   },
   {
    "duration": 8,
    "start_time": "2023-01-10T15:42:22.764Z"
   },
   {
    "duration": 32,
    "start_time": "2023-01-10T15:42:24.652Z"
   },
   {
    "duration": 27,
    "start_time": "2023-01-10T15:42:24.879Z"
   },
   {
    "duration": 27,
    "start_time": "2023-01-10T15:42:25.079Z"
   },
   {
    "duration": 5,
    "start_time": "2023-01-10T15:42:33.893Z"
   },
   {
    "duration": 3,
    "start_time": "2023-01-10T15:42:39.693Z"
   },
   {
    "duration": 3,
    "start_time": "2023-01-10T15:42:40.323Z"
   },
   {
    "duration": 5,
    "start_time": "2023-01-10T15:42:45.447Z"
   },
   {
    "duration": 4015,
    "start_time": "2023-01-10T15:42:48.663Z"
   }
  ],
  "kernelspec": {
   "display_name": "Python 3 (ipykernel)",
   "language": "python",
   "name": "python3"
  },
  "language_info": {
   "codemirror_mode": {
    "name": "ipython",
    "version": 3
   },
   "file_extension": ".py",
   "mimetype": "text/x-python",
   "name": "python",
   "nbconvert_exporter": "python",
   "pygments_lexer": "ipython3",
   "version": "3.9.5"
  },
  "toc": {
   "base_numbering": 1,
   "nav_menu": {},
   "number_sections": true,
   "sideBar": true,
   "skip_h1_title": true,
   "title_cell": "Table of Contents",
   "title_sidebar": "Contents",
   "toc_cell": false,
   "toc_position": {},
   "toc_section_display": true,
   "toc_window_display": true
  }
 },
 "nbformat": 4,
 "nbformat_minor": 2
}
