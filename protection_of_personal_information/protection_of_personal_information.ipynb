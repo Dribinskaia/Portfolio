{
 "cells": [
  {
   "cell_type": "markdown",
   "metadata": {},
   "source": [
    "# Защита персональных данных клиентов"
   ]
  },
  {
   "cell_type": "markdown",
   "metadata": {},
   "source": [
    "Страховой компании необходимо защитить данные клиентов. Для этого требуется разработать такой метод преобразования данных, по которому будет сложно восстановить персональную информацию. \n",
    "Важно, чтобы при преобразовании качество моделей машинного обучения не ухудшилось. "
   ]
  },
  {
   "cell_type": "markdown",
   "metadata": {},
   "source": [
    "Исследование будет проходить в несколько этапов:\n",
    "- изучение и предобработка данных;\n",
    "- описание метода преобразования данных;\n",
    "- проверка алгоритма преобразования с помощью расчетов;\n",
    "- создание и обучение модели, получение предсказаний;\n",
    "- расчет метрики качества для модели до преобразования;\n",
    "- обучение модели и получение предсказаний на преобразованных данных;\n",
    "- расчет метрики качества для модели, обученной на преобразованых данных;\n",
    "- отчет"
   ]
  },
  {
   "cell_type": "markdown",
   "metadata": {},
   "source": [
    "## 1 Загрузка данных"
   ]
  },
  {
   "cell_type": "code",
   "execution_count": 1,
   "metadata": {},
   "outputs": [],
   "source": [
    "import pandas as pd\n",
    "import numpy as np\n",
    "from sklearn.metrics import r2_score\n",
    "from sklearn.linear_model import LogisticRegression\n",
    "from sklearn.model_selection import train_test_split"
   ]
  },
  {
   "cell_type": "code",
   "execution_count": 2,
   "metadata": {},
   "outputs": [],
   "source": [
    "df = pd.read_csv('/datasets/insurance.csv')"
   ]
  },
  {
   "cell_type": "code",
   "execution_count": 3,
   "metadata": {},
   "outputs": [
    {
     "name": "stdout",
     "output_type": "stream",
     "text": [
      "<class 'pandas.core.frame.DataFrame'>\n",
      "RangeIndex: 5000 entries, 0 to 4999\n",
      "Data columns (total 5 columns):\n",
      " #   Column             Non-Null Count  Dtype  \n",
      "---  ------             --------------  -----  \n",
      " 0   Пол                5000 non-null   int64  \n",
      " 1   Возраст            5000 non-null   float64\n",
      " 2   Зарплата           5000 non-null   float64\n",
      " 3   Члены семьи        5000 non-null   int64  \n",
      " 4   Страховые выплаты  5000 non-null   int64  \n",
      "dtypes: float64(2), int64(3)\n",
      "memory usage: 195.4 KB\n"
     ]
    }
   ],
   "source": [
    "df.info( )"
   ]
  },
  {
   "cell_type": "code",
   "execution_count": 4,
   "metadata": {},
   "outputs": [
    {
     "data": {
      "text/html": [
       "<div>\n",
       "<style scoped>\n",
       "    .dataframe tbody tr th:only-of-type {\n",
       "        vertical-align: middle;\n",
       "    }\n",
       "\n",
       "    .dataframe tbody tr th {\n",
       "        vertical-align: top;\n",
       "    }\n",
       "\n",
       "    .dataframe thead th {\n",
       "        text-align: right;\n",
       "    }\n",
       "</style>\n",
       "<table border=\"1\" class=\"dataframe\">\n",
       "  <thead>\n",
       "    <tr style=\"text-align: right;\">\n",
       "      <th></th>\n",
       "      <th>Пол</th>\n",
       "      <th>Возраст</th>\n",
       "      <th>Зарплата</th>\n",
       "      <th>Члены семьи</th>\n",
       "      <th>Страховые выплаты</th>\n",
       "    </tr>\n",
       "  </thead>\n",
       "  <tbody>\n",
       "    <tr>\n",
       "      <th>0</th>\n",
       "      <td>1</td>\n",
       "      <td>41.0</td>\n",
       "      <td>49600.0</td>\n",
       "      <td>1</td>\n",
       "      <td>0</td>\n",
       "    </tr>\n",
       "    <tr>\n",
       "      <th>1</th>\n",
       "      <td>0</td>\n",
       "      <td>46.0</td>\n",
       "      <td>38000.0</td>\n",
       "      <td>1</td>\n",
       "      <td>1</td>\n",
       "    </tr>\n",
       "    <tr>\n",
       "      <th>2</th>\n",
       "      <td>0</td>\n",
       "      <td>29.0</td>\n",
       "      <td>21000.0</td>\n",
       "      <td>0</td>\n",
       "      <td>0</td>\n",
       "    </tr>\n",
       "    <tr>\n",
       "      <th>3</th>\n",
       "      <td>0</td>\n",
       "      <td>21.0</td>\n",
       "      <td>41700.0</td>\n",
       "      <td>2</td>\n",
       "      <td>0</td>\n",
       "    </tr>\n",
       "    <tr>\n",
       "      <th>4</th>\n",
       "      <td>1</td>\n",
       "      <td>28.0</td>\n",
       "      <td>26100.0</td>\n",
       "      <td>0</td>\n",
       "      <td>0</td>\n",
       "    </tr>\n",
       "  </tbody>\n",
       "</table>\n",
       "</div>"
      ],
      "text/plain": [
       "   Пол  Возраст  Зарплата  Члены семьи  Страховые выплаты\n",
       "0    1     41.0   49600.0            1                  0\n",
       "1    0     46.0   38000.0            1                  1\n",
       "2    0     29.0   21000.0            0                  0\n",
       "3    0     21.0   41700.0            2                  0\n",
       "4    1     28.0   26100.0            0                  0"
      ]
     },
     "execution_count": 4,
     "metadata": {},
     "output_type": "execute_result"
    }
   ],
   "source": [
    "df.head()"
   ]
  },
  {
   "cell_type": "code",
   "execution_count": 5,
   "metadata": {},
   "outputs": [
    {
     "data": {
      "image/png": "[encoded data removed]",
      "text/plain": [
       "<Figure size 720x576 with 6 Axes>"
      ]
     },
     "metadata": {
      "needs_background": "light"
     },
     "output_type": "display_data"
    }
   ],
   "source": [
    "# смотрю на распределения признаков\n",
    "df.hist(figsize=(10,8));"
   ]
  },
  {
   "cell_type": "markdown",
   "metadata": {},
   "source": [
    "Распределение только одного признака (Зарплата) близко к нормальному"
   ]
  },
  {
   "cell_type": "code",
   "execution_count": 6,
   "metadata": {},
   "outputs": [],
   "source": [
    "df['Возраст'] = df['Возраст'].astype('int')"
   ]
  },
  {
   "cell_type": "code",
   "execution_count": 7,
   "metadata": {},
   "outputs": [
    {
     "data": {
      "text/plain": [
       "153"
      ]
     },
     "execution_count": 7,
     "metadata": {},
     "output_type": "execute_result"
    }
   ],
   "source": [
    "df.duplicated().sum()"
   ]
  },
  {
   "cell_type": "code",
   "execution_count": 8,
   "metadata": {},
   "outputs": [
    {
     "data": {
      "text/html": [
       "<div>\n",
       "<style scoped>\n",
       "    .dataframe tbody tr th:only-of-type {\n",
       "        vertical-align: middle;\n",
       "    }\n",
       "\n",
       "    .dataframe tbody tr th {\n",
       "        vertical-align: top;\n",
       "    }\n",
       "\n",
       "    .dataframe thead th {\n",
       "        text-align: right;\n",
       "    }\n",
       "</style>\n",
       "<table border=\"1\" class=\"dataframe\">\n",
       "  <thead>\n",
       "    <tr style=\"text-align: right;\">\n",
       "      <th></th>\n",
       "      <th>Возраст</th>\n",
       "      <th>Зарплата</th>\n",
       "      <th>Члены семьи</th>\n",
       "      <th>Страховые выплаты</th>\n",
       "    </tr>\n",
       "  </thead>\n",
       "  <tbody>\n",
       "    <tr>\n",
       "      <th>Возраст</th>\n",
       "      <td>1.000000</td>\n",
       "      <td>-0.020238</td>\n",
       "      <td>-0.001503</td>\n",
       "      <td>0.548589</td>\n",
       "    </tr>\n",
       "    <tr>\n",
       "      <th>Зарплата</th>\n",
       "      <td>-0.020238</td>\n",
       "      <td>1.000000</td>\n",
       "      <td>-0.025492</td>\n",
       "      <td>-0.005549</td>\n",
       "    </tr>\n",
       "    <tr>\n",
       "      <th>Члены семьи</th>\n",
       "      <td>-0.001503</td>\n",
       "      <td>-0.025492</td>\n",
       "      <td>1.000000</td>\n",
       "      <td>-0.029210</td>\n",
       "    </tr>\n",
       "    <tr>\n",
       "      <th>Страховые выплаты</th>\n",
       "      <td>0.548589</td>\n",
       "      <td>-0.005549</td>\n",
       "      <td>-0.029210</td>\n",
       "      <td>1.000000</td>\n",
       "    </tr>\n",
       "  </tbody>\n",
       "</table>\n",
       "</div>"
      ],
      "text/plain": [
       "                    Возраст  Зарплата  Члены семьи  Страховые выплаты\n",
       "Возраст            1.000000 -0.020238    -0.001503           0.548589\n",
       "Зарплата          -0.020238  1.000000    -0.025492          -0.005549\n",
       "Члены семьи       -0.001503 -0.025492     1.000000          -0.029210\n",
       "Страховые выплаты  0.548589 -0.005549    -0.029210           1.000000"
      ]
     },
     "execution_count": 8,
     "metadata": {},
     "output_type": "execute_result"
    }
   ],
   "source": [
    "# Поскольку линейные модели чувствительны к скоррелированности признаков, считаю коэффициент корреляции.\n",
    "# Предварительно удалю категориальный признак (пол)\n",
    "df_for_corr = df.drop(columns='Пол')\n",
    "df_for_corr.corr(method='spearman')"
   ]
  },
  {
   "cell_type": "markdown",
   "metadata": {},
   "source": [
    "Вывод: в данных отсутствуют пропуски, типы данных во всех столбцах, кроме столбца \"Возраст\", соответствуют содержимому. Тип данных в столбце \"Возраст\" изменен на целочисленный. В данных имеются явные дубликаты, удаление полагаю нецелесообразным, поскольку возможно допустить ситуацию, когда среди клиентов будут люди одного возраста, с одинаковой зарплатой и составом семьи. Признаки для обучения слабо скоррелированы между собой. "
   ]
  },
  {
   "cell_type": "markdown",
   "metadata": {},
   "source": [
    "## 2 Алгоритм преобразования"
   ]
  },
  {
   "cell_type": "markdown",
   "metadata": {},
   "source": [
    "**Алгоритм**\n",
    "для преобразования данных:\n",
    "1. Создам случайную матрицу Р, длина которой равна числу признаков обучающей выборки;\n",
    "2. Проверю, что полученная матрица обратима (покажу, что ее определитель отличен от нуля);\n",
    "3. Умножу матрицу с обучающими признаками на полученную случайную матрицу;"
   ]
  },
  {
   "cell_type": "markdown",
   "metadata": {},
   "source": [
    "Вначале создам модель линейной регрессии, обучу ее и расчитаю метрику качества R2 до преобразования"
   ]
  },
  {
   "cell_type": "code",
   "execution_count": 25,
   "metadata": {},
   "outputs": [],
   "source": [
    "# выделяю обучающие признаки\n",
    "features = df.drop('Страховые выплаты', axis=1)\n",
    "# выделяю целевой признак\n",
    "target = df['Страховые выплаты']"
   ]
  },
  {
   "cell_type": "code",
   "execution_count": 26,
   "metadata": {},
   "outputs": [],
   "source": [
    "# создаю класс \n",
    "class LinearRegression:\n",
    "# пишу метод для обучения модели    \n",
    "    def fit(self, features,target):\n",
    "        X = np.concatenate((np.ones((features.shape[0], 1)), features), axis=1) \n",
    "        y = target\n",
    "# использую формулу для обучения        \n",
    "        w = ((np.linalg.inv(X.T.dot(X))).dot(X.T)).dot(y) \n",
    "        self.w = w[1:]\n",
    "        self.w0 = w[0]\n",
    "# напишу метод для предказания с использованием формулы     \n",
    "    def predict(self, features):\n",
    "        return features.dot(self.w) + self.w0"
   ]
  },
  {
   "cell_type": "code",
   "execution_count": 27,
   "metadata": {},
   "outputs": [
    {
     "name": "stdout",
     "output_type": "stream",
     "text": [
      "Качество предсказаний модели до преобразования данных: 0.42494550286668\n"
     ]
    }
   ],
   "source": [
    "# обучу модель на непреобразованных данных\n",
    "model = LinearRegression()\n",
    "model.fit(features, target)\n",
    "predictions = model.predict(features)\n",
    "print('Качество предсказаний модели до преобразования данных:', r2_score(target, predictions))\n"
   ]
  },
  {
   "cell_type": "markdown",
   "metadata": {},
   "source": [
    "## 3 Проверка алгоритма"
   ]
  },
  {
   "cell_type": "code",
   "execution_count": 28,
   "metadata": {},
   "outputs": [
    {
     "name": "stdout",
     "output_type": "stream",
     "text": [
      "Определитель случайной матрицы равен 0.9675076710341921\n"
     ]
    }
   ],
   "source": [
    "# создадю случайную матрицу, ее длина должна быть равна ширине тренировочной выборки (числу features)\n",
    "P = np.random.normal(size=(4,4))\n",
    "# матрица должна быть обратимой \n",
    "# поскольку матрица обратима тогда, когда ее определитель отличен от нуля, рассчитаю определитель\n",
    "print('Определитель случайной матрицы равен', np.linalg.det(P))\n"
   ]
  },
  {
   "cell_type": "markdown",
   "metadata": {},
   "source": [
    "Созданная случайная матрица Р обратима, далее умножаю признаки на нее, обучиму модель, сделаю предсказания и рассчитаю метрику."
   ]
  },
  {
   "cell_type": "code",
   "execution_count": 29,
   "metadata": {},
   "outputs": [
    {
     "name": "stdout",
     "output_type": "stream",
     "text": [
      "Качество предсказаний модели на преобразованных данных: 0.424945502866686\n"
     ]
    }
   ],
   "source": [
    "features_new = features.dot(P)\n",
    "model = LinearRegression()\n",
    "model.fit(features_new, target)\n",
    "predictions = model.predict(features_new)\n",
    "print('Качество предсказаний модели на преобразованных данных:', r2_score(target, predictions))"
   ]
  },
  {
   "cell_type": "markdown",
   "metadata": {},
   "source": [
    "Метрика R2 для модели, обученной на исходных данных, совпадает с метрикой для модели, обученной на преобразованных данных. Иными словами, преобразование данных не отразилось на качестве модели линейной регрессии"
   ]
  },
  {
   "cell_type": "markdown",
   "metadata": {},
   "source": [
    "Выводы:\n",
    "- в ходе исследования я изучила и предобработала сведения о страховых выплатах клиентам;\n",
    "- для защиты персональных данных предложила алгоритм, предполагающий умножение признаков (данных) клиентов на случайную обратимую матрицу;\n",
    "- модель линейной регрессии обучила на исходных данных, получила предсказания и рассчитала метрику качества R2;\n",
    "- модель линейной регрессии обучила на преобразованных данных, получила предсказания и рассчитала метрика качества R2;\n",
    "- по результатам показала, что метрика качества в обоих случаях совпадает, следовательно, предложенный способ преобразования  может быть использован для защиты данных клиентов."
   ]
  },
  {
   "cell_type": "code",
   "execution_count": null,
   "metadata": {},
   "outputs": [],
   "source": []
  }
 ],
 "metadata": {
  "ExecuteTimeLog": [
   {
    "duration": 55,
    "start_time": "2023-02-05T10:10:26.299Z"
   },
   {
    "duration": 512,
    "start_time": "2023-02-05T10:12:43.148Z"
   },
   {
    "duration": 32,
    "start_time": "2023-02-05T10:13:23.591Z"
   },
   {
    "duration": 34,
    "start_time": "2023-02-05T10:13:51.534Z"
   },
   {
    "duration": 193,
    "start_time": "2023-02-05T10:14:24.163Z"
   },
   {
    "duration": 122,
    "start_time": "2023-02-05T10:18:00.045Z"
   },
   {
    "duration": 103,
    "start_time": "2023-02-05T10:20:52.754Z"
   },
   {
    "duration": 408,
    "start_time": "2023-02-07T10:55:33.399Z"
   },
   {
    "duration": 86,
    "start_time": "2023-02-07T10:55:33.828Z"
   },
   {
    "duration": 14,
    "start_time": "2023-02-07T10:55:45.224Z"
   },
   {
    "duration": 17,
    "start_time": "2023-02-07T10:56:21.420Z"
   },
   {
    "duration": 34,
    "start_time": "2023-02-07T10:57:36.169Z"
   },
   {
    "duration": 6,
    "start_time": "2023-02-07T11:00:32.709Z"
   },
   {
    "duration": 10,
    "start_time": "2023-02-07T11:00:54.264Z"
   },
   {
    "duration": 3,
    "start_time": "2023-02-07T11:01:16.199Z"
   },
   {
    "duration": 57,
    "start_time": "2023-02-07T11:01:16.531Z"
   },
   {
    "duration": 12,
    "start_time": "2023-02-07T11:01:16.793Z"
   },
   {
    "duration": 9,
    "start_time": "2023-02-07T11:01:20.762Z"
   },
   {
    "duration": 6,
    "start_time": "2023-02-07T11:01:23.437Z"
   },
   {
    "duration": 17,
    "start_time": "2023-02-07T11:01:25.806Z"
   },
   {
    "duration": 4,
    "start_time": "2023-02-07T11:02:00.766Z"
   },
   {
    "duration": 15,
    "start_time": "2023-02-07T11:02:01.417Z"
   },
   {
    "duration": 7,
    "start_time": "2023-02-07T13:14:26.491Z"
   },
   {
    "duration": 54,
    "start_time": "2023-02-08T07:17:21.543Z"
   },
   {
    "duration": 375,
    "start_time": "2023-02-08T07:17:27.828Z"
   },
   {
    "duration": 89,
    "start_time": "2023-02-08T07:17:28.206Z"
   },
   {
    "duration": 10,
    "start_time": "2023-02-08T07:17:28.297Z"
   },
   {
    "duration": 15,
    "start_time": "2023-02-08T07:17:28.516Z"
   },
   {
    "duration": 3,
    "start_time": "2023-02-08T07:17:28.769Z"
   },
   {
    "duration": 6,
    "start_time": "2023-02-08T07:17:29.017Z"
   },
   {
    "duration": 4,
    "start_time": "2023-02-08T07:17:32.819Z"
   },
   {
    "duration": 4,
    "start_time": "2023-02-08T07:48:25.672Z"
   },
   {
    "duration": 4,
    "start_time": "2023-02-08T07:48:26.140Z"
   },
   {
    "duration": 41,
    "start_time": "2023-02-08T07:48:26.643Z"
   },
   {
    "duration": 3,
    "start_time": "2023-02-08T07:48:43.099Z"
   },
   {
    "duration": 26,
    "start_time": "2023-02-08T07:48:43.546Z"
   },
   {
    "duration": 11,
    "start_time": "2023-02-08T07:48:43.706Z"
   },
   {
    "duration": 12,
    "start_time": "2023-02-08T07:48:43.973Z"
   },
   {
    "duration": 4,
    "start_time": "2023-02-08T07:48:44.009Z"
   },
   {
    "duration": 7,
    "start_time": "2023-02-08T07:48:44.125Z"
   },
   {
    "duration": 5,
    "start_time": "2023-02-08T07:48:46.163Z"
   },
   {
    "duration": 7,
    "start_time": "2023-02-08T07:48:46.324Z"
   },
   {
    "duration": 15,
    "start_time": "2023-02-08T07:48:46.506Z"
   },
   {
    "duration": 110,
    "start_time": "2023-02-08T07:48:46.704Z"
   },
   {
    "duration": 703,
    "start_time": "2023-02-08T07:49:07.383Z"
   },
   {
    "duration": 24,
    "start_time": "2023-02-08T07:49:08.088Z"
   },
   {
    "duration": 9,
    "start_time": "2023-02-08T07:49:08.114Z"
   },
   {
    "duration": 8,
    "start_time": "2023-02-08T07:49:08.125Z"
   },
   {
    "duration": 3,
    "start_time": "2023-02-08T07:49:08.135Z"
   },
   {
    "duration": 6,
    "start_time": "2023-02-08T07:49:08.140Z"
   },
   {
    "duration": 5,
    "start_time": "2023-02-08T07:49:10.695Z"
   },
   {
    "duration": 5,
    "start_time": "2023-02-08T07:49:10.961Z"
   },
   {
    "duration": 44,
    "start_time": "2023-02-08T07:49:11.490Z"
   },
   {
    "duration": 5,
    "start_time": "2023-02-08T07:49:26.652Z"
   },
   {
    "duration": 6,
    "start_time": "2023-02-08T07:49:27.072Z"
   },
   {
    "duration": 6,
    "start_time": "2023-02-08T08:27:44.890Z"
   },
   {
    "duration": 624,
    "start_time": "2023-02-08T08:31:59.772Z"
   },
   {
    "duration": 2,
    "start_time": "2023-02-08T08:32:14.289Z"
   },
   {
    "duration": 4,
    "start_time": "2023-02-08T08:37:25.449Z"
   },
   {
    "duration": 4,
    "start_time": "2023-02-08T08:39:02.205Z"
   },
   {
    "duration": 4,
    "start_time": "2023-02-08T08:39:12.794Z"
   },
   {
    "duration": 12,
    "start_time": "2023-02-08T08:39:13.489Z"
   },
   {
    "duration": 4,
    "start_time": "2023-02-08T08:39:46.713Z"
   },
   {
    "duration": 11,
    "start_time": "2023-02-08T08:39:47.337Z"
   },
   {
    "duration": 8,
    "start_time": "2023-02-08T08:41:02.927Z"
   },
   {
    "duration": 4,
    "start_time": "2023-02-08T08:41:11.511Z"
   },
   {
    "duration": 6,
    "start_time": "2023-02-08T08:41:11.910Z"
   },
   {
    "duration": 8,
    "start_time": "2023-02-08T08:41:12.373Z"
   },
   {
    "duration": 5,
    "start_time": "2023-02-08T08:42:40.204Z"
   },
   {
    "duration": 14,
    "start_time": "2023-02-08T08:42:43.415Z"
   },
   {
    "duration": 4,
    "start_time": "2023-02-08T08:43:12.293Z"
   },
   {
    "duration": 838,
    "start_time": "2023-02-08T08:43:12.800Z"
   },
   {
    "duration": 3,
    "start_time": "2023-02-08T08:44:10.749Z"
   },
   {
    "duration": 4,
    "start_time": "2023-02-08T08:44:37.051Z"
   },
   {
    "duration": 6,
    "start_time": "2023-02-08T08:44:41.252Z"
   },
   {
    "duration": 4,
    "start_time": "2023-02-08T08:45:03.393Z"
   },
   {
    "duration": 8,
    "start_time": "2023-02-08T08:45:03.857Z"
   },
   {
    "duration": 286,
    "start_time": "2023-02-08T08:48:45.951Z"
   },
   {
    "duration": 99,
    "start_time": "2023-02-08T08:49:03.676Z"
   },
   {
    "duration": 82,
    "start_time": "2023-02-08T08:49:12.456Z"
   },
   {
    "duration": 8,
    "start_time": "2023-02-08T08:49:47.414Z"
   },
   {
    "duration": 4,
    "start_time": "2023-02-08T08:49:54.445Z"
   },
   {
    "duration": 5,
    "start_time": "2023-02-08T08:49:56.997Z"
   },
   {
    "duration": 7,
    "start_time": "2023-02-08T08:49:57.667Z"
   },
   {
    "duration": 997,
    "start_time": "2023-02-08T08:53:11.385Z"
   },
   {
    "duration": 5,
    "start_time": "2023-02-08T08:53:39.567Z"
   },
   {
    "duration": 4,
    "start_time": "2023-02-08T08:57:08.056Z"
   },
   {
    "duration": 5,
    "start_time": "2023-02-08T09:04:09.006Z"
   },
   {
    "duration": 4,
    "start_time": "2023-02-08T09:12:50.593Z"
   },
   {
    "duration": 6,
    "start_time": "2023-02-08T09:16:14.353Z"
   },
   {
    "duration": 6,
    "start_time": "2023-02-08T09:18:07.500Z"
   },
   {
    "duration": 11,
    "start_time": "2023-02-08T09:18:08.143Z"
   },
   {
    "duration": 4,
    "start_time": "2023-02-08T09:18:38.446Z"
   },
   {
    "duration": 13,
    "start_time": "2023-02-08T09:18:40.399Z"
   },
   {
    "duration": 3,
    "start_time": "2023-02-08T09:20:37.762Z"
   },
   {
    "duration": 5,
    "start_time": "2023-02-08T09:20:39.290Z"
   },
   {
    "duration": 16,
    "start_time": "2023-02-08T09:20:40.521Z"
   },
   {
    "duration": 3,
    "start_time": "2023-02-08T09:21:30.160Z"
   },
   {
    "duration": 10,
    "start_time": "2023-02-08T09:21:31.689Z"
   },
   {
    "duration": 12,
    "start_time": "2023-02-08T09:21:32.110Z"
   },
   {
    "duration": 4,
    "start_time": "2023-02-08T09:27:48.057Z"
   },
   {
    "duration": 5,
    "start_time": "2023-02-08T09:27:49.191Z"
   },
   {
    "duration": 12,
    "start_time": "2023-02-08T09:27:51.161Z"
   },
   {
    "duration": 5,
    "start_time": "2023-02-08T09:30:49.951Z"
   },
   {
    "duration": 15,
    "start_time": "2023-02-08T09:30:51.295Z"
   },
   {
    "duration": 17,
    "start_time": "2023-02-08T09:31:56.861Z"
   },
   {
    "duration": 5,
    "start_time": "2023-02-08T09:32:43.302Z"
   },
   {
    "duration": 11,
    "start_time": "2023-02-08T09:32:43.873Z"
   },
   {
    "duration": 5,
    "start_time": "2023-02-08T09:34:27.344Z"
   },
   {
    "duration": 12,
    "start_time": "2023-02-08T09:34:27.958Z"
   },
   {
    "duration": 6,
    "start_time": "2023-02-08T09:36:13.912Z"
   },
   {
    "duration": 4,
    "start_time": "2023-02-08T09:36:16.216Z"
   },
   {
    "duration": 7,
    "start_time": "2023-02-08T09:36:17.746Z"
   },
   {
    "duration": 6,
    "start_time": "2023-02-08T10:08:39.302Z"
   },
   {
    "duration": 4,
    "start_time": "2023-02-08T10:08:58.828Z"
   },
   {
    "duration": 7,
    "start_time": "2023-02-08T10:09:00.062Z"
   },
   {
    "duration": 8,
    "start_time": "2023-02-08T10:28:22.568Z"
   },
   {
    "duration": 15,
    "start_time": "2023-02-08T10:30:10.368Z"
   },
   {
    "duration": 4,
    "start_time": "2023-02-08T10:47:07.519Z"
   },
   {
    "duration": 12,
    "start_time": "2023-02-08T10:47:42.060Z"
   },
   {
    "duration": 9,
    "start_time": "2023-02-08T10:58:51.386Z"
   },
   {
    "duration": 24,
    "start_time": "2023-02-08T10:58:51.672Z"
   },
   {
    "duration": 8,
    "start_time": "2023-02-08T10:59:15.883Z"
   },
   {
    "duration": 833,
    "start_time": "2023-02-08T11:02:53.174Z"
   },
   {
    "duration": 383,
    "start_time": "2023-02-08T11:03:10.462Z"
   },
   {
    "duration": 3,
    "start_time": "2023-02-08T11:10:26.280Z"
   },
   {
    "duration": 17,
    "start_time": "2023-02-08T11:13:43.194Z"
   },
   {
    "duration": 8,
    "start_time": "2023-02-08T11:16:45.790Z"
   },
   {
    "duration": 118,
    "start_time": "2023-02-08T11:16:49.741Z"
   },
   {
    "duration": 25,
    "start_time": "2023-02-08T11:16:50.193Z"
   },
   {
    "duration": 10,
    "start_time": "2023-02-08T11:16:50.752Z"
   },
   {
    "duration": 21,
    "start_time": "2023-02-08T11:16:51.342Z"
   },
   {
    "duration": 399,
    "start_time": "2023-02-08T11:20:07.020Z"
   },
   {
    "duration": 3,
    "start_time": "2023-02-08T11:22:48.414Z"
   },
   {
    "duration": 24,
    "start_time": "2023-02-08T11:22:48.573Z"
   },
   {
    "duration": 11,
    "start_time": "2023-02-08T11:22:48.706Z"
   },
   {
    "duration": 380,
    "start_time": "2023-02-08T11:22:48.867Z"
   },
   {
    "duration": 1358,
    "start_time": "2023-02-08T11:29:48.752Z"
   },
   {
    "duration": 88,
    "start_time": "2023-02-08T11:29:50.112Z"
   },
   {
    "duration": 12,
    "start_time": "2023-02-08T11:29:50.202Z"
   },
   {
    "duration": 1310,
    "start_time": "2023-02-08T11:31:58.726Z"
   },
   {
    "duration": 25,
    "start_time": "2023-02-08T11:32:00.038Z"
   },
   {
    "duration": 11,
    "start_time": "2023-02-08T11:32:00.064Z"
   },
   {
    "duration": 243878,
    "start_time": "2023-02-08T11:32:02.855Z"
   },
   {
    "duration": 14,
    "start_time": "2023-02-08T11:36:06.736Z"
   },
   {
    "duration": 124,
    "start_time": "2023-02-08T11:42:13.103Z"
   },
   {
    "duration": 202,
    "start_time": "2023-02-08T11:42:40.699Z"
   },
   {
    "duration": 501,
    "start_time": "2023-02-08T11:43:14.553Z"
   },
   {
    "duration": 488,
    "start_time": "2023-02-08T11:43:21.654Z"
   },
   {
    "duration": 496,
    "start_time": "2023-02-08T11:45:55.228Z"
   },
   {
    "duration": 532,
    "start_time": "2023-02-08T11:47:01.433Z"
   },
   {
    "duration": 548,
    "start_time": "2023-02-08T11:47:32.807Z"
   },
   {
    "duration": 4,
    "start_time": "2023-02-08T11:50:57.417Z"
   },
   {
    "duration": 12,
    "start_time": "2023-02-08T11:52:02.203Z"
   },
   {
    "duration": 3,
    "start_time": "2023-02-08T11:59:19.871Z"
   },
   {
    "duration": 26,
    "start_time": "2023-02-08T11:59:20.697Z"
   },
   {
    "duration": 13,
    "start_time": "2023-02-08T11:59:23.039Z"
   },
   {
    "duration": 8,
    "start_time": "2023-02-08T11:59:26.929Z"
   },
   {
    "duration": 495,
    "start_time": "2023-02-08T11:59:28.222Z"
   },
   {
    "duration": 4,
    "start_time": "2023-02-08T11:59:44.062Z"
   },
   {
    "duration": 6,
    "start_time": "2023-02-08T11:59:44.680Z"
   },
   {
    "duration": 15,
    "start_time": "2023-02-08T11:59:47.422Z"
   },
   {
    "duration": 4,
    "start_time": "2023-02-08T12:03:29.122Z"
   },
   {
    "duration": 5,
    "start_time": "2023-02-08T12:03:33.926Z"
   },
   {
    "duration": 6,
    "start_time": "2023-02-08T12:03:34.819Z"
   },
   {
    "duration": 4,
    "start_time": "2023-02-08T12:03:41.826Z"
   },
   {
    "duration": 9,
    "start_time": "2023-02-08T12:04:12.436Z"
   },
   {
    "duration": 10,
    "start_time": "2023-02-08T12:04:36.763Z"
   },
   {
    "duration": 1871,
    "start_time": "2023-02-08T14:44:37.608Z"
   },
   {
    "duration": 27,
    "start_time": "2023-02-08T14:44:39.481Z"
   },
   {
    "duration": 12,
    "start_time": "2023-02-08T14:44:39.510Z"
   },
   {
    "duration": 39,
    "start_time": "2023-02-08T14:44:39.524Z"
   },
   {
    "duration": 730,
    "start_time": "2023-02-08T14:44:39.565Z"
   },
   {
    "duration": 4,
    "start_time": "2023-02-08T14:44:40.297Z"
   },
   {
    "duration": 9,
    "start_time": "2023-02-08T14:44:40.302Z"
   },
   {
    "duration": 19,
    "start_time": "2023-02-08T14:44:40.330Z"
   },
   {
    "duration": 22,
    "start_time": "2023-02-08T14:44:40.357Z"
   },
   {
    "duration": 6,
    "start_time": "2023-02-08T14:44:40.382Z"
   },
   {
    "duration": 42,
    "start_time": "2023-02-08T14:44:40.390Z"
   },
   {
    "duration": 134,
    "start_time": "2023-02-08T14:44:40.434Z"
   },
   {
    "duration": 9,
    "start_time": "2023-02-08T14:44:40.570Z"
   },
   {
    "duration": 129,
    "start_time": "2023-02-08T15:02:51.854Z"
   },
   {
    "duration": 1636,
    "start_time": "2023-02-08T15:03:13.469Z"
   },
   {
    "duration": 29,
    "start_time": "2023-02-08T15:03:15.107Z"
   },
   {
    "duration": 15,
    "start_time": "2023-02-08T15:03:15.139Z"
   },
   {
    "duration": 40,
    "start_time": "2023-02-08T15:03:15.156Z"
   },
   {
    "duration": 852,
    "start_time": "2023-02-08T15:03:15.198Z"
   },
   {
    "duration": 122,
    "start_time": "2023-02-08T15:03:16.052Z"
   },
   {
    "duration": 0,
    "start_time": "2023-02-08T15:03:16.176Z"
   },
   {
    "duration": 0,
    "start_time": "2023-02-08T15:03:16.178Z"
   },
   {
    "duration": 0,
    "start_time": "2023-02-08T15:03:16.179Z"
   },
   {
    "duration": 0,
    "start_time": "2023-02-08T15:03:16.181Z"
   },
   {
    "duration": 0,
    "start_time": "2023-02-08T15:03:16.185Z"
   },
   {
    "duration": 0,
    "start_time": "2023-02-08T15:03:16.186Z"
   },
   {
    "duration": 0,
    "start_time": "2023-02-08T15:03:16.188Z"
   },
   {
    "duration": 0,
    "start_time": "2023-02-08T15:03:16.190Z"
   },
   {
    "duration": 478,
    "start_time": "2023-02-08T15:03:59.117Z"
   },
   {
    "duration": 678,
    "start_time": "2023-02-08T15:04:12.257Z"
   },
   {
    "duration": 65,
    "start_time": "2023-02-08T15:04:59.381Z"
   },
   {
    "duration": 90,
    "start_time": "2023-02-08T15:05:06.298Z"
   },
   {
    "duration": 832,
    "start_time": "2023-02-08T15:05:08.996Z"
   },
   {
    "duration": 867,
    "start_time": "2023-02-08T15:05:15.595Z"
   },
   {
    "duration": 563,
    "start_time": "2023-02-08T15:05:46.519Z"
   },
   {
    "duration": 1554,
    "start_time": "2023-02-08T15:05:58.620Z"
   },
   {
    "duration": 27,
    "start_time": "2023-02-08T15:06:00.177Z"
   },
   {
    "duration": 11,
    "start_time": "2023-02-08T15:06:00.206Z"
   },
   {
    "duration": 28,
    "start_time": "2023-02-08T15:06:00.218Z"
   },
   {
    "duration": 725,
    "start_time": "2023-02-08T15:06:00.254Z"
   },
   {
    "duration": 4,
    "start_time": "2023-02-08T15:06:00.983Z"
   },
   {
    "duration": 14,
    "start_time": "2023-02-08T15:06:00.988Z"
   },
   {
    "duration": 27,
    "start_time": "2023-02-08T15:06:01.003Z"
   },
   {
    "duration": 15,
    "start_time": "2023-02-08T15:06:01.032Z"
   },
   {
    "duration": 13,
    "start_time": "2023-02-08T15:06:01.052Z"
   },
   {
    "duration": 32,
    "start_time": "2023-02-08T15:06:01.067Z"
   },
   {
    "duration": 129,
    "start_time": "2023-02-08T15:06:01.101Z"
   },
   {
    "duration": 52,
    "start_time": "2023-02-08T15:06:01.232Z"
   },
   {
    "duration": 1336,
    "start_time": "2023-02-09T07:33:03.941Z"
   },
   {
    "duration": 140,
    "start_time": "2023-02-09T07:33:05.279Z"
   },
   {
    "duration": 17,
    "start_time": "2023-02-09T07:33:05.421Z"
   },
   {
    "duration": 28,
    "start_time": "2023-02-09T07:33:07.419Z"
   },
   {
    "duration": 100,
    "start_time": "2023-02-09T07:33:07.522Z"
   },
   {
    "duration": 96,
    "start_time": "2023-02-09T07:33:18.540Z"
   },
   {
    "duration": 1143,
    "start_time": "2023-02-09T07:33:29.660Z"
   },
   {
    "duration": 4,
    "start_time": "2023-02-09T07:34:35.953Z"
   },
   {
    "duration": 7,
    "start_time": "2023-02-09T07:34:36.459Z"
   },
   {
    "duration": 14,
    "start_time": "2023-02-09T07:35:03.033Z"
   },
   {
    "duration": 398,
    "start_time": "2023-03-06T12:05:37.057Z"
   },
   {
    "duration": 1196,
    "start_time": "2023-03-06T12:08:40.612Z"
   },
   {
    "duration": 94,
    "start_time": "2023-03-06T12:08:41.810Z"
   },
   {
    "duration": 16,
    "start_time": "2023-03-06T12:08:41.906Z"
   },
   {
    "duration": 17,
    "start_time": "2023-03-06T12:08:42.612Z"
   },
   {
    "duration": 951,
    "start_time": "2023-03-06T12:08:42.898Z"
   },
   {
    "duration": 4,
    "start_time": "2023-03-06T12:08:45.621Z"
   },
   {
    "duration": 8,
    "start_time": "2023-03-06T12:08:46.133Z"
   },
   {
    "duration": 34,
    "start_time": "2023-03-06T12:08:47.255Z"
   },
   {
    "duration": 13,
    "start_time": "2023-03-06T12:08:58.054Z"
   },
   {
    "duration": 6,
    "start_time": "2023-03-06T12:08:58.725Z"
   },
   {
    "duration": 11,
    "start_time": "2023-03-06T12:08:59.818Z"
   },
   {
    "duration": 8,
    "start_time": "2023-03-06T12:09:01.145Z"
   },
   {
    "duration": 8,
    "start_time": "2023-03-06T12:09:03.509Z"
   },
   {
    "duration": 113,
    "start_time": "2023-03-06T12:09:06.211Z"
   },
   {
    "duration": 74,
    "start_time": "2023-03-06T12:09:06.921Z"
   },
   {
    "duration": 43,
    "start_time": "2023-03-06T12:11:09.521Z"
   },
   {
    "duration": 28,
    "start_time": "2023-03-06T12:11:09.665Z"
   },
   {
    "duration": 12,
    "start_time": "2023-03-06T12:11:09.820Z"
   },
   {
    "duration": 9,
    "start_time": "2023-03-06T12:11:10.003Z"
   },
   {
    "duration": 660,
    "start_time": "2023-03-06T12:11:10.170Z"
   },
   {
    "duration": 4,
    "start_time": "2023-03-06T12:11:10.832Z"
   },
   {
    "duration": 7,
    "start_time": "2023-03-06T12:11:10.940Z"
   },
   {
    "duration": 13,
    "start_time": "2023-03-06T12:11:11.262Z"
   },
   {
    "duration": 4,
    "start_time": "2023-03-06T12:11:14.731Z"
   },
   {
    "duration": 6,
    "start_time": "2023-03-06T12:11:14.927Z"
   },
   {
    "duration": 22,
    "start_time": "2023-03-06T12:11:15.143Z"
   },
   {
    "duration": 4,
    "start_time": "2023-03-06T12:11:16.495Z"
   },
   {
    "duration": 8,
    "start_time": "2023-03-06T12:11:17.334Z"
   },
   {
    "duration": 118,
    "start_time": "2023-03-06T12:11:18.653Z"
   },
   {
    "duration": 81,
    "start_time": "2023-03-06T12:11:19.123Z"
   },
   {
    "duration": 10,
    "start_time": "2023-03-06T12:21:53.126Z"
   },
   {
    "duration": 8,
    "start_time": "2023-03-06T12:22:05.535Z"
   },
   {
    "duration": 14,
    "start_time": "2023-03-06T12:25:48.251Z"
   },
   {
    "duration": 406,
    "start_time": "2023-03-06T12:26:08.751Z"
   },
   {
    "duration": 593,
    "start_time": "2023-03-06T12:26:46.269Z"
   },
   {
    "duration": 217,
    "start_time": "2023-03-06T12:26:59.156Z"
   },
   {
    "duration": 318,
    "start_time": "2023-03-06T12:30:06.450Z"
   },
   {
    "duration": 206,
    "start_time": "2023-03-06T12:30:51.753Z"
   },
   {
    "duration": 10030,
    "start_time": "2023-03-06T12:32:31.851Z"
   },
   {
    "duration": 1203,
    "start_time": "2023-03-06T12:33:29.452Z"
   },
   {
    "duration": 290,
    "start_time": "2023-03-06T12:33:51.167Z"
   },
   {
    "duration": 79,
    "start_time": "2023-03-06T12:33:58.573Z"
   },
   {
    "duration": 965,
    "start_time": "2023-03-06T12:33:59.111Z"
   },
   {
    "duration": 83,
    "start_time": "2023-03-06T12:34:00.080Z"
   },
   {
    "duration": 1004,
    "start_time": "2023-03-06T12:36:11.450Z"
   },
   {
    "duration": 1112,
    "start_time": "2023-03-06T12:38:45.551Z"
   },
   {
    "duration": 405,
    "start_time": "2023-03-06T12:39:02.651Z"
   },
   {
    "duration": 790,
    "start_time": "2023-03-06T12:39:03.267Z"
   },
   {
    "duration": 1915,
    "start_time": "2023-03-06T12:40:40.851Z"
   },
   {
    "duration": 29,
    "start_time": "2023-03-06T12:40:42.853Z"
   },
   {
    "duration": 222,
    "start_time": "2023-03-06T12:42:04.251Z"
   },
   {
    "duration": 523,
    "start_time": "2023-03-06T12:44:01.351Z"
   },
   {
    "duration": 16,
    "start_time": "2023-03-06T12:44:42.754Z"
   },
   {
    "duration": 99,
    "start_time": "2023-03-06T12:45:16.350Z"
   },
   {
    "duration": 23,
    "start_time": "2023-03-06T12:46:29.250Z"
   },
   {
    "duration": 200,
    "start_time": "2023-03-06T12:47:22.469Z"
   },
   {
    "duration": 9,
    "start_time": "2023-03-06T12:47:23.653Z"
   },
   {
    "duration": 328,
    "start_time": "2023-03-06T12:47:24.151Z"
   },
   {
    "duration": 10,
    "start_time": "2023-03-06T12:47:24.553Z"
   },
   {
    "duration": 3,
    "start_time": "2023-03-06T12:47:24.950Z"
   },
   {
    "duration": 1044,
    "start_time": "2023-03-06T12:47:44.513Z"
   },
   {
    "duration": 499,
    "start_time": "2023-03-06T12:48:10.752Z"
   },
   {
    "duration": 269,
    "start_time": "2023-03-06T12:48:26.451Z"
   },
   {
    "duration": 202,
    "start_time": "2023-03-06T12:48:56.851Z"
   },
   {
    "duration": 214,
    "start_time": "2023-03-06T12:50:21.250Z"
   },
   {
    "duration": 398,
    "start_time": "2023-03-06T12:50:29.155Z"
   },
   {
    "duration": 291,
    "start_time": "2023-03-06T12:51:44.349Z"
   },
   {
    "duration": 403,
    "start_time": "2023-03-06T12:52:42.251Z"
   },
   {
    "duration": 414,
    "start_time": "2023-03-06T12:53:53.750Z"
   },
   {
    "duration": 11,
    "start_time": "2023-03-06T12:56:36.451Z"
   },
   {
    "duration": 10,
    "start_time": "2023-03-06T12:57:55.851Z"
   },
   {
    "duration": 425,
    "start_time": "2023-03-06T12:58:00.551Z"
   },
   {
    "duration": 394,
    "start_time": "2023-03-06T12:58:03.450Z"
   },
   {
    "duration": 401,
    "start_time": "2023-03-06T13:00:41.851Z"
   },
   {
    "duration": 561,
    "start_time": "2023-03-06T13:05:24.555Z"
   },
   {
    "duration": 404,
    "start_time": "2023-03-06T13:08:55.751Z"
   },
   {
    "duration": 1253,
    "start_time": "2023-06-08T16:55:35.455Z"
   },
   {
    "duration": 158,
    "start_time": "2023-06-08T16:55:36.710Z"
   },
   {
    "duration": 13,
    "start_time": "2023-06-08T16:55:36.870Z"
   },
   {
    "duration": 24,
    "start_time": "2023-06-08T16:55:36.885Z"
   },
   {
    "duration": 1288,
    "start_time": "2023-06-08T16:55:36.911Z"
   },
   {
    "duration": 4,
    "start_time": "2023-06-08T16:55:38.202Z"
   },
   {
    "duration": 9,
    "start_time": "2023-06-08T16:55:38.479Z"
   },
   {
    "duration": 46,
    "start_time": "2023-06-08T16:55:39.012Z"
   }
  ],
  "kernelspec": {
   "display_name": "Python 3 (ipykernel)",
   "language": "python",
   "name": "python3"
  },
  "language_info": {
   "codemirror_mode": {
    "name": "ipython",
    "version": 3
   },
   "file_extension": ".py",
   "mimetype": "text/x-python",
   "name": "python",
   "nbconvert_exporter": "python",
   "pygments_lexer": "ipython3",
   "version": "3.9.5"
  },
  "toc": {
   "base_numbering": 1,
   "nav_menu": {},
   "number_sections": true,
   "sideBar": true,
   "skip_h1_title": true,
   "title_cell": "Содержание",
   "title_sidebar": "Contents",
   "toc_cell": true,
   "toc_position": {
    "height": "calc(100% - 180px)",
    "left": "10px",
    "top": "150px",
    "width": "217.188px"
   },
   "toc_section_display": true,
   "toc_window_display": true
  }
 },
 "nbformat": 4,
 "nbformat_minor": 2
}
