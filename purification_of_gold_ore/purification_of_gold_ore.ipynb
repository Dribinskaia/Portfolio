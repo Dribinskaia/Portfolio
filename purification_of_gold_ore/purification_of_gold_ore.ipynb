{
 "cells": [
  {
   "cell_type": "markdown",
   "metadata": {
    "toc": true
   },
  
   "source": [
    "# Восстановление золота из руды"
   ]
  },
  {
   "cell_type": "markdown",
   "metadata": {},
   "source": [
    "Компания разрабатывает решения для эффективной работы промышленных предприятий.\n",
    "\n",
    "Необходимо подготовить модель машинного обучения, которая должна предсказать коэффициент восстановления золота из золотосодержащей руды. Используются данные с параметрами добычи и очистки. \n",
    "\n",
    "Модель поможет оптимизировать производство, чтобы не запускать предприятие с убыточными характеристиками.\n",
    "\n"
   ]
  },
  {
   "cell_type": "markdown",
   "metadata": {},
   "source": [
    "Цель исследования – на основании имеющихся данных о содержании веществ в сырье на разных этапах обогащения золота построить модель, которая будет предсказывать\n",
    "коэффициент восстановления золота из золотосодержащей руды.\n",
    "Исследование будет проходить в несколько этапов:\n",
    "- изучение и предварительная обработка данных;\n",
    "- исследовательский анализ данных, в ходе которого будет изучена динамика содержания различных веществ в сырье на каждом этапе производственного процесса;\n",
    "-  построение различных моделей  и выбор модели с лучшими показателями;\n",
    "- проверка выбранной модели на тестовой выборке, а также на адекватность\n"
   ]
  },
  {
   "cell_type": "markdown",
   "metadata": {},
   "source": [
    "## Подготовка данных"
   ]
  },
  {
   "cell_type": "code",
   "execution_count": 2,
   "metadata": {},
   "outputs": [],
   "source": [
    "import pandas as pd\n",
    "import numpy as np\n",
    "import seaborn as sns\n",
    "from sklearn.metrics import mean_absolute_error\n",
    "from matplotlib import pyplot as plt\n",
    "from sklearn.model_selection import GridSearchCV\n",
    "from sklearn.tree import DecisionTreeRegressor\n",
    "from sklearn.ensemble import RandomForestRegressor\n",
    "from sklearn.linear_model import LinearRegression\n",
    "from numpy.random import RandomState\n",
    "from sklearn.dummy import DummyRegressor\n",
    "from sklearn.metrics import make_scorer\n",
    "from sklearn.model_selection import cross_val_score\n"
   ]
  },
  {
   "cell_type": "markdown",
   "metadata": {},
   "source": [
    "Загружаем данные.Поскольку данные индексируются датой, используем столбец 'date' в качестве индексов"
   ]
  },
  {
   "cell_type": "code",
   "execution_count": 3,
   "metadata": {},
   "outputs": [],
   "source": [
    "# Загружаем обчающую выборку\n",
    "df_train = pd.read_csv('/datasets/gold_recovery_train_new.csv', index_col=['date'])\n"
   ]
  },
  {
   "cell_type": "code",
   "execution_count": 4,
   "metadata": {},
   "outputs": [],
   "source": [
    "# Загружаем тестовую выборку\n",
    "df_test = pd.read_csv('/datasets/gold_recovery_test_new.csv', index_col=['date'])"
   ]
  },
  {
   "cell_type": "code",
   "execution_count": 5,
   "metadata": {},
   "outputs": [],
   "source": [
    "# Загружаем исходные данные\n",
    "df_full = pd.read_csv('/datasets/gold_recovery_full_new.csv', index_col=['date'])"
   ]
  },
  {
   "cell_type": "markdown",
   "metadata": {},
   "source": [
    "Выведем первые строки, чтобы убедиться, что индексы применились корректно"
   ]
  },
  {
   "cell_type": "code",
   "execution_count": 6,
   "metadata": {},
   "outputs": [
    {
     "data": {
      "text/html": [
       "<div>\n",
       "<style scoped>\n",
       "    .dataframe tbody tr th:only-of-type {\n",
       "        vertical-align: middle;\n",
       "    }\n",
       "\n",
       "    .dataframe tbody tr th {\n",
       "        vertical-align: top;\n",
       "    }\n",
       "\n",
       "    .dataframe thead th {\n",
       "        text-align: right;\n",
       "    }\n",
       "</style>\n",
       "<table border=\"1\" class=\"dataframe\">\n",
       "  <thead>\n",
       "    <tr style=\"text-align: right;\">\n",
       "      <th></th>\n",
       "      <th>final.output.concentrate_ag</th>\n",
       "      <th>final.output.concentrate_pb</th>\n",
       "      <th>final.output.concentrate_sol</th>\n",
       "      <th>final.output.concentrate_au</th>\n",
       "      <th>final.output.recovery</th>\n",
       "      <th>final.output.tail_ag</th>\n",
       "      <th>final.output.tail_pb</th>\n",
       "      <th>final.output.tail_sol</th>\n",
       "      <th>final.output.tail_au</th>\n",
       "      <th>primary_cleaner.input.sulfate</th>\n",
       "      <th>...</th>\n",
       "      <th>secondary_cleaner.state.floatbank4_a_air</th>\n",
       "      <th>secondary_cleaner.state.floatbank4_a_level</th>\n",
       "      <th>secondary_cleaner.state.floatbank4_b_air</th>\n",
       "      <th>secondary_cleaner.state.floatbank4_b_level</th>\n",
       "      <th>secondary_cleaner.state.floatbank5_a_air</th>\n",
       "      <th>secondary_cleaner.state.floatbank5_a_level</th>\n",
       "      <th>secondary_cleaner.state.floatbank5_b_air</th>\n",
       "      <th>secondary_cleaner.state.floatbank5_b_level</th>\n",
       "      <th>secondary_cleaner.state.floatbank6_a_air</th>\n",
       "      <th>secondary_cleaner.state.floatbank6_a_level</th>\n",
       "    </tr>\n",
       "    <tr>\n",
       "      <th>date</th>\n",
       "      <th></th>\n",
       "      <th></th>\n",
       "      <th></th>\n",
       "      <th></th>\n",
       "      <th></th>\n",
       "      <th></th>\n",
       "      <th></th>\n",
       "      <th></th>\n",
       "      <th></th>\n",
       "      <th></th>\n",
       "      <th></th>\n",
       "      <th></th>\n",
       "      <th></th>\n",
       "      <th></th>\n",
       "      <th></th>\n",
       "      <th></th>\n",
       "      <th></th>\n",
       "      <th></th>\n",
       "      <th></th>\n",
       "      <th></th>\n",
       "      <th></th>\n",
       "    </tr>\n",
       "  </thead>\n",
       "  <tbody>\n",
       "    <tr>\n",
       "      <th>2016-01-15 00:00:00</th>\n",
       "      <td>6.055403</td>\n",
       "      <td>9.889648</td>\n",
       "      <td>5.507324</td>\n",
       "      <td>42.192020</td>\n",
       "      <td>70.541216</td>\n",
       "      <td>10.411962</td>\n",
       "      <td>0.895447</td>\n",
       "      <td>16.904297</td>\n",
       "      <td>2.143149</td>\n",
       "      <td>127.092003</td>\n",
       "      <td>...</td>\n",
       "      <td>14.016835</td>\n",
       "      <td>-502.488007</td>\n",
       "      <td>12.099931</td>\n",
       "      <td>-504.715942</td>\n",
       "      <td>9.925633</td>\n",
       "      <td>-498.310211</td>\n",
       "      <td>8.079666</td>\n",
       "      <td>-500.470978</td>\n",
       "      <td>14.151341</td>\n",
       "      <td>-605.841980</td>\n",
       "    </tr>\n",
       "    <tr>\n",
       "      <th>2016-01-15 01:00:00</th>\n",
       "      <td>6.029369</td>\n",
       "      <td>9.968944</td>\n",
       "      <td>5.257781</td>\n",
       "      <td>42.701629</td>\n",
       "      <td>69.266198</td>\n",
       "      <td>10.462676</td>\n",
       "      <td>0.927452</td>\n",
       "      <td>16.634514</td>\n",
       "      <td>2.224930</td>\n",
       "      <td>125.629232</td>\n",
       "      <td>...</td>\n",
       "      <td>13.992281</td>\n",
       "      <td>-505.503262</td>\n",
       "      <td>11.950531</td>\n",
       "      <td>-501.331529</td>\n",
       "      <td>10.039245</td>\n",
       "      <td>-500.169983</td>\n",
       "      <td>7.984757</td>\n",
       "      <td>-500.582168</td>\n",
       "      <td>13.998353</td>\n",
       "      <td>-599.787184</td>\n",
       "    </tr>\n",
       "    <tr>\n",
       "      <th>2016-01-15 02:00:00</th>\n",
       "      <td>6.055926</td>\n",
       "      <td>10.213995</td>\n",
       "      <td>5.383759</td>\n",
       "      <td>42.657501</td>\n",
       "      <td>68.116445</td>\n",
       "      <td>10.507046</td>\n",
       "      <td>0.953716</td>\n",
       "      <td>16.208849</td>\n",
       "      <td>2.257889</td>\n",
       "      <td>123.819808</td>\n",
       "      <td>...</td>\n",
       "      <td>14.015015</td>\n",
       "      <td>-502.520901</td>\n",
       "      <td>11.912783</td>\n",
       "      <td>-501.133383</td>\n",
       "      <td>10.070913</td>\n",
       "      <td>-500.129135</td>\n",
       "      <td>8.013877</td>\n",
       "      <td>-500.517572</td>\n",
       "      <td>14.028663</td>\n",
       "      <td>-601.427363</td>\n",
       "    </tr>\n",
       "  </tbody>\n",
       "</table>\n",
       "<p>3 rows × 86 columns</p>\n",
       "</div>"
      ],
      "text/plain": [
       "                     final.output.concentrate_ag  final.output.concentrate_pb  \\\n",
       "date                                                                            \n",
       "2016-01-15 00:00:00                     6.055403                     9.889648   \n",
       "2016-01-15 01:00:00                     6.029369                     9.968944   \n",
       "2016-01-15 02:00:00                     6.055926                    10.213995   \n",
       "\n",
       "                     final.output.concentrate_sol  \\\n",
       "date                                                \n",
       "2016-01-15 00:00:00                      5.507324   \n",
       "2016-01-15 01:00:00                      5.257781   \n",
       "2016-01-15 02:00:00                      5.383759   \n",
       "\n",
       "                     final.output.concentrate_au  final.output.recovery  \\\n",
       "date                                                                      \n",
       "2016-01-15 00:00:00                    42.192020              70.541216   \n",
       "2016-01-15 01:00:00                    42.701629              69.266198   \n",
       "2016-01-15 02:00:00                    42.657501              68.116445   \n",
       "\n",
       "                     final.output.tail_ag  final.output.tail_pb  \\\n",
       "date                                                              \n",
       "2016-01-15 00:00:00             10.411962              0.895447   \n",
       "2016-01-15 01:00:00             10.462676              0.927452   \n",
       "2016-01-15 02:00:00             10.507046              0.953716   \n",
       "\n",
       "                     final.output.tail_sol  final.output.tail_au  \\\n",
       "date                                                               \n",
       "2016-01-15 00:00:00              16.904297              2.143149   \n",
       "2016-01-15 01:00:00              16.634514              2.224930   \n",
       "2016-01-15 02:00:00              16.208849              2.257889   \n",
       "\n",
       "                     primary_cleaner.input.sulfate  ...  \\\n",
       "date                                                ...   \n",
       "2016-01-15 00:00:00                     127.092003  ...   \n",
       "2016-01-15 01:00:00                     125.629232  ...   \n",
       "2016-01-15 02:00:00                     123.819808  ...   \n",
       "\n",
       "                     secondary_cleaner.state.floatbank4_a_air  \\\n",
       "date                                                            \n",
       "2016-01-15 00:00:00                                 14.016835   \n",
       "2016-01-15 01:00:00                                 13.992281   \n",
       "2016-01-15 02:00:00                                 14.015015   \n",
       "\n",
       "                     secondary_cleaner.state.floatbank4_a_level  \\\n",
       "date                                                              \n",
       "2016-01-15 00:00:00                                 -502.488007   \n",
       "2016-01-15 01:00:00                                 -505.503262   \n",
       "2016-01-15 02:00:00                                 -502.520901   \n",
       "\n",
       "                     secondary_cleaner.state.floatbank4_b_air  \\\n",
       "date                                                            \n",
       "2016-01-15 00:00:00                                 12.099931   \n",
       "2016-01-15 01:00:00                                 11.950531   \n",
       "2016-01-15 02:00:00                                 11.912783   \n",
       "\n",
       "                     secondary_cleaner.state.floatbank4_b_level  \\\n",
       "date                                                              \n",
       "2016-01-15 00:00:00                                 -504.715942   \n",
       "2016-01-15 01:00:00                                 -501.331529   \n",
       "2016-01-15 02:00:00                                 -501.133383   \n",
       "\n",
       "                     secondary_cleaner.state.floatbank5_a_air  \\\n",
       "date                                                            \n",
       "2016-01-15 00:00:00                                  9.925633   \n",
       "2016-01-15 01:00:00                                 10.039245   \n",
       "2016-01-15 02:00:00                                 10.070913   \n",
       "\n",
       "                     secondary_cleaner.state.floatbank5_a_level  \\\n",
       "date                                                              \n",
       "2016-01-15 00:00:00                                 -498.310211   \n",
       "2016-01-15 01:00:00                                 -500.169983   \n",
       "2016-01-15 02:00:00                                 -500.129135   \n",
       "\n",
       "                     secondary_cleaner.state.floatbank5_b_air  \\\n",
       "date                                                            \n",
       "2016-01-15 00:00:00                                  8.079666   \n",
       "2016-01-15 01:00:00                                  7.984757   \n",
       "2016-01-15 02:00:00                                  8.013877   \n",
       "\n",
       "                     secondary_cleaner.state.floatbank5_b_level  \\\n",
       "date                                                              \n",
       "2016-01-15 00:00:00                                 -500.470978   \n",
       "2016-01-15 01:00:00                                 -500.582168   \n",
       "2016-01-15 02:00:00                                 -500.517572   \n",
       "\n",
       "                     secondary_cleaner.state.floatbank6_a_air  \\\n",
       "date                                                            \n",
       "2016-01-15 00:00:00                                 14.151341   \n",
       "2016-01-15 01:00:00                                 13.998353   \n",
       "2016-01-15 02:00:00                                 14.028663   \n",
       "\n",
       "                     secondary_cleaner.state.floatbank6_a_level  \n",
       "date                                                             \n",
       "2016-01-15 00:00:00                                 -605.841980  \n",
       "2016-01-15 01:00:00                                 -599.787184  \n",
       "2016-01-15 02:00:00                                 -601.427363  \n",
       "\n",
       "[3 rows x 86 columns]"
      ]
     },
     "execution_count": 6,
     "metadata": {},
     "output_type": "execute_result"
    }
   ],
   "source": [
    "df_train.head(3)  "
   ]
  },
  {
   "cell_type": "code",
   "execution_count": 7,
   "metadata": {},
   "outputs": [
    {
     "data": {
      "text/html": [
       "<div>\n",
       "<style scoped>\n",
       "    .dataframe tbody tr th:only-of-type {\n",
       "        vertical-align: middle;\n",
       "    }\n",
       "\n",
       "    .dataframe tbody tr th {\n",
       "        vertical-align: top;\n",
       "    }\n",
       "\n",
       "    .dataframe thead th {\n",
       "        text-align: right;\n",
       "    }\n",
       "</style>\n",
       "<table border=\"1\" class=\"dataframe\">\n",
       "  <thead>\n",
       "    <tr style=\"text-align: right;\">\n",
       "      <th></th>\n",
       "      <th>primary_cleaner.input.sulfate</th>\n",
       "      <th>primary_cleaner.input.depressant</th>\n",
       "      <th>primary_cleaner.input.feed_size</th>\n",
       "      <th>primary_cleaner.input.xanthate</th>\n",
       "      <th>primary_cleaner.state.floatbank8_a_air</th>\n",
       "      <th>primary_cleaner.state.floatbank8_a_level</th>\n",
       "      <th>primary_cleaner.state.floatbank8_b_air</th>\n",
       "      <th>primary_cleaner.state.floatbank8_b_level</th>\n",
       "      <th>primary_cleaner.state.floatbank8_c_air</th>\n",
       "      <th>primary_cleaner.state.floatbank8_c_level</th>\n",
       "      <th>...</th>\n",
       "      <th>secondary_cleaner.state.floatbank4_a_air</th>\n",
       "      <th>secondary_cleaner.state.floatbank4_a_level</th>\n",
       "      <th>secondary_cleaner.state.floatbank4_b_air</th>\n",
       "      <th>secondary_cleaner.state.floatbank4_b_level</th>\n",
       "      <th>secondary_cleaner.state.floatbank5_a_air</th>\n",
       "      <th>secondary_cleaner.state.floatbank5_a_level</th>\n",
       "      <th>secondary_cleaner.state.floatbank5_b_air</th>\n",
       "      <th>secondary_cleaner.state.floatbank5_b_level</th>\n",
       "      <th>secondary_cleaner.state.floatbank6_a_air</th>\n",
       "      <th>secondary_cleaner.state.floatbank6_a_level</th>\n",
       "    </tr>\n",
       "    <tr>\n",
       "      <th>date</th>\n",
       "      <th></th>\n",
       "      <th></th>\n",
       "      <th></th>\n",
       "      <th></th>\n",
       "      <th></th>\n",
       "      <th></th>\n",
       "      <th></th>\n",
       "      <th></th>\n",
       "      <th></th>\n",
       "      <th></th>\n",
       "      <th></th>\n",
       "      <th></th>\n",
       "      <th></th>\n",
       "      <th></th>\n",
       "      <th></th>\n",
       "      <th></th>\n",
       "      <th></th>\n",
       "      <th></th>\n",
       "      <th></th>\n",
       "      <th></th>\n",
       "      <th></th>\n",
       "    </tr>\n",
       "  </thead>\n",
       "  <tbody>\n",
       "    <tr>\n",
       "      <th>2016-09-01 00:59:59</th>\n",
       "      <td>210.800909</td>\n",
       "      <td>14.993118</td>\n",
       "      <td>8.080000</td>\n",
       "      <td>1.005021</td>\n",
       "      <td>1398.981301</td>\n",
       "      <td>-500.225577</td>\n",
       "      <td>1399.144926</td>\n",
       "      <td>-499.919735</td>\n",
       "      <td>1400.102998</td>\n",
       "      <td>-500.704369</td>\n",
       "      <td>...</td>\n",
       "      <td>12.023554</td>\n",
       "      <td>-497.795834</td>\n",
       "      <td>8.016656</td>\n",
       "      <td>-501.289139</td>\n",
       "      <td>7.946562</td>\n",
       "      <td>-432.317850</td>\n",
       "      <td>4.872511</td>\n",
       "      <td>-500.037437</td>\n",
       "      <td>26.705889</td>\n",
       "      <td>-499.709414</td>\n",
       "    </tr>\n",
       "    <tr>\n",
       "      <th>2016-09-01 01:59:59</th>\n",
       "      <td>215.392455</td>\n",
       "      <td>14.987471</td>\n",
       "      <td>8.080000</td>\n",
       "      <td>0.990469</td>\n",
       "      <td>1398.777912</td>\n",
       "      <td>-500.057435</td>\n",
       "      <td>1398.055362</td>\n",
       "      <td>-499.778182</td>\n",
       "      <td>1396.151033</td>\n",
       "      <td>-499.240168</td>\n",
       "      <td>...</td>\n",
       "      <td>12.058140</td>\n",
       "      <td>-498.695773</td>\n",
       "      <td>8.130979</td>\n",
       "      <td>-499.634209</td>\n",
       "      <td>7.958270</td>\n",
       "      <td>-525.839648</td>\n",
       "      <td>4.878850</td>\n",
       "      <td>-500.162375</td>\n",
       "      <td>25.019940</td>\n",
       "      <td>-499.819438</td>\n",
       "    </tr>\n",
       "    <tr>\n",
       "      <th>2016-09-01 02:59:59</th>\n",
       "      <td>215.259946</td>\n",
       "      <td>12.884934</td>\n",
       "      <td>7.786667</td>\n",
       "      <td>0.996043</td>\n",
       "      <td>1398.493666</td>\n",
       "      <td>-500.868360</td>\n",
       "      <td>1398.860436</td>\n",
       "      <td>-499.764529</td>\n",
       "      <td>1398.075709</td>\n",
       "      <td>-502.151509</td>\n",
       "      <td>...</td>\n",
       "      <td>11.962366</td>\n",
       "      <td>-498.767484</td>\n",
       "      <td>8.096893</td>\n",
       "      <td>-500.827423</td>\n",
       "      <td>8.071056</td>\n",
       "      <td>-500.801673</td>\n",
       "      <td>4.905125</td>\n",
       "      <td>-499.828510</td>\n",
       "      <td>24.994862</td>\n",
       "      <td>-500.622559</td>\n",
       "    </tr>\n",
       "  </tbody>\n",
       "</table>\n",
       "<p>3 rows × 52 columns</p>\n",
       "</div>"
      ],
      "text/plain": [
       "                     primary_cleaner.input.sulfate  \\\n",
       "date                                                 \n",
       "2016-09-01 00:59:59                     210.800909   \n",
       "2016-09-01 01:59:59                     215.392455   \n",
       "2016-09-01 02:59:59                     215.259946   \n",
       "\n",
       "                     primary_cleaner.input.depressant  \\\n",
       "date                                                    \n",
       "2016-09-01 00:59:59                         14.993118   \n",
       "2016-09-01 01:59:59                         14.987471   \n",
       "2016-09-01 02:59:59                         12.884934   \n",
       "\n",
       "                     primary_cleaner.input.feed_size  \\\n",
       "date                                                   \n",
       "2016-09-01 00:59:59                         8.080000   \n",
       "2016-09-01 01:59:59                         8.080000   \n",
       "2016-09-01 02:59:59                         7.786667   \n",
       "\n",
       "                     primary_cleaner.input.xanthate  \\\n",
       "date                                                  \n",
       "2016-09-01 00:59:59                        1.005021   \n",
       "2016-09-01 01:59:59                        0.990469   \n",
       "2016-09-01 02:59:59                        0.996043   \n",
       "\n",
       "                     primary_cleaner.state.floatbank8_a_air  \\\n",
       "date                                                          \n",
       "2016-09-01 00:59:59                             1398.981301   \n",
       "2016-09-01 01:59:59                             1398.777912   \n",
       "2016-09-01 02:59:59                             1398.493666   \n",
       "\n",
       "                     primary_cleaner.state.floatbank8_a_level  \\\n",
       "date                                                            \n",
       "2016-09-01 00:59:59                               -500.225577   \n",
       "2016-09-01 01:59:59                               -500.057435   \n",
       "2016-09-01 02:59:59                               -500.868360   \n",
       "\n",
       "                     primary_cleaner.state.floatbank8_b_air  \\\n",
       "date                                                          \n",
       "2016-09-01 00:59:59                             1399.144926   \n",
       "2016-09-01 01:59:59                             1398.055362   \n",
       "2016-09-01 02:59:59                             1398.860436   \n",
       "\n",
       "                     primary_cleaner.state.floatbank8_b_level  \\\n",
       "date                                                            \n",
       "2016-09-01 00:59:59                               -499.919735   \n",
       "2016-09-01 01:59:59                               -499.778182   \n",
       "2016-09-01 02:59:59                               -499.764529   \n",
       "\n",
       "                     primary_cleaner.state.floatbank8_c_air  \\\n",
       "date                                                          \n",
       "2016-09-01 00:59:59                             1400.102998   \n",
       "2016-09-01 01:59:59                             1396.151033   \n",
       "2016-09-01 02:59:59                             1398.075709   \n",
       "\n",
       "                     primary_cleaner.state.floatbank8_c_level  ...  \\\n",
       "date                                                           ...   \n",
       "2016-09-01 00:59:59                               -500.704369  ...   \n",
       "2016-09-01 01:59:59                               -499.240168  ...   \n",
       "2016-09-01 02:59:59                               -502.151509  ...   \n",
       "\n",
       "                     secondary_cleaner.state.floatbank4_a_air  \\\n",
       "date                                                            \n",
       "2016-09-01 00:59:59                                 12.023554   \n",
       "2016-09-01 01:59:59                                 12.058140   \n",
       "2016-09-01 02:59:59                                 11.962366   \n",
       "\n",
       "                     secondary_cleaner.state.floatbank4_a_level  \\\n",
       "date                                                              \n",
       "2016-09-01 00:59:59                                 -497.795834   \n",
       "2016-09-01 01:59:59                                 -498.695773   \n",
       "2016-09-01 02:59:59                                 -498.767484   \n",
       "\n",
       "                     secondary_cleaner.state.floatbank4_b_air  \\\n",
       "date                                                            \n",
       "2016-09-01 00:59:59                                  8.016656   \n",
       "2016-09-01 01:59:59                                  8.130979   \n",
       "2016-09-01 02:59:59                                  8.096893   \n",
       "\n",
       "                     secondary_cleaner.state.floatbank4_b_level  \\\n",
       "date                                                              \n",
       "2016-09-01 00:59:59                                 -501.289139   \n",
       "2016-09-01 01:59:59                                 -499.634209   \n",
       "2016-09-01 02:59:59                                 -500.827423   \n",
       "\n",
       "                     secondary_cleaner.state.floatbank5_a_air  \\\n",
       "date                                                            \n",
       "2016-09-01 00:59:59                                  7.946562   \n",
       "2016-09-01 01:59:59                                  7.958270   \n",
       "2016-09-01 02:59:59                                  8.071056   \n",
       "\n",
       "                     secondary_cleaner.state.floatbank5_a_level  \\\n",
       "date                                                              \n",
       "2016-09-01 00:59:59                                 -432.317850   \n",
       "2016-09-01 01:59:59                                 -525.839648   \n",
       "2016-09-01 02:59:59                                 -500.801673   \n",
       "\n",
       "                     secondary_cleaner.state.floatbank5_b_air  \\\n",
       "date                                                            \n",
       "2016-09-01 00:59:59                                  4.872511   \n",
       "2016-09-01 01:59:59                                  4.878850   \n",
       "2016-09-01 02:59:59                                  4.905125   \n",
       "\n",
       "                     secondary_cleaner.state.floatbank5_b_level  \\\n",
       "date                                                              \n",
       "2016-09-01 00:59:59                                 -500.037437   \n",
       "2016-09-01 01:59:59                                 -500.162375   \n",
       "2016-09-01 02:59:59                                 -499.828510   \n",
       "\n",
       "                     secondary_cleaner.state.floatbank6_a_air  \\\n",
       "date                                                            \n",
       "2016-09-01 00:59:59                                 26.705889   \n",
       "2016-09-01 01:59:59                                 25.019940   \n",
       "2016-09-01 02:59:59                                 24.994862   \n",
       "\n",
       "                     secondary_cleaner.state.floatbank6_a_level  \n",
       "date                                                             \n",
       "2016-09-01 00:59:59                                 -499.709414  \n",
       "2016-09-01 01:59:59                                 -499.819438  \n",
       "2016-09-01 02:59:59                                 -500.622559  \n",
       "\n",
       "[3 rows x 52 columns]"
      ]
     },
     "execution_count": 7,
     "metadata": {},
     "output_type": "execute_result"
    }
   ],
   "source": [
    "df_test.head(3)"
   ]
  },
  {
   "cell_type": "code",
   "execution_count": 8,
   "metadata": {},
   "outputs": [
    {
     "data": {
      "text/html": [
       "<div>\n",
       "<style scoped>\n",
       "    .dataframe tbody tr th:only-of-type {\n",
       "        vertical-align: middle;\n",
       "    }\n",
       "\n",
       "    .dataframe tbody tr th {\n",
       "        vertical-align: top;\n",
       "    }\n",
       "\n",
       "    .dataframe thead th {\n",
       "        text-align: right;\n",
       "    }\n",
       "</style>\n",
       "<table border=\"1\" class=\"dataframe\">\n",
       "  <thead>\n",
       "    <tr style=\"text-align: right;\">\n",
       "      <th></th>\n",
       "      <th>final.output.concentrate_ag</th>\n",
       "      <th>final.output.concentrate_pb</th>\n",
       "      <th>final.output.concentrate_sol</th>\n",
       "      <th>final.output.concentrate_au</th>\n",
       "      <th>final.output.recovery</th>\n",
       "      <th>final.output.tail_ag</th>\n",
       "      <th>final.output.tail_pb</th>\n",
       "      <th>final.output.tail_sol</th>\n",
       "      <th>final.output.tail_au</th>\n",
       "      <th>primary_cleaner.input.sulfate</th>\n",
       "      <th>...</th>\n",
       "      <th>secondary_cleaner.state.floatbank4_a_air</th>\n",
       "      <th>secondary_cleaner.state.floatbank4_a_level</th>\n",
       "      <th>secondary_cleaner.state.floatbank4_b_air</th>\n",
       "      <th>secondary_cleaner.state.floatbank4_b_level</th>\n",
       "      <th>secondary_cleaner.state.floatbank5_a_air</th>\n",
       "      <th>secondary_cleaner.state.floatbank5_a_level</th>\n",
       "      <th>secondary_cleaner.state.floatbank5_b_air</th>\n",
       "      <th>secondary_cleaner.state.floatbank5_b_level</th>\n",
       "      <th>secondary_cleaner.state.floatbank6_a_air</th>\n",
       "      <th>secondary_cleaner.state.floatbank6_a_level</th>\n",
       "    </tr>\n",
       "    <tr>\n",
       "      <th>date</th>\n",
       "      <th></th>\n",
       "      <th></th>\n",
       "      <th></th>\n",
       "      <th></th>\n",
       "      <th></th>\n",
       "      <th></th>\n",
       "      <th></th>\n",
       "      <th></th>\n",
       "      <th></th>\n",
       "      <th></th>\n",
       "      <th></th>\n",
       "      <th></th>\n",
       "      <th></th>\n",
       "      <th></th>\n",
       "      <th></th>\n",
       "      <th></th>\n",
       "      <th></th>\n",
       "      <th></th>\n",
       "      <th></th>\n",
       "      <th></th>\n",
       "      <th></th>\n",
       "    </tr>\n",
       "  </thead>\n",
       "  <tbody>\n",
       "    <tr>\n",
       "      <th>2016-01-15 00:00:00</th>\n",
       "      <td>6.055403</td>\n",
       "      <td>9.889648</td>\n",
       "      <td>5.507324</td>\n",
       "      <td>42.192020</td>\n",
       "      <td>70.541216</td>\n",
       "      <td>10.411962</td>\n",
       "      <td>0.895447</td>\n",
       "      <td>16.904297</td>\n",
       "      <td>2.143149</td>\n",
       "      <td>127.092003</td>\n",
       "      <td>...</td>\n",
       "      <td>14.016835</td>\n",
       "      <td>-502.488007</td>\n",
       "      <td>12.099931</td>\n",
       "      <td>-504.715942</td>\n",
       "      <td>9.925633</td>\n",
       "      <td>-498.310211</td>\n",
       "      <td>8.079666</td>\n",
       "      <td>-500.470978</td>\n",
       "      <td>14.151341</td>\n",
       "      <td>-605.841980</td>\n",
       "    </tr>\n",
       "    <tr>\n",
       "      <th>2016-01-15 01:00:00</th>\n",
       "      <td>6.029369</td>\n",
       "      <td>9.968944</td>\n",
       "      <td>5.257781</td>\n",
       "      <td>42.701629</td>\n",
       "      <td>69.266198</td>\n",
       "      <td>10.462676</td>\n",
       "      <td>0.927452</td>\n",
       "      <td>16.634514</td>\n",
       "      <td>2.224930</td>\n",
       "      <td>125.629232</td>\n",
       "      <td>...</td>\n",
       "      <td>13.992281</td>\n",
       "      <td>-505.503262</td>\n",
       "      <td>11.950531</td>\n",
       "      <td>-501.331529</td>\n",
       "      <td>10.039245</td>\n",
       "      <td>-500.169983</td>\n",
       "      <td>7.984757</td>\n",
       "      <td>-500.582168</td>\n",
       "      <td>13.998353</td>\n",
       "      <td>-599.787184</td>\n",
       "    </tr>\n",
       "    <tr>\n",
       "      <th>2016-01-15 02:00:00</th>\n",
       "      <td>6.055926</td>\n",
       "      <td>10.213995</td>\n",
       "      <td>5.383759</td>\n",
       "      <td>42.657501</td>\n",
       "      <td>68.116445</td>\n",
       "      <td>10.507046</td>\n",
       "      <td>0.953716</td>\n",
       "      <td>16.208849</td>\n",
       "      <td>2.257889</td>\n",
       "      <td>123.819808</td>\n",
       "      <td>...</td>\n",
       "      <td>14.015015</td>\n",
       "      <td>-502.520901</td>\n",
       "      <td>11.912783</td>\n",
       "      <td>-501.133383</td>\n",
       "      <td>10.070913</td>\n",
       "      <td>-500.129135</td>\n",
       "      <td>8.013877</td>\n",
       "      <td>-500.517572</td>\n",
       "      <td>14.028663</td>\n",
       "      <td>-601.427363</td>\n",
       "    </tr>\n",
       "  </tbody>\n",
       "</table>\n",
       "<p>3 rows × 86 columns</p>\n",
       "</div>"
      ],
      "text/plain": [
       "                     final.output.concentrate_ag  final.output.concentrate_pb  \\\n",
       "date                                                                            \n",
       "2016-01-15 00:00:00                     6.055403                     9.889648   \n",
       "2016-01-15 01:00:00                     6.029369                     9.968944   \n",
       "2016-01-15 02:00:00                     6.055926                    10.213995   \n",
       "\n",
       "                     final.output.concentrate_sol  \\\n",
       "date                                                \n",
       "2016-01-15 00:00:00                      5.507324   \n",
       "2016-01-15 01:00:00                      5.257781   \n",
       "2016-01-15 02:00:00                      5.383759   \n",
       "\n",
       "                     final.output.concentrate_au  final.output.recovery  \\\n",
       "date                                                                      \n",
       "2016-01-15 00:00:00                    42.192020              70.541216   \n",
       "2016-01-15 01:00:00                    42.701629              69.266198   \n",
       "2016-01-15 02:00:00                    42.657501              68.116445   \n",
       "\n",
       "                     final.output.tail_ag  final.output.tail_pb  \\\n",
       "date                                                              \n",
       "2016-01-15 00:00:00             10.411962              0.895447   \n",
       "2016-01-15 01:00:00             10.462676              0.927452   \n",
       "2016-01-15 02:00:00             10.507046              0.953716   \n",
       "\n",
       "                     final.output.tail_sol  final.output.tail_au  \\\n",
       "date                                                               \n",
       "2016-01-15 00:00:00              16.904297              2.143149   \n",
       "2016-01-15 01:00:00              16.634514              2.224930   \n",
       "2016-01-15 02:00:00              16.208849              2.257889   \n",
       "\n",
       "                     primary_cleaner.input.sulfate  ...  \\\n",
       "date                                                ...   \n",
       "2016-01-15 00:00:00                     127.092003  ...   \n",
       "2016-01-15 01:00:00                     125.629232  ...   \n",
       "2016-01-15 02:00:00                     123.819808  ...   \n",
       "\n",
       "                     secondary_cleaner.state.floatbank4_a_air  \\\n",
       "date                                                            \n",
       "2016-01-15 00:00:00                                 14.016835   \n",
       "2016-01-15 01:00:00                                 13.992281   \n",
       "2016-01-15 02:00:00                                 14.015015   \n",
       "\n",
       "                     secondary_cleaner.state.floatbank4_a_level  \\\n",
       "date                                                              \n",
       "2016-01-15 00:00:00                                 -502.488007   \n",
       "2016-01-15 01:00:00                                 -505.503262   \n",
       "2016-01-15 02:00:00                                 -502.520901   \n",
       "\n",
       "                     secondary_cleaner.state.floatbank4_b_air  \\\n",
       "date                                                            \n",
       "2016-01-15 00:00:00                                 12.099931   \n",
       "2016-01-15 01:00:00                                 11.950531   \n",
       "2016-01-15 02:00:00                                 11.912783   \n",
       "\n",
       "                     secondary_cleaner.state.floatbank4_b_level  \\\n",
       "date                                                              \n",
       "2016-01-15 00:00:00                                 -504.715942   \n",
       "2016-01-15 01:00:00                                 -501.331529   \n",
       "2016-01-15 02:00:00                                 -501.133383   \n",
       "\n",
       "                     secondary_cleaner.state.floatbank5_a_air  \\\n",
       "date                                                            \n",
       "2016-01-15 00:00:00                                  9.925633   \n",
       "2016-01-15 01:00:00                                 10.039245   \n",
       "2016-01-15 02:00:00                                 10.070913   \n",
       "\n",
       "                     secondary_cleaner.state.floatbank5_a_level  \\\n",
       "date                                                              \n",
       "2016-01-15 00:00:00                                 -498.310211   \n",
       "2016-01-15 01:00:00                                 -500.169983   \n",
       "2016-01-15 02:00:00                                 -500.129135   \n",
       "\n",
       "                     secondary_cleaner.state.floatbank5_b_air  \\\n",
       "date                                                            \n",
       "2016-01-15 00:00:00                                  8.079666   \n",
       "2016-01-15 01:00:00                                  7.984757   \n",
       "2016-01-15 02:00:00                                  8.013877   \n",
       "\n",
       "                     secondary_cleaner.state.floatbank5_b_level  \\\n",
       "date                                                              \n",
       "2016-01-15 00:00:00                                 -500.470978   \n",
       "2016-01-15 01:00:00                                 -500.582168   \n",
       "2016-01-15 02:00:00                                 -500.517572   \n",
       "\n",
       "                     secondary_cleaner.state.floatbank6_a_air  \\\n",
       "date                                                            \n",
       "2016-01-15 00:00:00                                 14.151341   \n",
       "2016-01-15 01:00:00                                 13.998353   \n",
       "2016-01-15 02:00:00                                 14.028663   \n",
       "\n",
       "                     secondary_cleaner.state.floatbank6_a_level  \n",
       "date                                                             \n",
       "2016-01-15 00:00:00                                 -605.841980  \n",
       "2016-01-15 01:00:00                                 -599.787184  \n",
       "2016-01-15 02:00:00                                 -601.427363  \n",
       "\n",
       "[3 rows x 86 columns]"
      ]
     },
     "execution_count": 8,
     "metadata": {},
     "output_type": "execute_result"
    }
   ],
   "source": [
    "df_full.head(3)"
   ]
  },
  {
   "cell_type": "markdown",
   "metadata": {},
   "source": [
    "Изучим информацию о датасетах"
   ]
  },
  {
   "cell_type": "code",
   "execution_count": 9,
   "metadata": {},
   "outputs": [
    {
     "name": "stdout",
     "output_type": "stream",
     "text": [
      "<class 'pandas.core.frame.DataFrame'>\n",
      "Index: 14149 entries, 2016-01-15 00:00:00 to 2018-08-18 10:59:59\n",
      "Data columns (total 86 columns):\n",
      " #   Column                                              Non-Null Count  Dtype  \n",
      "---  ------                                              --------------  -----  \n",
      " 0   final.output.concentrate_ag                         14148 non-null  float64\n",
      " 1   final.output.concentrate_pb                         14148 non-null  float64\n",
      " 2   final.output.concentrate_sol                        13938 non-null  float64\n",
      " 3   final.output.concentrate_au                         14149 non-null  float64\n",
      " 4   final.output.recovery                               14149 non-null  float64\n",
      " 5   final.output.tail_ag                                14149 non-null  float64\n",
      " 6   final.output.tail_pb                                14049 non-null  float64\n",
      " 7   final.output.tail_sol                               14144 non-null  float64\n",
      " 8   final.output.tail_au                                14149 non-null  float64\n",
      " 9   primary_cleaner.input.sulfate                       14129 non-null  float64\n",
      " 10  primary_cleaner.input.depressant                    14117 non-null  float64\n",
      " 11  primary_cleaner.input.feed_size                     14149 non-null  float64\n",
      " 12  primary_cleaner.input.xanthate                      14049 non-null  float64\n",
      " 13  primary_cleaner.output.concentrate_ag               14149 non-null  float64\n",
      " 14  primary_cleaner.output.concentrate_pb               14063 non-null  float64\n",
      " 15  primary_cleaner.output.concentrate_sol              13863 non-null  float64\n",
      " 16  primary_cleaner.output.concentrate_au               14149 non-null  float64\n",
      " 17  primary_cleaner.output.tail_ag                      14148 non-null  float64\n",
      " 18  primary_cleaner.output.tail_pb                      14134 non-null  float64\n",
      " 19  primary_cleaner.output.tail_sol                     14103 non-null  float64\n",
      " 20  primary_cleaner.output.tail_au                      14149 non-null  float64\n",
      " 21  primary_cleaner.state.floatbank8_a_air              14145 non-null  float64\n",
      " 22  primary_cleaner.state.floatbank8_a_level            14148 non-null  float64\n",
      " 23  primary_cleaner.state.floatbank8_b_air              14145 non-null  float64\n",
      " 24  primary_cleaner.state.floatbank8_b_level            14148 non-null  float64\n",
      " 25  primary_cleaner.state.floatbank8_c_air              14147 non-null  float64\n",
      " 26  primary_cleaner.state.floatbank8_c_level            14148 non-null  float64\n",
      " 27  primary_cleaner.state.floatbank8_d_air              14146 non-null  float64\n",
      " 28  primary_cleaner.state.floatbank8_d_level            14148 non-null  float64\n",
      " 29  rougher.calculation.sulfate_to_au_concentrate       14148 non-null  float64\n",
      " 30  rougher.calculation.floatbank10_sulfate_to_au_feed  14148 non-null  float64\n",
      " 31  rougher.calculation.floatbank11_sulfate_to_au_feed  14148 non-null  float64\n",
      " 32  rougher.calculation.au_pb_ratio                     14149 non-null  float64\n",
      " 33  rougher.input.feed_ag                               14149 non-null  float64\n",
      " 34  rougher.input.feed_pb                               14049 non-null  float64\n",
      " 35  rougher.input.feed_rate                             14141 non-null  float64\n",
      " 36  rougher.input.feed_size                             14005 non-null  float64\n",
      " 37  rougher.input.feed_sol                              14071 non-null  float64\n",
      " 38  rougher.input.feed_au                               14149 non-null  float64\n",
      " 39  rougher.input.floatbank10_sulfate                   14120 non-null  float64\n",
      " 40  rougher.input.floatbank10_xanthate                  14141 non-null  float64\n",
      " 41  rougher.input.floatbank11_sulfate                   14113 non-null  float64\n",
      " 42  rougher.input.floatbank11_xanthate                  13721 non-null  float64\n",
      " 43  rougher.output.concentrate_ag                       14149 non-null  float64\n",
      " 44  rougher.output.concentrate_pb                       14149 non-null  float64\n",
      " 45  rougher.output.concentrate_sol                      14127 non-null  float64\n",
      " 46  rougher.output.concentrate_au                       14149 non-null  float64\n",
      " 47  rougher.output.recovery                             14149 non-null  float64\n",
      " 48  rougher.output.tail_ag                              14148 non-null  float64\n",
      " 49  rougher.output.tail_pb                              14149 non-null  float64\n",
      " 50  rougher.output.tail_sol                             14149 non-null  float64\n",
      " 51  rougher.output.tail_au                              14149 non-null  float64\n",
      " 52  rougher.state.floatbank10_a_air                     14148 non-null  float64\n",
      " 53  rougher.state.floatbank10_a_level                   14148 non-null  float64\n",
      " 54  rougher.state.floatbank10_b_air                     14148 non-null  float64\n",
      " 55  rougher.state.floatbank10_b_level                   14148 non-null  float64\n",
      " 56  rougher.state.floatbank10_c_air                     14148 non-null  float64\n",
      " 57  rougher.state.floatbank10_c_level                   14148 non-null  float64\n",
      " 58  rougher.state.floatbank10_d_air                     14149 non-null  float64\n",
      " 59  rougher.state.floatbank10_d_level                   14149 non-null  float64\n",
      " 60  rougher.state.floatbank10_e_air                     13713 non-null  float64\n",
      " 61  rougher.state.floatbank10_e_level                   14149 non-null  float64\n",
      " 62  rougher.state.floatbank10_f_air                     14149 non-null  float64\n",
      " 63  rougher.state.floatbank10_f_level                   14149 non-null  float64\n",
      " 64  secondary_cleaner.output.tail_ag                    14147 non-null  float64\n",
      " 65  secondary_cleaner.output.tail_pb                    14139 non-null  float64\n",
      " 66  secondary_cleaner.output.tail_sol                   12544 non-null  float64\n",
      " 67  secondary_cleaner.output.tail_au                    14149 non-null  float64\n",
      " 68  secondary_cleaner.state.floatbank2_a_air            13932 non-null  float64\n",
      " 69  secondary_cleaner.state.floatbank2_a_level          14148 non-null  float64\n",
      " 70  secondary_cleaner.state.floatbank2_b_air            14128 non-null  float64\n",
      " 71  secondary_cleaner.state.floatbank2_b_level          14148 non-null  float64\n",
      " 72  secondary_cleaner.state.floatbank3_a_air            14145 non-null  float64\n",
      " 73  secondary_cleaner.state.floatbank3_a_level          14148 non-null  float64\n",
      " 74  secondary_cleaner.state.floatbank3_b_air            14148 non-null  float64\n",
      " 75  secondary_cleaner.state.floatbank3_b_level          14148 non-null  float64\n",
      " 76  secondary_cleaner.state.floatbank4_a_air            14143 non-null  float64\n",
      " 77  secondary_cleaner.state.floatbank4_a_level          14148 non-null  float64\n",
      " 78  secondary_cleaner.state.floatbank4_b_air            14148 non-null  float64\n",
      " 79  secondary_cleaner.state.floatbank4_b_level          14148 non-null  float64\n",
      " 80  secondary_cleaner.state.floatbank5_a_air            14148 non-null  float64\n",
      " 81  secondary_cleaner.state.floatbank5_a_level          14148 non-null  float64\n",
      " 82  secondary_cleaner.state.floatbank5_b_air            14148 non-null  float64\n",
      " 83  secondary_cleaner.state.floatbank5_b_level          14148 non-null  float64\n",
      " 84  secondary_cleaner.state.floatbank6_a_air            14147 non-null  float64\n",
      " 85  secondary_cleaner.state.floatbank6_a_level          14148 non-null  float64\n",
      "dtypes: float64(86)\n",
      "memory usage: 9.4+ MB\n",
      "None\n",
      "\n",
      "<class 'pandas.core.frame.DataFrame'>\n",
      "Index: 5290 entries, 2016-09-01 00:59:59 to 2017-12-31 23:59:59\n",
      "Data columns (total 52 columns):\n",
      " #   Column                                      Non-Null Count  Dtype  \n",
      "---  ------                                      --------------  -----  \n",
      " 0   primary_cleaner.input.sulfate               5286 non-null   float64\n",
      " 1   primary_cleaner.input.depressant            5285 non-null   float64\n",
      " 2   primary_cleaner.input.feed_size             5290 non-null   float64\n",
      " 3   primary_cleaner.input.xanthate              5286 non-null   float64\n",
      " 4   primary_cleaner.state.floatbank8_a_air      5290 non-null   float64\n",
      " 5   primary_cleaner.state.floatbank8_a_level    5290 non-null   float64\n",
      " 6   primary_cleaner.state.floatbank8_b_air      5290 non-null   float64\n",
      " 7   primary_cleaner.state.floatbank8_b_level    5290 non-null   float64\n",
      " 8   primary_cleaner.state.floatbank8_c_air      5290 non-null   float64\n",
      " 9   primary_cleaner.state.floatbank8_c_level    5290 non-null   float64\n",
      " 10  primary_cleaner.state.floatbank8_d_air      5290 non-null   float64\n",
      " 11  primary_cleaner.state.floatbank8_d_level    5290 non-null   float64\n",
      " 12  rougher.input.feed_ag                       5290 non-null   float64\n",
      " 13  rougher.input.feed_pb                       5290 non-null   float64\n",
      " 14  rougher.input.feed_rate                     5287 non-null   float64\n",
      " 15  rougher.input.feed_size                     5289 non-null   float64\n",
      " 16  rougher.input.feed_sol                      5269 non-null   float64\n",
      " 17  rougher.input.feed_au                       5290 non-null   float64\n",
      " 18  rougher.input.floatbank10_sulfate           5285 non-null   float64\n",
      " 19  rougher.input.floatbank10_xanthate          5290 non-null   float64\n",
      " 20  rougher.input.floatbank11_sulfate           5282 non-null   float64\n",
      " 21  rougher.input.floatbank11_xanthate          5265 non-null   float64\n",
      " 22  rougher.state.floatbank10_a_air             5290 non-null   float64\n",
      " 23  rougher.state.floatbank10_a_level           5290 non-null   float64\n",
      " 24  rougher.state.floatbank10_b_air             5290 non-null   float64\n",
      " 25  rougher.state.floatbank10_b_level           5290 non-null   float64\n",
      " 26  rougher.state.floatbank10_c_air             5290 non-null   float64\n",
      " 27  rougher.state.floatbank10_c_level           5290 non-null   float64\n",
      " 28  rougher.state.floatbank10_d_air             5290 non-null   float64\n",
      " 29  rougher.state.floatbank10_d_level           5290 non-null   float64\n",
      " 30  rougher.state.floatbank10_e_air             5290 non-null   float64\n",
      " 31  rougher.state.floatbank10_e_level           5290 non-null   float64\n",
      " 32  rougher.state.floatbank10_f_air             5290 non-null   float64\n",
      " 33  rougher.state.floatbank10_f_level           5290 non-null   float64\n",
      " 34  secondary_cleaner.state.floatbank2_a_air    5287 non-null   float64\n",
      " 35  secondary_cleaner.state.floatbank2_a_level  5290 non-null   float64\n",
      " 36  secondary_cleaner.state.floatbank2_b_air    5288 non-null   float64\n",
      " 37  secondary_cleaner.state.floatbank2_b_level  5290 non-null   float64\n",
      " 38  secondary_cleaner.state.floatbank3_a_air    5281 non-null   float64\n",
      " 39  secondary_cleaner.state.floatbank3_a_level  5290 non-null   float64\n",
      " 40  secondary_cleaner.state.floatbank3_b_air    5290 non-null   float64\n",
      " 41  secondary_cleaner.state.floatbank3_b_level  5290 non-null   float64\n",
      " 42  secondary_cleaner.state.floatbank4_a_air    5290 non-null   float64\n",
      " 43  secondary_cleaner.state.floatbank4_a_level  5290 non-null   float64\n",
      " 44  secondary_cleaner.state.floatbank4_b_air    5290 non-null   float64\n",
      " 45  secondary_cleaner.state.floatbank4_b_level  5290 non-null   float64\n",
      " 46  secondary_cleaner.state.floatbank5_a_air    5290 non-null   float64\n",
      " 47  secondary_cleaner.state.floatbank5_a_level  5290 non-null   float64\n",
      " 48  secondary_cleaner.state.floatbank5_b_air    5290 non-null   float64\n",
      " 49  secondary_cleaner.state.floatbank5_b_level  5290 non-null   float64\n",
      " 50  secondary_cleaner.state.floatbank6_a_air    5290 non-null   float64\n",
      " 51  secondary_cleaner.state.floatbank6_a_level  5290 non-null   float64\n",
      "dtypes: float64(52)\n",
      "memory usage: 2.1+ MB\n",
      "None\n",
      "\n",
      "<class 'pandas.core.frame.DataFrame'>\n",
      "Index: 19439 entries, 2016-01-15 00:00:00 to 2018-08-18 10:59:59\n",
      "Data columns (total 86 columns):\n",
      " #   Column                                              Non-Null Count  Dtype  \n",
      "---  ------                                              --------------  -----  \n",
      " 0   final.output.concentrate_ag                         19438 non-null  float64\n",
      " 1   final.output.concentrate_pb                         19438 non-null  float64\n",
      " 2   final.output.concentrate_sol                        19228 non-null  float64\n",
      " 3   final.output.concentrate_au                         19439 non-null  float64\n",
      " 4   final.output.recovery                               19439 non-null  float64\n",
      " 5   final.output.tail_ag                                19438 non-null  float64\n",
      " 6   final.output.tail_pb                                19338 non-null  float64\n",
      " 7   final.output.tail_sol                               19433 non-null  float64\n",
      " 8   final.output.tail_au                                19439 non-null  float64\n",
      " 9   primary_cleaner.input.sulfate                       19415 non-null  float64\n",
      " 10  primary_cleaner.input.depressant                    19402 non-null  float64\n",
      " 11  primary_cleaner.input.feed_size                     19439 non-null  float64\n",
      " 12  primary_cleaner.input.xanthate                      19335 non-null  float64\n",
      " 13  primary_cleaner.output.concentrate_ag               19439 non-null  float64\n",
      " 14  primary_cleaner.output.concentrate_pb               19323 non-null  float64\n",
      " 15  primary_cleaner.output.concentrate_sol              19069 non-null  float64\n",
      " 16  primary_cleaner.output.concentrate_au               19439 non-null  float64\n",
      " 17  primary_cleaner.output.tail_ag                      19435 non-null  float64\n",
      " 18  primary_cleaner.output.tail_pb                      19418 non-null  float64\n",
      " 19  primary_cleaner.output.tail_sol                     19377 non-null  float64\n",
      " 20  primary_cleaner.output.tail_au                      19439 non-null  float64\n",
      " 21  primary_cleaner.state.floatbank8_a_air              19435 non-null  float64\n",
      " 22  primary_cleaner.state.floatbank8_a_level            19438 non-null  float64\n",
      " 23  primary_cleaner.state.floatbank8_b_air              19435 non-null  float64\n",
      " 24  primary_cleaner.state.floatbank8_b_level            19438 non-null  float64\n",
      " 25  primary_cleaner.state.floatbank8_c_air              19437 non-null  float64\n",
      " 26  primary_cleaner.state.floatbank8_c_level            19438 non-null  float64\n",
      " 27  primary_cleaner.state.floatbank8_d_air              19436 non-null  float64\n",
      " 28  primary_cleaner.state.floatbank8_d_level            19438 non-null  float64\n",
      " 29  rougher.calculation.sulfate_to_au_concentrate       19437 non-null  float64\n",
      " 30  rougher.calculation.floatbank10_sulfate_to_au_feed  19437 non-null  float64\n",
      " 31  rougher.calculation.floatbank11_sulfate_to_au_feed  19437 non-null  float64\n",
      " 32  rougher.calculation.au_pb_ratio                     19439 non-null  float64\n",
      " 33  rougher.input.feed_ag                               19439 non-null  float64\n",
      " 34  rougher.input.feed_pb                               19339 non-null  float64\n",
      " 35  rougher.input.feed_rate                             19428 non-null  float64\n",
      " 36  rougher.input.feed_size                             19294 non-null  float64\n",
      " 37  rougher.input.feed_sol                              19340 non-null  float64\n",
      " 38  rougher.input.feed_au                               19439 non-null  float64\n",
      " 39  rougher.input.floatbank10_sulfate                   19405 non-null  float64\n",
      " 40  rougher.input.floatbank10_xanthate                  19431 non-null  float64\n",
      " 41  rougher.input.floatbank11_sulfate                   19395 non-null  float64\n",
      " 42  rougher.input.floatbank11_xanthate                  18986 non-null  float64\n",
      " 43  rougher.output.concentrate_ag                       19439 non-null  float64\n",
      " 44  rougher.output.concentrate_pb                       19439 non-null  float64\n",
      " 45  rougher.output.concentrate_sol                      19416 non-null  float64\n",
      " 46  rougher.output.concentrate_au                       19439 non-null  float64\n",
      " 47  rougher.output.recovery                             19439 non-null  float64\n",
      " 48  rougher.output.tail_ag                              19438 non-null  float64\n",
      " 49  rougher.output.tail_pb                              19439 non-null  float64\n",
      " 50  rougher.output.tail_sol                             19439 non-null  float64\n",
      " 51  rougher.output.tail_au                              19439 non-null  float64\n",
      " 52  rougher.state.floatbank10_a_air                     19438 non-null  float64\n",
      " 53  rougher.state.floatbank10_a_level                   19438 non-null  float64\n",
      " 54  rougher.state.floatbank10_b_air                     19438 non-null  float64\n",
      " 55  rougher.state.floatbank10_b_level                   19438 non-null  float64\n",
      " 56  rougher.state.floatbank10_c_air                     19438 non-null  float64\n",
      " 57  rougher.state.floatbank10_c_level                   19438 non-null  float64\n",
      " 58  rougher.state.floatbank10_d_air                     19439 non-null  float64\n",
      " 59  rougher.state.floatbank10_d_level                   19439 non-null  float64\n",
      " 60  rougher.state.floatbank10_e_air                     19003 non-null  float64\n",
      " 61  rougher.state.floatbank10_e_level                   19439 non-null  float64\n",
      " 62  rougher.state.floatbank10_f_air                     19439 non-null  float64\n",
      " 63  rougher.state.floatbank10_f_level                   19439 non-null  float64\n",
      " 64  secondary_cleaner.output.tail_ag                    19437 non-null  float64\n",
      " 65  secondary_cleaner.output.tail_pb                    19427 non-null  float64\n",
      " 66  secondary_cleaner.output.tail_sol                   17691 non-null  float64\n",
      " 67  secondary_cleaner.output.tail_au                    19439 non-null  float64\n",
      " 68  secondary_cleaner.state.floatbank2_a_air            19219 non-null  float64\n",
      " 69  secondary_cleaner.state.floatbank2_a_level          19438 non-null  float64\n",
      " 70  secondary_cleaner.state.floatbank2_b_air            19416 non-null  float64\n",
      " 71  secondary_cleaner.state.floatbank2_b_level          19438 non-null  float64\n",
      " 72  secondary_cleaner.state.floatbank3_a_air            19426 non-null  float64\n",
      " 73  secondary_cleaner.state.floatbank3_a_level          19438 non-null  float64\n",
      " 74  secondary_cleaner.state.floatbank3_b_air            19438 non-null  float64\n",
      " 75  secondary_cleaner.state.floatbank3_b_level          19438 non-null  float64\n",
      " 76  secondary_cleaner.state.floatbank4_a_air            19433 non-null  float64\n",
      " 77  secondary_cleaner.state.floatbank4_a_level          19438 non-null  float64\n",
      " 78  secondary_cleaner.state.floatbank4_b_air            19438 non-null  float64\n",
      " 79  secondary_cleaner.state.floatbank4_b_level          19438 non-null  float64\n",
      " 80  secondary_cleaner.state.floatbank5_a_air            19438 non-null  float64\n",
      " 81  secondary_cleaner.state.floatbank5_a_level          19438 non-null  float64\n",
      " 82  secondary_cleaner.state.floatbank5_b_air            19438 non-null  float64\n",
      " 83  secondary_cleaner.state.floatbank5_b_level          19438 non-null  float64\n",
      " 84  secondary_cleaner.state.floatbank6_a_air            19437 non-null  float64\n",
      " 85  secondary_cleaner.state.floatbank6_a_level          19438 non-null  float64\n",
      "dtypes: float64(86)\n",
      "memory usage: 12.9+ MB\n",
      "None\n",
      "\n"
     ]
    }
   ],
   "source": [
    "df = [df_train, df_test, df_full]\n",
    "for i in df:\n",
    "    print(i.info())\n",
    "    print()"
   ]
  },
  {
   "cell_type": "markdown",
   "metadata": {},
   "source": [
    "Посмотрим, какие признаки содержатся в датафрейме"
   ]
  },
  {
   "cell_type": "code",
   "execution_count": 10,
   "metadata": {
    "scrolled": true
   },
   "outputs": [
    {
     "data": {
      "text/plain": [
       "['final.output.concentrate_ag',\n",
       " 'final.output.concentrate_pb',\n",
       " 'final.output.concentrate_sol',\n",
       " 'final.output.concentrate_au',\n",
       " 'final.output.recovery',\n",
       " 'final.output.tail_ag',\n",
       " 'final.output.tail_pb',\n",
       " 'final.output.tail_sol',\n",
       " 'final.output.tail_au',\n",
       " 'primary_cleaner.input.sulfate',\n",
       " 'primary_cleaner.input.depressant',\n",
       " 'primary_cleaner.input.feed_size',\n",
       " 'primary_cleaner.input.xanthate',\n",
       " 'primary_cleaner.output.concentrate_ag',\n",
       " 'primary_cleaner.output.concentrate_pb',\n",
       " 'primary_cleaner.output.concentrate_sol',\n",
       " 'primary_cleaner.output.concentrate_au',\n",
       " 'primary_cleaner.output.tail_ag',\n",
       " 'primary_cleaner.output.tail_pb',\n",
       " 'primary_cleaner.output.tail_sol',\n",
       " 'primary_cleaner.output.tail_au',\n",
       " 'primary_cleaner.state.floatbank8_a_air',\n",
       " 'primary_cleaner.state.floatbank8_a_level',\n",
       " 'primary_cleaner.state.floatbank8_b_air',\n",
       " 'primary_cleaner.state.floatbank8_b_level',\n",
       " 'primary_cleaner.state.floatbank8_c_air',\n",
       " 'primary_cleaner.state.floatbank8_c_level',\n",
       " 'primary_cleaner.state.floatbank8_d_air',\n",
       " 'primary_cleaner.state.floatbank8_d_level',\n",
       " 'rougher.calculation.sulfate_to_au_concentrate',\n",
       " 'rougher.calculation.floatbank10_sulfate_to_au_feed',\n",
       " 'rougher.calculation.floatbank11_sulfate_to_au_feed',\n",
       " 'rougher.calculation.au_pb_ratio',\n",
       " 'rougher.input.feed_ag',\n",
       " 'rougher.input.feed_pb',\n",
       " 'rougher.input.feed_rate',\n",
       " 'rougher.input.feed_size',\n",
       " 'rougher.input.feed_sol',\n",
       " 'rougher.input.feed_au',\n",
       " 'rougher.input.floatbank10_sulfate',\n",
       " 'rougher.input.floatbank10_xanthate',\n",
       " 'rougher.input.floatbank11_sulfate',\n",
       " 'rougher.input.floatbank11_xanthate',\n",
       " 'rougher.output.concentrate_ag',\n",
       " 'rougher.output.concentrate_pb',\n",
       " 'rougher.output.concentrate_sol',\n",
       " 'rougher.output.concentrate_au',\n",
       " 'rougher.output.recovery',\n",
       " 'rougher.output.tail_ag',\n",
       " 'rougher.output.tail_pb',\n",
       " 'rougher.output.tail_sol',\n",
       " 'rougher.output.tail_au',\n",
       " 'rougher.state.floatbank10_a_air',\n",
       " 'rougher.state.floatbank10_a_level',\n",
       " 'rougher.state.floatbank10_b_air',\n",
       " 'rougher.state.floatbank10_b_level',\n",
       " 'rougher.state.floatbank10_c_air',\n",
       " 'rougher.state.floatbank10_c_level',\n",
       " 'rougher.state.floatbank10_d_air',\n",
       " 'rougher.state.floatbank10_d_level',\n",
       " 'rougher.state.floatbank10_e_air',\n",
       " 'rougher.state.floatbank10_e_level',\n",
       " 'rougher.state.floatbank10_f_air',\n",
       " 'rougher.state.floatbank10_f_level',\n",
       " 'secondary_cleaner.output.tail_ag',\n",
       " 'secondary_cleaner.output.tail_pb',\n",
       " 'secondary_cleaner.output.tail_sol',\n",
       " 'secondary_cleaner.output.tail_au',\n",
       " 'secondary_cleaner.state.floatbank2_a_air',\n",
       " 'secondary_cleaner.state.floatbank2_a_level',\n",
       " 'secondary_cleaner.state.floatbank2_b_air',\n",
       " 'secondary_cleaner.state.floatbank2_b_level',\n",
       " 'secondary_cleaner.state.floatbank3_a_air',\n",
       " 'secondary_cleaner.state.floatbank3_a_level',\n",
       " 'secondary_cleaner.state.floatbank3_b_air',\n",
       " 'secondary_cleaner.state.floatbank3_b_level',\n",
       " 'secondary_cleaner.state.floatbank4_a_air',\n",
       " 'secondary_cleaner.state.floatbank4_a_level',\n",
       " 'secondary_cleaner.state.floatbank4_b_air',\n",
       " 'secondary_cleaner.state.floatbank4_b_level',\n",
       " 'secondary_cleaner.state.floatbank5_a_air',\n",
       " 'secondary_cleaner.state.floatbank5_a_level',\n",
       " 'secondary_cleaner.state.floatbank5_b_air',\n",
       " 'secondary_cleaner.state.floatbank5_b_level',\n",
       " 'secondary_cleaner.state.floatbank6_a_air',\n",
       " 'secondary_cleaner.state.floatbank6_a_level']"
      ]
     },
     "execution_count": 10,
     "metadata": {},
     "output_type": "execute_result"
    }
   ],
   "source": [
    "df_train.columns.tolist()"
   ]
  },
  {
   "cell_type": "markdown",
   "metadata": {},
   "source": [
    "Целевыми признаками, предсказания которых необходимо сделать в ходе исследования, являются:\n",
    "- эффективность обогащения чернового концентрата rougher.output.recovery;\n",
    "- эффективность обогащения финального концентрата final.output.recovery."
   ]
  },
  {
   "cell_type": "markdown",
   "metadata": {},
   "source": [
    "Исходный датафрейм разделен на обучающий и тестовый в пропорции 73% на 27%. Типы данных в столбцах соответствуют их фактическому содержимому. Вместе с тем, в тестовом датафрейме отсутствует часть столбцов, и во всех датафреймах имеются пропуски. "
   ]
  },
  {
   "cell_type": "code",
   "execution_count": 11,
   "metadata": {
    "scrolled": true
   },
   "outputs": [
    {
     "data": {
      "text/plain": [
       "['rougher.output.tail_au',\n",
       " 'final.output.concentrate_au',\n",
       " 'final.output.concentrate_pb',\n",
       " 'rougher.calculation.floatbank11_sulfate_to_au_feed',\n",
       " 'secondary_cleaner.output.tail_ag',\n",
       " 'final.output.tail_pb',\n",
       " 'rougher.calculation.sulfate_to_au_concentrate',\n",
       " 'final.output.tail_ag',\n",
       " 'secondary_cleaner.output.tail_pb',\n",
       " 'primary_cleaner.output.tail_au',\n",
       " 'primary_cleaner.output.concentrate_sol',\n",
       " 'primary_cleaner.output.concentrate_au',\n",
       " 'primary_cleaner.output.concentrate_pb',\n",
       " 'primary_cleaner.output.concentrate_ag',\n",
       " 'primary_cleaner.output.tail_sol',\n",
       " 'rougher.output.tail_pb',\n",
       " 'final.output.tail_au',\n",
       " 'rougher.calculation.floatbank10_sulfate_to_au_feed',\n",
       " 'rougher.output.concentrate_sol',\n",
       " 'rougher.calculation.au_pb_ratio',\n",
       " 'rougher.output.recovery',\n",
       " 'rougher.output.tail_sol',\n",
       " 'final.output.recovery',\n",
       " 'final.output.concentrate_ag',\n",
       " 'rougher.output.concentrate_ag',\n",
       " 'secondary_cleaner.output.tail_au',\n",
       " 'rougher.output.concentrate_pb',\n",
       " 'primary_cleaner.output.tail_ag',\n",
       " 'primary_cleaner.output.tail_pb',\n",
       " 'rougher.output.tail_ag',\n",
       " 'final.output.tail_sol',\n",
       " 'final.output.concentrate_sol',\n",
       " 'secondary_cleaner.output.tail_sol',\n",
       " 'rougher.output.concentrate_au']"
      ]
     },
     "execution_count": 11,
     "metadata": {},
     "output_type": "execute_result"
    }
   ],
   "source": [
    "# Посмотрим, какие столбцы отсутствуют в тестовой выборке\n",
    "# Для этого создадим два списка с названиями столбцов в обучающей и тестовой выборке\n",
    "# И найдем непересекающиеся значения\n",
    "columns_train = df_train.columns.tolist()\n",
    "columns_test = df_test.columns.tolist()\n",
    "list(set(columns_train)^set(columns_test))"
   ]
  },
  {
   "cell_type": "code",
   "execution_count": 12,
   "metadata": {},
   "outputs": [
    {
     "data": {
      "text/plain": [
       "34"
      ]
     },
     "execution_count": 12,
     "metadata": {},
     "output_type": "execute_result"
    }
   ],
   "source": [
    "len(list(set(columns_train)^set(columns_test)))"
   ]
  },
  {
   "cell_type": "markdown",
   "metadata": {},
   "source": [
    "В тестовой выборке отсутствуют признаки из разряда output, то есть признаки, характеризующие состояние концентрата и хвостов уже после каждого этапа очистки, а также признаки calculation, рассчитанные на их основе. Поскольку именно эффективность обогащения необходимо предсказать (а она напрямую зависит от состояния концентратов и хвостов после очистки), то брать данные признаки для обучения модели нельзя. Чтобы модель не знала заранее предсказываемые ответы, данные признаки необходимо будет удалить из тренировочного датафрейма. Также в тестовой выборке отсутствуют целевые признаки."
   ]
  },
  {
   "cell_type": "code",
   "execution_count": 13,
   "metadata": {},
   "outputs": [
    {
     "name": "stdout",
     "output_type": "stream",
     "text": [
      "Наличие явных дубликатов\n",
      "0\n",
      "0\n",
      "0\n"
     ]
    }
   ],
   "source": [
    "print('Наличие явных дубликатов')\n",
    "for i in df:\n",
    "    print(i.duplicated().sum())  "
   ]
  },
  {
   "cell_type": "markdown",
   "metadata": {},
   "source": [
    "В датафреймах имеются пропуски. Возможно они связаны со сбоями в работе датчиков, измеряющх показания.   По имеющимся данным, значения соседних по времения параметров часто похожи. Поскольку датафреймы прондексированы по времени, используем для заполнения пропусков значения соседней ячейки."
   ]
  },
  {
   "cell_type": "code",
   "execution_count": 14,
   "metadata": {
    "scrolled": true
   },
   "outputs": [],
   "source": [
    "df_test = df_test.fillna(method='ffill')\n",
    "df_train = df_train.fillna(method='ffill')\n",
    "df_full = df_full.fillna(method='ffill')"
   ]
  },
  {
   "cell_type": "markdown",
   "metadata": {},
   "source": [
    "Рассчитаем эффективность обогащения (recovery) для обучающей выборки и проверим, насколько рассчеты отличаются от значений, имеющихся в датафрейме.\n",
    "Для этого сперва рассчитаем значение recovery по формуле, а  затем рассчитаем среднюю абсолютную ошибку MAE."
   ]
  },
  {
   "cell_type": "code",
   "execution_count": 15,
   "metadata": {},
   "outputs": [
    {
     "name": "stdout",
     "output_type": "stream",
     "text": [
      "Значение MAE равно 9.73512347450521e-15\n"
     ]
    }
   ],
   "source": [
    "# выделим признаки, необходимые для рассчета эффективности обогащения\n",
    "C = df_train['rougher.output.concentrate_au'] # доля золота в концентрате после флотации/очистки\n",
    "F = df_train['rougher.input.feed_au'] # доля золота в сырье/концентрате до флотации/очистки\n",
    "T = df_train['rougher.output.tail_au'] # доля золота в отвальных хвостах после флотации/очистки\n",
    "\n",
    "# рассчитываем эффективность обогащения по формуле\n",
    "recovery = ((C*(F-T))/(F*(C-T)))*100\n",
    "\n",
    "# рассчитываем МАЕ\n",
    "MAE = mean_absolute_error(df_train['rougher.output.recovery'], recovery)\n",
    "print('Значение MAE равно', MAE)"
   ]
  },
  {
   "cell_type": "markdown",
   "metadata": {},
   "source": [
    "Невысокое значние МАЕ говорит о том, что рассчет произведен корректно"
   ]
  },
  {
   "cell_type": "markdown",
   "metadata": {},
   "source": [
    "Поскольку в тестовой выборке отсутствуют целевые принаки, добавим их из исходного датафрейма. Объединение датафреймов осуществляем по индексам."
   ]
  },
  {
   "cell_type": "code",
   "execution_count": 16,
   "metadata": {},
   "outputs": [],
   "source": [
    "df_test = df_test.merge(df_full.loc[:, ['rougher.output.recovery','final.output.recovery']],\n",
    "                        left_index = True,  right_index=True)"
   ]
  },
  {
   "cell_type": "code",
   "execution_count": 17,
   "metadata": {
    "scrolled": true
   },
   "outputs": [
    {
     "data": {
      "text/plain": [
       "['primary_cleaner.input.sulfate',\n",
       " 'primary_cleaner.input.depressant',\n",
       " 'primary_cleaner.input.feed_size',\n",
       " 'primary_cleaner.input.xanthate',\n",
       " 'primary_cleaner.state.floatbank8_a_air',\n",
       " 'primary_cleaner.state.floatbank8_a_level',\n",
       " 'primary_cleaner.state.floatbank8_b_air',\n",
       " 'primary_cleaner.state.floatbank8_b_level',\n",
       " 'primary_cleaner.state.floatbank8_c_air',\n",
       " 'primary_cleaner.state.floatbank8_c_level',\n",
       " 'primary_cleaner.state.floatbank8_d_air',\n",
       " 'primary_cleaner.state.floatbank8_d_level',\n",
       " 'rougher.input.feed_ag',\n",
       " 'rougher.input.feed_pb',\n",
       " 'rougher.input.feed_rate',\n",
       " 'rougher.input.feed_size',\n",
       " 'rougher.input.feed_sol',\n",
       " 'rougher.input.feed_au',\n",
       " 'rougher.input.floatbank10_sulfate',\n",
       " 'rougher.input.floatbank10_xanthate',\n",
       " 'rougher.input.floatbank11_sulfate',\n",
       " 'rougher.input.floatbank11_xanthate',\n",
       " 'rougher.state.floatbank10_a_air',\n",
       " 'rougher.state.floatbank10_a_level',\n",
       " 'rougher.state.floatbank10_b_air',\n",
       " 'rougher.state.floatbank10_b_level',\n",
       " 'rougher.state.floatbank10_c_air',\n",
       " 'rougher.state.floatbank10_c_level',\n",
       " 'rougher.state.floatbank10_d_air',\n",
       " 'rougher.state.floatbank10_d_level',\n",
       " 'rougher.state.floatbank10_e_air',\n",
       " 'rougher.state.floatbank10_e_level',\n",
       " 'rougher.state.floatbank10_f_air',\n",
       " 'rougher.state.floatbank10_f_level',\n",
       " 'secondary_cleaner.state.floatbank2_a_air',\n",
       " 'secondary_cleaner.state.floatbank2_a_level',\n",
       " 'secondary_cleaner.state.floatbank2_b_air',\n",
       " 'secondary_cleaner.state.floatbank2_b_level',\n",
       " 'secondary_cleaner.state.floatbank3_a_air',\n",
       " 'secondary_cleaner.state.floatbank3_a_level',\n",
       " 'secondary_cleaner.state.floatbank3_b_air',\n",
       " 'secondary_cleaner.state.floatbank3_b_level',\n",
       " 'secondary_cleaner.state.floatbank4_a_air',\n",
       " 'secondary_cleaner.state.floatbank4_a_level',\n",
       " 'secondary_cleaner.state.floatbank4_b_air',\n",
       " 'secondary_cleaner.state.floatbank4_b_level',\n",
       " 'secondary_cleaner.state.floatbank5_a_air',\n",
       " 'secondary_cleaner.state.floatbank5_a_level',\n",
       " 'secondary_cleaner.state.floatbank5_b_air',\n",
       " 'secondary_cleaner.state.floatbank5_b_level',\n",
       " 'secondary_cleaner.state.floatbank6_a_air',\n",
       " 'secondary_cleaner.state.floatbank6_a_level',\n",
       " 'rougher.output.recovery',\n",
       " 'final.output.recovery']"
      ]
     },
     "execution_count": 17,
     "metadata": {},
     "output_type": "execute_result"
    }
   ],
   "source": [
    "df_test.columns.tolist()"
   ]
  },
  {
   "cell_type": "code",
   "execution_count": 18,
   "metadata": {
    "scrolled": true
   },
   "outputs": [],
   "source": [
    "# Сформируем список столбцов, которые необходимо будет убрать из обучающей выборки перед обучением модели\n",
    "columns_train = df_train.columns.tolist()\n",
    "columns_test = df_test.columns.tolist()\n",
    "columns_to_delete = list(set(columns_train)^set(columns_test))"
   ]
  },
  {
   "cell_type": "markdown",
   "metadata": {},
   "source": [
    "Выводы: \n",
    "- для удобства дальнейшего исследования при загрузке данных графа с датой была использована в качестве индексов;\n",
    "- в данных имелись пропуски, предположительно связанные с огрехами в работе измерительных приборов. Поскольку по условию задачи соседние по времени параметры похожи, пропуски были заполнены предыдущими известными значениями;\n",
    "- в тестовом датафрейме отсутствуют признаки, характеризующие состояние концентратов после каждого этапа очистки. Во избежание утечки данные признаки будет необходимо удалить из обучающего датафрейма перед обучением модели;\n",
    "- в тестовом датафрейме отсутствуют целевые признаки. Для возможности проверки модели на тестовой выборке, эти признаки были восстановлены из исходного датафрейма;\n",
    "- была оценена корректность рассчета эффективности обогащения. Для этого эффективность обогащения была рассчитана вручную по формуле, затем найдена МАЕ между этим ручным рассчетом и имеющимися значениями. Полученное низкое значение МАЕ означает, что эффективность обогащения была рассчитана правильно. "
   ]
  },
  {
   "cell_type": "markdown",
   "metadata": {},
   "source": [
    "## Анализ данных"
   ]
  },
  {
   "cell_type": "markdown",
   "metadata": {},
   "source": [
    "Посмотрим, как изменяются концентрации золота, серебра и свинца на разных этапах очистки. В данных это столбцы rougher.input.feed, rougher.output.concentrate, primary_cleaner.output.concentrate и final.output.concentrate соответственно. "
   ]
  },
  {
   "cell_type": "code",
   "execution_count": 19,
   "metadata": {},
   "outputs": [
    {
     "data": {
      "image/png": "[encoded data removed]",
      "text/plain": [
       "<Figure size 1080x360 with 1 Axes>"
      ]
     },
     "metadata": {
      "needs_background": "light"
     },
     "output_type": "display_data"
    }
   ],
   "source": [
    "plt.figure(figsize=(15,5))\n",
    "df_full['rougher.input.feed_au'].hist(bins=20, label='Перед фтолацией')\n",
    "df_full['rougher.output.concentrate_au'].hist(bins=20, label='После фтолации')\n",
    "df_full['primary_cleaner.output.concentrate_au'].hist(bins=20, label='После первого этапа очистки')\n",
    "df_full['final.output.concentrate_au'].hist(bins=20, label='После второго этапа очистки')\n",
    "plt.title('Динамика концентрации золота')\n",
    "plt.legend(loc='upper left')\n",
    "plt.ylabel('Количество')\n",
    "plt.xlabel('Концентрация');"
   ]
  },
  {
   "cell_type": "markdown",
   "metadata": {},
   "source": [
    "Из графика видно, как на каждом этапе очистки возрастает концентрация золота. При этом форма распределения на каждом этапе сохраняется. Также на гарфике видны подозрительные нулевые значения, возможно, это вбросы. "
   ]
  },
  {
   "cell_type": "code",
   "execution_count": 20,
   "metadata": {},
   "outputs": [
    {
     "data": {
      "image/png": "[encoded data removed]",
      "text/plain": [
       "<Figure size 1080x360 with 1 Axes>"
      ]
     },
     "metadata": {
      "needs_background": "light"
     },
     "output_type": "display_data"
    }
   ],
   "source": [
    "plt.figure(figsize=(15,5))\n",
    "# Используем параметр alpha, чтобы сделать графики полупрозрачными \n",
    "df_full['rougher.input.feed_ag'].hist(bins=30, label='Перед фтолацией', alpha=.7)\n",
    "df_full['rougher.output.concentrate_ag'].hist(bins=30, label='После фтолации', alpha=.7)\n",
    "df_full['primary_cleaner.output.concentrate_ag'].hist(bins=30, label='После первого этапа очистки', alpha=.7)\n",
    "df_full['final.output.concentrate_ag'].hist(bins=30, label='После второго этапа очистки',alpha=.7)\n",
    "plt.title('Динамика концентрации серебра')\n",
    "plt.legend(loc='upper left')\n",
    "plt.xlabel('Концентрация')\n",
    "plt.ylabel('Количество');"
   ]
  },
  {
   "cell_type": "markdown",
   "metadata": {},
   "source": [
    "Концентрация серебра изменяется не так линейно, как золота: она становится максимальной после флотации, а затем начинает снижаться, достигая минимума после второго этапа очистки. Снова видим столбик нулевых значений. "
   ]
  },
  {
   "cell_type": "code",
   "execution_count": 21,
   "metadata": {},
   "outputs": [
    {
     "data": {
      "image/png": "[encoded data removed]",
      "text/plain": [
       "<Figure size 1080x360 with 1 Axes>"
      ]
     },
     "metadata": {
      "needs_background": "light"
     },
     "output_type": "display_data"
    }
   ],
   "source": [
    "plt.figure(figsize=(15,5))\n",
    "df_full['rougher.input.feed_pb'].hist(bins=30, label='Перед фтолацией')\n",
    "df_full['rougher.output.concentrate_pb'].hist(bins=30, label='После фтолации')\n",
    "df_full['primary_cleaner.output.concentrate_pb'].hist(bins=30, label='После первого этапа очистки')\n",
    "df_full['final.output.concentrate_pb'].hist(bins=30, label='После второго этапа очистки', alpha=.5)\n",
    "plt.title('Динамика концентрации свинца')\n",
    "plt.legend(loc='upper left')\n",
    "plt.xlabel('Концентрация')\n",
    "plt.ylabel('Количество');"
   ]
  },
  {
   "cell_type": "markdown",
   "metadata": {},
   "source": [
    "Концентрация свинца вырастает после флотации и первого этапа очистки, после чего остается практически неизменной. "
   ]
  },
  {
   "cell_type": "code",
   "execution_count": 35,
   "metadata": {},
   "outputs": [
    {
     "data": {
      "image/png": "[encoded data removed]",
      "text/plain": [
       "<Figure size 1080x360 with 1 Axes>"
      ]
     },
     "metadata": {
      "needs_background": "light"
     },
     "output_type": "display_data"
    }
   ],
   "source": [
    "plt.figure(figsize=(15, 5))\n",
    "sns.kdeplot(df_train['rougher.input.feed_size'], label='Обучающая выборка', alpha= .5, shade=True)\n",
    "sns.kdeplot(df_test['rougher.input.feed_size'], label='Тестовая выборка', alpha=.5, shade=True)\n",
    "plt.title('Распределение гранул сырья перед флотацией')\n",
    "plt.legend(loc='upper left')\n",
    "plt.xlabel('Значения')\n",
    "plt.ylabel('Плотность вероятности')\n",
    "plt.xlim(0, 180);"
   ]
  },
  {
   "cell_type": "code",
   "execution_count": 36,
   "metadata": {},
   "outputs": [
    {
     "data": {
      "image/png": "[encoded data removed]",
      "text/plain": [
       "<Figure size 1080x360 with 1 Axes>"
      ]
     },
     "metadata": {
      "needs_background": "light"
     },
     "output_type": "display_data"
    }
   ],
   "source": [
    "plt.figure(figsize=(15, 5))\n",
    "sns.kdeplot(df_train['primary_cleaner.input.feed_size'], label='Обучающая выборка', alpha= .5, shade=True)\n",
    "sns.kdeplot(df_test['primary_cleaner.input.feed_size'], label='Тестовая выборка', alpha=.5, shade=True)\n",
    "plt.title('Распределение гранул сырья перед первым этапом очистки')\n",
    "plt.legend(loc='upper left')\n",
    "plt.xlabel('Значения')\n",
    "plt.ylabel('Плотность вероятности');\n"
   ]
  },
  {
   "cell_type": "markdown",
   "metadata": {},
   "source": [
    "Форма распределения размеров гранул сырья на обучающей и тестовой выборках совпадает"
   ]
  },
  {
   "cell_type": "code",
   "execution_count": 37,
   "metadata": {},
   "outputs": [],
   "source": [
    "# Суммарная концентрация металлов в сырье\n",
    "sum_rougher_input = df_full[['rougher.input.feed_au', \n",
    "                             'rougher.input.feed_ag',\n",
    "                             'rougher.input.feed_pb',\n",
    "                             'rougher.input.feed_sol']].sum(axis=1)\n"
   ]
  },
  {
   "cell_type": "code",
   "execution_count": 140,
   "metadata": {},
   "outputs": [],
   "source": [
    "# Суммарная концентрация металлов в черновом концентрате\n",
    "sum_rougher_output = df_full[['rougher.output.concentrate_au',\n",
    "                              'rougher.output.concentrate_ag',\n",
    "                              'rougher.output.concentrate_pb',\n",
    "                              'rougher.output.concentrate_sol']].sum(axis=1)"
   ]
  },
  {
   "cell_type": "code",
   "execution_count": 141,
   "metadata": {},
   "outputs": [],
   "source": [
    "# Суммарная концентрация металлов в финальном концентрате\n",
    "sum_final = df_full[['final.output.concentrate_au',\n",
    "                     'final.output.concentrate_ag',\n",
    "                     'final.output.concentrate_pb',\n",
    "                     'final.output.concentrate_sol']].sum(axis=1)"
   ]
  },
  {
   "cell_type": "code",
   "execution_count": 142,
   "metadata": {},
   "outputs": [
    {
     "data": {
      "image/png": "[encoded data removed]",
      "text/plain": [
       "<Figure size 1080x648 with 1 Axes>"
      ]
     },
     "metadata": {
      "needs_background": "light"
     },
     "output_type": "display_data"
    }
   ],
   "source": [
    "plt.figure(figsize=(15,9))\n",
    "plt.title('Динамика концентрации веществ')\n",
    "sns.histplot(sum_rougher_input, label='Сырье', color='r')\n",
    "sns.histplot(sum_rougher_output, label='Черновой концентрат', color='b')\n",
    "sns.histplot(sum_final, label='Финальный концентрат', color='y')\n",
    "plt.legend(loc='upper left')\n",
    "plt.ylabel('Количество')\n",
    "plt.xlabel('Концентрация');\n"
   ]
  },
  {
   "cell_type": "markdown",
   "metadata": {},
   "source": [
    "Из графика видно, как на каждом этапе концентрация всех веществ возрастает, а диапазоны, в которых распределены значения веществ, сужаются. При этом отчетливо видны нулевые значения, по всей видимости, это вбросы, связанные со сбоями в работе оборудования. Перед последующим обучением модели удалим вбросы из тренировочной выборки. "
   ]
  },
  {
   "cell_type": "code",
   "execution_count": 143,
   "metadata": {},
   "outputs": [],
   "source": [
    "# Исходное сырье может быть любым, поэтому столбцы rougher.input не трогаем\n",
    "\n",
    "# Удаляем нулевые значения в черновом концентрате\n",
    "df_train = df_train[(df_train['rougher.output.concentrate_au'] != 0)\\\n",
    "                    & (df_train['rougher.output.concentrate_ag'] != 0)\\\n",
    "                    & (df_train['rougher.output.concentrate_pb'] != 0) \\\n",
    "                    & (df_train['rougher.output.concentrate_sol'] != 0)]\n",
    "                   \n",
    "\n",
    "# Удаляем нулевые значения в финальном концентрате\n",
    "df_train = df_train[(df_train['final.output.concentrate_au'] != 0)\\\n",
    "                    & (df_train['final.output.concentrate_ag'] != 0) \n",
    "                    & (df_train['final.output.concentrate_pb'] != 0) \n",
    "                    & (df_train['final.output.concentrate_sol'] != 0)]\n"
   ]
  },
  {
   "cell_type": "markdown",
   "metadata": {},
   "source": [
    "Выводы: на этапе анализа данных была изучена динамика концентрации различных веществ на разных этапах технологического процесса.\n",
    "Концентрация золота возрастает с каждым этапом. Концентрация других веществ изменяется не так линейно, однако суммарная концентрация всех веществ от этапа к этапу растет и становится максимальной после финального этапа очистки.\n",
    "Также было изучено распределение размеров гранул вещества в тестовой и обучающей выборке. Поскольку распределение размеров гранул совпадает, данные выборки корректно использовать для дальнейшего обучения и проверки модели. Были выявлены аномальные значения - нулевые концентрации веществ после очистки. Нулевые значение для тестовой выборки были удалены"
   ]
  },
  {
   "cell_type": "markdown",
   "metadata": {},
   "source": [
    "## Модель"
   ]
  },
  {
   "cell_type": "markdown",
   "metadata": {},
   "source": [
    "### Перед обучением моделей выделим целевые и обучающие признаки "
   ]
  },
  {
   "cell_type": "code",
   "execution_count": 144,
   "metadata": {},
   "outputs": [],
   "source": [
    "# Удаляем из обучающей выборки ранее выявленные признаки\n",
    "df_train = df_train.drop(columns=columns_to_delete, axis=1)"
   ]
  },
  {
   "cell_type": "code",
   "execution_count": 145,
   "metadata": {},
   "outputs": [],
   "source": [
    "# выделяем целевые и обучающие признаки для обучающей выборки\n",
    "target_train_rougher = df_train['rougher.output.recovery']\n",
    "target_train_final = df_train['final.output.recovery']\n",
    "features_train = df_train.drop(['rougher.output.recovery', 'final.output.recovery'], axis=1)                          "
   ]
  },
  {
   "cell_type": "code",
   "execution_count": 146,
   "metadata": {},
   "outputs": [],
   "source": [
    "# выделяем целевые и обучающие признаки для тестовой выборки\n",
    "target_test_rougher = df_test['rougher.output.recovery']\n",
    "target_test_final = df_test['final.output.recovery']\n",
    "features_test = df_test.drop(['rougher.output.recovery', 'final.output.recovery'], axis=1)         "
   ]
  },
  {
   "cell_type": "markdown",
   "metadata": {},
   "source": [
    "### Напишем функцию для вычисления итоговой sMAPE"
   ]
  },
  {
   "cell_type": "code",
   "execution_count": 147,
   "metadata": {},
   "outputs": [],
   "source": [
    "def sMAPE(target, predict):\n",
    "    smape = np.mean(np.abs(target-predict)/((np.abs(target)+abs(predict))/2))*100\n",
    "    return smape                      "
   ]
  },
  {
   "cell_type": "code",
   "execution_count": 148,
   "metadata": {},
   "outputs": [],
   "source": [
    "def func_for_final_smape(smape_rougher, smape_final):\n",
    "    final_smape = 0.25*smape_rougher + 0.75*smape_final\n",
    "    return final_smape"
   ]
  },
  {
   "cell_type": "code",
   "execution_count": 149,
   "metadata": {},
   "outputs": [],
   "source": [
    "smape_scorer = make_scorer(sMAPE, greater_is_better = False)"
   ]
  },
  {
   "cell_type": "markdown",
   "metadata": {},
   "source": [
    "### Строим модель линейной регрессии"
   ]
  },
  {
   "cell_type": "code",
   "execution_count": 150,
   "metadata": {},
   "outputs": [
    {
     "name": "stdout",
     "output_type": "stream",
     "text": [
      "Итоговое sMAPE для линейной регрессии: 10.0592614434828\n",
      "CPU times: user 789 ms, sys: 1.91 s, total: 2.7 s\n",
      "Wall time: 2.67 s\n"
     ]
    }
   ],
   "source": [
    "%%time\n",
    "# Инициируем модель\n",
    "model_lr = LinearRegression()\n",
    "\n",
    "# Считаем sMAPE для сырья rougher\n",
    "rougher_model_lr = cross_val_score(model_lr, features_train, \n",
    "                                   target_train_rougher, \n",
    "                                   scoring=smape_scorer, \n",
    "                                   cv=5)\n",
    "\n",
    "smape_rougher_lr = (rougher_model_lr).mean()\n",
    "\n",
    "# Считаем sMAPE для финального концентрата\n",
    "\n",
    "final_model_lr =  cross_val_score(model_lr, features_train, \n",
    "                                  target_train_final, \n",
    "                                  scoring=smape_scorer, \n",
    "                                  cv=5)\n",
    "smape_final_lr = (final_model_lr).mean()\n",
    "\n",
    "# Считаем итоговый sMAPE\n",
    "sMAPE_lr = func_for_final_smape(smape_rougher_lr, smape_final_lr)\n",
    "print('Итоговое sMAPE для линейной регрессии:', sMAPE_lr*(-1))"
   ]
  },
  {
   "cell_type": "markdown",
   "metadata": {},
   "source": [
    "### Построим модель Дерево решений"
   ]
  },
  {
   "cell_type": "code",
   "execution_count": 151,
   "metadata": {},
   "outputs": [
    {
     "name": "stdout",
     "output_type": "stream",
     "text": [
      "Лучшее значение глубины для Дерева решений (сырье): {'max_depth': 3}\n",
      "Лучшее значение глубины для Дерева решений (финальный концентрат): {'max_depth': 2}\n",
      "Итоговое sMAPE для Дерева решений: 8.876099353367739\n",
      "CPU times: user 22.7 s, sys: 11.7 ms, total: 22.7 s\n",
      "Wall time: 22.8 s\n"
     ]
    }
   ],
   "source": [
    "%%time\n",
    "# Инициируем модель Дерево решений\n",
    "model_dt=DecisionTreeRegressor(random_state=12345)\n",
    "\n",
    "parameters= {'max_depth':range(1,10)}                        \n",
    "grid_dt=GridSearchCV(model_dt,param_grid=parameters,\n",
    "                     cv=5, scoring=smape_scorer, \n",
    "                     n_jobs=-1)\n",
    "\n",
    "# Обучаем модель для сырья rougher\n",
    "grid_dt_rougher = grid_dt.fit(features_train, target_train_rougher)\n",
    "smape_rougher_dt = abs(grid_dt_rougher.best_score_)\n",
    "print('Лучшее значение глубины для Дерева решений (сырье):', grid_dt_rougher.best_params_)\n",
    "\n",
    "# Обучаем модель для финального концентрата final\n",
    "grid_dt_final = grid_dt.fit(features_train, target_train_final)\n",
    "smape_final_dt = abs(grid_dt_final.best_score_)\n",
    "print('Лучшее значение глубины для Дерева решений (финальный концентрат):', grid_dt_rougher.best_params_)\n",
    "\n",
    "# Считаем итоговое sMAPE с помощью функции\n",
    "sMAPE_final_dt = func_for_final_smape(smape_rougher_dt, smape_final_dt)\n",
    "print('Итоговое sMAPE для Дерева решений:', sMAPE_final_dt)\n"
   ]
  },
  {
   "cell_type": "markdown",
   "metadata": {},
   "source": [
    "Лучшее значение sMAPE для Дерева решений достигается при глубине 3 (для сырья) и 2 (для финального концентрата). "
   ]
  },
  {
   "cell_type": "markdown",
   "metadata": {},
   "source": [
    "### Строим модель Случайный лес"
   ]
  },
  {
   "cell_type": "code",
   "execution_count": 152,
   "metadata": {},
   "outputs": [
    {
     "name": "stdout",
     "output_type": "stream",
     "text": [
      "Лучшие параметры для Случайного леса (сырье): {'max_depth': 10, 'n_estimators': 40}\n",
      "CPU times: user 5min 43s, sys: 835 ms, total: 5min 44s\n",
      "Wall time: 5min 44s\n"
     ]
    }
   ],
   "source": [
    "%%time\n",
    "# Инициируем модель Случайный лес\n",
    "# Ставлю             \n",
    "model_rf = RandomForestRegressor(random_state=12345)\n",
    "\n",
    "parameters= {'max_depth':(10,50),\n",
    "             'n_estimators':range(10, 50, 10)}\n",
    "\n",
    "grid_rf=GridSearchCV(model_rf,param_grid=parameters,\n",
    "                     scoring=smape_scorer, \n",
    "                     n_jobs=-1)\n",
    "\n",
    "# Обучаем модель для сырья rougher\n",
    "grid_rf_rougher = grid_rf.fit(features_train, target_train_rougher)\n",
    "smape_rougher_rf = abs(grid_rf_rougher.best_score_)\n",
    "print('Лучшие параметры для Случайного леса (сырье):', grid_rf_rougher.best_params_)"
   ]
  },
  {
   "cell_type": "code",
   "execution_count": 153,
   "metadata": {},
   "outputs": [
    {
     "name": "stdout",
     "output_type": "stream",
     "text": [
      "Лучшие параметры для Случайного леса (финальный концентрат): {'max_depth': 10, 'n_estimators': 40}\n"
     ]
    }
   ],
   "source": [
    "# Обучаем модель для финального концентрата final\n",
    "grid_rf_final = grid_rf.fit(features_train, target_train_final)\n",
    "smape_final_rf = abs(grid_rf_final.best_score_)\n",
    "print('Лучшие параметры для Случайного леса (финальный концентрат):', grid_rf_rougher.best_params_)"
   ]
  },
  {
   "cell_type": "code",
   "execution_count": 154,
   "metadata": {},
   "outputs": [
    {
     "name": "stdout",
     "output_type": "stream",
     "text": [
      "Итоговое sMAPE для Случайного леса: 9.229177081000396\n"
     ]
    }
   ],
   "source": [
    "# Считаем итоговое sMAPE с помощью функции\n",
    "sMAPE_final_rf = func_for_final_smape(smape_rougher_rf, smape_final_rf)\n",
    "print('Итоговое sMAPE для Случайного леса:', sMAPE_final_rf)"
   ]
  },
  {
   "cell_type": "markdown",
   "metadata": {},
   "source": [
    "Вывод: наилучшее значение метрики sMAPE достигается моделью Дерево решений с глубиной 3 (для сырья) и 2 (для финального концентрата)"
   ]
  },
  {
   "cell_type": "markdown",
   "metadata": {},
   "source": [
    "### Проверим лучшую модель на тестовой выборке"
   ]
  },
  {
   "cell_type": "code",
   "execution_count": 155,
   "metadata": {},
   "outputs": [],
   "source": [
    "# выделяем целевые и обучающие признаки для тестовой выборки\n",
    "target_test_rougher = df_test['rougher.output.recovery']\n",
    "target_test_final = df_test['final.output.recovery']\n",
    "features_test = df_test.drop(['rougher.output.recovery', 'final.output.recovery'], axis=1)          "
   ]
  },
  {
   "cell_type": "code",
   "execution_count": 158,
   "metadata": {},
   "outputs": [
    {
     "name": "stdout",
     "output_type": "stream",
     "text": [
      "sMAPE для тестовой выборки составляет: 9.672855896528958\n"
     ]
    }
   ],
   "source": [
    "model_test_rougher = DecisionTreeRegressor(max_depth=3, random_state=12345)\n",
    "model_test_rougher.fit(features_train, target_train_rougher)\n",
    "predicted_rougher_test = model_test_rougher.predict(features_test)\n",
    "\n",
    "model_test_final = DecisionTreeRegressor(max_depth=2, random_state=12345)\n",
    "model_test_final.fit(features_train, target_train_final)\n",
    "predicted_final_test = model_test_final.predict(features_test)\n",
    "\n",
    "smape_test_rougher = sMAPE(target_test_rougher, predicted_rougher_test)\n",
    "smape_test_final = sMAPE(target_test_final, predicted_final_test)\n",
    "final_smape_for_test = func_for_final_smape(smape_test_rougher, smape_test_final)\n",
    "print('sMAPE для тестовой выборки составляет:', final_smape_for_test)"
   ]
  },
  {
   "cell_type": "markdown",
   "metadata": {},
   "source": [
    "Модель проверена на тестовой выборке, метрика sMAPE составила 9.672855896528958"
   ]
  },
  {
   "cell_type": "markdown",
   "metadata": {},
   "source": [
    "### Проверим модель на адекватность"
   ]
  },
  {
   "cell_type": "code",
   "execution_count": 162,
   "metadata": {},
   "outputs": [
    {
     "name": "stdout",
     "output_type": "stream",
     "text": [
      "sMAPE для случайной модели составляет: 14.864937494718028\n"
     ]
    }
   ],
   "source": [
    "# Построим и обучим случайную модель\n",
    "dummy_regr = DummyRegressor(strategy='mean')\n",
    "dummy_regr_rougher = dummy_regr.fit(features_train, target_train_rougher)\n",
    "dummy_regr_final = dummy_regr.fit(features_train, target_train_final)\n",
    "# Рассчитаем sMAPE для случайной модели\n",
    "dummy_predicted_rougher = dummy_regr_rougher.predict(features_test)\n",
    "dummy_predicted_final = dummy_regr_final.predict(features_test)\n",
    "\n",
    "smape_dummy_rougher = sMAPE(target_test_rougher, dummy_predicted_rougher)\n",
    "smape_dummy_final = sMAPE(target_test_final, dummy_predicted_final)\n",
    "\n",
    "final_smape_dummy = func_for_final_smape(smape_dummy_rougher, smape_dummy_final)\n",
    "print('sMAPE для случайной модели составляет:', final_smape_dummy)"
   ]
  },
  {
   "cell_type": "markdown",
   "metadata": {},
   "source": [
    "Выбранная модель предсказывает лучше, чем случайная."
   ]
  },
  {
   "cell_type": "markdown",
   "metadata": {},
   "source": [
    "## Ввыводы"
   ]
  },
  {
   "cell_type": "markdown",
   "metadata": {},
   "source": [
    "- в ходе исследования была проведена предобработка данных: данные были проиндексированы по столбцу с датой,  пропуски в данных заполнены значениями предыдущей ячейки, удалены аномальные значения;\n",
    "- во избежание утечки данных из обучающей выборки были удалены признаки, характеризующие состояние концентрата и хвостов уже после каждого этапа очистки, а также признаки, рассчитанные на их основе;\n",
    "- проверена корректность расчёта эффективности обогащения по формуле; \n",
    "- проанализирована динамика концентрации золота, серебра и свинца на разных этапах очистки. Выявлено, что концентрация золота растет на каждом этапе, концентрация серебра становится максимальной после флотации, а затем начинает снижаться, достигая минимума после второго этапа очистки. Концентрация свинца вырастает после флотации и первого этапа очистки, после чего остается практически неизменной;\n",
    "- на примере распределения размеров гранул сырья показано, что распределение обучающей и тестовой выборки похожи, что позволило использовать тестовую выборку для последующей проверки модели;\n",
    "- рассчитана  и отражена на графике суммарная концентрация всех веществ на разных этапах очистки, выявлено, что на каждом этапе концентрация всех веществ возрастает, а диапазоны, в которых распределены значения веществ, сужаются;\n",
    "- были построены и обучены модели Линейной регрессии, Решающего дерева и Случайного леса с подбором гиперпараметров. В качестве метрики для  оценки качества модели использована sMAPE;\n",
    "- Лучшие результаты показала модель Дерево решений с глубиной 3 (для сырья) и 2 (для финального концентрата);\n",
    "- sMAPE лучшей модели на тестовой выборке:\n",
    "- с помощью проверки на адекватность показано, что модель предсказывает лучше, чем случайная.\n"
   ]
  },
  {
   "cell_type": "code",
   "execution_count": null,
   "metadata": {},
   "outputs": [],
   "source": []
  }
 ],
 "metadata": {
  "ExecuteTimeLog": [
   {
    "duration": 357,
    "start_time": "2023-01-17T07:22:40.306Z"
   },
   {
    "duration": 2,
    "start_time": "2023-01-17T08:02:19.366Z"
   },
   {
    "duration": 1109,
    "start_time": "2023-01-17T08:02:19.665Z"
   },
   {
    "duration": 508,
    "start_time": "2023-01-17T08:02:20.776Z"
   },
   {
    "duration": 2145,
    "start_time": "2023-01-17T08:02:21.286Z"
   },
   {
    "duration": 3,
    "start_time": "2023-01-17T08:06:11.355Z"
   },
   {
    "duration": 270,
    "start_time": "2023-01-17T08:06:11.621Z"
   },
   {
    "duration": 89,
    "start_time": "2023-01-17T08:06:11.930Z"
   },
   {
    "duration": 320,
    "start_time": "2023-01-17T08:06:12.204Z"
   },
   {
    "duration": 27,
    "start_time": "2023-01-17T08:06:12.612Z"
   },
   {
    "duration": 42,
    "start_time": "2023-01-17T08:06:48.292Z"
   },
   {
    "duration": 30,
    "start_time": "2023-01-17T08:07:13.731Z"
   },
   {
    "duration": 22,
    "start_time": "2023-01-17T08:13:00.857Z"
   },
   {
    "duration": 19,
    "start_time": "2023-01-17T08:13:09.709Z"
   },
   {
    "duration": 42,
    "start_time": "2023-01-17T08:14:11.527Z"
   },
   {
    "duration": 256,
    "start_time": "2023-01-17T08:15:15.197Z"
   },
   {
    "duration": 425,
    "start_time": "2023-01-19T10:59:27.061Z"
   },
   {
    "duration": 879,
    "start_time": "2023-01-19T10:59:27.560Z"
   },
   {
    "duration": 402,
    "start_time": "2023-01-19T10:59:28.441Z"
   },
   {
    "duration": 1743,
    "start_time": "2023-01-19T10:59:28.845Z"
   },
   {
    "duration": 28,
    "start_time": "2023-01-19T10:59:30.590Z"
   },
   {
    "duration": 6,
    "start_time": "2023-01-19T11:24:33.066Z"
   },
   {
    "duration": 78,
    "start_time": "2023-01-19T11:29:31.785Z"
   },
   {
    "duration": 3,
    "start_time": "2023-01-19T11:29:39.420Z"
   },
   {
    "duration": 264,
    "start_time": "2023-01-19T11:29:39.738Z"
   },
   {
    "duration": 75,
    "start_time": "2023-01-19T11:29:40.004Z"
   },
   {
    "duration": 327,
    "start_time": "2023-01-19T11:29:40.210Z"
   },
   {
    "duration": 20,
    "start_time": "2023-01-19T11:29:40.868Z"
   },
   {
    "duration": 6,
    "start_time": "2023-01-19T11:29:41.665Z"
   },
   {
    "duration": 27,
    "start_time": "2023-01-19T11:29:42.599Z"
   },
   {
    "duration": 22,
    "start_time": "2023-01-19T11:29:44.066Z"
   },
   {
    "duration": 43,
    "start_time": "2023-01-19T11:29:44.881Z"
   },
   {
    "duration": 239,
    "start_time": "2023-01-19T11:29:47.144Z"
   },
   {
    "duration": 17,
    "start_time": "2023-01-19T11:29:47.793Z"
   },
   {
    "duration": 16,
    "start_time": "2023-01-19T11:30:26.150Z"
   },
   {
    "duration": 22,
    "start_time": "2023-01-19T11:30:38.067Z"
   },
   {
    "duration": 6,
    "start_time": "2023-01-19T12:09:09.610Z"
   },
   {
    "duration": 8,
    "start_time": "2023-01-19T12:09:15.409Z"
   },
   {
    "duration": 9,
    "start_time": "2023-01-19T12:09:27.471Z"
   },
   {
    "duration": 9,
    "start_time": "2023-01-19T12:09:47.572Z"
   },
   {
    "duration": 10,
    "start_time": "2023-01-19T12:09:48.150Z"
   },
   {
    "duration": 10,
    "start_time": "2023-01-19T12:09:48.652Z"
   },
   {
    "duration": 201,
    "start_time": "2023-01-19T12:10:12.150Z"
   },
   {
    "duration": 9,
    "start_time": "2023-01-19T12:10:12.553Z"
   },
   {
    "duration": 9,
    "start_time": "2023-01-19T12:10:13.353Z"
   },
   {
    "duration": 8,
    "start_time": "2023-01-19T12:10:13.872Z"
   },
   {
    "duration": 1641,
    "start_time": "2023-01-19T12:12:29.864Z"
   },
   {
    "duration": 39,
    "start_time": "2023-01-19T12:12:31.507Z"
   },
   {
    "duration": 17283,
    "start_time": "2023-01-19T12:15:31.504Z"
   },
   {
    "duration": 298,
    "start_time": "2023-01-19T12:15:48.789Z"
   },
   {
    "duration": 72,
    "start_time": "2023-01-19T12:15:49.091Z"
   },
   {
    "duration": 340,
    "start_time": "2023-01-19T12:15:49.165Z"
   },
   {
    "duration": 26,
    "start_time": "2023-01-19T12:15:49.507Z"
   },
   {
    "duration": 12,
    "start_time": "2023-01-19T12:15:49.534Z"
   },
   {
    "duration": 31,
    "start_time": "2023-01-19T12:15:49.548Z"
   },
   {
    "duration": 38,
    "start_time": "2023-01-19T12:15:49.581Z"
   },
   {
    "duration": 43,
    "start_time": "2023-01-19T12:15:49.621Z"
   },
   {
    "duration": 269,
    "start_time": "2023-01-19T12:15:49.667Z"
   },
   {
    "duration": 11,
    "start_time": "2023-01-19T12:15:49.938Z"
   },
   {
    "duration": 1831,
    "start_time": "2023-01-19T12:15:49.951Z"
   },
   {
    "duration": 42,
    "start_time": "2023-01-19T12:15:51.830Z"
   },
   {
    "duration": 3,
    "start_time": "2023-01-19T12:17:55.150Z"
   },
   {
    "duration": 105,
    "start_time": "2023-01-19T12:22:19.584Z"
   },
   {
    "duration": 22,
    "start_time": "2023-01-19T12:22:28.934Z"
   },
   {
    "duration": 4603,
    "start_time": "2023-01-19T12:24:24.092Z"
   },
   {
    "duration": 11,
    "start_time": "2023-01-19T12:24:34.751Z"
   },
   {
    "duration": 4930,
    "start_time": "2023-01-19T12:24:53.958Z"
   },
   {
    "duration": 11,
    "start_time": "2023-01-19T12:24:58.890Z"
   },
   {
    "duration": 12,
    "start_time": "2023-01-19T12:24:59.241Z"
   },
   {
    "duration": 37,
    "start_time": "2023-01-19T12:26:08.177Z"
   },
   {
    "duration": 4480,
    "start_time": "2023-01-19T12:26:08.678Z"
   },
   {
    "duration": 9,
    "start_time": "2023-01-19T12:26:13.159Z"
   },
   {
    "duration": 2,
    "start_time": "2023-01-19T12:26:30.248Z"
   },
   {
    "duration": 294,
    "start_time": "2023-01-19T12:26:30.498Z"
   },
   {
    "duration": 79,
    "start_time": "2023-01-19T12:26:30.793Z"
   },
   {
    "duration": 408,
    "start_time": "2023-01-19T12:26:31.046Z"
   },
   {
    "duration": 23,
    "start_time": "2023-01-19T12:26:31.561Z"
   },
   {
    "duration": 4,
    "start_time": "2023-01-19T12:26:36.916Z"
   },
   {
    "duration": 20,
    "start_time": "2023-01-19T12:26:40.815Z"
   },
   {
    "duration": 21,
    "start_time": "2023-01-19T12:26:42.464Z"
   },
   {
    "duration": 59,
    "start_time": "2023-01-19T12:26:46.650Z"
   },
   {
    "duration": 222,
    "start_time": "2023-01-19T12:26:49.460Z"
   },
   {
    "duration": 9,
    "start_time": "2023-01-19T12:26:55.073Z"
   },
   {
    "duration": 4790,
    "start_time": "2023-01-19T12:26:57.776Z"
   },
   {
    "duration": 10,
    "start_time": "2023-01-19T12:27:02.568Z"
   },
   {
    "duration": 10,
    "start_time": "2023-01-19T12:27:24.458Z"
   },
   {
    "duration": 4792,
    "start_time": "2023-01-19T12:27:50.154Z"
   },
   {
    "duration": 10,
    "start_time": "2023-01-19T12:27:54.948Z"
   },
   {
    "duration": 2,
    "start_time": "2023-01-19T12:32:19.051Z"
   },
   {
    "duration": 275,
    "start_time": "2023-01-19T12:32:19.382Z"
   },
   {
    "duration": 74,
    "start_time": "2023-01-19T12:32:20.041Z"
   },
   {
    "duration": 350,
    "start_time": "2023-01-19T12:32:21.180Z"
   },
   {
    "duration": 23,
    "start_time": "2023-01-19T12:32:21.922Z"
   },
   {
    "duration": 5,
    "start_time": "2023-01-19T12:38:19.981Z"
   },
   {
    "duration": 20,
    "start_time": "2023-01-19T12:38:28.876Z"
   },
   {
    "duration": 19,
    "start_time": "2023-01-19T12:38:45.275Z"
   },
   {
    "duration": 57,
    "start_time": "2023-01-19T12:38:52.550Z"
   },
   {
    "duration": 210,
    "start_time": "2023-01-19T12:38:54.475Z"
   },
   {
    "duration": 9,
    "start_time": "2023-01-19T12:39:03.994Z"
   },
   {
    "duration": 26,
    "start_time": "2023-01-19T12:40:36.582Z"
   },
   {
    "duration": 8,
    "start_time": "2023-01-19T12:40:37.421Z"
   },
   {
    "duration": 10,
    "start_time": "2023-01-19T12:41:08.098Z"
   },
   {
    "duration": 8,
    "start_time": "2023-01-19T12:41:09.153Z"
   },
   {
    "duration": 10,
    "start_time": "2023-01-19T12:41:38.400Z"
   },
   {
    "duration": 10,
    "start_time": "2023-01-19T12:41:38.961Z"
   },
   {
    "duration": 7,
    "start_time": "2023-01-19T12:45:52.410Z"
   },
   {
    "duration": 8,
    "start_time": "2023-01-19T12:45:52.915Z"
   },
   {
    "duration": 15,
    "start_time": "2023-01-19T12:46:06.062Z"
   },
   {
    "duration": 14,
    "start_time": "2023-01-19T12:47:00.368Z"
   },
   {
    "duration": 15,
    "start_time": "2023-01-19T12:47:01.060Z"
   },
   {
    "duration": 11,
    "start_time": "2023-01-19T12:47:17.967Z"
   },
   {
    "duration": 14,
    "start_time": "2023-01-19T12:47:38.060Z"
   },
   {
    "duration": 12,
    "start_time": "2023-01-19T12:47:47.446Z"
   },
   {
    "duration": 10,
    "start_time": "2023-01-19T12:50:01.414Z"
   },
   {
    "duration": 15,
    "start_time": "2023-01-19T12:50:18.591Z"
   },
   {
    "duration": 10,
    "start_time": "2023-01-19T12:51:59.906Z"
   },
   {
    "duration": 4,
    "start_time": "2023-01-19T12:52:04.359Z"
   },
   {
    "duration": 12,
    "start_time": "2023-01-19T12:52:05.004Z"
   },
   {
    "duration": 10,
    "start_time": "2023-01-19T12:53:32.790Z"
   },
   {
    "duration": 334,
    "start_time": "2023-01-20T07:07:54.588Z"
   },
   {
    "duration": 1126,
    "start_time": "2023-01-20T07:07:55.756Z"
   },
   {
    "duration": 134,
    "start_time": "2023-01-20T07:07:56.884Z"
   },
   {
    "duration": 483,
    "start_time": "2023-01-20T07:07:58.943Z"
   },
   {
    "duration": 26,
    "start_time": "2023-01-20T07:07:59.733Z"
   },
   {
    "duration": 5,
    "start_time": "2023-01-20T07:08:04.119Z"
   },
   {
    "duration": 19,
    "start_time": "2023-01-20T07:08:07.306Z"
   },
   {
    "duration": 29,
    "start_time": "2023-01-20T07:08:10.262Z"
   },
   {
    "duration": 41,
    "start_time": "2023-01-20T07:08:12.681Z"
   },
   {
    "duration": 210,
    "start_time": "2023-01-20T07:08:14.167Z"
   },
   {
    "duration": 14,
    "start_time": "2023-01-20T07:08:19.418Z"
   },
   {
    "duration": 13,
    "start_time": "2023-01-20T07:08:19.435Z"
   },
   {
    "duration": 4,
    "start_time": "2023-01-20T07:08:19.449Z"
   },
   {
    "duration": 25,
    "start_time": "2023-01-20T07:08:19.454Z"
   },
   {
    "duration": 4,
    "start_time": "2023-01-20T07:26:26.399Z"
   },
   {
    "duration": 4,
    "start_time": "2023-01-20T07:28:22.934Z"
   },
   {
    "duration": 3,
    "start_time": "2023-01-20T07:28:47.984Z"
   },
   {
    "duration": 3,
    "start_time": "2023-01-20T07:28:51.340Z"
   },
   {
    "duration": 4,
    "start_time": "2023-01-20T07:29:41.387Z"
   },
   {
    "duration": 3,
    "start_time": "2023-01-20T07:30:15.316Z"
   },
   {
    "duration": 2,
    "start_time": "2023-01-20T07:31:10.596Z"
   },
   {
    "duration": 4,
    "start_time": "2023-01-20T07:31:18.891Z"
   },
   {
    "duration": 4,
    "start_time": "2023-01-20T07:37:39.162Z"
   },
   {
    "duration": 3,
    "start_time": "2023-01-20T07:37:41.913Z"
   },
   {
    "duration": 2,
    "start_time": "2023-01-20T07:37:42.234Z"
   },
   {
    "duration": 5,
    "start_time": "2023-01-20T07:37:42.498Z"
   },
   {
    "duration": 3,
    "start_time": "2023-01-20T07:43:55.619Z"
   },
   {
    "duration": 27,
    "start_time": "2023-01-20T07:43:56.124Z"
   },
   {
    "duration": 7,
    "start_time": "2023-01-20T07:43:56.795Z"
   },
   {
    "duration": 4,
    "start_time": "2023-01-20T07:44:37.355Z"
   },
   {
    "duration": 662,
    "start_time": "2023-01-20T07:47:10.979Z"
   },
   {
    "duration": 236,
    "start_time": "2023-01-20T07:47:11.643Z"
   },
   {
    "duration": 67,
    "start_time": "2023-01-20T07:47:11.880Z"
   },
   {
    "duration": 311,
    "start_time": "2023-01-20T07:47:11.949Z"
   },
   {
    "duration": 21,
    "start_time": "2023-01-20T07:47:12.261Z"
   },
   {
    "duration": 19,
    "start_time": "2023-01-20T07:47:12.284Z"
   },
   {
    "duration": 37,
    "start_time": "2023-01-20T07:47:12.305Z"
   },
   {
    "duration": 29,
    "start_time": "2023-01-20T07:47:12.452Z"
   },
   {
    "duration": 35,
    "start_time": "2023-01-20T07:47:12.596Z"
   },
   {
    "duration": 215,
    "start_time": "2023-01-20T07:47:12.756Z"
   },
   {
    "duration": 8,
    "start_time": "2023-01-20T07:47:12.973Z"
   },
   {
    "duration": 11,
    "start_time": "2023-01-20T07:47:13.173Z"
   },
   {
    "duration": 5,
    "start_time": "2023-01-20T07:47:13.338Z"
   },
   {
    "duration": 9,
    "start_time": "2023-01-20T07:47:13.477Z"
   },
   {
    "duration": 3,
    "start_time": "2023-01-20T07:47:13.689Z"
   },
   {
    "duration": 3,
    "start_time": "2023-01-20T07:47:13.839Z"
   },
   {
    "duration": 3,
    "start_time": "2023-01-20T07:47:14.022Z"
   },
   {
    "duration": 4,
    "start_time": "2023-01-20T07:47:14.202Z"
   },
   {
    "duration": 7,
    "start_time": "2023-01-20T07:47:14.982Z"
   },
   {
    "duration": 87,
    "start_time": "2023-01-20T07:48:50.881Z"
   },
   {
    "duration": 3,
    "start_time": "2023-01-20T07:49:31.798Z"
   },
   {
    "duration": 5,
    "start_time": "2023-01-20T07:50:24.549Z"
   },
   {
    "duration": 4,
    "start_time": "2023-01-20T07:53:17.462Z"
   },
   {
    "duration": 5,
    "start_time": "2023-01-20T07:53:18.083Z"
   },
   {
    "duration": 4,
    "start_time": "2023-01-20T07:53:20.891Z"
   },
   {
    "duration": 5,
    "start_time": "2023-01-20T07:53:41.956Z"
   },
   {
    "duration": 26,
    "start_time": "2023-01-20T08:00:01.225Z"
   },
   {
    "duration": 29,
    "start_time": "2023-01-20T08:00:28.554Z"
   },
   {
    "duration": 8,
    "start_time": "2023-01-20T08:04:03.122Z"
   },
   {
    "duration": 20,
    "start_time": "2023-01-20T08:04:11.901Z"
   },
   {
    "duration": 19,
    "start_time": "2023-01-20T08:04:29.403Z"
   },
   {
    "duration": 24,
    "start_time": "2023-01-20T08:04:42.417Z"
   },
   {
    "duration": 5,
    "start_time": "2023-01-20T08:10:27.935Z"
   },
   {
    "duration": 19,
    "start_time": "2023-01-20T08:12:47.998Z"
   },
   {
    "duration": 18,
    "start_time": "2023-01-20T08:15:12.003Z"
   },
   {
    "duration": 19,
    "start_time": "2023-01-20T08:15:16.118Z"
   },
   {
    "duration": 73,
    "start_time": "2023-01-20T08:15:37.541Z"
   },
   {
    "duration": 35,
    "start_time": "2023-01-20T08:16:07.062Z"
   },
   {
    "duration": 33,
    "start_time": "2023-01-20T08:16:44.704Z"
   },
   {
    "duration": 3,
    "start_time": "2023-01-20T08:16:51.035Z"
   },
   {
    "duration": 241,
    "start_time": "2023-01-20T08:16:51.649Z"
   },
   {
    "duration": 63,
    "start_time": "2023-01-20T08:16:51.922Z"
   },
   {
    "duration": 334,
    "start_time": "2023-01-20T08:16:52.227Z"
   },
   {
    "duration": 18,
    "start_time": "2023-01-20T08:16:53.020Z"
   },
   {
    "duration": 70,
    "start_time": "2023-01-20T08:16:53.039Z"
   },
   {
    "duration": 18,
    "start_time": "2023-01-20T08:16:53.239Z"
   },
   {
    "duration": 34,
    "start_time": "2023-01-20T08:16:53.975Z"
   },
   {
    "duration": 4,
    "start_time": "2023-01-20T08:16:54.584Z"
   },
   {
    "duration": 4,
    "start_time": "2023-01-20T08:38:20.851Z"
   },
   {
    "duration": 3,
    "start_time": "2023-01-20T08:38:33.978Z"
   },
   {
    "duration": 3,
    "start_time": "2023-01-20T08:38:57.085Z"
   },
   {
    "duration": 4,
    "start_time": "2023-01-20T08:41:48.592Z"
   },
   {
    "duration": 8,
    "start_time": "2023-01-20T08:42:00.193Z"
   },
   {
    "duration": 8,
    "start_time": "2023-01-20T08:42:15.971Z"
   },
   {
    "duration": 4,
    "start_time": "2023-01-20T08:42:30.848Z"
   },
   {
    "duration": 5,
    "start_time": "2023-01-20T08:48:42.020Z"
   },
   {
    "duration": 5,
    "start_time": "2023-01-20T08:49:13.380Z"
   },
   {
    "duration": 4,
    "start_time": "2023-01-20T08:49:28.889Z"
   },
   {
    "duration": 3,
    "start_time": "2023-01-20T08:49:38.913Z"
   },
   {
    "duration": 5,
    "start_time": "2023-01-20T08:49:46.638Z"
   },
   {
    "duration": 5,
    "start_time": "2023-01-20T08:50:20.652Z"
   },
   {
    "duration": 5,
    "start_time": "2023-01-20T08:55:17.179Z"
   },
   {
    "duration": 19,
    "start_time": "2023-01-20T09:01:56.888Z"
   },
   {
    "duration": 18,
    "start_time": "2023-01-20T09:05:26.037Z"
   },
   {
    "duration": 18,
    "start_time": "2023-01-20T09:07:14.007Z"
   },
   {
    "duration": 24,
    "start_time": "2023-01-20T09:08:07.061Z"
   },
   {
    "duration": 7,
    "start_time": "2023-01-20T09:08:17.168Z"
   },
   {
    "duration": 90,
    "start_time": "2023-01-20T09:09:14.583Z"
   },
   {
    "duration": 21,
    "start_time": "2023-01-20T09:09:20.952Z"
   },
   {
    "duration": 9,
    "start_time": "2023-01-20T09:09:45.709Z"
   },
   {
    "duration": 8,
    "start_time": "2023-01-20T09:09:57.750Z"
   },
   {
    "duration": 11,
    "start_time": "2023-01-20T09:10:13.044Z"
   },
   {
    "duration": 11,
    "start_time": "2023-01-20T09:10:18.113Z"
   },
   {
    "duration": 8,
    "start_time": "2023-01-20T09:10:25.094Z"
   },
   {
    "duration": 9,
    "start_time": "2023-01-20T09:10:34.116Z"
   },
   {
    "duration": 8,
    "start_time": "2023-01-20T09:10:48.419Z"
   },
   {
    "duration": 9,
    "start_time": "2023-01-20T09:10:51.666Z"
   },
   {
    "duration": 8,
    "start_time": "2023-01-20T09:11:01.784Z"
   },
   {
    "duration": 5,
    "start_time": "2023-01-20T09:11:15.396Z"
   },
   {
    "duration": 9,
    "start_time": "2023-01-20T09:24:55.149Z"
   },
   {
    "duration": 16,
    "start_time": "2023-01-20T12:48:15.168Z"
   },
   {
    "duration": 11,
    "start_time": "2023-01-20T12:50:32.766Z"
   },
   {
    "duration": 4,
    "start_time": "2023-01-20T12:51:10.952Z"
   },
   {
    "duration": 12,
    "start_time": "2023-01-20T12:52:11.530Z"
   },
   {
    "duration": 6,
    "start_time": "2023-01-20T12:52:12.420Z"
   },
   {
    "duration": 10,
    "start_time": "2023-01-20T12:52:38.441Z"
   },
   {
    "duration": 5,
    "start_time": "2023-01-20T12:52:41.623Z"
   },
   {
    "duration": 67,
    "start_time": "2023-01-20T12:56:57.041Z"
   },
   {
    "duration": 4,
    "start_time": "2023-01-20T12:56:57.715Z"
   },
   {
    "duration": 10,
    "start_time": "2023-01-20T12:57:12.325Z"
   },
   {
    "duration": 10,
    "start_time": "2023-01-20T12:58:49.946Z"
   },
   {
    "duration": 4,
    "start_time": "2023-01-20T12:58:51.031Z"
   },
   {
    "duration": 9,
    "start_time": "2023-01-20T13:41:52.126Z"
   },
   {
    "duration": 456,
    "start_time": "2023-01-20T13:43:36.689Z"
   },
   {
    "duration": 250,
    "start_time": "2023-01-20T13:43:37.310Z"
   },
   {
    "duration": 60,
    "start_time": "2023-01-20T13:43:37.562Z"
   },
   {
    "duration": 284,
    "start_time": "2023-01-20T13:43:37.624Z"
   },
   {
    "duration": 20,
    "start_time": "2023-01-20T13:43:37.950Z"
   },
   {
    "duration": 22,
    "start_time": "2023-01-20T13:43:38.121Z"
   },
   {
    "duration": 24,
    "start_time": "2023-01-20T13:43:38.297Z"
   },
   {
    "duration": 48,
    "start_time": "2023-01-20T13:43:38.607Z"
   },
   {
    "duration": 5,
    "start_time": "2023-01-20T13:43:38.967Z"
   },
   {
    "duration": 6,
    "start_time": "2023-01-20T13:43:39.479Z"
   },
   {
    "duration": 5,
    "start_time": "2023-01-20T13:43:39.656Z"
   },
   {
    "duration": 195,
    "start_time": "2023-01-20T13:43:40.020Z"
   },
   {
    "duration": 16,
    "start_time": "2023-01-20T13:43:40.398Z"
   },
   {
    "duration": 8,
    "start_time": "2023-01-20T13:43:40.758Z"
   },
   {
    "duration": 9,
    "start_time": "2023-01-20T13:43:41.293Z"
   },
   {
    "duration": 4,
    "start_time": "2023-01-20T13:43:41.487Z"
   },
   {
    "duration": 25,
    "start_time": "2023-01-20T13:44:48.436Z"
   },
   {
    "duration": 61,
    "start_time": "2023-01-22T09:30:14.013Z"
   },
   {
    "duration": 1383,
    "start_time": "2023-01-22T09:30:21.908Z"
   },
   {
    "duration": 838,
    "start_time": "2023-01-22T09:30:23.292Z"
   },
   {
    "duration": 407,
    "start_time": "2023-01-22T09:30:24.132Z"
   },
   {
    "duration": 1810,
    "start_time": "2023-01-22T09:30:24.541Z"
   },
   {
    "duration": 23,
    "start_time": "2023-01-22T09:30:26.353Z"
   },
   {
    "duration": 17,
    "start_time": "2023-01-22T09:30:26.377Z"
   },
   {
    "duration": 20,
    "start_time": "2023-01-22T09:30:26.395Z"
   },
   {
    "duration": 51,
    "start_time": "2023-01-22T09:30:26.416Z"
   },
   {
    "duration": 4,
    "start_time": "2023-01-22T09:30:26.469Z"
   },
   {
    "duration": 5,
    "start_time": "2023-01-22T09:30:26.475Z"
   },
   {
    "duration": 11,
    "start_time": "2023-01-22T09:30:26.481Z"
   },
   {
    "duration": 207,
    "start_time": "2023-01-22T09:30:26.494Z"
   },
   {
    "duration": 20,
    "start_time": "2023-01-22T09:30:26.703Z"
   },
   {
    "duration": 10,
    "start_time": "2023-01-22T09:30:26.726Z"
   },
   {
    "duration": 30,
    "start_time": "2023-01-22T09:30:26.737Z"
   },
   {
    "duration": 10,
    "start_time": "2023-01-22T09:30:26.769Z"
   },
   {
    "duration": 330,
    "start_time": "2023-01-22T09:30:26.782Z"
   },
   {
    "duration": 296,
    "start_time": "2023-01-22T09:33:37.665Z"
   },
   {
    "duration": 306,
    "start_time": "2023-01-22T09:38:04.169Z"
   },
   {
    "duration": 361,
    "start_time": "2023-01-22T09:39:29.632Z"
   },
   {
    "duration": 268,
    "start_time": "2023-01-22T09:45:45.453Z"
   },
   {
    "duration": 326,
    "start_time": "2023-01-22T09:45:52.226Z"
   },
   {
    "duration": 344,
    "start_time": "2023-01-22T09:45:59.245Z"
   },
   {
    "duration": 328,
    "start_time": "2023-01-22T09:46:18.997Z"
   },
   {
    "duration": 469,
    "start_time": "2023-01-22T09:46:36.237Z"
   },
   {
    "duration": 365,
    "start_time": "2023-01-22T09:46:57.902Z"
   },
   {
    "duration": 163,
    "start_time": "2023-01-22T09:47:32.481Z"
   },
   {
    "duration": 341,
    "start_time": "2023-01-22T09:50:20.744Z"
   },
   {
    "duration": 375,
    "start_time": "2023-01-22T09:53:10.110Z"
   },
   {
    "duration": 374,
    "start_time": "2023-01-22T09:53:18.049Z"
   },
   {
    "duration": 483,
    "start_time": "2023-01-22T09:56:02.656Z"
   },
   {
    "duration": 350,
    "start_time": "2023-01-22T09:56:15.766Z"
   },
   {
    "duration": 286,
    "start_time": "2023-01-22T10:00:21.517Z"
   },
   {
    "duration": 342,
    "start_time": "2023-01-22T10:00:31.874Z"
   },
   {
    "duration": 48,
    "start_time": "2023-01-22T10:01:07.880Z"
   },
   {
    "duration": 397,
    "start_time": "2023-01-22T10:01:30.591Z"
   },
   {
    "duration": 376,
    "start_time": "2023-01-22T10:01:57.265Z"
   },
   {
    "duration": 506,
    "start_time": "2023-01-22T10:03:15.391Z"
   },
   {
    "duration": 371,
    "start_time": "2023-01-22T10:03:30.650Z"
   },
   {
    "duration": 222,
    "start_time": "2023-01-22T10:12:13.474Z"
   },
   {
    "duration": 262,
    "start_time": "2023-01-22T10:16:13.111Z"
   },
   {
    "duration": 420,
    "start_time": "2023-01-22T10:17:30.100Z"
   },
   {
    "duration": 330,
    "start_time": "2023-01-22T10:18:04.998Z"
   },
   {
    "duration": 486,
    "start_time": "2023-01-22T10:18:20.498Z"
   },
   {
    "duration": 299,
    "start_time": "2023-01-22T10:19:53.572Z"
   },
   {
    "duration": 372,
    "start_time": "2023-01-22T10:19:59.584Z"
   },
   {
    "duration": 315,
    "start_time": "2023-01-22T10:20:12.040Z"
   },
   {
    "duration": 261,
    "start_time": "2023-01-22T10:20:24.725Z"
   },
   {
    "duration": 723,
    "start_time": "2023-01-22T10:30:18.091Z"
   },
   {
    "duration": 791,
    "start_time": "2023-01-22T10:30:38.796Z"
   },
   {
    "duration": 13,
    "start_time": "2023-01-22T10:31:18.732Z"
   },
   {
    "duration": 751,
    "start_time": "2023-01-22T10:31:26.674Z"
   },
   {
    "duration": 10,
    "start_time": "2023-01-22T10:32:40.268Z"
   },
   {
    "duration": 6,
    "start_time": "2023-01-22T10:36:05.850Z"
   },
   {
    "duration": 13,
    "start_time": "2023-01-22T10:36:40.733Z"
   },
   {
    "duration": 6,
    "start_time": "2023-01-22T10:36:58.111Z"
   },
   {
    "duration": 7,
    "start_time": "2023-01-22T10:37:37.591Z"
   },
   {
    "duration": 10,
    "start_time": "2023-01-22T10:38:00.288Z"
   },
   {
    "duration": 5,
    "start_time": "2023-01-22T10:38:05.477Z"
   },
   {
    "duration": 5,
    "start_time": "2023-01-22T10:38:41.460Z"
   },
   {
    "duration": 160,
    "start_time": "2023-01-22T10:41:42.659Z"
   },
   {
    "duration": 897,
    "start_time": "2023-01-22T10:42:26.847Z"
   },
   {
    "duration": 5,
    "start_time": "2023-01-22T10:43:04.080Z"
   },
   {
    "duration": 5,
    "start_time": "2023-01-22T10:43:04.536Z"
   },
   {
    "duration": 6,
    "start_time": "2023-01-22T10:43:04.983Z"
   },
   {
    "duration": 292,
    "start_time": "2023-01-22T10:43:05.594Z"
   },
   {
    "duration": 303,
    "start_time": "2023-01-22T10:47:20.425Z"
   },
   {
    "duration": 272,
    "start_time": "2023-01-22T10:47:36.063Z"
   },
   {
    "duration": 416,
    "start_time": "2023-01-22T10:50:24.986Z"
   },
   {
    "duration": 5,
    "start_time": "2023-01-22T10:53:05.993Z"
   },
   {
    "duration": 5,
    "start_time": "2023-01-22T10:53:06.449Z"
   },
   {
    "duration": 4,
    "start_time": "2023-01-22T10:53:06.877Z"
   },
   {
    "duration": 242,
    "start_time": "2023-01-22T10:53:07.408Z"
   },
   {
    "duration": 250,
    "start_time": "2023-01-22T10:53:33.204Z"
   },
   {
    "duration": 253,
    "start_time": "2023-01-22T10:53:42.172Z"
   },
   {
    "duration": 415,
    "start_time": "2023-01-22T10:55:15.154Z"
   },
   {
    "duration": 468,
    "start_time": "2023-01-22T10:55:18.996Z"
   },
   {
    "duration": 296,
    "start_time": "2023-01-22T10:55:22.823Z"
   },
   {
    "duration": 306,
    "start_time": "2023-01-22T10:55:46.061Z"
   },
   {
    "duration": 45,
    "start_time": "2023-01-22T11:03:16.165Z"
   },
   {
    "duration": 269,
    "start_time": "2023-01-22T11:03:16.484Z"
   },
   {
    "duration": 104,
    "start_time": "2023-01-22T11:03:16.755Z"
   },
   {
    "duration": 344,
    "start_time": "2023-01-22T11:03:16.861Z"
   },
   {
    "duration": 21,
    "start_time": "2023-01-22T11:03:17.207Z"
   },
   {
    "duration": 18,
    "start_time": "2023-01-22T11:03:17.256Z"
   },
   {
    "duration": 17,
    "start_time": "2023-01-22T11:03:17.428Z"
   },
   {
    "duration": 35,
    "start_time": "2023-01-22T11:03:17.728Z"
   },
   {
    "duration": 7,
    "start_time": "2023-01-22T11:03:18.048Z"
   },
   {
    "duration": 7,
    "start_time": "2023-01-22T11:03:18.553Z"
   },
   {
    "duration": 5,
    "start_time": "2023-01-22T11:03:18.722Z"
   },
   {
    "duration": 212,
    "start_time": "2023-01-22T11:03:19.065Z"
   },
   {
    "duration": 18,
    "start_time": "2023-01-22T11:03:19.412Z"
   },
   {
    "duration": 8,
    "start_time": "2023-01-22T11:03:19.745Z"
   },
   {
    "duration": 9,
    "start_time": "2023-01-22T11:03:20.255Z"
   },
   {
    "duration": 5,
    "start_time": "2023-01-22T11:03:20.430Z"
   },
   {
    "duration": 288,
    "start_time": "2023-01-22T11:03:21.152Z"
   },
   {
    "duration": 311,
    "start_time": "2023-01-22T11:03:21.460Z"
   },
   {
    "duration": 466,
    "start_time": "2023-01-22T11:03:21.806Z"
   },
   {
    "duration": 298,
    "start_time": "2023-01-22T11:03:22.274Z"
   },
   {
    "duration": 6,
    "start_time": "2023-01-22T11:03:22.781Z"
   },
   {
    "duration": 6,
    "start_time": "2023-01-22T11:03:22.885Z"
   },
   {
    "duration": 5,
    "start_time": "2023-01-22T11:03:23.057Z"
   },
   {
    "duration": 238,
    "start_time": "2023-01-22T11:03:23.237Z"
   },
   {
    "duration": 10,
    "start_time": "2023-01-22T11:19:54.438Z"
   },
   {
    "duration": 9,
    "start_time": "2023-01-22T11:21:34.699Z"
   },
   {
    "duration": 6,
    "start_time": "2023-01-22T11:21:35.168Z"
   },
   {
    "duration": 9,
    "start_time": "2023-01-22T11:37:32.359Z"
   },
   {
    "duration": 7,
    "start_time": "2023-01-22T11:42:36.971Z"
   },
   {
    "duration": 9,
    "start_time": "2023-01-22T11:45:32.520Z"
   },
   {
    "duration": 7,
    "start_time": "2023-01-22T11:48:05.089Z"
   },
   {
    "duration": 54,
    "start_time": "2023-01-22T11:54:32.839Z"
   },
   {
    "duration": 4,
    "start_time": "2023-01-22T11:55:08.004Z"
   },
   {
    "duration": 3,
    "start_time": "2023-01-22T11:55:49.632Z"
   },
   {
    "duration": 4,
    "start_time": "2023-01-22T12:26:11.978Z"
   },
   {
    "duration": 288,
    "start_time": "2023-01-22T12:26:12.300Z"
   },
   {
    "duration": 82,
    "start_time": "2023-01-22T12:26:12.590Z"
   },
   {
    "duration": 381,
    "start_time": "2023-01-22T12:26:12.674Z"
   },
   {
    "duration": 28,
    "start_time": "2023-01-22T12:26:13.057Z"
   },
   {
    "duration": 18,
    "start_time": "2023-01-22T12:26:13.090Z"
   },
   {
    "duration": 23,
    "start_time": "2023-01-22T12:26:13.261Z"
   },
   {
    "duration": 36,
    "start_time": "2023-01-22T12:26:13.586Z"
   },
   {
    "duration": 5,
    "start_time": "2023-01-22T12:26:13.932Z"
   },
   {
    "duration": 6,
    "start_time": "2023-01-22T12:26:14.379Z"
   },
   {
    "duration": 5,
    "start_time": "2023-01-22T12:26:14.531Z"
   },
   {
    "duration": 280,
    "start_time": "2023-01-22T12:26:14.860Z"
   },
   {
    "duration": 20,
    "start_time": "2023-01-22T12:26:15.166Z"
   },
   {
    "duration": 9,
    "start_time": "2023-01-22T12:26:15.475Z"
   },
   {
    "duration": 11,
    "start_time": "2023-01-22T12:26:15.947Z"
   },
   {
    "duration": 4,
    "start_time": "2023-01-22T12:26:16.098Z"
   },
   {
    "duration": 329,
    "start_time": "2023-01-22T12:26:16.730Z"
   },
   {
    "duration": 336,
    "start_time": "2023-01-22T12:26:17.073Z"
   },
   {
    "duration": 482,
    "start_time": "2023-01-22T12:26:17.424Z"
   },
   {
    "duration": 288,
    "start_time": "2023-01-22T12:26:17.908Z"
   },
   {
    "duration": 5,
    "start_time": "2023-01-22T12:26:18.197Z"
   },
   {
    "duration": 5,
    "start_time": "2023-01-22T12:26:18.441Z"
   },
   {
    "duration": 4,
    "start_time": "2023-01-22T12:26:18.602Z"
   },
   {
    "duration": 270,
    "start_time": "2023-01-22T12:26:18.802Z"
   },
   {
    "duration": 7,
    "start_time": "2023-01-22T12:26:20.872Z"
   },
   {
    "duration": 6,
    "start_time": "2023-01-22T12:26:21.207Z"
   },
   {
    "duration": 4,
    "start_time": "2023-01-22T12:26:21.787Z"
   },
   {
    "duration": 2,
    "start_time": "2023-01-22T12:26:22.324Z"
   },
   {
    "duration": 16,
    "start_time": "2023-01-22T13:24:40.592Z"
   },
   {
    "duration": 9,
    "start_time": "2023-01-22T13:26:57.715Z"
   },
   {
    "duration": 3,
    "start_time": "2023-01-22T13:27:49.046Z"
   },
   {
    "duration": 3,
    "start_time": "2023-01-22T13:27:49.587Z"
   },
   {
    "duration": 11,
    "start_time": "2023-01-22T13:27:53.712Z"
   },
   {
    "duration": 10384,
    "start_time": "2023-01-22T13:28:31.447Z"
   },
   {
    "duration": 10888,
    "start_time": "2023-01-22T13:31:43.727Z"
   },
   {
    "duration": 17,
    "start_time": "2023-01-22T13:44:21.894Z"
   },
   {
    "duration": 13,
    "start_time": "2023-01-22T13:45:46.467Z"
   },
   {
    "duration": 5,
    "start_time": "2023-01-22T13:46:10.571Z"
   },
   {
    "duration": 10,
    "start_time": "2023-01-22T13:46:11.214Z"
   },
   {
    "duration": 10530,
    "start_time": "2023-01-22T13:46:18.815Z"
   },
   {
    "duration": 6,
    "start_time": "2023-01-22T13:52:16.016Z"
   },
   {
    "duration": 4,
    "start_time": "2023-01-22T13:52:16.368Z"
   },
   {
    "duration": 11,
    "start_time": "2023-01-22T13:52:16.585Z"
   },
   {
    "duration": 3,
    "start_time": "2023-01-22T13:52:19.853Z"
   },
   {
    "duration": 3,
    "start_time": "2023-01-22T13:52:20.652Z"
   },
   {
    "duration": 11325,
    "start_time": "2023-01-22T13:52:23.876Z"
   },
   {
    "duration": 10556,
    "start_time": "2023-01-22T13:57:04.169Z"
   },
   {
    "duration": 11,
    "start_time": "2023-01-22T13:58:18.756Z"
   },
   {
    "duration": 10828,
    "start_time": "2023-01-22T13:59:04.134Z"
   },
   {
    "duration": 1395,
    "start_time": "2023-01-22T14:00:27.993Z"
   },
   {
    "duration": 6,
    "start_time": "2023-01-22T14:00:32.671Z"
   },
   {
    "duration": 1458,
    "start_time": "2023-01-22T14:00:33.879Z"
   },
   {
    "duration": 4,
    "start_time": "2023-01-22T14:03:35.981Z"
   },
   {
    "duration": 327,
    "start_time": "2023-01-22T14:03:36.507Z"
   },
   {
    "duration": 86,
    "start_time": "2023-01-22T14:03:36.836Z"
   },
   {
    "duration": 389,
    "start_time": "2023-01-22T14:03:37.020Z"
   },
   {
    "duration": 23,
    "start_time": "2023-01-22T14:03:38.179Z"
   },
   {
    "duration": 18,
    "start_time": "2023-01-22T14:03:38.921Z"
   },
   {
    "duration": 21,
    "start_time": "2023-01-22T14:03:39.405Z"
   },
   {
    "duration": 38,
    "start_time": "2023-01-22T14:03:40.363Z"
   },
   {
    "duration": 5,
    "start_time": "2023-01-22T14:03:41.315Z"
   },
   {
    "duration": 7,
    "start_time": "2023-01-22T14:03:42.504Z"
   },
   {
    "duration": 4,
    "start_time": "2023-01-22T14:03:42.881Z"
   },
   {
    "duration": 204,
    "start_time": "2023-01-22T14:03:43.981Z"
   },
   {
    "duration": 21,
    "start_time": "2023-01-22T14:03:47.065Z"
   },
   {
    "duration": 9,
    "start_time": "2023-01-22T14:03:48.256Z"
   },
   {
    "duration": 10,
    "start_time": "2023-01-22T14:03:52.177Z"
   },
   {
    "duration": 5,
    "start_time": "2023-01-22T14:03:52.630Z"
   },
   {
    "duration": 353,
    "start_time": "2023-01-22T14:03:56.583Z"
   },
   {
    "duration": 360,
    "start_time": "2023-01-22T14:03:59.394Z"
   },
   {
    "duration": 345,
    "start_time": "2023-01-22T14:04:01.963Z"
   },
   {
    "duration": 382,
    "start_time": "2023-01-22T14:04:05.542Z"
   },
   {
    "duration": 5,
    "start_time": "2023-01-22T14:04:12.089Z"
   },
   {
    "duration": 4,
    "start_time": "2023-01-22T14:04:12.258Z"
   },
   {
    "duration": 5,
    "start_time": "2023-01-22T14:04:12.405Z"
   },
   {
    "duration": 258,
    "start_time": "2023-01-22T14:04:12.565Z"
   },
   {
    "duration": 7,
    "start_time": "2023-01-22T14:04:17.395Z"
   },
   {
    "duration": 5,
    "start_time": "2023-01-22T14:04:17.595Z"
   },
   {
    "duration": 13,
    "start_time": "2023-01-22T14:04:17.782Z"
   },
   {
    "duration": 3,
    "start_time": "2023-01-22T14:04:20.311Z"
   },
   {
    "duration": 4,
    "start_time": "2023-01-22T14:04:20.681Z"
   },
   {
    "duration": 3,
    "start_time": "2023-01-22T14:04:20.887Z"
   },
   {
    "duration": 1506,
    "start_time": "2023-01-22T14:04:23.539Z"
   },
   {
    "duration": 2699,
    "start_time": "2023-01-22T14:06:57.427Z"
   },
   {
    "duration": 14,
    "start_time": "2023-01-22T14:08:22.696Z"
   },
   {
    "duration": 620,
    "start_time": "2023-01-22T14:13:07.465Z"
   },
   {
    "duration": 47,
    "start_time": "2023-01-22T14:17:13.276Z"
   },
   {
    "duration": 1268,
    "start_time": "2023-01-22T14:17:53.212Z"
   },
   {
    "duration": 313,
    "start_time": "2023-01-22T14:17:54.482Z"
   },
   {
    "duration": 86,
    "start_time": "2023-01-22T14:17:54.797Z"
   },
   {
    "duration": 414,
    "start_time": "2023-01-22T14:17:55.083Z"
   },
   {
    "duration": 27,
    "start_time": "2023-01-22T14:17:55.499Z"
   },
   {
    "duration": 22,
    "start_time": "2023-01-22T14:17:55.589Z"
   },
   {
    "duration": 19,
    "start_time": "2023-01-22T14:17:55.725Z"
   },
   {
    "duration": 34,
    "start_time": "2023-01-22T14:17:56.081Z"
   },
   {
    "duration": 4,
    "start_time": "2023-01-22T14:17:56.480Z"
   },
   {
    "duration": 4,
    "start_time": "2023-01-22T14:17:56.996Z"
   },
   {
    "duration": 4,
    "start_time": "2023-01-22T14:17:57.182Z"
   },
   {
    "duration": 225,
    "start_time": "2023-01-22T14:17:57.531Z"
   },
   {
    "duration": 21,
    "start_time": "2023-01-22T14:17:57.892Z"
   },
   {
    "duration": 10,
    "start_time": "2023-01-22T14:17:58.307Z"
   },
   {
    "duration": 10,
    "start_time": "2023-01-22T14:17:58.939Z"
   },
   {
    "duration": 3,
    "start_time": "2023-01-22T14:17:59.188Z"
   },
   {
    "duration": 356,
    "start_time": "2023-01-22T14:18:03.511Z"
   },
   {
    "duration": 410,
    "start_time": "2023-01-22T14:18:05.988Z"
   },
   {
    "duration": 441,
    "start_time": "2023-01-22T14:18:09.599Z"
   },
   {
    "duration": 289,
    "start_time": "2023-01-22T14:18:12.608Z"
   },
   {
    "duration": 5,
    "start_time": "2023-01-22T14:18:15.193Z"
   },
   {
    "duration": 6,
    "start_time": "2023-01-22T14:18:15.496Z"
   },
   {
    "duration": 5,
    "start_time": "2023-01-22T14:18:18.058Z"
   },
   {
    "duration": 296,
    "start_time": "2023-01-22T14:18:18.340Z"
   },
   {
    "duration": 8,
    "start_time": "2023-01-22T14:18:21.603Z"
   },
   {
    "duration": 8,
    "start_time": "2023-01-22T14:18:21.773Z"
   },
   {
    "duration": 11,
    "start_time": "2023-01-22T14:18:21.888Z"
   },
   {
    "duration": 4,
    "start_time": "2023-01-22T14:18:26.339Z"
   },
   {
    "duration": 3,
    "start_time": "2023-01-22T14:18:27.493Z"
   },
   {
    "duration": 2,
    "start_time": "2023-01-22T14:18:28.919Z"
   },
   {
    "duration": 180658,
    "start_time": "2023-01-22T14:18:31.793Z"
   },
   {
    "duration": 148,
    "start_time": "2023-01-22T15:09:21.902Z"
   },
   {
    "duration": 1781,
    "start_time": "2023-01-22T15:11:12.392Z"
   },
   {
    "duration": 1024,
    "start_time": "2023-01-22T15:11:14.178Z"
   },
   {
    "duration": 488,
    "start_time": "2023-01-22T15:11:15.204Z"
   },
   {
    "duration": 2181,
    "start_time": "2023-01-22T15:11:15.695Z"
   },
   {
    "duration": 23,
    "start_time": "2023-01-22T15:11:17.877Z"
   },
   {
    "duration": 20,
    "start_time": "2023-01-22T15:11:17.902Z"
   },
   {
    "duration": 20,
    "start_time": "2023-01-22T15:11:17.923Z"
   },
   {
    "duration": 53,
    "start_time": "2023-01-22T15:11:17.949Z"
   },
   {
    "duration": 5,
    "start_time": "2023-01-22T15:11:18.003Z"
   },
   {
    "duration": 6,
    "start_time": "2023-01-22T15:11:18.011Z"
   },
   {
    "duration": 23,
    "start_time": "2023-01-22T15:11:18.019Z"
   },
   {
    "duration": 268,
    "start_time": "2023-01-22T15:11:18.044Z"
   },
   {
    "duration": 36,
    "start_time": "2023-01-22T15:11:18.313Z"
   },
   {
    "duration": 21,
    "start_time": "2023-01-22T15:11:18.350Z"
   },
   {
    "duration": 15,
    "start_time": "2023-01-22T15:11:18.373Z"
   },
   {
    "duration": 6,
    "start_time": "2023-01-22T15:11:18.390Z"
   },
   {
    "duration": 427,
    "start_time": "2023-01-22T15:11:20.176Z"
   },
   {
    "duration": 418,
    "start_time": "2023-01-22T15:11:20.781Z"
   },
   {
    "duration": 498,
    "start_time": "2023-01-22T15:11:21.420Z"
   },
   {
    "duration": 286,
    "start_time": "2023-01-22T15:11:24.569Z"
   },
   {
    "duration": 6,
    "start_time": "2023-01-22T15:11:25.305Z"
   },
   {
    "duration": 7,
    "start_time": "2023-01-22T15:11:25.577Z"
   },
   {
    "duration": 6,
    "start_time": "2023-01-22T15:11:25.848Z"
   },
   {
    "duration": 389,
    "start_time": "2023-01-22T15:11:26.076Z"
   },
   {
    "duration": 9,
    "start_time": "2023-01-22T15:11:30.000Z"
   },
   {
    "duration": 5,
    "start_time": "2023-01-22T15:11:30.306Z"
   },
   {
    "duration": 11,
    "start_time": "2023-01-22T15:11:30.705Z"
   },
   {
    "duration": 3,
    "start_time": "2023-01-22T15:11:33.572Z"
   },
   {
    "duration": 3,
    "start_time": "2023-01-22T15:11:34.386Z"
   },
   {
    "duration": 4,
    "start_time": "2023-01-22T15:11:36.513Z"
   },
   {
    "duration": 108214,
    "start_time": "2023-01-22T15:11:37.390Z"
   },
   {
    "duration": 105281,
    "start_time": "2023-01-22T15:29:44.126Z"
   },
   {
    "duration": 217014,
    "start_time": "2023-01-22T15:33:52.132Z"
   },
   {
    "duration": 5,
    "start_time": "2023-01-22T15:43:33.990Z"
   },
   {
    "duration": 3,
    "start_time": "2023-01-22T15:43:39.607Z"
   },
   {
    "duration": 142,
    "start_time": "2023-01-22T16:20:16.065Z"
   },
   {
    "duration": 4,
    "start_time": "2023-01-22T16:20:55.485Z"
   },
   {
    "duration": 314,
    "start_time": "2023-01-22T16:20:56.155Z"
   },
   {
    "duration": 74,
    "start_time": "2023-01-22T16:20:56.472Z"
   },
   {
    "duration": 327,
    "start_time": "2023-01-22T16:20:56.548Z"
   },
   {
    "duration": 18,
    "start_time": "2023-01-22T16:20:56.877Z"
   },
   {
    "duration": 20,
    "start_time": "2023-01-22T16:20:57.017Z"
   },
   {
    "duration": 18,
    "start_time": "2023-01-22T16:20:57.171Z"
   },
   {
    "duration": 49,
    "start_time": "2023-01-22T16:20:57.542Z"
   },
   {
    "duration": 4,
    "start_time": "2023-01-22T16:20:57.906Z"
   },
   {
    "duration": 5,
    "start_time": "2023-01-22T16:20:58.418Z"
   },
   {
    "duration": 4,
    "start_time": "2023-01-22T16:20:58.586Z"
   },
   {
    "duration": 223,
    "start_time": "2023-01-22T16:20:58.932Z"
   },
   {
    "duration": 24,
    "start_time": "2023-01-22T16:20:59.283Z"
   },
   {
    "duration": 11,
    "start_time": "2023-01-22T16:20:59.621Z"
   },
   {
    "duration": 9,
    "start_time": "2023-01-22T16:21:00.186Z"
   },
   {
    "duration": 5,
    "start_time": "2023-01-22T16:21:00.399Z"
   },
   {
    "duration": 285,
    "start_time": "2023-01-22T16:21:02.018Z"
   },
   {
    "duration": 360,
    "start_time": "2023-01-22T16:21:03.307Z"
   },
   {
    "duration": 455,
    "start_time": "2023-01-22T16:21:04.517Z"
   },
   {
    "duration": 254,
    "start_time": "2023-01-22T16:21:05.762Z"
   },
   {
    "duration": 6,
    "start_time": "2023-01-22T16:21:06.858Z"
   },
   {
    "duration": 5,
    "start_time": "2023-01-22T16:21:08.462Z"
   },
   {
    "duration": 5,
    "start_time": "2023-01-22T16:21:08.972Z"
   },
   {
    "duration": 250,
    "start_time": "2023-01-22T16:21:10.738Z"
   },
   {
    "duration": 10,
    "start_time": "2023-01-22T16:21:14.095Z"
   },
   {
    "duration": 6,
    "start_time": "2023-01-22T16:21:14.355Z"
   },
   {
    "duration": 13,
    "start_time": "2023-01-22T16:21:14.706Z"
   },
   {
    "duration": 4,
    "start_time": "2023-01-22T16:21:17.873Z"
   },
   {
    "duration": 2,
    "start_time": "2023-01-22T16:21:18.662Z"
   },
   {
    "duration": 50,
    "start_time": "2023-01-22T16:21:21.618Z"
   },
   {
    "duration": 2,
    "start_time": "2023-01-22T16:23:51.887Z"
   },
   {
    "duration": 4426,
    "start_time": "2023-01-22T16:23:52.951Z"
   },
   {
    "duration": 4937,
    "start_time": "2023-01-22T16:24:20.414Z"
   },
   {
    "duration": 27,
    "start_time": "2023-01-22T16:36:06.508Z"
   },
   {
    "duration": 4165,
    "start_time": "2023-01-22T16:36:19.120Z"
   },
   {
    "duration": 25,
    "start_time": "2023-01-22T16:36:37.281Z"
   },
   {
    "duration": 3718,
    "start_time": "2023-01-22T16:36:53.233Z"
   },
   {
    "duration": 5,
    "start_time": "2023-01-22T16:37:46.706Z"
   },
   {
    "duration": 4454,
    "start_time": "2023-01-22T16:37:55.503Z"
   },
   {
    "duration": 3909,
    "start_time": "2023-01-22T16:44:32.250Z"
   },
   {
    "duration": 4764,
    "start_time": "2023-01-22T16:46:15.890Z"
   },
   {
    "duration": 11410,
    "start_time": "2023-01-22T16:47:15.245Z"
   },
   {
    "duration": 425163,
    "start_time": "2023-01-22T16:48:34.442Z"
   },
   {
    "duration": 0,
    "start_time": "2023-01-22T17:04:44.168Z"
   },
   {
    "duration": 1315,
    "start_time": "2023-01-22T17:06:08.237Z"
   },
   {
    "duration": 300,
    "start_time": "2023-01-22T17:06:09.554Z"
   },
   {
    "duration": 79,
    "start_time": "2023-01-22T17:06:09.856Z"
   },
   {
    "duration": 353,
    "start_time": "2023-01-22T17:06:09.938Z"
   },
   {
    "duration": 26,
    "start_time": "2023-01-22T17:06:10.292Z"
   },
   {
    "duration": 30,
    "start_time": "2023-01-22T17:06:10.320Z"
   },
   {
    "duration": 33,
    "start_time": "2023-01-22T17:06:10.352Z"
   },
   {
    "duration": 69,
    "start_time": "2023-01-22T17:06:10.387Z"
   },
   {
    "duration": 4,
    "start_time": "2023-01-22T17:06:10.458Z"
   },
   {
    "duration": 4,
    "start_time": "2023-01-22T17:06:10.929Z"
   },
   {
    "duration": 4,
    "start_time": "2023-01-22T17:06:11.111Z"
   },
   {
    "duration": 211,
    "start_time": "2023-01-22T17:06:11.495Z"
   },
   {
    "duration": 21,
    "start_time": "2023-01-22T17:06:11.856Z"
   },
   {
    "duration": 9,
    "start_time": "2023-01-22T17:06:12.221Z"
   },
   {
    "duration": 9,
    "start_time": "2023-01-22T17:06:12.772Z"
   },
   {
    "duration": 4,
    "start_time": "2023-01-22T17:06:12.961Z"
   },
   {
    "duration": 310,
    "start_time": "2023-01-22T17:06:13.736Z"
   },
   {
    "duration": 327,
    "start_time": "2023-01-22T17:06:14.123Z"
   },
   {
    "duration": 418,
    "start_time": "2023-01-22T17:06:14.564Z"
   },
   {
    "duration": 275,
    "start_time": "2023-01-22T17:06:15.251Z"
   },
   {
    "duration": 5,
    "start_time": "2023-01-22T17:06:15.902Z"
   },
   {
    "duration": 6,
    "start_time": "2023-01-22T17:06:16.259Z"
   },
   {
    "duration": 5,
    "start_time": "2023-01-22T17:06:16.454Z"
   },
   {
    "duration": 248,
    "start_time": "2023-01-22T17:06:16.708Z"
   },
   {
    "duration": 9,
    "start_time": "2023-01-22T17:06:20.667Z"
   },
   {
    "duration": 9,
    "start_time": "2023-01-22T17:06:20.831Z"
   },
   {
    "duration": 11,
    "start_time": "2023-01-22T17:06:21.039Z"
   },
   {
    "duration": 3,
    "start_time": "2023-01-22T17:06:25.568Z"
   },
   {
    "duration": 3,
    "start_time": "2023-01-22T17:06:26.119Z"
   },
   {
    "duration": 3,
    "start_time": "2023-01-22T17:06:26.351Z"
   },
   {
    "duration": 5095,
    "start_time": "2023-01-22T17:06:30.263Z"
   },
   {
    "duration": 0,
    "start_time": "2023-01-22T17:13:52.738Z"
   },
   {
    "duration": 419496,
    "start_time": "2023-01-22T17:18:58.547Z"
   },
   {
    "duration": 115,
    "start_time": "2023-01-23T06:43:52.626Z"
   },
   {
    "duration": 1531,
    "start_time": "2023-01-23T06:44:01.826Z"
   },
   {
    "duration": 1129,
    "start_time": "2023-01-23T06:44:03.359Z"
   },
   {
    "duration": 144,
    "start_time": "2023-01-23T06:44:04.490Z"
   },
   {
    "duration": 509,
    "start_time": "2023-01-23T06:44:04.636Z"
   },
   {
    "duration": 24,
    "start_time": "2023-01-23T06:44:05.146Z"
   },
   {
    "duration": 27,
    "start_time": "2023-01-23T06:44:05.172Z"
   },
   {
    "duration": 32,
    "start_time": "2023-01-23T06:44:05.200Z"
   },
   {
    "duration": 51,
    "start_time": "2023-01-23T06:44:05.234Z"
   },
   {
    "duration": 4,
    "start_time": "2023-01-23T06:44:05.287Z"
   },
   {
    "duration": 27,
    "start_time": "2023-01-23T06:44:05.293Z"
   },
   {
    "duration": 14,
    "start_time": "2023-01-23T06:44:05.322Z"
   },
   {
    "duration": 233,
    "start_time": "2023-01-23T06:44:05.337Z"
   },
   {
    "duration": 32,
    "start_time": "2023-01-23T06:44:05.572Z"
   },
   {
    "duration": 10,
    "start_time": "2023-01-23T06:44:05.949Z"
   },
   {
    "duration": 10,
    "start_time": "2023-01-23T06:44:06.498Z"
   },
   {
    "duration": 5,
    "start_time": "2023-01-23T06:44:06.707Z"
   },
   {
    "duration": 308,
    "start_time": "2023-01-23T06:44:07.449Z"
   },
   {
    "duration": 330,
    "start_time": "2023-01-23T06:44:07.859Z"
   },
   {
    "duration": 407,
    "start_time": "2023-01-23T06:44:08.332Z"
   },
   {
    "duration": 280,
    "start_time": "2023-01-23T06:44:08.741Z"
   },
   {
    "duration": 5,
    "start_time": "2023-01-23T06:44:09.187Z"
   },
   {
    "duration": 5,
    "start_time": "2023-01-23T06:44:09.376Z"
   },
   {
    "duration": 5,
    "start_time": "2023-01-23T06:44:09.700Z"
   },
   {
    "duration": 267,
    "start_time": "2023-01-23T06:44:10.009Z"
   },
   {
    "duration": 9,
    "start_time": "2023-01-23T06:44:11.763Z"
   },
   {
    "duration": 6,
    "start_time": "2023-01-23T06:44:11.968Z"
   },
   {
    "duration": 3,
    "start_time": "2023-01-23T06:44:13.045Z"
   },
   {
    "duration": 3,
    "start_time": "2023-01-23T06:44:13.858Z"
   },
   {
    "duration": 3,
    "start_time": "2023-01-23T06:44:14.468Z"
   },
   {
    "duration": 3789,
    "start_time": "2023-01-23T06:44:15.214Z"
   },
   {
    "duration": 47,
    "start_time": "2023-01-23T06:48:23.052Z"
   },
   {
    "duration": 41,
    "start_time": "2023-01-23T06:48:40.601Z"
   },
   {
    "duration": 3522,
    "start_time": "2023-01-23T06:48:48.586Z"
   },
   {
    "duration": 1812,
    "start_time": "2023-01-23T07:12:22.876Z"
   },
   {
    "duration": 1989,
    "start_time": "2023-01-23T07:12:35.322Z"
   },
   {
    "duration": 3433,
    "start_time": "2023-01-23T07:12:54.777Z"
   },
   {
    "duration": 3384,
    "start_time": "2023-01-23T07:13:30.124Z"
   },
   {
    "duration": 5,
    "start_time": "2023-01-23T07:20:51.822Z"
   },
   {
    "duration": 84,
    "start_time": "2023-01-23T07:26:39.040Z"
   },
   {
    "duration": 73,
    "start_time": "2023-01-23T07:27:03.674Z"
   },
   {
    "duration": 46487,
    "start_time": "2023-01-23T07:27:11.212Z"
   },
   {
    "duration": 100,
    "start_time": "2023-01-23T07:32:38.560Z"
   },
   {
    "duration": 25,
    "start_time": "2023-01-23T07:32:48.393Z"
   },
   {
    "duration": 8,
    "start_time": "2023-01-23T07:32:58.692Z"
   },
   {
    "duration": 4,
    "start_time": "2023-01-23T07:33:28.328Z"
   },
   {
    "duration": 9409,
    "start_time": "2023-01-23T07:33:58.259Z"
   },
   {
    "duration": 3742,
    "start_time": "2023-01-23T07:41:13.725Z"
   },
   {
    "duration": 4,
    "start_time": "2023-01-23T07:44:03.887Z"
   },
   {
    "duration": 250,
    "start_time": "2023-01-23T07:44:09.918Z"
   },
   {
    "duration": 69,
    "start_time": "2023-01-23T07:44:10.363Z"
   },
   {
    "duration": 308,
    "start_time": "2023-01-23T07:44:10.676Z"
   },
   {
    "duration": 19,
    "start_time": "2023-01-23T07:44:11.105Z"
   },
   {
    "duration": 17,
    "start_time": "2023-01-23T07:44:11.341Z"
   },
   {
    "duration": 24,
    "start_time": "2023-01-23T07:44:11.563Z"
   },
   {
    "duration": 35,
    "start_time": "2023-01-23T07:44:11.980Z"
   },
   {
    "duration": 5,
    "start_time": "2023-01-23T07:44:12.717Z"
   },
   {
    "duration": 4,
    "start_time": "2023-01-23T07:44:13.576Z"
   },
   {
    "duration": 4,
    "start_time": "2023-01-23T07:44:13.795Z"
   },
   {
    "duration": 237,
    "start_time": "2023-01-23T07:44:14.186Z"
   },
   {
    "duration": 20,
    "start_time": "2023-01-23T07:44:14.978Z"
   },
   {
    "duration": 9,
    "start_time": "2023-01-23T07:44:15.580Z"
   },
   {
    "duration": 10,
    "start_time": "2023-01-23T07:44:16.265Z"
   },
   {
    "duration": 5,
    "start_time": "2023-01-23T07:44:16.492Z"
   },
   {
    "duration": 314,
    "start_time": "2023-01-23T07:44:17.421Z"
   },
   {
    "duration": 339,
    "start_time": "2023-01-23T07:44:17.843Z"
   },
   {
    "duration": 414,
    "start_time": "2023-01-23T07:44:18.292Z"
   },
   {
    "duration": 253,
    "start_time": "2023-01-23T07:44:18.781Z"
   },
   {
    "duration": 5,
    "start_time": "2023-01-23T07:44:19.501Z"
   },
   {
    "duration": 5,
    "start_time": "2023-01-23T07:44:19.758Z"
   },
   {
    "duration": 5,
    "start_time": "2023-01-23T07:44:20.309Z"
   },
   {
    "duration": 298,
    "start_time": "2023-01-23T07:44:20.670Z"
   },
   {
    "duration": 8,
    "start_time": "2023-01-23T07:44:22.915Z"
   },
   {
    "duration": 7,
    "start_time": "2023-01-23T07:44:23.249Z"
   },
   {
    "duration": 3,
    "start_time": "2023-01-23T07:44:24.411Z"
   },
   {
    "duration": 3,
    "start_time": "2023-01-23T07:44:25.271Z"
   },
   {
    "duration": 3,
    "start_time": "2023-01-23T07:44:25.580Z"
   },
   {
    "duration": 3176,
    "start_time": "2023-01-23T07:44:26.126Z"
   },
   {
    "duration": 3687,
    "start_time": "2023-01-23T07:44:33.773Z"
   },
   {
    "duration": 3701,
    "start_time": "2023-01-23T07:47:23.799Z"
   },
   {
    "duration": 5050,
    "start_time": "2023-01-23T07:48:18.918Z"
   },
   {
    "duration": 5085,
    "start_time": "2023-01-23T07:48:48.476Z"
   },
   {
    "duration": 5016,
    "start_time": "2023-01-23T07:52:33.100Z"
   },
   {
    "duration": 6301,
    "start_time": "2023-01-23T07:54:03.056Z"
   },
   {
    "duration": 6372,
    "start_time": "2023-01-23T07:56:08.449Z"
   },
   {
    "duration": 234,
    "start_time": "2023-01-23T07:59:14.685Z"
   },
   {
    "duration": 10946,
    "start_time": "2023-01-23T08:07:15.396Z"
   },
   {
    "duration": 10726,
    "start_time": "2023-01-23T08:08:33.318Z"
   },
   {
    "duration": 7634,
    "start_time": "2023-01-23T08:09:23.899Z"
   },
   {
    "duration": 11025,
    "start_time": "2023-01-23T08:15:45.108Z"
   },
   {
    "duration": 18911,
    "start_time": "2023-01-23T08:32:38.221Z"
   },
   {
    "duration": 3,
    "start_time": "2023-01-23T08:56:51.809Z"
   },
   {
    "duration": 3,
    "start_time": "2023-01-23T08:56:52.730Z"
   },
   {
    "duration": 3,
    "start_time": "2023-01-23T08:56:53.275Z"
   },
   {
    "duration": 3599,
    "start_time": "2023-01-23T08:56:54.705Z"
   },
   {
    "duration": 10806,
    "start_time": "2023-01-23T08:57:05.121Z"
   },
   {
    "duration": 3,
    "start_time": "2023-01-23T08:58:57.136Z"
   },
   {
    "duration": 2,
    "start_time": "2023-01-23T08:58:57.677Z"
   },
   {
    "duration": 2,
    "start_time": "2023-01-23T08:58:58.222Z"
   },
   {
    "duration": 3789,
    "start_time": "2023-01-23T08:58:59.424Z"
   },
   {
    "duration": 4,
    "start_time": "2023-01-23T09:01:53.310Z"
   },
   {
    "duration": 3,
    "start_time": "2023-01-23T09:01:53.806Z"
   },
   {
    "duration": 4,
    "start_time": "2023-01-23T09:01:54.253Z"
   },
   {
    "duration": 3400,
    "start_time": "2023-01-23T09:01:55.603Z"
   },
   {
    "duration": 4,
    "start_time": "2023-01-23T09:02:22.212Z"
   },
   {
    "duration": 3,
    "start_time": "2023-01-23T09:02:29.707Z"
   },
   {
    "duration": 3,
    "start_time": "2023-01-23T09:02:30.205Z"
   },
   {
    "duration": 3593,
    "start_time": "2023-01-23T09:02:34.917Z"
   },
   {
    "duration": 11008,
    "start_time": "2023-01-23T09:02:44.344Z"
   },
   {
    "duration": 4,
    "start_time": "2023-01-23T09:03:05.062Z"
   },
   {
    "duration": 19603,
    "start_time": "2023-01-23T09:03:06.072Z"
   },
   {
    "duration": 19738,
    "start_time": "2023-01-23T09:06:06.104Z"
   },
   {
    "duration": 20619,
    "start_time": "2023-01-23T09:08:16.188Z"
   },
   {
    "duration": 20812,
    "start_time": "2023-01-23T09:09:09.557Z"
   },
   {
    "duration": 20795,
    "start_time": "2023-01-23T09:12:48.272Z"
   },
   {
    "duration": 20178,
    "start_time": "2023-01-23T09:14:03.027Z"
   },
   {
    "duration": 4,
    "start_time": "2023-01-23T09:25:18.954Z"
   },
   {
    "duration": 3,
    "start_time": "2023-01-23T09:25:19.486Z"
   },
   {
    "duration": 3401,
    "start_time": "2023-01-23T09:29:11.904Z"
   },
   {
    "duration": 3413,
    "start_time": "2023-01-23T09:34:40.795Z"
   },
   {
    "duration": 38,
    "start_time": "2023-01-23T09:39:10.948Z"
   },
   {
    "duration": 21305,
    "start_time": "2023-01-23T09:39:44.364Z"
   },
   {
    "duration": 3536,
    "start_time": "2023-01-23T09:42:24.173Z"
   },
   {
    "duration": 20101,
    "start_time": "2023-01-23T09:44:40.235Z"
   },
   {
    "duration": 20816,
    "start_time": "2023-01-23T09:46:09.326Z"
   },
   {
    "duration": 3,
    "start_time": "2023-01-23T09:48:29.673Z"
   },
   {
    "duration": 3,
    "start_time": "2023-01-23T09:48:56.621Z"
   },
   {
    "duration": 0,
    "start_time": "2023-01-23T09:50:21.555Z"
   },
   {
    "duration": 0,
    "start_time": "2023-01-23T09:50:21.556Z"
   },
   {
    "duration": 19915,
    "start_time": "2023-01-23T09:54:28.212Z"
   },
   {
    "duration": 20824,
    "start_time": "2023-01-23T09:54:53.215Z"
   },
   {
    "duration": 40756,
    "start_time": "2023-01-23T09:56:45.396Z"
   },
   {
    "duration": 21302,
    "start_time": "2023-01-23T10:01:32.421Z"
   },
   {
    "duration": 3816,
    "start_time": "2023-01-23T10:08:45.788Z"
   },
   {
    "duration": 6,
    "start_time": "2023-01-23T10:29:34.433Z"
   },
   {
    "duration": 5,
    "start_time": "2023-01-23T10:29:34.887Z"
   },
   {
    "duration": 3,
    "start_time": "2023-01-23T10:29:36.264Z"
   },
   {
    "duration": 1114674,
    "start_time": "2023-01-23T11:05:30.133Z"
   },
   {
    "duration": 0,
    "start_time": "2023-01-23T11:24:04.810Z"
   },
   {
    "duration": 50,
    "start_time": "2023-01-23T11:50:39.689Z"
   },
   {
    "duration": 1513,
    "start_time": "2023-01-23T11:50:47.593Z"
   },
   {
    "duration": 829,
    "start_time": "2023-01-23T11:50:49.108Z"
   },
   {
    "duration": 395,
    "start_time": "2023-01-23T11:50:49.938Z"
   },
   {
    "duration": 1748,
    "start_time": "2023-01-23T11:50:50.335Z"
   },
   {
    "duration": 25,
    "start_time": "2023-01-23T11:50:52.084Z"
   },
   {
    "duration": 38,
    "start_time": "2023-01-23T11:50:52.111Z"
   },
   {
    "duration": 20,
    "start_time": "2023-01-23T11:50:57.240Z"
   },
   {
    "duration": 40,
    "start_time": "2023-01-23T11:50:58.328Z"
   },
   {
    "duration": 4,
    "start_time": "2023-01-23T11:51:02.536Z"
   },
   {
    "duration": 5,
    "start_time": "2023-01-23T11:51:07.644Z"
   },
   {
    "duration": 4,
    "start_time": "2023-01-23T11:51:11.458Z"
   },
   {
    "duration": 230,
    "start_time": "2023-01-23T11:51:13.036Z"
   },
   {
    "duration": 22,
    "start_time": "2023-01-23T11:51:14.755Z"
   },
   {
    "duration": 10,
    "start_time": "2023-01-23T11:51:17.751Z"
   },
   {
    "duration": 11,
    "start_time": "2023-01-23T11:51:20.986Z"
   },
   {
    "duration": 5,
    "start_time": "2023-01-23T11:51:21.407Z"
   },
   {
    "duration": 310,
    "start_time": "2023-01-23T11:51:27.753Z"
   },
   {
    "duration": 366,
    "start_time": "2023-01-23T11:51:33.069Z"
   },
   {
    "duration": 447,
    "start_time": "2023-01-23T11:51:37.086Z"
   },
   {
    "duration": 383,
    "start_time": "2023-01-23T11:51:55.774Z"
   },
   {
    "duration": 456,
    "start_time": "2023-01-23T11:52:03.924Z"
   },
   {
    "duration": 54,
    "start_time": "2023-01-23T11:52:30.364Z"
   },
   {
    "duration": 624,
    "start_time": "2023-01-23T11:52:35.905Z"
   },
   {
    "duration": 221,
    "start_time": "2023-01-23T11:54:24.103Z"
   },
   {
    "duration": 172,
    "start_time": "2023-01-23T11:55:48.357Z"
   },
   {
    "duration": 290,
    "start_time": "2023-01-23T11:55:49.051Z"
   },
   {
    "duration": 80,
    "start_time": "2023-01-23T11:55:49.343Z"
   },
   {
    "duration": 369,
    "start_time": "2023-01-23T11:55:49.425Z"
   },
   {
    "duration": 26,
    "start_time": "2023-01-23T11:55:51.140Z"
   },
   {
    "duration": 20,
    "start_time": "2023-01-23T11:55:51.343Z"
   },
   {
    "duration": 37,
    "start_time": "2023-01-23T11:55:51.569Z"
   },
   {
    "duration": 40,
    "start_time": "2023-01-23T11:55:52.103Z"
   },
   {
    "duration": 11,
    "start_time": "2023-01-23T11:55:52.494Z"
   },
   {
    "duration": 6,
    "start_time": "2023-01-23T11:55:53.501Z"
   },
   {
    "duration": 5,
    "start_time": "2023-01-23T11:55:53.714Z"
   },
   {
    "duration": 220,
    "start_time": "2023-01-23T11:55:54.127Z"
   },
   {
    "duration": 19,
    "start_time": "2023-01-23T11:55:54.568Z"
   },
   {
    "duration": 13,
    "start_time": "2023-01-23T11:55:54.988Z"
   },
   {
    "duration": 18,
    "start_time": "2023-01-23T11:55:55.685Z"
   },
   {
    "duration": 4,
    "start_time": "2023-01-23T11:55:55.944Z"
   },
   {
    "duration": 333,
    "start_time": "2023-01-23T11:55:57.143Z"
   },
   {
    "duration": 345,
    "start_time": "2023-01-23T11:55:57.606Z"
   },
   {
    "duration": 372,
    "start_time": "2023-01-23T11:55:58.244Z"
   },
   {
    "duration": 486,
    "start_time": "2023-01-23T11:55:58.825Z"
   },
   {
    "duration": 6,
    "start_time": "2023-01-23T11:56:03.338Z"
   },
   {
    "duration": 5,
    "start_time": "2023-01-23T11:56:03.517Z"
   },
   {
    "duration": 13,
    "start_time": "2023-01-23T11:56:03.689Z"
   },
   {
    "duration": 1116,
    "start_time": "2023-01-23T11:56:04.998Z"
   },
   {
    "duration": 1116,
    "start_time": "2023-01-23T11:57:02.582Z"
   },
   {
    "duration": 1046,
    "start_time": "2023-01-23T11:57:56.042Z"
   },
   {
    "duration": 1040,
    "start_time": "2023-01-23T11:58:10.937Z"
   },
   {
    "duration": 5,
    "start_time": "2023-01-23T12:05:55.591Z"
   },
   {
    "duration": 6,
    "start_time": "2023-01-23T12:05:56.144Z"
   },
   {
    "duration": 5,
    "start_time": "2023-01-23T12:05:56.620Z"
   },
   {
    "duration": 1108,
    "start_time": "2023-01-23T12:05:58.064Z"
   },
   {
    "duration": 1080,
    "start_time": "2023-01-23T12:06:46.013Z"
   },
   {
    "duration": 1158,
    "start_time": "2023-01-23T12:11:46.349Z"
   },
   {
    "duration": 18,
    "start_time": "2023-01-23T12:14:13.355Z"
   },
   {
    "duration": 5,
    "start_time": "2023-01-23T12:15:13.085Z"
   },
   {
    "duration": 5,
    "start_time": "2023-01-23T12:15:13.584Z"
   },
   {
    "duration": 901,
    "start_time": "2023-01-23T12:15:14.167Z"
   },
   {
    "duration": 19,
    "start_time": "2023-01-23T12:16:52.836Z"
   },
   {
    "duration": 1143,
    "start_time": "2023-01-23T12:16:53.816Z"
   },
   {
    "duration": 1109,
    "start_time": "2023-01-23T12:22:11.471Z"
   },
   {
    "duration": 893,
    "start_time": "2023-01-23T12:22:44.902Z"
   },
   {
    "duration": 1118,
    "start_time": "2023-01-23T12:23:38.951Z"
   },
   {
    "duration": 16,
    "start_time": "2023-01-23T12:25:02.670Z"
   },
   {
    "duration": 1054,
    "start_time": "2023-01-23T12:25:20.322Z"
   },
   {
    "duration": 11,
    "start_time": "2023-01-23T12:37:30.260Z"
   },
   {
    "duration": 5,
    "start_time": "2023-01-23T12:37:40.664Z"
   },
   {
    "duration": 267,
    "start_time": "2023-01-23T12:37:41.331Z"
   },
   {
    "duration": 71,
    "start_time": "2023-01-23T12:37:41.600Z"
   },
   {
    "duration": 328,
    "start_time": "2023-01-23T12:37:41.715Z"
   },
   {
    "duration": 20,
    "start_time": "2023-01-23T12:37:42.051Z"
   },
   {
    "duration": 20,
    "start_time": "2023-01-23T12:37:42.254Z"
   },
   {
    "duration": 21,
    "start_time": "2023-01-23T12:37:42.430Z"
   },
   {
    "duration": 41,
    "start_time": "2023-01-23T12:37:42.719Z"
   },
   {
    "duration": 5,
    "start_time": "2023-01-23T12:37:43.080Z"
   },
   {
    "duration": 5,
    "start_time": "2023-01-23T12:37:43.622Z"
   },
   {
    "duration": 4,
    "start_time": "2023-01-23T12:37:43.790Z"
   },
   {
    "duration": 213,
    "start_time": "2023-01-23T12:37:44.171Z"
   },
   {
    "duration": 16,
    "start_time": "2023-01-23T12:37:44.536Z"
   },
   {
    "duration": 9,
    "start_time": "2023-01-23T12:37:48.321Z"
   },
   {
    "duration": 11,
    "start_time": "2023-01-23T12:37:50.724Z"
   },
   {
    "duration": 5,
    "start_time": "2023-01-23T12:37:51.325Z"
   },
   {
    "duration": 313,
    "start_time": "2023-01-23T12:37:54.557Z"
   },
   {
    "duration": 324,
    "start_time": "2023-01-23T12:37:57.435Z"
   },
   {
    "duration": 341,
    "start_time": "2023-01-23T12:38:00.614Z"
   },
   {
    "duration": 567,
    "start_time": "2023-01-23T12:38:03.975Z"
   },
   {
    "duration": 5,
    "start_time": "2023-01-23T12:38:10.051Z"
   },
   {
    "duration": 5,
    "start_time": "2023-01-23T12:38:10.422Z"
   },
   {
    "duration": 6,
    "start_time": "2023-01-23T12:38:12.667Z"
   },
   {
    "duration": 1031,
    "start_time": "2023-01-23T12:38:13.669Z"
   },
   {
    "duration": 12,
    "start_time": "2023-01-23T12:38:18.075Z"
   },
   {
    "duration": 7,
    "start_time": "2023-01-23T12:38:21.043Z"
   },
   {
    "duration": 5,
    "start_time": "2023-01-23T12:38:21.481Z"
   },
   {
    "duration": 3,
    "start_time": "2023-01-23T12:38:26.268Z"
   },
   {
    "duration": 3,
    "start_time": "2023-01-23T12:38:26.729Z"
   },
   {
    "duration": 2,
    "start_time": "2023-01-23T12:38:27.842Z"
   },
   {
    "duration": 3665,
    "start_time": "2023-01-23T12:38:30.331Z"
   },
   {
    "duration": 38568,
    "start_time": "2023-01-23T12:38:47.924Z"
   },
   {
    "duration": 0,
    "start_time": "2023-01-23T12:50:07.337Z"
   },
   {
    "duration": 0,
    "start_time": "2023-01-23T12:50:07.338Z"
   },
   {
    "duration": 4,
    "start_time": "2023-01-23T12:50:23.278Z"
   },
   {
    "duration": 4,
    "start_time": "2023-01-23T12:50:23.788Z"
   },
   {
    "duration": 3,
    "start_time": "2023-01-23T12:50:24.450Z"
   },
   {
    "duration": 3126,
    "start_time": "2023-01-23T12:50:27.073Z"
   },
   {
    "duration": 61584,
    "start_time": "2023-01-23T12:51:46.391Z"
   },
   {
    "duration": 1545,
    "start_time": "2023-01-24T06:28:40.667Z"
   },
   {
    "duration": 1187,
    "start_time": "2023-01-24T06:28:42.214Z"
   },
   {
    "duration": 135,
    "start_time": "2023-01-24T06:28:43.403Z"
   },
   {
    "duration": 508,
    "start_time": "2023-01-24T06:28:43.540Z"
   },
   {
    "duration": 24,
    "start_time": "2023-01-24T06:28:44.050Z"
   },
   {
    "duration": 41,
    "start_time": "2023-01-24T06:28:44.076Z"
   },
   {
    "duration": 19,
    "start_time": "2023-01-24T06:28:45.165Z"
   },
   {
    "duration": 47,
    "start_time": "2023-01-24T06:28:45.606Z"
   },
   {
    "duration": 4,
    "start_time": "2023-01-24T06:28:46.358Z"
   },
   {
    "duration": 5,
    "start_time": "2023-01-24T06:28:46.922Z"
   },
   {
    "duration": 4,
    "start_time": "2023-01-24T06:28:47.089Z"
   },
   {
    "duration": 226,
    "start_time": "2023-01-24T06:28:47.406Z"
   },
   {
    "duration": 21,
    "start_time": "2023-01-24T06:28:47.719Z"
   },
   {
    "duration": 11,
    "start_time": "2023-01-24T06:28:48.037Z"
   },
   {
    "duration": 11,
    "start_time": "2023-01-24T06:28:48.539Z"
   },
   {
    "duration": 4,
    "start_time": "2023-01-24T06:28:48.708Z"
   },
   {
    "duration": 303,
    "start_time": "2023-01-24T06:28:49.615Z"
   },
   {
    "duration": 322,
    "start_time": "2023-01-24T06:28:50.007Z"
   },
   {
    "duration": 419,
    "start_time": "2023-01-24T06:28:50.475Z"
   },
   {
    "duration": 463,
    "start_time": "2023-01-24T06:28:50.896Z"
   },
   {
    "duration": 5,
    "start_time": "2023-01-24T06:28:51.361Z"
   },
   {
    "duration": 13,
    "start_time": "2023-01-24T06:28:51.371Z"
   },
   {
    "duration": 6,
    "start_time": "2023-01-24T06:28:51.581Z"
   },
   {
    "duration": 1007,
    "start_time": "2023-01-24T06:28:51.758Z"
   },
   {
    "duration": 25,
    "start_time": "2023-01-24T06:28:52.767Z"
   },
   {
    "duration": 8,
    "start_time": "2023-01-24T06:28:57.102Z"
   },
   {
    "duration": 6,
    "start_time": "2023-01-24T06:28:57.528Z"
   },
   {
    "duration": 3,
    "start_time": "2023-01-24T06:28:58.160Z"
   },
   {
    "duration": 3,
    "start_time": "2023-01-24T06:28:58.526Z"
   },
   {
    "duration": 3,
    "start_time": "2023-01-24T06:29:00.204Z"
   },
   {
    "duration": 4624,
    "start_time": "2023-01-24T06:29:03.064Z"
   },
   {
    "duration": 3,
    "start_time": "2023-01-24T06:29:20.117Z"
   },
   {
    "duration": 36061,
    "start_time": "2023-01-24T06:29:25.079Z"
   },
   {
    "duration": 1040686,
    "start_time": "2023-01-24T06:30:17.261Z"
   },
   {
    "duration": 113349,
    "start_time": "2023-01-24T06:47:59.437Z"
   },
   {
    "duration": 439,
    "start_time": "2023-01-24T06:49:52.788Z"
   },
   {
    "duration": 532,
    "start_time": "2023-01-24T06:50:45.815Z"
   },
   {
    "duration": 426,
    "start_time": "2023-01-24T06:51:03.252Z"
   },
   {
    "duration": 620,
    "start_time": "2023-01-24T06:51:14.285Z"
   },
   {
    "duration": 747,
    "start_time": "2023-01-24T06:51:37.804Z"
   },
   {
    "duration": 432,
    "start_time": "2023-01-24T06:53:32.847Z"
   },
   {
    "duration": 769,
    "start_time": "2023-01-24T06:54:06.745Z"
   },
   {
    "duration": 748937,
    "start_time": "2023-01-24T06:54:58.708Z"
   },
   {
    "duration": 4,
    "start_time": "2023-01-24T07:07:27.648Z"
   },
   {
    "duration": 12,
    "start_time": "2023-01-24T07:07:27.654Z"
   },
   {
    "duration": 1384,
    "start_time": "2023-01-24T07:07:49.377Z"
   },
   {
    "duration": 245,
    "start_time": "2023-01-24T07:07:53.473Z"
   },
   {
    "duration": 68,
    "start_time": "2023-01-24T07:07:53.863Z"
   },
   {
    "duration": 300,
    "start_time": "2023-01-24T07:07:54.087Z"
   },
   {
    "duration": 22,
    "start_time": "2023-01-24T07:07:54.509Z"
   },
   {
    "duration": 20,
    "start_time": "2023-01-24T07:07:54.734Z"
   },
   {
    "duration": 19,
    "start_time": "2023-01-24T07:07:54.900Z"
   },
   {
    "duration": 36,
    "start_time": "2023-01-24T07:07:55.201Z"
   },
   {
    "duration": 6,
    "start_time": "2023-01-24T07:07:55.564Z"
   },
   {
    "duration": 5,
    "start_time": "2023-01-24T07:07:56.097Z"
   },
   {
    "duration": 3,
    "start_time": "2023-01-24T07:07:56.275Z"
   },
   {
    "duration": 212,
    "start_time": "2023-01-24T07:07:56.600Z"
   },
   {
    "duration": 20,
    "start_time": "2023-01-24T07:07:56.947Z"
   },
   {
    "duration": 10,
    "start_time": "2023-01-24T07:07:57.278Z"
   },
   {
    "duration": 9,
    "start_time": "2023-01-24T07:07:57.692Z"
   },
   {
    "duration": 4,
    "start_time": "2023-01-24T07:07:57.857Z"
   },
   {
    "duration": 280,
    "start_time": "2023-01-24T07:07:58.475Z"
   },
   {
    "duration": 315,
    "start_time": "2023-01-24T07:07:58.819Z"
   },
   {
    "duration": 397,
    "start_time": "2023-01-24T07:07:59.182Z"
   },
   {
    "duration": 413,
    "start_time": "2023-01-24T07:07:59.585Z"
   },
   {
    "duration": 657,
    "start_time": "2023-01-24T07:08:00.000Z"
   },
   {
    "duration": 5,
    "start_time": "2023-01-24T07:08:00.659Z"
   },
   {
    "duration": 4,
    "start_time": "2023-01-24T07:08:03.700Z"
   },
   {
    "duration": 5,
    "start_time": "2023-01-24T07:08:04.013Z"
   },
   {
    "duration": 997,
    "start_time": "2023-01-24T07:08:04.244Z"
   },
   {
    "duration": 17,
    "start_time": "2023-01-24T07:08:07.549Z"
   },
   {
    "duration": 7,
    "start_time": "2023-01-24T07:08:11.313Z"
   },
   {
    "duration": 7,
    "start_time": "2023-01-24T07:08:11.829Z"
   },
   {
    "duration": 3,
    "start_time": "2023-01-24T07:08:13.166Z"
   },
   {
    "duration": 3,
    "start_time": "2023-01-24T07:08:13.746Z"
   },
   {
    "duration": 2,
    "start_time": "2023-01-24T07:08:14.996Z"
   },
   {
    "duration": 3540,
    "start_time": "2023-01-24T07:08:16.852Z"
   },
   {
    "duration": 36160,
    "start_time": "2023-01-24T07:08:28.230Z"
   },
   {
    "duration": 5463475,
    "start_time": "2023-01-24T07:11:30.423Z"
   },
   {
    "duration": 54,
    "start_time": "2023-01-24T08:49:38.060Z"
   },
   {
    "duration": 1317,
    "start_time": "2023-01-24T08:49:49.827Z"
   },
   {
    "duration": 260,
    "start_time": "2023-01-24T08:49:51.145Z"
   },
   {
    "duration": 66,
    "start_time": "2023-01-24T08:49:51.407Z"
   },
   {
    "duration": 321,
    "start_time": "2023-01-24T08:49:51.475Z"
   },
   {
    "duration": 21,
    "start_time": "2023-01-24T08:49:51.799Z"
   },
   {
    "duration": 20,
    "start_time": "2023-01-24T08:49:51.822Z"
   },
   {
    "duration": 42,
    "start_time": "2023-01-24T08:49:51.843Z"
   },
   {
    "duration": 74,
    "start_time": "2023-01-24T08:49:51.887Z"
   },
   {
    "duration": 4,
    "start_time": "2023-01-24T08:49:51.962Z"
   },
   {
    "duration": 9,
    "start_time": "2023-01-24T08:49:52.382Z"
   },
   {
    "duration": 3,
    "start_time": "2023-01-24T08:49:52.535Z"
   },
   {
    "duration": 227,
    "start_time": "2023-01-24T08:49:52.880Z"
   },
   {
    "duration": 21,
    "start_time": "2023-01-24T08:49:53.234Z"
   },
   {
    "duration": 10,
    "start_time": "2023-01-24T08:49:53.567Z"
   },
   {
    "duration": 9,
    "start_time": "2023-01-24T08:49:54.076Z"
   },
   {
    "duration": 5,
    "start_time": "2023-01-24T08:49:54.324Z"
   },
   {
    "duration": 305,
    "start_time": "2023-01-24T08:49:54.916Z"
   },
   {
    "duration": 333,
    "start_time": "2023-01-24T08:49:55.310Z"
   },
   {
    "duration": 437,
    "start_time": "2023-01-24T08:49:55.645Z"
   },
   {
    "duration": 438,
    "start_time": "2023-01-24T08:49:56.084Z"
   },
   {
    "duration": 685,
    "start_time": "2023-01-24T08:49:56.523Z"
   },
   {
    "duration": 5,
    "start_time": "2023-01-24T08:49:57.210Z"
   },
   {
    "duration": 11,
    "start_time": "2023-01-24T08:49:57.216Z"
   },
   {
    "duration": 4,
    "start_time": "2023-01-24T08:49:57.271Z"
   },
   {
    "duration": 1042,
    "start_time": "2023-01-24T08:49:57.434Z"
   },
   {
    "duration": 22,
    "start_time": "2023-01-24T08:49:58.478Z"
   },
   {
    "duration": 8,
    "start_time": "2023-01-24T08:50:01.821Z"
   },
   {
    "duration": 7,
    "start_time": "2023-01-24T08:50:02.113Z"
   },
   {
    "duration": 3,
    "start_time": "2023-01-24T08:50:02.617Z"
   },
   {
    "duration": 3,
    "start_time": "2023-01-24T08:50:02.852Z"
   },
   {
    "duration": 2,
    "start_time": "2023-01-24T08:50:03.111Z"
   },
   {
    "duration": 5847,
    "start_time": "2023-01-24T08:50:06.750Z"
   },
   {
    "duration": 37177,
    "start_time": "2023-01-24T08:50:18.328Z"
   },
   {
    "duration": 41029,
    "start_time": "2023-01-24T08:51:09.948Z"
   },
   {
    "duration": 686465,
    "start_time": "2023-01-24T08:52:23.244Z"
   },
   {
    "duration": 76744,
    "start_time": "2023-01-24T09:03:58.025Z"
   },
   {
    "duration": 1369087,
    "start_time": "2023-01-24T09:05:26.359Z"
   },
   {
    "duration": 128608,
    "start_time": "2023-01-24T09:28:40.868Z"
   },
   {
    "duration": 1027212,
    "start_time": "2023-01-24T09:31:05.357Z"
   },
   {
    "duration": 1076320,
    "start_time": "2023-01-24T09:48:32.082Z"
   },
   {
    "duration": 10215,
    "start_time": "2023-01-24T10:20:52.979Z"
   },
   {
    "duration": 518528,
    "start_time": "2023-01-24T10:21:11.126Z"
   },
   {
    "duration": 283570,
    "start_time": "2023-01-24T10:59:00.051Z"
   },
   {
    "duration": 308570,
    "start_time": "2023-01-24T11:04:01.265Z"
   },
   {
    "duration": 3,
    "start_time": "2023-01-24T11:09:22.047Z"
   },
   {
    "duration": 1509,
    "start_time": "2023-01-24T12:10:04.238Z"
   },
   {
    "duration": 1253,
    "start_time": "2023-01-24T12:10:06.695Z"
   },
   {
    "duration": 142,
    "start_time": "2023-01-24T12:10:07.950Z"
   },
   {
    "duration": 496,
    "start_time": "2023-01-24T12:10:08.094Z"
   },
   {
    "duration": 21,
    "start_time": "2023-01-24T12:10:08.592Z"
   },
   {
    "duration": 40,
    "start_time": "2023-01-24T12:10:08.614Z"
   },
   {
    "duration": 22,
    "start_time": "2023-01-24T12:10:12.479Z"
   },
   {
    "duration": 38,
    "start_time": "2023-01-24T12:10:14.758Z"
   },
   {
    "duration": 4,
    "start_time": "2023-01-24T12:10:17.377Z"
   },
   {
    "duration": 5,
    "start_time": "2023-01-24T12:10:32.474Z"
   },
   {
    "duration": 4,
    "start_time": "2023-01-24T12:10:35.042Z"
   },
   {
    "duration": 196,
    "start_time": "2023-01-24T12:10:36.137Z"
   },
   {
    "duration": 19,
    "start_time": "2023-01-24T12:10:38.523Z"
   },
   {
    "duration": 9,
    "start_time": "2023-01-24T12:10:39.152Z"
   },
   {
    "duration": 8,
    "start_time": "2023-01-24T12:10:41.888Z"
   },
   {
    "duration": 4,
    "start_time": "2023-01-24T12:10:42.134Z"
   },
   {
    "duration": 298,
    "start_time": "2023-01-24T12:10:50.197Z"
   },
   {
    "duration": 339,
    "start_time": "2023-01-24T12:10:52.527Z"
   },
   {
    "duration": 444,
    "start_time": "2023-01-24T12:10:55.633Z"
   },
   {
    "duration": 433,
    "start_time": "2023-01-24T12:10:58.515Z"
   },
   {
    "duration": 734,
    "start_time": "2023-01-24T12:10:58.950Z"
   },
   {
    "duration": 5,
    "start_time": "2023-01-24T12:11:04.954Z"
   },
   {
    "duration": 5,
    "start_time": "2023-01-24T12:11:06.083Z"
   },
   {
    "duration": 6,
    "start_time": "2023-01-24T12:11:06.635Z"
   },
   {
    "duration": 1159,
    "start_time": "2023-01-24T12:11:08.618Z"
   },
   {
    "duration": 23,
    "start_time": "2023-01-24T12:11:13.074Z"
   },
   {
    "duration": 8,
    "start_time": "2023-01-24T12:11:28.859Z"
   },
   {
    "duration": 7,
    "start_time": "2023-01-24T12:11:31.012Z"
   },
   {
    "duration": 3,
    "start_time": "2023-01-24T12:11:33.063Z"
   },
   {
    "duration": 3,
    "start_time": "2023-01-24T12:11:35.323Z"
   },
   {
    "duration": 3,
    "start_time": "2023-01-24T12:11:37.631Z"
   },
   {
    "duration": 4214,
    "start_time": "2023-01-24T12:11:38.937Z"
   },
   {
    "duration": 36049,
    "start_time": "2023-01-24T12:11:49.756Z"
   },
   {
    "duration": 491671,
    "start_time": "2023-01-24T12:13:58.716Z"
   },
   {
    "duration": 522113,
    "start_time": "2023-01-24T12:24:13.382Z"
   },
   {
    "duration": 3,
    "start_time": "2023-01-24T12:34:02.298Z"
   },
   {
    "duration": 4,
    "start_time": "2023-01-24T12:39:10.282Z"
   },
   {
    "duration": 26125,
    "start_time": "2023-01-24T12:39:11.184Z"
   },
   {
    "duration": 5,
    "start_time": "2023-01-24T13:32:00.094Z"
   },
   {
    "duration": 5,
    "start_time": "2023-01-24T13:32:05.648Z"
   },
   {
    "duration": 8,
    "start_time": "2023-01-24T13:32:29.349Z"
   },
   {
    "duration": 9,
    "start_time": "2023-01-24T13:32:48.848Z"
   },
   {
    "duration": 8,
    "start_time": "2023-01-24T13:32:59.041Z"
   },
   {
    "duration": 7,
    "start_time": "2023-01-24T13:33:02.008Z"
   },
   {
    "duration": 5,
    "start_time": "2023-01-24T13:33:02.571Z"
   },
   {
    "duration": 3,
    "start_time": "2023-01-24T13:33:04.733Z"
   },
   {
    "duration": 3,
    "start_time": "2023-01-24T13:33:05.056Z"
   },
   {
    "duration": 3,
    "start_time": "2023-01-24T13:33:06.683Z"
   },
   {
    "duration": 2136,
    "start_time": "2023-01-24T13:33:07.824Z"
   },
   {
    "duration": 18,
    "start_time": "2023-01-24T13:33:33.331Z"
   },
   {
    "duration": 12,
    "start_time": "2023-01-24T13:34:13.248Z"
   },
   {
    "duration": 5,
    "start_time": "2023-01-24T13:34:41.963Z"
   },
   {
    "duration": 6,
    "start_time": "2023-01-24T13:34:45.614Z"
   },
   {
    "duration": 4,
    "start_time": "2023-01-24T13:34:46.219Z"
   },
   {
    "duration": 13,
    "start_time": "2023-01-24T13:34:55.396Z"
   },
   {
    "duration": 12,
    "start_time": "2023-01-24T13:35:07.505Z"
   },
   {
    "duration": 3,
    "start_time": "2023-01-24T13:35:50.154Z"
   },
   {
    "duration": 254,
    "start_time": "2023-01-24T13:35:50.471Z"
   },
   {
    "duration": 74,
    "start_time": "2023-01-24T13:35:50.727Z"
   },
   {
    "duration": 330,
    "start_time": "2023-01-24T13:35:50.803Z"
   },
   {
    "duration": 25,
    "start_time": "2023-01-24T13:35:51.136Z"
   },
   {
    "duration": 24,
    "start_time": "2023-01-24T13:35:51.231Z"
   },
   {
    "duration": 19,
    "start_time": "2023-01-24T13:35:51.352Z"
   },
   {
    "duration": 38,
    "start_time": "2023-01-24T13:35:51.623Z"
   },
   {
    "duration": 4,
    "start_time": "2023-01-24T13:35:51.933Z"
   },
   {
    "duration": 6,
    "start_time": "2023-01-24T13:35:52.409Z"
   },
   {
    "duration": 5,
    "start_time": "2023-01-24T13:35:52.530Z"
   },
   {
    "duration": 195,
    "start_time": "2023-01-24T13:35:52.869Z"
   },
   {
    "duration": 18,
    "start_time": "2023-01-24T13:35:53.160Z"
   },
   {
    "duration": 11,
    "start_time": "2023-01-24T13:35:53.435Z"
   },
   {
    "duration": 9,
    "start_time": "2023-01-24T13:35:53.874Z"
   },
   {
    "duration": 5,
    "start_time": "2023-01-24T13:35:54.023Z"
   },
   {
    "duration": 279,
    "start_time": "2023-01-24T13:35:54.666Z"
   },
   {
    "duration": 312,
    "start_time": "2023-01-24T13:35:55.002Z"
   },
   {
    "duration": 459,
    "start_time": "2023-01-24T13:35:55.316Z"
   },
   {
    "duration": 419,
    "start_time": "2023-01-24T13:35:55.776Z"
   },
   {
    "duration": 669,
    "start_time": "2023-01-24T13:35:56.197Z"
   },
   {
    "duration": 4,
    "start_time": "2023-01-24T13:35:56.868Z"
   },
   {
    "duration": 14,
    "start_time": "2023-01-24T13:35:56.873Z"
   },
   {
    "duration": 20,
    "start_time": "2023-01-24T13:35:56.889Z"
   },
   {
    "duration": 1012,
    "start_time": "2023-01-24T13:35:56.911Z"
   },
   {
    "duration": 17,
    "start_time": "2023-01-24T13:35:57.953Z"
   },
   {
    "duration": 15,
    "start_time": "2023-01-24T13:36:00.386Z"
   },
   {
    "duration": 14,
    "start_time": "2023-01-24T13:36:11.448Z"
   },
   {
    "duration": 6,
    "start_time": "2023-01-24T13:36:22.044Z"
   },
   {
    "duration": 302,
    "start_time": "2023-01-24T13:36:22.352Z"
   },
   {
    "duration": 73,
    "start_time": "2023-01-24T13:36:22.657Z"
   },
   {
    "duration": 302,
    "start_time": "2023-01-24T13:36:22.732Z"
   },
   {
    "duration": 21,
    "start_time": "2023-01-24T13:36:23.038Z"
   },
   {
    "duration": 19,
    "start_time": "2023-01-24T13:36:23.112Z"
   },
   {
    "duration": 22,
    "start_time": "2023-01-24T13:36:23.292Z"
   },
   {
    "duration": 39,
    "start_time": "2023-01-24T13:36:23.622Z"
   },
   {
    "duration": 4,
    "start_time": "2023-01-24T13:36:23.904Z"
   },
   {
    "duration": 4,
    "start_time": "2023-01-24T13:36:24.433Z"
   },
   {
    "duration": 4,
    "start_time": "2023-01-24T13:36:24.618Z"
   },
   {
    "duration": 228,
    "start_time": "2023-01-24T13:36:24.955Z"
   },
   {
    "duration": 16,
    "start_time": "2023-01-24T13:36:25.322Z"
   },
   {
    "duration": 9,
    "start_time": "2023-01-24T13:36:25.700Z"
   },
   {
    "duration": 10,
    "start_time": "2023-01-24T13:36:26.191Z"
   },
   {
    "duration": 4,
    "start_time": "2023-01-24T13:36:27.155Z"
   },
   {
    "duration": 279,
    "start_time": "2023-01-24T13:36:28.804Z"
   },
   {
    "duration": 314,
    "start_time": "2023-01-24T13:36:29.183Z"
   },
   {
    "duration": 432,
    "start_time": "2023-01-24T13:36:29.508Z"
   },
   {
    "duration": 421,
    "start_time": "2023-01-24T13:36:29.942Z"
   },
   {
    "duration": 676,
    "start_time": "2023-01-24T13:36:30.394Z"
   },
   {
    "duration": 4,
    "start_time": "2023-01-24T13:36:31.187Z"
   },
   {
    "duration": 5,
    "start_time": "2023-01-24T13:36:31.587Z"
   },
   {
    "duration": 4,
    "start_time": "2023-01-24T13:36:31.765Z"
   },
   {
    "duration": 1115,
    "start_time": "2023-01-24T13:36:31.917Z"
   },
   {
    "duration": 15,
    "start_time": "2023-01-24T13:36:33.037Z"
   },
   {
    "duration": 5,
    "start_time": "2023-01-24T13:36:33.804Z"
   },
   {
    "duration": 1126,
    "start_time": "2023-01-24T13:38:22.451Z"
   },
   {
    "duration": 0,
    "start_time": "2023-01-24T13:38:23.578Z"
   },
   {
    "duration": 3,
    "start_time": "2023-01-24T13:38:24.021Z"
   },
   {
    "duration": 4,
    "start_time": "2023-01-24T13:39:57.555Z"
   },
   {
    "duration": 4,
    "start_time": "2023-01-24T13:40:39.838Z"
   },
   {
    "duration": 250,
    "start_time": "2023-01-24T13:40:40.181Z"
   },
   {
    "duration": 67,
    "start_time": "2023-01-24T13:40:40.433Z"
   },
   {
    "duration": 303,
    "start_time": "2023-01-24T13:40:40.502Z"
   },
   {
    "duration": 18,
    "start_time": "2023-01-24T13:40:40.807Z"
   },
   {
    "duration": 18,
    "start_time": "2023-01-24T13:40:40.957Z"
   },
   {
    "duration": 20,
    "start_time": "2023-01-24T13:40:41.173Z"
   },
   {
    "duration": 33,
    "start_time": "2023-01-24T13:40:41.495Z"
   },
   {
    "duration": 4,
    "start_time": "2023-01-24T13:40:41.797Z"
   },
   {
    "duration": 4,
    "start_time": "2023-01-24T13:40:42.297Z"
   },
   {
    "duration": 4,
    "start_time": "2023-01-24T13:40:42.434Z"
   },
   {
    "duration": 206,
    "start_time": "2023-01-24T13:40:42.794Z"
   },
   {
    "duration": 15,
    "start_time": "2023-01-24T13:40:43.167Z"
   },
   {
    "duration": 8,
    "start_time": "2023-01-24T13:40:43.463Z"
   },
   {
    "duration": 9,
    "start_time": "2023-01-24T13:40:45.362Z"
   },
   {
    "duration": 4,
    "start_time": "2023-01-24T13:40:46.409Z"
   },
   {
    "duration": 4,
    "start_time": "2023-01-24T13:40:49.653Z"
   },
   {
    "duration": 3,
    "start_time": "2023-01-24T13:41:14.561Z"
   },
   {
    "duration": 6,
    "start_time": "2023-01-24T13:41:23.180Z"
   },
   {
    "duration": 309,
    "start_time": "2023-01-24T13:41:43.267Z"
   },
   {
    "duration": 350,
    "start_time": "2023-01-24T13:41:43.578Z"
   },
   {
    "duration": 353,
    "start_time": "2023-01-24T13:41:43.929Z"
   },
   {
    "duration": 590,
    "start_time": "2023-01-24T13:41:44.284Z"
   },
   {
    "duration": 699,
    "start_time": "2023-01-24T13:41:44.877Z"
   },
   {
    "duration": 5,
    "start_time": "2023-01-24T13:41:45.578Z"
   },
   {
    "duration": 9,
    "start_time": "2023-01-24T13:41:45.584Z"
   },
   {
    "duration": 46,
    "start_time": "2023-01-24T13:41:45.594Z"
   },
   {
    "duration": 1102,
    "start_time": "2023-01-24T13:41:45.642Z"
   },
   {
    "duration": 13,
    "start_time": "2023-01-24T13:41:46.750Z"
   },
   {
    "duration": 21,
    "start_time": "2023-01-24T13:41:46.765Z"
   },
   {
    "duration": 5,
    "start_time": "2023-01-24T13:41:47.896Z"
   },
   {
    "duration": 6,
    "start_time": "2023-01-24T13:41:50.595Z"
   },
   {
    "duration": 3,
    "start_time": "2023-01-24T13:41:52.068Z"
   },
   {
    "duration": 3,
    "start_time": "2023-01-24T13:41:52.554Z"
   },
   {
    "duration": 3,
    "start_time": "2023-01-24T13:41:54.248Z"
   },
   {
    "duration": 2670,
    "start_time": "2023-01-24T13:41:57.468Z"
   },
   {
    "duration": 22757,
    "start_time": "2023-01-24T13:42:28.833Z"
   },
   {
    "duration": 344461,
    "start_time": "2023-01-24T13:43:43.636Z"
   },
   {
    "duration": 378999,
    "start_time": "2023-01-24T13:49:44.246Z"
   },
   {
    "duration": 4,
    "start_time": "2023-01-24T14:09:50.333Z"
   },
   {
    "duration": 5,
    "start_time": "2023-01-24T14:11:19.229Z"
   },
   {
    "duration": 36,
    "start_time": "2023-01-24T14:11:20.130Z"
   },
   {
    "duration": 212,
    "start_time": "2023-01-24T14:12:07.537Z"
   },
   {
    "duration": 345,
    "start_time": "2023-01-24T14:12:42.590Z"
   },
   {
    "duration": 15,
    "start_time": "2023-01-24T14:12:58.555Z"
   },
   {
    "duration": 9,
    "start_time": "2023-01-24T14:13:12.031Z"
   },
   {
    "duration": 9,
    "start_time": "2023-01-24T14:13:42.856Z"
   },
   {
    "duration": 9,
    "start_time": "2023-01-24T14:14:02.831Z"
   },
   {
    "duration": 91,
    "start_time": "2023-01-24T14:16:07.632Z"
   },
   {
    "duration": 1,
    "start_time": "2023-01-25T08:47:04.781Z"
   },
   {
    "duration": 0,
    "start_time": "2023-01-25T08:47:04.786Z"
   },
   {
    "duration": 14,
    "start_time": "2023-01-25T08:47:11.732Z"
   },
   {
    "duration": 51,
    "start_time": "2023-01-25T09:34:35.942Z"
   },
   {
    "duration": 1716,
    "start_time": "2023-01-25T09:34:47.978Z"
   },
   {
    "duration": 1212,
    "start_time": "2023-01-25T09:34:49.697Z"
   },
   {
    "duration": 156,
    "start_time": "2023-01-25T09:34:50.910Z"
   },
   {
    "duration": 581,
    "start_time": "2023-01-25T09:34:51.068Z"
   },
   {
    "duration": 35,
    "start_time": "2023-01-25T09:34:51.651Z"
   },
   {
    "duration": 26,
    "start_time": "2023-01-25T09:34:51.688Z"
   },
   {
    "duration": 21,
    "start_time": "2023-01-25T09:34:51.910Z"
   },
   {
    "duration": 55,
    "start_time": "2023-01-25T09:34:53.626Z"
   },
   {
    "duration": 6,
    "start_time": "2023-01-25T09:34:54.415Z"
   },
   {
    "duration": 6,
    "start_time": "2023-01-25T09:34:55.497Z"
   },
   {
    "duration": 4,
    "start_time": "2023-01-25T09:34:55.779Z"
   },
   {
    "duration": 211,
    "start_time": "2023-01-25T09:34:56.433Z"
   },
   {
    "duration": 21,
    "start_time": "2023-01-25T09:34:56.897Z"
   },
   {
    "duration": 11,
    "start_time": "2023-01-25T09:34:57.676Z"
   },
   {
    "duration": 10,
    "start_time": "2023-01-25T09:35:00.249Z"
   },
   {
    "duration": 5,
    "start_time": "2023-01-25T09:35:01.163Z"
   },
   {
    "duration": 3,
    "start_time": "2023-01-25T09:35:01.920Z"
   },
   {
    "duration": 345,
    "start_time": "2023-01-25T09:35:03.787Z"
   },
   {
    "duration": 400,
    "start_time": "2023-01-25T09:35:04.319Z"
   },
   {
    "duration": 459,
    "start_time": "2023-01-25T09:35:04.794Z"
   },
   {
    "duration": 475,
    "start_time": "2023-01-25T09:35:05.596Z"
   },
   {
    "duration": 783,
    "start_time": "2023-01-25T09:35:06.073Z"
   },
   {
    "duration": 469,
    "start_time": "2023-01-25T09:35:13.640Z"
   },
   {
    "duration": 550,
    "start_time": "2023-01-25T09:35:32.869Z"
   },
   {
    "duration": 390,
    "start_time": "2023-01-25T09:35:42.120Z"
   },
   {
    "duration": 545,
    "start_time": "2023-01-25T09:35:50.297Z"
   },
   {
    "duration": 6,
    "start_time": "2023-01-25T09:36:29.340Z"
   },
   {
    "duration": 595,
    "start_time": "2023-01-25T09:36:34.478Z"
   },
   {
    "duration": 585,
    "start_time": "2023-01-25T09:38:59.386Z"
   },
   {
    "duration": 478,
    "start_time": "2023-01-25T09:39:07.886Z"
   },
   {
    "duration": 443,
    "start_time": "2023-01-25T09:40:06.288Z"
   },
   {
    "duration": 447,
    "start_time": "2023-01-25T09:40:16.676Z"
   },
   {
    "duration": 73,
    "start_time": "2023-01-25T09:44:42.380Z"
   },
   {
    "duration": 423,
    "start_time": "2023-01-25T09:46:37.302Z"
   },
   {
    "duration": 468,
    "start_time": "2023-01-25T09:46:47.559Z"
   },
   {
    "duration": 5,
    "start_time": "2023-01-25T10:48:32.516Z"
   }
  ],
  "kernelspec": {
   "display_name": "Python 3 (ipykernel)",
   "language": "python",
   "name": "python3"
  },
  "language_info": {
   "codemirror_mode": {
    "name": "ipython",
    "version": 3
   },
   "file_extension": ".py",
   "mimetype": "text/x-python",
   "name": "python",
   "nbconvert_exporter": "python",
   "pygments_lexer": "ipython3",
   "version": "3.9.5"
  },
  "toc": {
   "base_numbering": 1,
   "nav_menu": {},
   "number_sections": true,
   "sideBar": true,
   "skip_h1_title": true,
   "title_cell": "Содержание",
   "title_sidebar": "Contents",
   "toc_cell": true,
   "toc_position": {
    "height": "calc(100% - 180px)",
    "left": "10px",
    "top": "150px",
    "width": "165px"
   },
   "toc_section_display": true,
   "toc_window_display": true
  }
 },
 "nbformat": 4,
 "nbformat_minor": 2
}
