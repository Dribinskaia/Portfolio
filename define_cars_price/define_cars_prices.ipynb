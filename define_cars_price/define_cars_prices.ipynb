{
 "cells": [
  {
   "cell_type": "markdown",
   "metadata": {},
   "source": [
    "# Определение стоимости автомобилей"
   ]
  },
  {
   "cell_type": "markdown",
   "metadata": {},
   "source": [
    "Сервис по продаже автомобилей с пробегом разрабатывает приложение для привлечения новых клиентов. В нём можно быстро узнать рыночную стоимость своего автомобиля. В распоряжении исторические данные: технические характеристики, комплектации и цены автомобилей. Необходимо построить модель для определения стоимости. \n",
    "\n",
    "Заказчику важны:\n",
    "\n",
    "- качество предсказания;\n",
    "- скорость предсказания;\n",
    "- время обучения."
   ]
  },
  {
   "cell_type": "markdown",
   "metadata": {},
   "source": [
    "Этапы исследования:\n",
    "- предобрабтка данных - данные будут очищены от пустых значений и вбросов, приведены к корректному типу;\n",
    "- кодирование категориальных признаков, а также масштабирование количественных;\n",
    "- разделение данных на выборки;\n",
    "- построение моделей: Дерево решений, Случайный лес, а также моделей градиентного бустинга с помощью Catboost и lightgbm;\n",
    "- оценка метрики качества (RMSE);\n",
    "- оценка времени, затраченного моделью на обучение и предсказание;\n",
    "- сравнение моделей и выбор оптимальной;\n",
    "- проверка выбранной модели на тестовой выборке;\n",
    "- выводы."
   ]
  },
  {
   "cell_type": "markdown",
   "metadata": {},
   "source": [
    "## Подготовка данных"
   ]
  },
  {
   "cell_type": "code",
   "execution_count": 41,
   "metadata": {},
   "outputs": [],
   "source": [
    "import pandas as pd\n",
    "import numpy as np\n",
    "from sklearn.model_selection import train_test_split\n",
    "from sklearn.preprocessing import OrdinalEncoder\n",
    "from sklearn.preprocessing import StandardScaler\n",
    "from sklearn.compose import ColumnTransformer\n",
    "import matplotlib.pyplot as plt\n",
    "import seaborn as sns\n",
    "import lightgbm as lgb\n",
    "from sklearn.linear_model import LinearRegression\n",
    "from sklearn.ensemble import RandomForestRegressor\n",
    "from sklearn.tree import DecisionTreeRegressor\n",
    "from catboost import CatBoostRegressor, Pool\n",
    "from sklearn.model_selection import GridSearchCV\n",
    "from sklearn.model_selection import RandomizedSearchCV\n",
    "from sklearn.metrics import mean_squared_error\n",
    "from sklearn.metrics import make_scorer\n",
    "import time\n",
    "import warnings\n",
    "warnings.filterwarnings('ignore')"
   ]
  },
  {
   "cell_type": "markdown",
   "metadata": {},
   "source": [
    "### 1.1 Изучение общей информации"
   ]
  },
  {
   "cell_type": "code",
   "execution_count": 42,
   "metadata": {},
   "outputs": [
    {
     "data": {
      "text/html": [
       "<div>\n",
       "<style scoped>\n",
       "    .dataframe tbody tr th:only-of-type {\n",
       "        vertical-align: middle;\n",
       "    }\n",
       "\n",
       "    .dataframe tbody tr th {\n",
       "        vertical-align: top;\n",
       "    }\n",
       "\n",
       "    .dataframe thead th {\n",
       "        text-align: right;\n",
       "    }\n",
       "</style>\n",
       "<table border=\"1\" class=\"dataframe\">\n",
       "  <thead>\n",
       "    <tr style=\"text-align: right;\">\n",
       "      <th></th>\n",
       "      <th>Price</th>\n",
       "      <th>VehicleType</th>\n",
       "      <th>RegistrationYear</th>\n",
       "      <th>Gearbox</th>\n",
       "      <th>Power</th>\n",
       "      <th>Model</th>\n",
       "      <th>Kilometer</th>\n",
       "      <th>RegistrationMonth</th>\n",
       "      <th>FuelType</th>\n",
       "      <th>Brand</th>\n",
       "      <th>Repaired</th>\n",
       "      <th>DateCreated</th>\n",
       "      <th>NumberOfPictures</th>\n",
       "      <th>PostalCode</th>\n",
       "      <th>LastSeen</th>\n",
       "    </tr>\n",
       "    <tr>\n",
       "      <th>DateCrawled</th>\n",
       "      <th></th>\n",
       "      <th></th>\n",
       "      <th></th>\n",
       "      <th></th>\n",
       "      <th></th>\n",
       "      <th></th>\n",
       "      <th></th>\n",
       "      <th></th>\n",
       "      <th></th>\n",
       "      <th></th>\n",
       "      <th></th>\n",
       "      <th></th>\n",
       "      <th></th>\n",
       "      <th></th>\n",
       "      <th></th>\n",
       "    </tr>\n",
       "  </thead>\n",
       "  <tbody>\n",
       "    <tr>\n",
       "      <th>2016-03-24 11:52:17</th>\n",
       "      <td>480</td>\n",
       "      <td>NaN</td>\n",
       "      <td>1993</td>\n",
       "      <td>manual</td>\n",
       "      <td>0</td>\n",
       "      <td>golf</td>\n",
       "      <td>150000</td>\n",
       "      <td>0</td>\n",
       "      <td>petrol</td>\n",
       "      <td>volkswagen</td>\n",
       "      <td>NaN</td>\n",
       "      <td>2016-03-24 00:00:00</td>\n",
       "      <td>0</td>\n",
       "      <td>70435</td>\n",
       "      <td>2016-04-07 03:16:57</td>\n",
       "    </tr>\n",
       "    <tr>\n",
       "      <th>2016-03-24 10:58:45</th>\n",
       "      <td>18300</td>\n",
       "      <td>coupe</td>\n",
       "      <td>2011</td>\n",
       "      <td>manual</td>\n",
       "      <td>190</td>\n",
       "      <td>NaN</td>\n",
       "      <td>125000</td>\n",
       "      <td>5</td>\n",
       "      <td>gasoline</td>\n",
       "      <td>audi</td>\n",
       "      <td>yes</td>\n",
       "      <td>2016-03-24 00:00:00</td>\n",
       "      <td>0</td>\n",
       "      <td>66954</td>\n",
       "      <td>2016-04-07 01:46:50</td>\n",
       "    </tr>\n",
       "    <tr>\n",
       "      <th>2016-03-14 12:52:21</th>\n",
       "      <td>9800</td>\n",
       "      <td>suv</td>\n",
       "      <td>2004</td>\n",
       "      <td>auto</td>\n",
       "      <td>163</td>\n",
       "      <td>grand</td>\n",
       "      <td>125000</td>\n",
       "      <td>8</td>\n",
       "      <td>gasoline</td>\n",
       "      <td>jeep</td>\n",
       "      <td>NaN</td>\n",
       "      <td>2016-03-14 00:00:00</td>\n",
       "      <td>0</td>\n",
       "      <td>90480</td>\n",
       "      <td>2016-04-05 12:47:46</td>\n",
       "    </tr>\n",
       "    <tr>\n",
       "      <th>2016-03-17 16:54:04</th>\n",
       "      <td>1500</td>\n",
       "      <td>small</td>\n",
       "      <td>2001</td>\n",
       "      <td>manual</td>\n",
       "      <td>75</td>\n",
       "      <td>golf</td>\n",
       "      <td>150000</td>\n",
       "      <td>6</td>\n",
       "      <td>petrol</td>\n",
       "      <td>volkswagen</td>\n",
       "      <td>no</td>\n",
       "      <td>2016-03-17 00:00:00</td>\n",
       "      <td>0</td>\n",
       "      <td>91074</td>\n",
       "      <td>2016-03-17 17:40:17</td>\n",
       "    </tr>\n",
       "    <tr>\n",
       "      <th>2016-03-31 17:25:20</th>\n",
       "      <td>3600</td>\n",
       "      <td>small</td>\n",
       "      <td>2008</td>\n",
       "      <td>manual</td>\n",
       "      <td>69</td>\n",
       "      <td>fabia</td>\n",
       "      <td>90000</td>\n",
       "      <td>7</td>\n",
       "      <td>gasoline</td>\n",
       "      <td>skoda</td>\n",
       "      <td>no</td>\n",
       "      <td>2016-03-31 00:00:00</td>\n",
       "      <td>0</td>\n",
       "      <td>60437</td>\n",
       "      <td>2016-04-06 10:17:21</td>\n",
       "    </tr>\n",
       "  </tbody>\n",
       "</table>\n",
       "</div>"
      ],
      "text/plain": [
       "                     Price VehicleType  RegistrationYear Gearbox  Power  \\\n",
       "DateCrawled                                                               \n",
       "2016-03-24 11:52:17    480         NaN              1993  manual      0   \n",
       "2016-03-24 10:58:45  18300       coupe              2011  manual    190   \n",
       "2016-03-14 12:52:21   9800         suv              2004    auto    163   \n",
       "2016-03-17 16:54:04   1500       small              2001  manual     75   \n",
       "2016-03-31 17:25:20   3600       small              2008  manual     69   \n",
       "\n",
       "                     Model  Kilometer  RegistrationMonth  FuelType  \\\n",
       "DateCrawled                                                          \n",
       "2016-03-24 11:52:17   golf     150000                  0    petrol   \n",
       "2016-03-24 10:58:45    NaN     125000                  5  gasoline   \n",
       "2016-03-14 12:52:21  grand     125000                  8  gasoline   \n",
       "2016-03-17 16:54:04   golf     150000                  6    petrol   \n",
       "2016-03-31 17:25:20  fabia      90000                  7  gasoline   \n",
       "\n",
       "                          Brand Repaired          DateCreated  \\\n",
       "DateCrawled                                                     \n",
       "2016-03-24 11:52:17  volkswagen      NaN  2016-03-24 00:00:00   \n",
       "2016-03-24 10:58:45        audi      yes  2016-03-24 00:00:00   \n",
       "2016-03-14 12:52:21        jeep      NaN  2016-03-14 00:00:00   \n",
       "2016-03-17 16:54:04  volkswagen       no  2016-03-17 00:00:00   \n",
       "2016-03-31 17:25:20       skoda       no  2016-03-31 00:00:00   \n",
       "\n",
       "                     NumberOfPictures  PostalCode             LastSeen  \n",
       "DateCrawled                                                             \n",
       "2016-03-24 11:52:17                 0       70435  2016-04-07 03:16:57  \n",
       "2016-03-24 10:58:45                 0       66954  2016-04-07 01:46:50  \n",
       "2016-03-14 12:52:21                 0       90480  2016-04-05 12:47:46  \n",
       "2016-03-17 16:54:04                 0       91074  2016-03-17 17:40:17  \n",
       "2016-03-31 17:25:20                 0       60437  2016-04-06 10:17:21  "
      ]
     },
     "execution_count": 42,
     "metadata": {},
     "output_type": "execute_result"
    }
   ],
   "source": [
    "df = pd.read_csv('/datasets/autos.csv', index_col=[0], parse_dates=[0])\n",
    "    \n",
    "df.head()"
   ]
  },
  {
   "cell_type": "code",
   "execution_count": 43,
   "metadata": {},
   "outputs": [
    {
     "name": "stdout",
     "output_type": "stream",
     "text": [
      "<class 'pandas.core.frame.DataFrame'>\n",
      "DatetimeIndex: 354369 entries, 2016-03-24 11:52:17 to 2016-03-20 19:41:08\n",
      "Data columns (total 15 columns):\n",
      " #   Column             Non-Null Count   Dtype \n",
      "---  ------             --------------   ----- \n",
      " 0   Price              354369 non-null  int64 \n",
      " 1   VehicleType        316879 non-null  object\n",
      " 2   RegistrationYear   354369 non-null  int64 \n",
      " 3   Gearbox            334536 non-null  object\n",
      " 4   Power              354369 non-null  int64 \n",
      " 5   Model              334664 non-null  object\n",
      " 6   Kilometer          354369 non-null  int64 \n",
      " 7   RegistrationMonth  354369 non-null  int64 \n",
      " 8   FuelType           321474 non-null  object\n",
      " 9   Brand              354369 non-null  object\n",
      " 10  Repaired           283215 non-null  object\n",
      " 11  DateCreated        354369 non-null  object\n",
      " 12  NumberOfPictures   354369 non-null  int64 \n",
      " 13  PostalCode         354369 non-null  int64 \n",
      " 14  LastSeen           354369 non-null  object\n",
      "dtypes: int64(7), object(8)\n",
      "memory usage: 43.3+ MB\n"
     ]
    }
   ],
   "source": [
    "df.info()"
   ]
  },
  {
   "cell_type": "code",
   "execution_count": 44,
   "metadata": {},
   "outputs": [
    {
     "data": {
      "text/plain": [
       "Price                    0\n",
       "VehicleType          37490\n",
       "RegistrationYear         0\n",
       "Gearbox              19833\n",
       "Power                    0\n",
       "Model                19705\n",
       "Kilometer                0\n",
       "RegistrationMonth        0\n",
       "FuelType             32895\n",
       "Brand                    0\n",
       "Repaired             71154\n",
       "DateCreated              0\n",
       "NumberOfPictures         0\n",
       "PostalCode               0\n",
       "LastSeen                 0\n",
       "dtype: int64"
      ]
     },
     "execution_count": 44,
     "metadata": {},
     "output_type": "execute_result"
    }
   ],
   "source": [
    "df.isna().sum()"
   ]
  },
  {
   "cell_type": "code",
   "execution_count": 45,
   "metadata": {},
   "outputs": [
    {
     "data": {
      "text/plain": [
       "89"
      ]
     },
     "execution_count": 45,
     "metadata": {},
     "output_type": "execute_result"
    }
   ],
   "source": [
    "df.duplicated().sum()"
   ]
  },
  {
   "cell_type": "markdown",
   "metadata": {},
   "source": [
    "Типы данных в столбцах соответствуют содержимому. В стоблцах с типом автомобиля, коробкой передач, моделью, типом топлива и сведениями о ремонте имеются пропуски. Помимо характеристик автомобиля, датафрейм содержит данные о пользователе (индекс, дата загрузки объявления). Названия столбцов содержат заглавные буквы, однако поскольку многие названия составные, приведение к нижнему регистру сделает их трудно читаемыми."
   ]
  },
  {
   "cell_type": "markdown",
   "metadata": {},
   "source": [
    "### 1.2 Обработка дубликатов и пропусков"
   ]
  },
  {
   "cell_type": "markdown",
   "metadata": {},
   "source": [
    "В данных имеются дубликаты, пропуски, а также сведения, очевидно не влияющие на цену. В частности, это личные данные - почтовый индекс владельца, дата последней активности пользователя, дата скачивания анкеты. Удалим эти признаки. Для определения возраста автомобиля достаточно столбца \"год регистрации автомобиля\", поэтому также удалим столбец \"месяц регистрации автомобиля\". Кроме того, удалим дубликаты"
   ]
  },
  {
   "cell_type": "code",
   "execution_count": 46,
   "metadata": {},
   "outputs": [
    {
     "data": {
      "text/plain": [
       "0"
      ]
     },
     "execution_count": 46,
     "metadata": {},
     "output_type": "execute_result"
    }
   ],
   "source": [
    "# Удаляем явные дубликаты\n",
    "df = df.drop_duplicates()\n",
    "df.duplicated().sum()"
   ]
  },
  {
   "cell_type": "markdown",
   "metadata": {},
   "source": [
    "Сами по себе столбцы с датами не очень информативны, однако на их основе можно составить столбец со сведениями о том, сколько дней автомобиль был в продаже. Для этого переводим столбцы \"Дата создания объявления\" и \"Дата последней активности\" в формат datetime, получаем разницу между этими столбцами и помещаем ее в отдельный столбец \"дни в продаже\"."
   ]
  },
  {
   "cell_type": "code",
   "execution_count": 47,
   "metadata": {},
   "outputs": [
    {
     "data": {
      "text/html": [
       "<div>\n",
       "<style scoped>\n",
       "    .dataframe tbody tr th:only-of-type {\n",
       "        vertical-align: middle;\n",
       "    }\n",
       "\n",
       "    .dataframe tbody tr th {\n",
       "        vertical-align: top;\n",
       "    }\n",
       "\n",
       "    .dataframe thead th {\n",
       "        text-align: right;\n",
       "    }\n",
       "</style>\n",
       "<table border=\"1\" class=\"dataframe\">\n",
       "  <thead>\n",
       "    <tr style=\"text-align: right;\">\n",
       "      <th></th>\n",
       "      <th>Price</th>\n",
       "      <th>VehicleType</th>\n",
       "      <th>RegistrationYear</th>\n",
       "      <th>Gearbox</th>\n",
       "      <th>Power</th>\n",
       "      <th>Model</th>\n",
       "      <th>Kilometer</th>\n",
       "      <th>RegistrationMonth</th>\n",
       "      <th>FuelType</th>\n",
       "      <th>Brand</th>\n",
       "      <th>Repaired</th>\n",
       "      <th>DateCreated</th>\n",
       "      <th>NumberOfPictures</th>\n",
       "      <th>PostalCode</th>\n",
       "      <th>LastSeen</th>\n",
       "      <th>DaysInSale</th>\n",
       "    </tr>\n",
       "    <tr>\n",
       "      <th>DateCrawled</th>\n",
       "      <th></th>\n",
       "      <th></th>\n",
       "      <th></th>\n",
       "      <th></th>\n",
       "      <th></th>\n",
       "      <th></th>\n",
       "      <th></th>\n",
       "      <th></th>\n",
       "      <th></th>\n",
       "      <th></th>\n",
       "      <th></th>\n",
       "      <th></th>\n",
       "      <th></th>\n",
       "      <th></th>\n",
       "      <th></th>\n",
       "      <th></th>\n",
       "    </tr>\n",
       "  </thead>\n",
       "  <tbody>\n",
       "    <tr>\n",
       "      <th>2016-03-24 11:52:17</th>\n",
       "      <td>480</td>\n",
       "      <td>NaN</td>\n",
       "      <td>1993</td>\n",
       "      <td>manual</td>\n",
       "      <td>0</td>\n",
       "      <td>golf</td>\n",
       "      <td>150000</td>\n",
       "      <td>0</td>\n",
       "      <td>petrol</td>\n",
       "      <td>volkswagen</td>\n",
       "      <td>NaN</td>\n",
       "      <td>2016-03-24</td>\n",
       "      <td>0</td>\n",
       "      <td>70435</td>\n",
       "      <td>2016-04-07 03:16:57</td>\n",
       "      <td>14</td>\n",
       "    </tr>\n",
       "    <tr>\n",
       "      <th>2016-03-24 10:58:45</th>\n",
       "      <td>18300</td>\n",
       "      <td>coupe</td>\n",
       "      <td>2011</td>\n",
       "      <td>manual</td>\n",
       "      <td>190</td>\n",
       "      <td>NaN</td>\n",
       "      <td>125000</td>\n",
       "      <td>5</td>\n",
       "      <td>gasoline</td>\n",
       "      <td>audi</td>\n",
       "      <td>yes</td>\n",
       "      <td>2016-03-24</td>\n",
       "      <td>0</td>\n",
       "      <td>66954</td>\n",
       "      <td>2016-04-07 01:46:50</td>\n",
       "      <td>14</td>\n",
       "    </tr>\n",
       "    <tr>\n",
       "      <th>2016-03-14 12:52:21</th>\n",
       "      <td>9800</td>\n",
       "      <td>suv</td>\n",
       "      <td>2004</td>\n",
       "      <td>auto</td>\n",
       "      <td>163</td>\n",
       "      <td>grand</td>\n",
       "      <td>125000</td>\n",
       "      <td>8</td>\n",
       "      <td>gasoline</td>\n",
       "      <td>jeep</td>\n",
       "      <td>NaN</td>\n",
       "      <td>2016-03-14</td>\n",
       "      <td>0</td>\n",
       "      <td>90480</td>\n",
       "      <td>2016-04-05 12:47:46</td>\n",
       "      <td>22</td>\n",
       "    </tr>\n",
       "    <tr>\n",
       "      <th>2016-03-17 16:54:04</th>\n",
       "      <td>1500</td>\n",
       "      <td>small</td>\n",
       "      <td>2001</td>\n",
       "      <td>manual</td>\n",
       "      <td>75</td>\n",
       "      <td>golf</td>\n",
       "      <td>150000</td>\n",
       "      <td>6</td>\n",
       "      <td>petrol</td>\n",
       "      <td>volkswagen</td>\n",
       "      <td>no</td>\n",
       "      <td>2016-03-17</td>\n",
       "      <td>0</td>\n",
       "      <td>91074</td>\n",
       "      <td>2016-03-17 17:40:17</td>\n",
       "      <td>0</td>\n",
       "    </tr>\n",
       "    <tr>\n",
       "      <th>2016-03-31 17:25:20</th>\n",
       "      <td>3600</td>\n",
       "      <td>small</td>\n",
       "      <td>2008</td>\n",
       "      <td>manual</td>\n",
       "      <td>69</td>\n",
       "      <td>fabia</td>\n",
       "      <td>90000</td>\n",
       "      <td>7</td>\n",
       "      <td>gasoline</td>\n",
       "      <td>skoda</td>\n",
       "      <td>no</td>\n",
       "      <td>2016-03-31</td>\n",
       "      <td>0</td>\n",
       "      <td>60437</td>\n",
       "      <td>2016-04-06 10:17:21</td>\n",
       "      <td>6</td>\n",
       "    </tr>\n",
       "  </tbody>\n",
       "</table>\n",
       "</div>"
      ],
      "text/plain": [
       "                     Price VehicleType  RegistrationYear Gearbox  Power  \\\n",
       "DateCrawled                                                               \n",
       "2016-03-24 11:52:17    480         NaN              1993  manual      0   \n",
       "2016-03-24 10:58:45  18300       coupe              2011  manual    190   \n",
       "2016-03-14 12:52:21   9800         suv              2004    auto    163   \n",
       "2016-03-17 16:54:04   1500       small              2001  manual     75   \n",
       "2016-03-31 17:25:20   3600       small              2008  manual     69   \n",
       "\n",
       "                     Model  Kilometer  RegistrationMonth  FuelType  \\\n",
       "DateCrawled                                                          \n",
       "2016-03-24 11:52:17   golf     150000                  0    petrol   \n",
       "2016-03-24 10:58:45    NaN     125000                  5  gasoline   \n",
       "2016-03-14 12:52:21  grand     125000                  8  gasoline   \n",
       "2016-03-17 16:54:04   golf     150000                  6    petrol   \n",
       "2016-03-31 17:25:20  fabia      90000                  7  gasoline   \n",
       "\n",
       "                          Brand Repaired DateCreated  NumberOfPictures  \\\n",
       "DateCrawled                                                              \n",
       "2016-03-24 11:52:17  volkswagen      NaN  2016-03-24                 0   \n",
       "2016-03-24 10:58:45        audi      yes  2016-03-24                 0   \n",
       "2016-03-14 12:52:21        jeep      NaN  2016-03-14                 0   \n",
       "2016-03-17 16:54:04  volkswagen       no  2016-03-17                 0   \n",
       "2016-03-31 17:25:20       skoda       no  2016-03-31                 0   \n",
       "\n",
       "                     PostalCode            LastSeen  DaysInSale  \n",
       "DateCrawled                                                      \n",
       "2016-03-24 11:52:17       70435 2016-04-07 03:16:57          14  \n",
       "2016-03-24 10:58:45       66954 2016-04-07 01:46:50          14  \n",
       "2016-03-14 12:52:21       90480 2016-04-05 12:47:46          22  \n",
       "2016-03-17 16:54:04       91074 2016-03-17 17:40:17           0  \n",
       "2016-03-31 17:25:20       60437 2016-04-06 10:17:21           6  "
      ]
     },
     "execution_count": 47,
     "metadata": {},
     "output_type": "execute_result"
    }
   ],
   "source": [
    "# Меняем тип данных\n",
    "df[['DateCreated', 'LastSeen']] = df[['DateCreated', 'LastSeen']].apply(pd.to_datetime, format='%Y-%m-%dT%H:%M:%S')\n",
    "# Создаем столбец с разницей \n",
    "df['DaysInSale'] = df['LastSeen'] - df['DateCreated']\n",
    "# Для удобства оставим в столбце только дни в продаже, и переведем его тип в целочисленный\n",
    "df['DaysInSale'] = df['DaysInSale'].astype('timedelta64[D]').astype('int')\n",
    "# Посмотрим, корректно ли добавился столбец\n",
    "df.head()"
   ]
  },
  {
   "cell_type": "code",
   "execution_count": 48,
   "metadata": {},
   "outputs": [],
   "source": [
    "\n",
    "# Удалям персональные данные и колонки с датами\n",
    "df = df.drop(columns=['DateCreated','RegistrationMonth', 'PostalCode','LastSeen'])"
   ]
  },
  {
   "cell_type": "markdown",
   "metadata": {},
   "source": [
    "Изучим и обработаем пропуски в данных"
   ]
  },
  {
   "cell_type": "code",
   "execution_count": 49,
   "metadata": {},
   "outputs": [
    {
     "data": {
      "text/plain": [
       "Price                   0\n",
       "VehicleType         37490\n",
       "RegistrationYear        0\n",
       "Gearbox             19832\n",
       "Power                   0\n",
       "Model               19705\n",
       "Kilometer               0\n",
       "FuelType            32892\n",
       "Brand                   0\n",
       "Repaired            71149\n",
       "NumberOfPictures        0\n",
       "DaysInSale              0\n",
       "dtype: int64"
      ]
     },
     "execution_count": 49,
     "metadata": {},
     "output_type": "execute_result"
    }
   ],
   "source": [
    "# Оцениваем количество пропусков \n",
    "df.isna().sum()"
   ]
  },
  {
   "cell_type": "code",
   "execution_count": 50,
   "metadata": {},
   "outputs": [
    {
     "name": "stdout",
     "output_type": "stream",
     "text": [
      "sedan          91428\n",
      "small          79812\n",
      "wagon          65146\n",
      "bus            28772\n",
      "convertible    20199\n",
      "coupe          16153\n",
      "suv            11992\n",
      "other           3288\n",
      "Name: VehicleType, dtype: int64\n",
      "_________________\n",
      "manual    268177\n",
      "auto       66271\n",
      "Name: Gearbox, dtype: int64\n",
      "_________________\n",
      "petrol      216300\n",
      "gasoline     98689\n",
      "lpg           5307\n",
      "cng            565\n",
      "hybrid         233\n",
      "other          204\n",
      "electric        90\n",
      "Name: FuelType, dtype: int64\n",
      "_________________\n",
      "no     247081\n",
      "yes     36050\n",
      "Name: Repaired, dtype: int64\n",
      "_________________\n"
     ]
    }
   ],
   "source": [
    "# Посмотрим, какие значения содержатся в столбцах, в которых есть пропуски\n",
    "columns = ['VehicleType', 'Gearbox','FuelType', 'Repaired']\n",
    "for i in columns:\n",
    "    print(df[i].value_counts())\n",
    "    print('_________________')\n"
   ]
  },
  {
   "cell_type": "markdown",
   "metadata": {},
   "source": [
    "Пропуски обработаем следующим образом: \n",
    "-  \"NotRepaired\" пользователи могли игнорировать и не заполнять в случае, если автомобиль не был в ремонте. Заполним пустые значения как 'no';\n",
    "- столбцы с типом коробки передач и топливом заполним самыми распространенными типами - механическая и бензин соответственно;\n",
    "-  пропуски с столбцах с типом автомобиля и моделью автомобиля замолним на значение \"неизвестен\" (пропусков больше 10%, при удалении потеряется большая часть данных, что нежелательно)"
   ]
  },
  {
   "cell_type": "code",
   "execution_count": 51,
   "metadata": {},
   "outputs": [
    {
     "data": {
      "text/plain": [
       "Price               0\n",
       "VehicleType         0\n",
       "RegistrationYear    0\n",
       "Gearbox             0\n",
       "Power               0\n",
       "Model               0\n",
       "Kilometer           0\n",
       "FuelType            0\n",
       "Brand               0\n",
       "Repaired            0\n",
       "NumberOfPictures    0\n",
       "DaysInSale          0\n",
       "dtype: int64"
      ]
     },
     "execution_count": 51,
     "metadata": {},
     "output_type": "execute_result"
    }
   ],
   "source": [
    "df['Repaired'] = df['Repaired'].fillna('no')\n",
    "df['Gearbox'] = df['Gearbox'].fillna('manual')\n",
    "df['FuelType']= df['FuelType'].fillna('petrol')\n",
    "df['VehicleType'] = df['VehicleType'].fillna('unknown')\n",
    "df['Model'] = df['Model'].fillna('unknown')\n",
    "\n",
    "# Убедимся, что обработка пропусков проведена корректно\n",
    "df.isna().sum()"
   ]
  },
  {
   "cell_type": "markdown",
   "metadata": {},
   "source": [
    "Пропуски обработаны"
   ]
  },
  {
   "cell_type": "markdown",
   "metadata": {},
   "source": [
    "### 1.3 Обработка аномальных значений"
   ]
  },
  {
   "cell_type": "code",
   "execution_count": 52,
   "metadata": {},
   "outputs": [
    {
     "data": {
      "text/html": [
       "<div>\n",
       "<style scoped>\n",
       "    .dataframe tbody tr th:only-of-type {\n",
       "        vertical-align: middle;\n",
       "    }\n",
       "\n",
       "    .dataframe tbody tr th {\n",
       "        vertical-align: top;\n",
       "    }\n",
       "\n",
       "    .dataframe thead th {\n",
       "        text-align: right;\n",
       "    }\n",
       "</style>\n",
       "<table border=\"1\" class=\"dataframe\">\n",
       "  <thead>\n",
       "    <tr style=\"text-align: right;\">\n",
       "      <th></th>\n",
       "      <th>Price</th>\n",
       "      <th>RegistrationYear</th>\n",
       "      <th>Power</th>\n",
       "      <th>Kilometer</th>\n",
       "      <th>NumberOfPictures</th>\n",
       "      <th>DaysInSale</th>\n",
       "    </tr>\n",
       "  </thead>\n",
       "  <tbody>\n",
       "    <tr>\n",
       "      <th>count</th>\n",
       "      <td>354280.000000</td>\n",
       "      <td>354280.000000</td>\n",
       "      <td>354280.000000</td>\n",
       "      <td>354280.000000</td>\n",
       "      <td>354280.0</td>\n",
       "      <td>354280.000000</td>\n",
       "    </tr>\n",
       "    <tr>\n",
       "      <th>mean</th>\n",
       "      <td>4416.458541</td>\n",
       "      <td>2004.234859</td>\n",
       "      <td>110.090256</td>\n",
       "      <td>128211.090098</td>\n",
       "      <td>0.0</td>\n",
       "      <td>8.677916</td>\n",
       "    </tr>\n",
       "    <tr>\n",
       "      <th>std</th>\n",
       "      <td>4514.138905</td>\n",
       "      <td>90.239242</td>\n",
       "      <td>189.872001</td>\n",
       "      <td>37906.417793</td>\n",
       "      <td>0.0</td>\n",
       "      <td>8.639700</td>\n",
       "    </tr>\n",
       "    <tr>\n",
       "      <th>min</th>\n",
       "      <td>0.000000</td>\n",
       "      <td>1000.000000</td>\n",
       "      <td>0.000000</td>\n",
       "      <td>5000.000000</td>\n",
       "      <td>0.0</td>\n",
       "      <td>0.000000</td>\n",
       "    </tr>\n",
       "    <tr>\n",
       "      <th>1%</th>\n",
       "      <td>0.000000</td>\n",
       "      <td>1980.000000</td>\n",
       "      <td>0.000000</td>\n",
       "      <td>5000.000000</td>\n",
       "      <td>0.0</td>\n",
       "      <td>0.000000</td>\n",
       "    </tr>\n",
       "    <tr>\n",
       "      <th>3%</th>\n",
       "      <td>0.000000</td>\n",
       "      <td>1990.000000</td>\n",
       "      <td>0.000000</td>\n",
       "      <td>20000.000000</td>\n",
       "      <td>0.0</td>\n",
       "      <td>0.000000</td>\n",
       "    </tr>\n",
       "    <tr>\n",
       "      <th>5%</th>\n",
       "      <td>200.000000</td>\n",
       "      <td>1992.000000</td>\n",
       "      <td>0.000000</td>\n",
       "      <td>40000.000000</td>\n",
       "      <td>0.0</td>\n",
       "      <td>0.000000</td>\n",
       "    </tr>\n",
       "    <tr>\n",
       "      <th>25%</th>\n",
       "      <td>1050.000000</td>\n",
       "      <td>1999.000000</td>\n",
       "      <td>69.000000</td>\n",
       "      <td>125000.000000</td>\n",
       "      <td>0.0</td>\n",
       "      <td>2.000000</td>\n",
       "    </tr>\n",
       "    <tr>\n",
       "      <th>50%</th>\n",
       "      <td>2700.000000</td>\n",
       "      <td>2003.000000</td>\n",
       "      <td>105.000000</td>\n",
       "      <td>150000.000000</td>\n",
       "      <td>0.0</td>\n",
       "      <td>6.000000</td>\n",
       "    </tr>\n",
       "    <tr>\n",
       "      <th>75%</th>\n",
       "      <td>6400.000000</td>\n",
       "      <td>2008.000000</td>\n",
       "      <td>143.000000</td>\n",
       "      <td>150000.000000</td>\n",
       "      <td>0.0</td>\n",
       "      <td>13.000000</td>\n",
       "    </tr>\n",
       "    <tr>\n",
       "      <th>99%</th>\n",
       "      <td>18800.000000</td>\n",
       "      <td>2018.000000</td>\n",
       "      <td>300.000000</td>\n",
       "      <td>150000.000000</td>\n",
       "      <td>0.0</td>\n",
       "      <td>31.000000</td>\n",
       "    </tr>\n",
       "    <tr>\n",
       "      <th>max</th>\n",
       "      <td>20000.000000</td>\n",
       "      <td>9999.000000</td>\n",
       "      <td>20000.000000</td>\n",
       "      <td>150000.000000</td>\n",
       "      <td>0.0</td>\n",
       "      <td>759.000000</td>\n",
       "    </tr>\n",
       "  </tbody>\n",
       "</table>\n",
       "</div>"
      ],
      "text/plain": [
       "               Price  RegistrationYear          Power      Kilometer  \\\n",
       "count  354280.000000     354280.000000  354280.000000  354280.000000   \n",
       "mean     4416.458541       2004.234859     110.090256  128211.090098   \n",
       "std      4514.138905         90.239242     189.872001   37906.417793   \n",
       "min         0.000000       1000.000000       0.000000    5000.000000   \n",
       "1%          0.000000       1980.000000       0.000000    5000.000000   \n",
       "3%          0.000000       1990.000000       0.000000   20000.000000   \n",
       "5%        200.000000       1992.000000       0.000000   40000.000000   \n",
       "25%      1050.000000       1999.000000      69.000000  125000.000000   \n",
       "50%      2700.000000       2003.000000     105.000000  150000.000000   \n",
       "75%      6400.000000       2008.000000     143.000000  150000.000000   \n",
       "99%     18800.000000       2018.000000     300.000000  150000.000000   \n",
       "max     20000.000000       9999.000000   20000.000000  150000.000000   \n",
       "\n",
       "       NumberOfPictures     DaysInSale  \n",
       "count          354280.0  354280.000000  \n",
       "mean                0.0       8.677916  \n",
       "std                 0.0       8.639700  \n",
       "min                 0.0       0.000000  \n",
       "1%                  0.0       0.000000  \n",
       "3%                  0.0       0.000000  \n",
       "5%                  0.0       0.000000  \n",
       "25%                 0.0       2.000000  \n",
       "50%                 0.0       6.000000  \n",
       "75%                 0.0      13.000000  \n",
       "99%                 0.0      31.000000  \n",
       "max                 0.0     759.000000  "
      ]
     },
     "execution_count": 52,
     "metadata": {},
     "output_type": "execute_result"
    }
   ],
   "source": [
    "df.describe(percentiles=[.01, .03, .05, .25, .5, .75, .99])"
   ]
  },
  {
   "cell_type": "code",
   "execution_count": 53,
   "metadata": {},
   "outputs": [
    {
     "data": {
      "image/png": "[encoded data removed]",
      "text/plain": [
       "<Figure size 1080x576 with 1 Axes>"
      ]
     },
     "metadata": {
      "needs_background": "light"
     },
     "output_type": "display_data"
    }
   ],
   "source": [
    "# Построим диаграмму размаха для мощности двигателя\n",
    "plt.figure(figsize=(15, 8))\n",
    "sns.boxplot(data=df['Power'])\n",
    "plt.title('Мощность двигателя, л.с.')\n",
    "plt.grid(True)\n",
    "plt.ylim(0, 2000)\n",
    "plt.show()"
   ]
  },
  {
   "cell_type": "code",
   "execution_count": 54,
   "metadata": {},
   "outputs": [
    {
     "data": {
      "image/png": "[encoded data removed]",
      "text/plain": [
       "<Figure size 1080x576 with 1 Axes>"
      ]
     },
     "metadata": {
      "needs_background": "light"
     },
     "output_type": "display_data"
    }
   ],
   "source": [
    "# Построим диаграмму размаха для года регистрации\n",
    "plt.figure(figsize=(15, 8))\n",
    "sns.boxplot(data=df['RegistrationYear'])\n",
    "plt.title('Год регистрации')\n",
    "plt.grid(True)\n",
    "plt.ylim(1900, 2022)\n",
    "plt.show()"
   ]
  },
  {
   "cell_type": "markdown",
   "metadata": {},
   "source": [
    "В данных имеются вбросы - нулевые значения мощности и цены, также есть аномально высокие значение мощности в тысячи лошадиных сил, не достижимые для автомобильных двигателей. Кроме того, имеются автомобили начала прошлого века, что может как быть вбросом, так и раритетным авто. "
   ]
  },
  {
   "cell_type": "markdown",
   "metadata": {},
   "source": [
    "- Судя по объявлениям в Интернете, за автомобиль, проданный на металлолом, можно выручить от 15000 рублей (около 187 евро) то есть продавать автомобиль (средним весом от 1 до 1,5 тонн) дешевле хотя бы 200 евро даже на запчасти не выглядит логичным. Владельцам проще и выгоднее было бы продать такие авто как металлолом. Поэтому отбросим значения цены ниже 200 евро;\n",
    "- Кроме того, вряд ли старинные редкие раритетные автомобили продаются на общих площадках, а не на специализированных. Скорее всего, это вбросы. Чтобы удалить вбросы и оставить только просто старые автомобили, возьмем объявления с годом автомобиля не ниже 1980. Тем более модели в дальшейнем придется работать с обычными авто, которых продается несоизмеримо больше;\n",
    "- Также удалим значения мощности выше 600 л.с. (с учетом самых мощных спорткаров). Кроме того, удаляем совсем низкие значени мощности ниже 9 (мощность самой маленькой малолитражки в мире по данным сайта cars.ru);\n",
    "- Кроме того, есть зависшие объявления, которые в продаже несколько лет. Удалим эти объявления как вбросы. 99 процентов объявлений попадают в месячный интервал, отбросим остальное. "
   ]
  },
  {
   "cell_type": "code",
   "execution_count": 55,
   "metadata": {},
   "outputs": [],
   "source": [
    "df = df[(df['Price']>=200)\\\n",
    "       &(df['RegistrationYear']>=1970)&(df['RegistrationYear']<2017)\\\n",
    "       &(df['Power'] <=1600)&(df['Power']>=9)\\\n",
    "       &(df['DaysInSale']<=31)].reset_index()"
   ]
  },
  {
   "cell_type": "code",
   "execution_count": 56,
   "metadata": {
    "scrolled": true
   },
   "outputs": [
    {
     "name": "stdout",
     "output_type": "stream",
     "text": [
      "<class 'pandas.core.frame.DataFrame'>\n",
      "RangeIndex: 289996 entries, 0 to 289995\n",
      "Data columns (total 13 columns):\n",
      " #   Column            Non-Null Count   Dtype         \n",
      "---  ------            --------------   -----         \n",
      " 0   DateCrawled       289996 non-null  datetime64[ns]\n",
      " 1   Price             289996 non-null  int64         \n",
      " 2   VehicleType       289996 non-null  object        \n",
      " 3   RegistrationYear  289996 non-null  int64         \n",
      " 4   Gearbox           289996 non-null  object        \n",
      " 5   Power             289996 non-null  int64         \n",
      " 6   Model             289996 non-null  object        \n",
      " 7   Kilometer         289996 non-null  int64         \n",
      " 8   FuelType          289996 non-null  object        \n",
      " 9   Brand             289996 non-null  object        \n",
      " 10  Repaired          289996 non-null  object        \n",
      " 11  NumberOfPictures  289996 non-null  int64         \n",
      " 12  DaysInSale        289996 non-null  int64         \n",
      "dtypes: datetime64[ns](1), int64(6), object(6)\n",
      "memory usage: 28.8+ MB\n"
     ]
    }
   ],
   "source": [
    "df.info()"
   ]
  },
  {
   "cell_type": "markdown",
   "metadata": {},
   "source": [
    "### 1.4 Подготовка признаков для обучени моделей"
   ]
  },
  {
   "cell_type": "code",
   "execution_count": 57,
   "metadata": {},
   "outputs": [
    {
     "name": "stdout",
     "output_type": "stream",
     "text": [
      "Размер обучающей выборки 217497\n",
      "Размер тестовой выборки 72499\n"
     ]
    }
   ],
   "source": [
    "# выделим признаки, на которых будет обучаться модель, и целевой признак\n",
    "\n",
    "features = df.drop(['Price'], axis=1) \n",
    "target = df['Price'] # целевой признак \n",
    "\n",
    "# Разделим данные на обучающую и тестовую выборки\n",
    "\n",
    "features_train, features_test, target_train, target_test = train_test_split\\\n",
    "(features, target, test_size=0.25, random_state=12345)\n",
    "\n",
    "feature_names = features_train.columns.values.tolist ()\n",
    "# выводим размеры полученных выборок\n",
    "print('Размер обучающей выборки', len(features_train))\n",
    "print('Размер тестовой выборки', len(features_test))"
   ]
  },
  {
   "cell_type": "markdown",
   "metadata": {},
   "source": [
    "Среди признаков имеются категориальные, а количественные признаки имеют разный масштаб. Отмасштабируем численные признаки с помощью StandartScaler. Для кодирования категориальных будем использовать OrdinalEncoder(). "
   ]
  },
  {
   "cell_type": "code",
   "execution_count": 58,
   "metadata": {},
   "outputs": [],
   "source": [
    "# Выделяем категориальные признаки\n",
    "category = ['VehicleType', 'Gearbox', 'Model', 'FuelType', 'Brand', 'Repaired']\n",
    "# Выделяем признаки, которые необходимо масштабировать\n",
    "numeric= ['RegistrationYear','Power','Kilometer','NumberOfPictures']\n",
    "\n",
    "# Создаем преобразователь \n",
    "col_transformer = ColumnTransformer(transformers=[\n",
    "                                   ('oe', OrdinalEncoder(), category), ('ss', StandardScaler(), numeric)])\n",
    "\n",
    "# Обучаем преобразователь на тренировочной выборке\n",
    "col_transformer.fit(features_train)\n",
    "\n",
    "# Преобразовываем обучающую выборку\n",
    "features_train = pd.DataFrame(col_transformer.transform(features_train), index=features_train.index)\n",
    "# Преобразовываем тестовую выборку\n",
    "features_test = pd.DataFrame(col_transformer.transform(features_test), index=features_test.index)\n"
   ]
  },
  {
   "cell_type": "code",
   "execution_count": 59,
   "metadata": {},
   "outputs": [
    {
     "data": {
      "text/html": [
       "<div>\n",
       "<style scoped>\n",
       "    .dataframe tbody tr th:only-of-type {\n",
       "        vertical-align: middle;\n",
       "    }\n",
       "\n",
       "    .dataframe tbody tr th {\n",
       "        vertical-align: top;\n",
       "    }\n",
       "\n",
       "    .dataframe thead th {\n",
       "        text-align: right;\n",
       "    }\n",
       "</style>\n",
       "<table border=\"1\" class=\"dataframe\">\n",
       "  <thead>\n",
       "    <tr style=\"text-align: right;\">\n",
       "      <th></th>\n",
       "      <th>0</th>\n",
       "      <th>1</th>\n",
       "      <th>2</th>\n",
       "      <th>3</th>\n",
       "      <th>4</th>\n",
       "      <th>5</th>\n",
       "      <th>6</th>\n",
       "      <th>7</th>\n",
       "      <th>8</th>\n",
       "      <th>9</th>\n",
       "    </tr>\n",
       "  </thead>\n",
       "  <tbody>\n",
       "    <tr>\n",
       "      <th>198207</th>\n",
       "      <td>5.0</td>\n",
       "      <td>1.0</td>\n",
       "      <td>128.0</td>\n",
       "      <td>6.0</td>\n",
       "      <td>10.0</td>\n",
       "      <td>0.0</td>\n",
       "      <td>0.813101</td>\n",
       "      <td>-0.892096</td>\n",
       "      <td>-1.053229</td>\n",
       "      <td>0.0</td>\n",
       "    </tr>\n",
       "    <tr>\n",
       "      <th>224965</th>\n",
       "      <td>4.0</td>\n",
       "      <td>1.0</td>\n",
       "      <td>11.0</td>\n",
       "      <td>2.0</td>\n",
       "      <td>2.0</td>\n",
       "      <td>0.0</td>\n",
       "      <td>0.006823</td>\n",
       "      <td>0.477856</td>\n",
       "      <td>0.589727</td>\n",
       "      <td>0.0</td>\n",
       "    </tr>\n",
       "    <tr>\n",
       "      <th>16850</th>\n",
       "      <td>5.0</td>\n",
       "      <td>1.0</td>\n",
       "      <td>120.0</td>\n",
       "      <td>6.0</td>\n",
       "      <td>30.0</td>\n",
       "      <td>0.0</td>\n",
       "      <td>0.329334</td>\n",
       "      <td>-0.790618</td>\n",
       "      <td>0.589727</td>\n",
       "      <td>0.0</td>\n",
       "    </tr>\n",
       "    <tr>\n",
       "      <th>224849</th>\n",
       "      <td>5.0</td>\n",
       "      <td>1.0</td>\n",
       "      <td>166.0</td>\n",
       "      <td>6.0</td>\n",
       "      <td>6.0</td>\n",
       "      <td>1.0</td>\n",
       "      <td>0.974356</td>\n",
       "      <td>-0.790618</td>\n",
       "      <td>-2.696185</td>\n",
       "      <td>0.0</td>\n",
       "    </tr>\n",
       "    <tr>\n",
       "      <th>39324</th>\n",
       "      <td>5.0</td>\n",
       "      <td>1.0</td>\n",
       "      <td>101.0</td>\n",
       "      <td>6.0</td>\n",
       "      <td>31.0</td>\n",
       "      <td>0.0</td>\n",
       "      <td>0.329334</td>\n",
       "      <td>-1.145791</td>\n",
       "      <td>-1.053229</td>\n",
       "      <td>0.0</td>\n",
       "    </tr>\n",
       "  </tbody>\n",
       "</table>\n",
       "</div>"
      ],
      "text/plain": [
       "          0    1      2    3     4    5         6         7         8    9\n",
       "198207  5.0  1.0  128.0  6.0  10.0  0.0  0.813101 -0.892096 -1.053229  0.0\n",
       "224965  4.0  1.0   11.0  2.0   2.0  0.0  0.006823  0.477856  0.589727  0.0\n",
       "16850   5.0  1.0  120.0  6.0  30.0  0.0  0.329334 -0.790618  0.589727  0.0\n",
       "224849  5.0  1.0  166.0  6.0   6.0  1.0  0.974356 -0.790618 -2.696185  0.0\n",
       "39324   5.0  1.0  101.0  6.0  31.0  0.0  0.329334 -1.145791 -1.053229  0.0"
      ]
     },
     "execution_count": 59,
     "metadata": {},
     "output_type": "execute_result"
    }
   ],
   "source": [
    "features_train.head()\n",
    "                                       "
   ]
  },
  {
   "cell_type": "code",
   "execution_count": 60,
   "metadata": {},
   "outputs": [
    {
     "data": {
      "text/html": [
       "<div>\n",
       "<style scoped>\n",
       "    .dataframe tbody tr th:only-of-type {\n",
       "        vertical-align: middle;\n",
       "    }\n",
       "\n",
       "    .dataframe tbody tr th {\n",
       "        vertical-align: top;\n",
       "    }\n",
       "\n",
       "    .dataframe thead th {\n",
       "        text-align: right;\n",
       "    }\n",
       "</style>\n",
       "<table border=\"1\" class=\"dataframe\">\n",
       "  <thead>\n",
       "    <tr style=\"text-align: right;\">\n",
       "      <th></th>\n",
       "      <th>0</th>\n",
       "      <th>1</th>\n",
       "      <th>2</th>\n",
       "      <th>3</th>\n",
       "      <th>4</th>\n",
       "      <th>5</th>\n",
       "      <th>6</th>\n",
       "      <th>7</th>\n",
       "      <th>8</th>\n",
       "      <th>9</th>\n",
       "    </tr>\n",
       "  </thead>\n",
       "  <tbody>\n",
       "    <tr>\n",
       "      <th>253768</th>\n",
       "      <td>5.0</td>\n",
       "      <td>1.0</td>\n",
       "      <td>101.0</td>\n",
       "      <td>6.0</td>\n",
       "      <td>31.0</td>\n",
       "      <td>0.0</td>\n",
       "      <td>0.006823</td>\n",
       "      <td>-0.350880</td>\n",
       "      <td>0.589727</td>\n",
       "      <td>0.0</td>\n",
       "    </tr>\n",
       "    <tr>\n",
       "      <th>220813</th>\n",
       "      <td>4.0</td>\n",
       "      <td>1.0</td>\n",
       "      <td>166.0</td>\n",
       "      <td>2.0</td>\n",
       "      <td>35.0</td>\n",
       "      <td>0.0</td>\n",
       "      <td>0.813101</td>\n",
       "      <td>-0.029533</td>\n",
       "      <td>-0.779403</td>\n",
       "      <td>0.0</td>\n",
       "    </tr>\n",
       "    <tr>\n",
       "      <th>45293</th>\n",
       "      <td>4.0</td>\n",
       "      <td>1.0</td>\n",
       "      <td>116.0</td>\n",
       "      <td>6.0</td>\n",
       "      <td>38.0</td>\n",
       "      <td>0.0</td>\n",
       "      <td>-0.960711</td>\n",
       "      <td>-0.350880</td>\n",
       "      <td>0.589727</td>\n",
       "      <td>0.0</td>\n",
       "    </tr>\n",
       "    <tr>\n",
       "      <th>265548</th>\n",
       "      <td>4.0</td>\n",
       "      <td>1.0</td>\n",
       "      <td>65.0</td>\n",
       "      <td>6.0</td>\n",
       "      <td>22.0</td>\n",
       "      <td>0.0</td>\n",
       "      <td>-0.476944</td>\n",
       "      <td>0.055032</td>\n",
       "      <td>0.589727</td>\n",
       "      <td>0.0</td>\n",
       "    </tr>\n",
       "    <tr>\n",
       "      <th>176173</th>\n",
       "      <td>4.0</td>\n",
       "      <td>0.0</td>\n",
       "      <td>166.0</td>\n",
       "      <td>6.0</td>\n",
       "      <td>10.0</td>\n",
       "      <td>0.0</td>\n",
       "      <td>-0.960711</td>\n",
       "      <td>0.427117</td>\n",
       "      <td>0.589727</td>\n",
       "      <td>0.0</td>\n",
       "    </tr>\n",
       "  </tbody>\n",
       "</table>\n",
       "</div>"
      ],
      "text/plain": [
       "          0    1      2    3     4    5         6         7         8    9\n",
       "253768  5.0  1.0  101.0  6.0  31.0  0.0  0.006823 -0.350880  0.589727  0.0\n",
       "220813  4.0  1.0  166.0  2.0  35.0  0.0  0.813101 -0.029533 -0.779403  0.0\n",
       "45293   4.0  1.0  116.0  6.0  38.0  0.0 -0.960711 -0.350880  0.589727  0.0\n",
       "265548  4.0  1.0   65.0  6.0  22.0  0.0 -0.476944  0.055032  0.589727  0.0\n",
       "176173  4.0  0.0  166.0  6.0  10.0  0.0 -0.960711  0.427117  0.589727  0.0"
      ]
     },
     "execution_count": 60,
     "metadata": {},
     "output_type": "execute_result"
    }
   ],
   "source": [
    "features_test.head()"
   ]
  },
  {
   "cell_type": "markdown",
   "metadata": {},
   "source": [
    "В рамках предобработки данных:\n",
    "- заполнены пропуски в данных. Там, где это возможно, пропуски заполнены самым распространенным значением, в других случаях пропуски заполнены значением \"неизвестно\" (во избежание потери большого числа данных);\n",
    "- удалены аномальные значения цены, года выпуска и мощности;\n",
    "- удалены столбцы с личными даннными, не влияющими на целевую переменную (почтовый индекс, дата создания, дата загрузки, дата последней активности, месяц регистрации автомобиля);\n",
    "- в результате датафрейм сократился на 15%;\n",
    "- выделены целевой и обучающие признаки;\n",
    "- данные разделены на обучающую и тестовую выборки;\n",
    "- категориальные признаки закодированы с помощью OneHotEncoder();\n",
    "- количественные признаки отмасштабированы."
   ]
  },
  {
   "cell_type": "markdown",
   "metadata": {},
   "source": [
    "## 2 Обучение моделей"
   ]
  },
  {
   "cell_type": "markdown",
   "metadata": {},
   "source": [
    "Построим и обучим несколько моделей - дерево решений, случайный лес, модели градиентного бустинга с помощью LightGBM и CatBoost. "
   ]
  },
  {
   "cell_type": "markdown",
   "metadata": {},
   "source": [
    "### 2.1 Дерево решений"
   ]
  },
  {
   "cell_type": "code",
   "execution_count": 61,
   "metadata": {},
   "outputs": [
    {
     "name": "stdout",
     "output_type": "stream",
     "text": [
      "Время предсказания модели Дерево решений (секунды): 0.03\n",
      "Лучшее значение глубины для Дерева решений: {'max_depth': 9}\n",
      "RMSE модели Дерево решений: 2008.7840402758502\n"
     ]
    }
   ],
   "source": [
    "\n",
    "# Инициируем модель Дерево решений\n",
    "model_dt=DecisionTreeRegressor(random_state=12345)\n",
    "parameters= {'max_depth':range(1,10)}                                    \n",
    "grid_dt=GridSearchCV(model_dt,param_grid=parameters,\n",
    "                     scoring='neg_mean_squared_error',\n",
    "                     cv=5) \n",
    "\n",
    "# Обучаем модель\n",
    "# start = time.time()\n",
    "model_dt_final = grid_dt.fit(features_train, target_train)\n",
    "#end = time.time()\n",
    "#learn_time_dt = round(end-start, 4)\n",
    "\n",
    "# Делаем предсказания\n",
    "start = time.time()\n",
    "model_dt_final.predict(features_train)\n",
    "end = time.time()\n",
    "predict_time_dt=round(end-start,2)\n",
    "print('Время предсказания модели Дерево решений (секунды):', predict_time_dt)\n",
    "\n",
    "# Считаем RMSE \n",
    "dt_rmse = ((model_dt_final.best_score_)*(-1))**0.5\n",
    "print('Лучшее значение глубины для Дерева решений:', model_dt_final.best_params_)\n",
    "print('RMSE модели Дерево решений:', dt_rmse)\n"
   ]
  },
  {
   "cell_type": "code",
   "execution_count": 62,
   "metadata": {},
   "outputs": [
    {
     "name": "stdout",
     "output_type": "stream",
     "text": [
      "Время обучения модели Дерево решений с лучшими гиперпараметрами (секунды): 0.5769\n"
     ]
    }
   ],
   "source": [
    "# Отдельно замерим, сколько будет обучаться модель на лучших параметрах\n",
    "start = time.time()\n",
    "model_dt_final = DecisionTreeRegressor(random_state=12345, max_depth=9)\n",
    "model_dt_final.fit(features_train, target_train)\n",
    "end = time.time()\n",
    "learn_time_dt = round(end-start, 4)\n",
    "print('Время обучения модели Дерево решений с лучшими гиперпараметрами (секунды):', learn_time_dt)"
   ]
  },
  {
   "cell_type": "markdown",
   "metadata": {},
   "source": [
    "### 2.2 Случайный лес"
   ]
  },
  {
   "cell_type": "code",
   "execution_count": 63,
   "metadata": {},
   "outputs": [
    {
     "name": "stdout",
     "output_type": "stream",
     "text": [
      "Время предсказания модели  Случайный лес (секунды): 3.25\n",
      "Лучшее значение параметров для Случайного леса: {'max_depth': 50, 'n_estimators': 40}\n",
      "RMSE модели Случайный лес: 1594.551448481221\n"
     ]
    }
   ],
   "source": [
    "# Инициируем модель \n",
    "model_rf = RandomForestRegressor(random_state=12345)\n",
    "parameters= {'max_depth':(10,50),\n",
    "             'n_estimators':range(10, 50, 10)}                                 \n",
    "grid_rf=GridSearchCV(model_rf,param_grid=parameters,\n",
    "                     scoring='neg_mean_squared_error',\n",
    "                     cv=5) \n",
    "\n",
    "# Обучаем модель\n",
    "model_rf_final = grid_rf.fit(features_train, target_train)\n",
    "\n",
    "# Делаем предсказания\n",
    "start = time.time()\n",
    "model_rf_final.predict(features_train)\n",
    "end = time.time()\n",
    "predict_time_rf=round(end-start,2)\n",
    "print('Время предсказания модели  Случайный лес (секунды):', predict_time_rf)\n",
    "\n",
    "# Считаем RMSE \n",
    "rf_rmse = ((model_rf_final.best_score_)*(-1))**0.5\n",
    "print('Лучшее значение параметров для Случайного леса:', model_rf_final.best_params_)\n",
    "print('RMSE модели Случайный лес:', rf_rmse)\n"
   ]
  },
  {
   "cell_type": "code",
   "execution_count": 64,
   "metadata": {},
   "outputs": [
    {
     "name": "stdout",
     "output_type": "stream",
     "text": [
      "Время обучения модели Случайный лес с лучшими гиперпараметрами (секунды): 22.45425\n"
     ]
    }
   ],
   "source": [
    "# Отдельно замерим, сколько будет обучаться модель на лучших параметрах\n",
    "start = time.time()\n",
    "model_rf_final = RandomForestRegressor(random_state=12345, max_depth=50, n_estimators=40)\n",
    "model_rf_final.fit(features_train, target_train)\n",
    "end = time.time()\n",
    "learn_time_rf = round(end-start, 5)\n",
    "print('Время обучения модели Случайный лес с лучшими гиперпараметрами (секунды):', learn_time_rf)"
   ]
  },
  {
   "cell_type": "markdown",
   "metadata": {},
   "source": [
    "### 2.3  LightGBM"
   ]
  },
  {
   "cell_type": "code",
   "execution_count": 65,
   "metadata": {},
   "outputs": [
    {
     "name": "stdout",
     "output_type": "stream",
     "text": [
      "Время предсказания модели   LightGBM (секунды): 1.6\n",
      "Лучшее значение параметров для  LightGBM: {'max_depth': 15}\n",
      "RMSE модели LightGBM: 1675.1653505296624\n"
     ]
    }
   ],
   "source": [
    "model_lgb = lgb.LGBMRegressor()\n",
    "parameters = {'max_depth':[5, 10, 15]}\n",
    "             #'learning_rate':[0.01, 0.1]}\n",
    "\n",
    "grid_lgbm = GridSearchCV(model_lgb,param_grid=parameters,\n",
    "                         scoring='neg_mean_squared_error',\n",
    "                         cv=3)                        \n",
    "                          \n",
    "# Обучаем модель\n",
    "\n",
    "model_lgb_final = grid_lgbm.fit(features_train, target_train)\n",
    "\n",
    "# Делаем предсказания\n",
    "start = time.time()\n",
    "model_lgb_final.predict(features_train)\n",
    "end = time.time()\n",
    "predict_time_lgbm = round(end-start,2)\n",
    "print('Время предсказания модели   LightGBM (секунды):', predict_time_lgbm)\n",
    "\n",
    "# Считаем RMSE \n",
    "lgbm_rmse = ((model_lgb_final.best_score_)*(-1))**0.5\n",
    "print('Лучшее значение параметров для  LightGBM:', model_lgb_final.best_params_)\n",
    "print('RMSE модели LightGBM:', lgbm_rmse)"
   ]
  },
  {
   "cell_type": "code",
   "execution_count": 66,
   "metadata": {},
   "outputs": [
    {
     "name": "stdout",
     "output_type": "stream",
     "text": [
      "Время обучения модели LightGBM с лучшими гиперпараметрами (секунды): 345.4867\n"
     ]
    }
   ],
   "source": [
    "# Отдельно замерим, сколько будет обучаться модель на лучших параметрах\n",
    "start = time.time()\n",
    "model_lgb_final = lgb.LGBMRegressor(max_depth=15)\n",
    "model_lgb_final.fit(features_train, target_train)\n",
    "end = time.time()\n",
    "learn_time_lgbm = round(end-start, 4)\n",
    "print('Время обучения модели LightGBM с лучшими гиперпараметрами (секунды):', learn_time_lgbm)"
   ]
  },
  {
   "cell_type": "markdown",
   "metadata": {},
   "source": [
    "### 2.4 CatBoost"
   ]
  },
  {
   "cell_type": "code",
   "execution_count": 67,
   "metadata": {},
   "outputs": [
    {
     "name": "stdout",
     "output_type": "stream",
     "text": [
      "Learning rate set to 0.5\n",
      "0:\tlearn: 3319.0745770\ttotal: 72ms\tremaining: 2.09s\n",
      "29:\tlearn: 1430.4565091\ttotal: 18.2s\tremaining: 0us\n",
      "Время предсказания модели   CatBoost (секунды): 0.08\n",
      "Лучшее значение параметров для  CatBoost: {'max_depth': 15}\n",
      "RMSE модели CatBoost: 1605.2909325949008\n"
     ]
    }
   ],
   "source": [
    "model_cat= CatBoostRegressor(loss_function='RMSE', iterations=30, random_state=12345)\n",
    "parameters = {'max_depth':[5, 10, 15]}\n",
    "            # 'learning_rate':[0.01, 0.1, 0.15]}\n",
    "\n",
    "# Встроенный подбор параметров самого catboost считал дольше при таком же качестве, оставила GridSearchCV\n",
    "grid_cat= GridSearchCV(model_cat,param_grid=parameters,\n",
    "                     scoring='neg_mean_squared_error',\n",
    "                    cv=5) \n",
    "# Обучаем модель\n",
    "model_cat_final = grid_cat.fit(features_train, target_train)\n",
    "\n",
    "# Делаем предсказания\n",
    "start = time.time()\n",
    "model_cat_final.predict(features_train)\n",
    "end = time.time()\n",
    "predict_time_cat = round(end-start,2)\n",
    "print('Время предсказания модели   CatBoost (секунды):', predict_time_cat)\n",
    "\n",
    "# Считаем RMSE \n",
    "cat_rmse = ((model_cat_final.best_score_)*(-1))**0.5\n",
    "print('Лучшее значение параметров для  CatBoost:', model_cat_final.best_params_)\n",
    "print('RMSE модели CatBoost:', cat_rmse)\n"
   ]
  },
  {
   "cell_type": "code",
   "execution_count": 68,
   "metadata": {},
   "outputs": [
    {
     "name": "stdout",
     "output_type": "stream",
     "text": [
      "0:\tlearn: 4073.4385766\ttotal: 646ms\tremaining: 18.7s\n",
      "29:\tlearn: 1613.7309615\ttotal: 18.1s\tremaining: 0us\n",
      "Время обучения модели CatBoost с лучшими гиперпараметрами (секунды): 19.02816\n"
     ]
    }
   ],
   "source": [
    "# Отдельно замерим, сколько будет обучаться модель на лучших параметрах\n",
    "start = time.time()\n",
    "model_cat_final = CatBoostRegressor(loss_function='RMSE', iterations=30, random_state=12345,\\\n",
    "                                    learning_rate=0.15, max_depth=15)\n",
    "model_cat_final.fit(features_train, target_train)\n",
    "end = time.time()\n",
    "learn_time_cat = round(end-start, 5)\n",
    "print('Время обучения модели CatBoost с лучшими гиперпараметрами (секунды):', learn_time_cat)"
   ]
  },
  {
   "cell_type": "markdown",
   "metadata": {},
   "source": [
    "Выводы: обучены четыре модели, наилучшее значение точности показала модель Случайный лес"
   ]
  },
  {
   "cell_type": "markdown",
   "metadata": {},
   "source": [
    "## 3. Анализ моделей"
   ]
  },
  {
   "cell_type": "markdown",
   "metadata": {},
   "source": [
    "### 3.1 Сравнение моделей"
   ]
  },
  {
   "cell_type": "code",
   "execution_count": 71,
   "metadata": {},
   "outputs": [
    {
     "data": {
      "text/html": [
       "<div>\n",
       "<style scoped>\n",
       "    .dataframe tbody tr th:only-of-type {\n",
       "        vertical-align: middle;\n",
       "    }\n",
       "\n",
       "    .dataframe tbody tr th {\n",
       "        vertical-align: top;\n",
       "    }\n",
       "\n",
       "    .dataframe thead th {\n",
       "        text-align: right;\n",
       "    }\n",
       "</style>\n",
       "<table border=\"1\" class=\"dataframe\">\n",
       "  <thead>\n",
       "    <tr style=\"text-align: right;\">\n",
       "      <th></th>\n",
       "      <th>RMSE</th>\n",
       "      <th>Время обучения</th>\n",
       "      <th>Время предсказания</th>\n",
       "    </tr>\n",
       "  </thead>\n",
       "  <tbody>\n",
       "    <tr>\n",
       "      <th>Дерево решений</th>\n",
       "      <td>2008.784040</td>\n",
       "      <td>0.57690</td>\n",
       "      <td>0.03</td>\n",
       "    </tr>\n",
       "    <tr>\n",
       "      <th>Случайный лес</th>\n",
       "      <td>1548.846971</td>\n",
       "      <td>22.45425</td>\n",
       "      <td>3.25</td>\n",
       "    </tr>\n",
       "    <tr>\n",
       "      <th>LightGBM</th>\n",
       "      <td>1675.165351</td>\n",
       "      <td>345.48670</td>\n",
       "      <td>1.60</td>\n",
       "    </tr>\n",
       "    <tr>\n",
       "      <th>CatBoost</th>\n",
       "      <td>1605.290933</td>\n",
       "      <td>19.02816</td>\n",
       "      <td>0.08</td>\n",
       "    </tr>\n",
       "  </tbody>\n",
       "</table>\n",
       "</div>"
      ],
      "text/plain": [
       "                       RMSE  Время обучения  Время предсказания\n",
       "Дерево решений  2008.784040         0.57690                0.03\n",
       "Случайный лес   1548.846971        22.45425                3.25\n",
       "LightGBM        1675.165351       345.48670                1.60\n",
       "CatBoost        1605.290933        19.02816                0.08"
      ]
     },
     "execution_count": 71,
     "metadata": {},
     "output_type": "execute_result"
    }
   ],
   "source": [
    "# Собираем показатели моделей и время их обучения и предсказаний\n",
    "final_df = pd.DataFrame({'RMSE':[dt_rmse, rf_rmse, lgbm_rmse, cat_rmse],\\\n",
    "                         'Время обучения':[learn_time_dt, learn_time_rf, learn_time_lgbm, learn_time_cat],\\\n",
    "                         'Время предсказания':[predict_time_dt, predict_time_rf,\\\n",
    "                                               predict_time_lgbm, predict_time_cat]},\\\n",
    "                         index=['Дерево решений','Случайный лес','LightGBM', 'CatBoost'])\n",
    "final_df"
   ]
  },
  {
   "cell_type": "markdown",
   "metadata": {},
   "source": [
    "В результате обучения четырех моделей:\n",
    "- наивысшую скорость работы показала модель Дерево решений, однако низкая точность не позволет назвать ее оптимальной;\n",
    "- точность модели LightGBM выше, однако и скорость обучения у нее максимальная;\n",
    "- наилучшие показатели у модели Случайный лес и CatBoost, при этом модель Случайный лес достигает бОльшей точности.\n",
    "\n",
    "По итогам сравнения предлагается остановится на модели Случайный лес, как на самой точной."
   ]
  },
  {
   "cell_type": "markdown",
   "metadata": {},
   "source": [
    "### 3.2 Проверка лушей модели на тестовой выборке"
   ]
  },
  {
   "cell_type": "markdown",
   "metadata": {},
   "source": [
    "Проверим выбранную модель на тестовой выборке"
   ]
  },
  {
   "cell_type": "code",
   "execution_count": 72,
   "metadata": {},
   "outputs": [
    {
     "name": "stdout",
     "output_type": "stream",
     "text": [
      "RMSE модели Случайный лес: 1548.846971469874\n"
     ]
    }
   ],
   "source": [
    "model_rf = RandomForestRegressor(random_state=12345, max_depth=50, n_estimators=40)\n",
    "model_rf.fit(features_train, target_train)\n",
    "predictions_test = model_rf.predict(features_test)\n",
    "\n",
    "rf_rmse = mean_squared_error(target_test, predictions_test) ** .5\n",
    "print('RMSE модели Случайный лес:', rf_rmse)"
   ]
  },
  {
   "cell_type": "markdown",
   "metadata": {},
   "source": [
    "Качество предсказаний на тестовой выборке не ниже, чем на тренировочной"
   ]
  },
  {
   "cell_type": "markdown",
   "metadata": {},
   "source": [
    "Выводы:\n",
    "- В ходе исследования заполнены пропуски в данных. Там, где это возможно, пропуски заполнены самым распространенным значением, в других случаях пропуски заполнены значением \"неизвестно\" (во избежание потери большого числа данных);\n",
    "- в данные добавлен столбец с числом дней в продаже;\n",
    "- в данных присутствовали аномальные значения цены, года выпуска и мощности, а также аномальные значения длительности размещения объвления. Аномалии удалены;\n",
    "- удалены столбцы с личными даннными, не влияющими на целевую переменную (почтовый индекс, дата создания, дата загрузки, дата последней активности, месяц регистрации автомобиля);\n",
    "- в результате датафрейм сократился на 15%;\n",
    "- выделены целевой и обучающие признаки;\n",
    "- данные разделены на обучающую и тестовую выборки;\n",
    "- категориальные признаки закодированы с помощью OneHotEncoder();\n",
    "- количественные признаки отмасштабированы;\n",
    "- построены модели Дерево решений, случаный лес, LightGBM и Catboost.\n",
    "- по результатам в качестве оптимальной отобрана модель Случайный лес;\n",
    "- выбранная модель проверена на тестовой выборке.\n"
   ]
  },
  {
   "cell_type": "code",
   "execution_count": null,
   "metadata": {},
   "outputs": [],
   "source": []
  }
 ],
 "metadata": {
  "ExecuteTimeLog": [
   {
    "duration": 388,
    "start_time": "2023-02-17T12:57:04.974Z"
   },
   {
    "duration": 2883,
    "start_time": "2023-02-17T12:57:05.530Z"
   },
   {
    "duration": 140,
    "start_time": "2023-02-17T13:03:38.420Z"
   },
   {
    "duration": 135,
    "start_time": "2023-02-17T13:03:54.511Z"
   },
   {
    "duration": 25,
    "start_time": "2023-02-17T13:09:07.400Z"
   },
   {
    "duration": 86,
    "start_time": "2023-02-17T13:09:16.887Z"
   },
   {
    "duration": 75,
    "start_time": "2023-02-17T13:09:50.831Z"
   },
   {
    "duration": 65,
    "start_time": "2023-02-17T13:12:51.867Z"
   },
   {
    "duration": 20,
    "start_time": "2023-02-17T13:13:39.087Z"
   },
   {
    "duration": 15,
    "start_time": "2023-02-17T13:14:11.513Z"
   },
   {
    "duration": 24,
    "start_time": "2023-02-17T13:14:23.594Z"
   },
   {
    "duration": 7,
    "start_time": "2023-02-17T13:14:44.759Z"
   },
   {
    "duration": 30,
    "start_time": "2023-02-17T13:15:00.157Z"
   },
   {
    "duration": 57,
    "start_time": "2023-02-17T13:16:00.999Z"
   },
   {
    "duration": 31,
    "start_time": "2023-02-17T13:16:10.831Z"
   },
   {
    "duration": 31,
    "start_time": "2023-02-17T13:17:13.191Z"
   },
   {
    "duration": 735,
    "start_time": "2023-02-17T13:19:23.003Z"
   },
   {
    "duration": 30,
    "start_time": "2023-02-17T13:19:31.531Z"
   },
   {
    "duration": 23,
    "start_time": "2023-02-17T13:20:55.683Z"
   },
   {
    "duration": 80,
    "start_time": "2023-02-17T13:21:04.960Z"
   },
   {
    "duration": 766,
    "start_time": "2023-02-17T13:33:05.436Z"
   },
   {
    "duration": 12,
    "start_time": "2023-02-17T13:33:21.937Z"
   },
   {
    "duration": 804,
    "start_time": "2023-02-17T13:33:44.634Z"
   },
   {
    "duration": 131,
    "start_time": "2023-02-17T13:33:45.440Z"
   },
   {
    "duration": 31,
    "start_time": "2023-02-17T13:33:48.181Z"
   },
   {
    "duration": 93,
    "start_time": "2023-02-17T13:33:51.089Z"
   },
   {
    "duration": 93,
    "start_time": "2023-02-17T13:33:52.077Z"
   },
   {
    "duration": 39,
    "start_time": "2023-02-17T13:33:54.478Z"
   },
   {
    "duration": 33,
    "start_time": "2023-02-17T13:33:55.058Z"
   },
   {
    "duration": 33,
    "start_time": "2023-02-17T13:33:55.355Z"
   },
   {
    "duration": 30,
    "start_time": "2023-02-17T13:33:56.162Z"
   },
   {
    "duration": 25,
    "start_time": "2023-02-17T13:33:57.851Z"
   },
   {
    "duration": 35,
    "start_time": "2023-02-17T13:33:58.505Z"
   },
   {
    "duration": 35,
    "start_time": "2023-02-17T13:34:38.939Z"
   },
   {
    "duration": 33,
    "start_time": "2023-02-17T13:34:47.338Z"
   },
   {
    "duration": 26,
    "start_time": "2023-02-17T13:35:39.449Z"
   },
   {
    "duration": 12,
    "start_time": "2023-02-17T13:36:52.459Z"
   },
   {
    "duration": 776,
    "start_time": "2023-02-17T13:36:58.538Z"
   },
   {
    "duration": 122,
    "start_time": "2023-02-17T13:36:59.315Z"
   },
   {
    "duration": 33,
    "start_time": "2023-02-17T13:36:59.439Z"
   },
   {
    "duration": 85,
    "start_time": "2023-02-17T13:37:01.727Z"
   },
   {
    "duration": 76,
    "start_time": "2023-02-17T13:37:01.982Z"
   },
   {
    "duration": 31,
    "start_time": "2023-02-17T13:37:02.887Z"
   },
   {
    "duration": 33,
    "start_time": "2023-02-17T13:37:03.215Z"
   },
   {
    "duration": 35,
    "start_time": "2023-02-17T13:37:03.591Z"
   },
   {
    "duration": 29,
    "start_time": "2023-02-17T13:37:04.096Z"
   },
   {
    "duration": 17,
    "start_time": "2023-02-17T13:59:42.536Z"
   },
   {
    "duration": 8,
    "start_time": "2023-02-17T14:01:57.918Z"
   },
   {
    "duration": 178,
    "start_time": "2023-02-17T14:02:21.881Z"
   },
   {
    "duration": 2,
    "start_time": "2023-02-17T14:02:58.869Z"
   },
   {
    "duration": 737,
    "start_time": "2023-02-17T14:02:59.271Z"
   },
   {
    "duration": 129,
    "start_time": "2023-02-17T14:03:00.009Z"
   },
   {
    "duration": 381,
    "start_time": "2023-02-17T14:03:03.781Z"
   },
   {
    "duration": 408,
    "start_time": "2023-02-17T14:05:47.610Z"
   },
   {
    "duration": 401,
    "start_time": "2023-02-17T14:06:28.472Z"
   },
   {
    "duration": 2,
    "start_time": "2023-02-17T14:06:33.577Z"
   },
   {
    "duration": 785,
    "start_time": "2023-02-17T14:06:34.001Z"
   },
   {
    "duration": 119,
    "start_time": "2023-02-17T14:06:36.888Z"
   },
   {
    "duration": 387,
    "start_time": "2023-02-17T14:06:38.200Z"
   },
   {
    "duration": 435,
    "start_time": "2023-02-17T14:06:40.410Z"
   },
   {
    "duration": 419,
    "start_time": "2023-02-17T14:06:44.170Z"
   },
   {
    "duration": 467,
    "start_time": "2023-02-17T14:07:11.779Z"
   },
   {
    "duration": 418,
    "start_time": "2023-02-17T14:07:12.679Z"
   },
   {
    "duration": 409,
    "start_time": "2023-02-20T12:08:57.208Z"
   },
   {
    "duration": 986,
    "start_time": "2023-02-20T12:08:57.729Z"
   },
   {
    "duration": 120,
    "start_time": "2023-02-20T12:09:02.167Z"
   },
   {
    "duration": 1206,
    "start_time": "2023-02-20T12:09:04.102Z"
   },
   {
    "duration": 407,
    "start_time": "2023-02-20T12:09:36.491Z"
   },
   {
    "duration": 441,
    "start_time": "2023-02-20T12:09:37.784Z"
   },
   {
    "duration": 399,
    "start_time": "2023-02-20T12:09:38.964Z"
   },
   {
    "duration": 412,
    "start_time": "2023-02-20T12:11:21.242Z"
   },
   {
    "duration": 373,
    "start_time": "2023-02-20T12:11:24.170Z"
   },
   {
    "duration": 29,
    "start_time": "2023-02-20T12:11:25.625Z"
   },
   {
    "duration": 77,
    "start_time": "2023-02-20T12:11:30.924Z"
   },
   {
    "duration": 40,
    "start_time": "2023-02-20T12:15:10.624Z"
   },
   {
    "duration": 31,
    "start_time": "2023-02-20T12:22:45.119Z"
   },
   {
    "duration": 31,
    "start_time": "2023-02-20T12:22:46.390Z"
   },
   {
    "duration": 29,
    "start_time": "2023-02-20T12:22:47.135Z"
   },
   {
    "duration": 32,
    "start_time": "2023-02-20T12:22:49.961Z"
   },
   {
    "duration": 51,
    "start_time": "2023-02-20T12:22:50.477Z"
   },
   {
    "duration": 104,
    "start_time": "2023-02-20T12:23:06.294Z"
   },
   {
    "duration": 168,
    "start_time": "2023-02-20T12:23:24.499Z"
   },
   {
    "duration": 151,
    "start_time": "2023-02-20T12:23:43.068Z"
   },
   {
    "duration": 68,
    "start_time": "2023-02-20T12:23:50.420Z"
   },
   {
    "duration": 46,
    "start_time": "2023-02-20T12:32:51.771Z"
   },
   {
    "duration": 112,
    "start_time": "2023-02-20T12:32:53.713Z"
   },
   {
    "duration": 45,
    "start_time": "2023-02-20T12:41:48.718Z"
   },
   {
    "duration": 111,
    "start_time": "2023-02-20T12:41:49.250Z"
   },
   {
    "duration": 95,
    "start_time": "2023-02-20T12:43:20.918Z"
   },
   {
    "duration": 2,
    "start_time": "2023-02-20T12:43:29.203Z"
   },
   {
    "duration": 720,
    "start_time": "2023-02-20T12:43:29.725Z"
   },
   {
    "duration": 115,
    "start_time": "2023-02-20T12:43:31.286Z"
   },
   {
    "duration": 342,
    "start_time": "2023-02-20T12:43:33.796Z"
   },
   {
    "duration": 401,
    "start_time": "2023-02-20T12:43:35.081Z"
   },
   {
    "duration": 376,
    "start_time": "2023-02-20T12:43:35.484Z"
   },
   {
    "duration": 25,
    "start_time": "2023-02-20T12:43:35.862Z"
   },
   {
    "duration": 75,
    "start_time": "2023-02-20T12:43:38.604Z"
   },
   {
    "duration": 31,
    "start_time": "2023-02-20T12:43:44.485Z"
   },
   {
    "duration": 32,
    "start_time": "2023-02-20T12:43:45.301Z"
   },
   {
    "duration": 29,
    "start_time": "2023-02-20T12:43:50.570Z"
   },
   {
    "duration": 33,
    "start_time": "2023-02-20T12:43:59.251Z"
   },
   {
    "duration": 59,
    "start_time": "2023-02-20T12:44:06.044Z"
   },
   {
    "duration": 144,
    "start_time": "2023-02-20T12:44:06.702Z"
   },
   {
    "duration": 58,
    "start_time": "2023-02-20T12:46:22.154Z"
   },
   {
    "duration": 9,
    "start_time": "2023-02-20T12:47:23.640Z"
   },
   {
    "duration": 8,
    "start_time": "2023-02-20T12:47:39.103Z"
   },
   {
    "duration": 6,
    "start_time": "2023-02-20T12:50:35.636Z"
   },
   {
    "duration": 248,
    "start_time": "2023-02-20T12:51:49.272Z"
   },
   {
    "duration": 16,
    "start_time": "2023-02-20T12:52:05.356Z"
   },
   {
    "duration": 12,
    "start_time": "2023-02-20T12:53:33.974Z"
   },
   {
    "duration": 14,
    "start_time": "2023-02-20T12:54:23.575Z"
   },
   {
    "duration": 18,
    "start_time": "2023-02-20T12:55:41.873Z"
   },
   {
    "duration": 19,
    "start_time": "2023-02-20T12:55:53.100Z"
   },
   {
    "duration": 1291,
    "start_time": "2023-02-20T12:59:55.058Z"
   },
   {
    "duration": 1312,
    "start_time": "2023-02-20T13:00:31.100Z"
   },
   {
    "duration": 2081,
    "start_time": "2023-02-20T13:05:01.373Z"
   },
   {
    "duration": 12,
    "start_time": "2023-02-20T13:05:16.722Z"
   },
   {
    "duration": 331,
    "start_time": "2023-02-20T13:07:40.492Z"
   },
   {
    "duration": 381,
    "start_time": "2023-02-20T13:08:56.752Z"
   },
   {
    "duration": 324,
    "start_time": "2023-02-20T13:09:02.401Z"
   },
   {
    "duration": 309,
    "start_time": "2023-02-20T13:10:01.115Z"
   },
   {
    "duration": 355,
    "start_time": "2023-02-20T13:10:45.001Z"
   },
   {
    "duration": 74,
    "start_time": "2023-02-20T13:16:12.017Z"
   },
   {
    "duration": 21,
    "start_time": "2023-02-20T13:16:54.673Z"
   },
   {
    "duration": 18,
    "start_time": "2023-02-20T13:17:13.576Z"
   },
   {
    "duration": 20,
    "start_time": "2023-02-20T13:17:51.106Z"
   },
   {
    "duration": 18,
    "start_time": "2023-02-20T13:18:19.253Z"
   },
   {
    "duration": 19,
    "start_time": "2023-02-20T13:18:39.016Z"
   },
   {
    "duration": 19,
    "start_time": "2023-02-20T13:19:06.225Z"
   },
   {
    "duration": 13,
    "start_time": "2023-02-20T13:21:18.819Z"
   },
   {
    "duration": 12,
    "start_time": "2023-02-20T13:21:27.975Z"
   },
   {
    "duration": 67,
    "start_time": "2023-02-20T13:22:49.219Z"
   },
   {
    "duration": 16,
    "start_time": "2023-02-20T13:23:00.721Z"
   },
   {
    "duration": 18,
    "start_time": "2023-02-20T13:43:37.224Z"
   },
   {
    "duration": 315,
    "start_time": "2023-02-20T13:43:40.012Z"
   },
   {
    "duration": 44,
    "start_time": "2023-02-20T13:43:56.169Z"
   },
   {
    "duration": 16,
    "start_time": "2023-02-20T13:45:55.177Z"
   },
   {
    "duration": 16,
    "start_time": "2023-02-20T13:46:17.821Z"
   },
   {
    "duration": 16,
    "start_time": "2023-02-20T13:46:33.829Z"
   },
   {
    "duration": 16,
    "start_time": "2023-02-20T13:46:40.926Z"
   },
   {
    "duration": 33,
    "start_time": "2023-02-20T13:46:54.976Z"
   },
   {
    "duration": 66,
    "start_time": "2023-02-20T13:52:12.744Z"
   },
   {
    "duration": 25,
    "start_time": "2023-02-20T13:53:29.172Z"
   },
   {
    "duration": 113,
    "start_time": "2023-02-20T14:01:30.296Z"
   },
   {
    "duration": 1133,
    "start_time": "2023-02-20T14:08:37.884Z"
   },
   {
    "duration": 1124,
    "start_time": "2023-02-20T14:09:00.526Z"
   },
   {
    "duration": 8,
    "start_time": "2023-02-20T14:10:21.975Z"
   },
   {
    "duration": 109,
    "start_time": "2023-02-20T14:10:39.819Z"
   },
   {
    "duration": 108,
    "start_time": "2023-02-20T14:10:57.628Z"
   },
   {
    "duration": 113,
    "start_time": "2023-02-20T14:11:08.037Z"
   },
   {
    "duration": 90,
    "start_time": "2023-02-20T14:11:35.777Z"
   },
   {
    "duration": 91,
    "start_time": "2023-02-20T14:11:50.382Z"
   },
   {
    "duration": 266,
    "start_time": "2023-02-20T14:16:41.579Z"
   },
   {
    "duration": 98,
    "start_time": "2023-02-20T14:18:17.059Z"
   },
   {
    "duration": 120,
    "start_time": "2023-02-20T14:20:02.276Z"
   },
   {
    "duration": 57,
    "start_time": "2023-02-20T14:20:55.747Z"
   },
   {
    "duration": 2,
    "start_time": "2023-02-20T14:21:36.432Z"
   },
   {
    "duration": 772,
    "start_time": "2023-02-20T14:21:36.729Z"
   },
   {
    "duration": 116,
    "start_time": "2023-02-20T14:21:37.503Z"
   },
   {
    "duration": 112,
    "start_time": "2023-02-20T14:21:37.621Z"
   },
   {
    "duration": 364,
    "start_time": "2023-02-20T14:21:37.735Z"
   },
   {
    "duration": 775,
    "start_time": "2023-02-20T14:21:38.101Z"
   },
   {
    "duration": 34,
    "start_time": "2023-02-20T14:21:38.877Z"
   },
   {
    "duration": 74,
    "start_time": "2023-02-20T14:21:38.913Z"
   },
   {
    "duration": 126,
    "start_time": "2023-02-20T14:21:38.989Z"
   },
   {
    "duration": 175,
    "start_time": "2023-02-20T14:21:39.116Z"
   },
   {
    "duration": 68,
    "start_time": "2023-02-20T14:21:39.293Z"
   },
   {
    "duration": 5,
    "start_time": "2023-02-20T14:21:39.362Z"
   },
   {
    "duration": 359,
    "start_time": "2023-02-20T14:21:39.369Z"
   },
   {
    "duration": 16,
    "start_time": "2023-02-20T14:21:39.730Z"
   },
   {
    "duration": 33,
    "start_time": "2023-02-20T14:21:39.747Z"
   },
   {
    "duration": 383,
    "start_time": "2023-02-20T14:21:39.846Z"
   },
   {
    "duration": 15,
    "start_time": "2023-02-20T14:21:40.232Z"
   },
   {
    "duration": 351,
    "start_time": "2023-02-20T14:21:40.249Z"
   },
   {
    "duration": 81,
    "start_time": "2023-02-20T14:23:13.884Z"
   },
   {
    "duration": 60,
    "start_time": "2023-02-20T14:23:20.611Z"
   },
   {
    "duration": 774,
    "start_time": "2023-02-20T14:25:23.079Z"
   },
   {
    "duration": 72,
    "start_time": "2023-02-20T14:25:55.683Z"
   },
   {
    "duration": 809,
    "start_time": "2023-02-20T14:26:00.585Z"
   },
   {
    "duration": 813,
    "start_time": "2023-02-20T14:27:29.580Z"
   },
   {
    "duration": 828,
    "start_time": "2023-02-20T14:27:38.820Z"
   },
   {
    "duration": 841,
    "start_time": "2023-02-20T14:28:16.413Z"
   },
   {
    "duration": 851,
    "start_time": "2023-02-20T14:28:44.637Z"
   },
   {
    "duration": 868,
    "start_time": "2023-02-20T14:29:02.707Z"
   },
   {
    "duration": 18,
    "start_time": "2023-02-20T14:42:41.187Z"
   },
   {
    "duration": 18,
    "start_time": "2023-02-20T14:43:20.067Z"
   },
   {
    "duration": 17,
    "start_time": "2023-02-20T14:44:05.867Z"
   },
   {
    "duration": 837,
    "start_time": "2023-02-20T14:51:20.457Z"
   },
   {
    "duration": 808,
    "start_time": "2023-02-20T14:51:27.738Z"
   },
   {
    "duration": 376,
    "start_time": "2023-02-21T07:02:26.333Z"
   },
   {
    "duration": 1295,
    "start_time": "2023-02-21T07:02:27.243Z"
   },
   {
    "duration": 123,
    "start_time": "2023-02-21T07:02:28.540Z"
   },
   {
    "duration": 153,
    "start_time": "2023-02-21T07:02:29.600Z"
   },
   {
    "duration": 543,
    "start_time": "2023-02-21T07:02:30.066Z"
   },
   {
    "duration": 976,
    "start_time": "2023-02-21T07:02:31.969Z"
   },
   {
    "duration": 44,
    "start_time": "2023-02-21T07:02:33.681Z"
   },
   {
    "duration": 87,
    "start_time": "2023-02-21T07:02:34.784Z"
   },
   {
    "duration": 165,
    "start_time": "2023-02-21T07:02:35.511Z"
   },
   {
    "duration": 183,
    "start_time": "2023-02-21T07:02:40.762Z"
   },
   {
    "duration": 79,
    "start_time": "2023-02-21T07:03:44.969Z"
   },
   {
    "duration": 69,
    "start_time": "2023-02-21T07:04:10.593Z"
   },
   {
    "duration": 72,
    "start_time": "2023-02-21T07:04:55.436Z"
   },
   {
    "duration": 757,
    "start_time": "2023-02-21T07:06:45.004Z"
   },
   {
    "duration": 381,
    "start_time": "2023-02-21T07:06:51.974Z"
   },
   {
    "duration": 321,
    "start_time": "2023-02-21T07:07:17.677Z"
   },
   {
    "duration": 40,
    "start_time": "2023-02-21T07:07:22.825Z"
   },
   {
    "duration": 42,
    "start_time": "2023-02-21T07:07:43.108Z"
   },
   {
    "duration": 34,
    "start_time": "2023-02-21T07:07:48.136Z"
   },
   {
    "duration": 400,
    "start_time": "2023-02-21T07:09:22.703Z"
   },
   {
    "duration": 374,
    "start_time": "2023-02-21T07:09:40.388Z"
   },
   {
    "duration": 509,
    "start_time": "2023-02-21T07:10:10.260Z"
   },
   {
    "duration": 350,
    "start_time": "2023-02-21T07:10:47.890Z"
   },
   {
    "duration": 655,
    "start_time": "2023-02-21T07:10:53.158Z"
   },
   {
    "duration": 753,
    "start_time": "2023-02-21T07:10:59.692Z"
   },
   {
    "duration": 10,
    "start_time": "2023-02-21T07:17:11.241Z"
   },
   {
    "duration": 31,
    "start_time": "2023-02-21T07:17:28.838Z"
   },
   {
    "duration": 19,
    "start_time": "2023-02-21T07:17:39.421Z"
   },
   {
    "duration": 20,
    "start_time": "2023-02-21T07:17:54.353Z"
   },
   {
    "duration": 11,
    "start_time": "2023-02-21T07:18:05.063Z"
   },
   {
    "duration": 17,
    "start_time": "2023-02-21T07:18:10.305Z"
   },
   {
    "duration": 23,
    "start_time": "2023-02-21T07:18:41.819Z"
   },
   {
    "duration": 75,
    "start_time": "2023-02-21T07:20:46.137Z"
   },
   {
    "duration": 34,
    "start_time": "2023-02-21T07:58:00.159Z"
   },
   {
    "duration": 55,
    "start_time": "2023-02-21T07:58:11.911Z"
   },
   {
    "duration": 16,
    "start_time": "2023-02-21T07:58:33.719Z"
   },
   {
    "duration": 12,
    "start_time": "2023-02-21T07:58:59.110Z"
   },
   {
    "duration": 66,
    "start_time": "2023-02-21T07:59:00.959Z"
   },
   {
    "duration": 33,
    "start_time": "2023-02-21T07:59:44.075Z"
   },
   {
    "duration": 33,
    "start_time": "2023-02-21T07:59:48.019Z"
   },
   {
    "duration": 63,
    "start_time": "2023-02-21T07:59:48.470Z"
   },
   {
    "duration": 24,
    "start_time": "2023-02-21T07:59:56.033Z"
   },
   {
    "duration": 67,
    "start_time": "2023-02-21T07:59:56.835Z"
   },
   {
    "duration": 35,
    "start_time": "2023-02-21T08:03:49.666Z"
   },
   {
    "duration": 55,
    "start_time": "2023-02-21T08:03:50.325Z"
   },
   {
    "duration": 77,
    "start_time": "2023-02-21T08:04:08.176Z"
   },
   {
    "duration": 19,
    "start_time": "2023-02-21T08:16:37.932Z"
   },
   {
    "duration": 796,
    "start_time": "2023-02-21T08:17:02.221Z"
   },
   {
    "duration": 873,
    "start_time": "2023-02-21T08:17:03.873Z"
   },
   {
    "duration": 149,
    "start_time": "2023-02-21T08:17:04.748Z"
   },
   {
    "duration": 147,
    "start_time": "2023-02-21T08:17:04.912Z"
   },
   {
    "duration": 480,
    "start_time": "2023-02-21T08:17:05.061Z"
   },
   {
    "duration": 919,
    "start_time": "2023-02-21T08:17:06.019Z"
   },
   {
    "duration": 26,
    "start_time": "2023-02-21T08:17:06.939Z"
   },
   {
    "duration": 93,
    "start_time": "2023-02-21T08:17:06.967Z"
   },
   {
    "duration": 123,
    "start_time": "2023-02-21T08:17:07.062Z"
   },
   {
    "duration": 185,
    "start_time": "2023-02-21T08:17:07.261Z"
   },
   {
    "duration": 63,
    "start_time": "2023-02-21T08:17:07.821Z"
   },
   {
    "duration": 686,
    "start_time": "2023-02-21T08:17:08.775Z"
   },
   {
    "duration": 375,
    "start_time": "2023-02-21T08:17:09.463Z"
   },
   {
    "duration": 22,
    "start_time": "2023-02-21T08:17:13.949Z"
   },
   {
    "duration": 51,
    "start_time": "2023-02-21T08:17:14.433Z"
   },
   {
    "duration": 101,
    "start_time": "2023-02-21T08:17:21.634Z"
   },
   {
    "duration": 45,
    "start_time": "2023-02-21T08:18:07.516Z"
   },
   {
    "duration": 88,
    "start_time": "2023-02-21T08:18:56.448Z"
   },
   {
    "duration": 95,
    "start_time": "2023-02-21T08:23:51.208Z"
   },
   {
    "duration": 13,
    "start_time": "2023-02-21T08:32:55.730Z"
   },
   {
    "duration": 17,
    "start_time": "2023-02-21T08:33:19.925Z"
   },
   {
    "duration": 867,
    "start_time": "2023-02-21T08:33:20.374Z"
   },
   {
    "duration": 146,
    "start_time": "2023-02-21T08:33:21.244Z"
   },
   {
    "duration": 142,
    "start_time": "2023-02-21T08:33:21.392Z"
   },
   {
    "duration": 466,
    "start_time": "2023-02-21T08:33:21.536Z"
   },
   {
    "duration": 1033,
    "start_time": "2023-02-21T08:33:22.873Z"
   },
   {
    "duration": 30,
    "start_time": "2023-02-21T08:33:23.913Z"
   },
   {
    "duration": 96,
    "start_time": "2023-02-21T08:33:23.945Z"
   },
   {
    "duration": 132,
    "start_time": "2023-02-21T08:33:24.336Z"
   },
   {
    "duration": 219,
    "start_time": "2023-02-21T08:33:25.024Z"
   },
   {
    "duration": 72,
    "start_time": "2023-02-21T08:33:26.244Z"
   },
   {
    "duration": 707,
    "start_time": "2023-02-21T08:33:26.955Z"
   },
   {
    "duration": 389,
    "start_time": "2023-02-21T08:33:27.664Z"
   },
   {
    "duration": 27,
    "start_time": "2023-02-21T08:33:32.816Z"
   },
   {
    "duration": 68,
    "start_time": "2023-02-21T08:33:33.169Z"
   },
   {
    "duration": 91,
    "start_time": "2023-02-21T08:33:35.762Z"
   },
   {
    "duration": 91,
    "start_time": "2023-02-21T08:33:40.773Z"
   },
   {
    "duration": 1632,
    "start_time": "2023-02-21T08:33:41.527Z"
   },
   {
    "duration": 14,
    "start_time": "2023-02-21T08:41:03.510Z"
   },
   {
    "duration": 11,
    "start_time": "2023-02-21T08:41:14.129Z"
   },
   {
    "duration": 1861,
    "start_time": "2023-02-21T08:44:31.118Z"
   },
   {
    "duration": 1638,
    "start_time": "2023-02-21T08:44:40.441Z"
   },
   {
    "duration": 1618,
    "start_time": "2023-02-21T08:45:03.318Z"
   },
   {
    "duration": 840,
    "start_time": "2023-02-21T08:45:32.196Z"
   },
   {
    "duration": 13,
    "start_time": "2023-02-21T08:51:08.575Z"
   },
   {
    "duration": 38,
    "start_time": "2023-02-21T08:51:20.582Z"
   },
   {
    "duration": 18,
    "start_time": "2023-02-21T08:52:42.525Z"
   },
   {
    "duration": 24,
    "start_time": "2023-02-21T08:53:17.901Z"
   },
   {
    "duration": 14,
    "start_time": "2023-02-21T08:55:44.098Z"
   },
   {
    "duration": 15,
    "start_time": "2023-02-21T08:57:35.291Z"
   },
   {
    "duration": 63,
    "start_time": "2023-02-21T08:58:17.573Z"
   },
   {
    "duration": 721,
    "start_time": "2023-02-21T08:58:18.033Z"
   },
   {
    "duration": 65,
    "start_time": "2023-02-21T08:59:22.794Z"
   },
   {
    "duration": 26,
    "start_time": "2023-02-21T08:59:23.332Z"
   },
   {
    "duration": 755,
    "start_time": "2023-02-21T08:59:39.591Z"
   },
   {
    "duration": 14,
    "start_time": "2023-02-21T08:59:43.209Z"
   },
   {
    "duration": 15,
    "start_time": "2023-02-21T09:05:42.901Z"
   },
   {
    "duration": 17,
    "start_time": "2023-02-21T09:06:03.897Z"
   },
   {
    "duration": 69,
    "start_time": "2023-02-21T09:11:45.836Z"
   },
   {
    "duration": 23,
    "start_time": "2023-02-21T09:11:47.542Z"
   },
   {
    "duration": 50,
    "start_time": "2023-02-21T09:11:47.921Z"
   },
   {
    "duration": 54,
    "start_time": "2023-02-21T09:11:48.315Z"
   },
   {
    "duration": 10,
    "start_time": "2023-02-21T09:16:18.304Z"
   },
   {
    "duration": 4,
    "start_time": "2023-02-21T09:16:38.065Z"
   },
   {
    "duration": 685,
    "start_time": "2023-02-21T09:16:38.484Z"
   },
   {
    "duration": 123,
    "start_time": "2023-02-21T09:16:39.171Z"
   },
   {
    "duration": 111,
    "start_time": "2023-02-21T09:16:39.298Z"
   },
   {
    "duration": 403,
    "start_time": "2023-02-21T09:16:39.411Z"
   },
   {
    "duration": 781,
    "start_time": "2023-02-21T09:16:40.028Z"
   },
   {
    "duration": 23,
    "start_time": "2023-02-21T09:16:40.811Z"
   },
   {
    "duration": 81,
    "start_time": "2023-02-21T09:16:40.835Z"
   },
   {
    "duration": 115,
    "start_time": "2023-02-21T09:16:40.918Z"
   },
   {
    "duration": 147,
    "start_time": "2023-02-21T09:16:41.217Z"
   },
   {
    "duration": 61,
    "start_time": "2023-02-21T09:16:41.817Z"
   },
   {
    "duration": 594,
    "start_time": "2023-02-21T09:16:42.004Z"
   },
   {
    "duration": 348,
    "start_time": "2023-02-21T09:16:42.600Z"
   },
   {
    "duration": 82,
    "start_time": "2023-02-21T09:16:42.950Z"
   },
   {
    "duration": 20,
    "start_time": "2023-02-21T09:16:43.115Z"
   },
   {
    "duration": 50,
    "start_time": "2023-02-21T09:16:43.417Z"
   },
   {
    "duration": 54,
    "start_time": "2023-02-21T09:16:44.106Z"
   },
   {
    "duration": 63,
    "start_time": "2023-02-21T09:16:44.707Z"
   },
   {
    "duration": 392,
    "start_time": "2023-02-21T09:16:45.056Z"
   },
   {
    "duration": 412,
    "start_time": "2023-02-21T09:17:55.608Z"
   },
   {
    "duration": 16,
    "start_time": "2023-02-21T09:18:55.085Z"
   },
   {
    "duration": 26,
    "start_time": "2023-02-21T09:19:33.297Z"
   },
   {
    "duration": 658,
    "start_time": "2023-02-21T09:21:07.994Z"
   },
   {
    "duration": 17,
    "start_time": "2023-02-21T09:36:06.360Z"
   },
   {
    "duration": 114,
    "start_time": "2023-02-21T09:45:42.067Z"
   },
   {
    "duration": 53,
    "start_time": "2023-02-21T09:45:48.600Z"
   },
   {
    "duration": 527,
    "start_time": "2023-02-21T09:45:49.635Z"
   },
   {
    "duration": 6,
    "start_time": "2023-02-21T09:45:54.485Z"
   },
   {
    "duration": 702,
    "start_time": "2023-02-21T09:45:54.816Z"
   },
   {
    "duration": 146,
    "start_time": "2023-02-21T09:45:55.520Z"
   },
   {
    "duration": 143,
    "start_time": "2023-02-21T09:45:55.668Z"
   },
   {
    "duration": 360,
    "start_time": "2023-02-21T09:45:55.813Z"
   },
   {
    "duration": 750,
    "start_time": "2023-02-21T09:45:56.458Z"
   },
   {
    "duration": 23,
    "start_time": "2023-02-21T09:45:57.210Z"
   },
   {
    "duration": 82,
    "start_time": "2023-02-21T09:45:57.235Z"
   },
   {
    "duration": 107,
    "start_time": "2023-02-21T09:45:57.318Z"
   },
   {
    "duration": 134,
    "start_time": "2023-02-21T09:45:57.500Z"
   },
   {
    "duration": 64,
    "start_time": "2023-02-21T09:45:58.267Z"
   },
   {
    "duration": 659,
    "start_time": "2023-02-21T09:45:58.705Z"
   },
   {
    "duration": 356,
    "start_time": "2023-02-21T09:45:59.593Z"
   },
   {
    "duration": 75,
    "start_time": "2023-02-21T09:46:03.745Z"
   },
   {
    "duration": 31,
    "start_time": "2023-02-21T09:46:23.370Z"
   },
   {
    "duration": 64,
    "start_time": "2023-02-21T09:46:25.627Z"
   },
   {
    "duration": 57,
    "start_time": "2023-02-21T09:46:32.603Z"
   },
   {
    "duration": 15,
    "start_time": "2023-02-21T10:03:52.044Z"
   },
   {
    "duration": 4,
    "start_time": "2023-02-21T10:04:55.220Z"
   },
   {
    "duration": 731,
    "start_time": "2023-02-21T10:04:56.048Z"
   },
   {
    "duration": 124,
    "start_time": "2023-02-21T10:04:56.781Z"
   },
   {
    "duration": 113,
    "start_time": "2023-02-21T10:04:56.955Z"
   },
   {
    "duration": 403,
    "start_time": "2023-02-21T10:04:57.361Z"
   },
   {
    "duration": 899,
    "start_time": "2023-02-21T10:04:58.576Z"
   },
   {
    "duration": 31,
    "start_time": "2023-02-21T10:04:59.477Z"
   },
   {
    "duration": 98,
    "start_time": "2023-02-21T10:04:59.513Z"
   },
   {
    "duration": 119,
    "start_time": "2023-02-21T10:04:59.671Z"
   },
   {
    "duration": 151,
    "start_time": "2023-02-21T10:05:00.307Z"
   },
   {
    "duration": 68,
    "start_time": "2023-02-21T10:05:01.605Z"
   },
   {
    "duration": 702,
    "start_time": "2023-02-21T10:05:02.308Z"
   },
   {
    "duration": 392,
    "start_time": "2023-02-21T10:05:03.012Z"
   },
   {
    "duration": 70,
    "start_time": "2023-02-21T10:05:05.320Z"
   },
   {
    "duration": 28,
    "start_time": "2023-02-21T10:05:09.764Z"
   },
   {
    "duration": 53,
    "start_time": "2023-02-21T10:05:10.324Z"
   },
   {
    "duration": 69,
    "start_time": "2023-02-21T10:05:16.070Z"
   },
   {
    "duration": 78,
    "start_time": "2023-02-21T10:05:22.905Z"
   },
   {
    "duration": 12684,
    "start_time": "2023-02-21T10:05:26.245Z"
   },
   {
    "duration": 16,
    "start_time": "2023-02-21T10:05:51.055Z"
   },
   {
    "duration": 17,
    "start_time": "2023-02-21T10:07:55.480Z"
   },
   {
    "duration": 18,
    "start_time": "2023-02-21T10:09:08.565Z"
   },
   {
    "duration": 7,
    "start_time": "2023-02-21T10:11:25.913Z"
   },
   {
    "duration": 774,
    "start_time": "2023-02-21T10:11:26.261Z"
   },
   {
    "duration": 118,
    "start_time": "2023-02-21T10:11:27.036Z"
   },
   {
    "duration": 132,
    "start_time": "2023-02-21T10:11:27.156Z"
   },
   {
    "duration": 407,
    "start_time": "2023-02-21T10:11:27.301Z"
   },
   {
    "duration": 845,
    "start_time": "2023-02-21T10:11:27.712Z"
   },
   {
    "duration": 48,
    "start_time": "2023-02-21T10:11:28.560Z"
   },
   {
    "duration": 83,
    "start_time": "2023-02-21T10:11:28.611Z"
   },
   {
    "duration": 131,
    "start_time": "2023-02-21T10:11:28.696Z"
   },
   {
    "duration": 168,
    "start_time": "2023-02-21T10:11:28.830Z"
   },
   {
    "duration": 65,
    "start_time": "2023-02-21T10:11:34.936Z"
   },
   {
    "duration": 708,
    "start_time": "2023-02-21T10:11:37.034Z"
   },
   {
    "duration": 459,
    "start_time": "2023-02-21T10:11:37.744Z"
   },
   {
    "duration": 72,
    "start_time": "2023-02-21T10:11:42.713Z"
   },
   {
    "duration": 24,
    "start_time": "2023-02-21T10:11:43.822Z"
   },
   {
    "duration": 69,
    "start_time": "2023-02-21T10:11:44.515Z"
   },
   {
    "duration": 67,
    "start_time": "2023-02-21T10:11:51.134Z"
   },
   {
    "duration": 49,
    "start_time": "2023-02-21T10:12:23.629Z"
   },
   {
    "duration": 74,
    "start_time": "2023-02-21T10:12:24.678Z"
   },
   {
    "duration": 64,
    "start_time": "2023-02-21T10:12:26.912Z"
   },
   {
    "duration": 146,
    "start_time": "2023-02-21T10:12:32.959Z"
   },
   {
    "duration": 3287,
    "start_time": "2023-02-21T10:12:36.416Z"
   },
   {
    "duration": 416,
    "start_time": "2023-02-21T10:14:00.707Z"
   },
   {
    "duration": 79,
    "start_time": "2023-02-21T10:14:06.113Z"
   },
   {
    "duration": 3334,
    "start_time": "2023-02-21T10:14:07.004Z"
   },
   {
    "duration": 126,
    "start_time": "2023-02-21T10:20:04.113Z"
   },
   {
    "duration": 64,
    "start_time": "2023-02-21T10:20:13.715Z"
   },
   {
    "duration": 669,
    "start_time": "2023-02-21T10:20:14.623Z"
   },
   {
    "duration": 436,
    "start_time": "2023-02-21T10:20:19.487Z"
   },
   {
    "duration": 35,
    "start_time": "2023-02-21T10:20:27.016Z"
   },
   {
    "duration": 87,
    "start_time": "2023-02-21T10:20:28.084Z"
   },
   {
    "duration": 45,
    "start_time": "2023-02-21T10:20:36.112Z"
   },
   {
    "duration": 4,
    "start_time": "2023-02-21T10:20:44.973Z"
   },
   {
    "duration": 823,
    "start_time": "2023-02-21T10:20:45.309Z"
   },
   {
    "duration": 127,
    "start_time": "2023-02-21T10:20:46.134Z"
   },
   {
    "duration": 113,
    "start_time": "2023-02-21T10:20:46.263Z"
   },
   {
    "duration": 385,
    "start_time": "2023-02-21T10:20:46.387Z"
   },
   {
    "duration": 872,
    "start_time": "2023-02-21T10:20:47.069Z"
   },
   {
    "duration": 31,
    "start_time": "2023-02-21T10:20:47.944Z"
   },
   {
    "duration": 104,
    "start_time": "2023-02-21T10:20:47.977Z"
   },
   {
    "duration": 128,
    "start_time": "2023-02-21T10:20:48.914Z"
   },
   {
    "duration": 179,
    "start_time": "2023-02-21T10:20:49.908Z"
   },
   {
    "duration": 82,
    "start_time": "2023-02-21T10:20:51.685Z"
   },
   {
    "duration": 973,
    "start_time": "2023-02-21T10:20:53.165Z"
   },
   {
    "duration": 493,
    "start_time": "2023-02-21T10:20:54.141Z"
   },
   {
    "duration": 74,
    "start_time": "2023-02-21T10:20:59.422Z"
   },
   {
    "duration": 35,
    "start_time": "2023-02-21T10:21:01.339Z"
   },
   {
    "duration": 73,
    "start_time": "2023-02-21T10:21:02.559Z"
   },
   {
    "duration": 41,
    "start_time": "2023-02-21T10:21:30.120Z"
   },
   {
    "duration": 91,
    "start_time": "2023-02-21T10:21:31.025Z"
   },
   {
    "duration": 79,
    "start_time": "2023-02-21T10:21:32.142Z"
   },
   {
    "duration": 171,
    "start_time": "2023-02-21T10:21:35.585Z"
   },
   {
    "duration": 3726,
    "start_time": "2023-02-21T10:21:38.218Z"
   },
   {
    "duration": 433,
    "start_time": "2023-02-21T10:33:59.874Z"
   },
   {
    "duration": 102,
    "start_time": "2023-02-21T10:36:55.533Z"
   },
   {
    "duration": 3357,
    "start_time": "2023-02-21T10:36:57.533Z"
   },
   {
    "duration": 43,
    "start_time": "2023-02-21T10:37:49.778Z"
   },
   {
    "duration": 90,
    "start_time": "2023-02-21T10:37:50.324Z"
   },
   {
    "duration": 3,
    "start_time": "2023-02-21T10:38:01.713Z"
   },
   {
    "duration": 758,
    "start_time": "2023-02-21T10:38:02.073Z"
   },
   {
    "duration": 119,
    "start_time": "2023-02-21T10:38:02.833Z"
   },
   {
    "duration": 148,
    "start_time": "2023-02-21T10:38:02.954Z"
   },
   {
    "duration": 425,
    "start_time": "2023-02-21T10:38:03.105Z"
   },
   {
    "duration": 871,
    "start_time": "2023-02-21T10:38:03.532Z"
   },
   {
    "duration": 36,
    "start_time": "2023-02-21T10:38:04.406Z"
   },
   {
    "duration": 80,
    "start_time": "2023-02-21T10:38:04.444Z"
   },
   {
    "duration": 122,
    "start_time": "2023-02-21T10:38:04.525Z"
   },
   {
    "duration": 168,
    "start_time": "2023-02-21T10:38:04.649Z"
   },
   {
    "duration": 73,
    "start_time": "2023-02-21T10:38:05.516Z"
   },
   {
    "duration": 751,
    "start_time": "2023-02-21T10:38:05.795Z"
   },
   {
    "duration": 423,
    "start_time": "2023-02-21T10:38:06.549Z"
   },
   {
    "duration": 71,
    "start_time": "2023-02-21T10:38:07.433Z"
   },
   {
    "duration": 45,
    "start_time": "2023-02-21T10:38:09.634Z"
   },
   {
    "duration": 80,
    "start_time": "2023-02-21T10:38:15.264Z"
   },
   {
    "duration": 70,
    "start_time": "2023-02-21T10:38:16.328Z"
   },
   {
    "duration": 72,
    "start_time": "2023-02-21T10:38:17.041Z"
   },
   {
    "duration": 13,
    "start_time": "2023-02-21T10:40:32.049Z"
   },
   {
    "duration": 718,
    "start_time": "2023-02-21T10:40:41.129Z"
   },
   {
    "duration": 112,
    "start_time": "2023-02-21T10:40:41.849Z"
   },
   {
    "duration": 119,
    "start_time": "2023-02-21T10:40:41.962Z"
   },
   {
    "duration": 443,
    "start_time": "2023-02-21T10:40:42.086Z"
   },
   {
    "duration": 849,
    "start_time": "2023-02-21T10:40:42.531Z"
   },
   {
    "duration": 34,
    "start_time": "2023-02-21T10:40:43.386Z"
   },
   {
    "duration": 88,
    "start_time": "2023-02-21T10:40:43.422Z"
   },
   {
    "duration": 118,
    "start_time": "2023-02-21T10:40:43.512Z"
   },
   {
    "duration": 167,
    "start_time": "2023-02-21T10:40:43.633Z"
   },
   {
    "duration": 72,
    "start_time": "2023-02-21T10:40:43.805Z"
   },
   {
    "duration": 755,
    "start_time": "2023-02-21T10:40:43.885Z"
   },
   {
    "duration": 458,
    "start_time": "2023-02-21T10:40:44.642Z"
   },
   {
    "duration": 92,
    "start_time": "2023-02-21T10:40:45.103Z"
   },
   {
    "duration": 33,
    "start_time": "2023-02-21T10:40:45.197Z"
   },
   {
    "duration": 0,
    "start_time": "2023-02-21T10:40:45.233Z"
   },
   {
    "duration": 93,
    "start_time": "2023-02-21T10:40:45.397Z"
   },
   {
    "duration": 38,
    "start_time": "2023-02-21T10:43:00.765Z"
   },
   {
    "duration": 81,
    "start_time": "2023-02-21T10:43:03.752Z"
   },
   {
    "duration": 8,
    "start_time": "2023-02-21T10:45:37.663Z"
   },
   {
    "duration": 66,
    "start_time": "2023-02-21T10:46:15.351Z"
   },
   {
    "duration": 66,
    "start_time": "2023-02-21T10:47:02.382Z"
   },
   {
    "duration": 25,
    "start_time": "2023-02-21T10:47:41.984Z"
   },
   {
    "duration": 25,
    "start_time": "2023-02-21T10:54:56.719Z"
   },
   {
    "duration": 22,
    "start_time": "2023-02-21T10:56:22.903Z"
   },
   {
    "duration": 50,
    "start_time": "2023-02-21T11:02:20.779Z"
   },
   {
    "duration": 25,
    "start_time": "2023-02-21T11:02:21.768Z"
   },
   {
    "duration": 80,
    "start_time": "2023-02-21T11:02:29.762Z"
   },
   {
    "duration": 56,
    "start_time": "2023-02-21T11:04:11.999Z"
   },
   {
    "duration": 70,
    "start_time": "2023-02-21T11:04:12.592Z"
   },
   {
    "duration": 5,
    "start_time": "2023-02-21T11:04:18.566Z"
   },
   {
    "duration": 820,
    "start_time": "2023-02-21T11:04:18.897Z"
   },
   {
    "duration": 109,
    "start_time": "2023-02-21T11:04:19.719Z"
   },
   {
    "duration": 119,
    "start_time": "2023-02-21T11:04:19.830Z"
   },
   {
    "duration": 386,
    "start_time": "2023-02-21T11:04:19.950Z"
   },
   {
    "duration": 793,
    "start_time": "2023-02-21T11:04:20.338Z"
   },
   {
    "duration": 28,
    "start_time": "2023-02-21T11:04:21.133Z"
   },
   {
    "duration": 88,
    "start_time": "2023-02-21T11:04:21.163Z"
   },
   {
    "duration": 112,
    "start_time": "2023-02-21T11:04:21.253Z"
   },
   {
    "duration": 155,
    "start_time": "2023-02-21T11:04:21.424Z"
   },
   {
    "duration": 83,
    "start_time": "2023-02-21T11:04:22.979Z"
   },
   {
    "duration": 717,
    "start_time": "2023-02-21T11:04:23.221Z"
   },
   {
    "duration": 416,
    "start_time": "2023-02-21T11:04:23.940Z"
   },
   {
    "duration": 102,
    "start_time": "2023-02-21T11:04:24.358Z"
   },
   {
    "duration": 38,
    "start_time": "2023-02-21T11:04:24.479Z"
   },
   {
    "duration": 70,
    "start_time": "2023-02-21T11:04:27.085Z"
   },
   {
    "duration": 55,
    "start_time": "2023-02-21T11:05:07.925Z"
   },
   {
    "duration": 79,
    "start_time": "2023-02-21T11:05:08.562Z"
   },
   {
    "duration": 52,
    "start_time": "2023-02-21T11:05:18.502Z"
   },
   {
    "duration": 77,
    "start_time": "2023-02-21T11:05:23.399Z"
   },
   {
    "duration": 651,
    "start_time": "2023-02-21T11:05:23.803Z"
   },
   {
    "duration": 420,
    "start_time": "2023-02-21T11:05:24.457Z"
   },
   {
    "duration": 67,
    "start_time": "2023-02-21T11:05:26.038Z"
   },
   {
    "duration": 65,
    "start_time": "2023-02-21T11:05:26.662Z"
   },
   {
    "duration": 732,
    "start_time": "2023-02-21T11:05:37.561Z"
   },
   {
    "duration": 115,
    "start_time": "2023-02-21T11:05:38.294Z"
   },
   {
    "duration": 118,
    "start_time": "2023-02-21T11:05:38.411Z"
   },
   {
    "duration": 394,
    "start_time": "2023-02-21T11:05:38.664Z"
   },
   {
    "duration": 818,
    "start_time": "2023-02-21T11:05:40.000Z"
   },
   {
    "duration": 26,
    "start_time": "2023-02-21T11:05:40.820Z"
   },
   {
    "duration": 86,
    "start_time": "2023-02-21T11:05:40.848Z"
   },
   {
    "duration": 120,
    "start_time": "2023-02-21T11:05:41.084Z"
   },
   {
    "duration": 144,
    "start_time": "2023-02-21T11:05:41.610Z"
   },
   {
    "duration": 72,
    "start_time": "2023-02-21T11:05:42.461Z"
   },
   {
    "duration": 741,
    "start_time": "2023-02-21T11:05:42.731Z"
   },
   {
    "duration": 427,
    "start_time": "2023-02-21T11:05:43.474Z"
   },
   {
    "duration": 93,
    "start_time": "2023-02-21T11:05:44.262Z"
   },
   {
    "duration": 35,
    "start_time": "2023-02-21T11:05:45.912Z"
   },
   {
    "duration": 72,
    "start_time": "2023-02-21T11:05:47.977Z"
   },
   {
    "duration": 62,
    "start_time": "2023-02-21T11:06:09.106Z"
   },
   {
    "duration": 53,
    "start_time": "2023-02-21T11:06:25.399Z"
   },
   {
    "duration": 81,
    "start_time": "2023-02-21T11:06:28.022Z"
   },
   {
    "duration": 3,
    "start_time": "2023-02-21T11:06:39.062Z"
   },
   {
    "duration": 710,
    "start_time": "2023-02-21T11:06:40.101Z"
   },
   {
    "duration": 123,
    "start_time": "2023-02-21T11:06:40.813Z"
   },
   {
    "duration": 113,
    "start_time": "2023-02-21T11:06:40.938Z"
   },
   {
    "duration": 385,
    "start_time": "2023-02-21T11:06:41.052Z"
   },
   {
    "duration": 790,
    "start_time": "2023-02-21T11:06:42.559Z"
   },
   {
    "duration": 31,
    "start_time": "2023-02-21T11:06:43.864Z"
   },
   {
    "duration": 71,
    "start_time": "2023-02-21T11:06:44.661Z"
   },
   {
    "duration": 113,
    "start_time": "2023-02-21T11:06:44.935Z"
   },
   {
    "duration": 158,
    "start_time": "2023-02-21T11:06:45.521Z"
   },
   {
    "duration": 66,
    "start_time": "2023-02-21T11:06:46.362Z"
   },
   {
    "duration": 691,
    "start_time": "2023-02-21T11:06:46.633Z"
   },
   {
    "duration": 417,
    "start_time": "2023-02-21T11:06:47.326Z"
   },
   {
    "duration": 70,
    "start_time": "2023-02-21T11:06:48.400Z"
   },
   {
    "duration": 60,
    "start_time": "2023-02-21T11:06:48.860Z"
   },
   {
    "duration": 79,
    "start_time": "2023-02-21T11:06:49.304Z"
   },
   {
    "duration": 76,
    "start_time": "2023-02-21T11:06:49.664Z"
   },
   {
    "duration": 128,
    "start_time": "2023-02-21T11:06:50.737Z"
   },
   {
    "duration": 4135,
    "start_time": "2023-02-21T11:06:52.907Z"
   },
   {
    "duration": 23,
    "start_time": "2023-02-21T11:07:49.136Z"
   },
   {
    "duration": 30,
    "start_time": "2023-02-21T11:08:28.124Z"
   },
   {
    "duration": 25,
    "start_time": "2023-02-21T11:12:58.017Z"
   },
   {
    "duration": 16,
    "start_time": "2023-02-21T11:13:59.840Z"
   },
   {
    "duration": 33,
    "start_time": "2023-02-21T11:14:00.861Z"
   },
   {
    "duration": 34,
    "start_time": "2023-02-21T11:14:06.670Z"
   },
   {
    "duration": 15,
    "start_time": "2023-02-21T11:14:15.463Z"
   },
   {
    "duration": 760,
    "start_time": "2023-02-21T11:14:20.717Z"
   },
   {
    "duration": 124,
    "start_time": "2023-02-21T11:14:21.479Z"
   },
   {
    "duration": 126,
    "start_time": "2023-02-21T11:14:21.605Z"
   },
   {
    "duration": 420,
    "start_time": "2023-02-21T11:14:21.733Z"
   },
   {
    "duration": 889,
    "start_time": "2023-02-21T11:14:22.155Z"
   },
   {
    "duration": 26,
    "start_time": "2023-02-21T11:14:23.046Z"
   },
   {
    "duration": 106,
    "start_time": "2023-02-21T11:14:23.074Z"
   },
   {
    "duration": 148,
    "start_time": "2023-02-21T11:14:23.188Z"
   },
   {
    "duration": 173,
    "start_time": "2023-02-21T11:14:23.338Z"
   },
   {
    "duration": 90,
    "start_time": "2023-02-21T11:14:23.514Z"
   },
   {
    "duration": 756,
    "start_time": "2023-02-21T11:14:23.606Z"
   },
   {
    "duration": 446,
    "start_time": "2023-02-21T11:14:24.364Z"
   },
   {
    "duration": 86,
    "start_time": "2023-02-21T11:14:25.078Z"
   },
   {
    "duration": 44,
    "start_time": "2023-02-21T11:14:25.748Z"
   },
   {
    "duration": 68,
    "start_time": "2023-02-21T11:14:28.317Z"
   },
   {
    "duration": 74,
    "start_time": "2023-02-21T11:14:31.828Z"
   },
   {
    "duration": 440,
    "start_time": "2023-02-21T11:26:10.860Z"
   },
   {
    "duration": 3,
    "start_time": "2023-02-21T11:30:49.316Z"
   },
   {
    "duration": 675,
    "start_time": "2023-02-21T11:30:50.121Z"
   },
   {
    "duration": 112,
    "start_time": "2023-02-21T11:30:50.880Z"
   },
   {
    "duration": 105,
    "start_time": "2023-02-21T11:30:51.449Z"
   },
   {
    "duration": 396,
    "start_time": "2023-02-21T11:30:51.798Z"
   },
   {
    "duration": 799,
    "start_time": "2023-02-21T11:30:52.700Z"
   },
   {
    "duration": 24,
    "start_time": "2023-02-21T11:30:53.501Z"
   },
   {
    "duration": 72,
    "start_time": "2023-02-21T11:30:53.569Z"
   },
   {
    "duration": 103,
    "start_time": "2023-02-21T11:30:53.877Z"
   },
   {
    "duration": 140,
    "start_time": "2023-02-21T11:30:54.320Z"
   },
   {
    "duration": 68,
    "start_time": "2023-02-21T11:30:54.993Z"
   },
   {
    "duration": 748,
    "start_time": "2023-02-21T11:30:55.297Z"
   },
   {
    "duration": 403,
    "start_time": "2023-02-21T11:30:56.047Z"
   },
   {
    "duration": 80,
    "start_time": "2023-02-21T11:30:56.452Z"
   },
   {
    "duration": 34,
    "start_time": "2023-02-21T11:30:56.534Z"
   },
   {
    "duration": 69,
    "start_time": "2023-02-21T11:31:01.480Z"
   },
   {
    "duration": 95,
    "start_time": "2023-02-21T11:31:05.502Z"
   },
   {
    "duration": 75,
    "start_time": "2023-02-21T11:31:09.899Z"
   },
   {
    "duration": 17,
    "start_time": "2023-02-21T11:31:15.877Z"
   },
   {
    "duration": 11,
    "start_time": "2023-02-21T11:33:06.065Z"
   },
   {
    "duration": 14,
    "start_time": "2023-02-21T11:33:10.202Z"
   },
   {
    "duration": 11,
    "start_time": "2023-02-21T11:34:38.316Z"
   },
   {
    "duration": 697,
    "start_time": "2023-02-21T11:34:48.060Z"
   },
   {
    "duration": 112,
    "start_time": "2023-02-21T11:34:48.759Z"
   },
   {
    "duration": 123,
    "start_time": "2023-02-21T11:34:48.872Z"
   },
   {
    "duration": 383,
    "start_time": "2023-02-21T11:34:48.997Z"
   },
   {
    "duration": 755,
    "start_time": "2023-02-21T11:34:49.923Z"
   },
   {
    "duration": 29,
    "start_time": "2023-02-21T11:34:50.679Z"
   },
   {
    "duration": 76,
    "start_time": "2023-02-21T11:34:50.710Z"
   },
   {
    "duration": 102,
    "start_time": "2023-02-21T11:34:50.826Z"
   },
   {
    "duration": 141,
    "start_time": "2023-02-21T11:34:51.243Z"
   },
   {
    "duration": 67,
    "start_time": "2023-02-21T11:34:51.880Z"
   },
   {
    "duration": 670,
    "start_time": "2023-02-21T11:34:52.077Z"
   },
   {
    "duration": 430,
    "start_time": "2023-02-21T11:34:52.749Z"
   },
   {
    "duration": 74,
    "start_time": "2023-02-21T11:34:53.190Z"
   },
   {
    "duration": 33,
    "start_time": "2023-02-21T11:34:53.516Z"
   },
   {
    "duration": 70,
    "start_time": "2023-02-21T11:34:53.836Z"
   },
   {
    "duration": 69,
    "start_time": "2023-02-21T11:34:54.084Z"
   },
   {
    "duration": 77,
    "start_time": "2023-02-21T11:34:55.298Z"
   },
   {
    "duration": 11,
    "start_time": "2023-02-21T11:34:57.647Z"
   },
   {
    "duration": 11,
    "start_time": "2023-02-21T11:36:10.771Z"
   },
   {
    "duration": 679,
    "start_time": "2023-02-21T11:38:04.420Z"
   },
   {
    "duration": 103,
    "start_time": "2023-02-21T11:38:05.101Z"
   },
   {
    "duration": 112,
    "start_time": "2023-02-21T11:38:05.205Z"
   },
   {
    "duration": 372,
    "start_time": "2023-02-21T11:38:05.763Z"
   },
   {
    "duration": 729,
    "start_time": "2023-02-21T11:38:06.827Z"
   },
   {
    "duration": 35,
    "start_time": "2023-02-21T11:38:07.558Z"
   },
   {
    "duration": 106,
    "start_time": "2023-02-21T11:38:07.872Z"
   },
   {
    "duration": 113,
    "start_time": "2023-02-21T11:38:08.186Z"
   },
   {
    "duration": 142,
    "start_time": "2023-02-21T11:38:08.679Z"
   },
   {
    "duration": 71,
    "start_time": "2023-02-21T11:38:10.824Z"
   },
   {
    "duration": 652,
    "start_time": "2023-02-21T11:38:11.238Z"
   },
   {
    "duration": 377,
    "start_time": "2023-02-21T11:38:11.968Z"
   },
   {
    "duration": 66,
    "start_time": "2023-02-21T11:38:13.715Z"
   },
   {
    "duration": 33,
    "start_time": "2023-02-21T11:38:14.624Z"
   },
   {
    "duration": 76,
    "start_time": "2023-02-21T11:38:15.679Z"
   },
   {
    "duration": 70,
    "start_time": "2023-02-21T11:38:17.256Z"
   },
   {
    "duration": 77,
    "start_time": "2023-02-21T11:38:18.427Z"
   },
   {
    "duration": 12332,
    "start_time": "2023-02-21T11:38:20.118Z"
   },
   {
    "duration": 15,
    "start_time": "2023-02-21T11:43:45.212Z"
   },
   {
    "duration": 25,
    "start_time": "2023-02-21T11:44:19.084Z"
   },
   {
    "duration": 3,
    "start_time": "2023-02-21T12:15:14.188Z"
   },
   {
    "duration": 736,
    "start_time": "2023-02-21T12:15:15.213Z"
   },
   {
    "duration": 110,
    "start_time": "2023-02-21T12:15:16.287Z"
   },
   {
    "duration": 101,
    "start_time": "2023-02-21T12:15:17.401Z"
   },
   {
    "duration": 379,
    "start_time": "2023-02-21T12:15:18.168Z"
   },
   {
    "duration": 832,
    "start_time": "2023-02-21T12:15:21.630Z"
   },
   {
    "duration": 36,
    "start_time": "2023-02-21T12:15:22.463Z"
   },
   {
    "duration": 70,
    "start_time": "2023-02-21T12:15:24.358Z"
   },
   {
    "duration": 107,
    "start_time": "2023-02-21T12:15:25.972Z"
   },
   {
    "duration": 143,
    "start_time": "2023-02-21T12:15:30.999Z"
   },
   {
    "duration": 63,
    "start_time": "2023-02-21T12:15:35.914Z"
   },
   {
    "duration": 652,
    "start_time": "2023-02-21T12:15:38.917Z"
   },
   {
    "duration": 405,
    "start_time": "2023-02-21T12:15:41.593Z"
   },
   {
    "duration": 66,
    "start_time": "2023-02-21T12:15:46.116Z"
   },
   {
    "duration": 34,
    "start_time": "2023-02-21T12:15:47.075Z"
   },
   {
    "duration": 67,
    "start_time": "2023-02-21T12:15:55.074Z"
   },
   {
    "duration": 123,
    "start_time": "2023-02-21T12:15:58.900Z"
   },
   {
    "duration": 11530,
    "start_time": "2023-02-21T12:16:02.717Z"
   },
   {
    "duration": 4,
    "start_time": "2023-02-21T12:50:16.665Z"
   },
   {
    "duration": 687,
    "start_time": "2023-02-21T12:50:16.956Z"
   },
   {
    "duration": 118,
    "start_time": "2023-02-21T12:50:17.645Z"
   },
   {
    "duration": 111,
    "start_time": "2023-02-21T12:50:17.765Z"
   },
   {
    "duration": 373,
    "start_time": "2023-02-21T12:50:17.878Z"
   },
   {
    "duration": 779,
    "start_time": "2023-02-21T12:50:18.253Z"
   },
   {
    "duration": 23,
    "start_time": "2023-02-21T12:50:19.034Z"
   },
   {
    "duration": 74,
    "start_time": "2023-02-21T12:50:19.059Z"
   },
   {
    "duration": 126,
    "start_time": "2023-02-21T12:50:19.134Z"
   },
   {
    "duration": 153,
    "start_time": "2023-02-21T12:50:19.262Z"
   },
   {
    "duration": 62,
    "start_time": "2023-02-21T12:50:19.564Z"
   },
   {
    "duration": 647,
    "start_time": "2023-02-21T12:50:19.727Z"
   },
   {
    "duration": 408,
    "start_time": "2023-02-21T12:50:20.376Z"
   },
   {
    "duration": 167,
    "start_time": "2023-02-21T12:50:20.786Z"
   },
   {
    "duration": 56,
    "start_time": "2023-02-21T12:50:20.956Z"
   },
   {
    "duration": 73,
    "start_time": "2023-02-21T12:50:21.161Z"
   },
   {
    "duration": 256,
    "start_time": "2023-02-21T12:50:21.974Z"
   },
   {
    "duration": 11841,
    "start_time": "2023-02-21T12:50:23.425Z"
   },
   {
    "duration": 9,
    "start_time": "2023-02-21T12:50:35.268Z"
   },
   {
    "duration": 31,
    "start_time": "2023-02-21T12:50:35.286Z"
   },
   {
    "duration": 7,
    "start_time": "2023-02-21T13:35:44.288Z"
   },
   {
    "duration": 768,
    "start_time": "2023-02-21T13:35:44.710Z"
   },
   {
    "duration": 134,
    "start_time": "2023-02-21T13:35:45.479Z"
   },
   {
    "duration": 136,
    "start_time": "2023-02-21T13:35:45.615Z"
   },
   {
    "duration": 472,
    "start_time": "2023-02-21T13:35:45.754Z"
   },
   {
    "duration": 798,
    "start_time": "2023-02-21T13:35:46.228Z"
   },
   {
    "duration": 29,
    "start_time": "2023-02-21T13:35:47.028Z"
   },
   {
    "duration": 95,
    "start_time": "2023-02-21T13:35:48.252Z"
   },
   {
    "duration": 103,
    "start_time": "2023-02-21T13:35:48.714Z"
   },
   {
    "duration": 163,
    "start_time": "2023-02-21T13:35:51.483Z"
   },
   {
    "duration": 76,
    "start_time": "2023-02-21T13:35:55.724Z"
   },
   {
    "duration": 308,
    "start_time": "2023-02-21T13:35:56.707Z"
   },
   {
    "duration": 392,
    "start_time": "2023-02-21T13:36:22.014Z"
   },
   {
    "duration": 340,
    "start_time": "2023-02-21T13:36:31.370Z"
   },
   {
    "duration": 370,
    "start_time": "2023-02-21T13:36:50.275Z"
   },
   {
    "duration": 335,
    "start_time": "2023-02-21T13:37:04.223Z"
   },
   {
    "duration": 341,
    "start_time": "2023-02-21T13:37:43.340Z"
   },
   {
    "duration": 332,
    "start_time": "2023-02-21T13:45:24.151Z"
   },
   {
    "duration": 353,
    "start_time": "2023-02-21T13:45:33.032Z"
   },
   {
    "duration": 136,
    "start_time": "2023-02-21T13:46:16.730Z"
   },
   {
    "duration": 321,
    "start_time": "2023-02-21T13:46:36.032Z"
   },
   {
    "duration": 15,
    "start_time": "2023-02-21T13:48:51.986Z"
   },
   {
    "duration": 59,
    "start_time": "2023-02-21T13:49:16.448Z"
   },
   {
    "duration": 809,
    "start_time": "2023-02-21T13:49:16.814Z"
   },
   {
    "duration": 117,
    "start_time": "2023-02-21T13:49:17.625Z"
   },
   {
    "duration": 157,
    "start_time": "2023-02-21T13:49:17.744Z"
   },
   {
    "duration": 408,
    "start_time": "2023-02-21T13:49:17.904Z"
   },
   {
    "duration": 905,
    "start_time": "2023-02-21T13:49:18.314Z"
   },
   {
    "duration": 31,
    "start_time": "2023-02-21T13:49:19.223Z"
   },
   {
    "duration": 80,
    "start_time": "2023-02-21T13:49:19.255Z"
   },
   {
    "duration": 153,
    "start_time": "2023-02-21T13:49:19.338Z"
   },
   {
    "duration": 166,
    "start_time": "2023-02-21T13:49:19.492Z"
   },
   {
    "duration": 71,
    "start_time": "2023-02-21T13:49:20.870Z"
   },
   {
    "duration": 123,
    "start_time": "2023-02-21T13:49:21.708Z"
   },
   {
    "duration": 106,
    "start_time": "2023-02-21T13:49:36.670Z"
   },
   {
    "duration": 244,
    "start_time": "2023-02-21T13:50:20.338Z"
   },
   {
    "duration": 148,
    "start_time": "2023-02-21T13:50:33.941Z"
   },
   {
    "duration": 575,
    "start_time": "2023-02-21T13:51:37.157Z"
   },
   {
    "duration": 148,
    "start_time": "2023-02-21T13:51:51.370Z"
   },
   {
    "duration": 144,
    "start_time": "2023-02-21T13:52:41.865Z"
   },
   {
    "duration": 147,
    "start_time": "2023-02-21T13:52:47.801Z"
   },
   {
    "duration": 160,
    "start_time": "2023-02-21T13:53:22.111Z"
   },
   {
    "duration": 155,
    "start_time": "2023-02-21T13:53:56.671Z"
   },
   {
    "duration": 194,
    "start_time": "2023-02-21T13:54:52.847Z"
   },
   {
    "duration": 299,
    "start_time": "2023-02-21T13:55:53.762Z"
   },
   {
    "duration": 1509,
    "start_time": "2023-02-22T09:05:51.543Z"
   },
   {
    "duration": 2813,
    "start_time": "2023-02-22T09:05:53.054Z"
   },
   {
    "duration": 140,
    "start_time": "2023-02-22T09:05:57.033Z"
   },
   {
    "duration": 121,
    "start_time": "2023-02-22T09:05:58.886Z"
   },
   {
    "duration": 451,
    "start_time": "2023-02-22T09:05:59.197Z"
   },
   {
    "duration": 978,
    "start_time": "2023-02-22T09:06:00.637Z"
   },
   {
    "duration": 34,
    "start_time": "2023-02-22T09:06:01.617Z"
   },
   {
    "duration": 82,
    "start_time": "2023-02-22T09:06:02.988Z"
   },
   {
    "duration": 120,
    "start_time": "2023-02-22T09:06:05.365Z"
   },
   {
    "duration": 165,
    "start_time": "2023-02-22T09:06:08.852Z"
   },
   {
    "duration": 345,
    "start_time": "2023-02-22T09:06:15.158Z"
   },
   {
    "duration": 181,
    "start_time": "2023-02-22T09:06:18.381Z"
   },
   {
    "duration": 148,
    "start_time": "2023-02-22T09:06:19.406Z"
   },
   {
    "duration": 81,
    "start_time": "2023-02-22T09:06:22.829Z"
   },
   {
    "duration": 58,
    "start_time": "2023-02-22T09:06:23.668Z"
   },
   {
    "duration": 77,
    "start_time": "2023-02-22T09:06:25.636Z"
   },
   {
    "duration": 94,
    "start_time": "2023-02-22T09:06:28.631Z"
   },
   {
    "duration": 12009,
    "start_time": "2023-02-22T09:06:32.068Z"
   },
   {
    "duration": 7,
    "start_time": "2023-02-22T09:06:44.079Z"
   },
   {
    "duration": 27,
    "start_time": "2023-02-22T09:06:44.088Z"
   },
   {
    "duration": 124,
    "start_time": "2023-02-22T09:06:49.668Z"
   },
   {
    "duration": 177,
    "start_time": "2023-02-22T09:14:32.602Z"
   },
   {
    "duration": 1752,
    "start_time": "2023-02-24T10:01:11.727Z"
   },
   {
    "duration": 3112,
    "start_time": "2023-02-24T10:01:13.481Z"
   },
   {
    "duration": 166,
    "start_time": "2023-02-24T10:01:17.316Z"
   },
   {
    "duration": 140,
    "start_time": "2023-02-24T10:01:19.804Z"
   },
   {
    "duration": 538,
    "start_time": "2023-02-24T10:01:21.111Z"
   },
   {
    "duration": 1003,
    "start_time": "2023-02-24T10:01:23.940Z"
   },
   {
    "duration": 42,
    "start_time": "2023-02-24T10:01:27.136Z"
   },
   {
    "duration": 96,
    "start_time": "2023-02-24T10:01:28.229Z"
   },
   {
    "duration": 131,
    "start_time": "2023-02-24T10:01:29.272Z"
   },
   {
    "duration": 198,
    "start_time": "2023-02-24T10:01:33.437Z"
   },
   {
    "duration": 379,
    "start_time": "2023-02-24T10:01:37.230Z"
   },
   {
    "duration": 89,
    "start_time": "2023-02-24T10:01:51.409Z"
   },
   {
    "duration": 201,
    "start_time": "2023-02-24T10:01:55.773Z"
   },
   {
    "duration": 170,
    "start_time": "2023-02-24T10:01:58.822Z"
   },
   {
    "duration": 100,
    "start_time": "2023-02-24T10:02:02.380Z"
   },
   {
    "duration": 63,
    "start_time": "2023-02-24T10:02:04.975Z"
   },
   {
    "duration": 118,
    "start_time": "2023-02-24T10:02:06.306Z"
   },
   {
    "duration": 96,
    "start_time": "2023-02-24T10:02:10.080Z"
   },
   {
    "duration": 124,
    "start_time": "2023-02-24T10:02:14.792Z"
   },
   {
    "duration": 11,
    "start_time": "2023-02-24T10:02:15.232Z"
   },
   {
    "duration": 3,
    "start_time": "2023-02-24T10:03:45.742Z"
   },
   {
    "duration": 884,
    "start_time": "2023-02-24T10:03:46.116Z"
   },
   {
    "duration": 152,
    "start_time": "2023-02-24T10:03:47.003Z"
   },
   {
    "duration": 153,
    "start_time": "2023-02-24T10:03:47.157Z"
   },
   {
    "duration": 455,
    "start_time": "2023-02-24T10:03:47.312Z"
   },
   {
    "duration": 966,
    "start_time": "2023-02-24T10:03:47.770Z"
   },
   {
    "duration": 35,
    "start_time": "2023-02-24T10:03:48.737Z"
   },
   {
    "duration": 108,
    "start_time": "2023-02-24T10:03:48.774Z"
   },
   {
    "duration": 142,
    "start_time": "2023-02-24T10:03:48.884Z"
   },
   {
    "duration": 192,
    "start_time": "2023-02-24T10:03:49.028Z"
   },
   {
    "duration": 76,
    "start_time": "2023-02-24T10:03:52.211Z"
   },
   {
    "duration": 178,
    "start_time": "2023-02-24T10:03:53.664Z"
   },
   {
    "duration": 188,
    "start_time": "2023-02-24T10:03:57.987Z"
   },
   {
    "duration": 123,
    "start_time": "2023-02-24T10:04:05.774Z"
   },
   {
    "duration": 37,
    "start_time": "2023-02-24T10:04:09.160Z"
   },
   {
    "duration": 92,
    "start_time": "2023-02-24T10:04:09.713Z"
   },
   {
    "duration": 951,
    "start_time": "2023-02-24T10:04:32.976Z"
   },
   {
    "duration": 15,
    "start_time": "2023-02-24T10:04:35.886Z"
   },
   {
    "duration": 14,
    "start_time": "2023-02-24T10:04:36.823Z"
   },
   {
    "duration": 3,
    "start_time": "2023-02-24T10:11:35.504Z"
   },
   {
    "duration": 855,
    "start_time": "2023-02-24T10:11:35.999Z"
   },
   {
    "duration": 147,
    "start_time": "2023-02-24T10:11:36.857Z"
   },
   {
    "duration": 146,
    "start_time": "2023-02-24T10:11:37.005Z"
   },
   {
    "duration": 462,
    "start_time": "2023-02-24T10:11:37.154Z"
   },
   {
    "duration": 980,
    "start_time": "2023-02-24T10:11:37.618Z"
   },
   {
    "duration": 26,
    "start_time": "2023-02-24T10:11:38.600Z"
   },
   {
    "duration": 103,
    "start_time": "2023-02-24T10:11:38.628Z"
   },
   {
    "duration": 151,
    "start_time": "2023-02-24T10:11:38.733Z"
   },
   {
    "duration": 200,
    "start_time": "2023-02-24T10:11:38.886Z"
   },
   {
    "duration": 75,
    "start_time": "2023-02-24T10:11:39.180Z"
   },
   {
    "duration": 194,
    "start_time": "2023-02-24T10:11:39.376Z"
   },
   {
    "duration": 156,
    "start_time": "2023-02-24T10:11:39.796Z"
   },
   {
    "duration": 136,
    "start_time": "2023-02-24T10:11:40.539Z"
   },
   {
    "duration": 39,
    "start_time": "2023-02-24T10:11:40.872Z"
   },
   {
    "duration": 93,
    "start_time": "2023-02-24T10:11:41.211Z"
   },
   {
    "duration": 97,
    "start_time": "2023-02-24T10:11:41.992Z"
   },
   {
    "duration": 19,
    "start_time": "2023-02-24T10:11:43.007Z"
   },
   {
    "duration": 14,
    "start_time": "2023-02-24T10:11:44.116Z"
   },
   {
    "duration": 4,
    "start_time": "2023-02-24T10:12:10.127Z"
   },
   {
    "duration": 830,
    "start_time": "2023-02-24T10:12:11.335Z"
   },
   {
    "duration": 147,
    "start_time": "2023-02-24T10:12:12.166Z"
   },
   {
    "duration": 142,
    "start_time": "2023-02-24T10:12:13.099Z"
   },
   {
    "duration": 445,
    "start_time": "2023-02-24T10:12:13.606Z"
   },
   {
    "duration": 908,
    "start_time": "2023-02-24T10:12:16.005Z"
   },
   {
    "duration": 31,
    "start_time": "2023-02-24T10:12:16.915Z"
   },
   {
    "duration": 91,
    "start_time": "2023-02-24T10:12:18.502Z"
   },
   {
    "duration": 135,
    "start_time": "2023-02-24T10:12:19.596Z"
   },
   {
    "duration": 236,
    "start_time": "2023-02-24T10:12:21.432Z"
   },
   {
    "duration": 78,
    "start_time": "2023-02-24T10:12:24.304Z"
   },
   {
    "duration": 181,
    "start_time": "2023-02-24T10:12:26.060Z"
   },
   {
    "duration": 166,
    "start_time": "2023-02-24T10:12:27.113Z"
   },
   {
    "duration": 105,
    "start_time": "2023-02-24T10:12:31.995Z"
   },
   {
    "duration": 42,
    "start_time": "2023-02-24T10:12:35.268Z"
   },
   {
    "duration": 82,
    "start_time": "2023-02-24T10:12:35.864Z"
   },
   {
    "duration": 92,
    "start_time": "2023-02-24T10:12:39.518Z"
   },
   {
    "duration": 14,
    "start_time": "2023-02-24T10:12:41.504Z"
   },
   {
    "duration": 870,
    "start_time": "2023-02-24T10:13:40.280Z"
   },
   {
    "duration": 15,
    "start_time": "2023-02-24T10:13:45.096Z"
   },
   {
    "duration": 14,
    "start_time": "2023-02-24T10:13:46.204Z"
   },
   {
    "duration": 17,
    "start_time": "2023-02-24T10:13:56.800Z"
   },
   {
    "duration": 4,
    "start_time": "2023-02-24T10:14:04.184Z"
   },
   {
    "duration": 869,
    "start_time": "2023-02-24T10:14:04.500Z"
   },
   {
    "duration": 154,
    "start_time": "2023-02-24T10:14:05.371Z"
   },
   {
    "duration": 157,
    "start_time": "2023-02-24T10:14:05.526Z"
   },
   {
    "duration": 463,
    "start_time": "2023-02-24T10:14:05.685Z"
   },
   {
    "duration": 961,
    "start_time": "2023-02-24T10:14:06.151Z"
   },
   {
    "duration": 32,
    "start_time": "2023-02-24T10:14:07.114Z"
   },
   {
    "duration": 113,
    "start_time": "2023-02-24T10:14:07.147Z"
   },
   {
    "duration": 143,
    "start_time": "2023-02-24T10:14:07.261Z"
   },
   {
    "duration": 222,
    "start_time": "2023-02-24T10:14:07.417Z"
   },
   {
    "duration": 69,
    "start_time": "2023-02-24T10:14:09.258Z"
   },
   {
    "duration": 188,
    "start_time": "2023-02-24T10:14:09.972Z"
   },
   {
    "duration": 193,
    "start_time": "2023-02-24T10:14:10.513Z"
   },
   {
    "duration": 102,
    "start_time": "2023-02-24T10:14:11.937Z"
   },
   {
    "duration": 43,
    "start_time": "2023-02-24T10:14:12.424Z"
   },
   {
    "duration": 86,
    "start_time": "2023-02-24T10:14:12.892Z"
   },
   {
    "duration": 88,
    "start_time": "2023-02-24T10:14:14.032Z"
   },
   {
    "duration": 836,
    "start_time": "2023-02-24T10:14:16.280Z"
   },
   {
    "duration": 14,
    "start_time": "2023-02-24T10:14:17.193Z"
   },
   {
    "duration": 14,
    "start_time": "2023-02-24T10:14:18.001Z"
   },
   {
    "duration": 549789,
    "start_time": "2023-02-24T10:16:52.572Z"
   },
   {
    "duration": 46,
    "start_time": "2023-02-24T10:26:02.364Z"
   },
   {
    "duration": 828,
    "start_time": "2023-02-24T10:26:02.412Z"
   },
   {
    "duration": 182,
    "start_time": "2023-02-24T10:26:03.245Z"
   },
   {
    "duration": 162,
    "start_time": "2023-02-24T10:26:03.429Z"
   },
   {
    "duration": 440,
    "start_time": "2023-02-24T10:26:03.593Z"
   },
   {
    "duration": 970,
    "start_time": "2023-02-24T10:26:04.035Z"
   },
   {
    "duration": 30,
    "start_time": "2023-02-24T10:26:05.007Z"
   },
   {
    "duration": 105,
    "start_time": "2023-02-24T10:26:05.047Z"
   },
   {
    "duration": 144,
    "start_time": "2023-02-24T10:26:05.155Z"
   },
   {
    "duration": 205,
    "start_time": "2023-02-24T10:26:05.301Z"
   },
   {
    "duration": 82,
    "start_time": "2023-02-24T10:26:05.508Z"
   },
   {
    "duration": 201,
    "start_time": "2023-02-24T10:26:05.591Z"
   },
   {
    "duration": 187,
    "start_time": "2023-02-24T10:26:05.793Z"
   },
   {
    "duration": 99,
    "start_time": "2023-02-24T10:26:05.982Z"
   },
   {
    "duration": 70,
    "start_time": "2023-02-24T10:26:06.083Z"
   },
   {
    "duration": 102,
    "start_time": "2023-02-24T10:26:06.159Z"
   },
   {
    "duration": 92,
    "start_time": "2023-02-24T10:26:06.263Z"
   },
   {
    "duration": 867,
    "start_time": "2023-02-24T10:26:06.357Z"
   },
   {
    "duration": 15,
    "start_time": "2023-02-24T10:26:07.226Z"
   },
   {
    "duration": 42,
    "start_time": "2023-02-24T10:26:07.242Z"
   },
   {
    "duration": 1855,
    "start_time": "2023-02-25T07:46:17.704Z"
   },
   {
    "duration": 1193,
    "start_time": "2023-02-25T07:46:20.419Z"
   },
   {
    "duration": 145,
    "start_time": "2023-02-25T07:46:22.250Z"
   },
   {
    "duration": 152,
    "start_time": "2023-02-25T07:46:24.799Z"
   },
   {
    "duration": 497,
    "start_time": "2023-02-25T07:46:25.080Z"
   },
   {
    "duration": 1036,
    "start_time": "2023-02-25T07:46:29.434Z"
   },
   {
    "duration": 142,
    "start_time": "2023-02-25T07:46:30.472Z"
   },
   {
    "duration": 19,
    "start_time": "2023-02-25T07:51:03.793Z"
   },
   {
    "duration": 106,
    "start_time": "2023-02-25T07:51:52.686Z"
   },
   {
    "duration": 144,
    "start_time": "2023-02-25T07:55:14.713Z"
   },
   {
    "duration": 117,
    "start_time": "2023-02-25T07:55:45.087Z"
   },
   {
    "duration": 8,
    "start_time": "2023-02-25T08:01:26.250Z"
   },
   {
    "duration": 123,
    "start_time": "2023-02-25T08:01:36.805Z"
   },
   {
    "duration": 22,
    "start_time": "2023-02-25T08:02:38.405Z"
   },
   {
    "duration": 22,
    "start_time": "2023-02-25T08:03:24.229Z"
   },
   {
    "duration": 20,
    "start_time": "2023-02-25T08:03:43.987Z"
   },
   {
    "duration": 121,
    "start_time": "2023-02-25T08:06:54.842Z"
   },
   {
    "duration": 22,
    "start_time": "2023-02-25T08:06:55.570Z"
   },
   {
    "duration": 31,
    "start_time": "2023-02-25T08:07:01.987Z"
   },
   {
    "duration": 106,
    "start_time": "2023-02-25T08:07:03.135Z"
   },
   {
    "duration": 139,
    "start_time": "2023-02-25T08:07:04.257Z"
   },
   {
    "duration": 304,
    "start_time": "2023-02-25T08:07:09.005Z"
   },
   {
    "duration": 100,
    "start_time": "2023-02-25T08:07:23.661Z"
   },
   {
    "duration": 1322,
    "start_time": "2023-02-25T08:14:55.576Z"
   },
   {
    "duration": 4,
    "start_time": "2023-02-25T08:15:11.582Z"
   },
   {
    "duration": 899,
    "start_time": "2023-02-25T08:15:11.918Z"
   },
   {
    "duration": 150,
    "start_time": "2023-02-25T08:15:12.819Z"
   },
   {
    "duration": 149,
    "start_time": "2023-02-25T08:15:12.971Z"
   },
   {
    "duration": 463,
    "start_time": "2023-02-25T08:15:13.575Z"
   },
   {
    "duration": 976,
    "start_time": "2023-02-25T08:15:14.682Z"
   },
   {
    "duration": 220,
    "start_time": "2023-02-25T08:15:15.660Z"
   },
   {
    "duration": 69,
    "start_time": "2023-02-25T08:15:15.999Z"
   },
   {
    "duration": 22,
    "start_time": "2023-02-25T08:16:57.411Z"
   },
   {
    "duration": 28,
    "start_time": "2023-02-25T08:17:27.266Z"
   },
   {
    "duration": 29,
    "start_time": "2023-02-25T08:17:51.907Z"
   },
   {
    "duration": 45,
    "start_time": "2023-02-25T08:17:57.189Z"
   },
   {
    "duration": 89,
    "start_time": "2023-02-25T08:18:02.392Z"
   },
   {
    "duration": 124,
    "start_time": "2023-02-25T08:18:03.145Z"
   },
   {
    "duration": 212,
    "start_time": "2023-02-25T08:18:06.436Z"
   },
   {
    "duration": 106,
    "start_time": "2023-02-25T08:18:10.093Z"
   },
   {
    "duration": 212,
    "start_time": "2023-02-25T08:18:24.817Z"
   },
   {
    "duration": 174,
    "start_time": "2023-02-25T08:18:25.284Z"
   },
   {
    "duration": 68,
    "start_time": "2023-02-25T08:19:00.857Z"
   },
   {
    "duration": 88,
    "start_time": "2023-02-25T08:19:02.246Z"
   },
   {
    "duration": 104,
    "start_time": "2023-02-25T08:19:16.076Z"
   },
   {
    "duration": 1070,
    "start_time": "2023-02-25T08:19:19.200Z"
   },
   {
    "duration": 17,
    "start_time": "2023-02-25T08:19:22.558Z"
   },
   {
    "duration": 25,
    "start_time": "2023-02-25T08:19:23.237Z"
   },
   {
    "duration": 1303,
    "start_time": "2023-02-25T08:25:06.685Z"
   },
   {
    "duration": 4,
    "start_time": "2023-02-25T08:25:20.311Z"
   },
   {
    "duration": 883,
    "start_time": "2023-02-25T08:25:20.670Z"
   },
   {
    "duration": 136,
    "start_time": "2023-02-25T08:25:21.555Z"
   },
   {
    "duration": 151,
    "start_time": "2023-02-25T08:25:21.692Z"
   },
   {
    "duration": 510,
    "start_time": "2023-02-25T08:25:21.844Z"
   },
   {
    "duration": 1027,
    "start_time": "2023-02-25T08:25:22.930Z"
   },
   {
    "duration": 196,
    "start_time": "2023-02-25T08:25:23.989Z"
   },
   {
    "duration": 30,
    "start_time": "2023-02-25T08:25:24.682Z"
   },
   {
    "duration": 96,
    "start_time": "2023-02-25T08:27:40.787Z"
   },
   {
    "duration": 41,
    "start_time": "2023-02-25T08:27:46.093Z"
   },
   {
    "duration": 101,
    "start_time": "2023-02-25T08:27:47.212Z"
   },
   {
    "duration": 142,
    "start_time": "2023-02-25T08:27:47.478Z"
   },
   {
    "duration": 66,
    "start_time": "2023-02-25T08:29:52.406Z"
   },
   {
    "duration": 88,
    "start_time": "2023-02-25T08:29:52.968Z"
   },
   {
    "duration": 4,
    "start_time": "2023-02-25T08:30:40.388Z"
   },
   {
    "duration": 875,
    "start_time": "2023-02-25T08:30:40.728Z"
   },
   {
    "duration": 152,
    "start_time": "2023-02-25T08:30:41.605Z"
   },
   {
    "duration": 142,
    "start_time": "2023-02-25T08:30:41.759Z"
   },
   {
    "duration": 484,
    "start_time": "2023-02-25T08:30:42.700Z"
   },
   {
    "duration": 993,
    "start_time": "2023-02-25T08:30:45.531Z"
   },
   {
    "duration": 281,
    "start_time": "2023-02-25T08:30:49.377Z"
   },
   {
    "duration": 29,
    "start_time": "2023-02-25T08:31:00.564Z"
   },
   {
    "duration": 121,
    "start_time": "2023-02-25T08:31:01.869Z"
   },
   {
    "duration": 153,
    "start_time": "2023-02-25T08:31:04.916Z"
   },
   {
    "duration": 199,
    "start_time": "2023-02-25T08:31:07.212Z"
   },
   {
    "duration": 91,
    "start_time": "2023-02-25T08:31:15.792Z"
   },
   {
    "duration": 216,
    "start_time": "2023-02-25T08:31:17.381Z"
   },
   {
    "duration": 161,
    "start_time": "2023-02-25T08:31:19.228Z"
   },
   {
    "duration": 107,
    "start_time": "2023-02-25T08:31:24.403Z"
   },
   {
    "duration": 59,
    "start_time": "2023-02-25T08:31:26.667Z"
   },
   {
    "duration": 144,
    "start_time": "2023-02-25T08:31:27.276Z"
   },
   {
    "duration": 105,
    "start_time": "2023-02-25T08:31:43.660Z"
   },
   {
    "duration": 909,
    "start_time": "2023-02-25T08:31:48.211Z"
   },
   {
    "duration": 27,
    "start_time": "2023-02-25T08:31:49.122Z"
   },
   {
    "duration": 28,
    "start_time": "2023-02-25T08:31:50.128Z"
   },
   {
    "duration": 85,
    "start_time": "2023-02-25T08:47:55.652Z"
   },
   {
    "duration": 1748006,
    "start_time": "2023-02-25T09:34:14.064Z"
   },
   {
    "duration": 103,
    "start_time": "2023-02-25T10:03:22.169Z"
   },
   {
    "duration": 5450,
    "start_time": "2023-02-26T08:55:13.440Z"
   },
   {
    "duration": 2984,
    "start_time": "2023-02-26T08:55:18.892Z"
   },
   {
    "duration": 140,
    "start_time": "2023-02-26T08:55:21.877Z"
   },
   {
    "duration": 137,
    "start_time": "2023-02-26T08:55:22.020Z"
   },
   {
    "duration": 466,
    "start_time": "2023-02-26T08:55:22.158Z"
   },
   {
    "duration": 983,
    "start_time": "2023-02-26T08:55:22.625Z"
   },
   {
    "duration": 273,
    "start_time": "2023-02-26T08:55:26.477Z"
   },
   {
    "duration": 47,
    "start_time": "2023-02-26T08:55:27.586Z"
   },
   {
    "duration": 86,
    "start_time": "2023-02-26T08:55:28.985Z"
   },
   {
    "duration": 132,
    "start_time": "2023-02-26T08:55:29.929Z"
   },
   {
    "duration": 166,
    "start_time": "2023-02-26T08:55:31.340Z"
   },
   {
    "duration": 91,
    "start_time": "2023-02-26T08:55:33.077Z"
   },
   {
    "duration": 172,
    "start_time": "2023-02-26T08:55:33.845Z"
   },
   {
    "duration": 147,
    "start_time": "2023-02-26T08:55:34.411Z"
   },
   {
    "duration": 110,
    "start_time": "2023-02-26T08:55:36.340Z"
   },
   {
    "duration": 66,
    "start_time": "2023-02-26T08:55:37.001Z"
   },
   {
    "duration": 78,
    "start_time": "2023-02-26T08:55:37.546Z"
   },
   {
    "duration": 83,
    "start_time": "2023-02-26T08:55:38.621Z"
   },
   {
    "duration": 818,
    "start_time": "2023-02-26T08:55:39.877Z"
   },
   {
    "duration": 14,
    "start_time": "2023-02-26T08:55:40.697Z"
   },
   {
    "duration": 15,
    "start_time": "2023-02-26T08:55:40.997Z"
   },
   {
    "duration": 186,
    "start_time": "2023-02-26T09:16:24.071Z"
   },
   {
    "duration": 3,
    "start_time": "2023-02-26T09:16:43.037Z"
   },
   {
    "duration": 775,
    "start_time": "2023-02-26T09:16:44.032Z"
   },
   {
    "duration": 142,
    "start_time": "2023-02-26T09:16:45.401Z"
   },
   {
    "duration": 124,
    "start_time": "2023-02-26T09:16:45.876Z"
   },
   {
    "duration": 436,
    "start_time": "2023-02-26T09:16:46.539Z"
   },
   {
    "duration": 825,
    "start_time": "2023-02-26T09:16:47.881Z"
   },
   {
    "duration": 181,
    "start_time": "2023-02-26T09:16:49.267Z"
   },
   {
    "duration": 35,
    "start_time": "2023-02-26T09:16:49.797Z"
   },
   {
    "duration": 80,
    "start_time": "2023-02-26T09:16:51.014Z"
   },
   {
    "duration": 119,
    "start_time": "2023-02-26T09:16:51.684Z"
   },
   {
    "duration": 174,
    "start_time": "2023-02-26T09:16:52.518Z"
   },
   {
    "duration": 82,
    "start_time": "2023-02-26T09:16:53.711Z"
   },
   {
    "duration": 167,
    "start_time": "2023-02-26T09:16:54.064Z"
   },
   {
    "duration": 143,
    "start_time": "2023-02-26T09:16:54.525Z"
   },
   {
    "duration": 88,
    "start_time": "2023-02-26T09:16:55.818Z"
   },
   {
    "duration": 64,
    "start_time": "2023-02-26T09:16:56.426Z"
   },
   {
    "duration": 81,
    "start_time": "2023-02-26T09:16:56.932Z"
   },
   {
    "duration": 88,
    "start_time": "2023-02-26T09:16:57.854Z"
   },
   {
    "duration": 766,
    "start_time": "2023-02-26T09:16:58.751Z"
   },
   {
    "duration": 14,
    "start_time": "2023-02-26T09:16:59.519Z"
   },
   {
    "duration": 14,
    "start_time": "2023-02-26T09:16:59.612Z"
   },
   {
    "duration": 4,
    "start_time": "2023-02-26T09:17:01.881Z"
   },
   {
    "duration": 8832,
    "start_time": "2023-02-26T09:17:06.708Z"
   },
   {
    "duration": 9070,
    "start_time": "2023-02-26T09:18:21.639Z"
   },
   {
    "duration": 8819,
    "start_time": "2023-02-26T09:18:42.568Z"
   },
   {
    "duration": 80,
    "start_time": "2023-02-26T09:28:44.327Z"
   },
   {
    "duration": 11,
    "start_time": "2023-02-26T09:28:49.096Z"
   },
   {
    "duration": 5,
    "start_time": "2023-02-26T09:29:07.776Z"
   },
   {
    "duration": 773,
    "start_time": "2023-02-26T09:29:08.753Z"
   },
   {
    "duration": 135,
    "start_time": "2023-02-26T09:29:09.528Z"
   },
   {
    "duration": 126,
    "start_time": "2023-02-26T09:29:10.164Z"
   },
   {
    "duration": 407,
    "start_time": "2023-02-26T09:29:10.401Z"
   },
   {
    "duration": 873,
    "start_time": "2023-02-26T09:29:11.048Z"
   },
   {
    "duration": 195,
    "start_time": "2023-02-26T09:29:11.923Z"
   },
   {
    "duration": 39,
    "start_time": "2023-02-26T09:29:12.119Z"
   },
   {
    "duration": 93,
    "start_time": "2023-02-26T09:29:12.160Z"
   },
   {
    "duration": 132,
    "start_time": "2023-02-26T09:29:12.254Z"
   },
   {
    "duration": 178,
    "start_time": "2023-02-26T09:29:12.948Z"
   },
   {
    "duration": 82,
    "start_time": "2023-02-26T09:29:13.866Z"
   },
   {
    "duration": 166,
    "start_time": "2023-02-26T09:29:14.356Z"
   },
   {
    "duration": 147,
    "start_time": "2023-02-26T09:29:14.721Z"
   },
   {
    "duration": 95,
    "start_time": "2023-02-26T09:29:16.175Z"
   },
   {
    "duration": 65,
    "start_time": "2023-02-26T09:29:16.803Z"
   },
   {
    "duration": 78,
    "start_time": "2023-02-26T09:29:17.373Z"
   },
   {
    "duration": 87,
    "start_time": "2023-02-26T09:29:18.540Z"
   },
   {
    "duration": 727,
    "start_time": "2023-02-26T09:29:19.848Z"
   },
   {
    "duration": 14,
    "start_time": "2023-02-26T09:29:20.577Z"
   },
   {
    "duration": 15,
    "start_time": "2023-02-26T09:29:21.376Z"
   },
   {
    "duration": 9,
    "start_time": "2023-02-26T09:29:23.655Z"
   },
   {
    "duration": 53,
    "start_time": "2023-02-26T09:29:26.402Z"
   },
   {
    "duration": 4,
    "start_time": "2023-02-26T09:32:49.671Z"
   },
   {
    "duration": 82,
    "start_time": "2023-02-26T09:33:16.475Z"
   },
   {
    "duration": 4,
    "start_time": "2023-02-26T09:37:52.075Z"
   },
   {
    "duration": 49,
    "start_time": "2023-02-26T09:42:41.687Z"
   },
   {
    "duration": 5,
    "start_time": "2023-02-26T09:43:06.861Z"
   },
   {
    "duration": 845,
    "start_time": "2023-02-26T09:43:07.502Z"
   },
   {
    "duration": 131,
    "start_time": "2023-02-26T09:43:08.349Z"
   },
   {
    "duration": 133,
    "start_time": "2023-02-26T09:43:08.482Z"
   },
   {
    "duration": 401,
    "start_time": "2023-02-26T09:43:08.617Z"
   },
   {
    "duration": 878,
    "start_time": "2023-02-26T09:43:09.213Z"
   },
   {
    "duration": 203,
    "start_time": "2023-02-26T09:43:10.093Z"
   },
   {
    "duration": 32,
    "start_time": "2023-02-26T09:43:10.297Z"
   },
   {
    "duration": 110,
    "start_time": "2023-02-26T09:43:10.332Z"
   },
   {
    "duration": 145,
    "start_time": "2023-02-26T09:43:10.449Z"
   },
   {
    "duration": 172,
    "start_time": "2023-02-26T09:43:10.901Z"
   },
   {
    "duration": 79,
    "start_time": "2023-02-26T09:43:12.648Z"
   },
   {
    "duration": 178,
    "start_time": "2023-02-26T09:43:16.617Z"
   },
   {
    "duration": 160,
    "start_time": "2023-02-26T09:43:16.797Z"
   },
   {
    "duration": 88,
    "start_time": "2023-02-26T09:43:21.712Z"
   },
   {
    "duration": 61,
    "start_time": "2023-02-26T09:43:22.731Z"
   },
   {
    "duration": 75,
    "start_time": "2023-02-26T09:43:24.537Z"
   },
   {
    "duration": 88,
    "start_time": "2023-02-26T09:43:27.198Z"
   },
   {
    "duration": 732,
    "start_time": "2023-02-26T09:43:29.563Z"
   },
   {
    "duration": 14,
    "start_time": "2023-02-26T09:43:31.604Z"
   },
   {
    "duration": 13,
    "start_time": "2023-02-26T09:43:32.232Z"
   },
   {
    "duration": 8942,
    "start_time": "2023-02-26T09:43:40.015Z"
   },
   {
    "duration": 8991,
    "start_time": "2023-02-26T09:45:09.649Z"
   },
   {
    "duration": 53,
    "start_time": "2023-02-26T09:56:06.982Z"
   },
   {
    "duration": 90,
    "start_time": "2023-02-26T09:56:24.654Z"
   },
   {
    "duration": 9296,
    "start_time": "2023-02-26T09:58:05.010Z"
   },
   {
    "duration": 9744,
    "start_time": "2023-02-26T09:59:42.672Z"
   },
   {
    "duration": 9203,
    "start_time": "2023-02-26T10:01:18.620Z"
   },
   {
    "duration": 9199,
    "start_time": "2023-02-26T10:01:53.292Z"
   },
   {
    "duration": 30,
    "start_time": "2023-02-26T10:06:10.368Z"
   },
   {
    "duration": 28,
    "start_time": "2023-02-26T10:08:02.207Z"
   },
   {
    "duration": 27,
    "start_time": "2023-02-26T10:09:09.598Z"
   },
   {
    "duration": 5700,
    "start_time": "2023-02-26T10:12:04.294Z"
   },
   {
    "duration": 32,
    "start_time": "2023-02-26T10:13:31.549Z"
   },
   {
    "duration": 345789,
    "start_time": "2023-02-26T10:13:56.145Z"
   },
   {
    "duration": 4286389,
    "start_time": "2023-02-26T10:41:17.871Z"
   },
   {
    "duration": 0,
    "start_time": "2023-02-26T11:52:44.262Z"
   },
   {
    "duration": 582031,
    "start_time": "2023-02-26T11:57:43.391Z"
   },
   {
    "duration": 131098,
    "start_time": "2023-02-26T12:07:47.163Z"
   },
   {
    "duration": 182982,
    "start_time": "2023-02-26T12:10:58.506Z"
   },
   {
    "duration": 0,
    "start_time": "2023-02-26T12:14:01.491Z"
   },
   {
    "duration": 17,
    "start_time": "2023-02-26T12:15:33.564Z"
   },
   {
    "duration": 0,
    "start_time": "2023-02-26T12:18:01.753Z"
   },
   {
    "duration": 17,
    "start_time": "2023-02-26T12:18:10.624Z"
   },
   {
    "duration": 0,
    "start_time": "2023-02-26T12:20:16.172Z"
   },
   {
    "duration": 1556,
    "start_time": "2023-02-26T12:21:32.969Z"
   },
   {
    "duration": 982,
    "start_time": "2023-02-26T12:21:34.528Z"
   },
   {
    "duration": 149,
    "start_time": "2023-02-26T12:21:35.514Z"
   },
   {
    "duration": 134,
    "start_time": "2023-02-26T12:21:36.135Z"
   },
   {
    "duration": 541,
    "start_time": "2023-02-26T12:21:36.589Z"
   },
   {
    "duration": 1078,
    "start_time": "2023-02-26T12:21:37.386Z"
   },
   {
    "duration": 275,
    "start_time": "2023-02-26T12:21:38.467Z"
   },
   {
    "duration": 48,
    "start_time": "2023-02-26T12:21:38.748Z"
   },
   {
    "duration": 96,
    "start_time": "2023-02-26T12:21:39.057Z"
   },
   {
    "duration": 141,
    "start_time": "2023-02-26T12:21:39.268Z"
   },
   {
    "duration": 185,
    "start_time": "2023-02-26T12:21:40.690Z"
   },
   {
    "duration": 101,
    "start_time": "2023-02-26T12:21:44.964Z"
   },
   {
    "duration": 271,
    "start_time": "2023-02-26T12:21:45.850Z"
   },
   {
    "duration": 160,
    "start_time": "2023-02-26T12:21:46.862Z"
   },
   {
    "duration": 101,
    "start_time": "2023-02-26T12:21:50.344Z"
   },
   {
    "duration": 96,
    "start_time": "2023-02-26T12:21:52.146Z"
   },
   {
    "duration": 84,
    "start_time": "2023-02-26T12:21:52.698Z"
   },
   {
    "duration": 135,
    "start_time": "2023-02-26T12:21:54.918Z"
   },
   {
    "duration": 869,
    "start_time": "2023-02-26T12:21:56.293Z"
   },
   {
    "duration": 20,
    "start_time": "2023-02-26T12:21:57.463Z"
   },
   {
    "duration": 23,
    "start_time": "2023-02-26T12:21:59.817Z"
   },
   {
    "duration": 11363,
    "start_time": "2023-02-26T12:22:06.862Z"
   },
   {
    "duration": 392079,
    "start_time": "2023-02-26T12:22:22.717Z"
   },
   {
    "duration": 0,
    "start_time": "2023-02-26T12:32:07.326Z"
   },
   {
    "duration": 18,
    "start_time": "2023-02-26T12:32:15.270Z"
   },
   {
    "duration": 12,
    "start_time": "2023-02-26T12:32:54.253Z"
   },
   {
    "duration": 1729,
    "start_time": "2023-02-26T12:33:24.248Z"
   },
   {
    "duration": 556111,
    "start_time": "2023-02-26T12:34:38.056Z"
   },
   {
    "duration": 0,
    "start_time": "2023-02-26T12:43:54.169Z"
   },
   {
    "duration": 1515,
    "start_time": "2023-02-26T12:48:16.886Z"
   },
   {
    "duration": 952,
    "start_time": "2023-02-26T12:48:19.056Z"
   },
   {
    "duration": 249,
    "start_time": "2023-02-26T12:48:20.010Z"
   },
   {
    "duration": 158,
    "start_time": "2023-02-26T12:48:20.975Z"
   },
   {
    "duration": 653,
    "start_time": "2023-02-26T12:48:21.138Z"
   },
   {
    "duration": 1060,
    "start_time": "2023-02-26T12:48:21.793Z"
   },
   {
    "duration": 349,
    "start_time": "2023-02-26T12:48:22.857Z"
   },
   {
    "duration": 65,
    "start_time": "2023-02-26T12:48:23.209Z"
   },
   {
    "duration": 106,
    "start_time": "2023-02-26T12:48:23.277Z"
   },
   {
    "duration": 211,
    "start_time": "2023-02-26T12:48:23.385Z"
   },
   {
    "duration": 212,
    "start_time": "2023-02-26T12:48:23.598Z"
   },
   {
    "duration": 87,
    "start_time": "2023-02-26T12:48:23.905Z"
   },
   {
    "duration": 189,
    "start_time": "2023-02-26T12:48:24.135Z"
   },
   {
    "duration": 209,
    "start_time": "2023-02-26T12:48:24.436Z"
   },
   {
    "duration": 92,
    "start_time": "2023-02-26T12:48:25.189Z"
   },
   {
    "duration": 90,
    "start_time": "2023-02-26T12:48:25.424Z"
   },
   {
    "duration": 139,
    "start_time": "2023-02-26T12:48:25.710Z"
   },
   {
    "duration": 96,
    "start_time": "2023-02-26T12:48:26.299Z"
   },
   {
    "duration": 881,
    "start_time": "2023-02-26T12:48:27.222Z"
   },
   {
    "duration": 15,
    "start_time": "2023-02-26T12:48:28.105Z"
   },
   {
    "duration": 16,
    "start_time": "2023-02-26T12:48:28.207Z"
   },
   {
    "duration": 10847,
    "start_time": "2023-02-26T12:48:38.386Z"
   },
   {
    "duration": 393731,
    "start_time": "2023-02-26T12:48:49.235Z"
   },
   {
    "duration": 0,
    "start_time": "2023-02-26T13:34:23.054Z"
   },
   {
    "duration": 39419,
    "start_time": "2023-02-26T13:34:37.367Z"
   },
   {
    "duration": 71,
    "start_time": "2023-02-26T13:38:53.814Z"
   },
   {
    "duration": 14,
    "start_time": "2023-02-26T13:39:01.240Z"
   },
   {
    "duration": 0,
    "start_time": "2023-02-26T13:55:31.092Z"
   },
   {
    "duration": 0,
    "start_time": "2023-02-26T14:19:24.060Z"
   },
   {
    "duration": 15,
    "start_time": "2023-02-26T14:19:39.737Z"
   },
   {
    "duration": 0,
    "start_time": "2023-02-26T15:07:30.574Z"
   },
   {
    "duration": 0,
    "start_time": "2023-02-26T15:07:30.575Z"
   },
   {
    "duration": 1694,
    "start_time": "2023-02-27T06:32:42.682Z"
   },
   {
    "duration": 1013,
    "start_time": "2023-02-27T06:32:44.378Z"
   },
   {
    "duration": 114,
    "start_time": "2023-02-27T06:32:45.393Z"
   },
   {
    "duration": 110,
    "start_time": "2023-02-27T06:32:46.170Z"
   },
   {
    "duration": 453,
    "start_time": "2023-02-27T06:32:48.268Z"
   },
   {
    "duration": 882,
    "start_time": "2023-02-27T06:32:49.921Z"
   },
   {
    "duration": 232,
    "start_time": "2023-02-27T06:32:52.411Z"
   },
   {
    "duration": 44,
    "start_time": "2023-02-27T06:32:53.017Z"
   },
   {
    "duration": 69,
    "start_time": "2023-02-27T06:32:53.682Z"
   },
   {
    "duration": 121,
    "start_time": "2023-02-27T06:32:54.034Z"
   },
   {
    "duration": 134,
    "start_time": "2023-02-27T06:32:56.626Z"
   },
   {
    "duration": 83,
    "start_time": "2023-02-27T06:33:00.586Z"
   },
   {
    "duration": 169,
    "start_time": "2023-02-27T06:33:01.395Z"
   },
   {
    "duration": 150,
    "start_time": "2023-02-27T06:33:03.896Z"
   },
   {
    "duration": 75,
    "start_time": "2023-02-27T06:33:07.762Z"
   },
   {
    "duration": 83,
    "start_time": "2023-02-27T06:33:09.185Z"
   },
   {
    "duration": 62,
    "start_time": "2023-02-27T06:33:14.451Z"
   },
   {
    "duration": 88,
    "start_time": "2023-02-27T06:33:30.562Z"
   },
   {
    "duration": 768,
    "start_time": "2023-02-27T06:33:36.568Z"
   },
   {
    "duration": 15,
    "start_time": "2023-02-27T06:33:39.251Z"
   },
   {
    "duration": 15,
    "start_time": "2023-02-27T06:33:41.152Z"
   },
   {
    "duration": 9061,
    "start_time": "2023-02-27T06:33:59.314Z"
   },
   {
    "duration": 341855,
    "start_time": "2023-02-27T06:34:08.377Z"
   },
   {
    "duration": 446091,
    "start_time": "2023-02-27T06:39:50.234Z"
   },
   {
    "duration": 115113,
    "start_time": "2023-02-27T06:47:16.328Z"
   },
   {
    "duration": 93,
    "start_time": "2023-02-27T06:56:16.221Z"
   },
   {
    "duration": 78,
    "start_time": "2023-02-27T06:56:26.609Z"
   },
   {
    "duration": 4,
    "start_time": "2023-02-27T06:56:42.717Z"
   },
   {
    "duration": 10,
    "start_time": "2023-02-27T06:56:55.527Z"
   },
   {
    "duration": 12,
    "start_time": "2023-02-27T07:03:47.642Z"
   },
   {
    "duration": 81,
    "start_time": "2023-02-27T07:23:40.351Z"
   },
   {
    "duration": 4,
    "start_time": "2023-02-27T07:23:52.918Z"
   },
   {
    "duration": 12,
    "start_time": "2023-02-27T07:23:59.086Z"
   },
   {
    "duration": 4,
    "start_time": "2023-02-27T07:53:57.536Z"
   },
   {
    "duration": 725,
    "start_time": "2023-02-27T07:53:58.440Z"
   },
   {
    "duration": 116,
    "start_time": "2023-02-27T07:53:59.167Z"
   },
   {
    "duration": 96,
    "start_time": "2023-02-27T07:53:59.810Z"
   },
   {
    "duration": 394,
    "start_time": "2023-02-27T07:54:00.175Z"
   },
   {
    "duration": 872,
    "start_time": "2023-02-27T07:54:01.313Z"
   },
   {
    "duration": 195,
    "start_time": "2023-02-27T07:54:02.187Z"
   },
   {
    "duration": 44,
    "start_time": "2023-02-27T07:54:02.384Z"
   },
   {
    "duration": 70,
    "start_time": "2023-02-27T07:54:02.700Z"
   },
   {
    "duration": 105,
    "start_time": "2023-02-27T07:54:03.029Z"
   },
   {
    "duration": 139,
    "start_time": "2023-02-27T07:54:03.627Z"
   },
   {
    "duration": 86,
    "start_time": "2023-02-27T07:54:05.065Z"
   },
   {
    "duration": 168,
    "start_time": "2023-02-27T07:54:05.523Z"
   },
   {
    "duration": 146,
    "start_time": "2023-02-27T07:54:05.916Z"
   },
   {
    "duration": 76,
    "start_time": "2023-02-27T07:54:07.261Z"
   },
   {
    "duration": 61,
    "start_time": "2023-02-27T07:54:07.720Z"
   },
   {
    "duration": 63,
    "start_time": "2023-02-27T07:54:08.273Z"
   },
   {
    "duration": 89,
    "start_time": "2023-02-27T07:54:12.729Z"
   },
   {
    "duration": 292,
    "start_time": "2023-02-27T07:54:16.391Z"
   },
   {
    "duration": 177,
    "start_time": "2023-02-27T07:54:43.289Z"
   },
   {
    "duration": 306,
    "start_time": "2023-02-27T07:55:08.498Z"
   },
   {
    "duration": 5,
    "start_time": "2023-02-27T07:59:29.503Z"
   },
   {
    "duration": 735,
    "start_time": "2023-02-27T07:59:30.425Z"
   },
   {
    "duration": 117,
    "start_time": "2023-02-27T07:59:31.162Z"
   },
   {
    "duration": 108,
    "start_time": "2023-02-27T07:59:31.281Z"
   },
   {
    "duration": 396,
    "start_time": "2023-02-27T07:59:31.495Z"
   },
   {
    "duration": 825,
    "start_time": "2023-02-27T07:59:33.230Z"
   },
   {
    "duration": 226,
    "start_time": "2023-02-27T07:59:34.057Z"
   },
   {
    "duration": 43,
    "start_time": "2023-02-27T07:59:34.285Z"
   },
   {
    "duration": 72,
    "start_time": "2023-02-27T07:59:34.828Z"
   },
   {
    "duration": 109,
    "start_time": "2023-02-27T07:59:35.178Z"
   },
   {
    "duration": 147,
    "start_time": "2023-02-27T07:59:35.988Z"
   },
   {
    "duration": 84,
    "start_time": "2023-02-27T07:59:37.087Z"
   },
   {
    "duration": 168,
    "start_time": "2023-02-27T07:59:37.459Z"
   },
   {
    "duration": 160,
    "start_time": "2023-02-27T07:59:37.753Z"
   },
   {
    "duration": 71,
    "start_time": "2023-02-27T07:59:38.822Z"
   },
   {
    "duration": 57,
    "start_time": "2023-02-27T07:59:39.160Z"
   },
   {
    "duration": 66,
    "start_time": "2023-02-27T07:59:39.527Z"
   },
   {
    "duration": 90,
    "start_time": "2023-02-27T07:59:40.432Z"
   },
   {
    "duration": 323,
    "start_time": "2023-02-27T07:59:41.463Z"
   },
   {
    "duration": 9,
    "start_time": "2023-02-27T07:59:48.149Z"
   },
   {
    "duration": 560,
    "start_time": "2023-02-27T08:04:09.454Z"
   },
   {
    "duration": 570,
    "start_time": "2023-02-27T08:05:05.515Z"
   },
   {
    "duration": 712,
    "start_time": "2023-02-27T08:08:52.845Z"
   },
   {
    "duration": 649,
    "start_time": "2023-02-27T08:09:56.072Z"
   },
   {
    "duration": 696,
    "start_time": "2023-02-27T08:11:19.794Z"
   },
   {
    "duration": 929,
    "start_time": "2023-02-27T08:13:10.391Z"
   },
   {
    "duration": 811,
    "start_time": "2023-02-27T08:17:13.219Z"
   },
   {
    "duration": 52,
    "start_time": "2023-02-27T08:19:54.759Z"
   },
   {
    "duration": 25,
    "start_time": "2023-02-27T08:20:03.886Z"
   },
   {
    "duration": 234,
    "start_time": "2023-02-27T08:23:07.676Z"
   },
   {
    "duration": 170,
    "start_time": "2023-02-27T08:23:18.671Z"
   },
   {
    "duration": 4,
    "start_time": "2023-02-27T08:24:49.456Z"
   },
   {
    "duration": 741,
    "start_time": "2023-02-27T08:24:50.006Z"
   },
   {
    "duration": 114,
    "start_time": "2023-02-27T08:24:50.749Z"
   },
   {
    "duration": 109,
    "start_time": "2023-02-27T08:24:50.864Z"
   },
   {
    "duration": 423,
    "start_time": "2023-02-27T08:24:50.974Z"
   },
   {
    "duration": 883,
    "start_time": "2023-02-27T08:24:52.338Z"
   },
   {
    "duration": 217,
    "start_time": "2023-02-27T08:24:53.224Z"
   },
   {
    "duration": 40,
    "start_time": "2023-02-27T08:24:53.443Z"
   },
   {
    "duration": 70,
    "start_time": "2023-02-27T08:24:53.866Z"
   },
   {
    "duration": 122,
    "start_time": "2023-02-27T08:24:54.158Z"
   },
   {
    "duration": 143,
    "start_time": "2023-02-27T08:24:54.679Z"
   },
   {
    "duration": 82,
    "start_time": "2023-02-27T08:24:55.618Z"
   },
   {
    "duration": 175,
    "start_time": "2023-02-27T08:24:55.979Z"
   },
   {
    "duration": 149,
    "start_time": "2023-02-27T08:24:56.370Z"
   },
   {
    "duration": 73,
    "start_time": "2023-02-27T08:24:57.859Z"
   },
   {
    "duration": 63,
    "start_time": "2023-02-27T08:24:58.357Z"
   },
   {
    "duration": 62,
    "start_time": "2023-02-27T08:24:58.958Z"
   },
   {
    "duration": 95,
    "start_time": "2023-02-27T08:25:00.498Z"
   },
   {
    "duration": 184,
    "start_time": "2023-02-27T08:25:05.752Z"
   },
   {
    "duration": 195,
    "start_time": "2023-02-27T08:32:50.634Z"
   },
   {
    "duration": 198,
    "start_time": "2023-02-27T08:35:06.375Z"
   },
   {
    "duration": 18,
    "start_time": "2023-02-27T08:35:07.852Z"
   },
   {
    "duration": 10,
    "start_time": "2023-02-27T08:35:13.471Z"
   },
   {
    "duration": 8,
    "start_time": "2023-02-27T08:36:02.667Z"
   },
   {
    "duration": 236,
    "start_time": "2023-02-27T08:36:37.100Z"
   },
   {
    "duration": 4,
    "start_time": "2023-02-27T08:38:50.057Z"
   },
   {
    "duration": 830,
    "start_time": "2023-02-27T08:38:50.455Z"
   },
   {
    "duration": 132,
    "start_time": "2023-02-27T08:38:51.287Z"
   },
   {
    "duration": 115,
    "start_time": "2023-02-27T08:38:51.421Z"
   },
   {
    "duration": 417,
    "start_time": "2023-02-27T08:38:51.538Z"
   },
   {
    "duration": 905,
    "start_time": "2023-02-27T08:38:51.957Z"
   },
   {
    "duration": 219,
    "start_time": "2023-02-27T08:38:52.864Z"
   },
   {
    "duration": 52,
    "start_time": "2023-02-27T08:38:53.085Z"
   },
   {
    "duration": 80,
    "start_time": "2023-02-27T08:38:53.139Z"
   },
   {
    "duration": 129,
    "start_time": "2023-02-27T08:38:53.222Z"
   },
   {
    "duration": 161,
    "start_time": "2023-02-27T08:38:53.355Z"
   },
   {
    "duration": 96,
    "start_time": "2023-02-27T08:38:53.939Z"
   },
   {
    "duration": 173,
    "start_time": "2023-02-27T08:38:54.371Z"
   },
   {
    "duration": 173,
    "start_time": "2023-02-27T08:38:54.763Z"
   },
   {
    "duration": 82,
    "start_time": "2023-02-27T08:38:55.356Z"
   },
   {
    "duration": 62,
    "start_time": "2023-02-27T08:38:55.768Z"
   },
   {
    "duration": 77,
    "start_time": "2023-02-27T08:38:56.187Z"
   },
   {
    "duration": 116,
    "start_time": "2023-02-27T08:38:57.234Z"
   },
   {
    "duration": 201,
    "start_time": "2023-02-27T08:38:58.965Z"
   },
   {
    "duration": 824,
    "start_time": "2023-02-27T08:45:20.674Z"
   },
   {
    "duration": 818,
    "start_time": "2023-02-27T08:45:30.703Z"
   },
   {
    "duration": 925,
    "start_time": "2023-02-27T08:47:06.253Z"
   },
   {
    "duration": 19,
    "start_time": "2023-02-27T08:48:15.326Z"
   },
   {
    "duration": 23,
    "start_time": "2023-02-27T08:48:22.701Z"
   },
   {
    "duration": 11,
    "start_time": "2023-02-27T08:48:27.159Z"
   },
   {
    "duration": 23,
    "start_time": "2023-02-27T08:48:40.606Z"
   },
   {
    "duration": 18,
    "start_time": "2023-02-27T08:49:01.601Z"
   },
   {
    "duration": 29,
    "start_time": "2023-02-27T08:50:12.303Z"
   },
   {
    "duration": 12,
    "start_time": "2023-02-27T08:50:22.365Z"
   },
   {
    "duration": 4,
    "start_time": "2023-02-27T08:50:39.569Z"
   },
   {
    "duration": 766,
    "start_time": "2023-02-27T08:50:40.164Z"
   },
   {
    "duration": 133,
    "start_time": "2023-02-27T08:50:40.932Z"
   },
   {
    "duration": 125,
    "start_time": "2023-02-27T08:50:41.067Z"
   },
   {
    "duration": 455,
    "start_time": "2023-02-27T08:50:41.194Z"
   },
   {
    "duration": 933,
    "start_time": "2023-02-27T08:50:42.045Z"
   },
   {
    "duration": 225,
    "start_time": "2023-02-27T08:50:42.980Z"
   },
   {
    "duration": 43,
    "start_time": "2023-02-27T08:50:43.208Z"
   },
   {
    "duration": 87,
    "start_time": "2023-02-27T08:50:43.253Z"
   },
   {
    "duration": 113,
    "start_time": "2023-02-27T08:50:43.415Z"
   },
   {
    "duration": 169,
    "start_time": "2023-02-27T08:50:43.805Z"
   },
   {
    "duration": 89,
    "start_time": "2023-02-27T08:50:44.544Z"
   },
   {
    "duration": 173,
    "start_time": "2023-02-27T08:50:44.816Z"
   },
   {
    "duration": 163,
    "start_time": "2023-02-27T08:50:45.159Z"
   },
   {
    "duration": 89,
    "start_time": "2023-02-27T08:50:46.273Z"
   },
   {
    "duration": 56,
    "start_time": "2023-02-27T08:50:46.762Z"
   },
   {
    "duration": 80,
    "start_time": "2023-02-27T08:50:47.299Z"
   },
   {
    "duration": 99,
    "start_time": "2023-02-27T08:50:48.071Z"
   },
   {
    "duration": 842,
    "start_time": "2023-02-27T08:50:49.907Z"
   },
   {
    "duration": 12,
    "start_time": "2023-02-27T08:50:53.971Z"
   },
   {
    "duration": 4,
    "start_time": "2023-02-27T08:52:22.160Z"
   },
   {
    "duration": 780,
    "start_time": "2023-02-27T08:52:23.025Z"
   },
   {
    "duration": 126,
    "start_time": "2023-02-27T08:52:23.807Z"
   },
   {
    "duration": 112,
    "start_time": "2023-02-27T08:52:23.934Z"
   },
   {
    "duration": 513,
    "start_time": "2023-02-27T08:52:24.048Z"
   },
   {
    "duration": 962,
    "start_time": "2023-02-27T08:52:24.942Z"
   },
   {
    "duration": 238,
    "start_time": "2023-02-27T08:52:25.908Z"
   },
   {
    "duration": 34,
    "start_time": "2023-02-27T08:52:26.147Z"
   },
   {
    "duration": 69,
    "start_time": "2023-02-27T08:52:26.236Z"
   },
   {
    "duration": 121,
    "start_time": "2023-02-27T08:52:26.415Z"
   },
   {
    "duration": 172,
    "start_time": "2023-02-27T08:52:26.861Z"
   },
   {
    "duration": 96,
    "start_time": "2023-02-27T08:52:27.508Z"
   },
   {
    "duration": 201,
    "start_time": "2023-02-27T08:52:27.768Z"
   },
   {
    "duration": 166,
    "start_time": "2023-02-27T08:52:28.024Z"
   },
   {
    "duration": 94,
    "start_time": "2023-02-27T08:52:29.084Z"
   },
   {
    "duration": 64,
    "start_time": "2023-02-27T08:52:29.392Z"
   },
   {
    "duration": 65,
    "start_time": "2023-02-27T08:52:29.776Z"
   },
   {
    "duration": 93,
    "start_time": "2023-02-27T08:52:30.584Z"
   },
   {
    "duration": 937,
    "start_time": "2023-02-27T08:52:34.360Z"
   },
   {
    "duration": 11,
    "start_time": "2023-02-27T08:52:37.061Z"
   },
   {
    "duration": 14,
    "start_time": "2023-02-27T08:52:49.160Z"
   },
   {
    "duration": 11,
    "start_time": "2023-02-27T08:53:03.910Z"
   },
   {
    "duration": 5,
    "start_time": "2023-02-27T08:54:55.265Z"
   },
   {
    "duration": 739,
    "start_time": "2023-02-27T08:54:55.884Z"
   },
   {
    "duration": 112,
    "start_time": "2023-02-27T08:54:56.625Z"
   },
   {
    "duration": 114,
    "start_time": "2023-02-27T08:54:56.986Z"
   },
   {
    "duration": 398,
    "start_time": "2023-02-27T08:54:57.297Z"
   },
   {
    "duration": 829,
    "start_time": "2023-02-27T08:54:58.261Z"
   },
   {
    "duration": 251,
    "start_time": "2023-02-27T08:54:59.092Z"
   },
   {
    "duration": 35,
    "start_time": "2023-02-27T08:54:59.344Z"
   },
   {
    "duration": 82,
    "start_time": "2023-02-27T08:54:59.550Z"
   },
   {
    "duration": 107,
    "start_time": "2023-02-27T08:54:59.780Z"
   },
   {
    "duration": 147,
    "start_time": "2023-02-27T08:55:00.333Z"
   },
   {
    "duration": 99,
    "start_time": "2023-02-27T08:55:01.160Z"
   },
   {
    "duration": 182,
    "start_time": "2023-02-27T08:55:01.403Z"
   },
   {
    "duration": 176,
    "start_time": "2023-02-27T08:55:01.702Z"
   },
   {
    "duration": 83,
    "start_time": "2023-02-27T08:55:02.510Z"
   },
   {
    "duration": 49,
    "start_time": "2023-02-27T08:55:02.797Z"
   },
   {
    "duration": 65,
    "start_time": "2023-02-27T08:55:03.135Z"
   },
   {
    "duration": 120,
    "start_time": "2023-02-27T08:55:04.046Z"
   },
   {
    "duration": 793,
    "start_time": "2023-02-27T08:55:04.850Z"
   },
   {
    "duration": 9,
    "start_time": "2023-02-27T08:55:07.072Z"
   },
   {
    "duration": 18,
    "start_time": "2023-02-27T08:56:24.960Z"
   },
   {
    "duration": 4,
    "start_time": "2023-02-27T08:56:30.395Z"
   },
   {
    "duration": 865,
    "start_time": "2023-02-27T08:56:30.698Z"
   },
   {
    "duration": 121,
    "start_time": "2023-02-27T08:56:31.565Z"
   },
   {
    "duration": 118,
    "start_time": "2023-02-27T08:56:31.688Z"
   },
   {
    "duration": 472,
    "start_time": "2023-02-27T08:56:31.808Z"
   },
   {
    "duration": 975,
    "start_time": "2023-02-27T08:56:32.281Z"
   },
   {
    "duration": 217,
    "start_time": "2023-02-27T08:56:33.258Z"
   },
   {
    "duration": 43,
    "start_time": "2023-02-27T08:56:33.476Z"
   },
   {
    "duration": 91,
    "start_time": "2023-02-27T08:56:33.521Z"
   },
   {
    "duration": 122,
    "start_time": "2023-02-27T08:56:33.615Z"
   },
   {
    "duration": 170,
    "start_time": "2023-02-27T08:56:33.739Z"
   },
   {
    "duration": 115,
    "start_time": "2023-02-27T08:56:33.912Z"
   },
   {
    "duration": 230,
    "start_time": "2023-02-27T08:56:34.029Z"
   },
   {
    "duration": 169,
    "start_time": "2023-02-27T08:56:34.262Z"
   },
   {
    "duration": 72,
    "start_time": "2023-02-27T08:56:34.899Z"
   },
   {
    "duration": 37,
    "start_time": "2023-02-27T08:56:35.299Z"
   },
   {
    "duration": 63,
    "start_time": "2023-02-27T08:56:35.659Z"
   },
   {
    "duration": 99,
    "start_time": "2023-02-27T08:56:36.557Z"
   },
   {
    "duration": 1067,
    "start_time": "2023-02-27T08:56:38.476Z"
   },
   {
    "duration": 763,
    "start_time": "2023-02-27T09:03:19.232Z"
   },
   {
    "duration": 15,
    "start_time": "2023-02-27T09:03:38.361Z"
   },
   {
    "duration": 17,
    "start_time": "2023-02-27T09:03:39.917Z"
   },
   {
    "duration": 81,
    "start_time": "2023-02-27T09:08:50.060Z"
   },
   {
    "duration": 11,
    "start_time": "2023-02-27T09:10:01.453Z"
   },
   {
    "duration": 9,
    "start_time": "2023-02-27T09:10:23.710Z"
   },
   {
    "duration": 734,
    "start_time": "2023-02-27T09:10:24.329Z"
   },
   {
    "duration": 126,
    "start_time": "2023-02-27T09:10:25.065Z"
   },
   {
    "duration": 115,
    "start_time": "2023-02-27T09:10:25.193Z"
   },
   {
    "duration": 450,
    "start_time": "2023-02-27T09:10:25.310Z"
   },
   {
    "duration": 821,
    "start_time": "2023-02-27T09:10:26.063Z"
   },
   {
    "duration": 197,
    "start_time": "2023-02-27T09:10:26.886Z"
   },
   {
    "duration": 47,
    "start_time": "2023-02-27T09:10:27.085Z"
   },
   {
    "duration": 90,
    "start_time": "2023-02-27T09:10:27.134Z"
   },
   {
    "duration": 119,
    "start_time": "2023-02-27T09:10:27.337Z"
   },
   {
    "duration": 165,
    "start_time": "2023-02-27T09:10:27.714Z"
   },
   {
    "duration": 83,
    "start_time": "2023-02-27T09:10:28.311Z"
   },
   {
    "duration": 164,
    "start_time": "2023-02-27T09:10:28.555Z"
   },
   {
    "duration": 148,
    "start_time": "2023-02-27T09:10:28.828Z"
   },
   {
    "duration": 73,
    "start_time": "2023-02-27T09:10:29.742Z"
   },
   {
    "duration": 65,
    "start_time": "2023-02-27T09:10:30.081Z"
   },
   {
    "duration": 80,
    "start_time": "2023-02-27T09:10:30.374Z"
   },
   {
    "duration": 100,
    "start_time": "2023-02-27T09:10:31.142Z"
   },
   {
    "duration": 693,
    "start_time": "2023-02-27T09:10:32.214Z"
   },
   {
    "duration": 15,
    "start_time": "2023-02-27T09:10:32.909Z"
   },
   {
    "duration": 15,
    "start_time": "2023-02-27T09:10:33.111Z"
   },
   {
    "duration": 72141,
    "start_time": "2023-02-27T09:10:39.831Z"
   },
   {
    "duration": 255765,
    "start_time": "2023-02-27T09:11:53.767Z"
   },
   {
    "duration": 85,
    "start_time": "2023-02-27T09:20:50.137Z"
   },
   {
    "duration": 127706,
    "start_time": "2023-02-27T09:21:01.090Z"
   },
   {
    "duration": 24225,
    "start_time": "2023-02-27T09:31:33.268Z"
   },
   {
    "duration": 23753,
    "start_time": "2023-02-27T09:32:05.967Z"
   },
   {
    "duration": 83,
    "start_time": "2023-02-27T09:33:45.006Z"
   },
   {
    "duration": 342622,
    "start_time": "2023-02-27T09:48:19.671Z"
   },
   {
    "duration": 4,
    "start_time": "2023-02-27T09:57:51.832Z"
   },
   {
    "duration": 836,
    "start_time": "2023-02-27T09:57:56.774Z"
   },
   {
    "duration": 119,
    "start_time": "2023-02-27T09:57:58.890Z"
   },
   {
    "duration": 128,
    "start_time": "2023-02-27T09:57:59.313Z"
   },
   {
    "duration": 436,
    "start_time": "2023-02-27T09:57:59.658Z"
   },
   {
    "duration": 908,
    "start_time": "2023-02-27T09:58:00.852Z"
   },
   {
    "duration": 206,
    "start_time": "2023-02-27T09:58:01.762Z"
   },
   {
    "duration": 37,
    "start_time": "2023-02-27T09:58:05.105Z"
   },
   {
    "duration": 69,
    "start_time": "2023-02-27T09:58:05.849Z"
   },
   {
    "duration": 109,
    "start_time": "2023-02-27T09:58:06.233Z"
   },
   {
    "duration": 260,
    "start_time": "2023-02-27T09:58:09.370Z"
   },
   {
    "duration": 85,
    "start_time": "2023-02-27T09:58:12.868Z"
   },
   {
    "duration": 217,
    "start_time": "2023-02-27T09:58:14.203Z"
   },
   {
    "duration": 163,
    "start_time": "2023-02-27T09:58:15.465Z"
   },
   {
    "duration": 75,
    "start_time": "2023-02-27T09:58:20.289Z"
   },
   {
    "duration": 67,
    "start_time": "2023-02-27T09:58:28.766Z"
   },
   {
    "duration": 72,
    "start_time": "2023-02-27T09:58:29.562Z"
   },
   {
    "duration": 95,
    "start_time": "2023-02-27T09:58:34.321Z"
   },
   {
    "duration": 723,
    "start_time": "2023-02-27T09:58:38.578Z"
   },
   {
    "duration": 22,
    "start_time": "2023-02-27T09:58:41.907Z"
   },
   {
    "duration": 16,
    "start_time": "2023-02-27T09:58:42.562Z"
   },
   {
    "duration": 9358,
    "start_time": "2023-02-27T09:58:53.169Z"
   },
   {
    "duration": 344951,
    "start_time": "2023-02-27T09:59:02.530Z"
   },
   {
    "duration": 76,
    "start_time": "2023-02-27T10:04:47.483Z"
   },
   {
    "duration": 0,
    "start_time": "2023-02-27T10:04:47.561Z"
   },
   {
    "duration": 74,
    "start_time": "2023-02-27T10:05:36.656Z"
   },
   {
    "duration": 82,
    "start_time": "2023-02-27T10:05:48.061Z"
   },
   {
    "duration": 1095012,
    "start_time": "2023-02-27T10:05:55.310Z"
   },
   {
    "duration": 0,
    "start_time": "2023-02-27T10:24:10.325Z"
   },
   {
    "duration": 0,
    "start_time": "2023-02-27T10:24:10.326Z"
   },
   {
    "duration": 4,
    "start_time": "2023-02-27T11:07:27.177Z"
   },
   {
    "duration": 823,
    "start_time": "2023-02-27T11:07:29.065Z"
   },
   {
    "duration": 123,
    "start_time": "2023-02-27T11:07:32.681Z"
   },
   {
    "duration": 142,
    "start_time": "2023-02-27T11:07:33.590Z"
   },
   {
    "duration": 429,
    "start_time": "2023-02-27T11:07:35.259Z"
   },
   {
    "duration": 958,
    "start_time": "2023-02-27T11:07:37.135Z"
   },
   {
    "duration": 212,
    "start_time": "2023-02-27T11:07:40.465Z"
   },
   {
    "duration": 38,
    "start_time": "2023-02-27T11:07:40.930Z"
   },
   {
    "duration": 94,
    "start_time": "2023-02-27T11:07:44.357Z"
   },
   {
    "duration": 126,
    "start_time": "2023-02-27T11:07:46.518Z"
   },
   {
    "duration": 177,
    "start_time": "2023-02-27T11:07:50.199Z"
   },
   {
    "duration": 100,
    "start_time": "2023-02-27T11:07:53.670Z"
   },
   {
    "duration": 210,
    "start_time": "2023-02-27T11:07:55.729Z"
   },
   {
    "duration": 178,
    "start_time": "2023-02-27T11:07:57.697Z"
   },
   {
    "duration": 65,
    "start_time": "2023-02-27T11:08:01.693Z"
   },
   {
    "duration": 66,
    "start_time": "2023-02-27T11:08:02.647Z"
   },
   {
    "duration": 104,
    "start_time": "2023-02-27T11:08:05.577Z"
   },
   {
    "duration": 783,
    "start_time": "2023-02-27T11:08:11.102Z"
   },
   {
    "duration": 19,
    "start_time": "2023-02-27T11:08:11.887Z"
   },
   {
    "duration": 24,
    "start_time": "2023-02-27T11:08:13.661Z"
   },
   {
    "duration": 10329,
    "start_time": "2023-02-27T11:08:20.962Z"
   },
   {
    "duration": 376428,
    "start_time": "2023-02-27T11:09:14.460Z"
   },
   {
    "duration": 1870260,
    "start_time": "2023-02-27T11:19:02.961Z"
   },
   {
    "duration": 352927,
    "start_time": "2023-02-27T11:50:13.224Z"
   },
   {
    "duration": 11,
    "start_time": "2023-02-27T11:56:49.437Z"
   },
   {
    "duration": 23959,
    "start_time": "2023-02-27T11:57:11.704Z"
   },
   {
    "duration": 69,
    "start_time": "2023-02-28T08:15:30.816Z"
   },
   {
    "duration": 1855,
    "start_time": "2023-02-28T08:29:13.924Z"
   },
   {
    "duration": 2904,
    "start_time": "2023-02-28T08:29:15.781Z"
   },
   {
    "duration": 156,
    "start_time": "2023-02-28T08:29:20.868Z"
   },
   {
    "duration": 155,
    "start_time": "2023-02-28T08:29:21.087Z"
   },
   {
    "duration": 502,
    "start_time": "2023-02-28T08:29:21.262Z"
   },
   {
    "duration": 124,
    "start_time": "2023-02-28T08:30:01.318Z"
   },
   {
    "duration": 4,
    "start_time": "2023-02-28T08:30:11.775Z"
   },
   {
    "duration": 967,
    "start_time": "2023-02-28T08:30:12.294Z"
   },
   {
    "duration": 156,
    "start_time": "2023-02-28T08:30:13.263Z"
   },
   {
    "duration": 149,
    "start_time": "2023-02-28T08:30:13.421Z"
   },
   {
    "duration": 509,
    "start_time": "2023-02-28T08:30:13.572Z"
   },
   {
    "duration": 1040,
    "start_time": "2023-02-28T08:30:16.225Z"
   },
   {
    "duration": 278,
    "start_time": "2023-02-28T08:30:17.267Z"
   },
   {
    "duration": 48,
    "start_time": "2023-02-28T08:30:17.547Z"
   },
   {
    "duration": 102,
    "start_time": "2023-02-28T08:30:17.597Z"
   },
   {
    "duration": 148,
    "start_time": "2023-02-28T08:30:17.701Z"
   },
   {
    "duration": 187,
    "start_time": "2023-02-28T08:30:20.145Z"
   },
   {
    "duration": 92,
    "start_time": "2023-02-28T08:30:23.652Z"
   },
   {
    "duration": 205,
    "start_time": "2023-02-28T08:30:24.043Z"
   },
   {
    "duration": 175,
    "start_time": "2023-02-28T08:30:27.117Z"
   },
   {
    "duration": 65,
    "start_time": "2023-02-28T08:30:30.278Z"
   },
   {
    "duration": 85,
    "start_time": "2023-02-28T08:30:31.396Z"
   },
   {
    "duration": 89,
    "start_time": "2023-02-28T08:30:35.146Z"
   },
   {
    "duration": 854,
    "start_time": "2023-02-28T08:30:38.748Z"
   },
   {
    "duration": 14,
    "start_time": "2023-02-28T08:30:39.610Z"
   },
   {
    "duration": 14,
    "start_time": "2023-02-28T08:30:39.702Z"
   },
   {
    "duration": 9971,
    "start_time": "2023-02-28T08:30:49.604Z"
   },
   {
    "duration": 9909,
    "start_time": "2023-02-28T08:38:58.718Z"
   },
   {
    "duration": 10190,
    "start_time": "2023-02-28T08:44:17.157Z"
   },
   {
    "duration": 10280,
    "start_time": "2023-02-28T08:45:46.073Z"
   },
   {
    "duration": 9112,
    "start_time": "2023-02-28T09:02:42.702Z"
   },
   {
    "duration": 9385,
    "start_time": "2023-02-28T09:03:43.685Z"
   },
   {
    "duration": 9735,
    "start_time": "2023-02-28T09:54:14.427Z"
   },
   {
    "duration": 4,
    "start_time": "2023-02-28T09:54:24.164Z"
   },
   {
    "duration": 4,
    "start_time": "2023-02-28T09:54:44.465Z"
   },
   {
    "duration": 4,
    "start_time": "2023-02-28T09:55:39.676Z"
   },
   {
    "duration": 4,
    "start_time": "2023-02-28T09:55:55.715Z"
   },
   {
    "duration": 4,
    "start_time": "2023-02-28T09:56:52.230Z"
   },
   {
    "duration": 5,
    "start_time": "2023-02-28T09:56:57.891Z"
   },
   {
    "duration": 5,
    "start_time": "2023-02-28T09:57:02.012Z"
   },
   {
    "duration": 5,
    "start_time": "2023-02-28T09:57:06.636Z"
   },
   {
    "duration": 9786,
    "start_time": "2023-02-28T09:58:57.075Z"
   },
   {
    "duration": 9681,
    "start_time": "2023-02-28T09:59:27.057Z"
   },
   {
    "duration": 354059,
    "start_time": "2023-02-28T10:06:49.632Z"
   },
   {
    "duration": 4,
    "start_time": "2023-02-28T10:13:11.957Z"
   },
   {
    "duration": 5,
    "start_time": "2023-02-28T10:13:18.744Z"
   },
   {
    "duration": 44268,
    "start_time": "2023-02-28T10:13:41.784Z"
   },
   {
    "duration": 330810,
    "start_time": "2023-02-28T10:14:26.054Z"
   },
   {
    "duration": 0,
    "start_time": "2023-02-28T10:19:56.867Z"
   },
   {
    "duration": 332092,
    "start_time": "2023-02-28T10:20:42.778Z"
   },
   {
    "duration": 5,
    "start_time": "2023-02-28T10:26:14.873Z"
   },
   {
    "duration": 4,
    "start_time": "2023-02-28T10:29:18.282Z"
   },
   {
    "duration": 4,
    "start_time": "2023-02-28T10:29:24.381Z"
   },
   {
    "duration": 4,
    "start_time": "2023-02-28T10:29:28.981Z"
   },
   {
    "duration": 4,
    "start_time": "2023-02-28T10:29:39.514Z"
   },
   {
    "duration": 3,
    "start_time": "2023-02-28T10:29:43.677Z"
   },
   {
    "duration": 4,
    "start_time": "2023-02-28T10:29:47.483Z"
   },
   {
    "duration": 4,
    "start_time": "2023-02-28T10:29:54.881Z"
   },
   {
    "duration": 9,
    "start_time": "2023-02-28T10:30:16.995Z"
   },
   {
    "duration": 13,
    "start_time": "2023-02-28T10:32:35.239Z"
   },
   {
    "duration": 22814,
    "start_time": "2023-02-28T10:32:43.845Z"
   },
   {
    "duration": 82,
    "start_time": "2023-02-28T10:33:06.661Z"
   },
   {
    "duration": 79,
    "start_time": "2023-02-28T10:34:20.881Z"
   },
   {
    "duration": 86,
    "start_time": "2023-02-28T10:36:33.910Z"
   },
   {
    "duration": 84,
    "start_time": "2023-02-28T10:37:31.614Z"
   },
   {
    "duration": 176,
    "start_time": "2023-02-28T10:41:24.313Z"
   },
   {
    "duration": 397,
    "start_time": "2023-02-28T10:41:49.580Z"
   },
   {
    "duration": 16,
    "start_time": "2023-02-28T10:42:32.665Z"
   },
   {
    "duration": 461,
    "start_time": "2023-02-28T10:42:53.396Z"
   },
   {
    "duration": 149,
    "start_time": "2023-02-28T10:44:45.532Z"
   },
   {
    "duration": 91,
    "start_time": "2023-02-28T10:45:58.504Z"
   },
   {
    "duration": 11,
    "start_time": "2023-02-28T10:50:22.130Z"
   },
   {
    "duration": 5,
    "start_time": "2023-02-28T10:51:43.668Z"
   },
   {
    "duration": 871,
    "start_time": "2023-02-28T10:51:45.612Z"
   },
   {
    "duration": 168,
    "start_time": "2023-02-28T10:51:47.322Z"
   },
   {
    "duration": 133,
    "start_time": "2023-02-28T10:51:49.923Z"
   },
   {
    "duration": 468,
    "start_time": "2023-02-28T10:51:50.825Z"
   },
   {
    "duration": 951,
    "start_time": "2023-02-28T10:51:55.087Z"
   },
   {
    "duration": 213,
    "start_time": "2023-02-28T10:51:58.627Z"
   },
   {
    "duration": 11,
    "start_time": "2023-02-28T10:52:01.778Z"
   },
   {
    "duration": 29,
    "start_time": "2023-02-28T10:52:09.086Z"
   },
   {
    "duration": 129,
    "start_time": "2023-02-28T10:56:42.136Z"
   },
   {
    "duration": 57,
    "start_time": "2023-02-28T10:56:56.898Z"
   },
   {
    "duration": 107,
    "start_time": "2023-02-28T10:58:01.903Z"
   },
   {
    "duration": 6,
    "start_time": "2023-02-28T11:00:30.172Z"
   },
   {
    "duration": 813,
    "start_time": "2023-02-28T11:01:26.013Z"
   },
   {
    "duration": 148,
    "start_time": "2023-02-28T11:01:29.168Z"
   },
   {
    "duration": 176,
    "start_time": "2023-02-28T11:01:32.398Z"
   },
   {
    "duration": 436,
    "start_time": "2023-02-28T11:01:35.469Z"
   },
   {
    "duration": 921,
    "start_time": "2023-02-28T11:01:40.916Z"
   },
   {
    "duration": 202,
    "start_time": "2023-02-28T11:01:44.784Z"
   },
   {
    "duration": 49,
    "start_time": "2023-02-28T11:01:50.167Z"
   },
   {
    "duration": 46,
    "start_time": "2023-02-28T11:01:52.084Z"
   },
   {
    "duration": 100,
    "start_time": "2023-02-28T11:01:56.401Z"
   },
   {
    "duration": 176,
    "start_time": "2023-02-28T11:01:58.879Z"
   },
   {
    "duration": 206,
    "start_time": "2023-02-28T11:02:03.518Z"
   },
   {
    "duration": 96,
    "start_time": "2023-02-28T11:02:07.866Z"
   },
   {
    "duration": 178,
    "start_time": "2023-02-28T11:02:10.199Z"
   },
   {
    "duration": 180,
    "start_time": "2023-02-28T11:02:14.706Z"
   },
   {
    "duration": 56,
    "start_time": "2023-02-28T11:02:23.993Z"
   },
   {
    "duration": 118,
    "start_time": "2023-02-28T11:09:16.220Z"
   },
   {
    "duration": 85,
    "start_time": "2023-02-28T11:09:27.735Z"
   },
   {
    "duration": 715,
    "start_time": "2023-02-28T11:09:33.536Z"
   },
   {
    "duration": 14,
    "start_time": "2023-02-28T11:09:34.596Z"
   },
   {
    "duration": 15,
    "start_time": "2023-02-28T11:09:35.745Z"
   },
   {
    "duration": 9821,
    "start_time": "2023-02-28T11:09:51.085Z"
   },
   {
    "duration": 5,
    "start_time": "2023-02-28T11:10:28.919Z"
   },
   {
    "duration": 5,
    "start_time": "2023-02-28T11:11:30.341Z"
   },
   {
    "duration": 5,
    "start_time": "2023-02-28T11:11:36.400Z"
   },
   {
    "duration": 349252,
    "start_time": "2023-02-28T11:11:45.701Z"
   },
   {
    "duration": 4,
    "start_time": "2023-02-28T11:17:34.955Z"
   },
   {
    "duration": 11,
    "start_time": "2023-02-28T12:23:48.477Z"
   },
   {
    "duration": 857,
    "start_time": "2023-02-28T12:23:49.314Z"
   },
   {
    "duration": 137,
    "start_time": "2023-02-28T12:23:50.172Z"
   },
   {
    "duration": 151,
    "start_time": "2023-02-28T12:23:50.475Z"
   },
   {
    "duration": 431,
    "start_time": "2023-02-28T12:23:50.628Z"
   },
   {
    "duration": 892,
    "start_time": "2023-02-28T12:23:51.061Z"
   },
   {
    "duration": 208,
    "start_time": "2023-02-28T12:23:51.956Z"
   },
   {
    "duration": 28,
    "start_time": "2023-02-28T12:23:52.166Z"
   },
   {
    "duration": 59,
    "start_time": "2023-02-28T12:23:52.196Z"
   },
   {
    "duration": 93,
    "start_time": "2023-02-28T12:23:52.257Z"
   },
   {
    "duration": 245,
    "start_time": "2023-02-28T12:23:52.352Z"
   },
   {
    "duration": 218,
    "start_time": "2023-02-28T12:23:52.600Z"
   },
   {
    "duration": 96,
    "start_time": "2023-02-28T12:23:52.820Z"
   },
   {
    "duration": 221,
    "start_time": "2023-02-28T12:23:52.920Z"
   },
   {
    "duration": 159,
    "start_time": "2023-02-28T12:23:53.144Z"
   },
   {
    "duration": 42,
    "start_time": "2023-02-28T12:23:53.304Z"
   },
   {
    "duration": 117,
    "start_time": "2023-02-28T12:23:53.348Z"
   },
   {
    "duration": 117,
    "start_time": "2023-02-28T12:23:53.466Z"
   },
   {
    "duration": 812,
    "start_time": "2023-02-28T12:23:53.585Z"
   },
   {
    "duration": 17,
    "start_time": "2023-02-28T12:23:54.399Z"
   },
   {
    "duration": 29,
    "start_time": "2023-02-28T12:23:54.417Z"
   },
   {
    "duration": 9381,
    "start_time": "2023-02-28T12:23:54.448Z"
   },
   {
    "duration": 7,
    "start_time": "2023-02-28T12:24:03.831Z"
   },
   {
    "duration": 357462,
    "start_time": "2023-02-28T12:24:03.840Z"
   },
   {
    "duration": 6,
    "start_time": "2023-02-28T12:30:01.304Z"
   },
   {
    "duration": 1827059,
    "start_time": "2023-02-28T12:30:01.312Z"
   },
   {
    "duration": 72,
    "start_time": "2023-02-28T13:00:28.373Z"
   },
   {
    "duration": 376942,
    "start_time": "2023-02-28T13:00:28.450Z"
   },
   {
    "duration": 7,
    "start_time": "2023-02-28T13:06:45.394Z"
   },
   {
    "duration": 22,
    "start_time": "2023-02-28T13:06:45.403Z"
   },
   {
    "duration": 33,
    "start_time": "2023-02-28T13:06:45.426Z"
   },
   {
    "duration": 22920,
    "start_time": "2023-02-28T13:19:02.191Z"
   },
   {
    "duration": 145,
    "start_time": "2023-02-28T13:19:51.284Z"
   },
   {
    "duration": 1610,
    "start_time": "2023-02-28T17:48:36.776Z"
   },
   {
    "duration": 3000,
    "start_time": "2023-02-28T17:48:40.589Z"
   },
   {
    "duration": 129,
    "start_time": "2023-02-28T17:48:45.493Z"
   },
   {
    "duration": 129,
    "start_time": "2023-02-28T17:48:47.828Z"
   },
   {
    "duration": 479,
    "start_time": "2023-02-28T17:48:48.215Z"
   },
   {
    "duration": 903,
    "start_time": "2023-02-28T17:48:51.298Z"
   },
   {
    "duration": 236,
    "start_time": "2023-02-28T17:48:53.683Z"
   },
   {
    "duration": 33,
    "start_time": "2023-02-28T17:48:56.595Z"
   },
   {
    "duration": 45,
    "start_time": "2023-02-28T17:48:56.758Z"
   },
   {
    "duration": 88,
    "start_time": "2023-02-28T17:48:59.235Z"
   },
   {
    "duration": 127,
    "start_time": "2023-02-28T17:49:01.764Z"
   },
   {
    "duration": 166,
    "start_time": "2023-02-28T17:49:05.077Z"
   },
   {
    "duration": 81,
    "start_time": "2023-02-28T17:49:09.848Z"
   },
   {
    "duration": 174,
    "start_time": "2023-02-28T17:49:10.078Z"
   },
   {
    "duration": 145,
    "start_time": "2023-02-28T17:49:12.630Z"
   },
   {
    "duration": 65,
    "start_time": "2023-02-28T17:49:15.658Z"
   },
   {
    "duration": 80,
    "start_time": "2023-02-28T17:49:18.530Z"
   },
   {
    "duration": 77,
    "start_time": "2023-02-28T17:49:21.323Z"
   },
   {
    "duration": 830,
    "start_time": "2023-02-28T17:49:22.995Z"
   },
   {
    "duration": 14,
    "start_time": "2023-02-28T17:49:25.039Z"
   },
   {
    "duration": 14,
    "start_time": "2023-02-28T17:49:25.652Z"
   },
   {
    "duration": 8404,
    "start_time": "2023-02-28T17:49:35.811Z"
   },
   {
    "duration": 363,
    "start_time": "2023-02-28T17:49:50.561Z"
   },
   {
    "duration": 367,
    "start_time": "2023-02-28T17:50:26.730Z"
   },
   {
    "duration": 323656,
    "start_time": "2023-02-28T17:50:35.643Z"
   },
   {
    "duration": 19621,
    "start_time": "2023-02-28T17:55:59.300Z"
   },
   {
    "duration": 201592,
    "start_time": "2023-02-28T17:56:18.922Z"
   },
   {
    "duration": 4076,
    "start_time": "2023-02-28T17:59:40.517Z"
   },
   {
    "duration": 326503,
    "start_time": "2023-02-28T17:59:44.595Z"
   },
   {
    "duration": 113,
    "start_time": "2023-02-28T18:05:11.100Z"
   },
   {
    "duration": 0,
    "start_time": "2023-02-28T18:05:11.214Z"
   },
   {
    "duration": 0,
    "start_time": "2023-02-28T18:05:11.215Z"
   },
   {
    "duration": 18259,
    "start_time": "2023-02-28T18:14:43.638Z"
   },
   {
    "duration": 18476,
    "start_time": "2023-02-28T18:15:32.442Z"
   },
   {
    "duration": 10,
    "start_time": "2023-02-28T18:16:21.512Z"
   },
   {
    "duration": 19846,
    "start_time": "2023-02-28T18:16:33.636Z"
   },
   {
    "duration": 67,
    "start_time": "2023-03-02T09:07:44.188Z"
   },
   {
    "duration": 1631,
    "start_time": "2023-03-02T09:07:56.358Z"
   },
   {
    "duration": 1256,
    "start_time": "2023-03-02T09:07:57.992Z"
   },
   {
    "duration": 1455,
    "start_time": "2023-06-04T12:29:05.575Z"
   },
   {
    "duration": 864,
    "start_time": "2023-06-04T12:29:07.581Z"
   },
   {
    "duration": 118,
    "start_time": "2023-06-04T12:29:09.249Z"
   },
   {
    "duration": 113,
    "start_time": "2023-06-04T12:29:10.021Z"
   },
   {
    "duration": 344,
    "start_time": "2023-06-04T12:29:10.649Z"
   },
   {
    "duration": 687,
    "start_time": "2023-06-04T12:29:12.678Z"
   },
   {
    "duration": 208,
    "start_time": "2023-06-04T12:29:14.700Z"
   },
   {
    "duration": 117,
    "start_time": "2023-06-04T12:29:19.260Z"
   },
   {
    "duration": 17,
    "start_time": "2023-06-04T12:29:28.929Z"
   },
   {
    "duration": 4,
    "start_time": "2023-06-04T13:58:23.586Z"
   },
   {
    "duration": 952,
    "start_time": "2023-06-04T13:58:26.042Z"
   },
   {
    "duration": 143,
    "start_time": "2023-06-04T13:58:27.864Z"
   },
   {
    "duration": 10,
    "start_time": "2023-06-04T13:59:18.202Z"
   },
   {
    "duration": 10,
    "start_time": "2023-06-04T13:59:18.889Z"
   },
   {
    "duration": 5,
    "start_time": "2023-06-04T13:59:26.465Z"
   },
   {
    "duration": 873,
    "start_time": "2023-06-04T13:59:27.696Z"
   },
   {
    "duration": 136,
    "start_time": "2023-06-04T13:59:28.571Z"
   },
   {
    "duration": 144,
    "start_time": "2023-06-04T13:59:28.708Z"
   },
   {
    "duration": 352,
    "start_time": "2023-06-04T13:59:29.331Z"
   },
   {
    "duration": 743,
    "start_time": "2023-06-04T13:59:30.344Z"
   },
   {
    "duration": 212,
    "start_time": "2023-06-04T13:59:31.089Z"
   },
   {
    "duration": 10,
    "start_time": "2023-06-04T13:59:32.299Z"
   },
   {
    "duration": 14,
    "start_time": "2023-06-04T13:59:32.683Z"
   },
   {
    "duration": 89,
    "start_time": "2023-06-04T13:59:46.072Z"
   },
   {
    "duration": 46,
    "start_time": "2023-06-04T13:59:48.111Z"
   },
   {
    "duration": 123,
    "start_time": "2023-06-04T13:59:49.759Z"
   },
   {
    "duration": 149,
    "start_time": "2023-06-04T13:59:50.488Z"
   },
   {
    "duration": 194,
    "start_time": "2023-06-04T13:59:50.846Z"
   },
   {
    "duration": 92,
    "start_time": "2023-06-04T13:59:53.259Z"
   },
   {
    "duration": 281,
    "start_time": "2023-06-04T13:59:53.707Z"
   },
   {
    "duration": 160,
    "start_time": "2023-06-04T13:59:54.415Z"
   },
   {
    "duration": 77,
    "start_time": "2023-06-04T14:00:03.087Z"
   },
   {
    "duration": 101,
    "start_time": "2023-06-04T14:00:05.486Z"
   },
   {
    "duration": 83,
    "start_time": "2023-06-04T14:00:06.662Z"
   },
   {
    "duration": 843,
    "start_time": "2023-06-04T14:00:07.676Z"
   },
   {
    "duration": 20,
    "start_time": "2023-06-04T14:00:08.959Z"
   },
   {
    "duration": 18,
    "start_time": "2023-06-04T14:00:09.746Z"
   },
   {
    "duration": 9965,
    "start_time": "2023-06-04T14:00:24.275Z"
   },
   {
    "duration": 500,
    "start_time": "2023-06-04T14:00:39.859Z"
   },
   {
    "duration": 332500,
    "start_time": "2023-06-04T14:00:49.081Z"
   },
   {
    "duration": 7,
    "start_time": "2023-06-04T15:09:10.869Z"
   },
   {
    "duration": 1028,
    "start_time": "2023-06-04T15:09:11.690Z"
   },
   {
    "duration": 161,
    "start_time": "2023-06-04T15:09:13.484Z"
   },
   {
    "duration": 126,
    "start_time": "2023-06-04T15:09:14.386Z"
   },
   {
    "duration": 343,
    "start_time": "2023-06-04T15:09:14.906Z"
   },
   {
    "duration": 758,
    "start_time": "2023-06-04T15:09:15.895Z"
   },
   {
    "duration": 250,
    "start_time": "2023-06-04T15:09:16.655Z"
   },
   {
    "duration": 46,
    "start_time": "2023-06-04T15:09:17.650Z"
   },
   {
    "duration": 90,
    "start_time": "2023-06-04T15:09:18.660Z"
   },
   {
    "duration": 188,
    "start_time": "2023-06-04T15:09:18.891Z"
   },
   {
    "duration": 192,
    "start_time": "2023-06-04T15:09:20.048Z"
   },
   {
    "duration": 80,
    "start_time": "2023-06-04T15:09:21.185Z"
   },
   {
    "duration": 159,
    "start_time": "2023-06-04T15:09:21.653Z"
   },
   {
    "duration": 177,
    "start_time": "2023-06-04T15:09:22.102Z"
   },
   {
    "duration": 68,
    "start_time": "2023-06-04T15:09:23.125Z"
   },
   {
    "duration": 92,
    "start_time": "2023-06-04T15:09:24.693Z"
   },
   {
    "duration": 124,
    "start_time": "2023-06-04T15:09:25.852Z"
   },
   {
    "duration": 809,
    "start_time": "2023-06-04T15:09:27.956Z"
   },
   {
    "duration": 19,
    "start_time": "2023-06-04T15:09:29.514Z"
   },
   {
    "duration": 12,
    "start_time": "2023-06-04T15:09:30.162Z"
   },
   {
    "duration": 10213,
    "start_time": "2023-06-04T15:09:34.101Z"
   },
   {
    "duration": 582,
    "start_time": "2023-06-04T15:09:44.317Z"
   },
   {
    "duration": 371586,
    "start_time": "2023-06-04T15:09:45.371Z"
   },
   {
    "duration": 22458,
    "start_time": "2023-06-04T15:15:56.959Z"
   },
   {
    "duration": 3440815,
    "start_time": "2023-06-04T15:16:19.418Z"
   },
   {
    "duration": 345496,
    "start_time": "2023-06-04T16:13:40.241Z"
   },
   {
    "duration": 131534,
    "start_time": "2023-06-04T16:19:25.748Z"
   },
   {
    "duration": 19033,
    "start_time": "2023-06-04T16:21:37.285Z"
   },
   {
    "duration": 15,
    "start_time": "2023-06-04T16:21:56.320Z"
   },
   {
    "duration": 22521,
    "start_time": "2023-06-04T16:21:56.341Z"
   },
   {
    "duration": 15,
    "start_time": "2023-06-04T16:41:53.644Z"
   },
   {
    "duration": 25079,
    "start_time": "2023-06-04T16:41:56.391Z"
   }
  ],
  "kernelspec": {
   "display_name": "Python 3",
   "language": "python",
   "name": "python3"
  },
  "language_info": {
   "codemirror_mode": {
    "name": "ipython",
    "version": 3
   },
   "file_extension": ".py",
   "mimetype": "text/x-python",
   "name": "python",
   "nbconvert_exporter": "python",
   "pygments_lexer": "ipython3",
   "version": "3.8.3"
  },
  "toc": {
   "base_numbering": 1,
   "nav_menu": {},
   "number_sections": true,
   "sideBar": true,
   "skip_h1_title": true,
   "title_cell": "Table of Contents",
   "title_sidebar": "Contents",
   "toc_cell": false,
   "toc_position": {
    "height": "calc(100% - 180px)",
    "left": "10px",
    "top": "150px",
    "width": "188.188px"
   },
   "toc_section_display": true,
   "toc_window_display": true
  }
 },
 "nbformat": 4,
 "nbformat_minor": 2
}
