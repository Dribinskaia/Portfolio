{
 "cells": [
  {
   "cell_type": "markdown",
   "metadata": {},
   "source": [
    "# Определение стоимости автомобилей"
   ]
  },
  {
   "cell_type": "markdown",
   "metadata": {},
   "source": [
    "Сервис по продаже автомобилей с пробегом разрабатывает приложение для привлечения новых клиентов. В нём можно быстро узнать рыночную стоимость своего автомобиля. В распоряжении исторические данные: технические характеристики, комплектации и цены автомобилей. Необходимо построить модель для определения стоимости. \n",
    "\n",
    "Заказчику важны:\n",
    "\n",
    "- качество предсказания;\n",
    "- скорость предсказания;\n",
    "- время обучения."
   ]
  },
  {
   "cell_type": "markdown",
   "metadata": {},
   "source": [
    "Этапы исследования:\n",
    "- предобрабтка данных - данные будут очищены от пустых значений и вбросов, приведены к корректному типу;\n",
    "- кодирование категориальных признаков, а также масштабирование количественных;\n",
    "- разделение данных на выборки;\n",
    "- построение моделей: Дерево решений, Случайный лес, а также моделей градиентного бустинга с помощью Catboost и lightgbm;\n",
    "- оценка метрики качества (RMSE);\n",
    "- оценка времени, затраченного моделью на обучение и предсказание;\n",
    "- сравнение моделей и выбор оптимальной;\n",
    "- проверка выбранной модели на тестовой выборке;\n",
    "- выводы."
   ]
  },
  {
   "cell_type": "markdown",
   "metadata": {},
   "source": [
    "## Подготовка данных"
   ]
  },
  {
   "cell_type": "code",
   "execution_count": 22,
   "metadata": {},
   "outputs": [],
   "source": [
    "import pandas as pd\n",
    "import numpy as np\n",
    "from sklearn.model_selection import train_test_split\n",
    "from sklearn.preprocessing import OrdinalEncoder\n",
    "from sklearn.preprocessing import StandardScaler\n",
    "from sklearn.compose import ColumnTransformer\n",
    "import matplotlib.pyplot as plt\n",
    "import seaborn as sns\n",
    "import lightgbm as lgb\n",
    "from sklearn.linear_model import LinearRegression\n",
    "from sklearn.ensemble import RandomForestRegressor\n",
    "from sklearn.tree import DecisionTreeRegressor\n",
    "from catboost import CatBoostRegressor, Pool\n",
    "from sklearn.model_selection import GridSearchCV\n",
    "from sklearn.model_selection import RandomizedSearchCV\n",
    "from sklearn.metrics import mean_squared_error\n",
    "from sklearn.metrics import make_scorer\n",
    "import time"
   ]
  },
  {
   "cell_type": "markdown",
   "metadata": {},
   "source": [
    "### Изучение общей информации"
   ]
  },
  {
   "cell_type": "code",
   "execution_count": 23,
   "metadata": {},
   "outputs": [
    {
     "data": {
      "text/html": [
       "<div>\n",
       "<style scoped>\n",
       "    .dataframe tbody tr th:only-of-type {\n",
       "        vertical-align: middle;\n",
       "    }\n",
       "\n",
       "    .dataframe tbody tr th {\n",
       "        vertical-align: top;\n",
       "    }\n",
       "\n",
       "    .dataframe thead th {\n",
       "        text-align: right;\n",
       "    }\n",
       "</style>\n",
       "<table border=\"1\" class=\"dataframe\">\n",
       "  <thead>\n",
       "    <tr style=\"text-align: right;\">\n",
       "      <th></th>\n",
       "      <th>Price</th>\n",
       "      <th>VehicleType</th>\n",
       "      <th>RegistrationYear</th>\n",
       "      <th>Gearbox</th>\n",
       "      <th>Power</th>\n",
       "      <th>Model</th>\n",
       "      <th>Kilometer</th>\n",
       "      <th>RegistrationMonth</th>\n",
       "      <th>FuelType</th>\n",
       "      <th>Brand</th>\n",
       "      <th>Repaired</th>\n",
       "      <th>DateCreated</th>\n",
       "      <th>NumberOfPictures</th>\n",
       "      <th>PostalCode</th>\n",
       "      <th>LastSeen</th>\n",
       "    </tr>\n",
       "    <tr>\n",
       "      <th>DateCrawled</th>\n",
       "      <th></th>\n",
       "      <th></th>\n",
       "      <th></th>\n",
       "      <th></th>\n",
       "      <th></th>\n",
       "      <th></th>\n",
       "      <th></th>\n",
       "      <th></th>\n",
       "      <th></th>\n",
       "      <th></th>\n",
       "      <th></th>\n",
       "      <th></th>\n",
       "      <th></th>\n",
       "      <th></th>\n",
       "      <th></th>\n",
       "    </tr>\n",
       "  </thead>\n",
       "  <tbody>\n",
       "    <tr>\n",
       "      <th>2016-03-24 11:52:17</th>\n",
       "      <td>480</td>\n",
       "      <td>NaN</td>\n",
       "      <td>1993</td>\n",
       "      <td>manual</td>\n",
       "      <td>0</td>\n",
       "      <td>golf</td>\n",
       "      <td>150000</td>\n",
       "      <td>0</td>\n",
       "      <td>petrol</td>\n",
       "      <td>volkswagen</td>\n",
       "      <td>NaN</td>\n",
       "      <td>2016-03-24 00:00:00</td>\n",
       "      <td>0</td>\n",
       "      <td>70435</td>\n",
       "      <td>2016-04-07 03:16:57</td>\n",
       "    </tr>\n",
       "    <tr>\n",
       "      <th>2016-03-24 10:58:45</th>\n",
       "      <td>18300</td>\n",
       "      <td>coupe</td>\n",
       "      <td>2011</td>\n",
       "      <td>manual</td>\n",
       "      <td>190</td>\n",
       "      <td>NaN</td>\n",
       "      <td>125000</td>\n",
       "      <td>5</td>\n",
       "      <td>gasoline</td>\n",
       "      <td>audi</td>\n",
       "      <td>yes</td>\n",
       "      <td>2016-03-24 00:00:00</td>\n",
       "      <td>0</td>\n",
       "      <td>66954</td>\n",
       "      <td>2016-04-07 01:46:50</td>\n",
       "    </tr>\n",
       "    <tr>\n",
       "      <th>2016-03-14 12:52:21</th>\n",
       "      <td>9800</td>\n",
       "      <td>suv</td>\n",
       "      <td>2004</td>\n",
       "      <td>auto</td>\n",
       "      <td>163</td>\n",
       "      <td>grand</td>\n",
       "      <td>125000</td>\n",
       "      <td>8</td>\n",
       "      <td>gasoline</td>\n",
       "      <td>jeep</td>\n",
       "      <td>NaN</td>\n",
       "      <td>2016-03-14 00:00:00</td>\n",
       "      <td>0</td>\n",
       "      <td>90480</td>\n",
       "      <td>2016-04-05 12:47:46</td>\n",
       "    </tr>\n",
       "    <tr>\n",
       "      <th>2016-03-17 16:54:04</th>\n",
       "      <td>1500</td>\n",
       "      <td>small</td>\n",
       "      <td>2001</td>\n",
       "      <td>manual</td>\n",
       "      <td>75</td>\n",
       "      <td>golf</td>\n",
       "      <td>150000</td>\n",
       "      <td>6</td>\n",
       "      <td>petrol</td>\n",
       "      <td>volkswagen</td>\n",
       "      <td>no</td>\n",
       "      <td>2016-03-17 00:00:00</td>\n",
       "      <td>0</td>\n",
       "      <td>91074</td>\n",
       "      <td>2016-03-17 17:40:17</td>\n",
       "    </tr>\n",
       "    <tr>\n",
       "      <th>2016-03-31 17:25:20</th>\n",
       "      <td>3600</td>\n",
       "      <td>small</td>\n",
       "      <td>2008</td>\n",
       "      <td>manual</td>\n",
       "      <td>69</td>\n",
       "      <td>fabia</td>\n",
       "      <td>90000</td>\n",
       "      <td>7</td>\n",
       "      <td>gasoline</td>\n",
       "      <td>skoda</td>\n",
       "      <td>no</td>\n",
       "      <td>2016-03-31 00:00:00</td>\n",
       "      <td>0</td>\n",
       "      <td>60437</td>\n",
       "      <td>2016-04-06 10:17:21</td>\n",
       "    </tr>\n",
       "  </tbody>\n",
       "</table>\n",
       "</div>"
      ],
      "text/plain": [
       "                     Price VehicleType  RegistrationYear Gearbox  Power  \\\n",
       "DateCrawled                                                               \n",
       "2016-03-24 11:52:17    480         NaN              1993  manual      0   \n",
       "2016-03-24 10:58:45  18300       coupe              2011  manual    190   \n",
       "2016-03-14 12:52:21   9800         suv              2004    auto    163   \n",
       "2016-03-17 16:54:04   1500       small              2001  manual     75   \n",
       "2016-03-31 17:25:20   3600       small              2008  manual     69   \n",
       "\n",
       "                     Model  Kilometer  RegistrationMonth  FuelType  \\\n",
       "DateCrawled                                                          \n",
       "2016-03-24 11:52:17   golf     150000                  0    petrol   \n",
       "2016-03-24 10:58:45    NaN     125000                  5  gasoline   \n",
       "2016-03-14 12:52:21  grand     125000                  8  gasoline   \n",
       "2016-03-17 16:54:04   golf     150000                  6    petrol   \n",
       "2016-03-31 17:25:20  fabia      90000                  7  gasoline   \n",
       "\n",
       "                          Brand Repaired          DateCreated  \\\n",
       "DateCrawled                                                     \n",
       "2016-03-24 11:52:17  volkswagen      NaN  2016-03-24 00:00:00   \n",
       "2016-03-24 10:58:45        audi      yes  2016-03-24 00:00:00   \n",
       "2016-03-14 12:52:21        jeep      NaN  2016-03-14 00:00:00   \n",
       "2016-03-17 16:54:04  volkswagen       no  2016-03-17 00:00:00   \n",
       "2016-03-31 17:25:20       skoda       no  2016-03-31 00:00:00   \n",
       "\n",
       "                     NumberOfPictures  PostalCode             LastSeen  \n",
       "DateCrawled                                                             \n",
       "2016-03-24 11:52:17                 0       70435  2016-04-07 03:16:57  \n",
       "2016-03-24 10:58:45                 0       66954  2016-04-07 01:46:50  \n",
       "2016-03-14 12:52:21                 0       90480  2016-04-05 12:47:46  \n",
       "2016-03-17 16:54:04                 0       91074  2016-03-17 17:40:17  \n",
       "2016-03-31 17:25:20                 0       60437  2016-04-06 10:17:21  "
      ]
     },
     "execution_count": 23,
     "metadata": {},
     "output_type": "execute_result"
    }
   ],
   "source": [
    "df = pd.read_csv('/datasets/autos.csv', index_col=[0], parse_dates=[0])  \n",
    "df.head()"
   ]
  },
  {
   "cell_type": "code",
   "execution_count": 24,
   "metadata": {},
   "outputs": [
    {
     "name": "stdout",
     "output_type": "stream",
     "text": [
      "<class 'pandas.core.frame.DataFrame'>\n",
      "DatetimeIndex: 354369 entries, 2016-03-24 11:52:17 to 2016-03-20 19:41:08\n",
      "Data columns (total 15 columns):\n",
      " #   Column             Non-Null Count   Dtype \n",
      "---  ------             --------------   ----- \n",
      " 0   Price              354369 non-null  int64 \n",
      " 1   VehicleType        316879 non-null  object\n",
      " 2   RegistrationYear   354369 non-null  int64 \n",
      " 3   Gearbox            334536 non-null  object\n",
      " 4   Power              354369 non-null  int64 \n",
      " 5   Model              334664 non-null  object\n",
      " 6   Kilometer          354369 non-null  int64 \n",
      " 7   RegistrationMonth  354369 non-null  int64 \n",
      " 8   FuelType           321474 non-null  object\n",
      " 9   Brand              354369 non-null  object\n",
      " 10  Repaired           283215 non-null  object\n",
      " 11  DateCreated        354369 non-null  object\n",
      " 12  NumberOfPictures   354369 non-null  int64 \n",
      " 13  PostalCode         354369 non-null  int64 \n",
      " 14  LastSeen           354369 non-null  object\n",
      "dtypes: int64(7), object(8)\n",
      "memory usage: 43.3+ MB\n"
     ]
    }
   ],
   "source": [
    "df.info()"
   ]
  },
  {
   "cell_type": "code",
   "execution_count": 25,
   "metadata": {},
   "outputs": [
    {
     "data": {
      "text/plain": [
       "Price                    0\n",
       "VehicleType          37490\n",
       "RegistrationYear         0\n",
       "Gearbox              19833\n",
       "Power                    0\n",
       "Model                19705\n",
       "Kilometer                0\n",
       "RegistrationMonth        0\n",
       "FuelType             32895\n",
       "Brand                    0\n",
       "Repaired             71154\n",
       "DateCreated              0\n",
       "NumberOfPictures         0\n",
       "PostalCode               0\n",
       "LastSeen                 0\n",
       "dtype: int64"
      ]
     },
     "execution_count": 25,
     "metadata": {},
     "output_type": "execute_result"
    }
   ],
   "source": [
    "df.isna().sum()"
   ]
  },
  {
   "cell_type": "code",
   "execution_count": 26,
   "metadata": {},
   "outputs": [
    {
     "data": {
      "text/plain": [
       "89"
      ]
     },
     "execution_count": 26,
     "metadata": {},
     "output_type": "execute_result"
    }
   ],
   "source": [
    "df.duplicated().sum()"
   ]
  },
  {
   "cell_type": "markdown",
   "metadata": {},
   "source": [
    "Типы данных в столбцах соответствуют содержимому. В стоблцах с типом автомобиля, коробкой передач, моделью, типом топлива и сведениями о ремонте имеются пропуски. Помимо характеристик автомобиля, датафрейм содержит данные о пользователе (индекс, дата загрузки объявления). Названия столбцов содержат заглавные буквы, однако поскольку многие названия составные, приведение к нижнему регистру сделает их трудно читаемыми."
   ]
  },
  {
   "cell_type": "markdown",
   "metadata": {},
   "source": [
    "### Обработка дубликатов и пропусков"
   ]
  },
  {
   "cell_type": "markdown",
   "metadata": {},
   "source": [
    "В данных имеются дубликаты, пропуски, а также сведения, очевидно не влияющие на цену. В частности, это личные данные - почтовый индекс владельца, дата последней активности пользователя, дата скачивания анкеты. Удалила эти признаки. Для определения возраста автомобиля достаточно столбца \"год регистрации автомобиля\", поэтому также удалила столбец \"месяц регистрации автомобиля\". Кроме того, удалила дубликаты"
   ]
  },
  {
   "cell_type": "code",
   "execution_count": 27,
   "metadata": {},
   "outputs": [
    {
     "data": {
      "text/plain": [
       "0"
      ]
     },
     "execution_count": 27,
     "metadata": {},
     "output_type": "execute_result"
    }
   ],
   "source": [
    "# Удаляю явные дубликаты\n",
    "df = df.drop_duplicates()\n",
    "df.duplicated().sum()"
   ]
  },
  {
   "cell_type": "markdown",
   "metadata": {},
   "source": [
    "Сами по себе столбцы с датами не очень информативны, однако на их основе можно составить столбец со сведениями о том, сколько дней автомобиль был в продаже. Для этого перевела столбцы \"Дата создания объявления\" и \"Дата последней активности\" в формат datetime, полученую разницу между этими столбцами поместила в отдельный столбец \"дни в продаже\"."
   ]
  },
  {
   "cell_type": "code",
   "execution_count": 28,
   "metadata": {},
   "outputs": [
    {
     "data": {
      "text/html": [
       "<div>\n",
       "<style scoped>\n",
       "    .dataframe tbody tr th:only-of-type {\n",
       "        vertical-align: middle;\n",
       "    }\n",
       "\n",
       "    .dataframe tbody tr th {\n",
       "        vertical-align: top;\n",
       "    }\n",
       "\n",
       "    .dataframe thead th {\n",
       "        text-align: right;\n",
       "    }\n",
       "</style>\n",
       "<table border=\"1\" class=\"dataframe\">\n",
       "  <thead>\n",
       "    <tr style=\"text-align: right;\">\n",
       "      <th></th>\n",
       "      <th>Price</th>\n",
       "      <th>VehicleType</th>\n",
       "      <th>RegistrationYear</th>\n",
       "      <th>Gearbox</th>\n",
       "      <th>Power</th>\n",
       "      <th>Model</th>\n",
       "      <th>Kilometer</th>\n",
       "      <th>RegistrationMonth</th>\n",
       "      <th>FuelType</th>\n",
       "      <th>Brand</th>\n",
       "      <th>Repaired</th>\n",
       "      <th>DateCreated</th>\n",
       "      <th>NumberOfPictures</th>\n",
       "      <th>PostalCode</th>\n",
       "      <th>LastSeen</th>\n",
       "      <th>DaysInSale</th>\n",
       "    </tr>\n",
       "    <tr>\n",
       "      <th>DateCrawled</th>\n",
       "      <th></th>\n",
       "      <th></th>\n",
       "      <th></th>\n",
       "      <th></th>\n",
       "      <th></th>\n",
       "      <th></th>\n",
       "      <th></th>\n",
       "      <th></th>\n",
       "      <th></th>\n",
       "      <th></th>\n",
       "      <th></th>\n",
       "      <th></th>\n",
       "      <th></th>\n",
       "      <th></th>\n",
       "      <th></th>\n",
       "      <th></th>\n",
       "    </tr>\n",
       "  </thead>\n",
       "  <tbody>\n",
       "    <tr>\n",
       "      <th>2016-03-24 11:52:17</th>\n",
       "      <td>480</td>\n",
       "      <td>NaN</td>\n",
       "      <td>1993</td>\n",
       "      <td>manual</td>\n",
       "      <td>0</td>\n",
       "      <td>golf</td>\n",
       "      <td>150000</td>\n",
       "      <td>0</td>\n",
       "      <td>petrol</td>\n",
       "      <td>volkswagen</td>\n",
       "      <td>NaN</td>\n",
       "      <td>2016-03-24</td>\n",
       "      <td>0</td>\n",
       "      <td>70435</td>\n",
       "      <td>2016-04-07 03:16:57</td>\n",
       "      <td>14</td>\n",
       "    </tr>\n",
       "    <tr>\n",
       "      <th>2016-03-24 10:58:45</th>\n",
       "      <td>18300</td>\n",
       "      <td>coupe</td>\n",
       "      <td>2011</td>\n",
       "      <td>manual</td>\n",
       "      <td>190</td>\n",
       "      <td>NaN</td>\n",
       "      <td>125000</td>\n",
       "      <td>5</td>\n",
       "      <td>gasoline</td>\n",
       "      <td>audi</td>\n",
       "      <td>yes</td>\n",
       "      <td>2016-03-24</td>\n",
       "      <td>0</td>\n",
       "      <td>66954</td>\n",
       "      <td>2016-04-07 01:46:50</td>\n",
       "      <td>14</td>\n",
       "    </tr>\n",
       "    <tr>\n",
       "      <th>2016-03-14 12:52:21</th>\n",
       "      <td>9800</td>\n",
       "      <td>suv</td>\n",
       "      <td>2004</td>\n",
       "      <td>auto</td>\n",
       "      <td>163</td>\n",
       "      <td>grand</td>\n",
       "      <td>125000</td>\n",
       "      <td>8</td>\n",
       "      <td>gasoline</td>\n",
       "      <td>jeep</td>\n",
       "      <td>NaN</td>\n",
       "      <td>2016-03-14</td>\n",
       "      <td>0</td>\n",
       "      <td>90480</td>\n",
       "      <td>2016-04-05 12:47:46</td>\n",
       "      <td>22</td>\n",
       "    </tr>\n",
       "    <tr>\n",
       "      <th>2016-03-17 16:54:04</th>\n",
       "      <td>1500</td>\n",
       "      <td>small</td>\n",
       "      <td>2001</td>\n",
       "      <td>manual</td>\n",
       "      <td>75</td>\n",
       "      <td>golf</td>\n",
       "      <td>150000</td>\n",
       "      <td>6</td>\n",
       "      <td>petrol</td>\n",
       "      <td>volkswagen</td>\n",
       "      <td>no</td>\n",
       "      <td>2016-03-17</td>\n",
       "      <td>0</td>\n",
       "      <td>91074</td>\n",
       "      <td>2016-03-17 17:40:17</td>\n",
       "      <td>0</td>\n",
       "    </tr>\n",
       "    <tr>\n",
       "      <th>2016-03-31 17:25:20</th>\n",
       "      <td>3600</td>\n",
       "      <td>small</td>\n",
       "      <td>2008</td>\n",
       "      <td>manual</td>\n",
       "      <td>69</td>\n",
       "      <td>fabia</td>\n",
       "      <td>90000</td>\n",
       "      <td>7</td>\n",
       "      <td>gasoline</td>\n",
       "      <td>skoda</td>\n",
       "      <td>no</td>\n",
       "      <td>2016-03-31</td>\n",
       "      <td>0</td>\n",
       "      <td>60437</td>\n",
       "      <td>2016-04-06 10:17:21</td>\n",
       "      <td>6</td>\n",
       "    </tr>\n",
       "  </tbody>\n",
       "</table>\n",
       "</div>"
      ],
      "text/plain": [
       "                     Price VehicleType  RegistrationYear Gearbox  Power  \\\n",
       "DateCrawled                                                               \n",
       "2016-03-24 11:52:17    480         NaN              1993  manual      0   \n",
       "2016-03-24 10:58:45  18300       coupe              2011  manual    190   \n",
       "2016-03-14 12:52:21   9800         suv              2004    auto    163   \n",
       "2016-03-17 16:54:04   1500       small              2001  manual     75   \n",
       "2016-03-31 17:25:20   3600       small              2008  manual     69   \n",
       "\n",
       "                     Model  Kilometer  RegistrationMonth  FuelType  \\\n",
       "DateCrawled                                                          \n",
       "2016-03-24 11:52:17   golf     150000                  0    petrol   \n",
       "2016-03-24 10:58:45    NaN     125000                  5  gasoline   \n",
       "2016-03-14 12:52:21  grand     125000                  8  gasoline   \n",
       "2016-03-17 16:54:04   golf     150000                  6    petrol   \n",
       "2016-03-31 17:25:20  fabia      90000                  7  gasoline   \n",
       "\n",
       "                          Brand Repaired DateCreated  NumberOfPictures  \\\n",
       "DateCrawled                                                              \n",
       "2016-03-24 11:52:17  volkswagen      NaN  2016-03-24                 0   \n",
       "2016-03-24 10:58:45        audi      yes  2016-03-24                 0   \n",
       "2016-03-14 12:52:21        jeep      NaN  2016-03-14                 0   \n",
       "2016-03-17 16:54:04  volkswagen       no  2016-03-17                 0   \n",
       "2016-03-31 17:25:20       skoda       no  2016-03-31                 0   \n",
       "\n",
       "                     PostalCode            LastSeen  DaysInSale  \n",
       "DateCrawled                                                      \n",
       "2016-03-24 11:52:17       70435 2016-04-07 03:16:57          14  \n",
       "2016-03-24 10:58:45       66954 2016-04-07 01:46:50          14  \n",
       "2016-03-14 12:52:21       90480 2016-04-05 12:47:46          22  \n",
       "2016-03-17 16:54:04       91074 2016-03-17 17:40:17           0  \n",
       "2016-03-31 17:25:20       60437 2016-04-06 10:17:21           6  "
      ]
     },
     "execution_count": 28,
     "metadata": {},
     "output_type": "execute_result"
    }
   ],
   "source": [
    "# Меняю тип данных\n",
    "df[['DateCreated', 'LastSeen']] = df[['DateCreated', 'LastSeen']].apply(pd.to_datetime, format='%Y-%m-%dT%H:%M:%S')\n",
    "# Создаю столбец с разницей \n",
    "df['DaysInSale'] = df['LastSeen'] - df['DateCreated']\n",
    "# Для удобства оставлю в столбце только дни в продаже, и переведу его тип в целочисленный\n",
    "df['DaysInSale'] = df['DaysInSale'].astype('timedelta64[D]').astype('int')\n",
    "# Смотрю, корректно ли добавился столбец\n",
    "df.head()"
   ]
  },
  {
   "cell_type": "code",
   "execution_count": 32,
   "metadata": {},
   "outputs": [],
   "source": [
    "\n",
    "# Удаляю персональные данные и колонки с датами\n",
    "df = df.drop(columns=['DateCreated','RegistrationMonth', 'PostalCode','LastSeen'])"
   ]
  },
  {
   "cell_type": "markdown",
   "metadata": {},
   "source": [
    "Изучим и обработаем пропуски в данных"
   ]
  },
  {
   "cell_type": "code",
   "execution_count": 33,
   "metadata": {},
   "outputs": [
    {
     "data": {
      "text/plain": [
       "Price                   0\n",
       "VehicleType         37490\n",
       "RegistrationYear        0\n",
       "Gearbox             19832\n",
       "Power                   0\n",
       "Model               19705\n",
       "Kilometer               0\n",
       "FuelType            32892\n",
       "Brand                   0\n",
       "Repaired            71149\n",
       "NumberOfPictures        0\n",
       "DaysInSale              0\n",
       "dtype: int64"
      ]
     },
     "execution_count": 33,
     "metadata": {},
     "output_type": "execute_result"
    }
   ],
   "source": [
    "# Оцениваю количество пропусков \n",
    "df.isna().sum()"
   ]
  },
  {
   "cell_type": "code",
   "execution_count": 34,
   "metadata": {},
   "outputs": [
    {
     "name": "stdout",
     "output_type": "stream",
     "text": [
      "sedan          91428\n",
      "small          79812\n",
      "wagon          65146\n",
      "bus            28772\n",
      "convertible    20199\n",
      "coupe          16153\n",
      "suv            11992\n",
      "other           3288\n",
      "Name: VehicleType, dtype: int64\n",
      "_________________\n",
      "manual    268177\n",
      "auto       66271\n",
      "Name: Gearbox, dtype: int64\n",
      "_________________\n",
      "petrol      216300\n",
      "gasoline     98689\n",
      "lpg           5307\n",
      "cng            565\n",
      "hybrid         233\n",
      "other          204\n",
      "electric        90\n",
      "Name: FuelType, dtype: int64\n",
      "_________________\n",
      "no     247081\n",
      "yes     36050\n",
      "Name: Repaired, dtype: int64\n",
      "_________________\n"
     ]
    }
   ],
   "source": [
    "# Смотрю, какие значения содержатся в столбцах, в которых есть пропуски\n",
    "columns = ['VehicleType', 'Gearbox','FuelType', 'Repaired']\n",
    "for i in columns:\n",
    "    print(df[i].value_counts())\n",
    "    print('_________________')\n"
   ]
  },
  {
   "cell_type": "markdown",
   "metadata": {},
   "source": [
    "Пропуски обработаю следующим образом: \n",
    "-  \"NotRepaired\" пользователи могли игнорировать и не заполнять в случае, если автомобиль не был в ремонте. Заполню пустые значения как 'no';\n",
    "- столбцы с типом коробки передач и топливом заполню самыми распространенными типами - механическая и бензин соответственно;\n",
    "-  пропуски с столбцах с типом автомобиля и моделью автомобиля замолню на значение \"неизвестен\" (пропусков больше 10%, при удалении потеряется большая часть данных, что нежелательно)"
   ]
  },
  {
   "cell_type": "code",
   "execution_count": 35,
   "metadata": {},
   "outputs": [
    {
     "data": {
      "text/plain": [
       "Price               0\n",
       "VehicleType         0\n",
       "RegistrationYear    0\n",
       "Gearbox             0\n",
       "Power               0\n",
       "Model               0\n",
       "Kilometer           0\n",
       "FuelType            0\n",
       "Brand               0\n",
       "Repaired            0\n",
       "NumberOfPictures    0\n",
       "DaysInSale          0\n",
       "dtype: int64"
      ]
     },
     "execution_count": 35,
     "metadata": {},
     "output_type": "execute_result"
    }
   ],
   "source": [
    "df['Repaired'] = df['Repaired'].fillna('no')\n",
    "df['Gearbox'] = df['Gearbox'].fillna('manual')\n",
    "df['FuelType']= df['FuelType'].fillna('petrol')\n",
    "df['VehicleType'] = df['VehicleType'].fillna('unknown')\n",
    "df['Model'] = df['Model'].fillna('unknown')\n",
    "\n",
    "# Проверяю, что обработка пропусков проведена корректно\n",
    "df.isna().sum()"
   ]
  },
  {
   "cell_type": "markdown",
   "metadata": {},
   "source": [
    "Пропуски обработаны"
   ]
  },
  {
   "cell_type": "markdown",
   "metadata": {},
   "source": [
    "### Обработка аномальных значений"
   ]
  },
  {
   "cell_type": "code",
   "execution_count": 36,
   "metadata": {},
   "outputs": [
    {
     "data": {
      "text/html": [
       "<div>\n",
       "<style scoped>\n",
       "    .dataframe tbody tr th:only-of-type {\n",
       "        vertical-align: middle;\n",
       "    }\n",
       "\n",
       "    .dataframe tbody tr th {\n",
       "        vertical-align: top;\n",
       "    }\n",
       "\n",
       "    .dataframe thead th {\n",
       "        text-align: right;\n",
       "    }\n",
       "</style>\n",
       "<table border=\"1\" class=\"dataframe\">\n",
       "  <thead>\n",
       "    <tr style=\"text-align: right;\">\n",
       "      <th></th>\n",
       "      <th>Price</th>\n",
       "      <th>RegistrationYear</th>\n",
       "      <th>Power</th>\n",
       "      <th>Kilometer</th>\n",
       "      <th>NumberOfPictures</th>\n",
       "      <th>DaysInSale</th>\n",
       "    </tr>\n",
       "  </thead>\n",
       "  <tbody>\n",
       "    <tr>\n",
       "      <th>count</th>\n",
       "      <td>354280.000000</td>\n",
       "      <td>354280.000000</td>\n",
       "      <td>354280.000000</td>\n",
       "      <td>354280.000000</td>\n",
       "      <td>354280.0</td>\n",
       "      <td>354280.000000</td>\n",
       "    </tr>\n",
       "    <tr>\n",
       "      <th>mean</th>\n",
       "      <td>4416.458541</td>\n",
       "      <td>2004.234859</td>\n",
       "      <td>110.090256</td>\n",
       "      <td>128211.090098</td>\n",
       "      <td>0.0</td>\n",
       "      <td>8.677916</td>\n",
       "    </tr>\n",
       "    <tr>\n",
       "      <th>std</th>\n",
       "      <td>4514.138905</td>\n",
       "      <td>90.239242</td>\n",
       "      <td>189.872001</td>\n",
       "      <td>37906.417793</td>\n",
       "      <td>0.0</td>\n",
       "      <td>8.639700</td>\n",
       "    </tr>\n",
       "    <tr>\n",
       "      <th>min</th>\n",
       "      <td>0.000000</td>\n",
       "      <td>1000.000000</td>\n",
       "      <td>0.000000</td>\n",
       "      <td>5000.000000</td>\n",
       "      <td>0.0</td>\n",
       "      <td>0.000000</td>\n",
       "    </tr>\n",
       "    <tr>\n",
       "      <th>1%</th>\n",
       "      <td>0.000000</td>\n",
       "      <td>1980.000000</td>\n",
       "      <td>0.000000</td>\n",
       "      <td>5000.000000</td>\n",
       "      <td>0.0</td>\n",
       "      <td>0.000000</td>\n",
       "    </tr>\n",
       "    <tr>\n",
       "      <th>3%</th>\n",
       "      <td>0.000000</td>\n",
       "      <td>1990.000000</td>\n",
       "      <td>0.000000</td>\n",
       "      <td>20000.000000</td>\n",
       "      <td>0.0</td>\n",
       "      <td>0.000000</td>\n",
       "    </tr>\n",
       "    <tr>\n",
       "      <th>5%</th>\n",
       "      <td>200.000000</td>\n",
       "      <td>1992.000000</td>\n",
       "      <td>0.000000</td>\n",
       "      <td>40000.000000</td>\n",
       "      <td>0.0</td>\n",
       "      <td>0.000000</td>\n",
       "    </tr>\n",
       "    <tr>\n",
       "      <th>25%</th>\n",
       "      <td>1050.000000</td>\n",
       "      <td>1999.000000</td>\n",
       "      <td>69.000000</td>\n",
       "      <td>125000.000000</td>\n",
       "      <td>0.0</td>\n",
       "      <td>2.000000</td>\n",
       "    </tr>\n",
       "    <tr>\n",
       "      <th>50%</th>\n",
       "      <td>2700.000000</td>\n",
       "      <td>2003.000000</td>\n",
       "      <td>105.000000</td>\n",
       "      <td>150000.000000</td>\n",
       "      <td>0.0</td>\n",
       "      <td>6.000000</td>\n",
       "    </tr>\n",
       "    <tr>\n",
       "      <th>75%</th>\n",
       "      <td>6400.000000</td>\n",
       "      <td>2008.000000</td>\n",
       "      <td>143.000000</td>\n",
       "      <td>150000.000000</td>\n",
       "      <td>0.0</td>\n",
       "      <td>13.000000</td>\n",
       "    </tr>\n",
       "    <tr>\n",
       "      <th>99%</th>\n",
       "      <td>18800.000000</td>\n",
       "      <td>2018.000000</td>\n",
       "      <td>300.000000</td>\n",
       "      <td>150000.000000</td>\n",
       "      <td>0.0</td>\n",
       "      <td>31.000000</td>\n",
       "    </tr>\n",
       "    <tr>\n",
       "      <th>max</th>\n",
       "      <td>20000.000000</td>\n",
       "      <td>9999.000000</td>\n",
       "      <td>20000.000000</td>\n",
       "      <td>150000.000000</td>\n",
       "      <td>0.0</td>\n",
       "      <td>759.000000</td>\n",
       "    </tr>\n",
       "  </tbody>\n",
       "</table>\n",
       "</div>"
      ],
      "text/plain": [
       "               Price  RegistrationYear          Power      Kilometer  \\\n",
       "count  354280.000000     354280.000000  354280.000000  354280.000000   \n",
       "mean     4416.458541       2004.234859     110.090256  128211.090098   \n",
       "std      4514.138905         90.239242     189.872001   37906.417793   \n",
       "min         0.000000       1000.000000       0.000000    5000.000000   \n",
       "1%          0.000000       1980.000000       0.000000    5000.000000   \n",
       "3%          0.000000       1990.000000       0.000000   20000.000000   \n",
       "5%        200.000000       1992.000000       0.000000   40000.000000   \n",
       "25%      1050.000000       1999.000000      69.000000  125000.000000   \n",
       "50%      2700.000000       2003.000000     105.000000  150000.000000   \n",
       "75%      6400.000000       2008.000000     143.000000  150000.000000   \n",
       "99%     18800.000000       2018.000000     300.000000  150000.000000   \n",
       "max     20000.000000       9999.000000   20000.000000  150000.000000   \n",
       "\n",
       "       NumberOfPictures     DaysInSale  \n",
       "count          354280.0  354280.000000  \n",
       "mean                0.0       8.677916  \n",
       "std                 0.0       8.639700  \n",
       "min                 0.0       0.000000  \n",
       "1%                  0.0       0.000000  \n",
       "3%                  0.0       0.000000  \n",
       "5%                  0.0       0.000000  \n",
       "25%                 0.0       2.000000  \n",
       "50%                 0.0       6.000000  \n",
       "75%                 0.0      13.000000  \n",
       "99%                 0.0      31.000000  \n",
       "max                 0.0     759.000000  "
      ]
     },
     "execution_count": 36,
     "metadata": {},
     "output_type": "execute_result"
    }
   ],
   "source": [
    "df.describe(percentiles=[.01, .03, .05, .25, .5, .75, .99])"
   ]
  },
  {
   "cell_type": "code",
   "execution_count": 37,
   "metadata": {},
   "outputs": [
    {
     "data": {
      "image/png": "[encoded data removed]",
      "text/plain": [
       "<Figure size 720x576 with 1 Axes>"
      ]
     },
     "metadata": {
      "needs_background": "light"
     },
     "output_type": "display_data"
    }
   ],
   "source": [
    "# Построю диаграмму размаха для мощности двигателя\n",
    "plt.figure(figsize=(10, 8))\n",
    "sns.boxplot(data=df['Power'])\n",
    "plt.title('Мощность двигателя, л.с.')\n",
    "plt.grid(True)\n",
    "plt.ylim(0, 2000)\n",
    "plt.show()"
   ]
  },
  {
   "cell_type": "code",
   "execution_count": 38,
   "metadata": {},
   "outputs": [
    {
     "data": {
      "image/png": "[encoded data removed]",
      "text/plain": [
       "<Figure size 720x576 with 1 Axes>"
      ]
     },
     "metadata": {
      "needs_background": "light"
     },
     "output_type": "display_data"
    }
   ],
   "source": [
    "# Построю диаграмму размаха для года регистрации\n",
    "plt.figure(figsize=(10, 8))\n",
    "sns.boxplot(data=df['RegistrationYear'])\n",
    "plt.title('Год регистрации')\n",
    "plt.grid(True)\n",
    "plt.ylim(1900, 2022)\n",
    "plt.show()"
   ]
  },
  {
   "cell_type": "markdown",
   "metadata": {},
   "source": [
    "В данных имеются вбросы - нулевые значения мощности и цены, также есть аномально высокие значение мощности в тысячи лошадиных сил, не достижимые для автомобильных двигателей. Кроме того, имеются автомобили начала прошлого века, что может как быть вбросом, так и раритетным авто. "
   ]
  },
  {
   "cell_type": "markdown",
   "metadata": {},
   "source": [
    "- Судя по объявлениям в Интернете, за автомобиль, проданный на металлолом, можно выручить от 15000 рублей (около 187 евро) то есть продавать автомобиль (средним весом от 1 до 1,5 тонн) дешевле хотя бы 200 евро даже на запчасти не выглядит логичным. Владельцам проще и выгоднее было бы продать такие авто как металлолом. Поэтому отбрасываю значения цены ниже 200 евро;\n",
    "- Кроме того, вряд ли старинные редкие раритетные автомобили продаются на общих площадках, а не на специализированных. Скорее всего, это вбросы. Чтобы удалить вбросы и оставить только просто старые автомобили, возьму объявления с годом автомобиля не ниже 1980. Тем более модели в дальшейнем придется работать с обычными авто, которых продается несоизмеримо больше;\n",
    "- Также удалю значения мощности выше 600 л.с. (с учетом самых мощных спорткаров). Кроме того, удалю совсем низкие значени мощности ниже 9 (мощность самой маленькой малолитражки в мире по данным сайта cars.ru);\n",
    "- Кроме того, есть зависшие объявления, которые в продаже несколько лет. Удалю эти объявления как вбросы. 99 процентов объявлений попадают в месячный интервал, отброшу остальное. "
   ]
  },
  {
   "cell_type": "code",
   "execution_count": 16,
   "metadata": {},
   "outputs": [],
   "source": [
    "df = df[(df['Price']>=200)\\\n",
    "       &(df['RegistrationYear']>=1970)&(df['RegistrationYear']<2017)\\\n",
    "       &(df['Power'] <=1600)&(df['Power']>=9)\\\n",
    "       &(df['DaysInSale']<=31)].reset_index()"
   ]
  },
  {
   "cell_type": "code",
   "execution_count": 39,
   "metadata": {
    "scrolled": true
   },
   "outputs": [
    {
     "name": "stdout",
     "output_type": "stream",
     "text": [
      "<class 'pandas.core.frame.DataFrame'>\n",
      "DatetimeIndex: 354280 entries, 2016-03-24 11:52:17 to 2016-03-20 19:41:08\n",
      "Data columns (total 12 columns):\n",
      " #   Column            Non-Null Count   Dtype \n",
      "---  ------            --------------   ----- \n",
      " 0   Price             354280 non-null  int64 \n",
      " 1   VehicleType       354280 non-null  object\n",
      " 2   RegistrationYear  354280 non-null  int64 \n",
      " 3   Gearbox           354280 non-null  object\n",
      " 4   Power             354280 non-null  int64 \n",
      " 5   Model             354280 non-null  object\n",
      " 6   Kilometer         354280 non-null  int64 \n",
      " 7   FuelType          354280 non-null  object\n",
      " 8   Brand             354280 non-null  object\n",
      " 9   Repaired          354280 non-null  object\n",
      " 10  NumberOfPictures  354280 non-null  int64 \n",
      " 11  DaysInSale        354280 non-null  int64 \n",
      "dtypes: int64(6), object(6)\n",
      "memory usage: 35.1+ MB\n"
     ]
    }
   ],
   "source": [
    "df.info()"
   ]
  },
  {
   "cell_type": "markdown",
   "metadata": {},
   "source": [
    "### Подготовка признаков для обучени моделей"
   ]
  },
  {
   "cell_type": "code",
   "execution_count": 40,
   "metadata": {},
   "outputs": [
    {
     "name": "stdout",
     "output_type": "stream",
     "text": [
      "Размер обучающей выборки 265710\n",
      "Размер тестовой выборки 88570\n"
     ]
    }
   ],
   "source": [
    "# выделяю признаки, на которых будет обучаться модель, и целевой признак\n",
    "\n",
    "features = df.drop(['Price'], axis=1) \n",
    "target = df['Price'] # целевой признак \n",
    "\n",
    "# Разделю данные на обучающую и тестовую выборки\n",
    "\n",
    "features_train, features_test, target_train, target_test = train_test_split\\\n",
    "(features, target, test_size=0.25, random_state=12345)\n",
    "\n",
    "feature_names = features_train.columns.values.tolist ()\n",
    "# вывожу размеры полученных выборок\n",
    "print('Размер обучающей выборки', len(features_train))\n",
    "print('Размер тестовой выборки', len(features_test))"
   ]
  },
  {
   "cell_type": "markdown",
   "metadata": {},
   "source": [
    "Среди признаков имеются категориальные, а количественные признаки имеют разный масштаб. Отмасштабирую численные признаки с помощью StandartScaler. Для кодирования категориальных буду использовать OrdinalEncoder(). "
   ]
  },
  {
   "cell_type": "code",
   "execution_count": 41,
   "metadata": {},
   "outputs": [],
   "source": [
    "# Выделяю категориальные признаки\n",
    "category = ['VehicleType', 'Gearbox', 'Model', 'FuelType', 'Brand', 'Repaired']\n",
    "# Выделяю признаки, которые необходимо масштабировать\n",
    "numeric= ['RegistrationYear','Power','Kilometer','NumberOfPictures']\n",
    "\n",
    "# Создаю преобразователь \n",
    "col_transformer = ColumnTransformer(transformers=[\n",
    "                                   ('oe', OrdinalEncoder(), category), ('ss', StandardScaler(), numeric)])\n",
    "\n",
    "# Обучаю преобразователь на тренировочной выборке\n",
    "col_transformer.fit(features_train)\n",
    "\n",
    "# Преобразовываю обучающую выборку\n",
    "features_train = pd.DataFrame(col_transformer.transform(features_train), index=features_train.index)\n",
    "# Преобразовываю тестовую выборку\n",
    "features_test = pd.DataFrame(col_transformer.transform(features_test), index=features_test.index)\n"
   ]
  },
  {
   "cell_type": "code",
   "execution_count": 42,
   "metadata": {},
   "outputs": [
    {
     "data": {
      "text/html": [
       "<div>\n",
       "<style scoped>\n",
       "    .dataframe tbody tr th:only-of-type {\n",
       "        vertical-align: middle;\n",
       "    }\n",
       "\n",
       "    .dataframe tbody tr th {\n",
       "        vertical-align: top;\n",
       "    }\n",
       "\n",
       "    .dataframe thead th {\n",
       "        text-align: right;\n",
       "    }\n",
       "</style>\n",
       "<table border=\"1\" class=\"dataframe\">\n",
       "  <thead>\n",
       "    <tr style=\"text-align: right;\">\n",
       "      <th></th>\n",
       "      <th>0</th>\n",
       "      <th>1</th>\n",
       "      <th>2</th>\n",
       "      <th>3</th>\n",
       "      <th>4</th>\n",
       "      <th>5</th>\n",
       "      <th>6</th>\n",
       "      <th>7</th>\n",
       "      <th>8</th>\n",
       "      <th>9</th>\n",
       "    </tr>\n",
       "    <tr>\n",
       "      <th>DateCrawled</th>\n",
       "      <th></th>\n",
       "      <th></th>\n",
       "      <th></th>\n",
       "      <th></th>\n",
       "      <th></th>\n",
       "      <th></th>\n",
       "      <th></th>\n",
       "      <th></th>\n",
       "      <th></th>\n",
       "      <th></th>\n",
       "    </tr>\n",
       "  </thead>\n",
       "  <tbody>\n",
       "    <tr>\n",
       "      <th>2016-03-30 18:44:43</th>\n",
       "      <td>8.0</td>\n",
       "      <td>1.0</td>\n",
       "      <td>166.0</td>\n",
       "      <td>2.0</td>\n",
       "      <td>38.0</td>\n",
       "      <td>0.0</td>\n",
       "      <td>0.017822</td>\n",
       "      <td>-0.005582</td>\n",
       "      <td>0.575855</td>\n",
       "      <td>0.0</td>\n",
       "    </tr>\n",
       "    <tr>\n",
       "      <th>2016-03-19 14:36:22</th>\n",
       "      <td>8.0</td>\n",
       "      <td>1.0</td>\n",
       "      <td>166.0</td>\n",
       "      <td>6.0</td>\n",
       "      <td>22.0</td>\n",
       "      <td>0.0</td>\n",
       "      <td>-0.100317</td>\n",
       "      <td>0.062595</td>\n",
       "      <td>0.575855</td>\n",
       "      <td>0.0</td>\n",
       "    </tr>\n",
       "    <tr>\n",
       "      <th>2016-03-25 00:40:37</th>\n",
       "      <td>5.0</td>\n",
       "      <td>0.0</td>\n",
       "      <td>42.0</td>\n",
       "      <td>6.0</td>\n",
       "      <td>24.0</td>\n",
       "      <td>0.0</td>\n",
       "      <td>-0.068097</td>\n",
       "      <td>-0.577218</td>\n",
       "      <td>0.575855</td>\n",
       "      <td>0.0</td>\n",
       "    </tr>\n",
       "    <tr>\n",
       "      <th>2016-03-12 12:55:25</th>\n",
       "      <td>4.0</td>\n",
       "      <td>1.0</td>\n",
       "      <td>2.0</td>\n",
       "      <td>2.0</td>\n",
       "      <td>0.0</td>\n",
       "      <td>0.0</td>\n",
       "      <td>-0.014398</td>\n",
       "      <td>0.156993</td>\n",
       "      <td>0.575855</td>\n",
       "      <td>0.0</td>\n",
       "    </tr>\n",
       "    <tr>\n",
       "      <th>2016-03-17 19:37:17</th>\n",
       "      <td>8.0</td>\n",
       "      <td>0.0</td>\n",
       "      <td>15.0</td>\n",
       "      <td>2.0</td>\n",
       "      <td>2.0</td>\n",
       "      <td>0.0</td>\n",
       "      <td>-0.046618</td>\n",
       "      <td>0.387745</td>\n",
       "      <td>0.575855</td>\n",
       "      <td>0.0</td>\n",
       "    </tr>\n",
       "  </tbody>\n",
       "</table>\n",
       "</div>"
      ],
      "text/plain": [
       "                       0    1      2    3     4    5         6         7  \\\n",
       "DateCrawled                                                                \n",
       "2016-03-30 18:44:43  8.0  1.0  166.0  2.0  38.0  0.0  0.017822 -0.005582   \n",
       "2016-03-19 14:36:22  8.0  1.0  166.0  6.0  22.0  0.0 -0.100317  0.062595   \n",
       "2016-03-25 00:40:37  5.0  0.0   42.0  6.0  24.0  0.0 -0.068097 -0.577218   \n",
       "2016-03-12 12:55:25  4.0  1.0    2.0  2.0   0.0  0.0 -0.014398  0.156993   \n",
       "2016-03-17 19:37:17  8.0  0.0   15.0  2.0   2.0  0.0 -0.046618  0.387745   \n",
       "\n",
       "                            8    9  \n",
       "DateCrawled                         \n",
       "2016-03-30 18:44:43  0.575855  0.0  \n",
       "2016-03-19 14:36:22  0.575855  0.0  \n",
       "2016-03-25 00:40:37  0.575855  0.0  \n",
       "2016-03-12 12:55:25  0.575855  0.0  \n",
       "2016-03-17 19:37:17  0.575855  0.0  "
      ]
     },
     "execution_count": 42,
     "metadata": {},
     "output_type": "execute_result"
    }
   ],
   "source": [
    "features_train.head()\n",
    "                                       "
   ]
  },
  {
   "cell_type": "code",
   "execution_count": 43,
   "metadata": {},
   "outputs": [
    {
     "data": {
      "text/html": [
       "<div>\n",
       "<style scoped>\n",
       "    .dataframe tbody tr th:only-of-type {\n",
       "        vertical-align: middle;\n",
       "    }\n",
       "\n",
       "    .dataframe tbody tr th {\n",
       "        vertical-align: top;\n",
       "    }\n",
       "\n",
       "    .dataframe thead th {\n",
       "        text-align: right;\n",
       "    }\n",
       "</style>\n",
       "<table border=\"1\" class=\"dataframe\">\n",
       "  <thead>\n",
       "    <tr style=\"text-align: right;\">\n",
       "      <th></th>\n",
       "      <th>0</th>\n",
       "      <th>1</th>\n",
       "      <th>2</th>\n",
       "      <th>3</th>\n",
       "      <th>4</th>\n",
       "      <th>5</th>\n",
       "      <th>6</th>\n",
       "      <th>7</th>\n",
       "      <th>8</th>\n",
       "      <th>9</th>\n",
       "    </tr>\n",
       "    <tr>\n",
       "      <th>DateCrawled</th>\n",
       "      <th></th>\n",
       "      <th></th>\n",
       "      <th></th>\n",
       "      <th></th>\n",
       "      <th></th>\n",
       "      <th></th>\n",
       "      <th></th>\n",
       "      <th></th>\n",
       "      <th></th>\n",
       "      <th></th>\n",
       "    </tr>\n",
       "  </thead>\n",
       "  <tbody>\n",
       "    <tr>\n",
       "      <th>2016-03-25 17:57:44</th>\n",
       "      <td>8.0</td>\n",
       "      <td>1.0</td>\n",
       "      <td>166.0</td>\n",
       "      <td>4.0</td>\n",
       "      <td>5.0</td>\n",
       "      <td>0.0</td>\n",
       "      <td>-0.057357</td>\n",
       "      <td>-0.000338</td>\n",
       "      <td>0.575855</td>\n",
       "      <td>0.0</td>\n",
       "    </tr>\n",
       "    <tr>\n",
       "      <th>2016-03-10 12:40:33</th>\n",
       "      <td>0.0</td>\n",
       "      <td>1.0</td>\n",
       "      <td>238.0</td>\n",
       "      <td>2.0</td>\n",
       "      <td>20.0</td>\n",
       "      <td>0.0</td>\n",
       "      <td>-0.014398</td>\n",
       "      <td>-0.042293</td>\n",
       "      <td>0.575855</td>\n",
       "      <td>0.0</td>\n",
       "    </tr>\n",
       "    <tr>\n",
       "      <th>2016-03-30 09:50:14</th>\n",
       "      <td>8.0</td>\n",
       "      <td>1.0</td>\n",
       "      <td>170.0</td>\n",
       "      <td>2.0</td>\n",
       "      <td>38.0</td>\n",
       "      <td>0.0</td>\n",
       "      <td>-0.025138</td>\n",
       "      <td>0.209437</td>\n",
       "      <td>0.575855</td>\n",
       "      <td>0.0</td>\n",
       "    </tr>\n",
       "    <tr>\n",
       "      <th>2016-03-18 23:53:31</th>\n",
       "      <td>8.0</td>\n",
       "      <td>1.0</td>\n",
       "      <td>11.0</td>\n",
       "      <td>6.0</td>\n",
       "      <td>2.0</td>\n",
       "      <td>0.0</td>\n",
       "      <td>0.017822</td>\n",
       "      <td>0.209437</td>\n",
       "      <td>0.575855</td>\n",
       "      <td>0.0</td>\n",
       "    </tr>\n",
       "    <tr>\n",
       "      <th>2016-03-17 21:50:47</th>\n",
       "      <td>5.0</td>\n",
       "      <td>1.0</td>\n",
       "      <td>75.0</td>\n",
       "      <td>6.0</td>\n",
       "      <td>27.0</td>\n",
       "      <td>0.0</td>\n",
       "      <td>0.050041</td>\n",
       "      <td>-0.183891</td>\n",
       "      <td>-1.535148</td>\n",
       "      <td>0.0</td>\n",
       "    </tr>\n",
       "  </tbody>\n",
       "</table>\n",
       "</div>"
      ],
      "text/plain": [
       "                       0    1      2    3     4    5         6         7  \\\n",
       "DateCrawled                                                                \n",
       "2016-03-25 17:57:44  8.0  1.0  166.0  4.0   5.0  0.0 -0.057357 -0.000338   \n",
       "2016-03-10 12:40:33  0.0  1.0  238.0  2.0  20.0  0.0 -0.014398 -0.042293   \n",
       "2016-03-30 09:50:14  8.0  1.0  170.0  2.0  38.0  0.0 -0.025138  0.209437   \n",
       "2016-03-18 23:53:31  8.0  1.0   11.0  6.0   2.0  0.0  0.017822  0.209437   \n",
       "2016-03-17 21:50:47  5.0  1.0   75.0  6.0  27.0  0.0  0.050041 -0.183891   \n",
       "\n",
       "                            8    9  \n",
       "DateCrawled                         \n",
       "2016-03-25 17:57:44  0.575855  0.0  \n",
       "2016-03-10 12:40:33  0.575855  0.0  \n",
       "2016-03-30 09:50:14  0.575855  0.0  \n",
       "2016-03-18 23:53:31  0.575855  0.0  \n",
       "2016-03-17 21:50:47 -1.535148  0.0  "
      ]
     },
     "execution_count": 43,
     "metadata": {},
     "output_type": "execute_result"
    }
   ],
   "source": [
    "features_test.head()"
   ]
  },
  {
   "cell_type": "markdown",
   "metadata": {},
   "source": [
    "В рамках предобработки данных:\n",
    "- заполнены пропуски в данных. Там, где это возможно, пропуски заполнены самым распространенным значением, в других случаях пропуски заполнены значением \"неизвестно\" (во избежание потери большого числа данных);\n",
    "- удалены аномальные значения цены, года выпуска и мощности;\n",
    "- удалены столбцы с личными даннными, не влияющими на целевую переменную (почтовый индекс, дата создания, дата загрузки, дата последней активности, месяц регистрации автомобиля);\n",
    "- в результате датафрейм сократился на 15%;\n",
    "- выделены целевой и обучающие признаки;\n",
    "- данные разделены на обучающую и тестовую выборки;\n",
    "- категориальные признаки закодированы с помощью OneHotEncoder();\n",
    "- количественные признаки отмасштабированы."
   ]
  },
  {
   "cell_type": "markdown",
   "metadata": {},
   "source": [
    "## Обучение моделей"
   ]
  },
  {
   "cell_type": "markdown",
   "metadata": {},
   "source": [
    "Построю и обучу несколько моделей - дерево решений, случайный лес, модели градиентного бустинга с помощью LightGBM и CatBoost. "
   ]
  },
  {
   "cell_type": "markdown",
   "metadata": {},
   "source": [
    "### Дерево решений"
   ]
  },
  {
   "cell_type": "code",
   "execution_count": 22,
   "metadata": {},
   "outputs": [
    {
     "name": "stdout",
     "output_type": "stream",
     "text": [
      "Время предсказания модели Дерево решений (секунды): 0.02\n",
      "Лучшее значение глубины для Дерева решений: {'max_depth': 9}\n",
      "RMSE модели Дерево решений: 2019.1283815106515\n"
     ]
    }
   ],
   "source": [
    "\n",
    "# Инициирую модель Дерево решений\n",
    "model_dt=DecisionTreeRegressor(random_state=12345)\n",
    "parameters= {'max_depth':range(1,10)}                                    \n",
    "grid_dt=GridSearchCV(model_dt,param_grid=parameters,\n",
    "                     scoring='neg_mean_squared_error',\n",
    "                     cv=5) \n",
    "\n",
    "# Обучаю модель\n",
    "# start = time.time()\n",
    "model_dt_final = grid_dt.fit(features_train, target_train)\n",
    "#end = time.time()\n",
    "#learn_time_dt = round(end-start, 4)\n",
    "\n",
    "# Делаю предсказания\n",
    "start = time.time()\n",
    "model_dt_final.predict(features_train)\n",
    "end = time.time()\n",
    "predict_time_dt=round(end-start,2)\n",
    "print('Время предсказания модели Дерево решений (секунды):', predict_time_dt)\n",
    "\n",
    "# Считаю RMSE \n",
    "dt_rmse = ((model_dt_final.best_score_)*(-1))**0.5\n",
    "print('Лучшее значение глубины для Дерева решений:', model_dt_final.best_params_)\n",
    "print('RMSE модели Дерево решений:', dt_rmse)\n"
   ]
  },
  {
   "cell_type": "code",
   "execution_count": 24,
   "metadata": {},
   "outputs": [
    {
     "name": "stdout",
     "output_type": "stream",
     "text": [
      "Время обучения модели Дерево решений с лучшими гиперпараметрами (секунды): 0.3636\n"
     ]
    }
   ],
   "source": [
    "# Отдельно замеряю, сколько будет обучаться модель на лучших параметрах\n",
    "model_dt_final = DecisionTreeRegressor(random_state=12345, max_depth=9)\n",
    "model_dt_final.fit(features_train, target_train)\n",
    "end = time.time()\n",
    "learn_time_dt = round(end-start, 4)\n",
    "print('Время обучения модели Дерево решений с лучшими гиперпараметрами (секунды):', learn_time_dt)"
   ]
  },
  {
   "cell_type": "markdown",
   "metadata": {},
   "source": [
    "### Случайный лес"
   ]
  },
  {
   "cell_type": "code",
   "execution_count": 25,
   "metadata": {},
   "outputs": [
    {
     "name": "stdout",
     "output_type": "stream",
     "text": [
      "Время предсказания модели  Случайный лес (секунды): 3.09\n",
      "Лучшее значение параметров для Случайного леса: {'max_depth': 50, 'n_estimators': 40}\n",
      "RMSE модели Случайный лес: 1588.0870833079882\n"
     ]
    }
   ],
   "source": [
    "# Инициирую модель \n",
    "model_rf = RandomForestRegressor(random_state=12345)\n",
    "parameters= {'max_depth':(10,50),\n",
    "             'n_estimators':range(10, 50, 10)}                                 \n",
    "grid_rf=GridSearchCV(model_rf,param_grid=parameters,\n",
    "                     scoring='neg_mean_squared_error',\n",
    "                     cv=5) \n",
    "\n",
    "# Обучаю модель\n",
    "model_rf_final = grid_rf.fit(features_train, target_train)\n",
    "\n",
    "# Делаю предсказания\n",
    "start = time.time()\n",
    "model_rf_final.predict(features_train)\n",
    "end = time.time()\n",
    "predict_time_rf=round(end-start,2)\n",
    "print('Время предсказания модели  Случайный лес (секунды):', predict_time_rf)\n",
    "\n",
    "# Считаю RMSE \n",
    "rf_rmse = ((model_rf_final.best_score_)*(-1))**0.5\n",
    "print('Лучшее значение параметров для Случайного леса:', model_rf_final.best_params_)\n",
    "print('RMSE модели Случайный лес:', rf_rmse)\n"
   ]
  },
  {
   "cell_type": "code",
   "execution_count": 26,
   "metadata": {},
   "outputs": [
    {
     "name": "stdout",
     "output_type": "stream",
     "text": [
      "Время обучения модели Случайный лес с лучшими гиперпараметрами (секунды): 19.61682\n"
     ]
    }
   ],
   "source": [
    "# Отдельно замеряю, сколько будет обучаться модель на лучших параметрах\n",
    "start = time.time()\n",
    "model_rf_final = RandomForestRegressor(random_state=12345, max_depth=50, n_estimators=40)\n",
    "model_rf_final.fit(features_train, target_train)\n",
    "end = time.time()\n",
    "learn_time_rf = round(end-start, 5)\n",
    "print('Время обучения модели Случайный лес с лучшими гиперпараметрами (секунды):', learn_time_rf)"
   ]
  },
  {
   "cell_type": "markdown",
   "metadata": {},
   "source": [
    "###  LightGBM"
   ]
  },
  {
   "cell_type": "code",
   "execution_count": 27,
   "metadata": {},
   "outputs": [
    {
     "name": "stdout",
     "output_type": "stream",
     "text": [
      "Время предсказания модели   LightGBM (секунды): 1.62\n",
      "Лучшее значение параметров для  LightGBM: {'max_depth': 15}\n",
      "RMSE модели LightGBM: 1669.5420651743616\n"
     ]
    }
   ],
   "source": [
    "model_lgb = lgb.LGBMRegressor()\n",
    "parameters = {'max_depth':[5, 10, 15]}\n",
    "             #'learning_rate':[0.01, 0.1]}\n",
    "\n",
    "grid_lgbm = GridSearchCV(model_lgb,param_grid=parameters,\n",
    "                         scoring='neg_mean_squared_error',\n",
    "                         cv=3)                        \n",
    "                          \n",
    "# Обучаю модель\n",
    "\n",
    "model_lgb_final = grid_lgbm.fit(features_train, target_train)\n",
    "\n",
    "# Делаю предсказания\n",
    "start = time.time()\n",
    "model_lgb_final.predict(features_train)\n",
    "end = time.time()\n",
    "predict_time_lgbm = round(end-start,2)\n",
    "print('Время предсказания модели   LightGBM (секунды):', predict_time_lgbm)\n",
    "\n",
    "# Считаю RMSE \n",
    "lgbm_rmse = ((model_lgb_final.best_score_)*(-1))**0.5\n",
    "print('Лучшее значение параметров для  LightGBM:', model_lgb_final.best_params_)\n",
    "print('RMSE модели LightGBM:', lgbm_rmse)"
   ]
  },
  {
   "cell_type": "code",
   "execution_count": 28,
   "metadata": {},
   "outputs": [
    {
     "name": "stdout",
     "output_type": "stream",
     "text": [
      "Время обучения модели LightGBM с лучшими гиперпараметрами (секунды): 4.0723\n"
     ]
    }
   ],
   "source": [
    "# Отдельно замеряю, сколько будет обучаться модель на лучших параметрах\n",
    "start = time.time()\n",
    "model_lgb_final = lgb.LGBMRegressor(max_depth=15)\n",
    "model_lgb_final.fit(features_train, target_train)\n",
    "end = time.time()\n",
    "learn_time_lgbm = round(end-start, 4)\n",
    "print('Время обучения модели LightGBM с лучшими гиперпараметрами (секунды):', learn_time_lgbm)"
   ]
  },
  {
   "cell_type": "markdown",
   "metadata": {},
   "source": [
    "### CatBoost"
   ]
  },
  {
   "cell_type": "code",
   "execution_count": 29,
   "metadata": {
    "collapsed": true
   },
   "outputs": [
    {
     "name": "stdout",
     "output_type": "stream",
     "text": [
      "0:\tlearn: 4571.9894199\ttotal: 73.8ms\tremaining: 2.14s\n",
      "1:\tlearn: 4542.9105455\ttotal: 95.5ms\tremaining: 1.34s\n",
      "2:\tlearn: 4513.4198581\ttotal: 119ms\tremaining: 1.07s\n",
      "3:\tlearn: 4485.4391797\ttotal: 139ms\tremaining: 904ms\n",
      "4:\tlearn: 4457.3410893\ttotal: 159ms\tremaining: 796ms\n",
      "5:\tlearn: 4429.9577251\ttotal: 179ms\tremaining: 717ms\n",
      "6:\tlearn: 4402.9910957\ttotal: 199ms\tremaining: 654ms\n",
      "7:\tlearn: 4375.8479489\ttotal: 220ms\tremaining: 604ms\n",
      "8:\tlearn: 4349.4157208\ttotal: 241ms\tremaining: 563ms\n",
      "9:\tlearn: 4323.2506048\ttotal: 266ms\tremaining: 531ms\n",
      "10:\tlearn: 4297.7688038\ttotal: 286ms\tremaining: 494ms\n",
      "11:\tlearn: 4271.5665476\ttotal: 307ms\tremaining: 460ms\n",
      "12:\tlearn: 4246.5119533\ttotal: 327ms\tremaining: 427ms\n",
      "13:\tlearn: 4221.0625904\ttotal: 346ms\tremaining: 396ms\n",
      "14:\tlearn: 4196.4079651\ttotal: 366ms\tremaining: 366ms\n",
      "15:\tlearn: 4170.9182038\ttotal: 385ms\tremaining: 337ms\n",
      "16:\tlearn: 4146.0702791\ttotal: 407ms\tremaining: 311ms\n",
      "17:\tlearn: 4122.3180453\ttotal: 427ms\tremaining: 285ms\n",
      "18:\tlearn: 4098.9257683\ttotal: 447ms\tremaining: 259ms\n",
      "19:\tlearn: 4074.7729304\ttotal: 468ms\tremaining: 234ms\n",
      "20:\tlearn: 4050.8162125\ttotal: 488ms\tremaining: 209ms\n",
      "21:\tlearn: 4028.3012234\ttotal: 508ms\tremaining: 185ms\n",
      "22:\tlearn: 4005.6582124\ttotal: 529ms\tremaining: 161ms\n",
      "23:\tlearn: 3982.6331613\ttotal: 552ms\tremaining: 138ms\n",
      "24:\tlearn: 3960.6549502\ttotal: 573ms\tremaining: 115ms\n",
      "25:\tlearn: 3939.3931772\ttotal: 593ms\tremaining: 91.3ms\n",
      "26:\tlearn: 3917.4586292\ttotal: 613ms\tremaining: 68.2ms\n",
      "27:\tlearn: 3896.0274665\ttotal: 633ms\tremaining: 45.2ms\n",
      "28:\tlearn: 3874.8322969\ttotal: 653ms\tremaining: 22.5ms\n",
      "29:\tlearn: 3853.2962060\ttotal: 674ms\tremaining: 0us\n",
      "0:\tlearn: 4564.4330881\ttotal: 21.7ms\tremaining: 630ms\n",
      "1:\tlearn: 4535.4424346\ttotal: 44.3ms\tremaining: 620ms\n",
      "2:\tlearn: 4507.4155349\ttotal: 64.6ms\tremaining: 582ms\n",
      "3:\tlearn: 4479.5537359\ttotal: 85.9ms\tremaining: 558ms\n",
      "4:\tlearn: 4451.4963413\ttotal: 112ms\tremaining: 560ms\n",
      "5:\tlearn: 4423.8281717\ttotal: 134ms\tremaining: 535ms\n",
      "6:\tlearn: 4396.8706121\ttotal: 155ms\tremaining: 510ms\n",
      "7:\tlearn: 4370.2045296\ttotal: 175ms\tremaining: 482ms\n",
      "8:\tlearn: 4343.9280025\ttotal: 196ms\tremaining: 457ms\n",
      "9:\tlearn: 4317.8281612\ttotal: 216ms\tremaining: 432ms\n",
      "10:\tlearn: 4292.1857446\ttotal: 237ms\tremaining: 410ms\n",
      "11:\tlearn: 4266.0195755\ttotal: 257ms\tremaining: 386ms\n",
      "12:\tlearn: 4241.0070548\ttotal: 277ms\tremaining: 362ms\n",
      "13:\tlearn: 4215.4086861\ttotal: 297ms\tremaining: 339ms\n",
      "14:\tlearn: 4190.7894372\ttotal: 317ms\tremaining: 317ms\n",
      "15:\tlearn: 4165.3462995\ttotal: 338ms\tremaining: 296ms\n",
      "16:\tlearn: 4140.3733260\ttotal: 358ms\tremaining: 274ms\n",
      "17:\tlearn: 4116.7140032\ttotal: 379ms\tremaining: 253ms\n",
      "18:\tlearn: 4093.0819165\ttotal: 404ms\tremaining: 234ms\n",
      "19:\tlearn: 4069.0102154\ttotal: 428ms\tremaining: 214ms\n",
      "20:\tlearn: 4045.5613637\ttotal: 453ms\tremaining: 194ms\n",
      "21:\tlearn: 4023.1373880\ttotal: 479ms\tremaining: 174ms\n",
      "22:\tlearn: 4000.8997088\ttotal: 505ms\tremaining: 154ms\n",
      "23:\tlearn: 3977.9204298\ttotal: 531ms\tremaining: 133ms\n",
      "24:\tlearn: 3956.0407118\ttotal: 558ms\tremaining: 112ms\n",
      "25:\tlearn: 3934.5814418\ttotal: 585ms\tremaining: 90ms\n",
      "26:\tlearn: 3912.6256793\ttotal: 609ms\tremaining: 67.6ms\n",
      "27:\tlearn: 3891.3894380\ttotal: 635ms\tremaining: 45.4ms\n",
      "28:\tlearn: 3870.2168539\ttotal: 659ms\tremaining: 22.7ms\n",
      "29:\tlearn: 3848.6976940\ttotal: 684ms\tremaining: 0us\n",
      "0:\tlearn: 4569.7590794\ttotal: 22.4ms\tremaining: 649ms\n",
      "1:\tlearn: 4540.7058841\ttotal: 42.8ms\tremaining: 599ms\n",
      "2:\tlearn: 4512.6078181\ttotal: 62.3ms\tremaining: 560ms\n",
      "3:\tlearn: 4484.5226293\ttotal: 81.7ms\tremaining: 531ms\n",
      "4:\tlearn: 4456.3978011\ttotal: 102ms\tremaining: 510ms\n",
      "5:\tlearn: 4428.7009017\ttotal: 122ms\tremaining: 487ms\n",
      "6:\tlearn: 4401.6459647\ttotal: 142ms\tremaining: 466ms\n",
      "7:\tlearn: 4374.5195661\ttotal: 162ms\tremaining: 446ms\n",
      "8:\tlearn: 4348.2128617\ttotal: 182ms\tremaining: 424ms\n",
      "9:\tlearn: 4321.2929537\ttotal: 202ms\tremaining: 404ms\n",
      "10:\tlearn: 4295.5387020\ttotal: 221ms\tremaining: 382ms\n",
      "11:\tlearn: 4269.3211259\ttotal: 241ms\tremaining: 362ms\n",
      "12:\tlearn: 4244.1967967\ttotal: 260ms\tremaining: 340ms\n",
      "13:\tlearn: 4218.4658578\ttotal: 280ms\tremaining: 320ms\n",
      "14:\tlearn: 4193.6778544\ttotal: 301ms\tremaining: 301ms\n",
      "15:\tlearn: 4168.0719402\ttotal: 322ms\tremaining: 281ms\n",
      "16:\tlearn: 4143.0251621\ttotal: 341ms\tremaining: 261ms\n",
      "17:\tlearn: 4119.3559276\ttotal: 361ms\tremaining: 241ms\n",
      "18:\tlearn: 4095.8134947\ttotal: 380ms\tremaining: 220ms\n",
      "19:\tlearn: 4071.7853647\ttotal: 399ms\tremaining: 200ms\n",
      "20:\tlearn: 4047.7128375\ttotal: 418ms\tremaining: 179ms\n",
      "21:\tlearn: 4025.2204416\ttotal: 439ms\tremaining: 160ms\n",
      "22:\tlearn: 4002.8295692\ttotal: 458ms\tremaining: 139ms\n",
      "23:\tlearn: 3979.7703151\ttotal: 478ms\tremaining: 120ms\n",
      "24:\tlearn: 3957.8728687\ttotal: 499ms\tremaining: 99.8ms\n",
      "25:\tlearn: 3936.7096114\ttotal: 520ms\tremaining: 79.9ms\n",
      "26:\tlearn: 3914.7493525\ttotal: 539ms\tremaining: 59.9ms\n",
      "27:\tlearn: 3893.4255263\ttotal: 559ms\tremaining: 39.9ms\n",
      "28:\tlearn: 3872.9595093\ttotal: 581ms\tremaining: 20ms\n",
      "29:\tlearn: 3851.3234444\ttotal: 602ms\tremaining: 0us\n",
      "0:\tlearn: 4572.0592084\ttotal: 25.6ms\tremaining: 742ms\n",
      "1:\tlearn: 4542.9646934\ttotal: 46ms\tremaining: 645ms\n",
      "2:\tlearn: 4513.8110422\ttotal: 67.5ms\tremaining: 608ms\n",
      "3:\tlearn: 4485.6795258\ttotal: 94.5ms\tremaining: 614ms\n",
      "4:\tlearn: 4457.7695557\ttotal: 115ms\tremaining: 577ms\n",
      "5:\tlearn: 4429.9660415\ttotal: 137ms\tremaining: 550ms\n",
      "6:\tlearn: 4402.8175647\ttotal: 160ms\tremaining: 527ms\n",
      "7:\tlearn: 4375.8947062\ttotal: 182ms\tremaining: 500ms\n",
      "8:\tlearn: 4348.8354930\ttotal: 204ms\tremaining: 476ms\n",
      "9:\tlearn: 4322.6589264\ttotal: 226ms\tremaining: 452ms\n",
      "10:\tlearn: 4296.7105928\ttotal: 248ms\tremaining: 429ms\n",
      "11:\tlearn: 4270.4776557\ttotal: 272ms\tremaining: 407ms\n",
      "12:\tlearn: 4245.3016097\ttotal: 294ms\tremaining: 385ms\n",
      "13:\tlearn: 4219.9237422\ttotal: 317ms\tremaining: 363ms\n",
      "14:\tlearn: 4195.5051829\ttotal: 337ms\tremaining: 337ms\n",
      "15:\tlearn: 4169.9722493\ttotal: 357ms\tremaining: 312ms\n",
      "16:\tlearn: 4144.9161254\ttotal: 377ms\tremaining: 288ms\n",
      "17:\tlearn: 4120.2996348\ttotal: 396ms\tremaining: 264ms\n",
      "18:\tlearn: 4096.5549903\ttotal: 417ms\tremaining: 241ms\n",
      "19:\tlearn: 4072.5599199\ttotal: 437ms\tremaining: 218ms\n",
      "20:\tlearn: 4049.0676298\ttotal: 457ms\tremaining: 196ms\n",
      "21:\tlearn: 4026.5115465\ttotal: 479ms\tremaining: 174ms\n",
      "22:\tlearn: 4004.1735847\ttotal: 499ms\tremaining: 152ms\n",
      "23:\tlearn: 3981.1113653\ttotal: 520ms\tremaining: 130ms\n",
      "24:\tlearn: 3959.2146693\ttotal: 540ms\tremaining: 108ms\n",
      "25:\tlearn: 3938.0185334\ttotal: 561ms\tremaining: 86.3ms\n",
      "26:\tlearn: 3916.0427113\ttotal: 582ms\tremaining: 64.6ms\n",
      "27:\tlearn: 3894.6476832\ttotal: 602ms\tremaining: 43ms\n",
      "28:\tlearn: 3873.1529492\ttotal: 624ms\tremaining: 21.5ms\n",
      "29:\tlearn: 3851.4248949\ttotal: 645ms\tremaining: 0us\n",
      "0:\tlearn: 4564.5333202\ttotal: 20.6ms\tremaining: 597ms\n",
      "1:\tlearn: 4535.4796829\ttotal: 40.6ms\tremaining: 568ms\n",
      "2:\tlearn: 4507.4295055\ttotal: 61.6ms\tremaining: 554ms\n",
      "3:\tlearn: 4479.2458321\ttotal: 81ms\tremaining: 526ms\n",
      "4:\tlearn: 4451.4981858\ttotal: 102ms\tremaining: 512ms\n",
      "5:\tlearn: 4423.8658580\ttotal: 124ms\tremaining: 495ms\n",
      "6:\tlearn: 4396.9114342\ttotal: 146ms\tremaining: 478ms\n",
      "7:\tlearn: 4369.7807514\ttotal: 166ms\tremaining: 456ms\n",
      "8:\tlearn: 4343.6915853\ttotal: 187ms\tremaining: 436ms\n",
      "9:\tlearn: 4317.5734346\ttotal: 207ms\tremaining: 413ms\n",
      "10:\tlearn: 4292.0821102\ttotal: 227ms\tremaining: 391ms\n",
      "11:\tlearn: 4265.8779568\ttotal: 248ms\tremaining: 372ms\n",
      "12:\tlearn: 4240.7891002\ttotal: 272ms\tremaining: 355ms\n",
      "13:\tlearn: 4215.1894541\ttotal: 295ms\tremaining: 337ms\n",
      "14:\tlearn: 4190.9175257\ttotal: 315ms\tremaining: 315ms\n",
      "15:\tlearn: 4165.4602570\ttotal: 335ms\tremaining: 293ms\n",
      "16:\tlearn: 4140.4848785\ttotal: 355ms\tremaining: 272ms\n",
      "17:\tlearn: 4115.9932561\ttotal: 376ms\tremaining: 251ms\n",
      "18:\tlearn: 4092.2767655\ttotal: 398ms\tremaining: 230ms\n",
      "19:\tlearn: 4068.2073820\ttotal: 419ms\tremaining: 209ms\n",
      "20:\tlearn: 4044.8213119\ttotal: 440ms\tremaining: 189ms\n",
      "21:\tlearn: 4022.2733887\ttotal: 462ms\tremaining: 168ms\n",
      "22:\tlearn: 3999.9662263\ttotal: 483ms\tremaining: 147ms\n",
      "23:\tlearn: 3976.9963287\ttotal: 504ms\tremaining: 126ms\n",
      "24:\tlearn: 3955.4317710\ttotal: 525ms\tremaining: 105ms\n",
      "25:\tlearn: 3934.3651985\ttotal: 545ms\tremaining: 83.8ms\n",
      "26:\tlearn: 3912.4780874\ttotal: 566ms\tremaining: 62.9ms\n",
      "27:\tlearn: 3891.5841312\ttotal: 586ms\tremaining: 41.9ms\n",
      "28:\tlearn: 3870.3665670\ttotal: 606ms\tremaining: 20.9ms\n",
      "29:\tlearn: 3848.8391744\ttotal: 627ms\tremaining: 0us\n",
      "0:\tlearn: 4569.2643561\ttotal: 45ms\tremaining: 1.31s\n",
      "1:\tlearn: 4536.1888057\ttotal: 86.8ms\tremaining: 1.21s\n",
      "2:\tlearn: 4503.4039094\ttotal: 129ms\tremaining: 1.16s\n",
      "3:\tlearn: 4471.1376736\ttotal: 171ms\tremaining: 1.11s\n",
      "4:\tlearn: 4439.2277521\ttotal: 215ms\tremaining: 1.07s\n",
      "5:\tlearn: 4407.4379347\ttotal: 255ms\tremaining: 1.02s\n",
      "6:\tlearn: 4376.4300104\ttotal: 302ms\tremaining: 992ms\n",
      "7:\tlearn: 4345.8432089\ttotal: 345ms\tremaining: 950ms\n",
      "8:\tlearn: 4315.5228750\ttotal: 386ms\tremaining: 901ms\n",
      "9:\tlearn: 4285.0777758\ttotal: 428ms\tremaining: 857ms\n",
      "10:\tlearn: 4255.1761063\ttotal: 471ms\tremaining: 813ms\n",
      "11:\tlearn: 4225.8574891\ttotal: 520ms\tremaining: 780ms\n",
      "12:\tlearn: 4196.5891436\ttotal: 563ms\tremaining: 737ms\n",
      "13:\tlearn: 4167.6743264\ttotal: 605ms\tremaining: 692ms\n",
      "14:\tlearn: 4138.9638338\ttotal: 647ms\tremaining: 647ms\n",
      "15:\tlearn: 4110.8947322\ttotal: 691ms\tremaining: 605ms\n",
      "16:\tlearn: 4082.9269344\ttotal: 734ms\tremaining: 561ms\n",
      "17:\tlearn: 4055.9224158\ttotal: 776ms\tremaining: 517ms\n",
      "18:\tlearn: 4029.2802381\ttotal: 818ms\tremaining: 474ms\n",
      "19:\tlearn: 4002.3752066\ttotal: 861ms\tremaining: 431ms\n",
      "20:\tlearn: 3975.7956961\ttotal: 906ms\tremaining: 388ms\n",
      "21:\tlearn: 3949.7549120\ttotal: 948ms\tremaining: 345ms\n",
      "22:\tlearn: 3923.8854578\ttotal: 989ms\tremaining: 301ms\n",
      "23:\tlearn: 3898.7409157\ttotal: 1.03s\tremaining: 258ms\n",
      "24:\tlearn: 3873.3596502\ttotal: 1.07s\tremaining: 214ms\n",
      "25:\tlearn: 3848.3950734\ttotal: 1.11s\tremaining: 171ms\n",
      "26:\tlearn: 3823.5835024\ttotal: 1.16s\tremaining: 128ms\n",
      "27:\tlearn: 3798.7019369\ttotal: 1.2s\tremaining: 85.9ms\n",
      "28:\tlearn: 3774.4739594\ttotal: 1.25s\tremaining: 43ms\n",
      "29:\tlearn: 3750.4443228\ttotal: 1.29s\tremaining: 0us\n",
      "0:\tlearn: 4560.4625224\ttotal: 41.7ms\tremaining: 1.21s\n",
      "1:\tlearn: 4527.3093521\ttotal: 82.5ms\tremaining: 1.15s\n",
      "2:\tlearn: 4495.1388618\ttotal: 124ms\tremaining: 1.12s\n",
      "3:\tlearn: 4463.0016516\ttotal: 165ms\tremaining: 1.07s\n",
      "4:\tlearn: 4431.1859789\ttotal: 206ms\tremaining: 1.03s\n",
      "5:\tlearn: 4399.5974209\ttotal: 250ms\tremaining: 1s\n",
      "6:\tlearn: 4368.6881067\ttotal: 293ms\tremaining: 964ms\n",
      "7:\tlearn: 4338.1833409\ttotal: 334ms\tremaining: 919ms\n",
      "8:\tlearn: 4307.9184467\ttotal: 376ms\tremaining: 876ms\n",
      "9:\tlearn: 4277.7856611\ttotal: 417ms\tremaining: 833ms\n",
      "10:\tlearn: 4247.9686123\ttotal: 458ms\tremaining: 791ms\n",
      "11:\tlearn: 4218.7188607\ttotal: 500ms\tremaining: 749ms\n",
      "12:\tlearn: 4189.6980531\ttotal: 541ms\tremaining: 707ms\n",
      "13:\tlearn: 4160.9306432\ttotal: 587ms\tremaining: 671ms\n",
      "14:\tlearn: 4132.2138078\ttotal: 627ms\tremaining: 627ms\n",
      "15:\tlearn: 4104.1646419\ttotal: 669ms\tremaining: 586ms\n",
      "16:\tlearn: 4076.2986083\ttotal: 711ms\tremaining: 544ms\n",
      "17:\tlearn: 4048.8307761\ttotal: 752ms\tremaining: 501ms\n",
      "18:\tlearn: 4022.1406706\ttotal: 794ms\tremaining: 459ms\n",
      "19:\tlearn: 3995.3120972\ttotal: 837ms\tremaining: 418ms\n",
      "20:\tlearn: 3969.0736633\ttotal: 881ms\tremaining: 377ms\n",
      "21:\tlearn: 3943.1784664\ttotal: 923ms\tremaining: 336ms\n",
      "22:\tlearn: 3917.3465004\ttotal: 967ms\tremaining: 294ms\n",
      "23:\tlearn: 3892.4333798\ttotal: 1.01s\tremaining: 254ms\n",
      "24:\tlearn: 3867.0932119\ttotal: 1.06s\tremaining: 211ms\n",
      "25:\tlearn: 3842.2112888\ttotal: 1.1s\tremaining: 169ms\n",
      "26:\tlearn: 3817.4478122\ttotal: 1.14s\tremaining: 127ms\n",
      "27:\tlearn: 3792.6129420\ttotal: 1.18s\tremaining: 84.6ms\n",
      "28:\tlearn: 3768.5851838\ttotal: 1.23s\tremaining: 42.3ms\n",
      "29:\tlearn: 3744.5193047\ttotal: 1.27s\tremaining: 0us\n",
      "0:\tlearn: 4565.8725627\ttotal: 42.7ms\tremaining: 1.24s\n",
      "1:\tlearn: 4532.7881371\ttotal: 83.3ms\tremaining: 1.17s\n",
      "2:\tlearn: 4500.4337907\ttotal: 128ms\tremaining: 1.15s\n",
      "3:\tlearn: 4468.0968713\ttotal: 171ms\tremaining: 1.11s\n",
      "4:\tlearn: 4436.1850816\ttotal: 214ms\tremaining: 1.07s\n",
      "5:\tlearn: 4404.5161595\ttotal: 261ms\tremaining: 1.04s\n",
      "6:\tlearn: 4372.9763986\ttotal: 305ms\tremaining: 1s\n",
      "7:\tlearn: 4342.1181769\ttotal: 351ms\tremaining: 964ms\n",
      "8:\tlearn: 4311.7699524\ttotal: 394ms\tremaining: 919ms\n",
      "9:\tlearn: 4281.1330327\ttotal: 440ms\tremaining: 881ms\n",
      "10:\tlearn: 4251.1987303\ttotal: 485ms\tremaining: 837ms\n",
      "11:\tlearn: 4221.8289012\ttotal: 529ms\tremaining: 793ms\n",
      "12:\tlearn: 4192.7391269\ttotal: 576ms\tremaining: 753ms\n",
      "13:\tlearn: 4163.7532168\ttotal: 622ms\tremaining: 711ms\n",
      "14:\tlearn: 4135.1460187\ttotal: 672ms\tremaining: 672ms\n",
      "15:\tlearn: 4107.1542353\ttotal: 716ms\tremaining: 627ms\n",
      "16:\tlearn: 4079.1777734\ttotal: 761ms\tremaining: 582ms\n",
      "17:\tlearn: 4051.3516528\ttotal: 805ms\tremaining: 536ms\n",
      "18:\tlearn: 4024.6822904\ttotal: 847ms\tremaining: 490ms\n",
      "19:\tlearn: 3997.9264418\ttotal: 889ms\tremaining: 445ms\n",
      "20:\tlearn: 3971.6236020\ttotal: 934ms\tremaining: 400ms\n",
      "21:\tlearn: 3945.6740473\ttotal: 978ms\tremaining: 356ms\n",
      "22:\tlearn: 3919.7854655\ttotal: 1.02s\tremaining: 311ms\n",
      "23:\tlearn: 3894.1320788\ttotal: 1.06s\tremaining: 266ms\n",
      "24:\tlearn: 3868.7909263\ttotal: 1.1s\tremaining: 221ms\n",
      "25:\tlearn: 3843.7364580\ttotal: 1.15s\tremaining: 176ms\n",
      "26:\tlearn: 3818.9810525\ttotal: 1.19s\tremaining: 132ms\n",
      "27:\tlearn: 3794.0854388\ttotal: 1.24s\tremaining: 88.5ms\n",
      "28:\tlearn: 3769.9440583\ttotal: 1.28s\tremaining: 44.2ms\n",
      "29:\tlearn: 3745.9254624\ttotal: 1.32s\tremaining: 0us\n",
      "0:\tlearn: 4568.1183499\ttotal: 42ms\tremaining: 1.22s\n",
      "1:\tlearn: 4534.9596970\ttotal: 84.7ms\tremaining: 1.19s\n",
      "2:\tlearn: 4502.5924344\ttotal: 126ms\tremaining: 1.13s\n",
      "3:\tlearn: 4470.2764304\ttotal: 166ms\tremaining: 1.08s\n",
      "4:\tlearn: 4438.4465178\ttotal: 209ms\tremaining: 1.05s\n",
      "5:\tlearn: 4406.8589036\ttotal: 264ms\tremaining: 1.06s\n",
      "6:\tlearn: 4375.8183027\ttotal: 317ms\tremaining: 1.04s\n",
      "7:\tlearn: 4344.9511671\ttotal: 370ms\tremaining: 1.02s\n",
      "8:\tlearn: 4314.4949599\ttotal: 424ms\tremaining: 989ms\n",
      "9:\tlearn: 4284.4790546\ttotal: 477ms\tremaining: 954ms\n",
      "10:\tlearn: 4254.7541670\ttotal: 531ms\tremaining: 918ms\n",
      "11:\tlearn: 4224.9212873\ttotal: 577ms\tremaining: 865ms\n",
      "12:\tlearn: 4195.8174206\ttotal: 620ms\tremaining: 810ms\n",
      "13:\tlearn: 4166.8028415\ttotal: 661ms\tremaining: 756ms\n",
      "14:\tlearn: 4138.0348682\ttotal: 704ms\tremaining: 704ms\n",
      "15:\tlearn: 4110.0385026\ttotal: 749ms\tremaining: 656ms\n",
      "16:\tlearn: 4082.0677984\ttotal: 790ms\tremaining: 604ms\n",
      "17:\tlearn: 4054.8596780\ttotal: 831ms\tremaining: 554ms\n",
      "18:\tlearn: 4027.8780822\ttotal: 872ms\tremaining: 505ms\n",
      "19:\tlearn: 4000.7537319\ttotal: 915ms\tremaining: 457ms\n",
      "20:\tlearn: 3974.3905450\ttotal: 957ms\tremaining: 410ms\n",
      "21:\tlearn: 3948.2426455\ttotal: 1s\tremaining: 364ms\n",
      "22:\tlearn: 3922.2819782\ttotal: 1.04s\tremaining: 318ms\n",
      "23:\tlearn: 3896.9859574\ttotal: 1.08s\tremaining: 271ms\n",
      "24:\tlearn: 3871.6011684\ttotal: 1.13s\tremaining: 226ms\n",
      "25:\tlearn: 3846.6552648\ttotal: 1.17s\tremaining: 180ms\n",
      "26:\tlearn: 3821.8492489\ttotal: 1.21s\tremaining: 135ms\n",
      "27:\tlearn: 3797.0175606\ttotal: 1.25s\tremaining: 89.7ms\n",
      "28:\tlearn: 3773.0606308\ttotal: 1.29s\tremaining: 44.7ms\n",
      "29:\tlearn: 3748.9402730\ttotal: 1.34s\tremaining: 0us\n",
      "0:\tlearn: 4561.4037707\ttotal: 46ms\tremaining: 1.33s\n",
      "1:\tlearn: 4528.5285327\ttotal: 91.6ms\tremaining: 1.28s\n",
      "2:\tlearn: 4496.3588242\ttotal: 138ms\tremaining: 1.24s\n",
      "3:\tlearn: 4464.1416303\ttotal: 187ms\tremaining: 1.21s\n",
      "4:\tlearn: 4432.2172767\ttotal: 233ms\tremaining: 1.16s\n",
      "5:\tlearn: 4400.6447398\ttotal: 279ms\tremaining: 1.12s\n",
      "6:\tlearn: 4369.7411205\ttotal: 329ms\tremaining: 1.08s\n",
      "7:\tlearn: 4339.2569707\ttotal: 373ms\tremaining: 1.03s\n",
      "8:\tlearn: 4309.0050544\ttotal: 418ms\tremaining: 976ms\n",
      "9:\tlearn: 4279.0714084\ttotal: 462ms\tremaining: 925ms\n",
      "10:\tlearn: 4249.2113879\ttotal: 509ms\tremaining: 879ms\n",
      "11:\tlearn: 4219.4913652\ttotal: 556ms\tremaining: 833ms\n",
      "12:\tlearn: 4190.3604947\ttotal: 608ms\tremaining: 794ms\n",
      "13:\tlearn: 4161.5793538\ttotal: 672ms\tremaining: 768ms\n",
      "14:\tlearn: 4132.9135754\ttotal: 732ms\tremaining: 732ms\n",
      "15:\tlearn: 4104.9892926\ttotal: 787ms\tremaining: 689ms\n",
      "16:\tlearn: 4077.1400870\ttotal: 835ms\tremaining: 638ms\n",
      "17:\tlearn: 4050.0347025\ttotal: 882ms\tremaining: 588ms\n",
      "18:\tlearn: 4023.3002636\ttotal: 928ms\tremaining: 537ms\n",
      "19:\tlearn: 3996.5722939\ttotal: 976ms\tremaining: 488ms\n",
      "20:\tlearn: 3970.0925258\ttotal: 1.03s\tremaining: 441ms\n",
      "21:\tlearn: 3944.2748749\ttotal: 1.08s\tremaining: 392ms\n",
      "22:\tlearn: 3918.4439381\ttotal: 1.13s\tremaining: 344ms\n",
      "23:\tlearn: 3893.2620560\ttotal: 1.18s\tremaining: 294ms\n",
      "24:\tlearn: 3867.9760690\ttotal: 1.23s\tremaining: 245ms\n",
      "25:\tlearn: 3842.9691073\ttotal: 1.27s\tremaining: 195ms\n",
      "26:\tlearn: 3818.2361324\ttotal: 1.31s\tremaining: 146ms\n",
      "27:\tlearn: 3793.3587823\ttotal: 1.36s\tremaining: 97.2ms\n",
      "28:\tlearn: 3769.4666312\ttotal: 1.41s\tremaining: 48.5ms\n",
      "29:\tlearn: 3745.4471259\ttotal: 1.45s\tremaining: 0us\n",
      "0:\tlearn: 4567.0680323\ttotal: 621ms\tremaining: 18s\n",
      "1:\tlearn: 4532.7057863\ttotal: 1.16s\tremaining: 16.3s\n",
      "2:\tlearn: 4498.7394418\ttotal: 1.7s\tremaining: 15.3s\n",
      "3:\tlearn: 4464.7281601\ttotal: 2.27s\tremaining: 14.8s\n",
      "4:\tlearn: 4431.8598144\ttotal: 2.85s\tremaining: 14.2s\n",
      "5:\tlearn: 4398.5974946\ttotal: 3.44s\tremaining: 13.8s\n",
      "6:\tlearn: 4365.8040978\ttotal: 3.98s\tremaining: 13.1s\n",
      "7:\tlearn: 4333.7294067\ttotal: 4.53s\tremaining: 12.5s\n",
      "8:\tlearn: 4302.1791175\ttotal: 5.09s\tremaining: 11.9s\n",
      "9:\tlearn: 4270.6362177\ttotal: 5.64s\tremaining: 11.3s\n",
      "10:\tlearn: 4239.3040340\ttotal: 6.19s\tremaining: 10.7s\n",
      "11:\tlearn: 4208.4612562\ttotal: 6.78s\tremaining: 10.2s\n",
      "12:\tlearn: 4177.9360289\ttotal: 7.32s\tremaining: 9.57s\n",
      "13:\tlearn: 4147.8759190\ttotal: 7.85s\tremaining: 8.97s\n",
      "14:\tlearn: 4118.0654477\ttotal: 8.39s\tremaining: 8.39s\n",
      "15:\tlearn: 4088.2299339\ttotal: 8.93s\tremaining: 7.82s\n",
      "16:\tlearn: 4059.7665204\ttotal: 9.48s\tremaining: 7.25s\n",
      "17:\tlearn: 4031.5488542\ttotal: 10s\tremaining: 6.68s\n",
      "18:\tlearn: 4003.3929624\ttotal: 10.6s\tremaining: 6.12s\n",
      "19:\tlearn: 3975.4088256\ttotal: 11.1s\tremaining: 5.55s\n",
      "20:\tlearn: 3947.6974035\ttotal: 11.6s\tremaining: 4.99s\n",
      "21:\tlearn: 3919.3579345\ttotal: 12.2s\tremaining: 4.43s\n",
      "22:\tlearn: 3892.2452767\ttotal: 12.7s\tremaining: 3.86s\n",
      "23:\tlearn: 3865.3878153\ttotal: 13.2s\tremaining: 3.3s\n",
      "24:\tlearn: 3838.5614212\ttotal: 13.8s\tremaining: 2.75s\n",
      "25:\tlearn: 3812.1954854\ttotal: 14.3s\tremaining: 2.2s\n",
      "26:\tlearn: 3786.5591858\ttotal: 14.8s\tremaining: 1.65s\n",
      "27:\tlearn: 3760.5439446\ttotal: 15.4s\tremaining: 1.1s\n",
      "28:\tlearn: 3734.8698034\ttotal: 15.9s\tremaining: 548ms\n",
      "29:\tlearn: 3710.2596981\ttotal: 16.4s\tremaining: 0us\n",
      "0:\tlearn: 4559.1362045\ttotal: 532ms\tremaining: 15.4s\n",
      "1:\tlearn: 4524.8616161\ttotal: 1.05s\tremaining: 14.8s\n",
      "2:\tlearn: 4490.9746466\ttotal: 1.58s\tremaining: 14.3s\n",
      "3:\tlearn: 4457.1203844\ttotal: 2.12s\tremaining: 13.8s\n",
      "4:\tlearn: 4424.3223672\ttotal: 2.66s\tremaining: 13.3s\n",
      "5:\tlearn: 4391.2573773\ttotal: 3.19s\tremaining: 12.8s\n",
      "6:\tlearn: 4358.5127386\ttotal: 3.71s\tremaining: 12.2s\n",
      "7:\tlearn: 4326.3046199\ttotal: 4.24s\tremaining: 11.7s\n",
      "8:\tlearn: 4294.6847722\ttotal: 4.76s\tremaining: 11.1s\n",
      "9:\tlearn: 4263.2911368\ttotal: 5.3s\tremaining: 10.6s\n",
      "10:\tlearn: 4232.2597999\ttotal: 5.85s\tremaining: 10.1s\n",
      "11:\tlearn: 4202.1342257\ttotal: 6.42s\tremaining: 9.62s\n",
      "12:\tlearn: 4172.1131455\ttotal: 6.97s\tremaining: 9.12s\n",
      "13:\tlearn: 4142.1157992\ttotal: 7.52s\tremaining: 8.6s\n",
      "14:\tlearn: 4112.2920780\ttotal: 8.06s\tremaining: 8.06s\n",
      "15:\tlearn: 4082.8633286\ttotal: 8.59s\tremaining: 7.51s\n",
      "16:\tlearn: 4054.4240377\ttotal: 9.13s\tremaining: 6.98s\n",
      "17:\tlearn: 4026.2510405\ttotal: 9.73s\tremaining: 6.49s\n",
      "18:\tlearn: 3997.8680145\ttotal: 10.3s\tremaining: 5.96s\n",
      "19:\tlearn: 3970.0895355\ttotal: 10.9s\tremaining: 5.43s\n",
      "20:\tlearn: 3942.4219880\ttotal: 11.4s\tremaining: 4.89s\n",
      "21:\tlearn: 3914.8006524\ttotal: 11.9s\tremaining: 4.34s\n",
      "22:\tlearn: 3887.6885579\ttotal: 12.5s\tremaining: 3.79s\n",
      "23:\tlearn: 3860.8332862\ttotal: 13s\tremaining: 3.25s\n",
      "24:\tlearn: 3834.0290182\ttotal: 13.5s\tremaining: 2.71s\n",
      "25:\tlearn: 3807.7177722\ttotal: 14.1s\tremaining: 2.17s\n",
      "26:\tlearn: 3782.0277000\ttotal: 14.6s\tremaining: 1.62s\n",
      "27:\tlearn: 3756.1568903\ttotal: 15.2s\tremaining: 1.08s\n",
      "28:\tlearn: 3730.5143196\ttotal: 15.7s\tremaining: 541ms\n",
      "29:\tlearn: 3705.3514539\ttotal: 16.2s\tremaining: 0us\n",
      "0:\tlearn: 4564.2206479\ttotal: 533ms\tremaining: 15.5s\n",
      "1:\tlearn: 4529.8094349\ttotal: 1.06s\tremaining: 14.9s\n",
      "2:\tlearn: 4496.1064080\ttotal: 1.6s\tremaining: 14.4s\n",
      "3:\tlearn: 4462.3050719\ttotal: 2.17s\tremaining: 14.1s\n",
      "4:\tlearn: 4429.9796513\ttotal: 2.72s\tremaining: 13.6s\n",
      "5:\tlearn: 4396.7825421\ttotal: 3.3s\tremaining: 13.2s\n",
      "6:\tlearn: 4363.9329861\ttotal: 3.83s\tremaining: 12.6s\n",
      "7:\tlearn: 4331.8837295\ttotal: 4.35s\tremaining: 12s\n",
      "8:\tlearn: 4300.1803985\ttotal: 4.88s\tremaining: 11.4s\n",
      "9:\tlearn: 4268.6479791\ttotal: 5.41s\tremaining: 10.8s\n",
      "10:\tlearn: 4237.4317750\ttotal: 5.94s\tremaining: 10.3s\n",
      "11:\tlearn: 4207.0940444\ttotal: 6.47s\tremaining: 9.71s\n",
      "12:\tlearn: 4176.9712679\ttotal: 7.03s\tremaining: 9.2s\n",
      "13:\tlearn: 4146.9251951\ttotal: 7.56s\tremaining: 8.64s\n",
      "14:\tlearn: 4116.9736538\ttotal: 8.09s\tremaining: 8.09s\n",
      "15:\tlearn: 4087.6612216\ttotal: 8.62s\tremaining: 7.54s\n",
      "16:\tlearn: 4059.1913759\ttotal: 9.15s\tremaining: 7s\n",
      "17:\tlearn: 4029.9918103\ttotal: 9.69s\tremaining: 6.46s\n",
      "18:\tlearn: 4001.5297975\ttotal: 10.2s\tremaining: 5.91s\n",
      "19:\tlearn: 3972.9203928\ttotal: 10.8s\tremaining: 5.38s\n",
      "20:\tlearn: 3944.7665432\ttotal: 11.3s\tremaining: 4.85s\n",
      "21:\tlearn: 3916.8080140\ttotal: 11.8s\tremaining: 4.3s\n",
      "22:\tlearn: 3889.5353369\ttotal: 12.4s\tremaining: 3.76s\n",
      "23:\tlearn: 3862.6360203\ttotal: 12.9s\tremaining: 3.23s\n",
      "24:\tlearn: 3835.7010212\ttotal: 13.5s\tremaining: 2.7s\n",
      "25:\tlearn: 3809.3454338\ttotal: 14s\tremaining: 2.16s\n",
      "26:\tlearn: 3783.1800412\ttotal: 14.5s\tremaining: 1.62s\n",
      "27:\tlearn: 3757.5600203\ttotal: 15.1s\tremaining: 1.08s\n",
      "28:\tlearn: 3731.2690417\ttotal: 15.6s\tremaining: 538ms\n",
      "29:\tlearn: 3706.1156345\ttotal: 16.1s\tremaining: 0us\n",
      "0:\tlearn: 4566.5278136\ttotal: 542ms\tremaining: 15.7s\n",
      "1:\tlearn: 4532.1041384\ttotal: 1.06s\tremaining: 14.9s\n",
      "2:\tlearn: 4497.8946861\ttotal: 1.58s\tremaining: 14.3s\n",
      "3:\tlearn: 4464.0123095\ttotal: 2.09s\tremaining: 13.6s\n",
      "4:\tlearn: 4431.1211175\ttotal: 2.6s\tremaining: 13s\n",
      "5:\tlearn: 4398.1332184\ttotal: 3.12s\tremaining: 12.5s\n",
      "6:\tlearn: 4365.5469431\ttotal: 3.66s\tremaining: 12s\n",
      "7:\tlearn: 4333.3073137\ttotal: 4.18s\tremaining: 11.5s\n",
      "8:\tlearn: 4301.6677237\ttotal: 4.74s\tremaining: 11.1s\n",
      "9:\tlearn: 4270.0749480\ttotal: 5.27s\tremaining: 10.5s\n",
      "10:\tlearn: 4238.7248766\ttotal: 5.81s\tremaining: 10s\n",
      "11:\tlearn: 4208.6777955\ttotal: 6.4s\tremaining: 9.61s\n",
      "12:\tlearn: 4178.7218048\ttotal: 6.93s\tremaining: 9.07s\n",
      "13:\tlearn: 4148.6831888\ttotal: 7.45s\tremaining: 8.51s\n",
      "14:\tlearn: 4118.6990172\ttotal: 7.98s\tremaining: 7.98s\n",
      "15:\tlearn: 4089.3741675\ttotal: 8.5s\tremaining: 7.44s\n",
      "16:\tlearn: 4060.8887940\ttotal: 9.03s\tremaining: 6.9s\n",
      "17:\tlearn: 4032.6546084\ttotal: 9.58s\tremaining: 6.38s\n",
      "18:\tlearn: 4004.1663264\ttotal: 10.1s\tremaining: 5.85s\n",
      "19:\tlearn: 3976.0402277\ttotal: 10.7s\tremaining: 5.33s\n",
      "20:\tlearn: 3948.3385627\ttotal: 11.2s\tremaining: 4.8s\n",
      "21:\tlearn: 3920.6173412\ttotal: 11.7s\tremaining: 4.26s\n",
      "22:\tlearn: 3893.4097664\ttotal: 12.3s\tremaining: 3.73s\n",
      "23:\tlearn: 3866.5414864\ttotal: 12.8s\tremaining: 3.2s\n",
      "24:\tlearn: 3839.8862444\ttotal: 13.3s\tremaining: 2.66s\n",
      "25:\tlearn: 3814.3416140\ttotal: 13.8s\tremaining: 2.13s\n",
      "26:\tlearn: 3788.5211860\ttotal: 14.4s\tremaining: 1.6s\n",
      "27:\tlearn: 3762.7003012\ttotal: 14.9s\tremaining: 1.06s\n",
      "28:\tlearn: 3736.9717371\ttotal: 15.4s\tremaining: 532ms\n",
      "29:\tlearn: 3712.0523266\ttotal: 16s\tremaining: 0us\n",
      "0:\tlearn: 4559.3317670\ttotal: 539ms\tremaining: 15.6s\n",
      "1:\tlearn: 4525.0141889\ttotal: 1.14s\tremaining: 15.9s\n",
      "2:\tlearn: 4491.3330599\ttotal: 1.67s\tremaining: 15s\n",
      "3:\tlearn: 4457.6315950\ttotal: 2.2s\tremaining: 14.3s\n",
      "4:\tlearn: 4424.8361540\ttotal: 2.73s\tremaining: 13.7s\n",
      "5:\tlearn: 4391.7120872\ttotal: 3.27s\tremaining: 13.1s\n",
      "6:\tlearn: 4359.1827574\ttotal: 3.79s\tremaining: 12.5s\n",
      "7:\tlearn: 4326.5508249\ttotal: 4.33s\tremaining: 11.9s\n",
      "8:\tlearn: 4294.9491090\ttotal: 4.87s\tremaining: 11.4s\n",
      "9:\tlearn: 4263.4244718\ttotal: 5.39s\tremaining: 10.8s\n",
      "10:\tlearn: 4232.4603980\ttotal: 5.92s\tremaining: 10.2s\n",
      "11:\tlearn: 4201.7875515\ttotal: 6.45s\tremaining: 9.67s\n",
      "12:\tlearn: 4171.9417793\ttotal: 6.98s\tremaining: 9.13s\n",
      "13:\tlearn: 4141.8108841\ttotal: 7.5s\tremaining: 8.58s\n",
      "14:\tlearn: 4111.9697298\ttotal: 8.03s\tremaining: 8.03s\n",
      "15:\tlearn: 4082.5050499\ttotal: 8.57s\tremaining: 7.5s\n",
      "16:\tlearn: 4054.1155277\ttotal: 9.14s\tremaining: 6.99s\n",
      "17:\tlearn: 4025.9710726\ttotal: 9.74s\tremaining: 6.5s\n",
      "18:\tlearn: 3997.8842797\ttotal: 10.4s\tremaining: 6s\n",
      "19:\tlearn: 3970.0442875\ttotal: 10.9s\tremaining: 5.46s\n",
      "20:\tlearn: 3942.3740427\ttotal: 11.5s\tremaining: 4.93s\n",
      "21:\tlearn: 3914.6262679\ttotal: 12s\tremaining: 4.38s\n",
      "22:\tlearn: 3887.2519676\ttotal: 12.6s\tremaining: 3.83s\n",
      "23:\tlearn: 3860.3978013\ttotal: 13.1s\tremaining: 3.29s\n",
      "24:\tlearn: 3833.6786076\ttotal: 13.7s\tremaining: 2.74s\n",
      "25:\tlearn: 3807.9916273\ttotal: 14.3s\tremaining: 2.19s\n",
      "26:\tlearn: 3782.0299794\ttotal: 14.8s\tremaining: 1.65s\n",
      "27:\tlearn: 3755.9198675\ttotal: 15.4s\tremaining: 1.1s\n",
      "28:\tlearn: 3730.1500518\ttotal: 16s\tremaining: 551ms\n",
      "29:\tlearn: 3705.0574985\ttotal: 16.5s\tremaining: 0us\n"
     ]
    },
    {
     "name": "stderr",
     "output_type": "stream",
     "text": [
      "/opt/conda/lib/python3.9/site-packages/sklearn/model_selection/_validation.py:610: FitFailedWarning: Estimator fit failed. The score on this train-test partition for these parameters will be set to nan. Details: \n",
      "Traceback (most recent call last):\n",
      "  File \"/opt/conda/lib/python3.9/site-packages/sklearn/model_selection/_validation.py\", line 593, in _fit_and_score\n",
      "    estimator.fit(X_train, y_train, **fit_params)\n",
      "  File \"/opt/conda/lib/python3.9/site-packages/catboost/core.py\", line 5299, in fit\n",
      "    return self._fit(X, y, cat_features, None, None, None, sample_weight, None, None, None, None, baseline,\n",
      "  File \"/opt/conda/lib/python3.9/site-packages/catboost/core.py\", line 2021, in _fit\n",
      "    train_params = self._prepare_train_params(\n",
      "  File \"/opt/conda/lib/python3.9/site-packages/catboost/core.py\", line 1953, in _prepare_train_params\n",
      "    _check_train_params(params)\n",
      "  File \"_catboost.pyx\", line 5839, in _catboost._check_train_params\n",
      "  File \"_catboost.pyx\", line 5858, in _catboost._check_train_params\n",
      "_catboost.CatBoostError: catboost/private/libs/options/oblivious_tree_options.cpp:122: Maximum tree depth is 16\n",
      "\n",
      "  warnings.warn(\"Estimator fit failed. The score on this train-test\"\n",
      "/opt/conda/lib/python3.9/site-packages/sklearn/model_selection/_validation.py:610: FitFailedWarning: Estimator fit failed. The score on this train-test partition for these parameters will be set to nan. Details: \n",
      "Traceback (most recent call last):\n",
      "  File \"/opt/conda/lib/python3.9/site-packages/sklearn/model_selection/_validation.py\", line 593, in _fit_and_score\n",
      "    estimator.fit(X_train, y_train, **fit_params)\n",
      "  File \"/opt/conda/lib/python3.9/site-packages/catboost/core.py\", line 5299, in fit\n",
      "    return self._fit(X, y, cat_features, None, None, None, sample_weight, None, None, None, None, baseline,\n",
      "  File \"/opt/conda/lib/python3.9/site-packages/catboost/core.py\", line 2021, in _fit\n",
      "    train_params = self._prepare_train_params(\n",
      "  File \"/opt/conda/lib/python3.9/site-packages/catboost/core.py\", line 1953, in _prepare_train_params\n",
      "    _check_train_params(params)\n",
      "  File \"_catboost.pyx\", line 5839, in _catboost._check_train_params\n",
      "  File \"_catboost.pyx\", line 5858, in _catboost._check_train_params\n",
      "_catboost.CatBoostError: catboost/private/libs/options/oblivious_tree_options.cpp:122: Maximum tree depth is 16\n",
      "\n",
      "  warnings.warn(\"Estimator fit failed. The score on this train-test\"\n",
      "/opt/conda/lib/python3.9/site-packages/sklearn/model_selection/_validation.py:610: FitFailedWarning: Estimator fit failed. The score on this train-test partition for these parameters will be set to nan. Details: \n",
      "Traceback (most recent call last):\n",
      "  File \"/opt/conda/lib/python3.9/site-packages/sklearn/model_selection/_validation.py\", line 593, in _fit_and_score\n",
      "    estimator.fit(X_train, y_train, **fit_params)\n",
      "  File \"/opt/conda/lib/python3.9/site-packages/catboost/core.py\", line 5299, in fit\n",
      "    return self._fit(X, y, cat_features, None, None, None, sample_weight, None, None, None, None, baseline,\n",
      "  File \"/opt/conda/lib/python3.9/site-packages/catboost/core.py\", line 2021, in _fit\n",
      "    train_params = self._prepare_train_params(\n",
      "  File \"/opt/conda/lib/python3.9/site-packages/catboost/core.py\", line 1953, in _prepare_train_params\n",
      "    _check_train_params(params)\n",
      "  File \"_catboost.pyx\", line 5839, in _catboost._check_train_params\n",
      "  File \"_catboost.pyx\", line 5858, in _catboost._check_train_params\n",
      "_catboost.CatBoostError: catboost/private/libs/options/oblivious_tree_options.cpp:122: Maximum tree depth is 16\n",
      "\n",
      "  warnings.warn(\"Estimator fit failed. The score on this train-test\"\n",
      "/opt/conda/lib/python3.9/site-packages/sklearn/model_selection/_validation.py:610: FitFailedWarning: Estimator fit failed. The score on this train-test partition for these parameters will be set to nan. Details: \n",
      "Traceback (most recent call last):\n",
      "  File \"/opt/conda/lib/python3.9/site-packages/sklearn/model_selection/_validation.py\", line 593, in _fit_and_score\n",
      "    estimator.fit(X_train, y_train, **fit_params)\n",
      "  File \"/opt/conda/lib/python3.9/site-packages/catboost/core.py\", line 5299, in fit\n",
      "    return self._fit(X, y, cat_features, None, None, None, sample_weight, None, None, None, None, baseline,\n",
      "  File \"/opt/conda/lib/python3.9/site-packages/catboost/core.py\", line 2021, in _fit\n",
      "    train_params = self._prepare_train_params(\n",
      "  File \"/opt/conda/lib/python3.9/site-packages/catboost/core.py\", line 1953, in _prepare_train_params\n",
      "    _check_train_params(params)\n",
      "  File \"_catboost.pyx\", line 5839, in _catboost._check_train_params\n",
      "  File \"_catboost.pyx\", line 5858, in _catboost._check_train_params\n",
      "_catboost.CatBoostError: catboost/private/libs/options/oblivious_tree_options.cpp:122: Maximum tree depth is 16\n",
      "\n",
      "  warnings.warn(\"Estimator fit failed. The score on this train-test\"\n",
      "/opt/conda/lib/python3.9/site-packages/sklearn/model_selection/_validation.py:610: FitFailedWarning: Estimator fit failed. The score on this train-test partition for these parameters will be set to nan. Details: \n",
      "Traceback (most recent call last):\n",
      "  File \"/opt/conda/lib/python3.9/site-packages/sklearn/model_selection/_validation.py\", line 593, in _fit_and_score\n",
      "    estimator.fit(X_train, y_train, **fit_params)\n",
      "  File \"/opt/conda/lib/python3.9/site-packages/catboost/core.py\", line 5299, in fit\n",
      "    return self._fit(X, y, cat_features, None, None, None, sample_weight, None, None, None, None, baseline,\n",
      "  File \"/opt/conda/lib/python3.9/site-packages/catboost/core.py\", line 2021, in _fit\n",
      "    train_params = self._prepare_train_params(\n",
      "  File \"/opt/conda/lib/python3.9/site-packages/catboost/core.py\", line 1953, in _prepare_train_params\n",
      "    _check_train_params(params)\n",
      "  File \"_catboost.pyx\", line 5839, in _catboost._check_train_params\n",
      "  File \"_catboost.pyx\", line 5858, in _catboost._check_train_params\n",
      "_catboost.CatBoostError: catboost/private/libs/options/oblivious_tree_options.cpp:122: Maximum tree depth is 16\n",
      "\n",
      "  warnings.warn(\"Estimator fit failed. The score on this train-test\"\n",
      "/opt/conda/lib/python3.9/site-packages/sklearn/model_selection/_validation.py:610: FitFailedWarning: Estimator fit failed. The score on this train-test partition for these parameters will be set to nan. Details: \n",
      "Traceback (most recent call last):\n",
      "  File \"/opt/conda/lib/python3.9/site-packages/sklearn/model_selection/_validation.py\", line 593, in _fit_and_score\n",
      "    estimator.fit(X_train, y_train, **fit_params)\n",
      "  File \"/opt/conda/lib/python3.9/site-packages/catboost/core.py\", line 5299, in fit\n",
      "    return self._fit(X, y, cat_features, None, None, None, sample_weight, None, None, None, None, baseline,\n",
      "  File \"/opt/conda/lib/python3.9/site-packages/catboost/core.py\", line 2021, in _fit\n",
      "    train_params = self._prepare_train_params(\n",
      "  File \"/opt/conda/lib/python3.9/site-packages/catboost/core.py\", line 1953, in _prepare_train_params\n",
      "    _check_train_params(params)\n",
      "  File \"_catboost.pyx\", line 5839, in _catboost._check_train_params\n",
      "  File \"_catboost.pyx\", line 5858, in _catboost._check_train_params\n",
      "_catboost.CatBoostError: catboost/private/libs/options/oblivious_tree_options.cpp:122: Maximum tree depth is 16\n",
      "\n",
      "  warnings.warn(\"Estimator fit failed. The score on this train-test\"\n",
      "/opt/conda/lib/python3.9/site-packages/sklearn/model_selection/_validation.py:610: FitFailedWarning: Estimator fit failed. The score on this train-test partition for these parameters will be set to nan. Details: \n",
      "Traceback (most recent call last):\n",
      "  File \"/opt/conda/lib/python3.9/site-packages/sklearn/model_selection/_validation.py\", line 593, in _fit_and_score\n",
      "    estimator.fit(X_train, y_train, **fit_params)\n",
      "  File \"/opt/conda/lib/python3.9/site-packages/catboost/core.py\", line 5299, in fit\n",
      "    return self._fit(X, y, cat_features, None, None, None, sample_weight, None, None, None, None, baseline,\n",
      "  File \"/opt/conda/lib/python3.9/site-packages/catboost/core.py\", line 2021, in _fit\n",
      "    train_params = self._prepare_train_params(\n",
      "  File \"/opt/conda/lib/python3.9/site-packages/catboost/core.py\", line 1953, in _prepare_train_params\n",
      "    _check_train_params(params)\n",
      "  File \"_catboost.pyx\", line 5839, in _catboost._check_train_params\n",
      "  File \"_catboost.pyx\", line 5858, in _catboost._check_train_params\n",
      "_catboost.CatBoostError: catboost/private/libs/options/oblivious_tree_options.cpp:122: Maximum tree depth is 16\n",
      "\n",
      "  warnings.warn(\"Estimator fit failed. The score on this train-test\"\n",
      "/opt/conda/lib/python3.9/site-packages/sklearn/model_selection/_validation.py:610: FitFailedWarning: Estimator fit failed. The score on this train-test partition for these parameters will be set to nan. Details: \n",
      "Traceback (most recent call last):\n",
      "  File \"/opt/conda/lib/python3.9/site-packages/sklearn/model_selection/_validation.py\", line 593, in _fit_and_score\n",
      "    estimator.fit(X_train, y_train, **fit_params)\n",
      "  File \"/opt/conda/lib/python3.9/site-packages/catboost/core.py\", line 5299, in fit\n",
      "    return self._fit(X, y, cat_features, None, None, None, sample_weight, None, None, None, None, baseline,\n",
      "  File \"/opt/conda/lib/python3.9/site-packages/catboost/core.py\", line 2021, in _fit\n",
      "    train_params = self._prepare_train_params(\n",
      "  File \"/opt/conda/lib/python3.9/site-packages/catboost/core.py\", line 1953, in _prepare_train_params\n",
      "    _check_train_params(params)\n",
      "  File \"_catboost.pyx\", line 5839, in _catboost._check_train_params\n",
      "  File \"_catboost.pyx\", line 5858, in _catboost._check_train_params\n",
      "_catboost.CatBoostError: catboost/private/libs/options/oblivious_tree_options.cpp:122: Maximum tree depth is 16\n",
      "\n",
      "  warnings.warn(\"Estimator fit failed. The score on this train-test\"\n",
      "/opt/conda/lib/python3.9/site-packages/sklearn/model_selection/_validation.py:610: FitFailedWarning: Estimator fit failed. The score on this train-test partition for these parameters will be set to nan. Details: \n",
      "Traceback (most recent call last):\n",
      "  File \"/opt/conda/lib/python3.9/site-packages/sklearn/model_selection/_validation.py\", line 593, in _fit_and_score\n",
      "    estimator.fit(X_train, y_train, **fit_params)\n",
      "  File \"/opt/conda/lib/python3.9/site-packages/catboost/core.py\", line 5299, in fit\n",
      "    return self._fit(X, y, cat_features, None, None, None, sample_weight, None, None, None, None, baseline,\n",
      "  File \"/opt/conda/lib/python3.9/site-packages/catboost/core.py\", line 2021, in _fit\n",
      "    train_params = self._prepare_train_params(\n",
      "  File \"/opt/conda/lib/python3.9/site-packages/catboost/core.py\", line 1953, in _prepare_train_params\n",
      "    _check_train_params(params)\n",
      "  File \"_catboost.pyx\", line 5839, in _catboost._check_train_params\n",
      "  File \"_catboost.pyx\", line 5858, in _catboost._check_train_params\n",
      "_catboost.CatBoostError: catboost/private/libs/options/oblivious_tree_options.cpp:122: Maximum tree depth is 16\n",
      "\n",
      "  warnings.warn(\"Estimator fit failed. The score on this train-test\"\n",
      "/opt/conda/lib/python3.9/site-packages/sklearn/model_selection/_validation.py:610: FitFailedWarning: Estimator fit failed. The score on this train-test partition for these parameters will be set to nan. Details: \n",
      "Traceback (most recent call last):\n",
      "  File \"/opt/conda/lib/python3.9/site-packages/sklearn/model_selection/_validation.py\", line 593, in _fit_and_score\n",
      "    estimator.fit(X_train, y_train, **fit_params)\n",
      "  File \"/opt/conda/lib/python3.9/site-packages/catboost/core.py\", line 5299, in fit\n",
      "    return self._fit(X, y, cat_features, None, None, None, sample_weight, None, None, None, None, baseline,\n",
      "  File \"/opt/conda/lib/python3.9/site-packages/catboost/core.py\", line 2021, in _fit\n",
      "    train_params = self._prepare_train_params(\n",
      "  File \"/opt/conda/lib/python3.9/site-packages/catboost/core.py\", line 1953, in _prepare_train_params\n",
      "    _check_train_params(params)\n",
      "  File \"_catboost.pyx\", line 5839, in _catboost._check_train_params\n",
      "  File \"_catboost.pyx\", line 5858, in _catboost._check_train_params\n",
      "_catboost.CatBoostError: catboost/private/libs/options/oblivious_tree_options.cpp:122: Maximum tree depth is 16\n",
      "\n",
      "  warnings.warn(\"Estimator fit failed. The score on this train-test\"\n"
     ]
    },
    {
     "name": "stdout",
     "output_type": "stream",
     "text": [
      "0:\tlearn: 4310.7638700\ttotal: 22.5ms\tremaining: 653ms\n",
      "1:\tlearn: 4055.3394702\ttotal: 50.4ms\tremaining: 706ms\n",
      "2:\tlearn: 3836.4673127\ttotal: 73.4ms\tremaining: 660ms\n",
      "3:\tlearn: 3628.1816160\ttotal: 93.6ms\tremaining: 608ms\n",
      "4:\tlearn: 3451.1182104\ttotal: 123ms\tremaining: 614ms\n",
      "5:\tlearn: 3295.2899040\ttotal: 146ms\tremaining: 582ms\n",
      "6:\tlearn: 3152.9831785\ttotal: 168ms\tremaining: 551ms\n",
      "7:\tlearn: 3030.8882679\ttotal: 189ms\tremaining: 520ms\n",
      "8:\tlearn: 2922.1034312\ttotal: 211ms\tremaining: 493ms\n",
      "9:\tlearn: 2827.8894812\ttotal: 234ms\tremaining: 468ms\n",
      "10:\tlearn: 2746.8371404\ttotal: 255ms\tremaining: 441ms\n",
      "11:\tlearn: 2675.2731537\ttotal: 276ms\tremaining: 414ms\n",
      "12:\tlearn: 2610.5689459\ttotal: 297ms\tremaining: 389ms\n",
      "13:\tlearn: 2551.0229445\ttotal: 317ms\tremaining: 363ms\n",
      "14:\tlearn: 2503.0519304\ttotal: 337ms\tremaining: 337ms\n",
      "15:\tlearn: 2460.0953684\ttotal: 358ms\tremaining: 313ms\n",
      "16:\tlearn: 2422.0111743\ttotal: 377ms\tremaining: 288ms\n",
      "17:\tlearn: 2380.7312027\ttotal: 397ms\tremaining: 264ms\n",
      "18:\tlearn: 2349.9397167\ttotal: 415ms\tremaining: 240ms\n",
      "19:\tlearn: 2320.4515802\ttotal: 436ms\tremaining: 218ms\n",
      "20:\tlearn: 2293.1518221\ttotal: 456ms\tremaining: 196ms\n",
      "21:\tlearn: 2266.5805691\ttotal: 478ms\tremaining: 174ms\n",
      "22:\tlearn: 2242.2216401\ttotal: 501ms\tremaining: 153ms\n",
      "23:\tlearn: 2221.6000791\ttotal: 522ms\tremaining: 130ms\n",
      "24:\tlearn: 2204.4513606\ttotal: 541ms\tremaining: 108ms\n",
      "25:\tlearn: 2184.9422195\ttotal: 561ms\tremaining: 86.4ms\n",
      "26:\tlearn: 2167.9827257\ttotal: 581ms\tremaining: 64.5ms\n",
      "27:\tlearn: 2150.3819888\ttotal: 601ms\tremaining: 42.9ms\n",
      "28:\tlearn: 2136.2171459\ttotal: 621ms\tremaining: 21.4ms\n",
      "29:\tlearn: 2123.5444141\ttotal: 641ms\tremaining: 0us\n",
      "0:\tlearn: 4304.9123136\ttotal: 20.1ms\tremaining: 583ms\n",
      "1:\tlearn: 4049.9454030\ttotal: 40.2ms\tremaining: 563ms\n",
      "2:\tlearn: 3831.6486430\ttotal: 60.3ms\tremaining: 542ms\n",
      "3:\tlearn: 3633.6707657\ttotal: 80.4ms\tremaining: 522ms\n",
      "4:\tlearn: 3449.9796927\ttotal: 100ms\tremaining: 501ms\n",
      "5:\tlearn: 3295.4246454\ttotal: 121ms\tremaining: 484ms\n",
      "6:\tlearn: 3149.5406546\ttotal: 141ms\tremaining: 463ms\n",
      "7:\tlearn: 3026.6153645\ttotal: 161ms\tremaining: 443ms\n",
      "8:\tlearn: 2918.6857565\ttotal: 181ms\tremaining: 423ms\n",
      "9:\tlearn: 2825.9636856\ttotal: 203ms\tremaining: 406ms\n",
      "10:\tlearn: 2741.5399942\ttotal: 225ms\tremaining: 388ms\n",
      "11:\tlearn: 2669.5086830\ttotal: 257ms\tremaining: 386ms\n",
      "12:\tlearn: 2605.3921041\ttotal: 293ms\tremaining: 383ms\n",
      "13:\tlearn: 2548.2816429\ttotal: 329ms\tremaining: 377ms\n",
      "14:\tlearn: 2497.7014174\ttotal: 359ms\tremaining: 359ms\n",
      "15:\tlearn: 2453.8888798\ttotal: 383ms\tremaining: 335ms\n",
      "16:\tlearn: 2418.3754696\ttotal: 414ms\tremaining: 317ms\n",
      "17:\tlearn: 2380.0084911\ttotal: 446ms\tremaining: 298ms\n",
      "18:\tlearn: 2347.3183685\ttotal: 472ms\tremaining: 273ms\n",
      "19:\tlearn: 2317.3597533\ttotal: 501ms\tremaining: 251ms\n",
      "20:\tlearn: 2289.4849857\ttotal: 537ms\tremaining: 230ms\n",
      "21:\tlearn: 2264.3864458\ttotal: 572ms\tremaining: 208ms\n",
      "22:\tlearn: 2241.8521424\ttotal: 606ms\tremaining: 184ms\n",
      "23:\tlearn: 2221.6855682\ttotal: 637ms\tremaining: 159ms\n",
      "24:\tlearn: 2200.9211512\ttotal: 668ms\tremaining: 134ms\n",
      "25:\tlearn: 2184.1075878\ttotal: 698ms\tremaining: 107ms\n",
      "26:\tlearn: 2166.5369984\ttotal: 727ms\tremaining: 80.7ms\n",
      "27:\tlearn: 2151.2390483\ttotal: 752ms\tremaining: 53.7ms\n",
      "28:\tlearn: 2137.3413323\ttotal: 773ms\tremaining: 26.7ms\n",
      "29:\tlearn: 2124.2628328\ttotal: 794ms\tremaining: 0us\n",
      "0:\tlearn: 4311.1078876\ttotal: 20.4ms\tremaining: 591ms\n",
      "1:\tlearn: 4060.5986201\ttotal: 42.5ms\tremaining: 595ms\n",
      "2:\tlearn: 3831.6200610\ttotal: 64.3ms\tremaining: 579ms\n",
      "3:\tlearn: 3632.1030582\ttotal: 86.9ms\tremaining: 565ms\n",
      "4:\tlearn: 3445.2288772\ttotal: 107ms\tremaining: 537ms\n",
      "5:\tlearn: 3292.3192871\ttotal: 128ms\tremaining: 513ms\n",
      "6:\tlearn: 3152.1923037\ttotal: 149ms\tremaining: 490ms\n",
      "7:\tlearn: 3030.6075788\ttotal: 170ms\tremaining: 467ms\n",
      "8:\tlearn: 2920.5379249\ttotal: 189ms\tremaining: 442ms\n",
      "9:\tlearn: 2827.5417114\ttotal: 209ms\tremaining: 419ms\n",
      "10:\tlearn: 2746.4101209\ttotal: 230ms\tremaining: 397ms\n",
      "11:\tlearn: 2676.1633315\ttotal: 253ms\tremaining: 379ms\n",
      "12:\tlearn: 2613.4717530\ttotal: 272ms\tremaining: 356ms\n",
      "13:\tlearn: 2555.9811488\ttotal: 292ms\tremaining: 333ms\n",
      "14:\tlearn: 2505.1861283\ttotal: 310ms\tremaining: 310ms\n",
      "15:\tlearn: 2458.7791367\ttotal: 330ms\tremaining: 289ms\n",
      "16:\tlearn: 2419.6447167\ttotal: 349ms\tremaining: 267ms\n",
      "17:\tlearn: 2382.5261674\ttotal: 367ms\tremaining: 245ms\n",
      "18:\tlearn: 2349.0835279\ttotal: 387ms\tremaining: 224ms\n",
      "19:\tlearn: 2319.4368997\ttotal: 408ms\tremaining: 204ms\n",
      "20:\tlearn: 2291.3810757\ttotal: 430ms\tremaining: 184ms\n",
      "21:\tlearn: 2267.5781201\ttotal: 452ms\tremaining: 164ms\n",
      "22:\tlearn: 2243.0368964\ttotal: 474ms\tremaining: 144ms\n",
      "23:\tlearn: 2219.8214323\ttotal: 498ms\tremaining: 125ms\n",
      "24:\tlearn: 2199.0399483\ttotal: 520ms\tremaining: 104ms\n",
      "25:\tlearn: 2179.8232473\ttotal: 539ms\tremaining: 82.9ms\n",
      "26:\tlearn: 2163.0518937\ttotal: 558ms\tremaining: 62ms\n",
      "27:\tlearn: 2147.2445273\ttotal: 578ms\tremaining: 41.3ms\n",
      "28:\tlearn: 2134.4252250\ttotal: 599ms\tremaining: 20.7ms\n",
      "29:\tlearn: 2121.7809875\ttotal: 618ms\tremaining: 0us\n",
      "0:\tlearn: 4311.1282813\ttotal: 21.3ms\tremaining: 617ms\n",
      "1:\tlearn: 4053.7457358\ttotal: 52.3ms\tremaining: 732ms\n",
      "2:\tlearn: 3830.0956391\ttotal: 85.3ms\tremaining: 767ms\n",
      "3:\tlearn: 3625.0507987\ttotal: 107ms\tremaining: 698ms\n",
      "4:\tlearn: 3448.5967002\ttotal: 129ms\tremaining: 647ms\n",
      "5:\tlearn: 3290.0612727\ttotal: 151ms\tremaining: 604ms\n",
      "6:\tlearn: 3151.1367164\ttotal: 173ms\tremaining: 568ms\n",
      "7:\tlearn: 3025.2555344\ttotal: 195ms\tremaining: 535ms\n",
      "8:\tlearn: 2918.6030791\ttotal: 216ms\tremaining: 504ms\n",
      "9:\tlearn: 2828.2112871\ttotal: 237ms\tremaining: 474ms\n",
      "10:\tlearn: 2742.3146107\ttotal: 258ms\tremaining: 445ms\n",
      "11:\tlearn: 2670.4242628\ttotal: 279ms\tremaining: 418ms\n",
      "12:\tlearn: 2605.2668510\ttotal: 299ms\tremaining: 391ms\n",
      "13:\tlearn: 2549.7743578\ttotal: 321ms\tremaining: 367ms\n",
      "14:\tlearn: 2500.2440098\ttotal: 342ms\tremaining: 342ms\n",
      "15:\tlearn: 2457.4854486\ttotal: 363ms\tremaining: 317ms\n",
      "16:\tlearn: 2419.5424998\ttotal: 383ms\tremaining: 293ms\n",
      "17:\tlearn: 2382.2525324\ttotal: 403ms\tremaining: 269ms\n",
      "18:\tlearn: 2348.1237353\ttotal: 424ms\tremaining: 246ms\n",
      "19:\tlearn: 2319.7895852\ttotal: 446ms\tremaining: 223ms\n",
      "20:\tlearn: 2292.3342679\ttotal: 469ms\tremaining: 201ms\n",
      "21:\tlearn: 2266.8814263\ttotal: 492ms\tremaining: 179ms\n",
      "22:\tlearn: 2243.7150516\ttotal: 519ms\tremaining: 158ms\n",
      "23:\tlearn: 2221.8373846\ttotal: 539ms\tremaining: 135ms\n",
      "24:\tlearn: 2202.9861630\ttotal: 559ms\tremaining: 112ms\n",
      "25:\tlearn: 2183.8369110\ttotal: 579ms\tremaining: 89.1ms\n",
      "26:\tlearn: 2165.8160986\ttotal: 598ms\tremaining: 66.5ms\n",
      "27:\tlearn: 2151.5731186\ttotal: 627ms\tremaining: 44.8ms\n",
      "28:\tlearn: 2136.4537393\ttotal: 649ms\tremaining: 22.4ms\n",
      "29:\tlearn: 2124.6250750\ttotal: 669ms\tremaining: 0us\n",
      "0:\tlearn: 4303.6870154\ttotal: 23.3ms\tremaining: 676ms\n",
      "1:\tlearn: 4048.4839272\ttotal: 45.4ms\tremaining: 636ms\n",
      "2:\tlearn: 3829.1342778\ttotal: 67ms\tremaining: 603ms\n",
      "3:\tlearn: 3631.7222348\ttotal: 89.9ms\tremaining: 584ms\n",
      "4:\tlearn: 3450.8247615\ttotal: 113ms\tremaining: 563ms\n",
      "5:\tlearn: 3289.6990617\ttotal: 135ms\tremaining: 539ms\n",
      "6:\tlearn: 3150.0948678\ttotal: 157ms\tremaining: 517ms\n",
      "7:\tlearn: 3030.3436984\ttotal: 179ms\tremaining: 493ms\n",
      "8:\tlearn: 2923.9078461\ttotal: 201ms\tremaining: 470ms\n",
      "9:\tlearn: 2834.5972231\ttotal: 222ms\tremaining: 445ms\n",
      "10:\tlearn: 2750.0933580\ttotal: 242ms\tremaining: 419ms\n",
      "11:\tlearn: 2678.8429975\ttotal: 264ms\tremaining: 396ms\n",
      "12:\tlearn: 2611.6033660\ttotal: 285ms\tremaining: 373ms\n",
      "13:\tlearn: 2556.1508463\ttotal: 306ms\tremaining: 350ms\n",
      "14:\tlearn: 2504.6181529\ttotal: 327ms\tremaining: 327ms\n",
      "15:\tlearn: 2459.7867215\ttotal: 347ms\tremaining: 304ms\n",
      "16:\tlearn: 2420.8726150\ttotal: 367ms\tremaining: 281ms\n",
      "17:\tlearn: 2385.3044682\ttotal: 388ms\tremaining: 259ms\n",
      "18:\tlearn: 2351.5370155\ttotal: 409ms\tremaining: 237ms\n",
      "19:\tlearn: 2317.9550454\ttotal: 430ms\tremaining: 215ms\n",
      "20:\tlearn: 2290.7667432\ttotal: 450ms\tremaining: 193ms\n",
      "21:\tlearn: 2267.4869515\ttotal: 470ms\tremaining: 171ms\n",
      "22:\tlearn: 2244.8519765\ttotal: 491ms\tremaining: 149ms\n",
      "23:\tlearn: 2224.9500951\ttotal: 511ms\tremaining: 128ms\n",
      "24:\tlearn: 2206.8685303\ttotal: 530ms\tremaining: 106ms\n",
      "25:\tlearn: 2187.9457500\ttotal: 550ms\tremaining: 84.6ms\n",
      "26:\tlearn: 2170.5450466\ttotal: 570ms\tremaining: 63.4ms\n",
      "27:\tlearn: 2155.5772560\ttotal: 590ms\tremaining: 42.1ms\n",
      "28:\tlearn: 2138.8905611\ttotal: 612ms\tremaining: 21.1ms\n",
      "29:\tlearn: 2125.2294323\ttotal: 631ms\tremaining: 0us\n",
      "0:\tlearn: 4282.9663161\ttotal: 42.6ms\tremaining: 1.23s\n",
      "1:\tlearn: 3989.7032082\ttotal: 86.4ms\tremaining: 1.21s\n",
      "2:\tlearn: 3724.7898313\ttotal: 128ms\tremaining: 1.15s\n",
      "3:\tlearn: 3497.7540815\ttotal: 171ms\tremaining: 1.11s\n",
      "4:\tlearn: 3290.8859135\ttotal: 213ms\tremaining: 1.06s\n",
      "5:\tlearn: 3109.3403218\ttotal: 255ms\tremaining: 1.02s\n",
      "6:\tlearn: 2954.7453696\ttotal: 296ms\tremaining: 973ms\n",
      "7:\tlearn: 2820.6576613\ttotal: 347ms\tremaining: 955ms\n",
      "8:\tlearn: 2699.4358888\ttotal: 392ms\tremaining: 915ms\n",
      "9:\tlearn: 2594.6077515\ttotal: 440ms\tremaining: 881ms\n",
      "10:\tlearn: 2503.4974426\ttotal: 482ms\tremaining: 832ms\n",
      "11:\tlearn: 2421.3187076\ttotal: 525ms\tremaining: 788ms\n",
      "12:\tlearn: 2352.6416090\ttotal: 574ms\tremaining: 750ms\n",
      "13:\tlearn: 2290.3909348\ttotal: 620ms\tremaining: 709ms\n",
      "14:\tlearn: 2237.2903803\ttotal: 669ms\tremaining: 669ms\n",
      "15:\tlearn: 2191.3835259\ttotal: 714ms\tremaining: 625ms\n",
      "16:\tlearn: 2148.0582809\ttotal: 763ms\tremaining: 584ms\n",
      "17:\tlearn: 2108.3884918\ttotal: 806ms\tremaining: 537ms\n",
      "18:\tlearn: 2076.4609566\ttotal: 849ms\tremaining: 492ms\n",
      "19:\tlearn: 2048.3850154\ttotal: 908ms\tremaining: 454ms\n",
      "20:\tlearn: 2020.2301701\ttotal: 956ms\tremaining: 410ms\n",
      "21:\tlearn: 1993.6205976\ttotal: 999ms\tremaining: 363ms\n",
      "22:\tlearn: 1974.4343572\ttotal: 1.04s\tremaining: 318ms\n",
      "23:\tlearn: 1953.8231610\ttotal: 1.09s\tremaining: 273ms\n",
      "24:\tlearn: 1938.0686104\ttotal: 1.14s\tremaining: 228ms\n",
      "25:\tlearn: 1925.7706707\ttotal: 1.18s\tremaining: 182ms\n",
      "26:\tlearn: 1910.5474342\ttotal: 1.23s\tremaining: 137ms\n",
      "27:\tlearn: 1894.9438069\ttotal: 1.28s\tremaining: 91.5ms\n",
      "28:\tlearn: 1880.3959795\ttotal: 1.33s\tremaining: 45.7ms\n",
      "29:\tlearn: 1869.3627351\ttotal: 1.37s\tremaining: 0us\n",
      "0:\tlearn: 4264.4542895\ttotal: 47.2ms\tremaining: 1.37s\n",
      "1:\tlearn: 3972.3334397\ttotal: 92.7ms\tremaining: 1.3s\n",
      "2:\tlearn: 3710.9063340\ttotal: 142ms\tremaining: 1.28s\n",
      "3:\tlearn: 3483.2823664\ttotal: 188ms\tremaining: 1.22s\n",
      "4:\tlearn: 3289.0045998\ttotal: 234ms\tremaining: 1.17s\n",
      "5:\tlearn: 3111.0658131\ttotal: 277ms\tremaining: 1.11s\n",
      "6:\tlearn: 2957.2523720\ttotal: 325ms\tremaining: 1.07s\n",
      "7:\tlearn: 2823.0267572\ttotal: 369ms\tremaining: 1.01s\n",
      "8:\tlearn: 2700.9208316\ttotal: 413ms\tremaining: 963ms\n",
      "9:\tlearn: 2596.5671372\ttotal: 454ms\tremaining: 909ms\n",
      "10:\tlearn: 2506.5041634\ttotal: 501ms\tremaining: 865ms\n",
      "11:\tlearn: 2421.5632422\ttotal: 542ms\tremaining: 813ms\n",
      "12:\tlearn: 2349.7367870\ttotal: 590ms\tremaining: 771ms\n",
      "13:\tlearn: 2288.3174912\ttotal: 634ms\tremaining: 725ms\n",
      "14:\tlearn: 2232.9641524\ttotal: 677ms\tremaining: 677ms\n",
      "15:\tlearn: 2187.2762599\ttotal: 720ms\tremaining: 630ms\n",
      "16:\tlearn: 2142.0994836\ttotal: 763ms\tremaining: 584ms\n",
      "17:\tlearn: 2102.6509326\ttotal: 808ms\tremaining: 539ms\n",
      "18:\tlearn: 2071.3345791\ttotal: 852ms\tremaining: 493ms\n",
      "19:\tlearn: 2042.6897341\ttotal: 896ms\tremaining: 448ms\n",
      "20:\tlearn: 2012.9746501\ttotal: 940ms\tremaining: 403ms\n",
      "21:\tlearn: 1990.9872455\ttotal: 983ms\tremaining: 358ms\n",
      "22:\tlearn: 1969.9452906\ttotal: 1.03s\tremaining: 314ms\n",
      "23:\tlearn: 1952.8653657\ttotal: 1.07s\tremaining: 269ms\n",
      "24:\tlearn: 1934.5159163\ttotal: 1.12s\tremaining: 223ms\n",
      "25:\tlearn: 1915.9178308\ttotal: 1.16s\tremaining: 179ms\n",
      "26:\tlearn: 1903.2929724\ttotal: 1.2s\tremaining: 134ms\n",
      "27:\tlearn: 1887.9569220\ttotal: 1.24s\tremaining: 88.8ms\n",
      "28:\tlearn: 1874.6851052\ttotal: 1.28s\tremaining: 44.3ms\n",
      "29:\tlearn: 1864.9423606\ttotal: 1.33s\tremaining: 0us\n",
      "0:\tlearn: 4271.5464657\ttotal: 40.7ms\tremaining: 1.18s\n",
      "1:\tlearn: 3977.1196866\ttotal: 82.7ms\tremaining: 1.16s\n",
      "2:\tlearn: 3716.6856398\ttotal: 125ms\tremaining: 1.13s\n",
      "3:\tlearn: 3487.5365795\ttotal: 171ms\tremaining: 1.11s\n",
      "4:\tlearn: 3285.0928888\ttotal: 234ms\tremaining: 1.17s\n",
      "5:\tlearn: 3108.7752667\ttotal: 274ms\tremaining: 1.1s\n",
      "6:\tlearn: 2952.2464650\ttotal: 323ms\tremaining: 1.06s\n",
      "7:\tlearn: 2815.7835221\ttotal: 365ms\tremaining: 1s\n",
      "8:\tlearn: 2696.5960152\ttotal: 407ms\tremaining: 950ms\n",
      "9:\tlearn: 2591.0773167\ttotal: 450ms\tremaining: 900ms\n",
      "10:\tlearn: 2498.5192099\ttotal: 496ms\tremaining: 857ms\n",
      "11:\tlearn: 2418.8591946\ttotal: 537ms\tremaining: 806ms\n",
      "12:\tlearn: 2347.2582913\ttotal: 580ms\tremaining: 758ms\n",
      "13:\tlearn: 2286.8854343\ttotal: 621ms\tremaining: 709ms\n",
      "14:\tlearn: 2232.8834959\ttotal: 663ms\tremaining: 663ms\n",
      "15:\tlearn: 2185.3123657\ttotal: 704ms\tremaining: 616ms\n",
      "16:\tlearn: 2145.0906825\ttotal: 746ms\tremaining: 570ms\n",
      "17:\tlearn: 2109.4299177\ttotal: 792ms\tremaining: 528ms\n",
      "18:\tlearn: 2077.9190757\ttotal: 835ms\tremaining: 483ms\n",
      "19:\tlearn: 2049.7272743\ttotal: 878ms\tremaining: 439ms\n",
      "20:\tlearn: 2019.8019360\ttotal: 919ms\tremaining: 394ms\n",
      "21:\tlearn: 1994.5605790\ttotal: 963ms\tremaining: 350ms\n",
      "22:\tlearn: 1973.5428124\ttotal: 1s\tremaining: 306ms\n",
      "23:\tlearn: 1948.9039174\ttotal: 1.04s\tremaining: 261ms\n",
      "24:\tlearn: 1927.8111876\ttotal: 1.09s\tremaining: 218ms\n",
      "25:\tlearn: 1909.8878124\ttotal: 1.13s\tremaining: 174ms\n",
      "26:\tlearn: 1894.6887915\ttotal: 1.18s\tremaining: 131ms\n",
      "27:\tlearn: 1879.5186449\ttotal: 1.22s\tremaining: 87.3ms\n",
      "28:\tlearn: 1866.9903156\ttotal: 1.27s\tremaining: 43.9ms\n",
      "29:\tlearn: 1855.4578229\ttotal: 1.32s\tremaining: 0us\n",
      "0:\tlearn: 4270.9652063\ttotal: 41.7ms\tremaining: 1.21s\n",
      "1:\tlearn: 3977.6147658\ttotal: 83.4ms\tremaining: 1.17s\n",
      "2:\tlearn: 3715.2115219\ttotal: 124ms\tremaining: 1.11s\n",
      "3:\tlearn: 3488.5131194\ttotal: 165ms\tremaining: 1.07s\n",
      "4:\tlearn: 3285.2392642\ttotal: 206ms\tremaining: 1.03s\n",
      "5:\tlearn: 3110.0921528\ttotal: 253ms\tremaining: 1.01s\n",
      "6:\tlearn: 2953.8714266\ttotal: 307ms\tremaining: 1.01s\n",
      "7:\tlearn: 2818.2977130\ttotal: 366ms\tremaining: 1.01s\n",
      "8:\tlearn: 2698.4567366\ttotal: 416ms\tremaining: 972ms\n",
      "9:\tlearn: 2594.7037663\ttotal: 474ms\tremaining: 947ms\n",
      "10:\tlearn: 2503.9944899\ttotal: 529ms\tremaining: 914ms\n",
      "11:\tlearn: 2421.2276172\ttotal: 580ms\tremaining: 869ms\n",
      "12:\tlearn: 2350.6977910\ttotal: 620ms\tremaining: 811ms\n",
      "13:\tlearn: 2288.5413012\ttotal: 664ms\tremaining: 759ms\n",
      "14:\tlearn: 2235.5523543\ttotal: 708ms\tremaining: 708ms\n",
      "15:\tlearn: 2187.0484218\ttotal: 755ms\tremaining: 661ms\n",
      "16:\tlearn: 2141.1579803\ttotal: 797ms\tremaining: 609ms\n",
      "17:\tlearn: 2099.0307763\ttotal: 838ms\tremaining: 559ms\n",
      "18:\tlearn: 2066.5616898\ttotal: 879ms\tremaining: 509ms\n",
      "19:\tlearn: 2037.6430115\ttotal: 921ms\tremaining: 460ms\n",
      "20:\tlearn: 2012.2293327\ttotal: 971ms\tremaining: 416ms\n",
      "21:\tlearn: 1988.7068199\ttotal: 1.01s\tremaining: 368ms\n",
      "22:\tlearn: 1967.4333391\ttotal: 1.05s\tremaining: 321ms\n",
      "23:\tlearn: 1950.6099036\ttotal: 1.09s\tremaining: 274ms\n",
      "24:\tlearn: 1935.9619745\ttotal: 1.14s\tremaining: 227ms\n",
      "25:\tlearn: 1917.0364948\ttotal: 1.18s\tremaining: 181ms\n",
      "26:\tlearn: 1902.8024173\ttotal: 1.22s\tremaining: 136ms\n",
      "27:\tlearn: 1886.8904113\ttotal: 1.26s\tremaining: 90.2ms\n",
      "28:\tlearn: 1873.0891400\ttotal: 1.3s\tremaining: 45ms\n",
      "29:\tlearn: 1859.7036374\ttotal: 1.34s\tremaining: 0us\n",
      "0:\tlearn: 4271.7649574\ttotal: 43ms\tremaining: 1.25s\n",
      "1:\tlearn: 3980.2090412\ttotal: 85.8ms\tremaining: 1.2s\n",
      "2:\tlearn: 3719.0858257\ttotal: 130ms\tremaining: 1.17s\n",
      "3:\tlearn: 3492.2499497\ttotal: 180ms\tremaining: 1.17s\n",
      "4:\tlearn: 3289.8584076\ttotal: 231ms\tremaining: 1.15s\n",
      "5:\tlearn: 3113.1992948\ttotal: 278ms\tremaining: 1.11s\n",
      "6:\tlearn: 2961.1722169\ttotal: 325ms\tremaining: 1.07s\n",
      "7:\tlearn: 2822.8255017\ttotal: 369ms\tremaining: 1.01s\n",
      "8:\tlearn: 2698.1993994\ttotal: 411ms\tremaining: 960ms\n",
      "9:\tlearn: 2593.0630561\ttotal: 454ms\tremaining: 908ms\n",
      "10:\tlearn: 2501.7402770\ttotal: 502ms\tremaining: 866ms\n",
      "11:\tlearn: 2420.2756396\ttotal: 544ms\tremaining: 816ms\n",
      "12:\tlearn: 2353.4464125\ttotal: 594ms\tremaining: 776ms\n",
      "13:\tlearn: 2292.8570425\ttotal: 637ms\tremaining: 728ms\n",
      "14:\tlearn: 2241.1306760\ttotal: 679ms\tremaining: 679ms\n",
      "15:\tlearn: 2194.9355829\ttotal: 723ms\tremaining: 633ms\n",
      "16:\tlearn: 2152.2269071\ttotal: 767ms\tremaining: 587ms\n",
      "17:\tlearn: 2110.3627760\ttotal: 810ms\tremaining: 540ms\n",
      "18:\tlearn: 2074.1115870\ttotal: 860ms\tremaining: 498ms\n",
      "19:\tlearn: 2039.2493893\ttotal: 901ms\tremaining: 451ms\n",
      "20:\tlearn: 2014.2065527\ttotal: 946ms\tremaining: 405ms\n",
      "21:\tlearn: 1988.4196534\ttotal: 993ms\tremaining: 361ms\n",
      "22:\tlearn: 1965.9338260\ttotal: 1.04s\tremaining: 316ms\n",
      "23:\tlearn: 1948.5034517\ttotal: 1.08s\tremaining: 271ms\n",
      "24:\tlearn: 1932.5768085\ttotal: 1.13s\tremaining: 226ms\n",
      "25:\tlearn: 1916.7759366\ttotal: 1.17s\tremaining: 180ms\n",
      "26:\tlearn: 1899.4231423\ttotal: 1.22s\tremaining: 135ms\n",
      "27:\tlearn: 1886.0187901\ttotal: 1.26s\tremaining: 89.8ms\n",
      "28:\tlearn: 1871.3413057\ttotal: 1.3s\tremaining: 44.8ms\n",
      "29:\tlearn: 1860.4555935\ttotal: 1.35s\tremaining: 0us\n",
      "0:\tlearn: 4260.2430996\ttotal: 541ms\tremaining: 15.7s\n",
      "1:\tlearn: 3950.5394485\ttotal: 1.08s\tremaining: 15.1s\n",
      "2:\tlearn: 3674.4723982\ttotal: 1.63s\tremaining: 14.6s\n",
      "3:\tlearn: 3432.5857557\ttotal: 2.15s\tremaining: 14s\n",
      "4:\tlearn: 3218.9956525\ttotal: 2.71s\tremaining: 13.5s\n",
      "5:\tlearn: 3030.2163040\ttotal: 3.24s\tremaining: 13s\n",
      "6:\tlearn: 2860.1532417\ttotal: 3.77s\tremaining: 12.4s\n",
      "7:\tlearn: 2708.8032015\ttotal: 4.31s\tremaining: 11.8s\n",
      "8:\tlearn: 2580.0595920\ttotal: 4.84s\tremaining: 11.3s\n",
      "9:\tlearn: 2467.8697056\ttotal: 5.38s\tremaining: 10.8s\n",
      "10:\tlearn: 2367.8422896\ttotal: 5.95s\tremaining: 10.3s\n",
      "11:\tlearn: 2276.3001891\ttotal: 6.54s\tremaining: 9.8s\n",
      "12:\tlearn: 2199.2525034\ttotal: 7.07s\tremaining: 9.25s\n",
      "13:\tlearn: 2130.2836838\ttotal: 7.6s\tremaining: 8.69s\n",
      "14:\tlearn: 2069.1569609\ttotal: 8.13s\tremaining: 8.13s\n",
      "15:\tlearn: 2013.2557015\ttotal: 8.67s\tremaining: 7.59s\n",
      "16:\tlearn: 1969.8059078\ttotal: 9.21s\tremaining: 7.04s\n",
      "17:\tlearn: 1930.0146222\ttotal: 9.75s\tremaining: 6.5s\n",
      "18:\tlearn: 1893.3307192\ttotal: 10.3s\tremaining: 5.97s\n",
      "19:\tlearn: 1863.6760138\ttotal: 10.9s\tremaining: 5.43s\n",
      "20:\tlearn: 1832.0442334\ttotal: 11.4s\tremaining: 4.88s\n",
      "21:\tlearn: 1806.8924380\ttotal: 11.9s\tremaining: 4.33s\n",
      "22:\tlearn: 1785.1444662\ttotal: 12.4s\tremaining: 3.79s\n",
      "23:\tlearn: 1765.4718562\ttotal: 13s\tremaining: 3.25s\n",
      "24:\tlearn: 1750.0261283\ttotal: 13.5s\tremaining: 2.71s\n",
      "25:\tlearn: 1734.2741625\ttotal: 14.1s\tremaining: 2.17s\n",
      "26:\tlearn: 1721.5359391\ttotal: 14.6s\tremaining: 1.62s\n",
      "27:\tlearn: 1708.1925595\ttotal: 15.2s\tremaining: 1.08s\n",
      "28:\tlearn: 1697.9446496\ttotal: 15.7s\tremaining: 541ms\n",
      "29:\tlearn: 1688.7683414\ttotal: 16.2s\tremaining: 0us\n",
      "0:\tlearn: 4250.6378427\ttotal: 521ms\tremaining: 15.1s\n",
      "1:\tlearn: 3944.9144005\ttotal: 1.06s\tremaining: 14.8s\n",
      "2:\tlearn: 3672.1090439\ttotal: 1.6s\tremaining: 14.4s\n",
      "3:\tlearn: 3429.0835613\ttotal: 2.13s\tremaining: 13.9s\n",
      "4:\tlearn: 3222.5699082\ttotal: 2.66s\tremaining: 13.3s\n",
      "5:\tlearn: 3027.5743346\ttotal: 3.19s\tremaining: 12.8s\n",
      "6:\tlearn: 2857.9914928\ttotal: 3.72s\tremaining: 12.2s\n",
      "7:\tlearn: 2711.8512466\ttotal: 4.28s\tremaining: 11.8s\n",
      "8:\tlearn: 2584.8949192\ttotal: 4.85s\tremaining: 11.3s\n",
      "9:\tlearn: 2472.2810057\ttotal: 5.43s\tremaining: 10.9s\n",
      "10:\tlearn: 2373.5112689\ttotal: 5.98s\tremaining: 10.3s\n",
      "11:\tlearn: 2289.2579847\ttotal: 6.54s\tremaining: 9.81s\n",
      "12:\tlearn: 2209.8377884\ttotal: 7.06s\tremaining: 9.23s\n",
      "13:\tlearn: 2138.7894338\ttotal: 7.61s\tremaining: 8.69s\n",
      "14:\tlearn: 2077.2328131\ttotal: 8.14s\tremaining: 8.14s\n",
      "15:\tlearn: 2023.9932419\ttotal: 8.66s\tremaining: 7.58s\n",
      "16:\tlearn: 1982.2051804\ttotal: 9.19s\tremaining: 7.03s\n",
      "17:\tlearn: 1943.7940853\ttotal: 9.78s\tremaining: 6.52s\n",
      "18:\tlearn: 1906.7669309\ttotal: 10.3s\tremaining: 5.96s\n",
      "19:\tlearn: 1875.3081993\ttotal: 10.8s\tremaining: 5.41s\n",
      "20:\tlearn: 1848.5419772\ttotal: 11.3s\tremaining: 4.86s\n",
      "21:\tlearn: 1824.5222602\ttotal: 11.9s\tremaining: 4.32s\n",
      "22:\tlearn: 1804.0665640\ttotal: 12.4s\tremaining: 3.77s\n",
      "23:\tlearn: 1782.8763791\ttotal: 12.9s\tremaining: 3.24s\n",
      "24:\tlearn: 1765.3653856\ttotal: 13.5s\tremaining: 2.69s\n",
      "25:\tlearn: 1745.2133295\ttotal: 14s\tremaining: 2.16s\n",
      "26:\tlearn: 1728.9013762\ttotal: 14.5s\tremaining: 1.62s\n",
      "27:\tlearn: 1714.2934446\ttotal: 15.1s\tremaining: 1.08s\n",
      "28:\tlearn: 1703.0363149\ttotal: 15.6s\tremaining: 539ms\n",
      "29:\tlearn: 1691.1992671\ttotal: 16.2s\tremaining: 0us\n",
      "0:\tlearn: 4254.3879689\ttotal: 531ms\tremaining: 15.4s\n",
      "1:\tlearn: 3946.2405445\ttotal: 1.06s\tremaining: 14.9s\n",
      "2:\tlearn: 3672.1196841\ttotal: 1.59s\tremaining: 14.3s\n",
      "3:\tlearn: 3428.4827499\ttotal: 2.13s\tremaining: 13.8s\n",
      "4:\tlearn: 3214.2151633\ttotal: 2.66s\tremaining: 13.3s\n",
      "5:\tlearn: 3022.6371644\ttotal: 3.24s\tremaining: 13s\n",
      "6:\tlearn: 2855.1617745\ttotal: 3.78s\tremaining: 12.4s\n",
      "7:\tlearn: 2702.5612671\ttotal: 4.31s\tremaining: 11.8s\n",
      "8:\tlearn: 2575.8819852\ttotal: 4.86s\tremaining: 11.3s\n",
      "9:\tlearn: 2462.0226381\ttotal: 5.39s\tremaining: 10.8s\n",
      "10:\tlearn: 2364.1476549\ttotal: 5.93s\tremaining: 10.2s\n",
      "11:\tlearn: 2275.8273412\ttotal: 6.47s\tremaining: 9.7s\n",
      "12:\tlearn: 2200.6470839\ttotal: 7s\tremaining: 9.15s\n",
      "13:\tlearn: 2134.9250778\ttotal: 7.53s\tremaining: 8.6s\n",
      "14:\tlearn: 2076.1186662\ttotal: 8.07s\tremaining: 8.07s\n",
      "15:\tlearn: 2017.3026664\ttotal: 8.63s\tremaining: 7.55s\n",
      "16:\tlearn: 1974.8726644\ttotal: 9.2s\tremaining: 7.03s\n",
      "17:\tlearn: 1932.7200169\ttotal: 9.76s\tremaining: 6.5s\n",
      "18:\tlearn: 1896.2965286\ttotal: 10.3s\tremaining: 5.97s\n",
      "19:\tlearn: 1863.3623879\ttotal: 10.8s\tremaining: 5.42s\n",
      "20:\tlearn: 1835.0271334\ttotal: 11.4s\tremaining: 4.88s\n",
      "21:\tlearn: 1806.4182805\ttotal: 11.9s\tremaining: 4.34s\n",
      "22:\tlearn: 1786.1196525\ttotal: 12.5s\tremaining: 3.8s\n",
      "23:\tlearn: 1767.3412889\ttotal: 13.1s\tremaining: 3.27s\n",
      "24:\tlearn: 1749.4215134\ttotal: 13.7s\tremaining: 2.73s\n",
      "25:\tlearn: 1734.6247928\ttotal: 14.3s\tremaining: 2.19s\n",
      "26:\tlearn: 1719.7467957\ttotal: 14.8s\tremaining: 1.65s\n",
      "27:\tlearn: 1707.2519289\ttotal: 15.3s\tremaining: 1.1s\n",
      "28:\tlearn: 1696.0586421\ttotal: 15.9s\tremaining: 548ms\n",
      "29:\tlearn: 1684.5367089\ttotal: 16.4s\tremaining: 0us\n",
      "0:\tlearn: 4254.5445100\ttotal: 542ms\tremaining: 15.7s\n",
      "1:\tlearn: 3948.7894031\ttotal: 1.08s\tremaining: 15.1s\n",
      "2:\tlearn: 3675.6742073\ttotal: 1.61s\tremaining: 14.5s\n",
      "3:\tlearn: 3431.7514147\ttotal: 2.15s\tremaining: 14s\n",
      "4:\tlearn: 3218.4253061\ttotal: 2.69s\tremaining: 13.5s\n",
      "5:\tlearn: 3029.0787098\ttotal: 3.22s\tremaining: 12.9s\n",
      "6:\tlearn: 2857.7291037\ttotal: 3.78s\tremaining: 12.4s\n",
      "7:\tlearn: 2709.8910139\ttotal: 4.3s\tremaining: 11.8s\n",
      "8:\tlearn: 2581.1569117\ttotal: 4.83s\tremaining: 11.3s\n",
      "9:\tlearn: 2468.3681877\ttotal: 5.39s\tremaining: 10.8s\n",
      "10:\tlearn: 2370.3375553\ttotal: 5.96s\tremaining: 10.3s\n",
      "11:\tlearn: 2280.7432794\ttotal: 6.48s\tremaining: 9.73s\n",
      "12:\tlearn: 2207.4272157\ttotal: 7.01s\tremaining: 9.16s\n",
      "13:\tlearn: 2137.7999027\ttotal: 7.54s\tremaining: 8.61s\n",
      "14:\tlearn: 2076.8810368\ttotal: 8.07s\tremaining: 8.07s\n",
      "15:\tlearn: 2021.3220657\ttotal: 8.6s\tremaining: 7.53s\n",
      "16:\tlearn: 1976.2536524\ttotal: 9.14s\tremaining: 6.99s\n",
      "17:\tlearn: 1936.3096959\ttotal: 9.67s\tremaining: 6.45s\n",
      "18:\tlearn: 1900.4046251\ttotal: 10.2s\tremaining: 5.91s\n",
      "19:\tlearn: 1868.2293016\ttotal: 10.7s\tremaining: 5.36s\n",
      "20:\tlearn: 1841.8028305\ttotal: 11.3s\tremaining: 4.83s\n",
      "21:\tlearn: 1818.4497745\ttotal: 11.8s\tremaining: 4.29s\n",
      "22:\tlearn: 1794.3241866\ttotal: 12.3s\tremaining: 3.75s\n",
      "23:\tlearn: 1774.9813992\ttotal: 12.8s\tremaining: 3.21s\n",
      "24:\tlearn: 1759.0733589\ttotal: 13.4s\tremaining: 2.67s\n",
      "25:\tlearn: 1740.9503875\ttotal: 14s\tremaining: 2.15s\n",
      "26:\tlearn: 1724.1109742\ttotal: 14.5s\tremaining: 1.61s\n",
      "27:\tlearn: 1711.5711401\ttotal: 15s\tremaining: 1.07s\n",
      "28:\tlearn: 1700.7189736\ttotal: 15.6s\tremaining: 539ms\n",
      "29:\tlearn: 1690.5766317\ttotal: 16.2s\tremaining: 0us\n",
      "0:\tlearn: 4250.2805619\ttotal: 520ms\tremaining: 15.1s\n",
      "1:\tlearn: 3943.5164566\ttotal: 1.05s\tremaining: 14.7s\n",
      "2:\tlearn: 3671.3722043\ttotal: 1.59s\tremaining: 14.3s\n",
      "3:\tlearn: 3427.6771623\ttotal: 2.12s\tremaining: 13.8s\n",
      "4:\tlearn: 3216.2118214\ttotal: 2.67s\tremaining: 13.4s\n",
      "5:\tlearn: 3025.8924830\ttotal: 3.2s\tremaining: 12.8s\n",
      "6:\tlearn: 2855.2725628\ttotal: 3.72s\tremaining: 12.2s\n",
      "7:\tlearn: 2706.2997736\ttotal: 4.25s\tremaining: 11.7s\n",
      "8:\tlearn: 2580.7249914\ttotal: 4.79s\tremaining: 11.2s\n",
      "9:\tlearn: 2462.7481378\ttotal: 5.31s\tremaining: 10.6s\n",
      "10:\tlearn: 2365.8121827\ttotal: 5.85s\tremaining: 10.1s\n",
      "11:\tlearn: 2278.0225856\ttotal: 6.39s\tremaining: 9.59s\n",
      "12:\tlearn: 2201.0431102\ttotal: 6.91s\tremaining: 9.04s\n",
      "13:\tlearn: 2133.4190138\ttotal: 7.48s\tremaining: 8.55s\n",
      "14:\tlearn: 2072.4470449\ttotal: 8.03s\tremaining: 8.03s\n",
      "15:\tlearn: 2018.5904344\ttotal: 8.58s\tremaining: 7.51s\n",
      "16:\tlearn: 1975.8263928\ttotal: 9.16s\tremaining: 7.01s\n",
      "17:\tlearn: 1935.2675950\ttotal: 9.69s\tremaining: 6.46s\n",
      "18:\tlearn: 1899.8042451\ttotal: 10.2s\tremaining: 5.93s\n",
      "19:\tlearn: 1868.2651247\ttotal: 10.8s\tremaining: 5.38s\n",
      "20:\tlearn: 1840.1478978\ttotal: 11.4s\tremaining: 4.87s\n",
      "21:\tlearn: 1815.1083961\ttotal: 11.9s\tremaining: 4.32s\n",
      "22:\tlearn: 1794.6658673\ttotal: 12.4s\tremaining: 3.78s\n",
      "23:\tlearn: 1775.0600541\ttotal: 12.9s\tremaining: 3.24s\n",
      "24:\tlearn: 1758.1254488\ttotal: 13.5s\tremaining: 2.7s\n",
      "25:\tlearn: 1744.8088037\ttotal: 14s\tremaining: 2.16s\n",
      "26:\tlearn: 1729.4522993\ttotal: 14.6s\tremaining: 1.62s\n",
      "27:\tlearn: 1714.4203632\ttotal: 15.1s\tremaining: 1.08s\n",
      "28:\tlearn: 1703.0547082\ttotal: 15.6s\tremaining: 539ms\n",
      "29:\tlearn: 1693.2910500\ttotal: 16.2s\tremaining: 0us\n"
     ]
    },
    {
     "name": "stderr",
     "output_type": "stream",
     "text": [
      "/opt/conda/lib/python3.9/site-packages/sklearn/model_selection/_validation.py:610: FitFailedWarning: Estimator fit failed. The score on this train-test partition for these parameters will be set to nan. Details: \n",
      "Traceback (most recent call last):\n",
      "  File \"/opt/conda/lib/python3.9/site-packages/sklearn/model_selection/_validation.py\", line 593, in _fit_and_score\n",
      "    estimator.fit(X_train, y_train, **fit_params)\n",
      "  File \"/opt/conda/lib/python3.9/site-packages/catboost/core.py\", line 5299, in fit\n",
      "    return self._fit(X, y, cat_features, None, None, None, sample_weight, None, None, None, None, baseline,\n",
      "  File \"/opt/conda/lib/python3.9/site-packages/catboost/core.py\", line 2021, in _fit\n",
      "    train_params = self._prepare_train_params(\n",
      "  File \"/opt/conda/lib/python3.9/site-packages/catboost/core.py\", line 1953, in _prepare_train_params\n",
      "    _check_train_params(params)\n",
      "  File \"_catboost.pyx\", line 5839, in _catboost._check_train_params\n",
      "  File \"_catboost.pyx\", line 5858, in _catboost._check_train_params\n",
      "_catboost.CatBoostError: catboost/private/libs/options/oblivious_tree_options.cpp:122: Maximum tree depth is 16\n",
      "\n",
      "  warnings.warn(\"Estimator fit failed. The score on this train-test\"\n",
      "/opt/conda/lib/python3.9/site-packages/sklearn/model_selection/_validation.py:610: FitFailedWarning: Estimator fit failed. The score on this train-test partition for these parameters will be set to nan. Details: \n",
      "Traceback (most recent call last):\n",
      "  File \"/opt/conda/lib/python3.9/site-packages/sklearn/model_selection/_validation.py\", line 593, in _fit_and_score\n",
      "    estimator.fit(X_train, y_train, **fit_params)\n",
      "  File \"/opt/conda/lib/python3.9/site-packages/catboost/core.py\", line 5299, in fit\n",
      "    return self._fit(X, y, cat_features, None, None, None, sample_weight, None, None, None, None, baseline,\n",
      "  File \"/opt/conda/lib/python3.9/site-packages/catboost/core.py\", line 2021, in _fit\n",
      "    train_params = self._prepare_train_params(\n",
      "  File \"/opt/conda/lib/python3.9/site-packages/catboost/core.py\", line 1953, in _prepare_train_params\n",
      "    _check_train_params(params)\n",
      "  File \"_catboost.pyx\", line 5839, in _catboost._check_train_params\n",
      "  File \"_catboost.pyx\", line 5858, in _catboost._check_train_params\n",
      "_catboost.CatBoostError: catboost/private/libs/options/oblivious_tree_options.cpp:122: Maximum tree depth is 16\n",
      "\n",
      "  warnings.warn(\"Estimator fit failed. The score on this train-test\"\n",
      "/opt/conda/lib/python3.9/site-packages/sklearn/model_selection/_validation.py:610: FitFailedWarning: Estimator fit failed. The score on this train-test partition for these parameters will be set to nan. Details: \n",
      "Traceback (most recent call last):\n",
      "  File \"/opt/conda/lib/python3.9/site-packages/sklearn/model_selection/_validation.py\", line 593, in _fit_and_score\n",
      "    estimator.fit(X_train, y_train, **fit_params)\n",
      "  File \"/opt/conda/lib/python3.9/site-packages/catboost/core.py\", line 5299, in fit\n",
      "    return self._fit(X, y, cat_features, None, None, None, sample_weight, None, None, None, None, baseline,\n",
      "  File \"/opt/conda/lib/python3.9/site-packages/catboost/core.py\", line 2021, in _fit\n",
      "    train_params = self._prepare_train_params(\n",
      "  File \"/opt/conda/lib/python3.9/site-packages/catboost/core.py\", line 1953, in _prepare_train_params\n",
      "    _check_train_params(params)\n",
      "  File \"_catboost.pyx\", line 5839, in _catboost._check_train_params\n",
      "  File \"_catboost.pyx\", line 5858, in _catboost._check_train_params\n",
      "_catboost.CatBoostError: catboost/private/libs/options/oblivious_tree_options.cpp:122: Maximum tree depth is 16\n",
      "\n",
      "  warnings.warn(\"Estimator fit failed. The score on this train-test\"\n",
      "/opt/conda/lib/python3.9/site-packages/sklearn/model_selection/_validation.py:610: FitFailedWarning: Estimator fit failed. The score on this train-test partition for these parameters will be set to nan. Details: \n",
      "Traceback (most recent call last):\n",
      "  File \"/opt/conda/lib/python3.9/site-packages/sklearn/model_selection/_validation.py\", line 593, in _fit_and_score\n",
      "    estimator.fit(X_train, y_train, **fit_params)\n",
      "  File \"/opt/conda/lib/python3.9/site-packages/catboost/core.py\", line 5299, in fit\n",
      "    return self._fit(X, y, cat_features, None, None, None, sample_weight, None, None, None, None, baseline,\n",
      "  File \"/opt/conda/lib/python3.9/site-packages/catboost/core.py\", line 2021, in _fit\n",
      "    train_params = self._prepare_train_params(\n",
      "  File \"/opt/conda/lib/python3.9/site-packages/catboost/core.py\", line 1953, in _prepare_train_params\n",
      "    _check_train_params(params)\n",
      "  File \"_catboost.pyx\", line 5839, in _catboost._check_train_params\n",
      "  File \"_catboost.pyx\", line 5858, in _catboost._check_train_params\n",
      "_catboost.CatBoostError: catboost/private/libs/options/oblivious_tree_options.cpp:122: Maximum tree depth is 16\n",
      "\n",
      "  warnings.warn(\"Estimator fit failed. The score on this train-test\"\n",
      "/opt/conda/lib/python3.9/site-packages/sklearn/model_selection/_validation.py:610: FitFailedWarning: Estimator fit failed. The score on this train-test partition for these parameters will be set to nan. Details: \n",
      "Traceback (most recent call last):\n",
      "  File \"/opt/conda/lib/python3.9/site-packages/sklearn/model_selection/_validation.py\", line 593, in _fit_and_score\n",
      "    estimator.fit(X_train, y_train, **fit_params)\n",
      "  File \"/opt/conda/lib/python3.9/site-packages/catboost/core.py\", line 5299, in fit\n",
      "    return self._fit(X, y, cat_features, None, None, None, sample_weight, None, None, None, None, baseline,\n",
      "  File \"/opt/conda/lib/python3.9/site-packages/catboost/core.py\", line 2021, in _fit\n",
      "    train_params = self._prepare_train_params(\n",
      "  File \"/opt/conda/lib/python3.9/site-packages/catboost/core.py\", line 1953, in _prepare_train_params\n",
      "    _check_train_params(params)\n",
      "  File \"_catboost.pyx\", line 5839, in _catboost._check_train_params\n",
      "  File \"_catboost.pyx\", line 5858, in _catboost._check_train_params\n",
      "_catboost.CatBoostError: catboost/private/libs/options/oblivious_tree_options.cpp:122: Maximum tree depth is 16\n",
      "\n",
      "  warnings.warn(\"Estimator fit failed. The score on this train-test\"\n",
      "/opt/conda/lib/python3.9/site-packages/sklearn/model_selection/_validation.py:610: FitFailedWarning: Estimator fit failed. The score on this train-test partition for these parameters will be set to nan. Details: \n",
      "Traceback (most recent call last):\n",
      "  File \"/opt/conda/lib/python3.9/site-packages/sklearn/model_selection/_validation.py\", line 593, in _fit_and_score\n",
      "    estimator.fit(X_train, y_train, **fit_params)\n",
      "  File \"/opt/conda/lib/python3.9/site-packages/catboost/core.py\", line 5299, in fit\n",
      "    return self._fit(X, y, cat_features, None, None, None, sample_weight, None, None, None, None, baseline,\n",
      "  File \"/opt/conda/lib/python3.9/site-packages/catboost/core.py\", line 2021, in _fit\n",
      "    train_params = self._prepare_train_params(\n",
      "  File \"/opt/conda/lib/python3.9/site-packages/catboost/core.py\", line 1953, in _prepare_train_params\n",
      "    _check_train_params(params)\n",
      "  File \"_catboost.pyx\", line 5839, in _catboost._check_train_params\n",
      "  File \"_catboost.pyx\", line 5858, in _catboost._check_train_params\n",
      "_catboost.CatBoostError: catboost/private/libs/options/oblivious_tree_options.cpp:122: Maximum tree depth is 16\n",
      "\n",
      "  warnings.warn(\"Estimator fit failed. The score on this train-test\"\n",
      "/opt/conda/lib/python3.9/site-packages/sklearn/model_selection/_validation.py:610: FitFailedWarning: Estimator fit failed. The score on this train-test partition for these parameters will be set to nan. Details: \n",
      "Traceback (most recent call last):\n",
      "  File \"/opt/conda/lib/python3.9/site-packages/sklearn/model_selection/_validation.py\", line 593, in _fit_and_score\n",
      "    estimator.fit(X_train, y_train, **fit_params)\n",
      "  File \"/opt/conda/lib/python3.9/site-packages/catboost/core.py\", line 5299, in fit\n",
      "    return self._fit(X, y, cat_features, None, None, None, sample_weight, None, None, None, None, baseline,\n",
      "  File \"/opt/conda/lib/python3.9/site-packages/catboost/core.py\", line 2021, in _fit\n",
      "    train_params = self._prepare_train_params(\n",
      "  File \"/opt/conda/lib/python3.9/site-packages/catboost/core.py\", line 1953, in _prepare_train_params\n",
      "    _check_train_params(params)\n",
      "  File \"_catboost.pyx\", line 5839, in _catboost._check_train_params\n",
      "  File \"_catboost.pyx\", line 5858, in _catboost._check_train_params\n",
      "_catboost.CatBoostError: catboost/private/libs/options/oblivious_tree_options.cpp:122: Maximum tree depth is 16\n",
      "\n",
      "  warnings.warn(\"Estimator fit failed. The score on this train-test\"\n",
      "/opt/conda/lib/python3.9/site-packages/sklearn/model_selection/_validation.py:610: FitFailedWarning: Estimator fit failed. The score on this train-test partition for these parameters will be set to nan. Details: \n",
      "Traceback (most recent call last):\n",
      "  File \"/opt/conda/lib/python3.9/site-packages/sklearn/model_selection/_validation.py\", line 593, in _fit_and_score\n",
      "    estimator.fit(X_train, y_train, **fit_params)\n",
      "  File \"/opt/conda/lib/python3.9/site-packages/catboost/core.py\", line 5299, in fit\n",
      "    return self._fit(X, y, cat_features, None, None, None, sample_weight, None, None, None, None, baseline,\n",
      "  File \"/opt/conda/lib/python3.9/site-packages/catboost/core.py\", line 2021, in _fit\n",
      "    train_params = self._prepare_train_params(\n",
      "  File \"/opt/conda/lib/python3.9/site-packages/catboost/core.py\", line 1953, in _prepare_train_params\n",
      "    _check_train_params(params)\n",
      "  File \"_catboost.pyx\", line 5839, in _catboost._check_train_params\n",
      "  File \"_catboost.pyx\", line 5858, in _catboost._check_train_params\n",
      "_catboost.CatBoostError: catboost/private/libs/options/oblivious_tree_options.cpp:122: Maximum tree depth is 16\n",
      "\n",
      "  warnings.warn(\"Estimator fit failed. The score on this train-test\"\n",
      "/opt/conda/lib/python3.9/site-packages/sklearn/model_selection/_validation.py:610: FitFailedWarning: Estimator fit failed. The score on this train-test partition for these parameters will be set to nan. Details: \n",
      "Traceback (most recent call last):\n",
      "  File \"/opt/conda/lib/python3.9/site-packages/sklearn/model_selection/_validation.py\", line 593, in _fit_and_score\n",
      "    estimator.fit(X_train, y_train, **fit_params)\n",
      "  File \"/opt/conda/lib/python3.9/site-packages/catboost/core.py\", line 5299, in fit\n",
      "    return self._fit(X, y, cat_features, None, None, None, sample_weight, None, None, None, None, baseline,\n",
      "  File \"/opt/conda/lib/python3.9/site-packages/catboost/core.py\", line 2021, in _fit\n",
      "    train_params = self._prepare_train_params(\n",
      "  File \"/opt/conda/lib/python3.9/site-packages/catboost/core.py\", line 1953, in _prepare_train_params\n",
      "    _check_train_params(params)\n",
      "  File \"_catboost.pyx\", line 5839, in _catboost._check_train_params\n",
      "  File \"_catboost.pyx\", line 5858, in _catboost._check_train_params\n",
      "_catboost.CatBoostError: catboost/private/libs/options/oblivious_tree_options.cpp:122: Maximum tree depth is 16\n",
      "\n",
      "  warnings.warn(\"Estimator fit failed. The score on this train-test\"\n",
      "/opt/conda/lib/python3.9/site-packages/sklearn/model_selection/_validation.py:610: FitFailedWarning: Estimator fit failed. The score on this train-test partition for these parameters will be set to nan. Details: \n",
      "Traceback (most recent call last):\n",
      "  File \"/opt/conda/lib/python3.9/site-packages/sklearn/model_selection/_validation.py\", line 593, in _fit_and_score\n",
      "    estimator.fit(X_train, y_train, **fit_params)\n",
      "  File \"/opt/conda/lib/python3.9/site-packages/catboost/core.py\", line 5299, in fit\n",
      "    return self._fit(X, y, cat_features, None, None, None, sample_weight, None, None, None, None, baseline,\n",
      "  File \"/opt/conda/lib/python3.9/site-packages/catboost/core.py\", line 2021, in _fit\n",
      "    train_params = self._prepare_train_params(\n",
      "  File \"/opt/conda/lib/python3.9/site-packages/catboost/core.py\", line 1953, in _prepare_train_params\n",
      "    _check_train_params(params)\n",
      "  File \"_catboost.pyx\", line 5839, in _catboost._check_train_params\n",
      "  File \"_catboost.pyx\", line 5858, in _catboost._check_train_params\n",
      "_catboost.CatBoostError: catboost/private/libs/options/oblivious_tree_options.cpp:122: Maximum tree depth is 16\n",
      "\n",
      "  warnings.warn(\"Estimator fit failed. The score on this train-test\"\n"
     ]
    },
    {
     "name": "stdout",
     "output_type": "stream",
     "text": [
      "0:\tlearn: 4170.0134421\ttotal: 21.1ms\tremaining: 613ms\n",
      "1:\tlearn: 3812.2966832\ttotal: 42.7ms\tremaining: 598ms\n",
      "2:\tlearn: 3515.0982056\ttotal: 76.7ms\tremaining: 690ms\n",
      "3:\tlearn: 3269.8941783\ttotal: 96.1ms\tremaining: 625ms\n",
      "4:\tlearn: 3075.0168599\ttotal: 117ms\tremaining: 584ms\n",
      "5:\tlearn: 2906.5670257\ttotal: 137ms\tremaining: 546ms\n",
      "6:\tlearn: 2763.2924174\ttotal: 156ms\tremaining: 514ms\n",
      "7:\tlearn: 2651.6034055\ttotal: 176ms\tremaining: 483ms\n",
      "8:\tlearn: 2562.4915402\ttotal: 195ms\tremaining: 456ms\n",
      "9:\tlearn: 2490.9415508\ttotal: 214ms\tremaining: 428ms\n",
      "10:\tlearn: 2423.0306911\ttotal: 234ms\tremaining: 404ms\n",
      "11:\tlearn: 2365.6271279\ttotal: 255ms\tremaining: 382ms\n",
      "12:\tlearn: 2320.7861950\ttotal: 273ms\tremaining: 357ms\n",
      "13:\tlearn: 2278.1872431\ttotal: 293ms\tremaining: 335ms\n",
      "14:\tlearn: 2245.7680547\ttotal: 311ms\tremaining: 311ms\n",
      "15:\tlearn: 2212.6698844\ttotal: 332ms\tremaining: 290ms\n",
      "16:\tlearn: 2186.0704942\ttotal: 350ms\tremaining: 268ms\n",
      "17:\tlearn: 2164.8149356\ttotal: 371ms\tremaining: 247ms\n",
      "18:\tlearn: 2139.5937989\ttotal: 391ms\tremaining: 226ms\n",
      "19:\tlearn: 2122.6037788\ttotal: 409ms\tremaining: 205ms\n",
      "20:\tlearn: 2105.6175358\ttotal: 429ms\tremaining: 184ms\n",
      "21:\tlearn: 2091.8757232\ttotal: 448ms\tremaining: 163ms\n",
      "22:\tlearn: 2070.5803830\ttotal: 468ms\tremaining: 143ms\n",
      "23:\tlearn: 2051.3395434\ttotal: 492ms\tremaining: 123ms\n",
      "24:\tlearn: 2037.0942250\ttotal: 514ms\tremaining: 103ms\n",
      "25:\tlearn: 2024.3455750\ttotal: 535ms\tremaining: 82.3ms\n",
      "26:\tlearn: 2014.4083376\ttotal: 557ms\tremaining: 61.9ms\n",
      "27:\tlearn: 2005.3118367\ttotal: 577ms\tremaining: 41.2ms\n",
      "28:\tlearn: 1998.0608095\ttotal: 598ms\tremaining: 20.6ms\n",
      "29:\tlearn: 1990.3018965\ttotal: 619ms\tremaining: 0us\n",
      "0:\tlearn: 4165.1134901\ttotal: 20.3ms\tremaining: 590ms\n",
      "1:\tlearn: 3809.3979641\ttotal: 41.4ms\tremaining: 580ms\n",
      "2:\tlearn: 3524.1789724\ttotal: 64.3ms\tremaining: 578ms\n",
      "3:\tlearn: 3269.4960253\ttotal: 84.1ms\tremaining: 547ms\n",
      "4:\tlearn: 3070.7544844\ttotal: 106ms\tremaining: 528ms\n",
      "5:\tlearn: 2905.4783156\ttotal: 131ms\tremaining: 525ms\n",
      "6:\tlearn: 2765.7350821\ttotal: 152ms\tremaining: 498ms\n",
      "7:\tlearn: 2651.4494146\ttotal: 173ms\tremaining: 476ms\n",
      "8:\tlearn: 2562.4649913\ttotal: 194ms\tremaining: 453ms\n",
      "9:\tlearn: 2486.4358024\ttotal: 219ms\tremaining: 439ms\n",
      "10:\tlearn: 2422.3578666\ttotal: 243ms\tremaining: 420ms\n",
      "11:\tlearn: 2365.4432029\ttotal: 269ms\tremaining: 403ms\n",
      "12:\tlearn: 2318.5358850\ttotal: 293ms\tremaining: 383ms\n",
      "13:\tlearn: 2278.1970534\ttotal: 319ms\tremaining: 364ms\n",
      "14:\tlearn: 2243.0296982\ttotal: 346ms\tremaining: 346ms\n",
      "15:\tlearn: 2209.1575724\ttotal: 372ms\tremaining: 326ms\n",
      "16:\tlearn: 2182.4009501\ttotal: 397ms\tremaining: 303ms\n",
      "17:\tlearn: 2160.3604076\ttotal: 421ms\tremaining: 281ms\n",
      "18:\tlearn: 2133.0698073\ttotal: 450ms\tremaining: 261ms\n",
      "19:\tlearn: 2110.5518253\ttotal: 470ms\tremaining: 235ms\n",
      "20:\tlearn: 2093.8723811\ttotal: 490ms\tremaining: 210ms\n",
      "21:\tlearn: 2078.8572797\ttotal: 509ms\tremaining: 185ms\n",
      "22:\tlearn: 2060.4950944\ttotal: 535ms\tremaining: 163ms\n",
      "23:\tlearn: 2048.6787556\ttotal: 553ms\tremaining: 138ms\n",
      "24:\tlearn: 2034.4101979\ttotal: 572ms\tremaining: 114ms\n",
      "25:\tlearn: 2024.7371611\ttotal: 593ms\tremaining: 91.2ms\n",
      "26:\tlearn: 2013.0877824\ttotal: 613ms\tremaining: 68.1ms\n",
      "27:\tlearn: 2001.9049522\ttotal: 633ms\tremaining: 45.2ms\n",
      "28:\tlearn: 1986.5507203\ttotal: 654ms\tremaining: 22.5ms\n",
      "29:\tlearn: 1978.2852831\ttotal: 672ms\tremaining: 0us\n",
      "0:\tlearn: 4171.8057163\ttotal: 33.2ms\tremaining: 963ms\n",
      "1:\tlearn: 3808.9095470\ttotal: 55.8ms\tremaining: 782ms\n",
      "2:\tlearn: 3524.1518317\ttotal: 76ms\tremaining: 684ms\n",
      "3:\tlearn: 3273.1690551\ttotal: 98.2ms\tremaining: 639ms\n",
      "4:\tlearn: 3071.9998098\ttotal: 118ms\tremaining: 591ms\n",
      "5:\tlearn: 2897.0903039\ttotal: 139ms\tremaining: 555ms\n",
      "6:\tlearn: 2765.1692904\ttotal: 159ms\tremaining: 523ms\n",
      "7:\tlearn: 2652.4041816\ttotal: 180ms\tremaining: 495ms\n",
      "8:\tlearn: 2563.6362281\ttotal: 199ms\tremaining: 465ms\n",
      "9:\tlearn: 2483.6399622\ttotal: 220ms\tremaining: 439ms\n",
      "10:\tlearn: 2418.9257290\ttotal: 240ms\tremaining: 415ms\n",
      "11:\tlearn: 2364.2863354\ttotal: 261ms\tremaining: 391ms\n",
      "12:\tlearn: 2320.6358377\ttotal: 282ms\tremaining: 368ms\n",
      "13:\tlearn: 2279.3370074\ttotal: 303ms\tremaining: 346ms\n",
      "14:\tlearn: 2243.5355661\ttotal: 326ms\tremaining: 326ms\n",
      "15:\tlearn: 2212.1143318\ttotal: 346ms\tremaining: 303ms\n",
      "16:\tlearn: 2188.1096387\ttotal: 366ms\tremaining: 280ms\n",
      "17:\tlearn: 2162.9692502\ttotal: 385ms\tremaining: 257ms\n",
      "18:\tlearn: 2141.2512060\ttotal: 405ms\tremaining: 234ms\n",
      "19:\tlearn: 2120.3203628\ttotal: 424ms\tremaining: 212ms\n",
      "20:\tlearn: 2102.3607846\ttotal: 456ms\tremaining: 195ms\n",
      "21:\tlearn: 2086.7852707\ttotal: 480ms\tremaining: 174ms\n",
      "22:\tlearn: 2074.3484168\ttotal: 503ms\tremaining: 153ms\n",
      "23:\tlearn: 2059.0104257\ttotal: 524ms\tremaining: 131ms\n",
      "24:\tlearn: 2048.7117318\ttotal: 543ms\tremaining: 109ms\n",
      "25:\tlearn: 2037.5057499\ttotal: 563ms\tremaining: 86.6ms\n",
      "26:\tlearn: 2025.1629820\ttotal: 582ms\tremaining: 64.7ms\n",
      "27:\tlearn: 2011.8029526\ttotal: 603ms\tremaining: 43.1ms\n",
      "28:\tlearn: 2001.9124628\ttotal: 622ms\tremaining: 21.5ms\n",
      "29:\tlearn: 1991.6962359\ttotal: 641ms\tremaining: 0us\n",
      "0:\tlearn: 4170.5437593\ttotal: 27.6ms\tremaining: 799ms\n",
      "1:\tlearn: 3812.0031233\ttotal: 50.6ms\tremaining: 708ms\n",
      "2:\tlearn: 3523.9621302\ttotal: 72.8ms\tremaining: 655ms\n",
      "3:\tlearn: 3274.3969300\ttotal: 94.4ms\tremaining: 613ms\n",
      "4:\tlearn: 3066.7025562\ttotal: 116ms\tremaining: 578ms\n",
      "5:\tlearn: 2896.0300573\ttotal: 138ms\tremaining: 553ms\n",
      "6:\tlearn: 2762.5145830\ttotal: 160ms\tremaining: 526ms\n",
      "7:\tlearn: 2652.4688993\ttotal: 182ms\tremaining: 500ms\n",
      "8:\tlearn: 2564.1136751\ttotal: 202ms\tremaining: 472ms\n",
      "9:\tlearn: 2488.4485395\ttotal: 221ms\tremaining: 443ms\n",
      "10:\tlearn: 2422.4807857\ttotal: 242ms\tremaining: 417ms\n",
      "11:\tlearn: 2365.2827197\ttotal: 262ms\tremaining: 393ms\n",
      "12:\tlearn: 2318.9397237\ttotal: 288ms\tremaining: 377ms\n",
      "13:\tlearn: 2280.8997569\ttotal: 309ms\tremaining: 354ms\n",
      "14:\tlearn: 2241.3889767\ttotal: 330ms\tremaining: 330ms\n",
      "15:\tlearn: 2210.9266076\ttotal: 351ms\tremaining: 307ms\n",
      "16:\tlearn: 2183.4590743\ttotal: 372ms\tremaining: 285ms\n",
      "17:\tlearn: 2159.3442956\ttotal: 392ms\tremaining: 261ms\n",
      "18:\tlearn: 2137.3513552\ttotal: 412ms\tremaining: 238ms\n",
      "19:\tlearn: 2116.9189830\ttotal: 433ms\tremaining: 217ms\n",
      "20:\tlearn: 2101.2284764\ttotal: 456ms\tremaining: 196ms\n",
      "21:\tlearn: 2087.2367754\ttotal: 476ms\tremaining: 173ms\n",
      "22:\tlearn: 2075.0795869\ttotal: 496ms\tremaining: 151ms\n",
      "23:\tlearn: 2061.5210329\ttotal: 515ms\tremaining: 129ms\n",
      "24:\tlearn: 2047.5536509\ttotal: 534ms\tremaining: 107ms\n",
      "25:\tlearn: 2036.2428796\ttotal: 554ms\tremaining: 85.2ms\n",
      "26:\tlearn: 2018.6412080\ttotal: 575ms\tremaining: 63.9ms\n",
      "27:\tlearn: 2006.3028557\ttotal: 597ms\tremaining: 42.6ms\n",
      "28:\tlearn: 1996.7829104\ttotal: 615ms\tremaining: 21.2ms\n",
      "29:\tlearn: 1989.3730460\ttotal: 633ms\tremaining: 0us\n",
      "0:\tlearn: 4163.1396872\ttotal: 35.5ms\tremaining: 1.03s\n",
      "1:\tlearn: 3804.9928849\ttotal: 61.9ms\tremaining: 866ms\n",
      "2:\tlearn: 3523.2143721\ttotal: 82.2ms\tremaining: 740ms\n",
      "3:\tlearn: 3267.6435694\ttotal: 101ms\tremaining: 657ms\n",
      "4:\tlearn: 3065.5902521\ttotal: 121ms\tremaining: 607ms\n",
      "5:\tlearn: 2900.7495291\ttotal: 141ms\tremaining: 563ms\n",
      "6:\tlearn: 2761.3861378\ttotal: 160ms\tremaining: 526ms\n",
      "7:\tlearn: 2654.9461301\ttotal: 182ms\tremaining: 500ms\n",
      "8:\tlearn: 2567.8282343\ttotal: 201ms\tremaining: 470ms\n",
      "9:\tlearn: 2490.0316280\ttotal: 235ms\tremaining: 471ms\n",
      "10:\tlearn: 2420.4077326\ttotal: 254ms\tremaining: 439ms\n",
      "11:\tlearn: 2365.0441465\ttotal: 277ms\tremaining: 416ms\n",
      "12:\tlearn: 2315.1261915\ttotal: 297ms\tremaining: 388ms\n",
      "13:\tlearn: 2275.1454489\ttotal: 316ms\tremaining: 362ms\n",
      "14:\tlearn: 2237.7415370\ttotal: 338ms\tremaining: 338ms\n",
      "15:\tlearn: 2206.7372099\ttotal: 363ms\tremaining: 317ms\n",
      "16:\tlearn: 2181.6615606\ttotal: 385ms\tremaining: 294ms\n",
      "17:\tlearn: 2154.7844217\ttotal: 410ms\tremaining: 273ms\n",
      "18:\tlearn: 2129.9557875\ttotal: 431ms\tremaining: 249ms\n",
      "19:\tlearn: 2110.8498757\ttotal: 452ms\tremaining: 226ms\n",
      "20:\tlearn: 2092.0650950\ttotal: 473ms\tremaining: 203ms\n",
      "21:\tlearn: 2077.2421642\ttotal: 492ms\tremaining: 179ms\n",
      "22:\tlearn: 2061.0608948\ttotal: 512ms\tremaining: 156ms\n",
      "23:\tlearn: 2048.5149087\ttotal: 533ms\tremaining: 133ms\n",
      "24:\tlearn: 2033.6313522\ttotal: 555ms\tremaining: 111ms\n",
      "25:\tlearn: 2022.0077552\ttotal: 576ms\tremaining: 88.6ms\n",
      "26:\tlearn: 2010.1832527\ttotal: 597ms\tremaining: 66.3ms\n",
      "27:\tlearn: 2000.4377164\ttotal: 618ms\tremaining: 44.1ms\n",
      "28:\tlearn: 1991.7275624\ttotal: 638ms\tremaining: 22ms\n",
      "29:\tlearn: 1981.6594313\ttotal: 660ms\tremaining: 0us\n",
      "0:\tlearn: 4127.8568313\ttotal: 43.4ms\tremaining: 1.26s\n",
      "1:\tlearn: 3718.4399931\ttotal: 84.8ms\tremaining: 1.19s\n",
      "2:\tlearn: 3374.7005806\ttotal: 127ms\tremaining: 1.14s\n",
      "3:\tlearn: 3090.5399844\ttotal: 169ms\tremaining: 1.1s\n",
      "4:\tlearn: 2861.4983646\ttotal: 211ms\tremaining: 1.05s\n",
      "5:\tlearn: 2674.4587958\ttotal: 254ms\tremaining: 1.02s\n",
      "6:\tlearn: 2527.1532551\ttotal: 298ms\tremaining: 979ms\n",
      "7:\tlearn: 2408.4706794\ttotal: 348ms\tremaining: 957ms\n",
      "8:\tlearn: 2305.6446743\ttotal: 397ms\tremaining: 927ms\n",
      "9:\tlearn: 2223.1831943\ttotal: 438ms\tremaining: 876ms\n",
      "10:\tlearn: 2157.5806122\ttotal: 478ms\tremaining: 825ms\n",
      "11:\tlearn: 2099.9516605\ttotal: 518ms\tremaining: 777ms\n",
      "12:\tlearn: 2050.5050637\ttotal: 559ms\tremaining: 731ms\n",
      "13:\tlearn: 2013.6208005\ttotal: 600ms\tremaining: 686ms\n",
      "14:\tlearn: 1981.6628550\ttotal: 643ms\tremaining: 643ms\n",
      "15:\tlearn: 1950.9767876\ttotal: 685ms\tremaining: 599ms\n",
      "16:\tlearn: 1923.0355508\ttotal: 729ms\tremaining: 557ms\n",
      "17:\tlearn: 1896.7892874\ttotal: 772ms\tremaining: 515ms\n",
      "18:\tlearn: 1877.9165940\ttotal: 814ms\tremaining: 471ms\n",
      "19:\tlearn: 1864.3595048\ttotal: 858ms\tremaining: 429ms\n",
      "20:\tlearn: 1847.4124353\ttotal: 901ms\tremaining: 386ms\n",
      "21:\tlearn: 1833.8140968\ttotal: 943ms\tremaining: 343ms\n",
      "22:\tlearn: 1821.2293563\ttotal: 986ms\tremaining: 300ms\n",
      "23:\tlearn: 1807.3125066\ttotal: 1.03s\tremaining: 257ms\n",
      "24:\tlearn: 1799.7790818\ttotal: 1.07s\tremaining: 215ms\n",
      "25:\tlearn: 1792.3109698\ttotal: 1.12s\tremaining: 173ms\n",
      "26:\tlearn: 1784.5537941\ttotal: 1.17s\tremaining: 130ms\n",
      "27:\tlearn: 1777.4563481\ttotal: 1.21s\tremaining: 86.3ms\n",
      "28:\tlearn: 1770.5156296\ttotal: 1.25s\tremaining: 43.1ms\n",
      "29:\tlearn: 1762.3003886\ttotal: 1.3s\tremaining: 0us\n",
      "0:\tlearn: 4103.7945290\ttotal: 44.1ms\tremaining: 1.28s\n",
      "1:\tlearn: 3695.9491956\ttotal: 88ms\tremaining: 1.23s\n",
      "2:\tlearn: 3360.4950476\ttotal: 133ms\tremaining: 1.19s\n",
      "3:\tlearn: 3083.6542413\ttotal: 177ms\tremaining: 1.15s\n",
      "4:\tlearn: 2856.2240263\ttotal: 221ms\tremaining: 1.1s\n",
      "5:\tlearn: 2671.1531287\ttotal: 262ms\tremaining: 1.05s\n",
      "6:\tlearn: 2521.6412488\ttotal: 305ms\tremaining: 1s\n",
      "7:\tlearn: 2403.7434380\ttotal: 349ms\tremaining: 960ms\n",
      "8:\tlearn: 2303.5979610\ttotal: 396ms\tremaining: 924ms\n",
      "9:\tlearn: 2221.2664721\ttotal: 439ms\tremaining: 879ms\n",
      "10:\tlearn: 2144.0540708\ttotal: 479ms\tremaining: 828ms\n",
      "11:\tlearn: 2088.1794638\ttotal: 521ms\tremaining: 781ms\n",
      "12:\tlearn: 2043.4305992\ttotal: 571ms\tremaining: 747ms\n",
      "13:\tlearn: 1998.3773010\ttotal: 614ms\tremaining: 701ms\n",
      "14:\tlearn: 1968.1277526\ttotal: 656ms\tremaining: 656ms\n",
      "15:\tlearn: 1940.6477819\ttotal: 699ms\tremaining: 611ms\n",
      "16:\tlearn: 1917.2361439\ttotal: 740ms\tremaining: 566ms\n",
      "17:\tlearn: 1893.0751992\ttotal: 781ms\tremaining: 521ms\n",
      "18:\tlearn: 1871.0294755\ttotal: 822ms\tremaining: 476ms\n",
      "19:\tlearn: 1854.3664072\ttotal: 867ms\tremaining: 434ms\n",
      "20:\tlearn: 1842.1046584\ttotal: 910ms\tremaining: 390ms\n",
      "21:\tlearn: 1830.3621791\ttotal: 950ms\tremaining: 346ms\n",
      "22:\tlearn: 1817.6675624\ttotal: 993ms\tremaining: 302ms\n",
      "23:\tlearn: 1805.2818999\ttotal: 1.03s\tremaining: 259ms\n",
      "24:\tlearn: 1796.7458815\ttotal: 1.08s\tremaining: 216ms\n",
      "25:\tlearn: 1788.2234117\ttotal: 1.12s\tremaining: 173ms\n",
      "26:\tlearn: 1778.1009321\ttotal: 1.16s\tremaining: 129ms\n",
      "27:\tlearn: 1772.0582786\ttotal: 1.21s\tremaining: 86.3ms\n",
      "28:\tlearn: 1764.4318624\ttotal: 1.25s\tremaining: 43.2ms\n",
      "29:\tlearn: 1759.0908278\ttotal: 1.3s\tremaining: 0us\n",
      "0:\tlearn: 4111.8827549\ttotal: 62.1ms\tremaining: 1.8s\n",
      "1:\tlearn: 3698.6281131\ttotal: 105ms\tremaining: 1.46s\n",
      "2:\tlearn: 3366.6192428\ttotal: 148ms\tremaining: 1.33s\n",
      "3:\tlearn: 3086.7571074\ttotal: 190ms\tremaining: 1.23s\n",
      "4:\tlearn: 2855.7358764\ttotal: 232ms\tremaining: 1.16s\n",
      "5:\tlearn: 2671.9808887\ttotal: 275ms\tremaining: 1.1s\n",
      "6:\tlearn: 2521.1976109\ttotal: 318ms\tremaining: 1.04s\n",
      "7:\tlearn: 2402.5822445\ttotal: 370ms\tremaining: 1.02s\n",
      "8:\tlearn: 2300.1788863\ttotal: 415ms\tremaining: 969ms\n",
      "9:\tlearn: 2219.0956210\ttotal: 460ms\tremaining: 920ms\n",
      "10:\tlearn: 2146.9287178\ttotal: 504ms\tremaining: 871ms\n",
      "11:\tlearn: 2092.0105096\ttotal: 552ms\tremaining: 828ms\n",
      "12:\tlearn: 2041.6131521\ttotal: 594ms\tremaining: 777ms\n",
      "13:\tlearn: 1996.9524283\ttotal: 638ms\tremaining: 730ms\n",
      "14:\tlearn: 1966.0335353\ttotal: 697ms\tremaining: 697ms\n",
      "15:\tlearn: 1932.3572009\ttotal: 743ms\tremaining: 650ms\n",
      "16:\tlearn: 1908.5889325\ttotal: 790ms\tremaining: 604ms\n",
      "17:\tlearn: 1889.7417343\ttotal: 834ms\tremaining: 556ms\n",
      "18:\tlearn: 1865.4527931\ttotal: 875ms\tremaining: 507ms\n",
      "19:\tlearn: 1851.4383145\ttotal: 917ms\tremaining: 458ms\n",
      "20:\tlearn: 1834.8537410\ttotal: 960ms\tremaining: 411ms\n",
      "21:\tlearn: 1821.1223973\ttotal: 1s\tremaining: 365ms\n",
      "22:\tlearn: 1809.9526133\ttotal: 1.04s\tremaining: 318ms\n",
      "23:\tlearn: 1797.0666846\ttotal: 1.09s\tremaining: 272ms\n",
      "24:\tlearn: 1787.5593266\ttotal: 1.13s\tremaining: 226ms\n",
      "25:\tlearn: 1778.6849806\ttotal: 1.17s\tremaining: 180ms\n",
      "26:\tlearn: 1768.8026029\ttotal: 1.21s\tremaining: 135ms\n",
      "27:\tlearn: 1761.7087934\ttotal: 1.26s\tremaining: 90.1ms\n",
      "28:\tlearn: 1755.4927355\ttotal: 1.32s\tremaining: 45.5ms\n",
      "29:\tlearn: 1747.5292467\ttotal: 1.38s\tremaining: 0us\n",
      "0:\tlearn: 4109.6644855\ttotal: 49.4ms\tremaining: 1.43s\n",
      "1:\tlearn: 3700.0647737\ttotal: 102ms\tremaining: 1.43s\n",
      "2:\tlearn: 3364.6921707\ttotal: 150ms\tremaining: 1.35s\n",
      "3:\tlearn: 3087.6616871\ttotal: 191ms\tremaining: 1.24s\n",
      "4:\tlearn: 2857.6062068\ttotal: 234ms\tremaining: 1.17s\n",
      "5:\tlearn: 2668.6990394\ttotal: 278ms\tremaining: 1.11s\n",
      "6:\tlearn: 2521.3579390\ttotal: 321ms\tremaining: 1.05s\n",
      "7:\tlearn: 2396.6099891\ttotal: 364ms\tremaining: 1s\n",
      "8:\tlearn: 2296.5287315\ttotal: 408ms\tremaining: 951ms\n",
      "9:\tlearn: 2214.1024017\ttotal: 452ms\tremaining: 903ms\n",
      "10:\tlearn: 2143.4121980\ttotal: 494ms\tremaining: 853ms\n",
      "11:\tlearn: 2082.9303180\ttotal: 536ms\tremaining: 804ms\n",
      "12:\tlearn: 2037.9665273\ttotal: 584ms\tremaining: 763ms\n",
      "13:\tlearn: 1996.7800137\ttotal: 627ms\tremaining: 717ms\n",
      "14:\tlearn: 1967.3957022\ttotal: 671ms\tremaining: 671ms\n",
      "15:\tlearn: 1940.2858624\ttotal: 716ms\tremaining: 627ms\n",
      "16:\tlearn: 1917.2472074\ttotal: 757ms\tremaining: 579ms\n",
      "17:\tlearn: 1896.7183079\ttotal: 812ms\tremaining: 542ms\n",
      "18:\tlearn: 1880.4528453\ttotal: 854ms\tremaining: 495ms\n",
      "19:\tlearn: 1862.5228048\ttotal: 895ms\tremaining: 448ms\n",
      "20:\tlearn: 1844.5414509\ttotal: 938ms\tremaining: 402ms\n",
      "21:\tlearn: 1829.7758716\ttotal: 980ms\tremaining: 356ms\n",
      "22:\tlearn: 1817.7731849\ttotal: 1.02s\tremaining: 311ms\n",
      "23:\tlearn: 1804.8007763\ttotal: 1.06s\tremaining: 266ms\n",
      "24:\tlearn: 1796.5345673\ttotal: 1.1s\tremaining: 221ms\n",
      "25:\tlearn: 1789.7562185\ttotal: 1.15s\tremaining: 177ms\n",
      "26:\tlearn: 1783.3264757\ttotal: 1.2s\tremaining: 133ms\n",
      "27:\tlearn: 1775.6229701\ttotal: 1.24s\tremaining: 88.9ms\n",
      "28:\tlearn: 1769.5180627\ttotal: 1.29s\tremaining: 44.4ms\n",
      "29:\tlearn: 1761.5038078\ttotal: 1.33s\tremaining: 0us\n",
      "0:\tlearn: 4114.7286433\ttotal: 45.4ms\tremaining: 1.32s\n",
      "1:\tlearn: 3707.8370165\ttotal: 92.5ms\tremaining: 1.29s\n",
      "2:\tlearn: 3366.7196153\ttotal: 134ms\tremaining: 1.2s\n",
      "3:\tlearn: 3083.5882316\ttotal: 176ms\tremaining: 1.15s\n",
      "4:\tlearn: 2852.2515330\ttotal: 218ms\tremaining: 1.09s\n",
      "5:\tlearn: 2667.0087657\ttotal: 258ms\tremaining: 1.03s\n",
      "6:\tlearn: 2520.8656299\ttotal: 300ms\tremaining: 986ms\n",
      "7:\tlearn: 2402.3666185\ttotal: 360ms\tremaining: 991ms\n",
      "8:\tlearn: 2302.3047383\ttotal: 402ms\tremaining: 938ms\n",
      "9:\tlearn: 2216.8422311\ttotal: 443ms\tremaining: 887ms\n",
      "10:\tlearn: 2150.3276528\ttotal: 486ms\tremaining: 839ms\n",
      "11:\tlearn: 2090.6639344\ttotal: 531ms\tremaining: 797ms\n",
      "12:\tlearn: 2040.5969647\ttotal: 572ms\tremaining: 749ms\n",
      "13:\tlearn: 1996.1080275\ttotal: 614ms\tremaining: 701ms\n",
      "14:\tlearn: 1964.4934101\ttotal: 655ms\tremaining: 655ms\n",
      "15:\tlearn: 1936.0017094\ttotal: 698ms\tremaining: 610ms\n",
      "16:\tlearn: 1910.5902743\ttotal: 742ms\tremaining: 568ms\n",
      "17:\tlearn: 1890.4389787\ttotal: 785ms\tremaining: 524ms\n",
      "18:\tlearn: 1875.1933183\ttotal: 827ms\tremaining: 479ms\n",
      "19:\tlearn: 1858.7826028\ttotal: 869ms\tremaining: 434ms\n",
      "20:\tlearn: 1839.9637745\ttotal: 915ms\tremaining: 392ms\n",
      "21:\tlearn: 1826.9145845\ttotal: 956ms\tremaining: 348ms\n",
      "22:\tlearn: 1814.5584112\ttotal: 997ms\tremaining: 303ms\n",
      "23:\tlearn: 1802.0622685\ttotal: 1.04s\tremaining: 260ms\n",
      "24:\tlearn: 1792.7691766\ttotal: 1.08s\tremaining: 216ms\n",
      "25:\tlearn: 1783.4215666\ttotal: 1.12s\tremaining: 173ms\n",
      "26:\tlearn: 1775.4565365\ttotal: 1.17s\tremaining: 130ms\n",
      "27:\tlearn: 1768.2353944\ttotal: 1.21s\tremaining: 86.3ms\n",
      "28:\tlearn: 1761.9445286\ttotal: 1.25s\tremaining: 43.1ms\n",
      "29:\tlearn: 1755.5777348\ttotal: 1.29s\tremaining: 0us\n",
      "0:\tlearn: 4093.0982675\ttotal: 532ms\tremaining: 15.4s\n",
      "1:\tlearn: 3658.6329128\ttotal: 1.06s\tremaining: 14.9s\n",
      "2:\tlearn: 3296.8651388\ttotal: 1.59s\tremaining: 14.3s\n",
      "3:\tlearn: 3000.4703450\ttotal: 2.12s\tremaining: 13.8s\n",
      "4:\tlearn: 2758.3744387\ttotal: 2.65s\tremaining: 13.2s\n",
      "5:\tlearn: 2558.0703787\ttotal: 3.19s\tremaining: 12.7s\n",
      "6:\tlearn: 2387.6593825\ttotal: 3.73s\tremaining: 12.3s\n",
      "7:\tlearn: 2250.5739803\ttotal: 4.3s\tremaining: 11.8s\n",
      "8:\tlearn: 2146.5688283\ttotal: 4.91s\tremaining: 11.5s\n",
      "9:\tlearn: 2054.3905075\ttotal: 5.52s\tremaining: 11s\n",
      "10:\tlearn: 1983.9820550\ttotal: 6.12s\tremaining: 10.6s\n",
      "11:\tlearn: 1920.8883066\ttotal: 6.79s\tremaining: 10.2s\n",
      "12:\tlearn: 1870.4571544\ttotal: 7.4s\tremaining: 9.68s\n",
      "13:\tlearn: 1828.2418776\ttotal: 8.03s\tremaining: 9.17s\n",
      "14:\tlearn: 1792.6120810\ttotal: 8.64s\tremaining: 8.64s\n",
      "15:\tlearn: 1762.2053923\ttotal: 9.22s\tremaining: 8.07s\n",
      "16:\tlearn: 1740.0185260\ttotal: 9.81s\tremaining: 7.5s\n",
      "17:\tlearn: 1719.8750016\ttotal: 10.4s\tremaining: 6.94s\n",
      "18:\tlearn: 1702.9639166\ttotal: 11s\tremaining: 6.38s\n",
      "19:\tlearn: 1688.6285611\ttotal: 11.6s\tremaining: 5.82s\n",
      "20:\tlearn: 1676.1829169\ttotal: 12.2s\tremaining: 5.24s\n",
      "21:\tlearn: 1663.8356547\ttotal: 12.8s\tremaining: 4.67s\n",
      "22:\tlearn: 1650.9140803\ttotal: 13.5s\tremaining: 4.09s\n",
      "23:\tlearn: 1641.8080892\ttotal: 14.1s\tremaining: 3.52s\n",
      "24:\tlearn: 1631.5760846\ttotal: 14.7s\tremaining: 2.94s\n",
      "25:\tlearn: 1622.3286607\ttotal: 15.3s\tremaining: 2.35s\n",
      "26:\tlearn: 1615.4687209\ttotal: 15.9s\tremaining: 1.76s\n",
      "27:\tlearn: 1607.8139954\ttotal: 16.5s\tremaining: 1.18s\n",
      "28:\tlearn: 1602.3265698\ttotal: 17.1s\tremaining: 591ms\n",
      "29:\tlearn: 1596.1207759\ttotal: 17.7s\tremaining: 0us\n",
      "0:\tlearn: 4082.5742517\ttotal: 602ms\tremaining: 17.5s\n",
      "1:\tlearn: 3654.8046062\ttotal: 1.19s\tremaining: 16.6s\n",
      "2:\tlearn: 3290.7312463\ttotal: 1.8s\tremaining: 16.2s\n",
      "3:\tlearn: 2999.0600162\ttotal: 2.4s\tremaining: 15.6s\n",
      "4:\tlearn: 2754.5669655\ttotal: 3s\tremaining: 15s\n",
      "5:\tlearn: 2554.3774542\ttotal: 3.59s\tremaining: 14.3s\n",
      "6:\tlearn: 2391.9928766\ttotal: 4.18s\tremaining: 13.7s\n",
      "7:\tlearn: 2252.8840078\ttotal: 4.77s\tremaining: 13.1s\n",
      "8:\tlearn: 2149.7012856\ttotal: 5.37s\tremaining: 12.5s\n",
      "9:\tlearn: 2061.3631394\ttotal: 5.97s\tremaining: 11.9s\n",
      "10:\tlearn: 1981.9141400\ttotal: 6.55s\tremaining: 11.3s\n",
      "11:\tlearn: 1923.3958943\ttotal: 7.15s\tremaining: 10.7s\n",
      "12:\tlearn: 1873.1778114\ttotal: 7.75s\tremaining: 10.1s\n",
      "13:\tlearn: 1830.8730147\ttotal: 8.44s\tremaining: 9.64s\n",
      "14:\tlearn: 1800.0434722\ttotal: 9.07s\tremaining: 9.07s\n",
      "15:\tlearn: 1768.1948969\ttotal: 9.66s\tremaining: 8.45s\n",
      "16:\tlearn: 1747.9378218\ttotal: 10.3s\tremaining: 7.85s\n",
      "17:\tlearn: 1724.4494898\ttotal: 10.9s\tremaining: 7.24s\n",
      "18:\tlearn: 1707.2447130\ttotal: 11.5s\tremaining: 6.64s\n",
      "19:\tlearn: 1693.6901491\ttotal: 12.1s\tremaining: 6.04s\n",
      "20:\tlearn: 1679.9875850\ttotal: 12.7s\tremaining: 5.43s\n",
      "21:\tlearn: 1668.6956361\ttotal: 13.3s\tremaining: 4.83s\n",
      "22:\tlearn: 1655.2290712\ttotal: 13.9s\tremaining: 4.22s\n",
      "23:\tlearn: 1645.2139155\ttotal: 14.5s\tremaining: 3.61s\n",
      "24:\tlearn: 1636.3132424\ttotal: 15.1s\tremaining: 3.01s\n",
      "25:\tlearn: 1629.3012117\ttotal: 15.7s\tremaining: 2.41s\n",
      "26:\tlearn: 1617.7460544\ttotal: 16.3s\tremaining: 1.81s\n",
      "27:\tlearn: 1610.2414069\ttotal: 16.9s\tremaining: 1.21s\n",
      "28:\tlearn: 1603.8990440\ttotal: 17.5s\tremaining: 605ms\n",
      "29:\tlearn: 1597.8055282\ttotal: 18.2s\tremaining: 0us\n",
      "0:\tlearn: 4085.5741024\ttotal: 595ms\tremaining: 17.3s\n",
      "1:\tlearn: 3654.9760174\ttotal: 1.18s\tremaining: 16.6s\n",
      "2:\tlearn: 3294.0357529\ttotal: 1.77s\tremaining: 15.9s\n",
      "3:\tlearn: 2995.7751038\ttotal: 2.35s\tremaining: 15.3s\n",
      "4:\tlearn: 2754.0278276\ttotal: 2.93s\tremaining: 14.7s\n",
      "5:\tlearn: 2558.7964946\ttotal: 3.52s\tremaining: 14.1s\n",
      "6:\tlearn: 2386.7747773\ttotal: 4.09s\tremaining: 13.5s\n",
      "7:\tlearn: 2253.9179400\ttotal: 4.74s\tremaining: 13s\n",
      "8:\tlearn: 2149.0055997\ttotal: 5.35s\tremaining: 12.5s\n",
      "9:\tlearn: 2055.2118978\ttotal: 5.99s\tremaining: 12s\n",
      "10:\tlearn: 1982.5572475\ttotal: 6.62s\tremaining: 11.4s\n",
      "11:\tlearn: 1924.9962001\ttotal: 7.21s\tremaining: 10.8s\n",
      "12:\tlearn: 1875.2790599\ttotal: 7.81s\tremaining: 10.2s\n",
      "13:\tlearn: 1833.5930483\ttotal: 8.38s\tremaining: 9.58s\n",
      "14:\tlearn: 1799.6476082\ttotal: 8.98s\tremaining: 8.98s\n",
      "15:\tlearn: 1768.3706633\ttotal: 9.6s\tremaining: 8.4s\n",
      "16:\tlearn: 1743.5985628\ttotal: 10.2s\tremaining: 7.8s\n",
      "17:\tlearn: 1724.7479796\ttotal: 10.8s\tremaining: 7.21s\n",
      "18:\tlearn: 1704.3860814\ttotal: 11.4s\tremaining: 6.61s\n",
      "19:\tlearn: 1687.1603545\ttotal: 12s\tremaining: 6s\n",
      "20:\tlearn: 1676.1638048\ttotal: 12.6s\tremaining: 5.39s\n",
      "21:\tlearn: 1663.0194600\ttotal: 13.2s\tremaining: 4.79s\n",
      "22:\tlearn: 1652.0119328\ttotal: 13.8s\tremaining: 4.19s\n",
      "23:\tlearn: 1643.1451415\ttotal: 14.3s\tremaining: 3.58s\n",
      "24:\tlearn: 1632.7354553\ttotal: 14.9s\tremaining: 2.99s\n",
      "25:\tlearn: 1625.3289783\ttotal: 15.5s\tremaining: 2.39s\n",
      "26:\tlearn: 1617.1159056\ttotal: 16.1s\tremaining: 1.79s\n",
      "27:\tlearn: 1610.5019000\ttotal: 16.7s\tremaining: 1.2s\n",
      "28:\tlearn: 1605.2250267\ttotal: 17.3s\tremaining: 597ms\n",
      "29:\tlearn: 1599.3026920\ttotal: 17.9s\tremaining: 0us\n",
      "0:\tlearn: 4084.5761745\ttotal: 596ms\tremaining: 17.3s\n",
      "1:\tlearn: 3657.1972394\ttotal: 1.22s\tremaining: 17.1s\n",
      "2:\tlearn: 3297.8609934\ttotal: 1.83s\tremaining: 16.5s\n",
      "3:\tlearn: 2995.5614918\ttotal: 2.42s\tremaining: 15.7s\n",
      "4:\tlearn: 2758.2830280\ttotal: 3.04s\tremaining: 15.2s\n",
      "5:\tlearn: 2562.6367480\ttotal: 3.64s\tremaining: 14.6s\n",
      "6:\tlearn: 2398.3903019\ttotal: 4.25s\tremaining: 14s\n",
      "7:\tlearn: 2260.2997096\ttotal: 4.84s\tremaining: 13.3s\n",
      "8:\tlearn: 2146.8877472\ttotal: 5.42s\tremaining: 12.6s\n",
      "9:\tlearn: 2057.9144892\ttotal: 6.01s\tremaining: 12s\n",
      "10:\tlearn: 1984.9730032\ttotal: 6.63s\tremaining: 11.5s\n",
      "11:\tlearn: 1922.8810620\ttotal: 7.26s\tremaining: 10.9s\n",
      "12:\tlearn: 1878.4772300\ttotal: 7.9s\tremaining: 10.3s\n",
      "13:\tlearn: 1834.3993749\ttotal: 8.51s\tremaining: 9.72s\n",
      "14:\tlearn: 1800.5525091\ttotal: 9.13s\tremaining: 9.13s\n",
      "15:\tlearn: 1766.1505457\ttotal: 9.71s\tremaining: 8.5s\n",
      "16:\tlearn: 1744.6234946\ttotal: 10.3s\tremaining: 7.89s\n",
      "17:\tlearn: 1725.5180457\ttotal: 11s\tremaining: 7.33s\n",
      "18:\tlearn: 1709.6867843\ttotal: 11.6s\tremaining: 6.71s\n",
      "19:\tlearn: 1693.5448132\ttotal: 12.2s\tremaining: 6.09s\n",
      "20:\tlearn: 1678.5452949\ttotal: 12.8s\tremaining: 5.48s\n",
      "21:\tlearn: 1668.5752912\ttotal: 13.4s\tremaining: 4.87s\n",
      "22:\tlearn: 1656.7563245\ttotal: 14s\tremaining: 4.26s\n",
      "23:\tlearn: 1649.1392279\ttotal: 14.6s\tremaining: 3.65s\n",
      "24:\tlearn: 1637.8155230\ttotal: 15.2s\tremaining: 3.04s\n",
      "25:\tlearn: 1628.2989159\ttotal: 15.8s\tremaining: 2.43s\n",
      "26:\tlearn: 1618.1248434\ttotal: 16.4s\tremaining: 1.82s\n",
      "27:\tlearn: 1611.3910570\ttotal: 17s\tremaining: 1.21s\n",
      "28:\tlearn: 1606.6846170\ttotal: 17.5s\tremaining: 605ms\n",
      "29:\tlearn: 1599.0769173\ttotal: 18.1s\tremaining: 0us\n",
      "0:\tlearn: 4081.8212190\ttotal: 588ms\tremaining: 17s\n",
      "1:\tlearn: 3649.4526048\ttotal: 1.17s\tremaining: 16.4s\n",
      "2:\tlearn: 3292.8618168\ttotal: 1.77s\tremaining: 16s\n",
      "3:\tlearn: 2996.5671856\ttotal: 2.38s\tremaining: 15.5s\n",
      "4:\tlearn: 2755.8386707\ttotal: 2.97s\tremaining: 14.9s\n",
      "5:\tlearn: 2557.6393964\ttotal: 3.55s\tremaining: 14.2s\n",
      "6:\tlearn: 2392.6405860\ttotal: 4.13s\tremaining: 13.6s\n",
      "7:\tlearn: 2253.6701385\ttotal: 4.72s\tremaining: 13s\n",
      "8:\tlearn: 2143.9096572\ttotal: 5.3s\tremaining: 12.4s\n",
      "9:\tlearn: 2055.4914956\ttotal: 5.91s\tremaining: 11.8s\n",
      "10:\tlearn: 1984.3453835\ttotal: 6.49s\tremaining: 11.2s\n",
      "11:\tlearn: 1922.3347843\ttotal: 7.07s\tremaining: 10.6s\n",
      "12:\tlearn: 1874.7783948\ttotal: 7.65s\tremaining: 10s\n",
      "13:\tlearn: 1831.8798961\ttotal: 8.2s\tremaining: 9.37s\n",
      "14:\tlearn: 1798.9979947\ttotal: 8.75s\tremaining: 8.75s\n",
      "15:\tlearn: 1768.6321938\ttotal: 9.3s\tremaining: 8.14s\n",
      "16:\tlearn: 1746.9909165\ttotal: 9.86s\tremaining: 7.54s\n",
      "17:\tlearn: 1726.8825005\ttotal: 10.4s\tremaining: 6.94s\n",
      "18:\tlearn: 1703.3024435\ttotal: 11s\tremaining: 6.35s\n",
      "19:\tlearn: 1688.7302813\ttotal: 11.5s\tremaining: 5.76s\n",
      "20:\tlearn: 1675.2515813\ttotal: 12.1s\tremaining: 5.19s\n",
      "21:\tlearn: 1661.9499482\ttotal: 12.7s\tremaining: 4.61s\n",
      "22:\tlearn: 1651.8317218\ttotal: 13.2s\tremaining: 4.03s\n",
      "23:\tlearn: 1644.5930179\ttotal: 13.8s\tremaining: 3.44s\n",
      "24:\tlearn: 1632.7669021\ttotal: 14.3s\tremaining: 2.87s\n",
      "25:\tlearn: 1625.2181866\ttotal: 14.9s\tremaining: 2.29s\n",
      "26:\tlearn: 1615.7410616\ttotal: 15.4s\tremaining: 1.72s\n",
      "27:\tlearn: 1609.1148129\ttotal: 16s\tremaining: 1.14s\n",
      "28:\tlearn: 1604.0766998\ttotal: 16.5s\tremaining: 570ms\n",
      "29:\tlearn: 1598.7786472\ttotal: 17.1s\tremaining: 0us\n"
     ]
    },
    {
     "name": "stderr",
     "output_type": "stream",
     "text": [
      "/opt/conda/lib/python3.9/site-packages/sklearn/model_selection/_validation.py:610: FitFailedWarning: Estimator fit failed. The score on this train-test partition for these parameters will be set to nan. Details: \n",
      "Traceback (most recent call last):\n",
      "  File \"/opt/conda/lib/python3.9/site-packages/sklearn/model_selection/_validation.py\", line 593, in _fit_and_score\n",
      "    estimator.fit(X_train, y_train, **fit_params)\n",
      "  File \"/opt/conda/lib/python3.9/site-packages/catboost/core.py\", line 5299, in fit\n",
      "    return self._fit(X, y, cat_features, None, None, None, sample_weight, None, None, None, None, baseline,\n",
      "  File \"/opt/conda/lib/python3.9/site-packages/catboost/core.py\", line 2021, in _fit\n",
      "    train_params = self._prepare_train_params(\n",
      "  File \"/opt/conda/lib/python3.9/site-packages/catboost/core.py\", line 1953, in _prepare_train_params\n",
      "    _check_train_params(params)\n",
      "  File \"_catboost.pyx\", line 5839, in _catboost._check_train_params\n",
      "  File \"_catboost.pyx\", line 5858, in _catboost._check_train_params\n",
      "_catboost.CatBoostError: catboost/private/libs/options/oblivious_tree_options.cpp:122: Maximum tree depth is 16\n",
      "\n",
      "  warnings.warn(\"Estimator fit failed. The score on this train-test\"\n",
      "/opt/conda/lib/python3.9/site-packages/sklearn/model_selection/_validation.py:610: FitFailedWarning: Estimator fit failed. The score on this train-test partition for these parameters will be set to nan. Details: \n",
      "Traceback (most recent call last):\n",
      "  File \"/opt/conda/lib/python3.9/site-packages/sklearn/model_selection/_validation.py\", line 593, in _fit_and_score\n",
      "    estimator.fit(X_train, y_train, **fit_params)\n",
      "  File \"/opt/conda/lib/python3.9/site-packages/catboost/core.py\", line 5299, in fit\n",
      "    return self._fit(X, y, cat_features, None, None, None, sample_weight, None, None, None, None, baseline,\n",
      "  File \"/opt/conda/lib/python3.9/site-packages/catboost/core.py\", line 2021, in _fit\n",
      "    train_params = self._prepare_train_params(\n",
      "  File \"/opt/conda/lib/python3.9/site-packages/catboost/core.py\", line 1953, in _prepare_train_params\n",
      "    _check_train_params(params)\n",
      "  File \"_catboost.pyx\", line 5839, in _catboost._check_train_params\n",
      "  File \"_catboost.pyx\", line 5858, in _catboost._check_train_params\n",
      "_catboost.CatBoostError: catboost/private/libs/options/oblivious_tree_options.cpp:122: Maximum tree depth is 16\n",
      "\n",
      "  warnings.warn(\"Estimator fit failed. The score on this train-test\"\n",
      "/opt/conda/lib/python3.9/site-packages/sklearn/model_selection/_validation.py:610: FitFailedWarning: Estimator fit failed. The score on this train-test partition for these parameters will be set to nan. Details: \n",
      "Traceback (most recent call last):\n",
      "  File \"/opt/conda/lib/python3.9/site-packages/sklearn/model_selection/_validation.py\", line 593, in _fit_and_score\n",
      "    estimator.fit(X_train, y_train, **fit_params)\n",
      "  File \"/opt/conda/lib/python3.9/site-packages/catboost/core.py\", line 5299, in fit\n",
      "    return self._fit(X, y, cat_features, None, None, None, sample_weight, None, None, None, None, baseline,\n",
      "  File \"/opt/conda/lib/python3.9/site-packages/catboost/core.py\", line 2021, in _fit\n",
      "    train_params = self._prepare_train_params(\n",
      "  File \"/opt/conda/lib/python3.9/site-packages/catboost/core.py\", line 1953, in _prepare_train_params\n",
      "    _check_train_params(params)\n",
      "  File \"_catboost.pyx\", line 5839, in _catboost._check_train_params\n",
      "  File \"_catboost.pyx\", line 5858, in _catboost._check_train_params\n",
      "_catboost.CatBoostError: catboost/private/libs/options/oblivious_tree_options.cpp:122: Maximum tree depth is 16\n",
      "\n",
      "  warnings.warn(\"Estimator fit failed. The score on this train-test\"\n",
      "/opt/conda/lib/python3.9/site-packages/sklearn/model_selection/_validation.py:610: FitFailedWarning: Estimator fit failed. The score on this train-test partition for these parameters will be set to nan. Details: \n",
      "Traceback (most recent call last):\n",
      "  File \"/opt/conda/lib/python3.9/site-packages/sklearn/model_selection/_validation.py\", line 593, in _fit_and_score\n",
      "    estimator.fit(X_train, y_train, **fit_params)\n",
      "  File \"/opt/conda/lib/python3.9/site-packages/catboost/core.py\", line 5299, in fit\n",
      "    return self._fit(X, y, cat_features, None, None, None, sample_weight, None, None, None, None, baseline,\n",
      "  File \"/opt/conda/lib/python3.9/site-packages/catboost/core.py\", line 2021, in _fit\n",
      "    train_params = self._prepare_train_params(\n",
      "  File \"/opt/conda/lib/python3.9/site-packages/catboost/core.py\", line 1953, in _prepare_train_params\n",
      "    _check_train_params(params)\n",
      "  File \"_catboost.pyx\", line 5839, in _catboost._check_train_params\n",
      "  File \"_catboost.pyx\", line 5858, in _catboost._check_train_params\n",
      "_catboost.CatBoostError: catboost/private/libs/options/oblivious_tree_options.cpp:122: Maximum tree depth is 16\n",
      "\n",
      "  warnings.warn(\"Estimator fit failed. The score on this train-test\"\n",
      "/opt/conda/lib/python3.9/site-packages/sklearn/model_selection/_validation.py:610: FitFailedWarning: Estimator fit failed. The score on this train-test partition for these parameters will be set to nan. Details: \n",
      "Traceback (most recent call last):\n",
      "  File \"/opt/conda/lib/python3.9/site-packages/sklearn/model_selection/_validation.py\", line 593, in _fit_and_score\n",
      "    estimator.fit(X_train, y_train, **fit_params)\n",
      "  File \"/opt/conda/lib/python3.9/site-packages/catboost/core.py\", line 5299, in fit\n",
      "    return self._fit(X, y, cat_features, None, None, None, sample_weight, None, None, None, None, baseline,\n",
      "  File \"/opt/conda/lib/python3.9/site-packages/catboost/core.py\", line 2021, in _fit\n",
      "    train_params = self._prepare_train_params(\n",
      "  File \"/opt/conda/lib/python3.9/site-packages/catboost/core.py\", line 1953, in _prepare_train_params\n",
      "    _check_train_params(params)\n",
      "  File \"_catboost.pyx\", line 5839, in _catboost._check_train_params\n",
      "  File \"_catboost.pyx\", line 5858, in _catboost._check_train_params\n",
      "_catboost.CatBoostError: catboost/private/libs/options/oblivious_tree_options.cpp:122: Maximum tree depth is 16\n",
      "\n",
      "  warnings.warn(\"Estimator fit failed. The score on this train-test\"\n",
      "/opt/conda/lib/python3.9/site-packages/sklearn/model_selection/_validation.py:610: FitFailedWarning: Estimator fit failed. The score on this train-test partition for these parameters will be set to nan. Details: \n",
      "Traceback (most recent call last):\n",
      "  File \"/opt/conda/lib/python3.9/site-packages/sklearn/model_selection/_validation.py\", line 593, in _fit_and_score\n",
      "    estimator.fit(X_train, y_train, **fit_params)\n",
      "  File \"/opt/conda/lib/python3.9/site-packages/catboost/core.py\", line 5299, in fit\n",
      "    return self._fit(X, y, cat_features, None, None, None, sample_weight, None, None, None, None, baseline,\n",
      "  File \"/opt/conda/lib/python3.9/site-packages/catboost/core.py\", line 2021, in _fit\n",
      "    train_params = self._prepare_train_params(\n",
      "  File \"/opt/conda/lib/python3.9/site-packages/catboost/core.py\", line 1953, in _prepare_train_params\n",
      "    _check_train_params(params)\n",
      "  File \"_catboost.pyx\", line 5839, in _catboost._check_train_params\n",
      "  File \"_catboost.pyx\", line 5858, in _catboost._check_train_params\n",
      "_catboost.CatBoostError: catboost/private/libs/options/oblivious_tree_options.cpp:122: Maximum tree depth is 16\n",
      "\n",
      "  warnings.warn(\"Estimator fit failed. The score on this train-test\"\n",
      "/opt/conda/lib/python3.9/site-packages/sklearn/model_selection/_validation.py:610: FitFailedWarning: Estimator fit failed. The score on this train-test partition for these parameters will be set to nan. Details: \n",
      "Traceback (most recent call last):\n",
      "  File \"/opt/conda/lib/python3.9/site-packages/sklearn/model_selection/_validation.py\", line 593, in _fit_and_score\n",
      "    estimator.fit(X_train, y_train, **fit_params)\n",
      "  File \"/opt/conda/lib/python3.9/site-packages/catboost/core.py\", line 5299, in fit\n",
      "    return self._fit(X, y, cat_features, None, None, None, sample_weight, None, None, None, None, baseline,\n",
      "  File \"/opt/conda/lib/python3.9/site-packages/catboost/core.py\", line 2021, in _fit\n",
      "    train_params = self._prepare_train_params(\n",
      "  File \"/opt/conda/lib/python3.9/site-packages/catboost/core.py\", line 1953, in _prepare_train_params\n",
      "    _check_train_params(params)\n",
      "  File \"_catboost.pyx\", line 5839, in _catboost._check_train_params\n",
      "  File \"_catboost.pyx\", line 5858, in _catboost._check_train_params\n",
      "_catboost.CatBoostError: catboost/private/libs/options/oblivious_tree_options.cpp:122: Maximum tree depth is 16\n",
      "\n",
      "  warnings.warn(\"Estimator fit failed. The score on this train-test\"\n",
      "/opt/conda/lib/python3.9/site-packages/sklearn/model_selection/_validation.py:610: FitFailedWarning: Estimator fit failed. The score on this train-test partition for these parameters will be set to nan. Details: \n",
      "Traceback (most recent call last):\n",
      "  File \"/opt/conda/lib/python3.9/site-packages/sklearn/model_selection/_validation.py\", line 593, in _fit_and_score\n",
      "    estimator.fit(X_train, y_train, **fit_params)\n",
      "  File \"/opt/conda/lib/python3.9/site-packages/catboost/core.py\", line 5299, in fit\n",
      "    return self._fit(X, y, cat_features, None, None, None, sample_weight, None, None, None, None, baseline,\n",
      "  File \"/opt/conda/lib/python3.9/site-packages/catboost/core.py\", line 2021, in _fit\n",
      "    train_params = self._prepare_train_params(\n",
      "  File \"/opt/conda/lib/python3.9/site-packages/catboost/core.py\", line 1953, in _prepare_train_params\n",
      "    _check_train_params(params)\n",
      "  File \"_catboost.pyx\", line 5839, in _catboost._check_train_params\n",
      "  File \"_catboost.pyx\", line 5858, in _catboost._check_train_params\n",
      "_catboost.CatBoostError: catboost/private/libs/options/oblivious_tree_options.cpp:122: Maximum tree depth is 16\n",
      "\n",
      "  warnings.warn(\"Estimator fit failed. The score on this train-test\"\n",
      "/opt/conda/lib/python3.9/site-packages/sklearn/model_selection/_validation.py:610: FitFailedWarning: Estimator fit failed. The score on this train-test partition for these parameters will be set to nan. Details: \n",
      "Traceback (most recent call last):\n",
      "  File \"/opt/conda/lib/python3.9/site-packages/sklearn/model_selection/_validation.py\", line 593, in _fit_and_score\n",
      "    estimator.fit(X_train, y_train, **fit_params)\n",
      "  File \"/opt/conda/lib/python3.9/site-packages/catboost/core.py\", line 5299, in fit\n",
      "    return self._fit(X, y, cat_features, None, None, None, sample_weight, None, None, None, None, baseline,\n",
      "  File \"/opt/conda/lib/python3.9/site-packages/catboost/core.py\", line 2021, in _fit\n",
      "    train_params = self._prepare_train_params(\n",
      "  File \"/opt/conda/lib/python3.9/site-packages/catboost/core.py\", line 1953, in _prepare_train_params\n",
      "    _check_train_params(params)\n",
      "  File \"_catboost.pyx\", line 5839, in _catboost._check_train_params\n",
      "  File \"_catboost.pyx\", line 5858, in _catboost._check_train_params\n",
      "_catboost.CatBoostError: catboost/private/libs/options/oblivious_tree_options.cpp:122: Maximum tree depth is 16\n",
      "\n",
      "  warnings.warn(\"Estimator fit failed. The score on this train-test\"\n",
      "/opt/conda/lib/python3.9/site-packages/sklearn/model_selection/_validation.py:610: FitFailedWarning: Estimator fit failed. The score on this train-test partition for these parameters will be set to nan. Details: \n",
      "Traceback (most recent call last):\n",
      "  File \"/opt/conda/lib/python3.9/site-packages/sklearn/model_selection/_validation.py\", line 593, in _fit_and_score\n",
      "    estimator.fit(X_train, y_train, **fit_params)\n",
      "  File \"/opt/conda/lib/python3.9/site-packages/catboost/core.py\", line 5299, in fit\n",
      "    return self._fit(X, y, cat_features, None, None, None, sample_weight, None, None, None, None, baseline,\n",
      "  File \"/opt/conda/lib/python3.9/site-packages/catboost/core.py\", line 2021, in _fit\n",
      "    train_params = self._prepare_train_params(\n",
      "  File \"/opt/conda/lib/python3.9/site-packages/catboost/core.py\", line 1953, in _prepare_train_params\n",
      "    _check_train_params(params)\n",
      "  File \"_catboost.pyx\", line 5839, in _catboost._check_train_params\n",
      "  File \"_catboost.pyx\", line 5858, in _catboost._check_train_params\n",
      "_catboost.CatBoostError: catboost/private/libs/options/oblivious_tree_options.cpp:122: Maximum tree depth is 16\n",
      "\n",
      "  warnings.warn(\"Estimator fit failed. The score on this train-test\"\n",
      "/opt/conda/lib/python3.9/site-packages/sklearn/model_selection/_search.py:918: UserWarning: One or more of the test scores are non-finite: [-14830756.85322784 -14048021.09364127 -13789321.35685017\n",
      "                nan                nan  -4521267.7115193\n",
      "  -3520576.76773952  -3059171.57140467                nan\n",
      "                nan  -3954807.61552325  -3157912.12620771\n",
      "  -2803497.14979894                nan                nan]\n",
      "  warnings.warn(\n"
     ]
    },
    {
     "name": "stdout",
     "output_type": "stream",
     "text": [
      "0:\tlearn: 4075.5048813\ttotal: 574ms\tremaining: 16.7s\n",
      "1:\tlearn: 3642.1784255\ttotal: 1.15s\tremaining: 16.1s\n",
      "2:\tlearn: 3291.5122866\ttotal: 1.73s\tremaining: 15.6s\n",
      "3:\tlearn: 2996.9832963\ttotal: 2.33s\tremaining: 15.1s\n",
      "4:\tlearn: 2754.3871228\ttotal: 2.9s\tremaining: 14.5s\n",
      "5:\tlearn: 2547.1962103\ttotal: 3.53s\tremaining: 14.1s\n",
      "6:\tlearn: 2383.9379360\ttotal: 4.1s\tremaining: 13.5s\n",
      "7:\tlearn: 2252.0414998\ttotal: 4.69s\tremaining: 12.9s\n",
      "8:\tlearn: 2142.2758920\ttotal: 5.28s\tremaining: 12.3s\n",
      "9:\tlearn: 2053.7200015\ttotal: 5.86s\tremaining: 11.7s\n",
      "10:\tlearn: 1980.5417937\ttotal: 6.43s\tremaining: 11.1s\n",
      "11:\tlearn: 1921.9216554\ttotal: 7.01s\tremaining: 10.5s\n",
      "12:\tlearn: 1872.9216541\ttotal: 7.58s\tremaining: 9.92s\n",
      "13:\tlearn: 1835.6995170\ttotal: 8.16s\tremaining: 9.33s\n",
      "14:\tlearn: 1802.9474714\ttotal: 8.75s\tremaining: 8.75s\n",
      "15:\tlearn: 1775.5230753\ttotal: 9.32s\tremaining: 8.15s\n",
      "16:\tlearn: 1747.0197939\ttotal: 9.89s\tremaining: 7.56s\n",
      "17:\tlearn: 1728.7184517\ttotal: 10.5s\tremaining: 6.98s\n",
      "18:\tlearn: 1709.8580443\ttotal: 11.1s\tremaining: 6.42s\n",
      "19:\tlearn: 1694.1927307\ttotal: 11.8s\tremaining: 5.91s\n",
      "20:\tlearn: 1684.3372245\ttotal: 12.4s\tremaining: 5.33s\n",
      "21:\tlearn: 1668.8808315\ttotal: 13s\tremaining: 4.74s\n",
      "22:\tlearn: 1656.8020938\ttotal: 13.7s\tremaining: 4.16s\n",
      "23:\tlearn: 1647.7824689\ttotal: 14.2s\tremaining: 3.56s\n",
      "24:\tlearn: 1640.6471633\ttotal: 14.8s\tremaining: 2.96s\n",
      "25:\tlearn: 1632.5602386\ttotal: 15.4s\tremaining: 2.37s\n",
      "26:\tlearn: 1622.7846217\ttotal: 16s\tremaining: 1.77s\n",
      "27:\tlearn: 1616.3730754\ttotal: 16.5s\tremaining: 1.18s\n",
      "28:\tlearn: 1608.0610569\ttotal: 17.1s\tremaining: 590ms\n",
      "29:\tlearn: 1604.0345095\ttotal: 17.7s\tremaining: 0us\n",
      "Время предсказания модели   CatBoost (секунды): 0.06\n",
      "Лучшее значение параметров для  CatBoost: {'learning_rate': 0.15, 'max_depth': 15}\n",
      "RMSE модели CatBoost: 1674.3647003562112\n"
     ]
    }
   ],
   "source": [
    "model_cat= CatBoostRegressor(loss_function='RMSE', iterations=30, random_state=12345)\n",
    "parameters = {'max_depth':[5, 10, 15, 20,25],\n",
    "            # 'learning_rate':[0.01, 0.1, 0.15]}\n",
    "\n",
    "\n",
    "grid_cat= GridSearchCV(model_cat,param_grid=parameters,\n",
    "                     scoring='neg_mean_squared_error',\n",
    "                    cv=5) \n",
    "# Обучаю модель\n",
    "model_cat_final = grid_cat.fit(features_train, target_train)\n",
    "\n",
    "# Делаю предсказания\n",
    "start = time.time()\n",
    "model_cat_final.predict(features_train)\n",
    "end = time.time()\n",
    "predict_time_cat = round(end-start,2)\n",
    "print('Время предсказания модели   CatBoost (секунды):', predict_time_cat)\n",
    "\n",
    "# Считаю RMSE \n",
    "cat_rmse = ((model_cat_final.best_score_)*(-1))**0.5\n",
    "print('Лучшее значение параметров для  CatBoost:', model_cat_final.best_params_)\n",
    "print('RMSE модели CatBoost:', cat_rmse)\n"
   ]
  },
  {
   "cell_type": "code",
   "execution_count": 32,
   "metadata": {},
   "outputs": [
    {
     "name": "stdout",
     "output_type": "stream",
     "text": [
      "0:\tlearn: 4075.5048813\ttotal: 616ms\tremaining: 17.9s\n",
      "1:\tlearn: 3642.1784255\ttotal: 1.19s\tremaining: 16.7s\n",
      "2:\tlearn: 3291.5122866\ttotal: 1.76s\tremaining: 15.9s\n",
      "3:\tlearn: 2996.9832963\ttotal: 2.33s\tremaining: 15.2s\n",
      "4:\tlearn: 2754.3871228\ttotal: 2.92s\tremaining: 14.6s\n",
      "5:\tlearn: 2547.1962103\ttotal: 3.52s\tremaining: 14.1s\n",
      "6:\tlearn: 2383.9379360\ttotal: 4.18s\tremaining: 13.8s\n",
      "7:\tlearn: 2252.0414998\ttotal: 4.79s\tremaining: 13.2s\n",
      "8:\tlearn: 2142.2758920\ttotal: 5.4s\tremaining: 12.6s\n",
      "9:\tlearn: 2053.7200015\ttotal: 6s\tremaining: 12s\n",
      "10:\tlearn: 1980.5417937\ttotal: 6.58s\tremaining: 11.4s\n",
      "11:\tlearn: 1921.9216554\ttotal: 7.15s\tremaining: 10.7s\n",
      "12:\tlearn: 1872.9216541\ttotal: 7.73s\tremaining: 10.1s\n",
      "13:\tlearn: 1835.6995170\ttotal: 8.31s\tremaining: 9.5s\n",
      "14:\tlearn: 1802.9474714\ttotal: 8.91s\tremaining: 8.91s\n",
      "15:\tlearn: 1775.5230753\ttotal: 9.48s\tremaining: 8.3s\n",
      "16:\tlearn: 1747.0197939\ttotal: 10.1s\tremaining: 7.68s\n",
      "17:\tlearn: 1728.7184517\ttotal: 10.6s\tremaining: 7.08s\n",
      "18:\tlearn: 1709.8580443\ttotal: 11.2s\tremaining: 6.49s\n",
      "19:\tlearn: 1694.1927307\ttotal: 11.8s\tremaining: 5.89s\n",
      "20:\tlearn: 1684.3372245\ttotal: 12.4s\tremaining: 5.3s\n",
      "21:\tlearn: 1668.8808315\ttotal: 12.9s\tremaining: 4.7s\n",
      "22:\tlearn: 1656.8020938\ttotal: 13.5s\tremaining: 4.12s\n",
      "23:\tlearn: 1647.7824689\ttotal: 14.1s\tremaining: 3.54s\n",
      "24:\tlearn: 1640.6471633\ttotal: 14.7s\tremaining: 2.95s\n",
      "25:\tlearn: 1632.5602386\ttotal: 15.3s\tremaining: 2.36s\n",
      "26:\tlearn: 1622.7846217\ttotal: 15.9s\tremaining: 1.77s\n",
      "27:\tlearn: 1616.3730754\ttotal: 16.5s\tremaining: 1.18s\n",
      "28:\tlearn: 1608.0610569\ttotal: 17.1s\tremaining: 589ms\n",
      "29:\tlearn: 1604.0345095\ttotal: 17.6s\tremaining: 0us\n",
      "Время обучения модели CatBoost с лучшими гиперпараметрами (секунды): 18.47168\n"
     ]
    }
   ],
   "source": [
    "# Отдельно замеряю, сколько будет обучаться модель на лучших параметрах\n",
    "start = time.time()\n",
    "model_cat_final = CatBoostRegressor(loss_function='RMSE', iterations=30, random_state=12345,\\\n",
    "                                    learning_rate=0.15, max_depth=15)\n",
    "model_cat_final.fit(features_train, target_train)\n",
    "end = time.time()\n",
    "learn_time_cat = round(end-start, 5)\n",
    "print('Время обучения модели CatBoost с лучшими гиперпараметрами (секунды):', learn_time_cat)"
   ]
  },
  {
   "cell_type": "markdown",
   "metadata": {},
   "source": [
    "Выводы: обучены четыре модели, наилучшее значение точности показала модель Случайный лес"
   ]
  },
  {
   "cell_type": "markdown",
   "metadata": {},
   "source": [
    "## Анализ моделей"
   ]
  },
  {
   "cell_type": "markdown",
   "metadata": {},
   "source": [
    "### Сравнение моделей"
   ]
  },
  {
   "cell_type": "code",
   "execution_count": 33,
   "metadata": {},
   "outputs": [
    {
     "data": {
      "text/html": [
       "<div>\n",
       "<style scoped>\n",
       "    .dataframe tbody tr th:only-of-type {\n",
       "        vertical-align: middle;\n",
       "    }\n",
       "\n",
       "    .dataframe tbody tr th {\n",
       "        vertical-align: top;\n",
       "    }\n",
       "\n",
       "    .dataframe thead th {\n",
       "        text-align: right;\n",
       "    }\n",
       "</style>\n",
       "<table border=\"1\" class=\"dataframe\">\n",
       "  <thead>\n",
       "    <tr style=\"text-align: right;\">\n",
       "      <th></th>\n",
       "      <th>RMSE</th>\n",
       "      <th>Время обучения</th>\n",
       "      <th>Время предсказания</th>\n",
       "    </tr>\n",
       "  </thead>\n",
       "  <tbody>\n",
       "    <tr>\n",
       "      <th>Дерево решений</th>\n",
       "      <td>2019.128382</td>\n",
       "      <td>0.36360</td>\n",
       "      <td>0.02</td>\n",
       "    </tr>\n",
       "    <tr>\n",
       "      <th>Случайный лес</th>\n",
       "      <td>1588.087083</td>\n",
       "      <td>19.61682</td>\n",
       "      <td>3.09</td>\n",
       "    </tr>\n",
       "    <tr>\n",
       "      <th>LightGBM</th>\n",
       "      <td>1669.542065</td>\n",
       "      <td>4.07230</td>\n",
       "      <td>1.62</td>\n",
       "    </tr>\n",
       "    <tr>\n",
       "      <th>CatBoost</th>\n",
       "      <td>1674.364700</td>\n",
       "      <td>18.47168</td>\n",
       "      <td>0.06</td>\n",
       "    </tr>\n",
       "  </tbody>\n",
       "</table>\n",
       "</div>"
      ],
      "text/plain": [
       "                       RMSE  Время обучения  Время предсказания\n",
       "Дерево решений  2019.128382         0.36360                0.02\n",
       "Случайный лес   1588.087083        19.61682                3.09\n",
       "LightGBM        1669.542065         4.07230                1.62\n",
       "CatBoost        1674.364700        18.47168                0.06"
      ]
     },
     "execution_count": 33,
     "metadata": {},
     "output_type": "execute_result"
    }
   ],
   "source": [
    "# Собираю показатели моделей и время их обучения и предсказаний\n",
    "final_df = pd.DataFrame({'RMSE':[dt_rmse, rf_rmse, lgbm_rmse, cat_rmse],\\\n",
    "                         'Время обучения':[learn_time_dt, learn_time_rf, learn_time_lgbm, learn_time_cat],\\\n",
    "                         'Время предсказания':[predict_time_dt, predict_time_rf,\\\n",
    "                                               predict_time_lgbm, predict_time_cat]},\\\n",
    "                         index=['Дерево решений','Случайный лес','LightGBM', 'CatBoost'])\n",
    "final_df"
   ]
  },
  {
   "cell_type": "markdown",
   "metadata": {},
   "source": [
    "В результате обучения четырех моделей:\n",
    "- наивысшую скорость работы показала модель Дерево решений, однако низкая точность не позволет назвать ее оптимальной;\n",
    "- точность модели LightGBM выше, однако и скорость обучения у нее максимальная;\n",
    "- наилучшие показатели у модели Случайный лес и CatBoost, при этом модель Случайный лес достигает бОльшей точности.\n",
    "\n",
    "По итогам сравнения предлагаю остановится на модели Случайный лес, как на самой точной."
   ]
  },
  {
   "cell_type": "markdown",
   "metadata": {},
   "source": [
    "### Проверка лушей модели на тестовой выборке"
   ]
  },
  {
   "cell_type": "markdown",
   "metadata": {},
   "source": [
    "Проверяю выбранную модель на тестовой выборке"
   ]
  },
  {
   "cell_type": "code",
   "execution_count": 34,
   "metadata": {},
   "outputs": [
    {
     "name": "stdout",
     "output_type": "stream",
     "text": [
      "RMSE модели Случайный лес: 1557.9754957658472\n"
     ]
    }
   ],
   "source": [
    "model_rf = RandomForestRegressor(random_state=12345, max_depth=50, n_estimators=40)\n",
    "model_rf.fit(features_train, target_train)\n",
    "predictions_test = model_rf.predict(features_test)\n",
    "\n",
    "rf_rmse = mean_squared_error(target_test, predictions_test) ** .5\n",
    "print('RMSE модели Случайный лес:', rf_rmse)"
   ]
  },
  {
   "cell_type": "markdown",
   "metadata": {},
   "source": [
    "Качество предсказаний на тестовой выборке не ниже, чем на тренировочной"
   ]
  },
  {
   "cell_type": "markdown",
   "metadata": {},
   "source": [
    "Выводы:\n",
    "- В ходе исследования заполнены пропуски в данных. Там, где это возможно, пропуски заполнены самым распространенным значением, в других случаях пропуски заполнены значением \"неизвестно\" (во избежание потери большого числа данных);\n",
    "- в данные добавлен столбец с числом дней в продаже;\n",
    "- в данных присутствовали аномальные значения цены, года выпуска и мощности, а также аномальные значения длительности размещения объвления. Аномалии удалены;\n",
    "- удалены столбцы с личными даннными, не влияющими на целевую переменную (почтовый индекс, дата создания, дата загрузки, дата последней активности, месяц регистрации автомобиля);\n",
    "- в результате датафрейм сократился на 15%;\n",
    "- выделены целевой и обучающие признаки;\n",
    "- данные разделены на обучающую и тестовую выборки;\n",
    "- категориальные признаки закодированы с помощью OneHotEncoder();\n",
    "- количественные признаки отмасштабированы;\n",
    "- построены модели Дерево решений, случаынй лес, LightGBM и Catboost.\n",
    "- по результатам в качестве отптимальной отобрана модель Случайный лес;\n",
    "- выбранная модель проверена на тестовой выборке.\n"
   ]
  },
  {
   "cell_type": "code",
   "execution_count": null,
   "metadata": {},
   "outputs": [],
   "source": []
  }
 ],
 "metadata": {
  "ExecuteTimeLog": [
   {
    "duration": 388,
    "start_time": "2023-02-17T12:57:04.974Z"
   },
   {
    "duration": 2883,
    "start_time": "2023-02-17T12:57:05.530Z"
   },
   {
    "duration": 140,
    "start_time": "2023-02-17T13:03:38.420Z"
   },
   {
    "duration": 135,
    "start_time": "2023-02-17T13:03:54.511Z"
   },
   {
    "duration": 25,
    "start_time": "2023-02-17T13:09:07.400Z"
   },
   {
    "duration": 86,
    "start_time": "2023-02-17T13:09:16.887Z"
   },
   {
    "duration": 75,
    "start_time": "2023-02-17T13:09:50.831Z"
   },
   {
    "duration": 65,
    "start_time": "2023-02-17T13:12:51.867Z"
   },
   {
    "duration": 20,
    "start_time": "2023-02-17T13:13:39.087Z"
   },
   {
    "duration": 15,
    "start_time": "2023-02-17T13:14:11.513Z"
   },
   {
    "duration": 24,
    "start_time": "2023-02-17T13:14:23.594Z"
   },
   {
    "duration": 7,
    "start_time": "2023-02-17T13:14:44.759Z"
   },
   {
    "duration": 30,
    "start_time": "2023-02-17T13:15:00.157Z"
   },
   {
    "duration": 57,
    "start_time": "2023-02-17T13:16:00.999Z"
   },
   {
    "duration": 31,
    "start_time": "2023-02-17T13:16:10.831Z"
   },
   {
    "duration": 31,
    "start_time": "2023-02-17T13:17:13.191Z"
   },
   {
    "duration": 735,
    "start_time": "2023-02-17T13:19:23.003Z"
   },
   {
    "duration": 30,
    "start_time": "2023-02-17T13:19:31.531Z"
   },
   {
    "duration": 23,
    "start_time": "2023-02-17T13:20:55.683Z"
   },
   {
    "duration": 80,
    "start_time": "2023-02-17T13:21:04.960Z"
   },
   {
    "duration": 766,
    "start_time": "2023-02-17T13:33:05.436Z"
   },
   {
    "duration": 12,
    "start_time": "2023-02-17T13:33:21.937Z"
   },
   {
    "duration": 804,
    "start_time": "2023-02-17T13:33:44.634Z"
   },
   {
    "duration": 131,
    "start_time": "2023-02-17T13:33:45.440Z"
   },
   {
    "duration": 31,
    "start_time": "2023-02-17T13:33:48.181Z"
   },
   {
    "duration": 93,
    "start_time": "2023-02-17T13:33:51.089Z"
   },
   {
    "duration": 93,
    "start_time": "2023-02-17T13:33:52.077Z"
   },
   {
    "duration": 39,
    "start_time": "2023-02-17T13:33:54.478Z"
   },
   {
    "duration": 33,
    "start_time": "2023-02-17T13:33:55.058Z"
   },
   {
    "duration": 33,
    "start_time": "2023-02-17T13:33:55.355Z"
   },
   {
    "duration": 30,
    "start_time": "2023-02-17T13:33:56.162Z"
   },
   {
    "duration": 25,
    "start_time": "2023-02-17T13:33:57.851Z"
   },
   {
    "duration": 35,
    "start_time": "2023-02-17T13:33:58.505Z"
   },
   {
    "duration": 35,
    "start_time": "2023-02-17T13:34:38.939Z"
   },
   {
    "duration": 33,
    "start_time": "2023-02-17T13:34:47.338Z"
   },
   {
    "duration": 26,
    "start_time": "2023-02-17T13:35:39.449Z"
   },
   {
    "duration": 12,
    "start_time": "2023-02-17T13:36:52.459Z"
   },
   {
    "duration": 776,
    "start_time": "2023-02-17T13:36:58.538Z"
   },
   {
    "duration": 122,
    "start_time": "2023-02-17T13:36:59.315Z"
   },
   {
    "duration": 33,
    "start_time": "2023-02-17T13:36:59.439Z"
   },
   {
    "duration": 85,
    "start_time": "2023-02-17T13:37:01.727Z"
   },
   {
    "duration": 76,
    "start_time": "2023-02-17T13:37:01.982Z"
   },
   {
    "duration": 31,
    "start_time": "2023-02-17T13:37:02.887Z"
   },
   {
    "duration": 33,
    "start_time": "2023-02-17T13:37:03.215Z"
   },
   {
    "duration": 35,
    "start_time": "2023-02-17T13:37:03.591Z"
   },
   {
    "duration": 29,
    "start_time": "2023-02-17T13:37:04.096Z"
   },
   {
    "duration": 17,
    "start_time": "2023-02-17T13:59:42.536Z"
   },
   {
    "duration": 8,
    "start_time": "2023-02-17T14:01:57.918Z"
   },
   {
    "duration": 178,
    "start_time": "2023-02-17T14:02:21.881Z"
   },
   {
    "duration": 2,
    "start_time": "2023-02-17T14:02:58.869Z"
   },
   {
    "duration": 737,
    "start_time": "2023-02-17T14:02:59.271Z"
   },
   {
    "duration": 129,
    "start_time": "2023-02-17T14:03:00.009Z"
   },
   {
    "duration": 381,
    "start_time": "2023-02-17T14:03:03.781Z"
   },
   {
    "duration": 408,
    "start_time": "2023-02-17T14:05:47.610Z"
   },
   {
    "duration": 401,
    "start_time": "2023-02-17T14:06:28.472Z"
   },
   {
    "duration": 2,
    "start_time": "2023-02-17T14:06:33.577Z"
   },
   {
    "duration": 785,
    "start_time": "2023-02-17T14:06:34.001Z"
   },
   {
    "duration": 119,
    "start_time": "2023-02-17T14:06:36.888Z"
   },
   {
    "duration": 387,
    "start_time": "2023-02-17T14:06:38.200Z"
   },
   {
    "duration": 435,
    "start_time": "2023-02-17T14:06:40.410Z"
   },
   {
    "duration": 419,
    "start_time": "2023-02-17T14:06:44.170Z"
   },
   {
    "duration": 467,
    "start_time": "2023-02-17T14:07:11.779Z"
   },
   {
    "duration": 418,
    "start_time": "2023-02-17T14:07:12.679Z"
   },
   {
    "duration": 409,
    "start_time": "2023-02-20T12:08:57.208Z"
   },
   {
    "duration": 986,
    "start_time": "2023-02-20T12:08:57.729Z"
   },
   {
    "duration": 120,
    "start_time": "2023-02-20T12:09:02.167Z"
   },
   {
    "duration": 1206,
    "start_time": "2023-02-20T12:09:04.102Z"
   },
   {
    "duration": 407,
    "start_time": "2023-02-20T12:09:36.491Z"
   },
   {
    "duration": 441,
    "start_time": "2023-02-20T12:09:37.784Z"
   },
   {
    "duration": 399,
    "start_time": "2023-02-20T12:09:38.964Z"
   },
   {
    "duration": 412,
    "start_time": "2023-02-20T12:11:21.242Z"
   },
   {
    "duration": 373,
    "start_time": "2023-02-20T12:11:24.170Z"
   },
   {
    "duration": 29,
    "start_time": "2023-02-20T12:11:25.625Z"
   },
   {
    "duration": 77,
    "start_time": "2023-02-20T12:11:30.924Z"
   },
   {
    "duration": 40,
    "start_time": "2023-02-20T12:15:10.624Z"
   },
   {
    "duration": 31,
    "start_time": "2023-02-20T12:22:45.119Z"
   },
   {
    "duration": 31,
    "start_time": "2023-02-20T12:22:46.390Z"
   },
   {
    "duration": 29,
    "start_time": "2023-02-20T12:22:47.135Z"
   },
   {
    "duration": 32,
    "start_time": "2023-02-20T12:22:49.961Z"
   },
   {
    "duration": 51,
    "start_time": "2023-02-20T12:22:50.477Z"
   },
   {
    "duration": 104,
    "start_time": "2023-02-20T12:23:06.294Z"
   },
   {
    "duration": 168,
    "start_time": "2023-02-20T12:23:24.499Z"
   },
   {
    "duration": 151,
    "start_time": "2023-02-20T12:23:43.068Z"
   },
   {
    "duration": 68,
    "start_time": "2023-02-20T12:23:50.420Z"
   },
   {
    "duration": 46,
    "start_time": "2023-02-20T12:32:51.771Z"
   },
   {
    "duration": 112,
    "start_time": "2023-02-20T12:32:53.713Z"
   },
   {
    "duration": 45,
    "start_time": "2023-02-20T12:41:48.718Z"
   },
   {
    "duration": 111,
    "start_time": "2023-02-20T12:41:49.250Z"
   },
   {
    "duration": 95,
    "start_time": "2023-02-20T12:43:20.918Z"
   },
   {
    "duration": 2,
    "start_time": "2023-02-20T12:43:29.203Z"
   },
   {
    "duration": 720,
    "start_time": "2023-02-20T12:43:29.725Z"
   },
   {
    "duration": 115,
    "start_time": "2023-02-20T12:43:31.286Z"
   },
   {
    "duration": 342,
    "start_time": "2023-02-20T12:43:33.796Z"
   },
   {
    "duration": 401,
    "start_time": "2023-02-20T12:43:35.081Z"
   },
   {
    "duration": 376,
    "start_time": "2023-02-20T12:43:35.484Z"
   },
   {
    "duration": 25,
    "start_time": "2023-02-20T12:43:35.862Z"
   },
   {
    "duration": 75,
    "start_time": "2023-02-20T12:43:38.604Z"
   },
   {
    "duration": 31,
    "start_time": "2023-02-20T12:43:44.485Z"
   },
   {
    "duration": 32,
    "start_time": "2023-02-20T12:43:45.301Z"
   },
   {
    "duration": 29,
    "start_time": "2023-02-20T12:43:50.570Z"
   },
   {
    "duration": 33,
    "start_time": "2023-02-20T12:43:59.251Z"
   },
   {
    "duration": 59,
    "start_time": "2023-02-20T12:44:06.044Z"
   },
   {
    "duration": 144,
    "start_time": "2023-02-20T12:44:06.702Z"
   },
   {
    "duration": 58,
    "start_time": "2023-02-20T12:46:22.154Z"
   },
   {
    "duration": 9,
    "start_time": "2023-02-20T12:47:23.640Z"
   },
   {
    "duration": 8,
    "start_time": "2023-02-20T12:47:39.103Z"
   },
   {
    "duration": 6,
    "start_time": "2023-02-20T12:50:35.636Z"
   },
   {
    "duration": 248,
    "start_time": "2023-02-20T12:51:49.272Z"
   },
   {
    "duration": 16,
    "start_time": "2023-02-20T12:52:05.356Z"
   },
   {
    "duration": 12,
    "start_time": "2023-02-20T12:53:33.974Z"
   },
   {
    "duration": 14,
    "start_time": "2023-02-20T12:54:23.575Z"
   },
   {
    "duration": 18,
    "start_time": "2023-02-20T12:55:41.873Z"
   },
   {
    "duration": 19,
    "start_time": "2023-02-20T12:55:53.100Z"
   },
   {
    "duration": 1291,
    "start_time": "2023-02-20T12:59:55.058Z"
   },
   {
    "duration": 1312,
    "start_time": "2023-02-20T13:00:31.100Z"
   },
   {
    "duration": 2081,
    "start_time": "2023-02-20T13:05:01.373Z"
   },
   {
    "duration": 12,
    "start_time": "2023-02-20T13:05:16.722Z"
   },
   {
    "duration": 331,
    "start_time": "2023-02-20T13:07:40.492Z"
   },
   {
    "duration": 381,
    "start_time": "2023-02-20T13:08:56.752Z"
   },
   {
    "duration": 324,
    "start_time": "2023-02-20T13:09:02.401Z"
   },
   {
    "duration": 309,
    "start_time": "2023-02-20T13:10:01.115Z"
   },
   {
    "duration": 355,
    "start_time": "2023-02-20T13:10:45.001Z"
   },
   {
    "duration": 74,
    "start_time": "2023-02-20T13:16:12.017Z"
   },
   {
    "duration": 21,
    "start_time": "2023-02-20T13:16:54.673Z"
   },
   {
    "duration": 18,
    "start_time": "2023-02-20T13:17:13.576Z"
   },
   {
    "duration": 20,
    "start_time": "2023-02-20T13:17:51.106Z"
   },
   {
    "duration": 18,
    "start_time": "2023-02-20T13:18:19.253Z"
   },
   {
    "duration": 19,
    "start_time": "2023-02-20T13:18:39.016Z"
   },
   {
    "duration": 19,
    "start_time": "2023-02-20T13:19:06.225Z"
   },
   {
    "duration": 13,
    "start_time": "2023-02-20T13:21:18.819Z"
   },
   {
    "duration": 12,
    "start_time": "2023-02-20T13:21:27.975Z"
   },
   {
    "duration": 67,
    "start_time": "2023-02-20T13:22:49.219Z"
   },
   {
    "duration": 16,
    "start_time": "2023-02-20T13:23:00.721Z"
   },
   {
    "duration": 18,
    "start_time": "2023-02-20T13:43:37.224Z"
   },
   {
    "duration": 315,
    "start_time": "2023-02-20T13:43:40.012Z"
   },
   {
    "duration": 44,
    "start_time": "2023-02-20T13:43:56.169Z"
   },
   {
    "duration": 16,
    "start_time": "2023-02-20T13:45:55.177Z"
   },
   {
    "duration": 16,
    "start_time": "2023-02-20T13:46:17.821Z"
   },
   {
    "duration": 16,
    "start_time": "2023-02-20T13:46:33.829Z"
   },
   {
    "duration": 16,
    "start_time": "2023-02-20T13:46:40.926Z"
   },
   {
    "duration": 33,
    "start_time": "2023-02-20T13:46:54.976Z"
   },
   {
    "duration": 66,
    "start_time": "2023-02-20T13:52:12.744Z"
   },
   {
    "duration": 25,
    "start_time": "2023-02-20T13:53:29.172Z"
   },
   {
    "duration": 113,
    "start_time": "2023-02-20T14:01:30.296Z"
   },
   {
    "duration": 1133,
    "start_time": "2023-02-20T14:08:37.884Z"
   },
   {
    "duration": 1124,
    "start_time": "2023-02-20T14:09:00.526Z"
   },
   {
    "duration": 8,
    "start_time": "2023-02-20T14:10:21.975Z"
   },
   {
    "duration": 109,
    "start_time": "2023-02-20T14:10:39.819Z"
   },
   {
    "duration": 108,
    "start_time": "2023-02-20T14:10:57.628Z"
   },
   {
    "duration": 113,
    "start_time": "2023-02-20T14:11:08.037Z"
   },
   {
    "duration": 90,
    "start_time": "2023-02-20T14:11:35.777Z"
   },
   {
    "duration": 91,
    "start_time": "2023-02-20T14:11:50.382Z"
   },
   {
    "duration": 266,
    "start_time": "2023-02-20T14:16:41.579Z"
   },
   {
    "duration": 98,
    "start_time": "2023-02-20T14:18:17.059Z"
   },
   {
    "duration": 120,
    "start_time": "2023-02-20T14:20:02.276Z"
   },
   {
    "duration": 57,
    "start_time": "2023-02-20T14:20:55.747Z"
   },
   {
    "duration": 2,
    "start_time": "2023-02-20T14:21:36.432Z"
   },
   {
    "duration": 772,
    "start_time": "2023-02-20T14:21:36.729Z"
   },
   {
    "duration": 116,
    "start_time": "2023-02-20T14:21:37.503Z"
   },
   {
    "duration": 112,
    "start_time": "2023-02-20T14:21:37.621Z"
   },
   {
    "duration": 364,
    "start_time": "2023-02-20T14:21:37.735Z"
   },
   {
    "duration": 775,
    "start_time": "2023-02-20T14:21:38.101Z"
   },
   {
    "duration": 34,
    "start_time": "2023-02-20T14:21:38.877Z"
   },
   {
    "duration": 74,
    "start_time": "2023-02-20T14:21:38.913Z"
   },
   {
    "duration": 126,
    "start_time": "2023-02-20T14:21:38.989Z"
   },
   {
    "duration": 175,
    "start_time": "2023-02-20T14:21:39.116Z"
   },
   {
    "duration": 68,
    "start_time": "2023-02-20T14:21:39.293Z"
   },
   {
    "duration": 5,
    "start_time": "2023-02-20T14:21:39.362Z"
   },
   {
    "duration": 359,
    "start_time": "2023-02-20T14:21:39.369Z"
   },
   {
    "duration": 16,
    "start_time": "2023-02-20T14:21:39.730Z"
   },
   {
    "duration": 33,
    "start_time": "2023-02-20T14:21:39.747Z"
   },
   {
    "duration": 383,
    "start_time": "2023-02-20T14:21:39.846Z"
   },
   {
    "duration": 15,
    "start_time": "2023-02-20T14:21:40.232Z"
   },
   {
    "duration": 351,
    "start_time": "2023-02-20T14:21:40.249Z"
   },
   {
    "duration": 81,
    "start_time": "2023-02-20T14:23:13.884Z"
   },
   {
    "duration": 60,
    "start_time": "2023-02-20T14:23:20.611Z"
   },
   {
    "duration": 774,
    "start_time": "2023-02-20T14:25:23.079Z"
   },
   {
    "duration": 72,
    "start_time": "2023-02-20T14:25:55.683Z"
   },
   {
    "duration": 809,
    "start_time": "2023-02-20T14:26:00.585Z"
   },
   {
    "duration": 813,
    "start_time": "2023-02-20T14:27:29.580Z"
   },
   {
    "duration": 828,
    "start_time": "2023-02-20T14:27:38.820Z"
   },
   {
    "duration": 841,
    "start_time": "2023-02-20T14:28:16.413Z"
   },
   {
    "duration": 851,
    "start_time": "2023-02-20T14:28:44.637Z"
   },
   {
    "duration": 868,
    "start_time": "2023-02-20T14:29:02.707Z"
   },
   {
    "duration": 18,
    "start_time": "2023-02-20T14:42:41.187Z"
   },
   {
    "duration": 18,
    "start_time": "2023-02-20T14:43:20.067Z"
   },
   {
    "duration": 17,
    "start_time": "2023-02-20T14:44:05.867Z"
   },
   {
    "duration": 837,
    "start_time": "2023-02-20T14:51:20.457Z"
   },
   {
    "duration": 808,
    "start_time": "2023-02-20T14:51:27.738Z"
   },
   {
    "duration": 376,
    "start_time": "2023-02-21T07:02:26.333Z"
   },
   {
    "duration": 1295,
    "start_time": "2023-02-21T07:02:27.243Z"
   },
   {
    "duration": 123,
    "start_time": "2023-02-21T07:02:28.540Z"
   },
   {
    "duration": 153,
    "start_time": "2023-02-21T07:02:29.600Z"
   },
   {
    "duration": 543,
    "start_time": "2023-02-21T07:02:30.066Z"
   },
   {
    "duration": 976,
    "start_time": "2023-02-21T07:02:31.969Z"
   },
   {
    "duration": 44,
    "start_time": "2023-02-21T07:02:33.681Z"
   },
   {
    "duration": 87,
    "start_time": "2023-02-21T07:02:34.784Z"
   },
   {
    "duration": 165,
    "start_time": "2023-02-21T07:02:35.511Z"
   },
   {
    "duration": 183,
    "start_time": "2023-02-21T07:02:40.762Z"
   },
   {
    "duration": 79,
    "start_time": "2023-02-21T07:03:44.969Z"
   },
   {
    "duration": 69,
    "start_time": "2023-02-21T07:04:10.593Z"
   },
   {
    "duration": 72,
    "start_time": "2023-02-21T07:04:55.436Z"
   },
   {
    "duration": 757,
    "start_time": "2023-02-21T07:06:45.004Z"
   },
   {
    "duration": 381,
    "start_time": "2023-02-21T07:06:51.974Z"
   },
   {
    "duration": 321,
    "start_time": "2023-02-21T07:07:17.677Z"
   },
   {
    "duration": 40,
    "start_time": "2023-02-21T07:07:22.825Z"
   },
   {
    "duration": 42,
    "start_time": "2023-02-21T07:07:43.108Z"
   },
   {
    "duration": 34,
    "start_time": "2023-02-21T07:07:48.136Z"
   },
   {
    "duration": 400,
    "start_time": "2023-02-21T07:09:22.703Z"
   },
   {
    "duration": 374,
    "start_time": "2023-02-21T07:09:40.388Z"
   },
   {
    "duration": 509,
    "start_time": "2023-02-21T07:10:10.260Z"
   },
   {
    "duration": 350,
    "start_time": "2023-02-21T07:10:47.890Z"
   },
   {
    "duration": 655,
    "start_time": "2023-02-21T07:10:53.158Z"
   },
   {
    "duration": 753,
    "start_time": "2023-02-21T07:10:59.692Z"
   },
   {
    "duration": 10,
    "start_time": "2023-02-21T07:17:11.241Z"
   },
   {
    "duration": 31,
    "start_time": "2023-02-21T07:17:28.838Z"
   },
   {
    "duration": 19,
    "start_time": "2023-02-21T07:17:39.421Z"
   },
   {
    "duration": 20,
    "start_time": "2023-02-21T07:17:54.353Z"
   },
   {
    "duration": 11,
    "start_time": "2023-02-21T07:18:05.063Z"
   },
   {
    "duration": 17,
    "start_time": "2023-02-21T07:18:10.305Z"
   },
   {
    "duration": 23,
    "start_time": "2023-02-21T07:18:41.819Z"
   },
   {
    "duration": 75,
    "start_time": "2023-02-21T07:20:46.137Z"
   },
   {
    "duration": 34,
    "start_time": "2023-02-21T07:58:00.159Z"
   },
   {
    "duration": 55,
    "start_time": "2023-02-21T07:58:11.911Z"
   },
   {
    "duration": 16,
    "start_time": "2023-02-21T07:58:33.719Z"
   },
   {
    "duration": 12,
    "start_time": "2023-02-21T07:58:59.110Z"
   },
   {
    "duration": 66,
    "start_time": "2023-02-21T07:59:00.959Z"
   },
   {
    "duration": 33,
    "start_time": "2023-02-21T07:59:44.075Z"
   },
   {
    "duration": 33,
    "start_time": "2023-02-21T07:59:48.019Z"
   },
   {
    "duration": 63,
    "start_time": "2023-02-21T07:59:48.470Z"
   },
   {
    "duration": 24,
    "start_time": "2023-02-21T07:59:56.033Z"
   },
   {
    "duration": 67,
    "start_time": "2023-02-21T07:59:56.835Z"
   },
   {
    "duration": 35,
    "start_time": "2023-02-21T08:03:49.666Z"
   },
   {
    "duration": 55,
    "start_time": "2023-02-21T08:03:50.325Z"
   },
   {
    "duration": 77,
    "start_time": "2023-02-21T08:04:08.176Z"
   },
   {
    "duration": 19,
    "start_time": "2023-02-21T08:16:37.932Z"
   },
   {
    "duration": 796,
    "start_time": "2023-02-21T08:17:02.221Z"
   },
   {
    "duration": 873,
    "start_time": "2023-02-21T08:17:03.873Z"
   },
   {
    "duration": 149,
    "start_time": "2023-02-21T08:17:04.748Z"
   },
   {
    "duration": 147,
    "start_time": "2023-02-21T08:17:04.912Z"
   },
   {
    "duration": 480,
    "start_time": "2023-02-21T08:17:05.061Z"
   },
   {
    "duration": 919,
    "start_time": "2023-02-21T08:17:06.019Z"
   },
   {
    "duration": 26,
    "start_time": "2023-02-21T08:17:06.939Z"
   },
   {
    "duration": 93,
    "start_time": "2023-02-21T08:17:06.967Z"
   },
   {
    "duration": 123,
    "start_time": "2023-02-21T08:17:07.062Z"
   },
   {
    "duration": 185,
    "start_time": "2023-02-21T08:17:07.261Z"
   },
   {
    "duration": 63,
    "start_time": "2023-02-21T08:17:07.821Z"
   },
   {
    "duration": 686,
    "start_time": "2023-02-21T08:17:08.775Z"
   },
   {
    "duration": 375,
    "start_time": "2023-02-21T08:17:09.463Z"
   },
   {
    "duration": 22,
    "start_time": "2023-02-21T08:17:13.949Z"
   },
   {
    "duration": 51,
    "start_time": "2023-02-21T08:17:14.433Z"
   },
   {
    "duration": 101,
    "start_time": "2023-02-21T08:17:21.634Z"
   },
   {
    "duration": 45,
    "start_time": "2023-02-21T08:18:07.516Z"
   },
   {
    "duration": 88,
    "start_time": "2023-02-21T08:18:56.448Z"
   },
   {
    "duration": 95,
    "start_time": "2023-02-21T08:23:51.208Z"
   },
   {
    "duration": 13,
    "start_time": "2023-02-21T08:32:55.730Z"
   },
   {
    "duration": 17,
    "start_time": "2023-02-21T08:33:19.925Z"
   },
   {
    "duration": 867,
    "start_time": "2023-02-21T08:33:20.374Z"
   },
   {
    "duration": 146,
    "start_time": "2023-02-21T08:33:21.244Z"
   },
   {
    "duration": 142,
    "start_time": "2023-02-21T08:33:21.392Z"
   },
   {
    "duration": 466,
    "start_time": "2023-02-21T08:33:21.536Z"
   },
   {
    "duration": 1033,
    "start_time": "2023-02-21T08:33:22.873Z"
   },
   {
    "duration": 30,
    "start_time": "2023-02-21T08:33:23.913Z"
   },
   {
    "duration": 96,
    "start_time": "2023-02-21T08:33:23.945Z"
   },
   {
    "duration": 132,
    "start_time": "2023-02-21T08:33:24.336Z"
   },
   {
    "duration": 219,
    "start_time": "2023-02-21T08:33:25.024Z"
   },
   {
    "duration": 72,
    "start_time": "2023-02-21T08:33:26.244Z"
   },
   {
    "duration": 707,
    "start_time": "2023-02-21T08:33:26.955Z"
   },
   {
    "duration": 389,
    "start_time": "2023-02-21T08:33:27.664Z"
   },
   {
    "duration": 27,
    "start_time": "2023-02-21T08:33:32.816Z"
   },
   {
    "duration": 68,
    "start_time": "2023-02-21T08:33:33.169Z"
   },
   {
    "duration": 91,
    "start_time": "2023-02-21T08:33:35.762Z"
   },
   {
    "duration": 91,
    "start_time": "2023-02-21T08:33:40.773Z"
   },
   {
    "duration": 1632,
    "start_time": "2023-02-21T08:33:41.527Z"
   },
   {
    "duration": 14,
    "start_time": "2023-02-21T08:41:03.510Z"
   },
   {
    "duration": 11,
    "start_time": "2023-02-21T08:41:14.129Z"
   },
   {
    "duration": 1861,
    "start_time": "2023-02-21T08:44:31.118Z"
   },
   {
    "duration": 1638,
    "start_time": "2023-02-21T08:44:40.441Z"
   },
   {
    "duration": 1618,
    "start_time": "2023-02-21T08:45:03.318Z"
   },
   {
    "duration": 840,
    "start_time": "2023-02-21T08:45:32.196Z"
   },
   {
    "duration": 13,
    "start_time": "2023-02-21T08:51:08.575Z"
   },
   {
    "duration": 38,
    "start_time": "2023-02-21T08:51:20.582Z"
   },
   {
    "duration": 18,
    "start_time": "2023-02-21T08:52:42.525Z"
   },
   {
    "duration": 24,
    "start_time": "2023-02-21T08:53:17.901Z"
   },
   {
    "duration": 14,
    "start_time": "2023-02-21T08:55:44.098Z"
   },
   {
    "duration": 15,
    "start_time": "2023-02-21T08:57:35.291Z"
   },
   {
    "duration": 63,
    "start_time": "2023-02-21T08:58:17.573Z"
   },
   {
    "duration": 721,
    "start_time": "2023-02-21T08:58:18.033Z"
   },
   {
    "duration": 65,
    "start_time": "2023-02-21T08:59:22.794Z"
   },
   {
    "duration": 26,
    "start_time": "2023-02-21T08:59:23.332Z"
   },
   {
    "duration": 755,
    "start_time": "2023-02-21T08:59:39.591Z"
   },
   {
    "duration": 14,
    "start_time": "2023-02-21T08:59:43.209Z"
   },
   {
    "duration": 15,
    "start_time": "2023-02-21T09:05:42.901Z"
   },
   {
    "duration": 17,
    "start_time": "2023-02-21T09:06:03.897Z"
   },
   {
    "duration": 69,
    "start_time": "2023-02-21T09:11:45.836Z"
   },
   {
    "duration": 23,
    "start_time": "2023-02-21T09:11:47.542Z"
   },
   {
    "duration": 50,
    "start_time": "2023-02-21T09:11:47.921Z"
   },
   {
    "duration": 54,
    "start_time": "2023-02-21T09:11:48.315Z"
   },
   {
    "duration": 10,
    "start_time": "2023-02-21T09:16:18.304Z"
   },
   {
    "duration": 4,
    "start_time": "2023-02-21T09:16:38.065Z"
   },
   {
    "duration": 685,
    "start_time": "2023-02-21T09:16:38.484Z"
   },
   {
    "duration": 123,
    "start_time": "2023-02-21T09:16:39.171Z"
   },
   {
    "duration": 111,
    "start_time": "2023-02-21T09:16:39.298Z"
   },
   {
    "duration": 403,
    "start_time": "2023-02-21T09:16:39.411Z"
   },
   {
    "duration": 781,
    "start_time": "2023-02-21T09:16:40.028Z"
   },
   {
    "duration": 23,
    "start_time": "2023-02-21T09:16:40.811Z"
   },
   {
    "duration": 81,
    "start_time": "2023-02-21T09:16:40.835Z"
   },
   {
    "duration": 115,
    "start_time": "2023-02-21T09:16:40.918Z"
   },
   {
    "duration": 147,
    "start_time": "2023-02-21T09:16:41.217Z"
   },
   {
    "duration": 61,
    "start_time": "2023-02-21T09:16:41.817Z"
   },
   {
    "duration": 594,
    "start_time": "2023-02-21T09:16:42.004Z"
   },
   {
    "duration": 348,
    "start_time": "2023-02-21T09:16:42.600Z"
   },
   {
    "duration": 82,
    "start_time": "2023-02-21T09:16:42.950Z"
   },
   {
    "duration": 20,
    "start_time": "2023-02-21T09:16:43.115Z"
   },
   {
    "duration": 50,
    "start_time": "2023-02-21T09:16:43.417Z"
   },
   {
    "duration": 54,
    "start_time": "2023-02-21T09:16:44.106Z"
   },
   {
    "duration": 63,
    "start_time": "2023-02-21T09:16:44.707Z"
   },
   {
    "duration": 392,
    "start_time": "2023-02-21T09:16:45.056Z"
   },
   {
    "duration": 412,
    "start_time": "2023-02-21T09:17:55.608Z"
   },
   {
    "duration": 16,
    "start_time": "2023-02-21T09:18:55.085Z"
   },
   {
    "duration": 26,
    "start_time": "2023-02-21T09:19:33.297Z"
   },
   {
    "duration": 658,
    "start_time": "2023-02-21T09:21:07.994Z"
   },
   {
    "duration": 17,
    "start_time": "2023-02-21T09:36:06.360Z"
   },
   {
    "duration": 114,
    "start_time": "2023-02-21T09:45:42.067Z"
   },
   {
    "duration": 53,
    "start_time": "2023-02-21T09:45:48.600Z"
   },
   {
    "duration": 527,
    "start_time": "2023-02-21T09:45:49.635Z"
   },
   {
    "duration": 6,
    "start_time": "2023-02-21T09:45:54.485Z"
   },
   {
    "duration": 702,
    "start_time": "2023-02-21T09:45:54.816Z"
   },
   {
    "duration": 146,
    "start_time": "2023-02-21T09:45:55.520Z"
   },
   {
    "duration": 143,
    "start_time": "2023-02-21T09:45:55.668Z"
   },
   {
    "duration": 360,
    "start_time": "2023-02-21T09:45:55.813Z"
   },
   {
    "duration": 750,
    "start_time": "2023-02-21T09:45:56.458Z"
   },
   {
    "duration": 23,
    "start_time": "2023-02-21T09:45:57.210Z"
   },
   {
    "duration": 82,
    "start_time": "2023-02-21T09:45:57.235Z"
   },
   {
    "duration": 107,
    "start_time": "2023-02-21T09:45:57.318Z"
   },
   {
    "duration": 134,
    "start_time": "2023-02-21T09:45:57.500Z"
   },
   {
    "duration": 64,
    "start_time": "2023-02-21T09:45:58.267Z"
   },
   {
    "duration": 659,
    "start_time": "2023-02-21T09:45:58.705Z"
   },
   {
    "duration": 356,
    "start_time": "2023-02-21T09:45:59.593Z"
   },
   {
    "duration": 75,
    "start_time": "2023-02-21T09:46:03.745Z"
   },
   {
    "duration": 31,
    "start_time": "2023-02-21T09:46:23.370Z"
   },
   {
    "duration": 64,
    "start_time": "2023-02-21T09:46:25.627Z"
   },
   {
    "duration": 57,
    "start_time": "2023-02-21T09:46:32.603Z"
   },
   {
    "duration": 15,
    "start_time": "2023-02-21T10:03:52.044Z"
   },
   {
    "duration": 4,
    "start_time": "2023-02-21T10:04:55.220Z"
   },
   {
    "duration": 731,
    "start_time": "2023-02-21T10:04:56.048Z"
   },
   {
    "duration": 124,
    "start_time": "2023-02-21T10:04:56.781Z"
   },
   {
    "duration": 113,
    "start_time": "2023-02-21T10:04:56.955Z"
   },
   {
    "duration": 403,
    "start_time": "2023-02-21T10:04:57.361Z"
   },
   {
    "duration": 899,
    "start_time": "2023-02-21T10:04:58.576Z"
   },
   {
    "duration": 31,
    "start_time": "2023-02-21T10:04:59.477Z"
   },
   {
    "duration": 98,
    "start_time": "2023-02-21T10:04:59.513Z"
   },
   {
    "duration": 119,
    "start_time": "2023-02-21T10:04:59.671Z"
   },
   {
    "duration": 151,
    "start_time": "2023-02-21T10:05:00.307Z"
   },
   {
    "duration": 68,
    "start_time": "2023-02-21T10:05:01.605Z"
   },
   {
    "duration": 702,
    "start_time": "2023-02-21T10:05:02.308Z"
   },
   {
    "duration": 392,
    "start_time": "2023-02-21T10:05:03.012Z"
   },
   {
    "duration": 70,
    "start_time": "2023-02-21T10:05:05.320Z"
   },
   {
    "duration": 28,
    "start_time": "2023-02-21T10:05:09.764Z"
   },
   {
    "duration": 53,
    "start_time": "2023-02-21T10:05:10.324Z"
   },
   {
    "duration": 69,
    "start_time": "2023-02-21T10:05:16.070Z"
   },
   {
    "duration": 78,
    "start_time": "2023-02-21T10:05:22.905Z"
   },
   {
    "duration": 12684,
    "start_time": "2023-02-21T10:05:26.245Z"
   },
   {
    "duration": 16,
    "start_time": "2023-02-21T10:05:51.055Z"
   },
   {
    "duration": 17,
    "start_time": "2023-02-21T10:07:55.480Z"
   },
   {
    "duration": 18,
    "start_time": "2023-02-21T10:09:08.565Z"
   },
   {
    "duration": 7,
    "start_time": "2023-02-21T10:11:25.913Z"
   },
   {
    "duration": 774,
    "start_time": "2023-02-21T10:11:26.261Z"
   },
   {
    "duration": 118,
    "start_time": "2023-02-21T10:11:27.036Z"
   },
   {
    "duration": 132,
    "start_time": "2023-02-21T10:11:27.156Z"
   },
   {
    "duration": 407,
    "start_time": "2023-02-21T10:11:27.301Z"
   },
   {
    "duration": 845,
    "start_time": "2023-02-21T10:11:27.712Z"
   },
   {
    "duration": 48,
    "start_time": "2023-02-21T10:11:28.560Z"
   },
   {
    "duration": 83,
    "start_time": "2023-02-21T10:11:28.611Z"
   },
   {
    "duration": 131,
    "start_time": "2023-02-21T10:11:28.696Z"
   },
   {
    "duration": 168,
    "start_time": "2023-02-21T10:11:28.830Z"
   },
   {
    "duration": 65,
    "start_time": "2023-02-21T10:11:34.936Z"
   },
   {
    "duration": 708,
    "start_time": "2023-02-21T10:11:37.034Z"
   },
   {
    "duration": 459,
    "start_time": "2023-02-21T10:11:37.744Z"
   },
   {
    "duration": 72,
    "start_time": "2023-02-21T10:11:42.713Z"
   },
   {
    "duration": 24,
    "start_time": "2023-02-21T10:11:43.822Z"
   },
   {
    "duration": 69,
    "start_time": "2023-02-21T10:11:44.515Z"
   },
   {
    "duration": 67,
    "start_time": "2023-02-21T10:11:51.134Z"
   },
   {
    "duration": 49,
    "start_time": "2023-02-21T10:12:23.629Z"
   },
   {
    "duration": 74,
    "start_time": "2023-02-21T10:12:24.678Z"
   },
   {
    "duration": 64,
    "start_time": "2023-02-21T10:12:26.912Z"
   },
   {
    "duration": 146,
    "start_time": "2023-02-21T10:12:32.959Z"
   },
   {
    "duration": 3287,
    "start_time": "2023-02-21T10:12:36.416Z"
   },
   {
    "duration": 416,
    "start_time": "2023-02-21T10:14:00.707Z"
   },
   {
    "duration": 79,
    "start_time": "2023-02-21T10:14:06.113Z"
   },
   {
    "duration": 3334,
    "start_time": "2023-02-21T10:14:07.004Z"
   },
   {
    "duration": 126,
    "start_time": "2023-02-21T10:20:04.113Z"
   },
   {
    "duration": 64,
    "start_time": "2023-02-21T10:20:13.715Z"
   },
   {
    "duration": 669,
    "start_time": "2023-02-21T10:20:14.623Z"
   },
   {
    "duration": 436,
    "start_time": "2023-02-21T10:20:19.487Z"
   },
   {
    "duration": 35,
    "start_time": "2023-02-21T10:20:27.016Z"
   },
   {
    "duration": 87,
    "start_time": "2023-02-21T10:20:28.084Z"
   },
   {
    "duration": 45,
    "start_time": "2023-02-21T10:20:36.112Z"
   },
   {
    "duration": 4,
    "start_time": "2023-02-21T10:20:44.973Z"
   },
   {
    "duration": 823,
    "start_time": "2023-02-21T10:20:45.309Z"
   },
   {
    "duration": 127,
    "start_time": "2023-02-21T10:20:46.134Z"
   },
   {
    "duration": 113,
    "start_time": "2023-02-21T10:20:46.263Z"
   },
   {
    "duration": 385,
    "start_time": "2023-02-21T10:20:46.387Z"
   },
   {
    "duration": 872,
    "start_time": "2023-02-21T10:20:47.069Z"
   },
   {
    "duration": 31,
    "start_time": "2023-02-21T10:20:47.944Z"
   },
   {
    "duration": 104,
    "start_time": "2023-02-21T10:20:47.977Z"
   },
   {
    "duration": 128,
    "start_time": "2023-02-21T10:20:48.914Z"
   },
   {
    "duration": 179,
    "start_time": "2023-02-21T10:20:49.908Z"
   },
   {
    "duration": 82,
    "start_time": "2023-02-21T10:20:51.685Z"
   },
   {
    "duration": 973,
    "start_time": "2023-02-21T10:20:53.165Z"
   },
   {
    "duration": 493,
    "start_time": "2023-02-21T10:20:54.141Z"
   },
   {
    "duration": 74,
    "start_time": "2023-02-21T10:20:59.422Z"
   },
   {
    "duration": 35,
    "start_time": "2023-02-21T10:21:01.339Z"
   },
   {
    "duration": 73,
    "start_time": "2023-02-21T10:21:02.559Z"
   },
   {
    "duration": 41,
    "start_time": "2023-02-21T10:21:30.120Z"
   },
   {
    "duration": 91,
    "start_time": "2023-02-21T10:21:31.025Z"
   },
   {
    "duration": 79,
    "start_time": "2023-02-21T10:21:32.142Z"
   },
   {
    "duration": 171,
    "start_time": "2023-02-21T10:21:35.585Z"
   },
   {
    "duration": 3726,
    "start_time": "2023-02-21T10:21:38.218Z"
   },
   {
    "duration": 433,
    "start_time": "2023-02-21T10:33:59.874Z"
   },
   {
    "duration": 102,
    "start_time": "2023-02-21T10:36:55.533Z"
   },
   {
    "duration": 3357,
    "start_time": "2023-02-21T10:36:57.533Z"
   },
   {
    "duration": 43,
    "start_time": "2023-02-21T10:37:49.778Z"
   },
   {
    "duration": 90,
    "start_time": "2023-02-21T10:37:50.324Z"
   },
   {
    "duration": 3,
    "start_time": "2023-02-21T10:38:01.713Z"
   },
   {
    "duration": 758,
    "start_time": "2023-02-21T10:38:02.073Z"
   },
   {
    "duration": 119,
    "start_time": "2023-02-21T10:38:02.833Z"
   },
   {
    "duration": 148,
    "start_time": "2023-02-21T10:38:02.954Z"
   },
   {
    "duration": 425,
    "start_time": "2023-02-21T10:38:03.105Z"
   },
   {
    "duration": 871,
    "start_time": "2023-02-21T10:38:03.532Z"
   },
   {
    "duration": 36,
    "start_time": "2023-02-21T10:38:04.406Z"
   },
   {
    "duration": 80,
    "start_time": "2023-02-21T10:38:04.444Z"
   },
   {
    "duration": 122,
    "start_time": "2023-02-21T10:38:04.525Z"
   },
   {
    "duration": 168,
    "start_time": "2023-02-21T10:38:04.649Z"
   },
   {
    "duration": 73,
    "start_time": "2023-02-21T10:38:05.516Z"
   },
   {
    "duration": 751,
    "start_time": "2023-02-21T10:38:05.795Z"
   },
   {
    "duration": 423,
    "start_time": "2023-02-21T10:38:06.549Z"
   },
   {
    "duration": 71,
    "start_time": "2023-02-21T10:38:07.433Z"
   },
   {
    "duration": 45,
    "start_time": "2023-02-21T10:38:09.634Z"
   },
   {
    "duration": 80,
    "start_time": "2023-02-21T10:38:15.264Z"
   },
   {
    "duration": 70,
    "start_time": "2023-02-21T10:38:16.328Z"
   },
   {
    "duration": 72,
    "start_time": "2023-02-21T10:38:17.041Z"
   },
   {
    "duration": 13,
    "start_time": "2023-02-21T10:40:32.049Z"
   },
   {
    "duration": 718,
    "start_time": "2023-02-21T10:40:41.129Z"
   },
   {
    "duration": 112,
    "start_time": "2023-02-21T10:40:41.849Z"
   },
   {
    "duration": 119,
    "start_time": "2023-02-21T10:40:41.962Z"
   },
   {
    "duration": 443,
    "start_time": "2023-02-21T10:40:42.086Z"
   },
   {
    "duration": 849,
    "start_time": "2023-02-21T10:40:42.531Z"
   },
   {
    "duration": 34,
    "start_time": "2023-02-21T10:40:43.386Z"
   },
   {
    "duration": 88,
    "start_time": "2023-02-21T10:40:43.422Z"
   },
   {
    "duration": 118,
    "start_time": "2023-02-21T10:40:43.512Z"
   },
   {
    "duration": 167,
    "start_time": "2023-02-21T10:40:43.633Z"
   },
   {
    "duration": 72,
    "start_time": "2023-02-21T10:40:43.805Z"
   },
   {
    "duration": 755,
    "start_time": "2023-02-21T10:40:43.885Z"
   },
   {
    "duration": 458,
    "start_time": "2023-02-21T10:40:44.642Z"
   },
   {
    "duration": 92,
    "start_time": "2023-02-21T10:40:45.103Z"
   },
   {
    "duration": 33,
    "start_time": "2023-02-21T10:40:45.197Z"
   },
   {
    "duration": 0,
    "start_time": "2023-02-21T10:40:45.233Z"
   },
   {
    "duration": 93,
    "start_time": "2023-02-21T10:40:45.397Z"
   },
   {
    "duration": 38,
    "start_time": "2023-02-21T10:43:00.765Z"
   },
   {
    "duration": 81,
    "start_time": "2023-02-21T10:43:03.752Z"
   },
   {
    "duration": 8,
    "start_time": "2023-02-21T10:45:37.663Z"
   },
   {
    "duration": 66,
    "start_time": "2023-02-21T10:46:15.351Z"
   },
   {
    "duration": 66,
    "start_time": "2023-02-21T10:47:02.382Z"
   },
   {
    "duration": 25,
    "start_time": "2023-02-21T10:47:41.984Z"
   },
   {
    "duration": 25,
    "start_time": "2023-02-21T10:54:56.719Z"
   },
   {
    "duration": 22,
    "start_time": "2023-02-21T10:56:22.903Z"
   },
   {
    "duration": 50,
    "start_time": "2023-02-21T11:02:20.779Z"
   },
   {
    "duration": 25,
    "start_time": "2023-02-21T11:02:21.768Z"
   },
   {
    "duration": 80,
    "start_time": "2023-02-21T11:02:29.762Z"
   },
   {
    "duration": 56,
    "start_time": "2023-02-21T11:04:11.999Z"
   },
   {
    "duration": 70,
    "start_time": "2023-02-21T11:04:12.592Z"
   },
   {
    "duration": 5,
    "start_time": "2023-02-21T11:04:18.566Z"
   },
   {
    "duration": 820,
    "start_time": "2023-02-21T11:04:18.897Z"
   },
   {
    "duration": 109,
    "start_time": "2023-02-21T11:04:19.719Z"
   },
   {
    "duration": 119,
    "start_time": "2023-02-21T11:04:19.830Z"
   },
   {
    "duration": 386,
    "start_time": "2023-02-21T11:04:19.950Z"
   },
   {
    "duration": 793,
    "start_time": "2023-02-21T11:04:20.338Z"
   },
   {
    "duration": 28,
    "start_time": "2023-02-21T11:04:21.133Z"
   },
   {
    "duration": 88,
    "start_time": "2023-02-21T11:04:21.163Z"
   },
   {
    "duration": 112,
    "start_time": "2023-02-21T11:04:21.253Z"
   },
   {
    "duration": 155,
    "start_time": "2023-02-21T11:04:21.424Z"
   },
   {
    "duration": 83,
    "start_time": "2023-02-21T11:04:22.979Z"
   },
   {
    "duration": 717,
    "start_time": "2023-02-21T11:04:23.221Z"
   },
   {
    "duration": 416,
    "start_time": "2023-02-21T11:04:23.940Z"
   },
   {
    "duration": 102,
    "start_time": "2023-02-21T11:04:24.358Z"
   },
   {
    "duration": 38,
    "start_time": "2023-02-21T11:04:24.479Z"
   },
   {
    "duration": 70,
    "start_time": "2023-02-21T11:04:27.085Z"
   },
   {
    "duration": 55,
    "start_time": "2023-02-21T11:05:07.925Z"
   },
   {
    "duration": 79,
    "start_time": "2023-02-21T11:05:08.562Z"
   },
   {
    "duration": 52,
    "start_time": "2023-02-21T11:05:18.502Z"
   },
   {
    "duration": 77,
    "start_time": "2023-02-21T11:05:23.399Z"
   },
   {
    "duration": 651,
    "start_time": "2023-02-21T11:05:23.803Z"
   },
   {
    "duration": 420,
    "start_time": "2023-02-21T11:05:24.457Z"
   },
   {
    "duration": 67,
    "start_time": "2023-02-21T11:05:26.038Z"
   },
   {
    "duration": 65,
    "start_time": "2023-02-21T11:05:26.662Z"
   },
   {
    "duration": 732,
    "start_time": "2023-02-21T11:05:37.561Z"
   },
   {
    "duration": 115,
    "start_time": "2023-02-21T11:05:38.294Z"
   },
   {
    "duration": 118,
    "start_time": "2023-02-21T11:05:38.411Z"
   },
   {
    "duration": 394,
    "start_time": "2023-02-21T11:05:38.664Z"
   },
   {
    "duration": 818,
    "start_time": "2023-02-21T11:05:40.000Z"
   },
   {
    "duration": 26,
    "start_time": "2023-02-21T11:05:40.820Z"
   },
   {
    "duration": 86,
    "start_time": "2023-02-21T11:05:40.848Z"
   },
   {
    "duration": 120,
    "start_time": "2023-02-21T11:05:41.084Z"
   },
   {
    "duration": 144,
    "start_time": "2023-02-21T11:05:41.610Z"
   },
   {
    "duration": 72,
    "start_time": "2023-02-21T11:05:42.461Z"
   },
   {
    "duration": 741,
    "start_time": "2023-02-21T11:05:42.731Z"
   },
   {
    "duration": 427,
    "start_time": "2023-02-21T11:05:43.474Z"
   },
   {
    "duration": 93,
    "start_time": "2023-02-21T11:05:44.262Z"
   },
   {
    "duration": 35,
    "start_time": "2023-02-21T11:05:45.912Z"
   },
   {
    "duration": 72,
    "start_time": "2023-02-21T11:05:47.977Z"
   },
   {
    "duration": 62,
    "start_time": "2023-02-21T11:06:09.106Z"
   },
   {
    "duration": 53,
    "start_time": "2023-02-21T11:06:25.399Z"
   },
   {
    "duration": 81,
    "start_time": "2023-02-21T11:06:28.022Z"
   },
   {
    "duration": 3,
    "start_time": "2023-02-21T11:06:39.062Z"
   },
   {
    "duration": 710,
    "start_time": "2023-02-21T11:06:40.101Z"
   },
   {
    "duration": 123,
    "start_time": "2023-02-21T11:06:40.813Z"
   },
   {
    "duration": 113,
    "start_time": "2023-02-21T11:06:40.938Z"
   },
   {
    "duration": 385,
    "start_time": "2023-02-21T11:06:41.052Z"
   },
   {
    "duration": 790,
    "start_time": "2023-02-21T11:06:42.559Z"
   },
   {
    "duration": 31,
    "start_time": "2023-02-21T11:06:43.864Z"
   },
   {
    "duration": 71,
    "start_time": "2023-02-21T11:06:44.661Z"
   },
   {
    "duration": 113,
    "start_time": "2023-02-21T11:06:44.935Z"
   },
   {
    "duration": 158,
    "start_time": "2023-02-21T11:06:45.521Z"
   },
   {
    "duration": 66,
    "start_time": "2023-02-21T11:06:46.362Z"
   },
   {
    "duration": 691,
    "start_time": "2023-02-21T11:06:46.633Z"
   },
   {
    "duration": 417,
    "start_time": "2023-02-21T11:06:47.326Z"
   },
   {
    "duration": 70,
    "start_time": "2023-02-21T11:06:48.400Z"
   },
   {
    "duration": 60,
    "start_time": "2023-02-21T11:06:48.860Z"
   },
   {
    "duration": 79,
    "start_time": "2023-02-21T11:06:49.304Z"
   },
   {
    "duration": 76,
    "start_time": "2023-02-21T11:06:49.664Z"
   },
   {
    "duration": 128,
    "start_time": "2023-02-21T11:06:50.737Z"
   },
   {
    "duration": 4135,
    "start_time": "2023-02-21T11:06:52.907Z"
   },
   {
    "duration": 23,
    "start_time": "2023-02-21T11:07:49.136Z"
   },
   {
    "duration": 30,
    "start_time": "2023-02-21T11:08:28.124Z"
   },
   {
    "duration": 25,
    "start_time": "2023-02-21T11:12:58.017Z"
   },
   {
    "duration": 16,
    "start_time": "2023-02-21T11:13:59.840Z"
   },
   {
    "duration": 33,
    "start_time": "2023-02-21T11:14:00.861Z"
   },
   {
    "duration": 34,
    "start_time": "2023-02-21T11:14:06.670Z"
   },
   {
    "duration": 15,
    "start_time": "2023-02-21T11:14:15.463Z"
   },
   {
    "duration": 760,
    "start_time": "2023-02-21T11:14:20.717Z"
   },
   {
    "duration": 124,
    "start_time": "2023-02-21T11:14:21.479Z"
   },
   {
    "duration": 126,
    "start_time": "2023-02-21T11:14:21.605Z"
   },
   {
    "duration": 420,
    "start_time": "2023-02-21T11:14:21.733Z"
   },
   {
    "duration": 889,
    "start_time": "2023-02-21T11:14:22.155Z"
   },
   {
    "duration": 26,
    "start_time": "2023-02-21T11:14:23.046Z"
   },
   {
    "duration": 106,
    "start_time": "2023-02-21T11:14:23.074Z"
   },
   {
    "duration": 148,
    "start_time": "2023-02-21T11:14:23.188Z"
   },
   {
    "duration": 173,
    "start_time": "2023-02-21T11:14:23.338Z"
   },
   {
    "duration": 90,
    "start_time": "2023-02-21T11:14:23.514Z"
   },
   {
    "duration": 756,
    "start_time": "2023-02-21T11:14:23.606Z"
   },
   {
    "duration": 446,
    "start_time": "2023-02-21T11:14:24.364Z"
   },
   {
    "duration": 86,
    "start_time": "2023-02-21T11:14:25.078Z"
   },
   {
    "duration": 44,
    "start_time": "2023-02-21T11:14:25.748Z"
   },
   {
    "duration": 68,
    "start_time": "2023-02-21T11:14:28.317Z"
   },
   {
    "duration": 74,
    "start_time": "2023-02-21T11:14:31.828Z"
   },
   {
    "duration": 440,
    "start_time": "2023-02-21T11:26:10.860Z"
   },
   {
    "duration": 3,
    "start_time": "2023-02-21T11:30:49.316Z"
   },
   {
    "duration": 675,
    "start_time": "2023-02-21T11:30:50.121Z"
   },
   {
    "duration": 112,
    "start_time": "2023-02-21T11:30:50.880Z"
   },
   {
    "duration": 105,
    "start_time": "2023-02-21T11:30:51.449Z"
   },
   {
    "duration": 396,
    "start_time": "2023-02-21T11:30:51.798Z"
   },
   {
    "duration": 799,
    "start_time": "2023-02-21T11:30:52.700Z"
   },
   {
    "duration": 24,
    "start_time": "2023-02-21T11:30:53.501Z"
   },
   {
    "duration": 72,
    "start_time": "2023-02-21T11:30:53.569Z"
   },
   {
    "duration": 103,
    "start_time": "2023-02-21T11:30:53.877Z"
   },
   {
    "duration": 140,
    "start_time": "2023-02-21T11:30:54.320Z"
   },
   {
    "duration": 68,
    "start_time": "2023-02-21T11:30:54.993Z"
   },
   {
    "duration": 748,
    "start_time": "2023-02-21T11:30:55.297Z"
   },
   {
    "duration": 403,
    "start_time": "2023-02-21T11:30:56.047Z"
   },
   {
    "duration": 80,
    "start_time": "2023-02-21T11:30:56.452Z"
   },
   {
    "duration": 34,
    "start_time": "2023-02-21T11:30:56.534Z"
   },
   {
    "duration": 69,
    "start_time": "2023-02-21T11:31:01.480Z"
   },
   {
    "duration": 95,
    "start_time": "2023-02-21T11:31:05.502Z"
   },
   {
    "duration": 75,
    "start_time": "2023-02-21T11:31:09.899Z"
   },
   {
    "duration": 17,
    "start_time": "2023-02-21T11:31:15.877Z"
   },
   {
    "duration": 11,
    "start_time": "2023-02-21T11:33:06.065Z"
   },
   {
    "duration": 14,
    "start_time": "2023-02-21T11:33:10.202Z"
   },
   {
    "duration": 11,
    "start_time": "2023-02-21T11:34:38.316Z"
   },
   {
    "duration": 697,
    "start_time": "2023-02-21T11:34:48.060Z"
   },
   {
    "duration": 112,
    "start_time": "2023-02-21T11:34:48.759Z"
   },
   {
    "duration": 123,
    "start_time": "2023-02-21T11:34:48.872Z"
   },
   {
    "duration": 383,
    "start_time": "2023-02-21T11:34:48.997Z"
   },
   {
    "duration": 755,
    "start_time": "2023-02-21T11:34:49.923Z"
   },
   {
    "duration": 29,
    "start_time": "2023-02-21T11:34:50.679Z"
   },
   {
    "duration": 76,
    "start_time": "2023-02-21T11:34:50.710Z"
   },
   {
    "duration": 102,
    "start_time": "2023-02-21T11:34:50.826Z"
   },
   {
    "duration": 141,
    "start_time": "2023-02-21T11:34:51.243Z"
   },
   {
    "duration": 67,
    "start_time": "2023-02-21T11:34:51.880Z"
   },
   {
    "duration": 670,
    "start_time": "2023-02-21T11:34:52.077Z"
   },
   {
    "duration": 430,
    "start_time": "2023-02-21T11:34:52.749Z"
   },
   {
    "duration": 74,
    "start_time": "2023-02-21T11:34:53.190Z"
   },
   {
    "duration": 33,
    "start_time": "2023-02-21T11:34:53.516Z"
   },
   {
    "duration": 70,
    "start_time": "2023-02-21T11:34:53.836Z"
   },
   {
    "duration": 69,
    "start_time": "2023-02-21T11:34:54.084Z"
   },
   {
    "duration": 77,
    "start_time": "2023-02-21T11:34:55.298Z"
   },
   {
    "duration": 11,
    "start_time": "2023-02-21T11:34:57.647Z"
   },
   {
    "duration": 11,
    "start_time": "2023-02-21T11:36:10.771Z"
   },
   {
    "duration": 679,
    "start_time": "2023-02-21T11:38:04.420Z"
   },
   {
    "duration": 103,
    "start_time": "2023-02-21T11:38:05.101Z"
   },
   {
    "duration": 112,
    "start_time": "2023-02-21T11:38:05.205Z"
   },
   {
    "duration": 372,
    "start_time": "2023-02-21T11:38:05.763Z"
   },
   {
    "duration": 729,
    "start_time": "2023-02-21T11:38:06.827Z"
   },
   {
    "duration": 35,
    "start_time": "2023-02-21T11:38:07.558Z"
   },
   {
    "duration": 106,
    "start_time": "2023-02-21T11:38:07.872Z"
   },
   {
    "duration": 113,
    "start_time": "2023-02-21T11:38:08.186Z"
   },
   {
    "duration": 142,
    "start_time": "2023-02-21T11:38:08.679Z"
   },
   {
    "duration": 71,
    "start_time": "2023-02-21T11:38:10.824Z"
   },
   {
    "duration": 652,
    "start_time": "2023-02-21T11:38:11.238Z"
   },
   {
    "duration": 377,
    "start_time": "2023-02-21T11:38:11.968Z"
   },
   {
    "duration": 66,
    "start_time": "2023-02-21T11:38:13.715Z"
   },
   {
    "duration": 33,
    "start_time": "2023-02-21T11:38:14.624Z"
   },
   {
    "duration": 76,
    "start_time": "2023-02-21T11:38:15.679Z"
   },
   {
    "duration": 70,
    "start_time": "2023-02-21T11:38:17.256Z"
   },
   {
    "duration": 77,
    "start_time": "2023-02-21T11:38:18.427Z"
   },
   {
    "duration": 12332,
    "start_time": "2023-02-21T11:38:20.118Z"
   },
   {
    "duration": 15,
    "start_time": "2023-02-21T11:43:45.212Z"
   },
   {
    "duration": 25,
    "start_time": "2023-02-21T11:44:19.084Z"
   },
   {
    "duration": 3,
    "start_time": "2023-02-21T12:15:14.188Z"
   },
   {
    "duration": 736,
    "start_time": "2023-02-21T12:15:15.213Z"
   },
   {
    "duration": 110,
    "start_time": "2023-02-21T12:15:16.287Z"
   },
   {
    "duration": 101,
    "start_time": "2023-02-21T12:15:17.401Z"
   },
   {
    "duration": 379,
    "start_time": "2023-02-21T12:15:18.168Z"
   },
   {
    "duration": 832,
    "start_time": "2023-02-21T12:15:21.630Z"
   },
   {
    "duration": 36,
    "start_time": "2023-02-21T12:15:22.463Z"
   },
   {
    "duration": 70,
    "start_time": "2023-02-21T12:15:24.358Z"
   },
   {
    "duration": 107,
    "start_time": "2023-02-21T12:15:25.972Z"
   },
   {
    "duration": 143,
    "start_time": "2023-02-21T12:15:30.999Z"
   },
   {
    "duration": 63,
    "start_time": "2023-02-21T12:15:35.914Z"
   },
   {
    "duration": 652,
    "start_time": "2023-02-21T12:15:38.917Z"
   },
   {
    "duration": 405,
    "start_time": "2023-02-21T12:15:41.593Z"
   },
   {
    "duration": 66,
    "start_time": "2023-02-21T12:15:46.116Z"
   },
   {
    "duration": 34,
    "start_time": "2023-02-21T12:15:47.075Z"
   },
   {
    "duration": 67,
    "start_time": "2023-02-21T12:15:55.074Z"
   },
   {
    "duration": 123,
    "start_time": "2023-02-21T12:15:58.900Z"
   },
   {
    "duration": 11530,
    "start_time": "2023-02-21T12:16:02.717Z"
   },
   {
    "duration": 4,
    "start_time": "2023-02-21T12:50:16.665Z"
   },
   {
    "duration": 687,
    "start_time": "2023-02-21T12:50:16.956Z"
   },
   {
    "duration": 118,
    "start_time": "2023-02-21T12:50:17.645Z"
   },
   {
    "duration": 111,
    "start_time": "2023-02-21T12:50:17.765Z"
   },
   {
    "duration": 373,
    "start_time": "2023-02-21T12:50:17.878Z"
   },
   {
    "duration": 779,
    "start_time": "2023-02-21T12:50:18.253Z"
   },
   {
    "duration": 23,
    "start_time": "2023-02-21T12:50:19.034Z"
   },
   {
    "duration": 74,
    "start_time": "2023-02-21T12:50:19.059Z"
   },
   {
    "duration": 126,
    "start_time": "2023-02-21T12:50:19.134Z"
   },
   {
    "duration": 153,
    "start_time": "2023-02-21T12:50:19.262Z"
   },
   {
    "duration": 62,
    "start_time": "2023-02-21T12:50:19.564Z"
   },
   {
    "duration": 647,
    "start_time": "2023-02-21T12:50:19.727Z"
   },
   {
    "duration": 408,
    "start_time": "2023-02-21T12:50:20.376Z"
   },
   {
    "duration": 167,
    "start_time": "2023-02-21T12:50:20.786Z"
   },
   {
    "duration": 56,
    "start_time": "2023-02-21T12:50:20.956Z"
   },
   {
    "duration": 73,
    "start_time": "2023-02-21T12:50:21.161Z"
   },
   {
    "duration": 256,
    "start_time": "2023-02-21T12:50:21.974Z"
   },
   {
    "duration": 11841,
    "start_time": "2023-02-21T12:50:23.425Z"
   },
   {
    "duration": 9,
    "start_time": "2023-02-21T12:50:35.268Z"
   },
   {
    "duration": 31,
    "start_time": "2023-02-21T12:50:35.286Z"
   },
   {
    "duration": 7,
    "start_time": "2023-02-21T13:35:44.288Z"
   },
   {
    "duration": 768,
    "start_time": "2023-02-21T13:35:44.710Z"
   },
   {
    "duration": 134,
    "start_time": "2023-02-21T13:35:45.479Z"
   },
   {
    "duration": 136,
    "start_time": "2023-02-21T13:35:45.615Z"
   },
   {
    "duration": 472,
    "start_time": "2023-02-21T13:35:45.754Z"
   },
   {
    "duration": 798,
    "start_time": "2023-02-21T13:35:46.228Z"
   },
   {
    "duration": 29,
    "start_time": "2023-02-21T13:35:47.028Z"
   },
   {
    "duration": 95,
    "start_time": "2023-02-21T13:35:48.252Z"
   },
   {
    "duration": 103,
    "start_time": "2023-02-21T13:35:48.714Z"
   },
   {
    "duration": 163,
    "start_time": "2023-02-21T13:35:51.483Z"
   },
   {
    "duration": 76,
    "start_time": "2023-02-21T13:35:55.724Z"
   },
   {
    "duration": 308,
    "start_time": "2023-02-21T13:35:56.707Z"
   },
   {
    "duration": 392,
    "start_time": "2023-02-21T13:36:22.014Z"
   },
   {
    "duration": 340,
    "start_time": "2023-02-21T13:36:31.370Z"
   },
   {
    "duration": 370,
    "start_time": "2023-02-21T13:36:50.275Z"
   },
   {
    "duration": 335,
    "start_time": "2023-02-21T13:37:04.223Z"
   },
   {
    "duration": 341,
    "start_time": "2023-02-21T13:37:43.340Z"
   },
   {
    "duration": 332,
    "start_time": "2023-02-21T13:45:24.151Z"
   },
   {
    "duration": 353,
    "start_time": "2023-02-21T13:45:33.032Z"
   },
   {
    "duration": 136,
    "start_time": "2023-02-21T13:46:16.730Z"
   },
   {
    "duration": 321,
    "start_time": "2023-02-21T13:46:36.032Z"
   },
   {
    "duration": 15,
    "start_time": "2023-02-21T13:48:51.986Z"
   },
   {
    "duration": 59,
    "start_time": "2023-02-21T13:49:16.448Z"
   },
   {
    "duration": 809,
    "start_time": "2023-02-21T13:49:16.814Z"
   },
   {
    "duration": 117,
    "start_time": "2023-02-21T13:49:17.625Z"
   },
   {
    "duration": 157,
    "start_time": "2023-02-21T13:49:17.744Z"
   },
   {
    "duration": 408,
    "start_time": "2023-02-21T13:49:17.904Z"
   },
   {
    "duration": 905,
    "start_time": "2023-02-21T13:49:18.314Z"
   },
   {
    "duration": 31,
    "start_time": "2023-02-21T13:49:19.223Z"
   },
   {
    "duration": 80,
    "start_time": "2023-02-21T13:49:19.255Z"
   },
   {
    "duration": 153,
    "start_time": "2023-02-21T13:49:19.338Z"
   },
   {
    "duration": 166,
    "start_time": "2023-02-21T13:49:19.492Z"
   },
   {
    "duration": 71,
    "start_time": "2023-02-21T13:49:20.870Z"
   },
   {
    "duration": 123,
    "start_time": "2023-02-21T13:49:21.708Z"
   },
   {
    "duration": 106,
    "start_time": "2023-02-21T13:49:36.670Z"
   },
   {
    "duration": 244,
    "start_time": "2023-02-21T13:50:20.338Z"
   },
   {
    "duration": 148,
    "start_time": "2023-02-21T13:50:33.941Z"
   },
   {
    "duration": 575,
    "start_time": "2023-02-21T13:51:37.157Z"
   },
   {
    "duration": 148,
    "start_time": "2023-02-21T13:51:51.370Z"
   },
   {
    "duration": 144,
    "start_time": "2023-02-21T13:52:41.865Z"
   },
   {
    "duration": 147,
    "start_time": "2023-02-21T13:52:47.801Z"
   },
   {
    "duration": 160,
    "start_time": "2023-02-21T13:53:22.111Z"
   },
   {
    "duration": 155,
    "start_time": "2023-02-21T13:53:56.671Z"
   },
   {
    "duration": 194,
    "start_time": "2023-02-21T13:54:52.847Z"
   },
   {
    "duration": 299,
    "start_time": "2023-02-21T13:55:53.762Z"
   },
   {
    "duration": 1509,
    "start_time": "2023-02-22T09:05:51.543Z"
   },
   {
    "duration": 2813,
    "start_time": "2023-02-22T09:05:53.054Z"
   },
   {
    "duration": 140,
    "start_time": "2023-02-22T09:05:57.033Z"
   },
   {
    "duration": 121,
    "start_time": "2023-02-22T09:05:58.886Z"
   },
   {
    "duration": 451,
    "start_time": "2023-02-22T09:05:59.197Z"
   },
   {
    "duration": 978,
    "start_time": "2023-02-22T09:06:00.637Z"
   },
   {
    "duration": 34,
    "start_time": "2023-02-22T09:06:01.617Z"
   },
   {
    "duration": 82,
    "start_time": "2023-02-22T09:06:02.988Z"
   },
   {
    "duration": 120,
    "start_time": "2023-02-22T09:06:05.365Z"
   },
   {
    "duration": 165,
    "start_time": "2023-02-22T09:06:08.852Z"
   },
   {
    "duration": 345,
    "start_time": "2023-02-22T09:06:15.158Z"
   },
   {
    "duration": 181,
    "start_time": "2023-02-22T09:06:18.381Z"
   },
   {
    "duration": 148,
    "start_time": "2023-02-22T09:06:19.406Z"
   },
   {
    "duration": 81,
    "start_time": "2023-02-22T09:06:22.829Z"
   },
   {
    "duration": 58,
    "start_time": "2023-02-22T09:06:23.668Z"
   },
   {
    "duration": 77,
    "start_time": "2023-02-22T09:06:25.636Z"
   },
   {
    "duration": 94,
    "start_time": "2023-02-22T09:06:28.631Z"
   },
   {
    "duration": 12009,
    "start_time": "2023-02-22T09:06:32.068Z"
   },
   {
    "duration": 7,
    "start_time": "2023-02-22T09:06:44.079Z"
   },
   {
    "duration": 27,
    "start_time": "2023-02-22T09:06:44.088Z"
   },
   {
    "duration": 124,
    "start_time": "2023-02-22T09:06:49.668Z"
   },
   {
    "duration": 177,
    "start_time": "2023-02-22T09:14:32.602Z"
   },
   {
    "duration": 1752,
    "start_time": "2023-02-24T10:01:11.727Z"
   },
   {
    "duration": 3112,
    "start_time": "2023-02-24T10:01:13.481Z"
   },
   {
    "duration": 166,
    "start_time": "2023-02-24T10:01:17.316Z"
   },
   {
    "duration": 140,
    "start_time": "2023-02-24T10:01:19.804Z"
   },
   {
    "duration": 538,
    "start_time": "2023-02-24T10:01:21.111Z"
   },
   {
    "duration": 1003,
    "start_time": "2023-02-24T10:01:23.940Z"
   },
   {
    "duration": 42,
    "start_time": "2023-02-24T10:01:27.136Z"
   },
   {
    "duration": 96,
    "start_time": "2023-02-24T10:01:28.229Z"
   },
   {
    "duration": 131,
    "start_time": "2023-02-24T10:01:29.272Z"
   },
   {
    "duration": 198,
    "start_time": "2023-02-24T10:01:33.437Z"
   },
   {
    "duration": 379,
    "start_time": "2023-02-24T10:01:37.230Z"
   },
   {
    "duration": 89,
    "start_time": "2023-02-24T10:01:51.409Z"
   },
   {
    "duration": 201,
    "start_time": "2023-02-24T10:01:55.773Z"
   },
   {
    "duration": 170,
    "start_time": "2023-02-24T10:01:58.822Z"
   },
   {
    "duration": 100,
    "start_time": "2023-02-24T10:02:02.380Z"
   },
   {
    "duration": 63,
    "start_time": "2023-02-24T10:02:04.975Z"
   },
   {
    "duration": 118,
    "start_time": "2023-02-24T10:02:06.306Z"
   },
   {
    "duration": 96,
    "start_time": "2023-02-24T10:02:10.080Z"
   },
   {
    "duration": 124,
    "start_time": "2023-02-24T10:02:14.792Z"
   },
   {
    "duration": 11,
    "start_time": "2023-02-24T10:02:15.232Z"
   },
   {
    "duration": 3,
    "start_time": "2023-02-24T10:03:45.742Z"
   },
   {
    "duration": 884,
    "start_time": "2023-02-24T10:03:46.116Z"
   },
   {
    "duration": 152,
    "start_time": "2023-02-24T10:03:47.003Z"
   },
   {
    "duration": 153,
    "start_time": "2023-02-24T10:03:47.157Z"
   },
   {
    "duration": 455,
    "start_time": "2023-02-24T10:03:47.312Z"
   },
   {
    "duration": 966,
    "start_time": "2023-02-24T10:03:47.770Z"
   },
   {
    "duration": 35,
    "start_time": "2023-02-24T10:03:48.737Z"
   },
   {
    "duration": 108,
    "start_time": "2023-02-24T10:03:48.774Z"
   },
   {
    "duration": 142,
    "start_time": "2023-02-24T10:03:48.884Z"
   },
   {
    "duration": 192,
    "start_time": "2023-02-24T10:03:49.028Z"
   },
   {
    "duration": 76,
    "start_time": "2023-02-24T10:03:52.211Z"
   },
   {
    "duration": 178,
    "start_time": "2023-02-24T10:03:53.664Z"
   },
   {
    "duration": 188,
    "start_time": "2023-02-24T10:03:57.987Z"
   },
   {
    "duration": 123,
    "start_time": "2023-02-24T10:04:05.774Z"
   },
   {
    "duration": 37,
    "start_time": "2023-02-24T10:04:09.160Z"
   },
   {
    "duration": 92,
    "start_time": "2023-02-24T10:04:09.713Z"
   },
   {
    "duration": 951,
    "start_time": "2023-02-24T10:04:32.976Z"
   },
   {
    "duration": 15,
    "start_time": "2023-02-24T10:04:35.886Z"
   },
   {
    "duration": 14,
    "start_time": "2023-02-24T10:04:36.823Z"
   },
   {
    "duration": 3,
    "start_time": "2023-02-24T10:11:35.504Z"
   },
   {
    "duration": 855,
    "start_time": "2023-02-24T10:11:35.999Z"
   },
   {
    "duration": 147,
    "start_time": "2023-02-24T10:11:36.857Z"
   },
   {
    "duration": 146,
    "start_time": "2023-02-24T10:11:37.005Z"
   },
   {
    "duration": 462,
    "start_time": "2023-02-24T10:11:37.154Z"
   },
   {
    "duration": 980,
    "start_time": "2023-02-24T10:11:37.618Z"
   },
   {
    "duration": 26,
    "start_time": "2023-02-24T10:11:38.600Z"
   },
   {
    "duration": 103,
    "start_time": "2023-02-24T10:11:38.628Z"
   },
   {
    "duration": 151,
    "start_time": "2023-02-24T10:11:38.733Z"
   },
   {
    "duration": 200,
    "start_time": "2023-02-24T10:11:38.886Z"
   },
   {
    "duration": 75,
    "start_time": "2023-02-24T10:11:39.180Z"
   },
   {
    "duration": 194,
    "start_time": "2023-02-24T10:11:39.376Z"
   },
   {
    "duration": 156,
    "start_time": "2023-02-24T10:11:39.796Z"
   },
   {
    "duration": 136,
    "start_time": "2023-02-24T10:11:40.539Z"
   },
   {
    "duration": 39,
    "start_time": "2023-02-24T10:11:40.872Z"
   },
   {
    "duration": 93,
    "start_time": "2023-02-24T10:11:41.211Z"
   },
   {
    "duration": 97,
    "start_time": "2023-02-24T10:11:41.992Z"
   },
   {
    "duration": 19,
    "start_time": "2023-02-24T10:11:43.007Z"
   },
   {
    "duration": 14,
    "start_time": "2023-02-24T10:11:44.116Z"
   },
   {
    "duration": 4,
    "start_time": "2023-02-24T10:12:10.127Z"
   },
   {
    "duration": 830,
    "start_time": "2023-02-24T10:12:11.335Z"
   },
   {
    "duration": 147,
    "start_time": "2023-02-24T10:12:12.166Z"
   },
   {
    "duration": 142,
    "start_time": "2023-02-24T10:12:13.099Z"
   },
   {
    "duration": 445,
    "start_time": "2023-02-24T10:12:13.606Z"
   },
   {
    "duration": 908,
    "start_time": "2023-02-24T10:12:16.005Z"
   },
   {
    "duration": 31,
    "start_time": "2023-02-24T10:12:16.915Z"
   },
   {
    "duration": 91,
    "start_time": "2023-02-24T10:12:18.502Z"
   },
   {
    "duration": 135,
    "start_time": "2023-02-24T10:12:19.596Z"
   },
   {
    "duration": 236,
    "start_time": "2023-02-24T10:12:21.432Z"
   },
   {
    "duration": 78,
    "start_time": "2023-02-24T10:12:24.304Z"
   },
   {
    "duration": 181,
    "start_time": "2023-02-24T10:12:26.060Z"
   },
   {
    "duration": 166,
    "start_time": "2023-02-24T10:12:27.113Z"
   },
   {
    "duration": 105,
    "start_time": "2023-02-24T10:12:31.995Z"
   },
   {
    "duration": 42,
    "start_time": "2023-02-24T10:12:35.268Z"
   },
   {
    "duration": 82,
    "start_time": "2023-02-24T10:12:35.864Z"
   },
   {
    "duration": 92,
    "start_time": "2023-02-24T10:12:39.518Z"
   },
   {
    "duration": 14,
    "start_time": "2023-02-24T10:12:41.504Z"
   },
   {
    "duration": 870,
    "start_time": "2023-02-24T10:13:40.280Z"
   },
   {
    "duration": 15,
    "start_time": "2023-02-24T10:13:45.096Z"
   },
   {
    "duration": 14,
    "start_time": "2023-02-24T10:13:46.204Z"
   },
   {
    "duration": 17,
    "start_time": "2023-02-24T10:13:56.800Z"
   },
   {
    "duration": 4,
    "start_time": "2023-02-24T10:14:04.184Z"
   },
   {
    "duration": 869,
    "start_time": "2023-02-24T10:14:04.500Z"
   },
   {
    "duration": 154,
    "start_time": "2023-02-24T10:14:05.371Z"
   },
   {
    "duration": 157,
    "start_time": "2023-02-24T10:14:05.526Z"
   },
   {
    "duration": 463,
    "start_time": "2023-02-24T10:14:05.685Z"
   },
   {
    "duration": 961,
    "start_time": "2023-02-24T10:14:06.151Z"
   },
   {
    "duration": 32,
    "start_time": "2023-02-24T10:14:07.114Z"
   },
   {
    "duration": 113,
    "start_time": "2023-02-24T10:14:07.147Z"
   },
   {
    "duration": 143,
    "start_time": "2023-02-24T10:14:07.261Z"
   },
   {
    "duration": 222,
    "start_time": "2023-02-24T10:14:07.417Z"
   },
   {
    "duration": 69,
    "start_time": "2023-02-24T10:14:09.258Z"
   },
   {
    "duration": 188,
    "start_time": "2023-02-24T10:14:09.972Z"
   },
   {
    "duration": 193,
    "start_time": "2023-02-24T10:14:10.513Z"
   },
   {
    "duration": 102,
    "start_time": "2023-02-24T10:14:11.937Z"
   },
   {
    "duration": 43,
    "start_time": "2023-02-24T10:14:12.424Z"
   },
   {
    "duration": 86,
    "start_time": "2023-02-24T10:14:12.892Z"
   },
   {
    "duration": 88,
    "start_time": "2023-02-24T10:14:14.032Z"
   },
   {
    "duration": 836,
    "start_time": "2023-02-24T10:14:16.280Z"
   },
   {
    "duration": 14,
    "start_time": "2023-02-24T10:14:17.193Z"
   },
   {
    "duration": 14,
    "start_time": "2023-02-24T10:14:18.001Z"
   },
   {
    "duration": 549789,
    "start_time": "2023-02-24T10:16:52.572Z"
   },
   {
    "duration": 46,
    "start_time": "2023-02-24T10:26:02.364Z"
   },
   {
    "duration": 828,
    "start_time": "2023-02-24T10:26:02.412Z"
   },
   {
    "duration": 182,
    "start_time": "2023-02-24T10:26:03.245Z"
   },
   {
    "duration": 162,
    "start_time": "2023-02-24T10:26:03.429Z"
   },
   {
    "duration": 440,
    "start_time": "2023-02-24T10:26:03.593Z"
   },
   {
    "duration": 970,
    "start_time": "2023-02-24T10:26:04.035Z"
   },
   {
    "duration": 30,
    "start_time": "2023-02-24T10:26:05.007Z"
   },
   {
    "duration": 105,
    "start_time": "2023-02-24T10:26:05.047Z"
   },
   {
    "duration": 144,
    "start_time": "2023-02-24T10:26:05.155Z"
   },
   {
    "duration": 205,
    "start_time": "2023-02-24T10:26:05.301Z"
   },
   {
    "duration": 82,
    "start_time": "2023-02-24T10:26:05.508Z"
   },
   {
    "duration": 201,
    "start_time": "2023-02-24T10:26:05.591Z"
   },
   {
    "duration": 187,
    "start_time": "2023-02-24T10:26:05.793Z"
   },
   {
    "duration": 99,
    "start_time": "2023-02-24T10:26:05.982Z"
   },
   {
    "duration": 70,
    "start_time": "2023-02-24T10:26:06.083Z"
   },
   {
    "duration": 102,
    "start_time": "2023-02-24T10:26:06.159Z"
   },
   {
    "duration": 92,
    "start_time": "2023-02-24T10:26:06.263Z"
   },
   {
    "duration": 867,
    "start_time": "2023-02-24T10:26:06.357Z"
   },
   {
    "duration": 15,
    "start_time": "2023-02-24T10:26:07.226Z"
   },
   {
    "duration": 42,
    "start_time": "2023-02-24T10:26:07.242Z"
   },
   {
    "duration": 1855,
    "start_time": "2023-02-25T07:46:17.704Z"
   },
   {
    "duration": 1193,
    "start_time": "2023-02-25T07:46:20.419Z"
   },
   {
    "duration": 145,
    "start_time": "2023-02-25T07:46:22.250Z"
   },
   {
    "duration": 152,
    "start_time": "2023-02-25T07:46:24.799Z"
   },
   {
    "duration": 497,
    "start_time": "2023-02-25T07:46:25.080Z"
   },
   {
    "duration": 1036,
    "start_time": "2023-02-25T07:46:29.434Z"
   },
   {
    "duration": 142,
    "start_time": "2023-02-25T07:46:30.472Z"
   },
   {
    "duration": 19,
    "start_time": "2023-02-25T07:51:03.793Z"
   },
   {
    "duration": 106,
    "start_time": "2023-02-25T07:51:52.686Z"
   },
   {
    "duration": 144,
    "start_time": "2023-02-25T07:55:14.713Z"
   },
   {
    "duration": 117,
    "start_time": "2023-02-25T07:55:45.087Z"
   },
   {
    "duration": 8,
    "start_time": "2023-02-25T08:01:26.250Z"
   },
   {
    "duration": 123,
    "start_time": "2023-02-25T08:01:36.805Z"
   },
   {
    "duration": 22,
    "start_time": "2023-02-25T08:02:38.405Z"
   },
   {
    "duration": 22,
    "start_time": "2023-02-25T08:03:24.229Z"
   },
   {
    "duration": 20,
    "start_time": "2023-02-25T08:03:43.987Z"
   },
   {
    "duration": 121,
    "start_time": "2023-02-25T08:06:54.842Z"
   },
   {
    "duration": 22,
    "start_time": "2023-02-25T08:06:55.570Z"
   },
   {
    "duration": 31,
    "start_time": "2023-02-25T08:07:01.987Z"
   },
   {
    "duration": 106,
    "start_time": "2023-02-25T08:07:03.135Z"
   },
   {
    "duration": 139,
    "start_time": "2023-02-25T08:07:04.257Z"
   },
   {
    "duration": 304,
    "start_time": "2023-02-25T08:07:09.005Z"
   },
   {
    "duration": 100,
    "start_time": "2023-02-25T08:07:23.661Z"
   },
   {
    "duration": 1322,
    "start_time": "2023-02-25T08:14:55.576Z"
   },
   {
    "duration": 4,
    "start_time": "2023-02-25T08:15:11.582Z"
   },
   {
    "duration": 899,
    "start_time": "2023-02-25T08:15:11.918Z"
   },
   {
    "duration": 150,
    "start_time": "2023-02-25T08:15:12.819Z"
   },
   {
    "duration": 149,
    "start_time": "2023-02-25T08:15:12.971Z"
   },
   {
    "duration": 463,
    "start_time": "2023-02-25T08:15:13.575Z"
   },
   {
    "duration": 976,
    "start_time": "2023-02-25T08:15:14.682Z"
   },
   {
    "duration": 220,
    "start_time": "2023-02-25T08:15:15.660Z"
   },
   {
    "duration": 69,
    "start_time": "2023-02-25T08:15:15.999Z"
   },
   {
    "duration": 22,
    "start_time": "2023-02-25T08:16:57.411Z"
   },
   {
    "duration": 28,
    "start_time": "2023-02-25T08:17:27.266Z"
   },
   {
    "duration": 29,
    "start_time": "2023-02-25T08:17:51.907Z"
   },
   {
    "duration": 45,
    "start_time": "2023-02-25T08:17:57.189Z"
   },
   {
    "duration": 89,
    "start_time": "2023-02-25T08:18:02.392Z"
   },
   {
    "duration": 124,
    "start_time": "2023-02-25T08:18:03.145Z"
   },
   {
    "duration": 212,
    "start_time": "2023-02-25T08:18:06.436Z"
   },
   {
    "duration": 106,
    "start_time": "2023-02-25T08:18:10.093Z"
   },
   {
    "duration": 212,
    "start_time": "2023-02-25T08:18:24.817Z"
   },
   {
    "duration": 174,
    "start_time": "2023-02-25T08:18:25.284Z"
   },
   {
    "duration": 68,
    "start_time": "2023-02-25T08:19:00.857Z"
   },
   {
    "duration": 88,
    "start_time": "2023-02-25T08:19:02.246Z"
   },
   {
    "duration": 104,
    "start_time": "2023-02-25T08:19:16.076Z"
   },
   {
    "duration": 1070,
    "start_time": "2023-02-25T08:19:19.200Z"
   },
   {
    "duration": 17,
    "start_time": "2023-02-25T08:19:22.558Z"
   },
   {
    "duration": 25,
    "start_time": "2023-02-25T08:19:23.237Z"
   },
   {
    "duration": 1303,
    "start_time": "2023-02-25T08:25:06.685Z"
   },
   {
    "duration": 4,
    "start_time": "2023-02-25T08:25:20.311Z"
   },
   {
    "duration": 883,
    "start_time": "2023-02-25T08:25:20.670Z"
   },
   {
    "duration": 136,
    "start_time": "2023-02-25T08:25:21.555Z"
   },
   {
    "duration": 151,
    "start_time": "2023-02-25T08:25:21.692Z"
   },
   {
    "duration": 510,
    "start_time": "2023-02-25T08:25:21.844Z"
   },
   {
    "duration": 1027,
    "start_time": "2023-02-25T08:25:22.930Z"
   },
   {
    "duration": 196,
    "start_time": "2023-02-25T08:25:23.989Z"
   },
   {
    "duration": 30,
    "start_time": "2023-02-25T08:25:24.682Z"
   },
   {
    "duration": 96,
    "start_time": "2023-02-25T08:27:40.787Z"
   },
   {
    "duration": 41,
    "start_time": "2023-02-25T08:27:46.093Z"
   },
   {
    "duration": 101,
    "start_time": "2023-02-25T08:27:47.212Z"
   },
   {
    "duration": 142,
    "start_time": "2023-02-25T08:27:47.478Z"
   },
   {
    "duration": 66,
    "start_time": "2023-02-25T08:29:52.406Z"
   },
   {
    "duration": 88,
    "start_time": "2023-02-25T08:29:52.968Z"
   },
   {
    "duration": 4,
    "start_time": "2023-02-25T08:30:40.388Z"
   },
   {
    "duration": 875,
    "start_time": "2023-02-25T08:30:40.728Z"
   },
   {
    "duration": 152,
    "start_time": "2023-02-25T08:30:41.605Z"
   },
   {
    "duration": 142,
    "start_time": "2023-02-25T08:30:41.759Z"
   },
   {
    "duration": 484,
    "start_time": "2023-02-25T08:30:42.700Z"
   },
   {
    "duration": 993,
    "start_time": "2023-02-25T08:30:45.531Z"
   },
   {
    "duration": 281,
    "start_time": "2023-02-25T08:30:49.377Z"
   },
   {
    "duration": 29,
    "start_time": "2023-02-25T08:31:00.564Z"
   },
   {
    "duration": 121,
    "start_time": "2023-02-25T08:31:01.869Z"
   },
   {
    "duration": 153,
    "start_time": "2023-02-25T08:31:04.916Z"
   },
   {
    "duration": 199,
    "start_time": "2023-02-25T08:31:07.212Z"
   },
   {
    "duration": 91,
    "start_time": "2023-02-25T08:31:15.792Z"
   },
   {
    "duration": 216,
    "start_time": "2023-02-25T08:31:17.381Z"
   },
   {
    "duration": 161,
    "start_time": "2023-02-25T08:31:19.228Z"
   },
   {
    "duration": 107,
    "start_time": "2023-02-25T08:31:24.403Z"
   },
   {
    "duration": 59,
    "start_time": "2023-02-25T08:31:26.667Z"
   },
   {
    "duration": 144,
    "start_time": "2023-02-25T08:31:27.276Z"
   },
   {
    "duration": 105,
    "start_time": "2023-02-25T08:31:43.660Z"
   },
   {
    "duration": 909,
    "start_time": "2023-02-25T08:31:48.211Z"
   },
   {
    "duration": 27,
    "start_time": "2023-02-25T08:31:49.122Z"
   },
   {
    "duration": 28,
    "start_time": "2023-02-25T08:31:50.128Z"
   },
   {
    "duration": 85,
    "start_time": "2023-02-25T08:47:55.652Z"
   },
   {
    "duration": 1748006,
    "start_time": "2023-02-25T09:34:14.064Z"
   },
   {
    "duration": 103,
    "start_time": "2023-02-25T10:03:22.169Z"
   },
   {
    "duration": 5450,
    "start_time": "2023-02-26T08:55:13.440Z"
   },
   {
    "duration": 2984,
    "start_time": "2023-02-26T08:55:18.892Z"
   },
   {
    "duration": 140,
    "start_time": "2023-02-26T08:55:21.877Z"
   },
   {
    "duration": 137,
    "start_time": "2023-02-26T08:55:22.020Z"
   },
   {
    "duration": 466,
    "start_time": "2023-02-26T08:55:22.158Z"
   },
   {
    "duration": 983,
    "start_time": "2023-02-26T08:55:22.625Z"
   },
   {
    "duration": 273,
    "start_time": "2023-02-26T08:55:26.477Z"
   },
   {
    "duration": 47,
    "start_time": "2023-02-26T08:55:27.586Z"
   },
   {
    "duration": 86,
    "start_time": "2023-02-26T08:55:28.985Z"
   },
   {
    "duration": 132,
    "start_time": "2023-02-26T08:55:29.929Z"
   },
   {
    "duration": 166,
    "start_time": "2023-02-26T08:55:31.340Z"
   },
   {
    "duration": 91,
    "start_time": "2023-02-26T08:55:33.077Z"
   },
   {
    "duration": 172,
    "start_time": "2023-02-26T08:55:33.845Z"
   },
   {
    "duration": 147,
    "start_time": "2023-02-26T08:55:34.411Z"
   },
   {
    "duration": 110,
    "start_time": "2023-02-26T08:55:36.340Z"
   },
   {
    "duration": 66,
    "start_time": "2023-02-26T08:55:37.001Z"
   },
   {
    "duration": 78,
    "start_time": "2023-02-26T08:55:37.546Z"
   },
   {
    "duration": 83,
    "start_time": "2023-02-26T08:55:38.621Z"
   },
   {
    "duration": 818,
    "start_time": "2023-02-26T08:55:39.877Z"
   },
   {
    "duration": 14,
    "start_time": "2023-02-26T08:55:40.697Z"
   },
   {
    "duration": 15,
    "start_time": "2023-02-26T08:55:40.997Z"
   },
   {
    "duration": 186,
    "start_time": "2023-02-26T09:16:24.071Z"
   },
   {
    "duration": 3,
    "start_time": "2023-02-26T09:16:43.037Z"
   },
   {
    "duration": 775,
    "start_time": "2023-02-26T09:16:44.032Z"
   },
   {
    "duration": 142,
    "start_time": "2023-02-26T09:16:45.401Z"
   },
   {
    "duration": 124,
    "start_time": "2023-02-26T09:16:45.876Z"
   },
   {
    "duration": 436,
    "start_time": "2023-02-26T09:16:46.539Z"
   },
   {
    "duration": 825,
    "start_time": "2023-02-26T09:16:47.881Z"
   },
   {
    "duration": 181,
    "start_time": "2023-02-26T09:16:49.267Z"
   },
   {
    "duration": 35,
    "start_time": "2023-02-26T09:16:49.797Z"
   },
   {
    "duration": 80,
    "start_time": "2023-02-26T09:16:51.014Z"
   },
   {
    "duration": 119,
    "start_time": "2023-02-26T09:16:51.684Z"
   },
   {
    "duration": 174,
    "start_time": "2023-02-26T09:16:52.518Z"
   },
   {
    "duration": 82,
    "start_time": "2023-02-26T09:16:53.711Z"
   },
   {
    "duration": 167,
    "start_time": "2023-02-26T09:16:54.064Z"
   },
   {
    "duration": 143,
    "start_time": "2023-02-26T09:16:54.525Z"
   },
   {
    "duration": 88,
    "start_time": "2023-02-26T09:16:55.818Z"
   },
   {
    "duration": 64,
    "start_time": "2023-02-26T09:16:56.426Z"
   },
   {
    "duration": 81,
    "start_time": "2023-02-26T09:16:56.932Z"
   },
   {
    "duration": 88,
    "start_time": "2023-02-26T09:16:57.854Z"
   },
   {
    "duration": 766,
    "start_time": "2023-02-26T09:16:58.751Z"
   },
   {
    "duration": 14,
    "start_time": "2023-02-26T09:16:59.519Z"
   },
   {
    "duration": 14,
    "start_time": "2023-02-26T09:16:59.612Z"
   },
   {
    "duration": 4,
    "start_time": "2023-02-26T09:17:01.881Z"
   },
   {
    "duration": 8832,
    "start_time": "2023-02-26T09:17:06.708Z"
   },
   {
    "duration": 9070,
    "start_time": "2023-02-26T09:18:21.639Z"
   },
   {
    "duration": 8819,
    "start_time": "2023-02-26T09:18:42.568Z"
   },
   {
    "duration": 80,
    "start_time": "2023-02-26T09:28:44.327Z"
   },
   {
    "duration": 11,
    "start_time": "2023-02-26T09:28:49.096Z"
   },
   {
    "duration": 5,
    "start_time": "2023-02-26T09:29:07.776Z"
   },
   {
    "duration": 773,
    "start_time": "2023-02-26T09:29:08.753Z"
   },
   {
    "duration": 135,
    "start_time": "2023-02-26T09:29:09.528Z"
   },
   {
    "duration": 126,
    "start_time": "2023-02-26T09:29:10.164Z"
   },
   {
    "duration": 407,
    "start_time": "2023-02-26T09:29:10.401Z"
   },
   {
    "duration": 873,
    "start_time": "2023-02-26T09:29:11.048Z"
   },
   {
    "duration": 195,
    "start_time": "2023-02-26T09:29:11.923Z"
   },
   {
    "duration": 39,
    "start_time": "2023-02-26T09:29:12.119Z"
   },
   {
    "duration": 93,
    "start_time": "2023-02-26T09:29:12.160Z"
   },
   {
    "duration": 132,
    "start_time": "2023-02-26T09:29:12.254Z"
   },
   {
    "duration": 178,
    "start_time": "2023-02-26T09:29:12.948Z"
   },
   {
    "duration": 82,
    "start_time": "2023-02-26T09:29:13.866Z"
   },
   {
    "duration": 166,
    "start_time": "2023-02-26T09:29:14.356Z"
   },
   {
    "duration": 147,
    "start_time": "2023-02-26T09:29:14.721Z"
   },
   {
    "duration": 95,
    "start_time": "2023-02-26T09:29:16.175Z"
   },
   {
    "duration": 65,
    "start_time": "2023-02-26T09:29:16.803Z"
   },
   {
    "duration": 78,
    "start_time": "2023-02-26T09:29:17.373Z"
   },
   {
    "duration": 87,
    "start_time": "2023-02-26T09:29:18.540Z"
   },
   {
    "duration": 727,
    "start_time": "2023-02-26T09:29:19.848Z"
   },
   {
    "duration": 14,
    "start_time": "2023-02-26T09:29:20.577Z"
   },
   {
    "duration": 15,
    "start_time": "2023-02-26T09:29:21.376Z"
   },
   {
    "duration": 9,
    "start_time": "2023-02-26T09:29:23.655Z"
   },
   {
    "duration": 53,
    "start_time": "2023-02-26T09:29:26.402Z"
   },
   {
    "duration": 4,
    "start_time": "2023-02-26T09:32:49.671Z"
   },
   {
    "duration": 82,
    "start_time": "2023-02-26T09:33:16.475Z"
   },
   {
    "duration": 4,
    "start_time": "2023-02-26T09:37:52.075Z"
   },
   {
    "duration": 49,
    "start_time": "2023-02-26T09:42:41.687Z"
   },
   {
    "duration": 5,
    "start_time": "2023-02-26T09:43:06.861Z"
   },
   {
    "duration": 845,
    "start_time": "2023-02-26T09:43:07.502Z"
   },
   {
    "duration": 131,
    "start_time": "2023-02-26T09:43:08.349Z"
   },
   {
    "duration": 133,
    "start_time": "2023-02-26T09:43:08.482Z"
   },
   {
    "duration": 401,
    "start_time": "2023-02-26T09:43:08.617Z"
   },
   {
    "duration": 878,
    "start_time": "2023-02-26T09:43:09.213Z"
   },
   {
    "duration": 203,
    "start_time": "2023-02-26T09:43:10.093Z"
   },
   {
    "duration": 32,
    "start_time": "2023-02-26T09:43:10.297Z"
   },
   {
    "duration": 110,
    "start_time": "2023-02-26T09:43:10.332Z"
   },
   {
    "duration": 145,
    "start_time": "2023-02-26T09:43:10.449Z"
   },
   {
    "duration": 172,
    "start_time": "2023-02-26T09:43:10.901Z"
   },
   {
    "duration": 79,
    "start_time": "2023-02-26T09:43:12.648Z"
   },
   {
    "duration": 178,
    "start_time": "2023-02-26T09:43:16.617Z"
   },
   {
    "duration": 160,
    "start_time": "2023-02-26T09:43:16.797Z"
   },
   {
    "duration": 88,
    "start_time": "2023-02-26T09:43:21.712Z"
   },
   {
    "duration": 61,
    "start_time": "2023-02-26T09:43:22.731Z"
   },
   {
    "duration": 75,
    "start_time": "2023-02-26T09:43:24.537Z"
   },
   {
    "duration": 88,
    "start_time": "2023-02-26T09:43:27.198Z"
   },
   {
    "duration": 732,
    "start_time": "2023-02-26T09:43:29.563Z"
   },
   {
    "duration": 14,
    "start_time": "2023-02-26T09:43:31.604Z"
   },
   {
    "duration": 13,
    "start_time": "2023-02-26T09:43:32.232Z"
   },
   {
    "duration": 8942,
    "start_time": "2023-02-26T09:43:40.015Z"
   },
   {
    "duration": 8991,
    "start_time": "2023-02-26T09:45:09.649Z"
   },
   {
    "duration": 53,
    "start_time": "2023-02-26T09:56:06.982Z"
   },
   {
    "duration": 90,
    "start_time": "2023-02-26T09:56:24.654Z"
   },
   {
    "duration": 9296,
    "start_time": "2023-02-26T09:58:05.010Z"
   },
   {
    "duration": 9744,
    "start_time": "2023-02-26T09:59:42.672Z"
   },
   {
    "duration": 9203,
    "start_time": "2023-02-26T10:01:18.620Z"
   },
   {
    "duration": 9199,
    "start_time": "2023-02-26T10:01:53.292Z"
   },
   {
    "duration": 30,
    "start_time": "2023-02-26T10:06:10.368Z"
   },
   {
    "duration": 28,
    "start_time": "2023-02-26T10:08:02.207Z"
   },
   {
    "duration": 27,
    "start_time": "2023-02-26T10:09:09.598Z"
   },
   {
    "duration": 5700,
    "start_time": "2023-02-26T10:12:04.294Z"
   },
   {
    "duration": 32,
    "start_time": "2023-02-26T10:13:31.549Z"
   },
   {
    "duration": 345789,
    "start_time": "2023-02-26T10:13:56.145Z"
   },
   {
    "duration": 4286389,
    "start_time": "2023-02-26T10:41:17.871Z"
   },
   {
    "duration": 0,
    "start_time": "2023-02-26T11:52:44.262Z"
   },
   {
    "duration": 582031,
    "start_time": "2023-02-26T11:57:43.391Z"
   },
   {
    "duration": 131098,
    "start_time": "2023-02-26T12:07:47.163Z"
   },
   {
    "duration": 182982,
    "start_time": "2023-02-26T12:10:58.506Z"
   },
   {
    "duration": 0,
    "start_time": "2023-02-26T12:14:01.491Z"
   },
   {
    "duration": 17,
    "start_time": "2023-02-26T12:15:33.564Z"
   },
   {
    "duration": 0,
    "start_time": "2023-02-26T12:18:01.753Z"
   },
   {
    "duration": 17,
    "start_time": "2023-02-26T12:18:10.624Z"
   },
   {
    "duration": 0,
    "start_time": "2023-02-26T12:20:16.172Z"
   },
   {
    "duration": 1556,
    "start_time": "2023-02-26T12:21:32.969Z"
   },
   {
    "duration": 982,
    "start_time": "2023-02-26T12:21:34.528Z"
   },
   {
    "duration": 149,
    "start_time": "2023-02-26T12:21:35.514Z"
   },
   {
    "duration": 134,
    "start_time": "2023-02-26T12:21:36.135Z"
   },
   {
    "duration": 541,
    "start_time": "2023-02-26T12:21:36.589Z"
   },
   {
    "duration": 1078,
    "start_time": "2023-02-26T12:21:37.386Z"
   },
   {
    "duration": 275,
    "start_time": "2023-02-26T12:21:38.467Z"
   },
   {
    "duration": 48,
    "start_time": "2023-02-26T12:21:38.748Z"
   },
   {
    "duration": 96,
    "start_time": "2023-02-26T12:21:39.057Z"
   },
   {
    "duration": 141,
    "start_time": "2023-02-26T12:21:39.268Z"
   },
   {
    "duration": 185,
    "start_time": "2023-02-26T12:21:40.690Z"
   },
   {
    "duration": 101,
    "start_time": "2023-02-26T12:21:44.964Z"
   },
   {
    "duration": 271,
    "start_time": "2023-02-26T12:21:45.850Z"
   },
   {
    "duration": 160,
    "start_time": "2023-02-26T12:21:46.862Z"
   },
   {
    "duration": 101,
    "start_time": "2023-02-26T12:21:50.344Z"
   },
   {
    "duration": 96,
    "start_time": "2023-02-26T12:21:52.146Z"
   },
   {
    "duration": 84,
    "start_time": "2023-02-26T12:21:52.698Z"
   },
   {
    "duration": 135,
    "start_time": "2023-02-26T12:21:54.918Z"
   },
   {
    "duration": 869,
    "start_time": "2023-02-26T12:21:56.293Z"
   },
   {
    "duration": 20,
    "start_time": "2023-02-26T12:21:57.463Z"
   },
   {
    "duration": 23,
    "start_time": "2023-02-26T12:21:59.817Z"
   },
   {
    "duration": 11363,
    "start_time": "2023-02-26T12:22:06.862Z"
   },
   {
    "duration": 392079,
    "start_time": "2023-02-26T12:22:22.717Z"
   },
   {
    "duration": 0,
    "start_time": "2023-02-26T12:32:07.326Z"
   },
   {
    "duration": 18,
    "start_time": "2023-02-26T12:32:15.270Z"
   },
   {
    "duration": 12,
    "start_time": "2023-02-26T12:32:54.253Z"
   },
   {
    "duration": 1729,
    "start_time": "2023-02-26T12:33:24.248Z"
   },
   {
    "duration": 556111,
    "start_time": "2023-02-26T12:34:38.056Z"
   },
   {
    "duration": 0,
    "start_time": "2023-02-26T12:43:54.169Z"
   },
   {
    "duration": 1515,
    "start_time": "2023-02-26T12:48:16.886Z"
   },
   {
    "duration": 952,
    "start_time": "2023-02-26T12:48:19.056Z"
   },
   {
    "duration": 249,
    "start_time": "2023-02-26T12:48:20.010Z"
   },
   {
    "duration": 158,
    "start_time": "2023-02-26T12:48:20.975Z"
   },
   {
    "duration": 653,
    "start_time": "2023-02-26T12:48:21.138Z"
   },
   {
    "duration": 1060,
    "start_time": "2023-02-26T12:48:21.793Z"
   },
   {
    "duration": 349,
    "start_time": "2023-02-26T12:48:22.857Z"
   },
   {
    "duration": 65,
    "start_time": "2023-02-26T12:48:23.209Z"
   },
   {
    "duration": 106,
    "start_time": "2023-02-26T12:48:23.277Z"
   },
   {
    "duration": 211,
    "start_time": "2023-02-26T12:48:23.385Z"
   },
   {
    "duration": 212,
    "start_time": "2023-02-26T12:48:23.598Z"
   },
   {
    "duration": 87,
    "start_time": "2023-02-26T12:48:23.905Z"
   },
   {
    "duration": 189,
    "start_time": "2023-02-26T12:48:24.135Z"
   },
   {
    "duration": 209,
    "start_time": "2023-02-26T12:48:24.436Z"
   },
   {
    "duration": 92,
    "start_time": "2023-02-26T12:48:25.189Z"
   },
   {
    "duration": 90,
    "start_time": "2023-02-26T12:48:25.424Z"
   },
   {
    "duration": 139,
    "start_time": "2023-02-26T12:48:25.710Z"
   },
   {
    "duration": 96,
    "start_time": "2023-02-26T12:48:26.299Z"
   },
   {
    "duration": 881,
    "start_time": "2023-02-26T12:48:27.222Z"
   },
   {
    "duration": 15,
    "start_time": "2023-02-26T12:48:28.105Z"
   },
   {
    "duration": 16,
    "start_time": "2023-02-26T12:48:28.207Z"
   },
   {
    "duration": 10847,
    "start_time": "2023-02-26T12:48:38.386Z"
   },
   {
    "duration": 393731,
    "start_time": "2023-02-26T12:48:49.235Z"
   },
   {
    "duration": 0,
    "start_time": "2023-02-26T13:34:23.054Z"
   },
   {
    "duration": 39419,
    "start_time": "2023-02-26T13:34:37.367Z"
   },
   {
    "duration": 71,
    "start_time": "2023-02-26T13:38:53.814Z"
   },
   {
    "duration": 14,
    "start_time": "2023-02-26T13:39:01.240Z"
   },
   {
    "duration": 0,
    "start_time": "2023-02-26T13:55:31.092Z"
   },
   {
    "duration": 0,
    "start_time": "2023-02-26T14:19:24.060Z"
   },
   {
    "duration": 15,
    "start_time": "2023-02-26T14:19:39.737Z"
   },
   {
    "duration": 0,
    "start_time": "2023-02-26T15:07:30.574Z"
   },
   {
    "duration": 0,
    "start_time": "2023-02-26T15:07:30.575Z"
   },
   {
    "duration": 1694,
    "start_time": "2023-02-27T06:32:42.682Z"
   },
   {
    "duration": 1013,
    "start_time": "2023-02-27T06:32:44.378Z"
   },
   {
    "duration": 114,
    "start_time": "2023-02-27T06:32:45.393Z"
   },
   {
    "duration": 110,
    "start_time": "2023-02-27T06:32:46.170Z"
   },
   {
    "duration": 453,
    "start_time": "2023-02-27T06:32:48.268Z"
   },
   {
    "duration": 882,
    "start_time": "2023-02-27T06:32:49.921Z"
   },
   {
    "duration": 232,
    "start_time": "2023-02-27T06:32:52.411Z"
   },
   {
    "duration": 44,
    "start_time": "2023-02-27T06:32:53.017Z"
   },
   {
    "duration": 69,
    "start_time": "2023-02-27T06:32:53.682Z"
   },
   {
    "duration": 121,
    "start_time": "2023-02-27T06:32:54.034Z"
   },
   {
    "duration": 134,
    "start_time": "2023-02-27T06:32:56.626Z"
   },
   {
    "duration": 83,
    "start_time": "2023-02-27T06:33:00.586Z"
   },
   {
    "duration": 169,
    "start_time": "2023-02-27T06:33:01.395Z"
   },
   {
    "duration": 150,
    "start_time": "2023-02-27T06:33:03.896Z"
   },
   {
    "duration": 75,
    "start_time": "2023-02-27T06:33:07.762Z"
   },
   {
    "duration": 83,
    "start_time": "2023-02-27T06:33:09.185Z"
   },
   {
    "duration": 62,
    "start_time": "2023-02-27T06:33:14.451Z"
   },
   {
    "duration": 88,
    "start_time": "2023-02-27T06:33:30.562Z"
   },
   {
    "duration": 768,
    "start_time": "2023-02-27T06:33:36.568Z"
   },
   {
    "duration": 15,
    "start_time": "2023-02-27T06:33:39.251Z"
   },
   {
    "duration": 15,
    "start_time": "2023-02-27T06:33:41.152Z"
   },
   {
    "duration": 9061,
    "start_time": "2023-02-27T06:33:59.314Z"
   },
   {
    "duration": 341855,
    "start_time": "2023-02-27T06:34:08.377Z"
   },
   {
    "duration": 446091,
    "start_time": "2023-02-27T06:39:50.234Z"
   },
   {
    "duration": 115113,
    "start_time": "2023-02-27T06:47:16.328Z"
   },
   {
    "duration": 93,
    "start_time": "2023-02-27T06:56:16.221Z"
   },
   {
    "duration": 78,
    "start_time": "2023-02-27T06:56:26.609Z"
   },
   {
    "duration": 4,
    "start_time": "2023-02-27T06:56:42.717Z"
   },
   {
    "duration": 10,
    "start_time": "2023-02-27T06:56:55.527Z"
   },
   {
    "duration": 12,
    "start_time": "2023-02-27T07:03:47.642Z"
   },
   {
    "duration": 81,
    "start_time": "2023-02-27T07:23:40.351Z"
   },
   {
    "duration": 4,
    "start_time": "2023-02-27T07:23:52.918Z"
   },
   {
    "duration": 12,
    "start_time": "2023-02-27T07:23:59.086Z"
   },
   {
    "duration": 4,
    "start_time": "2023-02-27T07:53:57.536Z"
   },
   {
    "duration": 725,
    "start_time": "2023-02-27T07:53:58.440Z"
   },
   {
    "duration": 116,
    "start_time": "2023-02-27T07:53:59.167Z"
   },
   {
    "duration": 96,
    "start_time": "2023-02-27T07:53:59.810Z"
   },
   {
    "duration": 394,
    "start_time": "2023-02-27T07:54:00.175Z"
   },
   {
    "duration": 872,
    "start_time": "2023-02-27T07:54:01.313Z"
   },
   {
    "duration": 195,
    "start_time": "2023-02-27T07:54:02.187Z"
   },
   {
    "duration": 44,
    "start_time": "2023-02-27T07:54:02.384Z"
   },
   {
    "duration": 70,
    "start_time": "2023-02-27T07:54:02.700Z"
   },
   {
    "duration": 105,
    "start_time": "2023-02-27T07:54:03.029Z"
   },
   {
    "duration": 139,
    "start_time": "2023-02-27T07:54:03.627Z"
   },
   {
    "duration": 86,
    "start_time": "2023-02-27T07:54:05.065Z"
   },
   {
    "duration": 168,
    "start_time": "2023-02-27T07:54:05.523Z"
   },
   {
    "duration": 146,
    "start_time": "2023-02-27T07:54:05.916Z"
   },
   {
    "duration": 76,
    "start_time": "2023-02-27T07:54:07.261Z"
   },
   {
    "duration": 61,
    "start_time": "2023-02-27T07:54:07.720Z"
   },
   {
    "duration": 63,
    "start_time": "2023-02-27T07:54:08.273Z"
   },
   {
    "duration": 89,
    "start_time": "2023-02-27T07:54:12.729Z"
   },
   {
    "duration": 292,
    "start_time": "2023-02-27T07:54:16.391Z"
   },
   {
    "duration": 177,
    "start_time": "2023-02-27T07:54:43.289Z"
   },
   {
    "duration": 306,
    "start_time": "2023-02-27T07:55:08.498Z"
   },
   {
    "duration": 5,
    "start_time": "2023-02-27T07:59:29.503Z"
   },
   {
    "duration": 735,
    "start_time": "2023-02-27T07:59:30.425Z"
   },
   {
    "duration": 117,
    "start_time": "2023-02-27T07:59:31.162Z"
   },
   {
    "duration": 108,
    "start_time": "2023-02-27T07:59:31.281Z"
   },
   {
    "duration": 396,
    "start_time": "2023-02-27T07:59:31.495Z"
   },
   {
    "duration": 825,
    "start_time": "2023-02-27T07:59:33.230Z"
   },
   {
    "duration": 226,
    "start_time": "2023-02-27T07:59:34.057Z"
   },
   {
    "duration": 43,
    "start_time": "2023-02-27T07:59:34.285Z"
   },
   {
    "duration": 72,
    "start_time": "2023-02-27T07:59:34.828Z"
   },
   {
    "duration": 109,
    "start_time": "2023-02-27T07:59:35.178Z"
   },
   {
    "duration": 147,
    "start_time": "2023-02-27T07:59:35.988Z"
   },
   {
    "duration": 84,
    "start_time": "2023-02-27T07:59:37.087Z"
   },
   {
    "duration": 168,
    "start_time": "2023-02-27T07:59:37.459Z"
   },
   {
    "duration": 160,
    "start_time": "2023-02-27T07:59:37.753Z"
   },
   {
    "duration": 71,
    "start_time": "2023-02-27T07:59:38.822Z"
   },
   {
    "duration": 57,
    "start_time": "2023-02-27T07:59:39.160Z"
   },
   {
    "duration": 66,
    "start_time": "2023-02-27T07:59:39.527Z"
   },
   {
    "duration": 90,
    "start_time": "2023-02-27T07:59:40.432Z"
   },
   {
    "duration": 323,
    "start_time": "2023-02-27T07:59:41.463Z"
   },
   {
    "duration": 9,
    "start_time": "2023-02-27T07:59:48.149Z"
   },
   {
    "duration": 560,
    "start_time": "2023-02-27T08:04:09.454Z"
   },
   {
    "duration": 570,
    "start_time": "2023-02-27T08:05:05.515Z"
   },
   {
    "duration": 712,
    "start_time": "2023-02-27T08:08:52.845Z"
   },
   {
    "duration": 649,
    "start_time": "2023-02-27T08:09:56.072Z"
   },
   {
    "duration": 696,
    "start_time": "2023-02-27T08:11:19.794Z"
   },
   {
    "duration": 929,
    "start_time": "2023-02-27T08:13:10.391Z"
   },
   {
    "duration": 811,
    "start_time": "2023-02-27T08:17:13.219Z"
   },
   {
    "duration": 52,
    "start_time": "2023-02-27T08:19:54.759Z"
   },
   {
    "duration": 25,
    "start_time": "2023-02-27T08:20:03.886Z"
   },
   {
    "duration": 234,
    "start_time": "2023-02-27T08:23:07.676Z"
   },
   {
    "duration": 170,
    "start_time": "2023-02-27T08:23:18.671Z"
   },
   {
    "duration": 4,
    "start_time": "2023-02-27T08:24:49.456Z"
   },
   {
    "duration": 741,
    "start_time": "2023-02-27T08:24:50.006Z"
   },
   {
    "duration": 114,
    "start_time": "2023-02-27T08:24:50.749Z"
   },
   {
    "duration": 109,
    "start_time": "2023-02-27T08:24:50.864Z"
   },
   {
    "duration": 423,
    "start_time": "2023-02-27T08:24:50.974Z"
   },
   {
    "duration": 883,
    "start_time": "2023-02-27T08:24:52.338Z"
   },
   {
    "duration": 217,
    "start_time": "2023-02-27T08:24:53.224Z"
   },
   {
    "duration": 40,
    "start_time": "2023-02-27T08:24:53.443Z"
   },
   {
    "duration": 70,
    "start_time": "2023-02-27T08:24:53.866Z"
   },
   {
    "duration": 122,
    "start_time": "2023-02-27T08:24:54.158Z"
   },
   {
    "duration": 143,
    "start_time": "2023-02-27T08:24:54.679Z"
   },
   {
    "duration": 82,
    "start_time": "2023-02-27T08:24:55.618Z"
   },
   {
    "duration": 175,
    "start_time": "2023-02-27T08:24:55.979Z"
   },
   {
    "duration": 149,
    "start_time": "2023-02-27T08:24:56.370Z"
   },
   {
    "duration": 73,
    "start_time": "2023-02-27T08:24:57.859Z"
   },
   {
    "duration": 63,
    "start_time": "2023-02-27T08:24:58.357Z"
   },
   {
    "duration": 62,
    "start_time": "2023-02-27T08:24:58.958Z"
   },
   {
    "duration": 95,
    "start_time": "2023-02-27T08:25:00.498Z"
   },
   {
    "duration": 184,
    "start_time": "2023-02-27T08:25:05.752Z"
   },
   {
    "duration": 195,
    "start_time": "2023-02-27T08:32:50.634Z"
   },
   {
    "duration": 198,
    "start_time": "2023-02-27T08:35:06.375Z"
   },
   {
    "duration": 18,
    "start_time": "2023-02-27T08:35:07.852Z"
   },
   {
    "duration": 10,
    "start_time": "2023-02-27T08:35:13.471Z"
   },
   {
    "duration": 8,
    "start_time": "2023-02-27T08:36:02.667Z"
   },
   {
    "duration": 236,
    "start_time": "2023-02-27T08:36:37.100Z"
   },
   {
    "duration": 4,
    "start_time": "2023-02-27T08:38:50.057Z"
   },
   {
    "duration": 830,
    "start_time": "2023-02-27T08:38:50.455Z"
   },
   {
    "duration": 132,
    "start_time": "2023-02-27T08:38:51.287Z"
   },
   {
    "duration": 115,
    "start_time": "2023-02-27T08:38:51.421Z"
   },
   {
    "duration": 417,
    "start_time": "2023-02-27T08:38:51.538Z"
   },
   {
    "duration": 905,
    "start_time": "2023-02-27T08:38:51.957Z"
   },
   {
    "duration": 219,
    "start_time": "2023-02-27T08:38:52.864Z"
   },
   {
    "duration": 52,
    "start_time": "2023-02-27T08:38:53.085Z"
   },
   {
    "duration": 80,
    "start_time": "2023-02-27T08:38:53.139Z"
   },
   {
    "duration": 129,
    "start_time": "2023-02-27T08:38:53.222Z"
   },
   {
    "duration": 161,
    "start_time": "2023-02-27T08:38:53.355Z"
   },
   {
    "duration": 96,
    "start_time": "2023-02-27T08:38:53.939Z"
   },
   {
    "duration": 173,
    "start_time": "2023-02-27T08:38:54.371Z"
   },
   {
    "duration": 173,
    "start_time": "2023-02-27T08:38:54.763Z"
   },
   {
    "duration": 82,
    "start_time": "2023-02-27T08:38:55.356Z"
   },
   {
    "duration": 62,
    "start_time": "2023-02-27T08:38:55.768Z"
   },
   {
    "duration": 77,
    "start_time": "2023-02-27T08:38:56.187Z"
   },
   {
    "duration": 116,
    "start_time": "2023-02-27T08:38:57.234Z"
   },
   {
    "duration": 201,
    "start_time": "2023-02-27T08:38:58.965Z"
   },
   {
    "duration": 824,
    "start_time": "2023-02-27T08:45:20.674Z"
   },
   {
    "duration": 818,
    "start_time": "2023-02-27T08:45:30.703Z"
   },
   {
    "duration": 925,
    "start_time": "2023-02-27T08:47:06.253Z"
   },
   {
    "duration": 19,
    "start_time": "2023-02-27T08:48:15.326Z"
   },
   {
    "duration": 23,
    "start_time": "2023-02-27T08:48:22.701Z"
   },
   {
    "duration": 11,
    "start_time": "2023-02-27T08:48:27.159Z"
   },
   {
    "duration": 23,
    "start_time": "2023-02-27T08:48:40.606Z"
   },
   {
    "duration": 18,
    "start_time": "2023-02-27T08:49:01.601Z"
   },
   {
    "duration": 29,
    "start_time": "2023-02-27T08:50:12.303Z"
   },
   {
    "duration": 12,
    "start_time": "2023-02-27T08:50:22.365Z"
   },
   {
    "duration": 4,
    "start_time": "2023-02-27T08:50:39.569Z"
   },
   {
    "duration": 766,
    "start_time": "2023-02-27T08:50:40.164Z"
   },
   {
    "duration": 133,
    "start_time": "2023-02-27T08:50:40.932Z"
   },
   {
    "duration": 125,
    "start_time": "2023-02-27T08:50:41.067Z"
   },
   {
    "duration": 455,
    "start_time": "2023-02-27T08:50:41.194Z"
   },
   {
    "duration": 933,
    "start_time": "2023-02-27T08:50:42.045Z"
   },
   {
    "duration": 225,
    "start_time": "2023-02-27T08:50:42.980Z"
   },
   {
    "duration": 43,
    "start_time": "2023-02-27T08:50:43.208Z"
   },
   {
    "duration": 87,
    "start_time": "2023-02-27T08:50:43.253Z"
   },
   {
    "duration": 113,
    "start_time": "2023-02-27T08:50:43.415Z"
   },
   {
    "duration": 169,
    "start_time": "2023-02-27T08:50:43.805Z"
   },
   {
    "duration": 89,
    "start_time": "2023-02-27T08:50:44.544Z"
   },
   {
    "duration": 173,
    "start_time": "2023-02-27T08:50:44.816Z"
   },
   {
    "duration": 163,
    "start_time": "2023-02-27T08:50:45.159Z"
   },
   {
    "duration": 89,
    "start_time": "2023-02-27T08:50:46.273Z"
   },
   {
    "duration": 56,
    "start_time": "2023-02-27T08:50:46.762Z"
   },
   {
    "duration": 80,
    "start_time": "2023-02-27T08:50:47.299Z"
   },
   {
    "duration": 99,
    "start_time": "2023-02-27T08:50:48.071Z"
   },
   {
    "duration": 842,
    "start_time": "2023-02-27T08:50:49.907Z"
   },
   {
    "duration": 12,
    "start_time": "2023-02-27T08:50:53.971Z"
   },
   {
    "duration": 4,
    "start_time": "2023-02-27T08:52:22.160Z"
   },
   {
    "duration": 780,
    "start_time": "2023-02-27T08:52:23.025Z"
   },
   {
    "duration": 126,
    "start_time": "2023-02-27T08:52:23.807Z"
   },
   {
    "duration": 112,
    "start_time": "2023-02-27T08:52:23.934Z"
   },
   {
    "duration": 513,
    "start_time": "2023-02-27T08:52:24.048Z"
   },
   {
    "duration": 962,
    "start_time": "2023-02-27T08:52:24.942Z"
   },
   {
    "duration": 238,
    "start_time": "2023-02-27T08:52:25.908Z"
   },
   {
    "duration": 34,
    "start_time": "2023-02-27T08:52:26.147Z"
   },
   {
    "duration": 69,
    "start_time": "2023-02-27T08:52:26.236Z"
   },
   {
    "duration": 121,
    "start_time": "2023-02-27T08:52:26.415Z"
   },
   {
    "duration": 172,
    "start_time": "2023-02-27T08:52:26.861Z"
   },
   {
    "duration": 96,
    "start_time": "2023-02-27T08:52:27.508Z"
   },
   {
    "duration": 201,
    "start_time": "2023-02-27T08:52:27.768Z"
   },
   {
    "duration": 166,
    "start_time": "2023-02-27T08:52:28.024Z"
   },
   {
    "duration": 94,
    "start_time": "2023-02-27T08:52:29.084Z"
   },
   {
    "duration": 64,
    "start_time": "2023-02-27T08:52:29.392Z"
   },
   {
    "duration": 65,
    "start_time": "2023-02-27T08:52:29.776Z"
   },
   {
    "duration": 93,
    "start_time": "2023-02-27T08:52:30.584Z"
   },
   {
    "duration": 937,
    "start_time": "2023-02-27T08:52:34.360Z"
   },
   {
    "duration": 11,
    "start_time": "2023-02-27T08:52:37.061Z"
   },
   {
    "duration": 14,
    "start_time": "2023-02-27T08:52:49.160Z"
   },
   {
    "duration": 11,
    "start_time": "2023-02-27T08:53:03.910Z"
   },
   {
    "duration": 5,
    "start_time": "2023-02-27T08:54:55.265Z"
   },
   {
    "duration": 739,
    "start_time": "2023-02-27T08:54:55.884Z"
   },
   {
    "duration": 112,
    "start_time": "2023-02-27T08:54:56.625Z"
   },
   {
    "duration": 114,
    "start_time": "2023-02-27T08:54:56.986Z"
   },
   {
    "duration": 398,
    "start_time": "2023-02-27T08:54:57.297Z"
   },
   {
    "duration": 829,
    "start_time": "2023-02-27T08:54:58.261Z"
   },
   {
    "duration": 251,
    "start_time": "2023-02-27T08:54:59.092Z"
   },
   {
    "duration": 35,
    "start_time": "2023-02-27T08:54:59.344Z"
   },
   {
    "duration": 82,
    "start_time": "2023-02-27T08:54:59.550Z"
   },
   {
    "duration": 107,
    "start_time": "2023-02-27T08:54:59.780Z"
   },
   {
    "duration": 147,
    "start_time": "2023-02-27T08:55:00.333Z"
   },
   {
    "duration": 99,
    "start_time": "2023-02-27T08:55:01.160Z"
   },
   {
    "duration": 182,
    "start_time": "2023-02-27T08:55:01.403Z"
   },
   {
    "duration": 176,
    "start_time": "2023-02-27T08:55:01.702Z"
   },
   {
    "duration": 83,
    "start_time": "2023-02-27T08:55:02.510Z"
   },
   {
    "duration": 49,
    "start_time": "2023-02-27T08:55:02.797Z"
   },
   {
    "duration": 65,
    "start_time": "2023-02-27T08:55:03.135Z"
   },
   {
    "duration": 120,
    "start_time": "2023-02-27T08:55:04.046Z"
   },
   {
    "duration": 793,
    "start_time": "2023-02-27T08:55:04.850Z"
   },
   {
    "duration": 9,
    "start_time": "2023-02-27T08:55:07.072Z"
   },
   {
    "duration": 18,
    "start_time": "2023-02-27T08:56:24.960Z"
   },
   {
    "duration": 4,
    "start_time": "2023-02-27T08:56:30.395Z"
   },
   {
    "duration": 865,
    "start_time": "2023-02-27T08:56:30.698Z"
   },
   {
    "duration": 121,
    "start_time": "2023-02-27T08:56:31.565Z"
   },
   {
    "duration": 118,
    "start_time": "2023-02-27T08:56:31.688Z"
   },
   {
    "duration": 472,
    "start_time": "2023-02-27T08:56:31.808Z"
   },
   {
    "duration": 975,
    "start_time": "2023-02-27T08:56:32.281Z"
   },
   {
    "duration": 217,
    "start_time": "2023-02-27T08:56:33.258Z"
   },
   {
    "duration": 43,
    "start_time": "2023-02-27T08:56:33.476Z"
   },
   {
    "duration": 91,
    "start_time": "2023-02-27T08:56:33.521Z"
   },
   {
    "duration": 122,
    "start_time": "2023-02-27T08:56:33.615Z"
   },
   {
    "duration": 170,
    "start_time": "2023-02-27T08:56:33.739Z"
   },
   {
    "duration": 115,
    "start_time": "2023-02-27T08:56:33.912Z"
   },
   {
    "duration": 230,
    "start_time": "2023-02-27T08:56:34.029Z"
   },
   {
    "duration": 169,
    "start_time": "2023-02-27T08:56:34.262Z"
   },
   {
    "duration": 72,
    "start_time": "2023-02-27T08:56:34.899Z"
   },
   {
    "duration": 37,
    "start_time": "2023-02-27T08:56:35.299Z"
   },
   {
    "duration": 63,
    "start_time": "2023-02-27T08:56:35.659Z"
   },
   {
    "duration": 99,
    "start_time": "2023-02-27T08:56:36.557Z"
   },
   {
    "duration": 1067,
    "start_time": "2023-02-27T08:56:38.476Z"
   },
   {
    "duration": 763,
    "start_time": "2023-02-27T09:03:19.232Z"
   },
   {
    "duration": 15,
    "start_time": "2023-02-27T09:03:38.361Z"
   },
   {
    "duration": 17,
    "start_time": "2023-02-27T09:03:39.917Z"
   },
   {
    "duration": 81,
    "start_time": "2023-02-27T09:08:50.060Z"
   },
   {
    "duration": 11,
    "start_time": "2023-02-27T09:10:01.453Z"
   },
   {
    "duration": 9,
    "start_time": "2023-02-27T09:10:23.710Z"
   },
   {
    "duration": 734,
    "start_time": "2023-02-27T09:10:24.329Z"
   },
   {
    "duration": 126,
    "start_time": "2023-02-27T09:10:25.065Z"
   },
   {
    "duration": 115,
    "start_time": "2023-02-27T09:10:25.193Z"
   },
   {
    "duration": 450,
    "start_time": "2023-02-27T09:10:25.310Z"
   },
   {
    "duration": 821,
    "start_time": "2023-02-27T09:10:26.063Z"
   },
   {
    "duration": 197,
    "start_time": "2023-02-27T09:10:26.886Z"
   },
   {
    "duration": 47,
    "start_time": "2023-02-27T09:10:27.085Z"
   },
   {
    "duration": 90,
    "start_time": "2023-02-27T09:10:27.134Z"
   },
   {
    "duration": 119,
    "start_time": "2023-02-27T09:10:27.337Z"
   },
   {
    "duration": 165,
    "start_time": "2023-02-27T09:10:27.714Z"
   },
   {
    "duration": 83,
    "start_time": "2023-02-27T09:10:28.311Z"
   },
   {
    "duration": 164,
    "start_time": "2023-02-27T09:10:28.555Z"
   },
   {
    "duration": 148,
    "start_time": "2023-02-27T09:10:28.828Z"
   },
   {
    "duration": 73,
    "start_time": "2023-02-27T09:10:29.742Z"
   },
   {
    "duration": 65,
    "start_time": "2023-02-27T09:10:30.081Z"
   },
   {
    "duration": 80,
    "start_time": "2023-02-27T09:10:30.374Z"
   },
   {
    "duration": 100,
    "start_time": "2023-02-27T09:10:31.142Z"
   },
   {
    "duration": 693,
    "start_time": "2023-02-27T09:10:32.214Z"
   },
   {
    "duration": 15,
    "start_time": "2023-02-27T09:10:32.909Z"
   },
   {
    "duration": 15,
    "start_time": "2023-02-27T09:10:33.111Z"
   },
   {
    "duration": 72141,
    "start_time": "2023-02-27T09:10:39.831Z"
   },
   {
    "duration": 255765,
    "start_time": "2023-02-27T09:11:53.767Z"
   },
   {
    "duration": 85,
    "start_time": "2023-02-27T09:20:50.137Z"
   },
   {
    "duration": 127706,
    "start_time": "2023-02-27T09:21:01.090Z"
   },
   {
    "duration": 24225,
    "start_time": "2023-02-27T09:31:33.268Z"
   },
   {
    "duration": 23753,
    "start_time": "2023-02-27T09:32:05.967Z"
   },
   {
    "duration": 83,
    "start_time": "2023-02-27T09:33:45.006Z"
   },
   {
    "duration": 342622,
    "start_time": "2023-02-27T09:48:19.671Z"
   },
   {
    "duration": 4,
    "start_time": "2023-02-27T09:57:51.832Z"
   },
   {
    "duration": 836,
    "start_time": "2023-02-27T09:57:56.774Z"
   },
   {
    "duration": 119,
    "start_time": "2023-02-27T09:57:58.890Z"
   },
   {
    "duration": 128,
    "start_time": "2023-02-27T09:57:59.313Z"
   },
   {
    "duration": 436,
    "start_time": "2023-02-27T09:57:59.658Z"
   },
   {
    "duration": 908,
    "start_time": "2023-02-27T09:58:00.852Z"
   },
   {
    "duration": 206,
    "start_time": "2023-02-27T09:58:01.762Z"
   },
   {
    "duration": 37,
    "start_time": "2023-02-27T09:58:05.105Z"
   },
   {
    "duration": 69,
    "start_time": "2023-02-27T09:58:05.849Z"
   },
   {
    "duration": 109,
    "start_time": "2023-02-27T09:58:06.233Z"
   },
   {
    "duration": 260,
    "start_time": "2023-02-27T09:58:09.370Z"
   },
   {
    "duration": 85,
    "start_time": "2023-02-27T09:58:12.868Z"
   },
   {
    "duration": 217,
    "start_time": "2023-02-27T09:58:14.203Z"
   },
   {
    "duration": 163,
    "start_time": "2023-02-27T09:58:15.465Z"
   },
   {
    "duration": 75,
    "start_time": "2023-02-27T09:58:20.289Z"
   },
   {
    "duration": 67,
    "start_time": "2023-02-27T09:58:28.766Z"
   },
   {
    "duration": 72,
    "start_time": "2023-02-27T09:58:29.562Z"
   },
   {
    "duration": 95,
    "start_time": "2023-02-27T09:58:34.321Z"
   },
   {
    "duration": 723,
    "start_time": "2023-02-27T09:58:38.578Z"
   },
   {
    "duration": 22,
    "start_time": "2023-02-27T09:58:41.907Z"
   },
   {
    "duration": 16,
    "start_time": "2023-02-27T09:58:42.562Z"
   },
   {
    "duration": 9358,
    "start_time": "2023-02-27T09:58:53.169Z"
   },
   {
    "duration": 344951,
    "start_time": "2023-02-27T09:59:02.530Z"
   },
   {
    "duration": 76,
    "start_time": "2023-02-27T10:04:47.483Z"
   },
   {
    "duration": 0,
    "start_time": "2023-02-27T10:04:47.561Z"
   },
   {
    "duration": 74,
    "start_time": "2023-02-27T10:05:36.656Z"
   },
   {
    "duration": 82,
    "start_time": "2023-02-27T10:05:48.061Z"
   },
   {
    "duration": 1095012,
    "start_time": "2023-02-27T10:05:55.310Z"
   },
   {
    "duration": 0,
    "start_time": "2023-02-27T10:24:10.325Z"
   },
   {
    "duration": 0,
    "start_time": "2023-02-27T10:24:10.326Z"
   },
   {
    "duration": 4,
    "start_time": "2023-02-27T11:07:27.177Z"
   },
   {
    "duration": 823,
    "start_time": "2023-02-27T11:07:29.065Z"
   },
   {
    "duration": 123,
    "start_time": "2023-02-27T11:07:32.681Z"
   },
   {
    "duration": 142,
    "start_time": "2023-02-27T11:07:33.590Z"
   },
   {
    "duration": 429,
    "start_time": "2023-02-27T11:07:35.259Z"
   },
   {
    "duration": 958,
    "start_time": "2023-02-27T11:07:37.135Z"
   },
   {
    "duration": 212,
    "start_time": "2023-02-27T11:07:40.465Z"
   },
   {
    "duration": 38,
    "start_time": "2023-02-27T11:07:40.930Z"
   },
   {
    "duration": 94,
    "start_time": "2023-02-27T11:07:44.357Z"
   },
   {
    "duration": 126,
    "start_time": "2023-02-27T11:07:46.518Z"
   },
   {
    "duration": 177,
    "start_time": "2023-02-27T11:07:50.199Z"
   },
   {
    "duration": 100,
    "start_time": "2023-02-27T11:07:53.670Z"
   },
   {
    "duration": 210,
    "start_time": "2023-02-27T11:07:55.729Z"
   },
   {
    "duration": 178,
    "start_time": "2023-02-27T11:07:57.697Z"
   },
   {
    "duration": 65,
    "start_time": "2023-02-27T11:08:01.693Z"
   },
   {
    "duration": 66,
    "start_time": "2023-02-27T11:08:02.647Z"
   },
   {
    "duration": 104,
    "start_time": "2023-02-27T11:08:05.577Z"
   },
   {
    "duration": 783,
    "start_time": "2023-02-27T11:08:11.102Z"
   },
   {
    "duration": 19,
    "start_time": "2023-02-27T11:08:11.887Z"
   },
   {
    "duration": 24,
    "start_time": "2023-02-27T11:08:13.661Z"
   },
   {
    "duration": 10329,
    "start_time": "2023-02-27T11:08:20.962Z"
   },
   {
    "duration": 376428,
    "start_time": "2023-02-27T11:09:14.460Z"
   },
   {
    "duration": 1870260,
    "start_time": "2023-02-27T11:19:02.961Z"
   },
   {
    "duration": 352927,
    "start_time": "2023-02-27T11:50:13.224Z"
   },
   {
    "duration": 11,
    "start_time": "2023-02-27T11:56:49.437Z"
   },
   {
    "duration": 23959,
    "start_time": "2023-02-27T11:57:11.704Z"
   },
   {
    "duration": 69,
    "start_time": "2023-02-28T08:15:30.816Z"
   },
   {
    "duration": 1855,
    "start_time": "2023-02-28T08:29:13.924Z"
   },
   {
    "duration": 2904,
    "start_time": "2023-02-28T08:29:15.781Z"
   },
   {
    "duration": 156,
    "start_time": "2023-02-28T08:29:20.868Z"
   },
   {
    "duration": 155,
    "start_time": "2023-02-28T08:29:21.087Z"
   },
   {
    "duration": 502,
    "start_time": "2023-02-28T08:29:21.262Z"
   },
   {
    "duration": 124,
    "start_time": "2023-02-28T08:30:01.318Z"
   },
   {
    "duration": 4,
    "start_time": "2023-02-28T08:30:11.775Z"
   },
   {
    "duration": 967,
    "start_time": "2023-02-28T08:30:12.294Z"
   },
   {
    "duration": 156,
    "start_time": "2023-02-28T08:30:13.263Z"
   },
   {
    "duration": 149,
    "start_time": "2023-02-28T08:30:13.421Z"
   },
   {
    "duration": 509,
    "start_time": "2023-02-28T08:30:13.572Z"
   },
   {
    "duration": 1040,
    "start_time": "2023-02-28T08:30:16.225Z"
   },
   {
    "duration": 278,
    "start_time": "2023-02-28T08:30:17.267Z"
   },
   {
    "duration": 48,
    "start_time": "2023-02-28T08:30:17.547Z"
   },
   {
    "duration": 102,
    "start_time": "2023-02-28T08:30:17.597Z"
   },
   {
    "duration": 148,
    "start_time": "2023-02-28T08:30:17.701Z"
   },
   {
    "duration": 187,
    "start_time": "2023-02-28T08:30:20.145Z"
   },
   {
    "duration": 92,
    "start_time": "2023-02-28T08:30:23.652Z"
   },
   {
    "duration": 205,
    "start_time": "2023-02-28T08:30:24.043Z"
   },
   {
    "duration": 175,
    "start_time": "2023-02-28T08:30:27.117Z"
   },
   {
    "duration": 65,
    "start_time": "2023-02-28T08:30:30.278Z"
   },
   {
    "duration": 85,
    "start_time": "2023-02-28T08:30:31.396Z"
   },
   {
    "duration": 89,
    "start_time": "2023-02-28T08:30:35.146Z"
   },
   {
    "duration": 854,
    "start_time": "2023-02-28T08:30:38.748Z"
   },
   {
    "duration": 14,
    "start_time": "2023-02-28T08:30:39.610Z"
   },
   {
    "duration": 14,
    "start_time": "2023-02-28T08:30:39.702Z"
   },
   {
    "duration": 9971,
    "start_time": "2023-02-28T08:30:49.604Z"
   },
   {
    "duration": 9909,
    "start_time": "2023-02-28T08:38:58.718Z"
   },
   {
    "duration": 10190,
    "start_time": "2023-02-28T08:44:17.157Z"
   },
   {
    "duration": 10280,
    "start_time": "2023-02-28T08:45:46.073Z"
   },
   {
    "duration": 9112,
    "start_time": "2023-02-28T09:02:42.702Z"
   },
   {
    "duration": 9385,
    "start_time": "2023-02-28T09:03:43.685Z"
   },
   {
    "duration": 9735,
    "start_time": "2023-02-28T09:54:14.427Z"
   },
   {
    "duration": 4,
    "start_time": "2023-02-28T09:54:24.164Z"
   },
   {
    "duration": 4,
    "start_time": "2023-02-28T09:54:44.465Z"
   },
   {
    "duration": 4,
    "start_time": "2023-02-28T09:55:39.676Z"
   },
   {
    "duration": 4,
    "start_time": "2023-02-28T09:55:55.715Z"
   },
   {
    "duration": 4,
    "start_time": "2023-02-28T09:56:52.230Z"
   },
   {
    "duration": 5,
    "start_time": "2023-02-28T09:56:57.891Z"
   },
   {
    "duration": 5,
    "start_time": "2023-02-28T09:57:02.012Z"
   },
   {
    "duration": 5,
    "start_time": "2023-02-28T09:57:06.636Z"
   },
   {
    "duration": 9786,
    "start_time": "2023-02-28T09:58:57.075Z"
   },
   {
    "duration": 9681,
    "start_time": "2023-02-28T09:59:27.057Z"
   },
   {
    "duration": 354059,
    "start_time": "2023-02-28T10:06:49.632Z"
   },
   {
    "duration": 4,
    "start_time": "2023-02-28T10:13:11.957Z"
   },
   {
    "duration": 5,
    "start_time": "2023-02-28T10:13:18.744Z"
   },
   {
    "duration": 44268,
    "start_time": "2023-02-28T10:13:41.784Z"
   },
   {
    "duration": 330810,
    "start_time": "2023-02-28T10:14:26.054Z"
   },
   {
    "duration": 0,
    "start_time": "2023-02-28T10:19:56.867Z"
   },
   {
    "duration": 332092,
    "start_time": "2023-02-28T10:20:42.778Z"
   },
   {
    "duration": 5,
    "start_time": "2023-02-28T10:26:14.873Z"
   },
   {
    "duration": 4,
    "start_time": "2023-02-28T10:29:18.282Z"
   },
   {
    "duration": 4,
    "start_time": "2023-02-28T10:29:24.381Z"
   },
   {
    "duration": 4,
    "start_time": "2023-02-28T10:29:28.981Z"
   },
   {
    "duration": 4,
    "start_time": "2023-02-28T10:29:39.514Z"
   },
   {
    "duration": 3,
    "start_time": "2023-02-28T10:29:43.677Z"
   },
   {
    "duration": 4,
    "start_time": "2023-02-28T10:29:47.483Z"
   },
   {
    "duration": 4,
    "start_time": "2023-02-28T10:29:54.881Z"
   },
   {
    "duration": 9,
    "start_time": "2023-02-28T10:30:16.995Z"
   },
   {
    "duration": 13,
    "start_time": "2023-02-28T10:32:35.239Z"
   },
   {
    "duration": 22814,
    "start_time": "2023-02-28T10:32:43.845Z"
   },
   {
    "duration": 82,
    "start_time": "2023-02-28T10:33:06.661Z"
   },
   {
    "duration": 79,
    "start_time": "2023-02-28T10:34:20.881Z"
   },
   {
    "duration": 86,
    "start_time": "2023-02-28T10:36:33.910Z"
   },
   {
    "duration": 84,
    "start_time": "2023-02-28T10:37:31.614Z"
   },
   {
    "duration": 176,
    "start_time": "2023-02-28T10:41:24.313Z"
   },
   {
    "duration": 397,
    "start_time": "2023-02-28T10:41:49.580Z"
   },
   {
    "duration": 16,
    "start_time": "2023-02-28T10:42:32.665Z"
   },
   {
    "duration": 461,
    "start_time": "2023-02-28T10:42:53.396Z"
   },
   {
    "duration": 149,
    "start_time": "2023-02-28T10:44:45.532Z"
   },
   {
    "duration": 91,
    "start_time": "2023-02-28T10:45:58.504Z"
   },
   {
    "duration": 11,
    "start_time": "2023-02-28T10:50:22.130Z"
   },
   {
    "duration": 5,
    "start_time": "2023-02-28T10:51:43.668Z"
   },
   {
    "duration": 871,
    "start_time": "2023-02-28T10:51:45.612Z"
   },
   {
    "duration": 168,
    "start_time": "2023-02-28T10:51:47.322Z"
   },
   {
    "duration": 133,
    "start_time": "2023-02-28T10:51:49.923Z"
   },
   {
    "duration": 468,
    "start_time": "2023-02-28T10:51:50.825Z"
   },
   {
    "duration": 951,
    "start_time": "2023-02-28T10:51:55.087Z"
   },
   {
    "duration": 213,
    "start_time": "2023-02-28T10:51:58.627Z"
   },
   {
    "duration": 11,
    "start_time": "2023-02-28T10:52:01.778Z"
   },
   {
    "duration": 29,
    "start_time": "2023-02-28T10:52:09.086Z"
   },
   {
    "duration": 129,
    "start_time": "2023-02-28T10:56:42.136Z"
   },
   {
    "duration": 57,
    "start_time": "2023-02-28T10:56:56.898Z"
   },
   {
    "duration": 107,
    "start_time": "2023-02-28T10:58:01.903Z"
   },
   {
    "duration": 6,
    "start_time": "2023-02-28T11:00:30.172Z"
   },
   {
    "duration": 813,
    "start_time": "2023-02-28T11:01:26.013Z"
   },
   {
    "duration": 148,
    "start_time": "2023-02-28T11:01:29.168Z"
   },
   {
    "duration": 176,
    "start_time": "2023-02-28T11:01:32.398Z"
   },
   {
    "duration": 436,
    "start_time": "2023-02-28T11:01:35.469Z"
   },
   {
    "duration": 921,
    "start_time": "2023-02-28T11:01:40.916Z"
   },
   {
    "duration": 202,
    "start_time": "2023-02-28T11:01:44.784Z"
   },
   {
    "duration": 49,
    "start_time": "2023-02-28T11:01:50.167Z"
   },
   {
    "duration": 46,
    "start_time": "2023-02-28T11:01:52.084Z"
   },
   {
    "duration": 100,
    "start_time": "2023-02-28T11:01:56.401Z"
   },
   {
    "duration": 176,
    "start_time": "2023-02-28T11:01:58.879Z"
   },
   {
    "duration": 206,
    "start_time": "2023-02-28T11:02:03.518Z"
   },
   {
    "duration": 96,
    "start_time": "2023-02-28T11:02:07.866Z"
   },
   {
    "duration": 178,
    "start_time": "2023-02-28T11:02:10.199Z"
   },
   {
    "duration": 180,
    "start_time": "2023-02-28T11:02:14.706Z"
   },
   {
    "duration": 56,
    "start_time": "2023-02-28T11:02:23.993Z"
   },
   {
    "duration": 118,
    "start_time": "2023-02-28T11:09:16.220Z"
   },
   {
    "duration": 85,
    "start_time": "2023-02-28T11:09:27.735Z"
   },
   {
    "duration": 715,
    "start_time": "2023-02-28T11:09:33.536Z"
   },
   {
    "duration": 14,
    "start_time": "2023-02-28T11:09:34.596Z"
   },
   {
    "duration": 15,
    "start_time": "2023-02-28T11:09:35.745Z"
   },
   {
    "duration": 9821,
    "start_time": "2023-02-28T11:09:51.085Z"
   },
   {
    "duration": 5,
    "start_time": "2023-02-28T11:10:28.919Z"
   },
   {
    "duration": 5,
    "start_time": "2023-02-28T11:11:30.341Z"
   },
   {
    "duration": 5,
    "start_time": "2023-02-28T11:11:36.400Z"
   },
   {
    "duration": 349252,
    "start_time": "2023-02-28T11:11:45.701Z"
   },
   {
    "duration": 4,
    "start_time": "2023-02-28T11:17:34.955Z"
   },
   {
    "duration": 11,
    "start_time": "2023-02-28T12:23:48.477Z"
   },
   {
    "duration": 857,
    "start_time": "2023-02-28T12:23:49.314Z"
   },
   {
    "duration": 137,
    "start_time": "2023-02-28T12:23:50.172Z"
   },
   {
    "duration": 151,
    "start_time": "2023-02-28T12:23:50.475Z"
   },
   {
    "duration": 431,
    "start_time": "2023-02-28T12:23:50.628Z"
   },
   {
    "duration": 892,
    "start_time": "2023-02-28T12:23:51.061Z"
   },
   {
    "duration": 208,
    "start_time": "2023-02-28T12:23:51.956Z"
   },
   {
    "duration": 28,
    "start_time": "2023-02-28T12:23:52.166Z"
   },
   {
    "duration": 59,
    "start_time": "2023-02-28T12:23:52.196Z"
   },
   {
    "duration": 93,
    "start_time": "2023-02-28T12:23:52.257Z"
   },
   {
    "duration": 245,
    "start_time": "2023-02-28T12:23:52.352Z"
   },
   {
    "duration": 218,
    "start_time": "2023-02-28T12:23:52.600Z"
   },
   {
    "duration": 96,
    "start_time": "2023-02-28T12:23:52.820Z"
   },
   {
    "duration": 221,
    "start_time": "2023-02-28T12:23:52.920Z"
   },
   {
    "duration": 159,
    "start_time": "2023-02-28T12:23:53.144Z"
   },
   {
    "duration": 42,
    "start_time": "2023-02-28T12:23:53.304Z"
   },
   {
    "duration": 117,
    "start_time": "2023-02-28T12:23:53.348Z"
   },
   {
    "duration": 117,
    "start_time": "2023-02-28T12:23:53.466Z"
   },
   {
    "duration": 812,
    "start_time": "2023-02-28T12:23:53.585Z"
   },
   {
    "duration": 17,
    "start_time": "2023-02-28T12:23:54.399Z"
   },
   {
    "duration": 29,
    "start_time": "2023-02-28T12:23:54.417Z"
   },
   {
    "duration": 9381,
    "start_time": "2023-02-28T12:23:54.448Z"
   },
   {
    "duration": 7,
    "start_time": "2023-02-28T12:24:03.831Z"
   },
   {
    "duration": 357462,
    "start_time": "2023-02-28T12:24:03.840Z"
   },
   {
    "duration": 6,
    "start_time": "2023-02-28T12:30:01.304Z"
   },
   {
    "duration": 1827059,
    "start_time": "2023-02-28T12:30:01.312Z"
   },
   {
    "duration": 72,
    "start_time": "2023-02-28T13:00:28.373Z"
   },
   {
    "duration": 376942,
    "start_time": "2023-02-28T13:00:28.450Z"
   },
   {
    "duration": 7,
    "start_time": "2023-02-28T13:06:45.394Z"
   },
   {
    "duration": 22,
    "start_time": "2023-02-28T13:06:45.403Z"
   },
   {
    "duration": 33,
    "start_time": "2023-02-28T13:06:45.426Z"
   },
   {
    "duration": 22920,
    "start_time": "2023-02-28T13:19:02.191Z"
   },
   {
    "duration": 145,
    "start_time": "2023-02-28T13:19:51.284Z"
   },
   {
    "duration": 1610,
    "start_time": "2023-02-28T17:48:36.776Z"
   },
   {
    "duration": 3000,
    "start_time": "2023-02-28T17:48:40.589Z"
   },
   {
    "duration": 129,
    "start_time": "2023-02-28T17:48:45.493Z"
   },
   {
    "duration": 129,
    "start_time": "2023-02-28T17:48:47.828Z"
   },
   {
    "duration": 479,
    "start_time": "2023-02-28T17:48:48.215Z"
   },
   {
    "duration": 903,
    "start_time": "2023-02-28T17:48:51.298Z"
   },
   {
    "duration": 236,
    "start_time": "2023-02-28T17:48:53.683Z"
   },
   {
    "duration": 33,
    "start_time": "2023-02-28T17:48:56.595Z"
   },
   {
    "duration": 45,
    "start_time": "2023-02-28T17:48:56.758Z"
   },
   {
    "duration": 88,
    "start_time": "2023-02-28T17:48:59.235Z"
   },
   {
    "duration": 127,
    "start_time": "2023-02-28T17:49:01.764Z"
   },
   {
    "duration": 166,
    "start_time": "2023-02-28T17:49:05.077Z"
   },
   {
    "duration": 81,
    "start_time": "2023-02-28T17:49:09.848Z"
   },
   {
    "duration": 174,
    "start_time": "2023-02-28T17:49:10.078Z"
   },
   {
    "duration": 145,
    "start_time": "2023-02-28T17:49:12.630Z"
   },
   {
    "duration": 65,
    "start_time": "2023-02-28T17:49:15.658Z"
   },
   {
    "duration": 80,
    "start_time": "2023-02-28T17:49:18.530Z"
   },
   {
    "duration": 77,
    "start_time": "2023-02-28T17:49:21.323Z"
   },
   {
    "duration": 830,
    "start_time": "2023-02-28T17:49:22.995Z"
   },
   {
    "duration": 14,
    "start_time": "2023-02-28T17:49:25.039Z"
   },
   {
    "duration": 14,
    "start_time": "2023-02-28T17:49:25.652Z"
   },
   {
    "duration": 8404,
    "start_time": "2023-02-28T17:49:35.811Z"
   },
   {
    "duration": 363,
    "start_time": "2023-02-28T17:49:50.561Z"
   },
   {
    "duration": 367,
    "start_time": "2023-02-28T17:50:26.730Z"
   },
   {
    "duration": 323656,
    "start_time": "2023-02-28T17:50:35.643Z"
   },
   {
    "duration": 19621,
    "start_time": "2023-02-28T17:55:59.300Z"
   },
   {
    "duration": 201592,
    "start_time": "2023-02-28T17:56:18.922Z"
   },
   {
    "duration": 4076,
    "start_time": "2023-02-28T17:59:40.517Z"
   },
   {
    "duration": 326503,
    "start_time": "2023-02-28T17:59:44.595Z"
   },
   {
    "duration": 113,
    "start_time": "2023-02-28T18:05:11.100Z"
   },
   {
    "duration": 0,
    "start_time": "2023-02-28T18:05:11.214Z"
   },
   {
    "duration": 0,
    "start_time": "2023-02-28T18:05:11.215Z"
   },
   {
    "duration": 18259,
    "start_time": "2023-02-28T18:14:43.638Z"
   },
   {
    "duration": 18476,
    "start_time": "2023-02-28T18:15:32.442Z"
   },
   {
    "duration": 10,
    "start_time": "2023-02-28T18:16:21.512Z"
   },
   {
    "duration": 19846,
    "start_time": "2023-02-28T18:16:33.636Z"
   },
   {
    "duration": 67,
    "start_time": "2023-03-02T09:07:44.188Z"
   },
   {
    "duration": 1631,
    "start_time": "2023-03-02T09:07:56.358Z"
   },
   {
    "duration": 1256,
    "start_time": "2023-03-02T09:07:57.992Z"
   },
   {
    "duration": 46,
    "start_time": "2023-06-04T12:21:40.203Z"
   },
   {
    "duration": 1581,
    "start_time": "2023-06-04T12:21:43.872Z"
   },
   {
    "duration": 3007,
    "start_time": "2023-06-04T12:21:45.455Z"
   },
   {
    "duration": 131,
    "start_time": "2023-06-04T12:21:51.757Z"
   },
   {
    "duration": 118,
    "start_time": "2023-06-04T12:21:52.593Z"
   },
   {
    "duration": 398,
    "start_time": "2023-06-04T12:21:59.805Z"
   },
   {
    "duration": 756,
    "start_time": "2023-06-04T12:22:02.672Z"
   },
   {
    "duration": 224,
    "start_time": "2023-06-04T12:22:07.904Z"
   },
   {
    "duration": 81,
    "start_time": "2023-06-04T12:22:45.109Z"
   },
   {
    "duration": 8,
    "start_time": "2023-06-04T12:22:52.272Z"
   },
   {
    "duration": 899,
    "start_time": "2023-06-04T12:22:53.053Z"
   },
   {
    "duration": 170,
    "start_time": "2023-06-04T12:22:54.049Z"
   },
   {
    "duration": 127,
    "start_time": "2023-06-04T12:22:56.503Z"
   },
   {
    "duration": 334,
    "start_time": "2023-06-04T12:22:57.172Z"
   },
   {
    "duration": 714,
    "start_time": "2023-06-04T12:22:58.972Z"
   },
   {
    "duration": 191,
    "start_time": "2023-06-04T12:23:04.309Z"
   },
   {
    "duration": 10,
    "start_time": "2023-06-04T12:23:06.508Z"
   },
   {
    "duration": 91,
    "start_time": "2023-06-04T12:24:46.772Z"
   },
   {
    "duration": 15,
    "start_time": "2023-06-04T12:24:50.717Z"
   },
   {
    "duration": 10,
    "start_time": "2023-06-04T12:26:37.035Z"
   },
   {
    "duration": 16,
    "start_time": "2023-06-04T12:26:47.938Z"
   },
   {
    "duration": 5,
    "start_time": "2023-06-04T12:26:55.146Z"
   },
   {
    "duration": 869,
    "start_time": "2023-06-04T12:26:58.681Z"
   },
   {
    "duration": 120,
    "start_time": "2023-06-04T12:27:00.276Z"
   },
   {
    "duration": 113,
    "start_time": "2023-06-04T12:27:00.990Z"
   },
   {
    "duration": 306,
    "start_time": "2023-06-04T12:27:01.475Z"
   },
   {
    "duration": 638,
    "start_time": "2023-06-04T12:27:03.193Z"
   },
   {
    "duration": 166,
    "start_time": "2023-06-04T12:27:04.620Z"
   },
   {
    "duration": 11,
    "start_time": "2023-06-04T12:27:08.643Z"
   },
   {
    "duration": 18,
    "start_time": "2023-06-04T12:27:09.642Z"
   },
   {
    "duration": 10,
    "start_time": "2023-06-04T12:30:01.352Z"
   },
   {
    "duration": 43,
    "start_time": "2023-06-04T12:31:48.557Z"
   },
   {
    "duration": 86,
    "start_time": "2023-06-04T12:31:52.796Z"
   },
   {
    "duration": 124,
    "start_time": "2023-06-04T12:31:55.821Z"
   },
   {
    "duration": 160,
    "start_time": "2023-06-04T12:31:58.555Z"
   },
   {
    "duration": 79,
    "start_time": "2023-06-04T12:32:04.535Z"
   },
   {
    "duration": 144,
    "start_time": "2023-06-04T12:32:12.284Z"
   },
   {
    "duration": 141,
    "start_time": "2023-06-04T12:32:21.156Z"
   },
   {
    "duration": 89,
    "start_time": "2023-06-04T12:32:36.625Z"
   },
   {
    "duration": 92,
    "start_time": "2023-06-04T12:32:42.030Z"
   },
   {
    "duration": 970,
    "start_time": "2023-06-04T12:32:45.812Z"
   },
   {
    "duration": 14,
    "start_time": "2023-06-04T12:32:50.931Z"
   },
   {
    "duration": 14,
    "start_time": "2023-06-04T12:32:51.871Z"
   }
  ],
  "kernelspec": {
   "display_name": "Python 3 (ipykernel)",
   "language": "python",
   "name": "python3"
  },
  "language_info": {
   "codemirror_mode": {
    "name": "ipython",
    "version": 3
   },
   "file_extension": ".py",
   "mimetype": "text/x-python",
   "name": "python",
   "nbconvert_exporter": "python",
   "pygments_lexer": "ipython3",
   "version": "3.9.5"
  },
  "toc": {
   "base_numbering": 1,
   "nav_menu": {},
   "number_sections": true,
   "sideBar": true,
   "skip_h1_title": true,
   "title_cell": "Table of Contents",
   "title_sidebar": "Contents",
   "toc_cell": false,
   "toc_position": {
    "height": "calc(100% - 180px)",
    "left": "10px",
    "top": "150px",
    "width": "188.188px"
   },
   "toc_section_display": true,
   "toc_window_display": true
  }
 },
 "nbformat": 4,
 "nbformat_minor": 2
}
