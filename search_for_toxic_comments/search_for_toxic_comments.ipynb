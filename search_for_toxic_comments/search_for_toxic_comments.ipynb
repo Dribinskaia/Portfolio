{
 "cells": [
  {
   "cell_type": "markdown",
   "metadata": {},
   "source": [
    "# Поиск токсичных комментариев"
   ]
  },
  {
   "cell_type": "markdown",
   "metadata": {},
   "source": [
    "Интернет-магазин запускает сервис, в котором пользователи могут редактировать и дополнять описания товаров. Необходимо построить модель, которая который будет искать токсичные комментарии и отправлять их на модерацию. \n",
    "В распоряжении набор данных с разметкой о токсичности правок.\n",
    "Значение метрики качества *F1* должно быть не меньше 0.75. "
   ]
  },
  {
   "cell_type": "markdown",
   "metadata": {},
   "source": [
    "Исследование будет проходить в несколько этапов:\n",
    "- изучение данных, в том числе дисбаланса классов;\n",
    "- подготовка текстов: удаление знаков препинания, лишних символов, лемматизация;\n",
    "- выделение целевого и обучающих признаков;\n",
    "- разделение датафрейма на обучающий и тестовый;\n",
    "- обучение моделей Логистической регрессии, Дерева решений и градиентного бустинга LightGBM;\n",
    "- выбор оптимальной модели на основании метрики f1;\n",
    "- проверка выбранной модели на тестовой выборке"
   ]
  },
  {
   "cell_type": "markdown",
   "metadata": {},
   "source": [
    "## 1 Подготовка"
   ]
  },
  {
   "cell_type": "code",
   "execution_count": 15,
   "metadata": {},
   "outputs": [
    {
     "name": "stderr",
     "output_type": "stream",
     "text": [
      "[nltk_data] Downloading package averaged_perceptron_tagger to\n",
      "[nltk_data]     /home/jovyan/nltk_data...\n",
      "[nltk_data]   Package averaged_perceptron_tagger is already up-to-\n",
      "[nltk_data]       date!\n",
      "[nltk_data] Downloading package stopwords to /home/jovyan/nltk_data...\n",
      "[nltk_data]   Package stopwords is already up-to-date!\n"
     ]
    }
   ],
   "source": [
    "import pandas as pd\n",
    "import numpy as np\n",
    "import nltk\n",
    "import re \n",
    "\n",
    "from sklearn.model_selection import train_test_split\n",
    "from sklearn.model_selection import cross_val_score\n",
    "from sklearn.metrics import f1_score\n",
    "\n",
    "from nltk.corpus import stopwords \n",
    "nltk.download('averaged_perceptron_tagger')\n",
    "nltk.download('stopwords') \n",
    "from nltk.corpus import wordnet\n",
    "from sklearn.feature_extraction.text import TfidfVectorizer \n",
    "from nltk.stem import WordNetLemmatizer\n",
    "\n",
    "from sklearn.pipeline import Pipeline\n",
    "from sklearn.model_selection import GridSearchCV\n",
    "from sklearn.linear_model import LogisticRegression\n",
    "from sklearn.tree import DecisionTreeClassifier\n",
    "from sklearn.ensemble import RandomForestClassifier\n",
    "import lightgbm as lgb\n",
    "\n",
    "import warnings\n",
    "warnings.filterwarnings('ignore')\n",
    "\n",
    "import matplotlib\n",
    "import matplotlib.pyplot as plt\n",
    "from sklearn.datasets import make_classification\n",
    "from sklearn.metrics import confusion_matrix, ConfusionMatrixDisplay\n",
    "from tqdm.notebook import tqdm\n",
    "\n",
    "import seaborn as sns"
   ]
  },
  {
   "cell_type": "code",
   "execution_count": 16,
   "metadata": {},
   "outputs": [],
   "source": [
    "data = pd.read_csv('/datasets/toxic_comments.csv')"
   ]
  },
  {
   "cell_type": "markdown",
   "metadata": {},
   "source": [
    "### 1.1 Изучение данных"
   ]
  },
  {
   "cell_type": "code",
   "execution_count": 17,
   "metadata": {},
   "outputs": [
    {
     "data": {
      "text/html": [
       "<div>\n",
       "<style scoped>\n",
       "    .dataframe tbody tr th:only-of-type {\n",
       "        vertical-align: middle;\n",
       "    }\n",
       "\n",
       "    .dataframe tbody tr th {\n",
       "        vertical-align: top;\n",
       "    }\n",
       "\n",
       "    .dataframe thead th {\n",
       "        text-align: right;\n",
       "    }\n",
       "</style>\n",
       "<table border=\"1\" class=\"dataframe\">\n",
       "  <thead>\n",
       "    <tr style=\"text-align: right;\">\n",
       "      <th></th>\n",
       "      <th>Unnamed: 0</th>\n",
       "      <th>text</th>\n",
       "      <th>toxic</th>\n",
       "    </tr>\n",
       "  </thead>\n",
       "  <tbody>\n",
       "    <tr>\n",
       "      <th>0</th>\n",
       "      <td>0</td>\n",
       "      <td>Explanation\\nWhy the edits made under my usern...</td>\n",
       "      <td>0</td>\n",
       "    </tr>\n",
       "    <tr>\n",
       "      <th>1</th>\n",
       "      <td>1</td>\n",
       "      <td>D'aww! He matches this background colour I'm s...</td>\n",
       "      <td>0</td>\n",
       "    </tr>\n",
       "    <tr>\n",
       "      <th>2</th>\n",
       "      <td>2</td>\n",
       "      <td>Hey man, I'm really not trying to edit war. It...</td>\n",
       "      <td>0</td>\n",
       "    </tr>\n",
       "    <tr>\n",
       "      <th>3</th>\n",
       "      <td>3</td>\n",
       "      <td>\"\\nMore\\nI can't make any real suggestions on ...</td>\n",
       "      <td>0</td>\n",
       "    </tr>\n",
       "    <tr>\n",
       "      <th>4</th>\n",
       "      <td>4</td>\n",
       "      <td>You, sir, are my hero. Any chance you remember...</td>\n",
       "      <td>0</td>\n",
       "    </tr>\n",
       "  </tbody>\n",
       "</table>\n",
       "</div>"
      ],
      "text/plain": [
       "   Unnamed: 0                                               text  toxic\n",
       "0           0  Explanation\\nWhy the edits made under my usern...      0\n",
       "1           1  D'aww! He matches this background colour I'm s...      0\n",
       "2           2  Hey man, I'm really not trying to edit war. It...      0\n",
       "3           3  \"\\nMore\\nI can't make any real suggestions on ...      0\n",
       "4           4  You, sir, are my hero. Any chance you remember...      0"
      ]
     },
     "execution_count": 17,
     "metadata": {},
     "output_type": "execute_result"
    }
   ],
   "source": [
    "data.head()"
   ]
  },
  {
   "cell_type": "code",
   "execution_count": 18,
   "metadata": {},
   "outputs": [
    {
     "data": {
      "text/html": [
       "<div>\n",
       "<style scoped>\n",
       "    .dataframe tbody tr th:only-of-type {\n",
       "        vertical-align: middle;\n",
       "    }\n",
       "\n",
       "    .dataframe tbody tr th {\n",
       "        vertical-align: top;\n",
       "    }\n",
       "\n",
       "    .dataframe thead th {\n",
       "        text-align: right;\n",
       "    }\n",
       "</style>\n",
       "<table border=\"1\" class=\"dataframe\">\n",
       "  <thead>\n",
       "    <tr style=\"text-align: right;\">\n",
       "      <th></th>\n",
       "      <th>Unnamed: 0</th>\n",
       "      <th>text</th>\n",
       "      <th>toxic</th>\n",
       "    </tr>\n",
       "  </thead>\n",
       "  <tbody>\n",
       "    <tr>\n",
       "      <th>159287</th>\n",
       "      <td>159446</td>\n",
       "      <td>\":::::And for the second time of asking, when ...</td>\n",
       "      <td>0</td>\n",
       "    </tr>\n",
       "    <tr>\n",
       "      <th>159288</th>\n",
       "      <td>159447</td>\n",
       "      <td>You should be ashamed of yourself \\n\\nThat is ...</td>\n",
       "      <td>0</td>\n",
       "    </tr>\n",
       "    <tr>\n",
       "      <th>159289</th>\n",
       "      <td>159448</td>\n",
       "      <td>Spitzer \\n\\nUmm, theres no actual article for ...</td>\n",
       "      <td>0</td>\n",
       "    </tr>\n",
       "    <tr>\n",
       "      <th>159290</th>\n",
       "      <td>159449</td>\n",
       "      <td>And it looks like it was actually you who put ...</td>\n",
       "      <td>0</td>\n",
       "    </tr>\n",
       "    <tr>\n",
       "      <th>159291</th>\n",
       "      <td>159450</td>\n",
       "      <td>\"\\nAnd ... I really don't think you understand...</td>\n",
       "      <td>0</td>\n",
       "    </tr>\n",
       "  </tbody>\n",
       "</table>\n",
       "</div>"
      ],
      "text/plain": [
       "        Unnamed: 0                                               text  toxic\n",
       "159287      159446  \":::::And for the second time of asking, when ...      0\n",
       "159288      159447  You should be ashamed of yourself \\n\\nThat is ...      0\n",
       "159289      159448  Spitzer \\n\\nUmm, theres no actual article for ...      0\n",
       "159290      159449  And it looks like it was actually you who put ...      0\n",
       "159291      159450  \"\\nAnd ... I really don't think you understand...      0"
      ]
     },
     "execution_count": 18,
     "metadata": {},
     "output_type": "execute_result"
    }
   ],
   "source": [
    "data.tail()"
   ]
  },
  {
   "cell_type": "code",
   "execution_count": 19,
   "metadata": {},
   "outputs": [
    {
     "name": "stdout",
     "output_type": "stream",
     "text": [
      "<class 'pandas.core.frame.DataFrame'>\n",
      "RangeIndex: 159292 entries, 0 to 159291\n",
      "Data columns (total 3 columns):\n",
      " #   Column      Non-Null Count   Dtype \n",
      "---  ------      --------------   ----- \n",
      " 0   Unnamed: 0  159292 non-null  int64 \n",
      " 1   text        159292 non-null  object\n",
      " 2   toxic       159292 non-null  int64 \n",
      "dtypes: int64(2), object(1)\n",
      "memory usage: 3.6+ MB\n"
     ]
    }
   ],
   "source": [
    "data.info()"
   ]
  },
  {
   "cell_type": "code",
   "execution_count": 20,
   "metadata": {},
   "outputs": [
    {
     "data": {
      "text/plain": [
       "0"
      ]
     },
     "execution_count": 20,
     "metadata": {},
     "output_type": "execute_result"
    }
   ],
   "source": [
    "data.duplicated().sum()"
   ]
  },
  {
   "cell_type": "code",
   "execution_count": 42,
   "metadata": {},
   "outputs": [
    {
     "data": {
      "image/png": "[encoded data removed]",
      "text/plain": [
       "<Figure size 432x288 with 1 Axes>"
      ]
     },
     "metadata": {
      "needs_background": "light"
     },
     "output_type": "display_data"
    }
   ],
   "source": [
    "# рассмотрим соотношение классов\n",
    "data['toxic'].value_counts().plot.bar(rot=0, grid=True, title ='Соотношение классов');\n"
   ]
  },
  {
   "cell_type": "code",
   "execution_count": 43,
   "metadata": {},
   "outputs": [
    {
     "data": {
      "text/plain": [
       "0    143106\n",
       "1     16186\n",
       "Name: toxic, dtype: int64"
      ]
     },
     "execution_count": 43,
     "metadata": {},
     "output_type": "execute_result"
    }
   ],
   "source": [
    "data.toxic.value_counts()"
   ]
  },
  {
   "cell_type": "markdown",
   "metadata": {},
   "source": [
    "Итак, датафрейм состоит из 159292 объектов, пропуски и явные дубликаты отсутствуют. Тексты написаны на английском языке, в них присутствуют знаки препинания, буквы разного регистра, лишние символы и пробелы. Имеется дисбаланс классов - положительных почти в 9 раз больше, чем отрицательных, необходимо будет учесть это при обучении моделей. "
   ]
  },
  {
   "cell_type": "markdown",
   "metadata": {},
   "source": [
    "### 1.2 Подготовка данных"
   ]
  },
  {
   "cell_type": "markdown",
   "metadata": {},
   "source": [
    "Удалим из датафрейма столбец 'Unnamed: 0', поскольку он содержит нумерацию и не будет участвовать в создании признаков. "
   ]
  },
  {
   "cell_type": "code",
   "execution_count": 44,
   "metadata": {},
   "outputs": [],
   "source": [
    "data = data.drop('Unnamed: 0', axis=1)"
   ]
  },
  {
   "cell_type": "markdown",
   "metadata": {},
   "source": [
    "Подготовим тексты для создания признаков: приведем к нижнему регистру, избавимся от знаков препинания, лишних пробелов, лемматизируем. Чтобы исходный датафрейм также сохранился, сделаем его копию."
   ]
  },
  {
   "cell_type": "code",
   "execution_count": 45,
   "metadata": {},
   "outputs": [],
   "source": [
    "# Напишем функцию, которая приведет к нижнему регистру и очистит тексты\n",
    "def clear(text):\n",
    "    text = text.lower()\n",
    "    text = re.sub(r'[^a-zA-Z]', ' ', text)   \n",
    "    text = ' '.join(text.split())\n",
    "    return text"
   ]
  },
  {
   "cell_type": "code",
   "execution_count": 46,
   "metadata": {},
   "outputs": [
    {
     "name": "stdout",
     "output_type": "stream",
     "text": [
      "CPU times: user 3.93 s, sys: 22.2 ms, total: 3.96 s\n",
      "Wall time: 3.96 s\n"
     ]
    }
   ],
   "source": [
    "%%time\n",
    "data['text'] = data['text'].apply(clear) "
   ]
  },
  {
   "cell_type": "code",
   "execution_count": 47,
   "metadata": {},
   "outputs": [],
   "source": [
    "# Подготовим твитты для передачи лемматизатору, сперва токенизируем с помощью функции get_wordnet_pos\n",
    "def get_wordnet_pos(word):\n",
    "    tag = nltk.pos_tag([word])[0][1][0].upper()\n",
    "    tag_dict = {\"J\": wordnet.ADJ,             \n",
    "                \"N\": wordnet.NOUN,            \n",
    "                \"V\": wordnet.VERB,              \n",
    "                \"R\": wordnet.ADV}                \n",
    "                 \n",
    "    return tag_dict.get(tag, wordnet.NOUN)"
   ]
  },
  {
   "cell_type": "code",
   "execution_count": 48,
   "metadata": {},
   "outputs": [],
   "source": [
    "# Напишем функцию для лемматизации\n",
    "lemmatizer = WordNetLemmatizer()\n",
    "def lemm_text(text):\n",
    "    text = [lemmatizer.lemmatize(w, get_wordnet_pos(w)) for w in nltk.word_tokenize(text)]\n",
    "    return ' '.join(text)"
   ]
  },
  {
   "cell_type": "code",
   "execution_count": 49,
   "metadata": {},
   "outputs": [
    {
     "data": {
      "application/vnd.jupyter.widget-view+json": {
       "model_id": "d654be8466644ccd86b3beb51fa2da1a",
       "version_major": 2,
       "version_minor": 0
      },
      "text/plain": [
       "  0%|          | 0/159292 [00:00<?, ?it/s]"
      ]
     },
     "metadata": {},
     "output_type": "display_data"
    }
   ],
   "source": [
    "# Лемматизируем тексты\n",
    "tqdm.pandas()\n",
    "data_copy = data.copy()\n",
    "data['text'] = data['text'].progress_apply(lemm_text)"
   ]
  },
  {
   "cell_type": "code",
   "execution_count": 50,
   "metadata": {},
   "outputs": [
    {
     "data": {
      "text/html": [
       "<div>\n",
       "<style scoped>\n",
       "    .dataframe tbody tr th:only-of-type {\n",
       "        vertical-align: middle;\n",
       "    }\n",
       "\n",
       "    .dataframe tbody tr th {\n",
       "        vertical-align: top;\n",
       "    }\n",
       "\n",
       "    .dataframe thead th {\n",
       "        text-align: right;\n",
       "    }\n",
       "</style>\n",
       "<table border=\"1\" class=\"dataframe\">\n",
       "  <thead>\n",
       "    <tr style=\"text-align: right;\">\n",
       "      <th></th>\n",
       "      <th>text</th>\n",
       "      <th>toxic</th>\n",
       "    </tr>\n",
       "  </thead>\n",
       "  <tbody>\n",
       "    <tr>\n",
       "      <th>0</th>\n",
       "      <td>explanation why the edits make under my userna...</td>\n",
       "      <td>0</td>\n",
       "    </tr>\n",
       "    <tr>\n",
       "      <th>1</th>\n",
       "      <td>d aww he match this background colour i m seem...</td>\n",
       "      <td>0</td>\n",
       "    </tr>\n",
       "    <tr>\n",
       "      <th>2</th>\n",
       "      <td>hey man i m really not try to edit war it s ju...</td>\n",
       "      <td>0</td>\n",
       "    </tr>\n",
       "    <tr>\n",
       "      <th>3</th>\n",
       "      <td>more i can t make any real suggestion on impro...</td>\n",
       "      <td>0</td>\n",
       "    </tr>\n",
       "    <tr>\n",
       "      <th>4</th>\n",
       "      <td>you sir be my hero any chance you remember wha...</td>\n",
       "      <td>0</td>\n",
       "    </tr>\n",
       "    <tr>\n",
       "      <th>5</th>\n",
       "      <td>congratulation from me a well use the tool wel...</td>\n",
       "      <td>0</td>\n",
       "    </tr>\n",
       "    <tr>\n",
       "      <th>6</th>\n",
       "      <td>cocksucker before you piss around on my work</td>\n",
       "      <td>1</td>\n",
       "    </tr>\n",
       "    <tr>\n",
       "      <th>7</th>\n",
       "      <td>your vandalism to the matt shirvington article...</td>\n",
       "      <td>0</td>\n",
       "    </tr>\n",
       "    <tr>\n",
       "      <th>8</th>\n",
       "      <td>sorry if the word nonsense be offensive to you...</td>\n",
       "      <td>0</td>\n",
       "    </tr>\n",
       "    <tr>\n",
       "      <th>9</th>\n",
       "      <td>alignment on this subject and which be contrar...</td>\n",
       "      <td>0</td>\n",
       "    </tr>\n",
       "  </tbody>\n",
       "</table>\n",
       "</div>"
      ],
      "text/plain": [
       "                                                text  toxic\n",
       "0  explanation why the edits make under my userna...      0\n",
       "1  d aww he match this background colour i m seem...      0\n",
       "2  hey man i m really not try to edit war it s ju...      0\n",
       "3  more i can t make any real suggestion on impro...      0\n",
       "4  you sir be my hero any chance you remember wha...      0\n",
       "5  congratulation from me a well use the tool wel...      0\n",
       "6       cocksucker before you piss around on my work      1\n",
       "7  your vandalism to the matt shirvington article...      0\n",
       "8  sorry if the word nonsense be offensive to you...      0\n",
       "9  alignment on this subject and which be contrar...      0"
      ]
     },
     "execution_count": 50,
     "metadata": {},
     "output_type": "execute_result"
    }
   ],
   "source": [
    "data.head(10)"
   ]
  },
  {
   "cell_type": "code",
   "execution_count": 51,
   "metadata": {},
   "outputs": [
    {
     "name": "stdout",
     "output_type": "stream",
     "text": [
      "Размер обучающей выборки (127433, 1)\n",
      "Размер тестовой выборки (31859, 1)\n",
      "CPU times: user 22.8 ms, sys: 0 ns, total: 22.8 ms\n",
      "Wall time: 21.5 ms\n"
     ]
    }
   ],
   "source": [
    "%%time\n",
    "#разделяем датафрейм на обучающую и тестовую выборку\n",
    "features = data.drop(['toxic'], axis=1) \n",
    "target = data['toxic']\n",
    "\n",
    "features_train, features_test, target_train, target_test = train_test_split(features, \n",
    "                                                                              target, \n",
    "                                                                              test_size= .2, \n",
    "                                                                              random_state=12345)\n",
    "print('Размер обучающей выборки', features_train.shape)\n",
    "print('Размер тестовой выборки', features_test.shape)"
   ]
  },
  {
   "cell_type": "markdown",
   "metadata": {},
   "source": [
    "Из датафрейма удален столбец 'Unnamed: 0', поскольку он не будет использован в дальнейшем исследовании. Тексты очищены от лишних символов, пробелов, знаков препинания, лемматизированы. Выделен целевой признак 'toxic' и обучающий признак. Данные поделены на обучающую и тестовую выборку в соотношении 80 на 20. "
   ]
  },
  {
   "cell_type": "markdown",
   "metadata": {},
   "source": [
    "## 2 Обучение"
   ]
  },
  {
   "cell_type": "markdown",
   "metadata": {},
   "source": [
    "Обучим разные модели на полученных признаках. Подбор оптимальных гипепараметров будет осуществлен с помощью кросс-валидации. Метрикой качества будет f1. Во избежание утечки для обучения моделей и подбора гиперпараметров будут использованы пайплайны. "
   ]
  },
  {
   "cell_type": "markdown",
   "metadata": {},
   "source": [
    "### 2.1 Логистическая регрессия"
   ]
  },
  {
   "cell_type": "code",
   "execution_count": 52,
   "metadata": {},
   "outputs": [
    {
     "name": "stdout",
     "output_type": "stream",
     "text": [
      "f1 Логистической регрессии: 0.76\n",
      "Лучшие параметры Логистической регрессии: {'lr__C': 10}\n",
      "CPU times: user 5min 18s, sys: 7min 7s, total: 12min 26s\n",
      "Wall time: 12min 27s\n"
     ]
    }
   ],
   "source": [
    "%%time\n",
    "features_train = features_train.text\n",
    "# Создадим пайплайн из TfidfVectorizer и модели\n",
    "pipeline = Pipeline([('TVect', TfidfVectorizer(stop_words='english')), \n",
    "                     ('lr', LogisticRegression(random_state=12345, max_iter=200))]) # class_weight='balanced'))])\n",
    "                                                                                    # без балансировки f1 выше        \n",
    "\n",
    "parameters={'lr__C': (.1, 1, 5, 10)}\n",
    "           #'lr__solver': ('liblinear', 'saga','newton-cg', 'lbfgs')}}\n",
    "\n",
    "# Подберем гиперпараметры с гридсерч    \n",
    "grid_lr = GridSearchCV(pipeline, parameters,\n",
    "                    scoring='f1',\n",
    "                    cv=3)\n",
    "\n",
    "# обучим гридсерч и выведем лучшие значения метрики и гиперпараметров\n",
    "fit_lr = grid_lr.fit(features_train, target_train)\n",
    "f1_lr = round((fit_lr.best_score_), 2)             \n",
    "print('f1 Логистической регрессии:', f1_lr)\n",
    "print('Лучшие параметры Логистической регрессии:', grid_lr.best_params_)\n"
   ]
  },
  {
   "cell_type": "markdown",
   "metadata": {},
   "source": [
    "Логистическая регрессия без балансировки классов достигает требуемого значения f1 на обучающей выборке. "
   ]
  },
  {
   "cell_type": "markdown",
   "metadata": {},
   "source": [
    "### 2.2 Деверо решений"
   ]
  },
  {
   "cell_type": "code",
   "execution_count": 18,
   "metadata": {},
   "outputs": [
    {
     "name": "stdout",
     "output_type": "stream",
     "text": [
      "f1 Дерева решений: 0.65\n",
      "Лучшие параметры Дерева решений: {'dt__max_depth': 100}\n",
      "CPU times: user 5min 27s, sys: 0 ns, total: 5min 27s\n",
      "Wall time: 6min 17s\n"
     ]
    }
   ],
   "source": [
    "%%time\n",
    "# Создадим пайплайн из TfidfVectorizer и модели\n",
    "pipeline = Pipeline([('TVect', TfidfVectorizer(stop_words='english')), \n",
    "                     ('dt', DecisionTreeClassifier(random_state=12345, class_weight='balanced'))])\n",
    "\n",
    "\n",
    "parameters = {'dt__max_depth':(10,100,10)}\n",
    " \n",
    "# Подберем гиперпараметры с гридсерч    \n",
    "grid_dt = GridSearchCV(pipeline, parameters,\n",
    "                    scoring='f1',\n",
    "                    cv=3)\n",
    "\n",
    "# обучим гридсерч и выведем лучшие значения метрики и гиперпараметров\n",
    "fit_dt = grid_dt.fit(features_train, target_train)\n",
    "f1_dt = round((fit_dt.best_score_), 2)             \n",
    "print('f1 Дерева решений:', f1_dt)\n",
    "print('Лучшие параметры Дерева решений:', grid_dt.best_params_)"
   ]
  },
  {
   "cell_type": "markdown",
   "metadata": {},
   "source": [
    "f1 Дерева решений ниже, чем у Логистической регрессии и составляет 0.65"
   ]
  },
  {
   "cell_type": "markdown",
   "metadata": {},
   "source": [
    "### 2.3 Случайный лес"
   ]
  },
  {
   "cell_type": "code",
   "execution_count": 19,
   "metadata": {},
   "outputs": [
    {
     "name": "stdout",
     "output_type": "stream",
     "text": [
      "f1 Случайного леса: 0.55\n",
      "Лучшие параметры Случайного леса: {'rf__max_depth': 100, 'rf__n_estimators': 200}\n",
      "CPU times: user 21min 51s, sys: 0 ns, total: 21min 51s\n",
      "Wall time: 23min 58s\n"
     ]
    }
   ],
   "source": [
    "%%time\n",
    "RandomForestClassifier\n",
    "\n",
    "# Создадим пайплайн из TfidfVectorizer и модели\n",
    "pipeline = Pipeline([('TVect', TfidfVectorizer(stop_words='english')), \n",
    "                     ('rf', RandomForestClassifier(random_state=12345, class_weight='balanced'))])\n",
    "\n",
    "\n",
    "parameters = {'rf__max_depth':(10,100,10),\n",
    "             'rf__n_estimators':(100, 200, 10)}\n",
    " \n",
    "# Подберем гиперпараметры с гридсерч    \n",
    "grid_rf = GridSearchCV(pipeline, parameters,\n",
    "                    scoring='f1',\n",
    "                    cv=3)\n",
    "\n",
    "# обучим гридсерч и выведем лучшие значения метрики и гиперпараметров\n",
    "fit_rf = grid_rf.fit(features_train, target_train)\n",
    "f1_rf = round((fit_rf.best_score_), 2)             \n",
    "print('f1 Случайного леса:', f1_rf)\n",
    "print('Лучшие параметры Случайного леса:', grid_rf.best_params_)   "
   ]
  },
  {
   "cell_type": "markdown",
   "metadata": {},
   "source": [
    "Случайынй лес справляется с задачей хуже других моделей, значение f-меры всего 0,55."
   ]
  },
  {
   "cell_type": "markdown",
   "metadata": {},
   "source": [
    "### 2.4 Сводная таблица"
   ]
  },
  {
   "cell_type": "code",
   "execution_count": 21,
   "metadata": {},
   "outputs": [
    {
     "data": {
      "text/html": [
       "<div>\n",
       "<style scoped>\n",
       "    .dataframe tbody tr th:only-of-type {\n",
       "        vertical-align: middle;\n",
       "    }\n",
       "\n",
       "    .dataframe tbody tr th {\n",
       "        vertical-align: top;\n",
       "    }\n",
       "\n",
       "    .dataframe thead th {\n",
       "        text-align: right;\n",
       "    }\n",
       "</style>\n",
       "<table border=\"1\" class=\"dataframe\">\n",
       "  <thead>\n",
       "    <tr style=\"text-align: right;\">\n",
       "      <th></th>\n",
       "      <th>f1</th>\n",
       "      <th>Лучшие параметры</th>\n",
       "    </tr>\n",
       "  </thead>\n",
       "  <tbody>\n",
       "    <tr>\n",
       "      <th>Линейная регрессия</th>\n",
       "      <td>0.76</td>\n",
       "      <td>{'lr__C': 10, 'lr__solver': 'lbfgs'}</td>\n",
       "    </tr>\n",
       "    <tr>\n",
       "      <th>Дерево решений</th>\n",
       "      <td>0.65</td>\n",
       "      <td>{'dt__max_depth': 100}</td>\n",
       "    </tr>\n",
       "    <tr>\n",
       "      <th>Случайный лес</th>\n",
       "      <td>0.55</td>\n",
       "      <td>{'rf__max_depth': 100, 'rf__n_estimators': 200}</td>\n",
       "    </tr>\n",
       "  </tbody>\n",
       "</table>\n",
       "</div>"
      ],
      "text/plain": [
       "                      f1                                 Лучшие параметры\n",
       "Линейная регрессия  0.76             {'lr__C': 10, 'lr__solver': 'lbfgs'}\n",
       "Дерево решений      0.65                           {'dt__max_depth': 100}\n",
       "Случайный лес       0.55  {'rf__max_depth': 100, 'rf__n_estimators': 200}"
      ]
     },
     "execution_count": 21,
     "metadata": {},
     "output_type": "execute_result"
    }
   ],
   "source": [
    "# Соберем полученные данные в общую таблицу\n",
    "final_data = pd.DataFrame({'f1':[f1_lr, f1_dt, f1_rf],\\\n",
    "                         'Лучшие параметры':[grid_lr.best_params_, grid_dt.best_params_, grid_rf.best_params_]},\n",
    "                           index=['Линейная регрессия','Дерево решений','Случайный лес'])\n",
    "                         \n",
    "final_data"
   ]
  },
  {
   "cell_type": "markdown",
   "metadata": {},
   "source": [
    "Самое высокое значение метрики f1 показала модель логистической регрессии без балансировки классов. Самый низкий результат показала модель случайного леса (модель LightGBM считалась очень долго даже локально, а f1 показала ниже 0,7, поэтому была удалена из окончательной версии)."
   ]
  },
  {
   "cell_type": "markdown",
   "metadata": {},
   "source": [
    "### 2.5 Тестирование модели"
   ]
  },
  {
   "cell_type": "code",
   "execution_count": 23,
   "metadata": {},
   "outputs": [
    {
     "data": {
      "text/plain": [
       "0.781871648503719"
      ]
     },
     "execution_count": 23,
     "metadata": {},
     "output_type": "execute_result"
    }
   ],
   "source": [
    "# в уже обученный грид передаем признаки тестовой выборки\n",
    "predictions_test = grid_lr.predict(features_test.text)\n",
    "lr_test_f1 = f1_score(target_test, predictions_test)\n",
    "lr_test_f1"
   ]
  },
  {
   "cell_type": "markdown",
   "metadata": {},
   "source": [
    "f1 модели на тестовой выборке 0,78, что соответствует требуемому значению метрики."
   ]
  },
  {
   "cell_type": "code",
   "execution_count": 47,
   "metadata": {},
   "outputs": [
    {
     "data": {
      "image/png": "[encoded data removed]",
      "text/plain": [
       "<Figure size 432x288 with 2 Axes>"
      ]
     },
     "metadata": {
      "needs_background": "light"
     },
     "output_type": "display_data"
    }
   ],
   "source": [
    "# Выведем матрицу ошибок\n",
    "cm = confusion_matrix(target_test, predictions_test)\n",
    "disp = ConfusionMatrixDisplay(confusion_matrix=cm)                            \n",
    "disp.plot()\n",
    "plt.title('Матрица ошибок')\n",
    "plt.show();\n"
   ]
  },
  {
   "cell_type": "markdown",
   "metadata": {},
   "source": [
    "## 3 Выводы"
   ]
  },
  {
   "cell_type": "markdown",
   "metadata": {},
   "source": [
    "В ходе исследования были выполнены следующие шаги:\n",
    "- Из датафрейма удалены сведения, не учавствующие в обучении моделей;\n",
    "- тектсты очищены от знаков препинания, лишних символов и пробелов, лемматизированы;\n",
    "- лемматизация текста заняла около 20 минут;\n",
    "- данные были разделены на обучающую и тестовую выборки в соотношении 80  на 20, выделен целевой признак 'toxic';\n",
    "- в данных имелся дисбаланс классов - токсичных комментариев ожидаемо сильно меньше, чем не токсичных;\n",
    "- были обучены модели логистической регрессии, дерева решений и случайного леса;\n",
    "- подбор гиперпараметров осуществлялся с помощью кросс-валидации, метрикой качества являлась f-мера;\n",
    "- в результате исследования для дальнейшего внедрения рекомендуется модель логистической регрессии, как модель с самым высоким значением метрики;\n",
    "- данная модель также хороша высокой скоростью работы и легкой интерпретируемостью;\n",
    "- выбраная модель проверена на тестовой выборке, результаты ее предсказаний отображены в матрице ошибок."
   ]
  },
  {
   "cell_type": "code",
   "execution_count": null,
   "metadata": {},
   "outputs": [],
   "source": []
  }
 ],
 "metadata": {
  "ExecuteTimeLog": [
   {
    "duration": 1289,
    "start_time": "2023-03-09T12:22:14.135Z"
   },
   {
    "duration": 2488,
    "start_time": "2023-03-09T12:22:15.426Z"
   },
   {
    "duration": 16,
    "start_time": "2023-03-09T12:22:21.720Z"
   },
   {
    "duration": 34,
    "start_time": "2023-03-09T12:22:35.318Z"
   },
   {
    "duration": 3,
    "start_time": "2023-03-09T12:25:33.598Z"
   },
   {
    "duration": 869,
    "start_time": "2023-03-09T12:25:39.943Z"
   },
   {
    "duration": 7,
    "start_time": "2023-03-09T12:25:40.814Z"
   },
   {
    "duration": 30,
    "start_time": "2023-03-09T12:25:40.854Z"
   },
   {
    "duration": 9,
    "start_time": "2023-03-09T13:03:30.156Z"
   },
   {
    "duration": 2367,
    "start_time": "2023-03-09T13:06:59.515Z"
   },
   {
    "duration": 12,
    "start_time": "2023-03-09T13:08:02.563Z"
   },
   {
    "duration": 12,
    "start_time": "2023-03-09T13:11:45.516Z"
   },
   {
    "duration": 8,
    "start_time": "2023-03-09T13:11:54.101Z"
   },
   {
    "duration": 182,
    "start_time": "2023-03-09T13:12:04.537Z"
   },
   {
    "duration": 7,
    "start_time": "2023-03-09T13:12:05.013Z"
   },
   {
    "duration": 13,
    "start_time": "2023-03-09T13:12:13.205Z"
   },
   {
    "duration": 3,
    "start_time": "2023-03-09T13:12:17.362Z"
   },
   {
    "duration": 940,
    "start_time": "2023-03-09T13:12:17.526Z"
   },
   {
    "duration": 10,
    "start_time": "2023-03-09T13:12:18.469Z"
   },
   {
    "duration": 14,
    "start_time": "2023-03-09T13:12:18.481Z"
   },
   {
    "duration": 38,
    "start_time": "2023-03-09T13:12:19.343Z"
   },
   {
    "duration": 127,
    "start_time": "2023-03-09T13:12:20.215Z"
   },
   {
    "duration": 10,
    "start_time": "2023-03-09T13:12:20.916Z"
   },
   {
    "duration": 1076,
    "start_time": "2023-03-09T13:13:49.749Z"
   },
   {
    "duration": 806,
    "start_time": "2023-03-09T13:14:01.602Z"
   },
   {
    "duration": 914,
    "start_time": "2023-03-09T13:14:54.012Z"
   },
   {
    "duration": 819,
    "start_time": "2023-03-09T13:17:01.364Z"
   },
   {
    "duration": 841,
    "start_time": "2023-03-09T13:18:30.641Z"
   },
   {
    "duration": 863,
    "start_time": "2023-03-09T13:18:51.849Z"
   },
   {
    "duration": 846,
    "start_time": "2023-03-09T13:19:06.097Z"
   },
   {
    "duration": 860,
    "start_time": "2023-03-09T13:19:32.189Z"
   },
   {
    "duration": 824,
    "start_time": "2023-03-09T13:19:39.757Z"
   },
   {
    "duration": 32,
    "start_time": "2023-03-09T13:20:03.050Z"
   },
   {
    "duration": 57,
    "start_time": "2023-03-09T13:21:41.819Z"
   },
   {
    "duration": 1497,
    "start_time": "2023-03-09T13:21:46.829Z"
   },
   {
    "duration": 2709,
    "start_time": "2023-03-09T13:21:48.328Z"
   },
   {
    "duration": 18,
    "start_time": "2023-03-09T13:21:51.039Z"
   },
   {
    "duration": 798,
    "start_time": "2023-03-09T13:21:51.058Z"
   },
   {
    "duration": 33,
    "start_time": "2023-03-09T13:21:53.888Z"
   },
   {
    "duration": 12,
    "start_time": "2023-03-09T13:21:55.418Z"
   },
   {
    "duration": 2123,
    "start_time": "2023-03-09T13:21:56.377Z"
   },
   {
    "duration": 890,
    "start_time": "2023-03-09T13:21:58.502Z"
   },
   {
    "duration": 3,
    "start_time": "2023-03-09T13:28:07.917Z"
   },
   {
    "duration": 907,
    "start_time": "2023-03-09T13:28:08.276Z"
   },
   {
    "duration": 8,
    "start_time": "2023-03-09T13:28:09.185Z"
   },
   {
    "duration": 8,
    "start_time": "2023-03-09T13:28:09.322Z"
   },
   {
    "duration": 40,
    "start_time": "2023-03-09T13:28:09.949Z"
   },
   {
    "duration": 11,
    "start_time": "2023-03-09T13:28:11.092Z"
   },
   {
    "duration": 59,
    "start_time": "2023-03-09T13:28:13.723Z"
   },
   {
    "duration": 1203,
    "start_time": "2023-03-09T13:28:35.290Z"
   },
   {
    "duration": 2662,
    "start_time": "2023-03-09T13:28:36.495Z"
   },
   {
    "duration": 21,
    "start_time": "2023-03-09T13:28:39.159Z"
   },
   {
    "duration": 7,
    "start_time": "2023-03-09T13:28:39.182Z"
   },
   {
    "duration": 39,
    "start_time": "2023-03-09T13:28:39.191Z"
   },
   {
    "duration": 12,
    "start_time": "2023-03-09T13:28:41.615Z"
   },
   {
    "duration": 2067,
    "start_time": "2023-03-09T13:28:41.988Z"
   },
   {
    "duration": 1065,
    "start_time": "2023-03-09T13:28:44.057Z"
   },
   {
    "duration": 6,
    "start_time": "2023-03-09T13:28:45.125Z"
   },
   {
    "duration": 5,
    "start_time": "2023-03-09T13:29:53.438Z"
   },
   {
    "duration": 8,
    "start_time": "2023-03-09T13:32:05.288Z"
   },
   {
    "duration": 921,
    "start_time": "2023-03-09T13:32:05.776Z"
   },
   {
    "duration": 13,
    "start_time": "2023-03-09T13:32:06.701Z"
   },
   {
    "duration": 12,
    "start_time": "2023-03-09T13:32:06.730Z"
   },
   {
    "duration": 36,
    "start_time": "2023-03-09T13:32:07.571Z"
   },
   {
    "duration": 13,
    "start_time": "2023-03-09T13:32:08.351Z"
   },
   {
    "duration": 1248,
    "start_time": "2023-03-09T13:32:28.634Z"
   },
   {
    "duration": 2771,
    "start_time": "2023-03-09T13:32:29.885Z"
   },
   {
    "duration": 23,
    "start_time": "2023-03-09T13:32:32.658Z"
   },
   {
    "duration": 10,
    "start_time": "2023-03-09T13:32:32.683Z"
   },
   {
    "duration": 36,
    "start_time": "2023-03-09T13:32:32.695Z"
   },
   {
    "duration": 11,
    "start_time": "2023-03-09T13:32:36.179Z"
   },
   {
    "duration": 2121,
    "start_time": "2023-03-09T13:32:37.093Z"
   },
   {
    "duration": 1029,
    "start_time": "2023-03-09T13:32:39.216Z"
   },
   {
    "duration": 6,
    "start_time": "2023-03-09T13:32:40.247Z"
   },
   {
    "duration": 9371,
    "start_time": "2023-03-09T13:36:10.451Z"
   },
   {
    "duration": 9422,
    "start_time": "2023-03-09T13:36:24.206Z"
   },
   {
    "duration": 6,
    "start_time": "2023-03-09T13:36:57.953Z"
   },
   {
    "duration": 9119,
    "start_time": "2023-03-09T13:36:58.625Z"
   },
   {
    "duration": 4,
    "start_time": "2023-03-09T13:37:16.756Z"
   },
   {
    "duration": 791,
    "start_time": "2023-03-09T13:37:17.055Z"
   },
   {
    "duration": 7,
    "start_time": "2023-03-09T13:37:17.848Z"
   },
   {
    "duration": 24,
    "start_time": "2023-03-09T13:37:17.857Z"
   },
   {
    "duration": 36,
    "start_time": "2023-03-09T13:37:18.261Z"
   },
   {
    "duration": 17,
    "start_time": "2023-03-09T13:37:18.965Z"
   },
   {
    "duration": 2095,
    "start_time": "2023-03-09T13:37:19.242Z"
   },
   {
    "duration": 891,
    "start_time": "2023-03-09T13:37:21.340Z"
   },
   {
    "duration": 6,
    "start_time": "2023-03-09T13:37:22.233Z"
   },
   {
    "duration": 12239,
    "start_time": "2023-03-09T13:37:22.243Z"
   },
   {
    "duration": 11922,
    "start_time": "2023-03-09T13:37:48.980Z"
   },
   {
    "duration": 207,
    "start_time": "2023-03-09T13:39:03.980Z"
   },
   {
    "duration": 1005,
    "start_time": "2023-03-09T13:39:04.190Z"
   },
   {
    "duration": 9,
    "start_time": "2023-03-09T13:39:05.197Z"
   },
   {
    "duration": 24,
    "start_time": "2023-03-09T13:39:05.208Z"
   },
   {
    "duration": 45,
    "start_time": "2023-03-09T13:39:05.234Z"
   },
   {
    "duration": 24,
    "start_time": "2023-03-09T13:39:05.281Z"
   },
   {
    "duration": 65,
    "start_time": "2023-03-09T13:39:08.140Z"
   },
   {
    "duration": 1613,
    "start_time": "2023-03-09T13:41:16.964Z"
   },
   {
    "duration": 2590,
    "start_time": "2023-03-09T13:41:18.580Z"
   },
   {
    "duration": 13,
    "start_time": "2023-03-09T13:41:21.172Z"
   },
   {
    "duration": 14,
    "start_time": "2023-03-09T13:41:21.188Z"
   },
   {
    "duration": 50,
    "start_time": "2023-03-09T13:41:21.204Z"
   },
   {
    "duration": 26,
    "start_time": "2023-03-09T13:41:21.256Z"
   },
   {
    "duration": 2047,
    "start_time": "2023-03-09T13:41:21.284Z"
   },
   {
    "duration": 992,
    "start_time": "2023-03-09T13:41:23.333Z"
   },
   {
    "duration": 5,
    "start_time": "2023-03-09T13:41:24.329Z"
   },
   {
    "duration": 11420,
    "start_time": "2023-03-09T13:41:52.913Z"
   },
   {
    "duration": 11446,
    "start_time": "2023-03-09T13:42:39.176Z"
   },
   {
    "duration": 2520,
    "start_time": "2023-03-09T13:46:01.622Z"
   },
   {
    "duration": 30098,
    "start_time": "2023-03-09T13:46:48.884Z"
   },
   {
    "duration": 5,
    "start_time": "2023-03-09T13:47:42.176Z"
   },
   {
    "duration": 901,
    "start_time": "2023-03-09T13:47:43.124Z"
   },
   {
    "duration": 9,
    "start_time": "2023-03-09T13:47:45.199Z"
   },
   {
    "duration": 8,
    "start_time": "2023-03-09T13:47:45.376Z"
   },
   {
    "duration": 33,
    "start_time": "2023-03-09T13:47:45.525Z"
   },
   {
    "duration": 11,
    "start_time": "2023-03-09T13:47:46.077Z"
   },
   {
    "duration": 2071,
    "start_time": "2023-03-09T13:47:46.427Z"
   },
   {
    "duration": 1673,
    "start_time": "2023-03-09T13:48:43.116Z"
   },
   {
    "duration": 2743,
    "start_time": "2023-03-09T13:48:44.792Z"
   },
   {
    "duration": 16,
    "start_time": "2023-03-09T13:48:47.536Z"
   },
   {
    "duration": 7,
    "start_time": "2023-03-09T13:48:47.554Z"
   },
   {
    "duration": 48,
    "start_time": "2023-03-09T13:48:47.563Z"
   },
   {
    "duration": 11,
    "start_time": "2023-03-09T13:48:47.613Z"
   },
   {
    "duration": 2133,
    "start_time": "2023-03-09T13:48:47.626Z"
   },
   {
    "duration": 928,
    "start_time": "2023-03-09T13:48:49.761Z"
   },
   {
    "duration": 5,
    "start_time": "2023-03-09T13:48:50.691Z"
   },
   {
    "duration": 11052,
    "start_time": "2023-03-09T13:48:50.698Z"
   },
   {
    "duration": 29586,
    "start_time": "2023-03-09T13:49:01.752Z"
   },
   {
    "duration": 131,
    "start_time": "2023-03-09T13:49:48.323Z"
   },
   {
    "duration": 2255,
    "start_time": "2023-03-09T13:50:34.043Z"
   },
   {
    "duration": 56,
    "start_time": "2023-03-09T13:52:17.733Z"
   },
   {
    "duration": 1743,
    "start_time": "2023-03-09T13:52:26.390Z"
   },
   {
    "duration": 2950,
    "start_time": "2023-03-09T13:52:28.135Z"
   },
   {
    "duration": 14,
    "start_time": "2023-03-09T13:52:31.088Z"
   },
   {
    "duration": 30,
    "start_time": "2023-03-09T13:52:31.105Z"
   },
   {
    "duration": 70,
    "start_time": "2023-03-09T13:52:31.137Z"
   },
   {
    "duration": 44,
    "start_time": "2023-03-09T13:52:31.209Z"
   },
   {
    "duration": 2252,
    "start_time": "2023-03-09T13:52:31.255Z"
   },
   {
    "duration": 1235,
    "start_time": "2023-03-09T13:52:33.509Z"
   },
   {
    "duration": 6,
    "start_time": "2023-03-09T13:52:34.746Z"
   },
   {
    "duration": 11605,
    "start_time": "2023-03-09T13:52:34.756Z"
   },
   {
    "duration": 30690,
    "start_time": "2023-03-09T13:52:46.364Z"
   },
   {
    "duration": 1650,
    "start_time": "2023-03-09T13:57:17.999Z"
   },
   {
    "duration": 2773,
    "start_time": "2023-03-09T13:57:19.652Z"
   },
   {
    "duration": 16,
    "start_time": "2023-03-09T13:57:22.426Z"
   },
   {
    "duration": 40,
    "start_time": "2023-03-09T13:57:22.445Z"
   },
   {
    "duration": 70,
    "start_time": "2023-03-09T13:57:22.487Z"
   },
   {
    "duration": 71,
    "start_time": "2023-03-09T13:57:22.559Z"
   },
   {
    "duration": 2205,
    "start_time": "2023-03-09T13:57:22.632Z"
   },
   {
    "duration": 1184,
    "start_time": "2023-03-09T13:57:24.839Z"
   },
   {
    "duration": 7,
    "start_time": "2023-03-09T13:57:26.027Z"
   },
   {
    "duration": 11757,
    "start_time": "2023-03-09T13:57:26.037Z"
   },
   {
    "duration": 30721,
    "start_time": "2023-03-09T13:57:37.795Z"
   },
   {
    "duration": 15036,
    "start_time": "2023-03-09T13:58:08.519Z"
   },
   {
    "duration": 73,
    "start_time": "2023-03-09T14:21:02.859Z"
   },
   {
    "duration": 1731,
    "start_time": "2023-03-09T14:21:08.896Z"
   },
   {
    "duration": 2937,
    "start_time": "2023-03-09T14:21:10.629Z"
   },
   {
    "duration": 17,
    "start_time": "2023-03-09T14:21:13.573Z"
   },
   {
    "duration": 14,
    "start_time": "2023-03-09T14:21:13.593Z"
   },
   {
    "duration": 41,
    "start_time": "2023-03-09T14:21:13.609Z"
   },
   {
    "duration": 22,
    "start_time": "2023-03-09T14:21:13.652Z"
   },
   {
    "duration": 2179,
    "start_time": "2023-03-09T14:21:13.676Z"
   },
   {
    "duration": 133,
    "start_time": "2023-03-09T14:21:15.857Z"
   },
   {
    "duration": 1007,
    "start_time": "2023-03-09T14:21:32.959Z"
   },
   {
    "duration": 18,
    "start_time": "2023-03-09T14:25:02.387Z"
   },
   {
    "duration": 2650,
    "start_time": "2023-03-09T17:12:26.883Z"
   },
   {
    "duration": 2664,
    "start_time": "2023-03-09T17:12:29.535Z"
   },
   {
    "duration": 16,
    "start_time": "2023-03-09T17:12:32.200Z"
   },
   {
    "duration": 7,
    "start_time": "2023-03-09T17:12:33.882Z"
   },
   {
    "duration": 34,
    "start_time": "2023-03-09T17:12:36.129Z"
   },
   {
    "duration": 11,
    "start_time": "2023-03-09T17:12:38.833Z"
   },
   {
    "duration": 2,
    "start_time": "2023-03-09T17:12:40.818Z"
   },
   {
    "duration": 0,
    "start_time": "2023-03-09T17:32:04.705Z"
   },
   {
    "duration": 0,
    "start_time": "2023-03-09T17:32:04.707Z"
   },
   {
    "duration": 0,
    "start_time": "2023-03-09T17:32:04.708Z"
   },
   {
    "duration": 0,
    "start_time": "2023-03-09T17:32:04.709Z"
   },
   {
    "duration": 0,
    "start_time": "2023-03-09T17:32:04.710Z"
   },
   {
    "duration": 8,
    "start_time": "2023-03-09T17:32:19.866Z"
   },
   {
    "duration": 1650,
    "start_time": "2023-03-10T06:35:06.018Z"
   },
   {
    "duration": 2791,
    "start_time": "2023-03-10T06:35:07.671Z"
   },
   {
    "duration": 15,
    "start_time": "2023-03-10T06:35:10.464Z"
   },
   {
    "duration": 7,
    "start_time": "2023-03-10T06:35:11.406Z"
   },
   {
    "duration": 31,
    "start_time": "2023-03-10T06:35:13.200Z"
   },
   {
    "duration": 11,
    "start_time": "2023-03-10T06:35:13.859Z"
   },
   {
    "duration": 2,
    "start_time": "2023-03-10T06:35:14.331Z"
   },
   {
    "duration": 4,
    "start_time": "2023-03-10T06:35:15.039Z"
   },
   {
    "duration": 1603,
    "start_time": "2023-03-10T06:38:14.673Z"
   },
   {
    "duration": 935,
    "start_time": "2023-03-10T06:38:16.278Z"
   },
   {
    "duration": 15,
    "start_time": "2023-03-10T06:38:17.306Z"
   },
   {
    "duration": 8,
    "start_time": "2023-03-10T06:38:18.022Z"
   },
   {
    "duration": 37,
    "start_time": "2023-03-10T06:38:18.689Z"
   },
   {
    "duration": 11,
    "start_time": "2023-03-10T06:38:22.032Z"
   },
   {
    "duration": 3,
    "start_time": "2023-03-10T06:38:22.614Z"
   },
   {
    "duration": 6,
    "start_time": "2023-03-10T06:38:24.178Z"
   },
   {
    "duration": 392818,
    "start_time": "2023-03-10T06:38:24.802Z"
   },
   {
    "duration": 11,
    "start_time": "2023-03-10T06:45:13.918Z"
   },
   {
    "duration": 6,
    "start_time": "2023-03-10T06:45:16.846Z"
   },
   {
    "duration": 3249,
    "start_time": "2023-03-10T10:45:20.823Z"
   },
   {
    "duration": 916,
    "start_time": "2023-03-10T10:45:24.081Z"
   },
   {
    "duration": 15,
    "start_time": "2023-03-10T10:45:25.634Z"
   },
   {
    "duration": 8,
    "start_time": "2023-03-10T10:45:26.569Z"
   },
   {
    "duration": 33,
    "start_time": "2023-03-10T10:45:29.183Z"
   },
   {
    "duration": 11,
    "start_time": "2023-03-10T10:45:30.779Z"
   },
   {
    "duration": 3,
    "start_time": "2023-03-10T10:45:31.426Z"
   },
   {
    "duration": 4,
    "start_time": "2023-03-10T10:45:34.105Z"
   },
   {
    "duration": 187,
    "start_time": "2023-03-10T10:45:35.178Z"
   },
   {
    "duration": 7549,
    "start_time": "2023-03-10T10:45:51.673Z"
   },
   {
    "duration": 4,
    "start_time": "2023-03-10T10:47:03.483Z"
   },
   {
    "duration": 3,
    "start_time": "2023-03-10T10:47:04.104Z"
   },
   {
    "duration": 30,
    "start_time": "2023-03-10T10:47:05.391Z"
   },
   {
    "duration": 12,
    "start_time": "2023-03-10T10:47:07.034Z"
   },
   {
    "duration": 17,
    "start_time": "2023-03-10T10:47:31.600Z"
   },
   {
    "duration": 62,
    "start_time": "2023-03-10T11:02:46.840Z"
   },
   {
    "duration": 894,
    "start_time": "2023-03-10T11:02:48.217Z"
   },
   {
    "duration": 8,
    "start_time": "2023-03-10T11:02:49.113Z"
   },
   {
    "duration": 11,
    "start_time": "2023-03-10T11:02:49.873Z"
   },
   {
    "duration": 45,
    "start_time": "2023-03-10T11:02:50.384Z"
   },
   {
    "duration": 11,
    "start_time": "2023-03-10T11:02:51.563Z"
   },
   {
    "duration": 4,
    "start_time": "2023-03-10T11:02:52.077Z"
   },
   {
    "duration": 4,
    "start_time": "2023-03-10T11:02:52.873Z"
   },
   {
    "duration": 6539,
    "start_time": "2023-03-10T11:02:53.779Z"
   },
   {
    "duration": 5,
    "start_time": "2023-03-10T11:03:00.320Z"
   },
   {
    "duration": 6,
    "start_time": "2023-03-10T11:10:25.080Z"
   },
   {
    "duration": 784,
    "start_time": "2023-03-10T11:10:25.860Z"
   },
   {
    "duration": 7,
    "start_time": "2023-03-10T11:10:26.646Z"
   },
   {
    "duration": 8,
    "start_time": "2023-03-10T11:10:26.821Z"
   },
   {
    "duration": 35,
    "start_time": "2023-03-10T11:10:29.859Z"
   },
   {
    "duration": 12,
    "start_time": "2023-03-10T11:10:31.189Z"
   },
   {
    "duration": 2,
    "start_time": "2023-03-10T11:10:31.521Z"
   },
   {
    "duration": 3,
    "start_time": "2023-03-10T11:10:32.064Z"
   },
   {
    "duration": 6256,
    "start_time": "2023-03-10T11:10:32.883Z"
   },
   {
    "duration": 36,
    "start_time": "2023-03-10T11:10:42.619Z"
   },
   {
    "duration": 15,
    "start_time": "2023-03-10T11:10:45.650Z"
   },
   {
    "duration": 7,
    "start_time": "2023-03-10T11:13:15.561Z"
   },
   {
    "duration": 882,
    "start_time": "2023-03-10T11:13:16.665Z"
   },
   {
    "duration": 7,
    "start_time": "2023-03-10T11:13:17.602Z"
   },
   {
    "duration": 8,
    "start_time": "2023-03-10T11:13:17.768Z"
   },
   {
    "duration": 36,
    "start_time": "2023-03-10T11:13:17.923Z"
   },
   {
    "duration": 12,
    "start_time": "2023-03-10T11:13:18.264Z"
   },
   {
    "duration": 2,
    "start_time": "2023-03-10T11:13:18.460Z"
   },
   {
    "duration": 4,
    "start_time": "2023-03-10T11:13:19.072Z"
   },
   {
    "duration": 6205,
    "start_time": "2023-03-10T11:13:19.273Z"
   },
   {
    "duration": 5900,
    "start_time": "2023-03-10T11:13:29.569Z"
   },
   {
    "duration": 1762,
    "start_time": "2023-03-10T11:13:37.128Z"
   },
   {
    "duration": 4,
    "start_time": "2023-03-10T11:13:38.893Z"
   },
   {
    "duration": 3,
    "start_time": "2023-03-10T11:13:40.505Z"
   },
   {
    "duration": 622,
    "start_time": "2023-03-10T12:38:08.457Z"
   },
   {
    "duration": 62,
    "start_time": "2023-03-10T13:27:05.472Z"
   },
   {
    "duration": 23,
    "start_time": "2023-03-10T13:27:11.653Z"
   },
   {
    "duration": 270,
    "start_time": "2023-03-10T13:27:17.613Z"
   },
   {
    "duration": 913,
    "start_time": "2023-03-10T13:27:17.885Z"
   },
   {
    "duration": 11,
    "start_time": "2023-03-10T13:27:18.800Z"
   },
   {
    "duration": 15,
    "start_time": "2023-03-10T13:27:18.813Z"
   },
   {
    "duration": 60,
    "start_time": "2023-03-10T13:27:18.831Z"
   },
   {
    "duration": 181,
    "start_time": "2023-03-10T13:27:18.893Z"
   },
   {
    "duration": 13,
    "start_time": "2023-03-10T13:27:19.078Z"
   },
   {
    "duration": 2,
    "start_time": "2023-03-10T13:27:19.706Z"
   },
   {
    "duration": 4,
    "start_time": "2023-03-10T13:27:20.176Z"
   },
   {
    "duration": 6294,
    "start_time": "2023-03-10T13:27:20.496Z"
   },
   {
    "duration": 3,
    "start_time": "2023-03-10T13:27:26.792Z"
   },
   {
    "duration": 35,
    "start_time": "2023-03-10T13:27:26.797Z"
   },
   {
    "duration": 92,
    "start_time": "2023-03-10T13:27:26.836Z"
   },
   {
    "duration": 5679,
    "start_time": "2023-03-10T13:27:26.930Z"
   },
   {
    "duration": 1690,
    "start_time": "2023-03-10T13:27:32.611Z"
   },
   {
    "duration": 6,
    "start_time": "2023-03-10T13:27:34.303Z"
   },
   {
    "duration": 13,
    "start_time": "2023-03-10T13:27:34.311Z"
   },
   {
    "duration": 26,
    "start_time": "2023-03-10T13:27:34.326Z"
   },
   {
    "duration": 203024,
    "start_time": "2023-03-10T13:27:49.154Z"
   },
   {
    "duration": 8,
    "start_time": "2023-03-10T13:32:59.012Z"
   },
   {
    "duration": 825,
    "start_time": "2023-03-10T13:33:00.216Z"
   },
   {
    "duration": 9,
    "start_time": "2023-03-10T13:33:01.043Z"
   },
   {
    "duration": 8,
    "start_time": "2023-03-10T13:33:01.522Z"
   },
   {
    "duration": 35,
    "start_time": "2023-03-10T13:33:02.114Z"
   },
   {
    "duration": 152,
    "start_time": "2023-03-10T13:33:02.754Z"
   },
   {
    "duration": 16,
    "start_time": "2023-03-10T13:33:03.853Z"
   },
   {
    "duration": 3,
    "start_time": "2023-03-10T13:33:04.185Z"
   },
   {
    "duration": 4,
    "start_time": "2023-03-10T13:33:04.921Z"
   },
   {
    "duration": 6390,
    "start_time": "2023-03-10T13:33:05.301Z"
   },
   {
    "duration": 9,
    "start_time": "2023-03-10T13:33:11.694Z"
   },
   {
    "duration": 31,
    "start_time": "2023-03-10T13:33:11.706Z"
   },
   {
    "duration": 66,
    "start_time": "2023-03-10T13:33:11.740Z"
   },
   {
    "duration": 5491,
    "start_time": "2023-03-10T13:33:11.808Z"
   },
   {
    "duration": 1770,
    "start_time": "2023-03-10T13:33:17.301Z"
   },
   {
    "duration": 3,
    "start_time": "2023-03-10T13:33:20.236Z"
   },
   {
    "duration": 3,
    "start_time": "2023-03-10T13:33:22.057Z"
   },
   {
    "duration": 201949,
    "start_time": "2023-03-10T13:33:23.330Z"
   },
   {
    "duration": 23920,
    "start_time": "2023-03-10T13:37:52.030Z"
   },
   {
    "duration": 268642,
    "start_time": "2023-03-10T13:38:25.059Z"
   },
   {
    "duration": 6,
    "start_time": "2023-03-10T13:48:36.831Z"
   },
   {
    "duration": 16,
    "start_time": "2023-03-10T13:49:36.066Z"
   },
   {
    "duration": 16,
    "start_time": "2023-03-10T13:49:49.888Z"
   },
   {
    "duration": 7,
    "start_time": "2023-03-10T13:50:13.419Z"
   },
   {
    "duration": 832,
    "start_time": "2023-03-10T13:50:13.999Z"
   },
   {
    "duration": 7,
    "start_time": "2023-03-10T13:50:14.834Z"
   },
   {
    "duration": 29,
    "start_time": "2023-03-10T13:50:14.843Z"
   },
   {
    "duration": 39,
    "start_time": "2023-03-10T13:50:14.874Z"
   },
   {
    "duration": 148,
    "start_time": "2023-03-10T13:50:14.921Z"
   },
   {
    "duration": 11,
    "start_time": "2023-03-10T13:50:15.824Z"
   },
   {
    "duration": 3,
    "start_time": "2023-03-10T13:50:16.030Z"
   },
   {
    "duration": 4,
    "start_time": "2023-03-10T13:50:16.454Z"
   },
   {
    "duration": 6277,
    "start_time": "2023-03-10T13:50:17.094Z"
   },
   {
    "duration": 4,
    "start_time": "2023-03-10T13:50:23.376Z"
   },
   {
    "duration": 19,
    "start_time": "2023-03-10T13:50:23.382Z"
   },
   {
    "duration": 62,
    "start_time": "2023-03-10T13:50:23.404Z"
   },
   {
    "duration": 5311,
    "start_time": "2023-03-10T13:50:23.468Z"
   },
   {
    "duration": 1745,
    "start_time": "2023-03-10T13:50:28.781Z"
   },
   {
    "duration": 3,
    "start_time": "2023-03-10T13:50:30.528Z"
   },
   {
    "duration": 3,
    "start_time": "2023-03-10T13:50:37.814Z"
   },
   {
    "duration": 5,
    "start_time": "2023-03-10T13:50:40.509Z"
   },
   {
    "duration": 14,
    "start_time": "2023-03-10T13:50:41.240Z"
   },
   {
    "duration": 41,
    "start_time": "2023-03-10T13:51:23.789Z"
   },
   {
    "duration": 2178,
    "start_time": "2023-03-12T14:27:26.513Z"
   },
   {
    "duration": 3858,
    "start_time": "2023-03-12T14:27:29.203Z"
   },
   {
    "duration": 13,
    "start_time": "2023-03-12T14:27:33.063Z"
   },
   {
    "duration": 7,
    "start_time": "2023-03-12T14:27:34.063Z"
   },
   {
    "duration": 24,
    "start_time": "2023-03-12T14:27:36.351Z"
   },
   {
    "duration": 552,
    "start_time": "2023-03-12T14:27:40.686Z"
   },
   {
    "duration": 120,
    "start_time": "2023-03-12T14:28:02.022Z"
   },
   {
    "duration": 93,
    "start_time": "2023-03-12T14:29:50.164Z"
   },
   {
    "duration": 84,
    "start_time": "2023-03-12T14:29:56.068Z"
   },
   {
    "duration": 123,
    "start_time": "2023-03-12T14:31:01.578Z"
   },
   {
    "duration": 117,
    "start_time": "2023-03-12T14:31:12.689Z"
   },
   {
    "duration": 133,
    "start_time": "2023-03-12T14:31:42.408Z"
   },
   {
    "duration": 61,
    "start_time": "2023-03-12T14:33:16.940Z"
   },
   {
    "duration": 817,
    "start_time": "2023-03-12T14:33:17.412Z"
   },
   {
    "duration": 6,
    "start_time": "2023-03-12T14:33:18.231Z"
   },
   {
    "duration": 9,
    "start_time": "2023-03-12T14:33:18.408Z"
   },
   {
    "duration": 25,
    "start_time": "2023-03-12T14:33:19.118Z"
   },
   {
    "duration": 10,
    "start_time": "2023-03-12T14:33:21.138Z"
   },
   {
    "duration": 126,
    "start_time": "2023-03-12T14:38:48.605Z"
   },
   {
    "duration": 195,
    "start_time": "2023-03-12T14:39:16.617Z"
   },
   {
    "duration": 118,
    "start_time": "2023-03-12T14:39:38.735Z"
   },
   {
    "duration": 128,
    "start_time": "2023-03-12T14:40:13.393Z"
   },
   {
    "duration": 119,
    "start_time": "2023-03-12T14:41:44.768Z"
   },
   {
    "duration": 217,
    "start_time": "2023-03-12T14:42:24.763Z"
   },
   {
    "duration": 239,
    "start_time": "2023-03-12T14:42:32.393Z"
   },
   {
    "duration": 123,
    "start_time": "2023-03-12T14:42:43.002Z"
   },
   {
    "duration": 121,
    "start_time": "2023-03-12T14:43:00.626Z"
   },
   {
    "duration": 8,
    "start_time": "2023-03-12T14:43:04.489Z"
   },
   {
    "duration": 2,
    "start_time": "2023-03-12T14:43:05.941Z"
   },
   {
    "duration": 4,
    "start_time": "2023-03-12T14:43:07.741Z"
   },
   {
    "duration": 6545,
    "start_time": "2023-03-12T14:43:08.008Z"
   },
   {
    "duration": 3,
    "start_time": "2023-03-12T14:43:14.555Z"
   },
   {
    "duration": 3,
    "start_time": "2023-03-12T14:43:14.560Z"
   },
   {
    "duration": 21,
    "start_time": "2023-03-12T14:43:14.564Z"
   },
   {
    "duration": 4659,
    "start_time": "2023-03-12T14:43:18.217Z"
   },
   {
    "duration": 1528,
    "start_time": "2023-03-12T14:43:22.877Z"
   },
   {
    "duration": 3,
    "start_time": "2023-03-12T14:43:24.406Z"
   },
   {
    "duration": 3,
    "start_time": "2023-03-12T14:43:30.393Z"
   },
   {
    "duration": 215581,
    "start_time": "2023-03-12T14:43:31.881Z"
   },
   {
    "duration": 78,
    "start_time": "2023-03-12T14:47:52.483Z"
   },
   {
    "duration": 4,
    "start_time": "2023-03-12T14:47:55.417Z"
   },
   {
    "duration": 337078,
    "start_time": "2023-03-12T14:55:45.272Z"
   },
   {
    "duration": 262369,
    "start_time": "2023-03-12T15:02:40.576Z"
   },
   {
    "duration": 459508,
    "start_time": "2023-03-12T15:07:29.246Z"
   },
   {
    "duration": 11,
    "start_time": "2023-03-12T15:15:42.487Z"
   },
   {
    "duration": 1312164,
    "start_time": "2023-03-12T15:16:13.757Z"
   },
   {
    "duration": 4154,
    "start_time": "2023-03-12T15:40:20.641Z"
   },
   {
    "duration": 5298673,
    "start_time": "2023-03-12T15:40:43.530Z"
   },
   {
    "duration": 0,
    "start_time": "2023-03-12T17:09:02.206Z"
   },
   {
    "duration": 1806,
    "start_time": "2023-03-12T17:11:12.084Z"
   },
   {
    "duration": 855,
    "start_time": "2023-03-12T17:11:13.892Z"
   },
   {
    "duration": 12,
    "start_time": "2023-03-12T17:11:14.749Z"
   },
   {
    "duration": 6,
    "start_time": "2023-03-12T17:11:14.802Z"
   },
   {
    "duration": 27,
    "start_time": "2023-03-12T17:11:17.145Z"
   },
   {
    "duration": 248,
    "start_time": "2023-03-12T17:11:17.529Z"
   },
   {
    "duration": 127,
    "start_time": "2023-03-12T17:11:18.025Z"
   },
   {
    "duration": 5,
    "start_time": "2023-03-12T17:11:20.032Z"
   },
   {
    "duration": 8,
    "start_time": "2023-03-12T17:12:41.945Z"
   },
   {
    "duration": 4,
    "start_time": "2023-03-12T17:12:55.812Z"
   },
   {
    "duration": 6560,
    "start_time": "2023-03-12T17:12:58.695Z"
   },
   {
    "duration": 3,
    "start_time": "2023-03-12T17:13:13.608Z"
   },
   {
    "duration": 2,
    "start_time": "2023-03-12T17:13:13.928Z"
   },
   {
    "duration": 21,
    "start_time": "2023-03-12T17:13:14.108Z"
   },
   {
    "duration": 4780,
    "start_time": "2023-03-12T17:13:14.448Z"
   },
   {
    "duration": 1516,
    "start_time": "2023-03-12T17:13:19.230Z"
   },
   {
    "duration": 3,
    "start_time": "2023-03-12T17:13:20.747Z"
   },
   {
    "duration": 3,
    "start_time": "2023-03-12T17:14:02.814Z"
   },
   {
    "duration": 4,
    "start_time": "2023-03-12T17:14:06.704Z"
   },
   {
    "duration": 3,
    "start_time": "2023-03-12T17:14:07.296Z"
   },
   {
    "duration": 3,
    "start_time": "2023-03-12T17:14:40.892Z"
   },
   {
    "duration": 4,
    "start_time": "2023-03-12T17:14:54.112Z"
   },
   {
    "duration": 197,
    "start_time": "2023-03-12T17:14:55.940Z"
   },
   {
    "duration": 3,
    "start_time": "2023-03-12T17:15:06.588Z"
   },
   {
    "duration": 4,
    "start_time": "2023-03-12T17:15:07.601Z"
   },
   {
    "duration": 491737,
    "start_time": "2023-03-12T17:15:08.428Z"
   },
   {
    "duration": 4,
    "start_time": "2023-03-12T17:24:21.196Z"
   },
   {
    "duration": 454396,
    "start_time": "2023-03-12T17:24:22.412Z"
   },
   {
    "duration": 5,
    "start_time": "2023-03-12T17:33:56.644Z"
   },
   {
    "duration": 3,
    "start_time": "2023-03-12T17:33:57.592Z"
   },
   {
    "duration": 438315,
    "start_time": "2023-03-12T17:33:58.146Z"
   },
   {
    "duration": 6,
    "start_time": "2023-03-12T17:48:25.687Z"
   },
   {
    "duration": 792,
    "start_time": "2023-03-12T17:48:26.409Z"
   },
   {
    "duration": 8,
    "start_time": "2023-03-12T17:48:27.337Z"
   },
   {
    "duration": 6,
    "start_time": "2023-03-12T17:48:28.018Z"
   },
   {
    "duration": 23,
    "start_time": "2023-03-12T17:48:28.590Z"
   },
   {
    "duration": 217,
    "start_time": "2023-03-12T17:48:28.741Z"
   },
   {
    "duration": 133,
    "start_time": "2023-03-12T17:48:28.960Z"
   },
   {
    "duration": 4,
    "start_time": "2023-03-12T17:48:29.095Z"
   },
   {
    "duration": 8,
    "start_time": "2023-03-12T17:48:29.729Z"
   },
   {
    "duration": 3,
    "start_time": "2023-03-12T17:48:30.053Z"
   },
   {
    "duration": 5314,
    "start_time": "2023-03-12T17:48:30.224Z"
   },
   {
    "duration": 3,
    "start_time": "2023-03-12T17:48:35.539Z"
   },
   {
    "duration": 19,
    "start_time": "2023-03-12T17:48:35.543Z"
   },
   {
    "duration": 31,
    "start_time": "2023-03-12T17:48:35.563Z"
   },
   {
    "duration": 4538,
    "start_time": "2023-03-12T17:48:35.596Z"
   },
   {
    "duration": 1452,
    "start_time": "2023-03-12T17:48:40.136Z"
   },
   {
    "duration": 3,
    "start_time": "2023-03-12T17:48:41.589Z"
   },
   {
    "duration": 4,
    "start_time": "2023-03-12T17:48:41.594Z"
   },
   {
    "duration": 4,
    "start_time": "2023-03-12T17:48:41.599Z"
   },
   {
    "duration": 4,
    "start_time": "2023-03-12T18:06:51.027Z"
   },
   {
    "duration": 1928,
    "start_time": "2023-03-12T18:08:33.003Z"
   },
   {
    "duration": 837,
    "start_time": "2023-03-12T18:08:34.933Z"
   },
   {
    "duration": 11,
    "start_time": "2023-03-12T18:08:35.772Z"
   },
   {
    "duration": 6,
    "start_time": "2023-03-12T18:08:38.100Z"
   },
   {
    "duration": 28,
    "start_time": "2023-03-12T18:08:38.894Z"
   },
   {
    "duration": 245,
    "start_time": "2023-03-12T18:08:40.931Z"
   },
   {
    "duration": 123,
    "start_time": "2023-03-12T18:08:42.027Z"
   },
   {
    "duration": 6,
    "start_time": "2023-03-12T18:08:44.309Z"
   },
   {
    "duration": 9,
    "start_time": "2023-03-12T18:08:46.348Z"
   },
   {
    "duration": 3,
    "start_time": "2023-03-12T18:08:49.982Z"
   },
   {
    "duration": 7093,
    "start_time": "2023-03-12T18:09:12.794Z"
   },
   {
    "duration": 130,
    "start_time": "2023-03-12T18:11:15.815Z"
   },
   {
    "duration": 3,
    "start_time": "2023-03-12T18:11:18.576Z"
   },
   {
    "duration": 3111,
    "start_time": "2023-03-12T18:11:19.035Z"
   },
   {
    "duration": 3156,
    "start_time": "2023-03-12T18:11:28.981Z"
   },
   {
    "duration": 6,
    "start_time": "2023-03-12T18:23:46.986Z"
   },
   {
    "duration": 777,
    "start_time": "2023-03-12T18:23:50.420Z"
   },
   {
    "duration": 6,
    "start_time": "2023-03-12T18:23:51.425Z"
   },
   {
    "duration": 7,
    "start_time": "2023-03-12T18:23:51.710Z"
   },
   {
    "duration": 26,
    "start_time": "2023-03-12T18:23:52.099Z"
   },
   {
    "duration": 224,
    "start_time": "2023-03-12T18:23:52.376Z"
   },
   {
    "duration": 124,
    "start_time": "2023-03-12T18:23:52.722Z"
   },
   {
    "duration": 5,
    "start_time": "2023-03-12T18:23:53.099Z"
   },
   {
    "duration": 8,
    "start_time": "2023-03-12T18:23:54.880Z"
   },
   {
    "duration": 3,
    "start_time": "2023-03-12T18:23:55.749Z"
   },
   {
    "duration": 3846,
    "start_time": "2023-03-12T18:23:58.194Z"
   },
   {
    "duration": 3,
    "start_time": "2023-03-12T18:27:34.023Z"
   },
   {
    "duration": 3,
    "start_time": "2023-03-12T18:27:35.018Z"
   },
   {
    "duration": 2,
    "start_time": "2023-03-12T18:27:35.684Z"
   },
   {
    "duration": 369,
    "start_time": "2023-03-12T18:27:36.691Z"
   },
   {
    "duration": 323,
    "start_time": "2023-03-12T18:29:23.871Z"
   },
   {
    "duration": 875,
    "start_time": "2023-03-12T18:29:26.546Z"
   },
   {
    "duration": 9,
    "start_time": "2023-03-12T18:29:27.423Z"
   },
   {
    "duration": 7,
    "start_time": "2023-03-12T18:29:27.434Z"
   },
   {
    "duration": 41,
    "start_time": "2023-03-12T18:29:27.443Z"
   },
   {
    "duration": 243,
    "start_time": "2023-03-12T18:29:27.485Z"
   },
   {
    "duration": 117,
    "start_time": "2023-03-12T18:29:28.041Z"
   },
   {
    "duration": 5,
    "start_time": "2023-03-12T18:29:28.200Z"
   },
   {
    "duration": 8,
    "start_time": "2023-03-12T18:29:28.954Z"
   },
   {
    "duration": 3,
    "start_time": "2023-03-12T18:29:29.384Z"
   },
   {
    "duration": 4230,
    "start_time": "2023-03-12T18:29:29.603Z"
   },
   {
    "duration": 3,
    "start_time": "2023-03-12T18:29:33.835Z"
   },
   {
    "duration": 12,
    "start_time": "2023-03-12T18:29:33.840Z"
   },
   {
    "duration": 4,
    "start_time": "2023-03-12T18:29:33.853Z"
   },
   {
    "duration": 452,
    "start_time": "2023-03-12T18:29:33.861Z"
   },
   {
    "duration": 5,
    "start_time": "2023-03-12T18:31:01.972Z"
   },
   {
    "duration": 5,
    "start_time": "2023-03-12T18:31:02.574Z"
   },
   {
    "duration": 2,
    "start_time": "2023-03-12T18:31:04.254Z"
   },
   {
    "duration": 1174044,
    "start_time": "2023-03-12T18:31:05.590Z"
   },
   {
    "duration": 3,
    "start_time": "2023-03-12T18:52:27.705Z"
   },
   {
    "duration": 6,
    "start_time": "2023-03-12T18:54:45.793Z"
   },
   {
    "duration": 3,
    "start_time": "2023-03-12T18:56:52.326Z"
   },
   {
    "duration": 20,
    "start_time": "2023-03-12T18:56:52.787Z"
   },
   {
    "duration": 4793,
    "start_time": "2023-03-12T18:56:56.894Z"
   },
   {
    "duration": 1503,
    "start_time": "2023-03-12T18:57:01.689Z"
   },
   {
    "duration": 3,
    "start_time": "2023-03-12T18:57:03.193Z"
   },
   {
    "duration": 15,
    "start_time": "2023-03-12T18:57:03.197Z"
   },
   {
    "duration": 75,
    "start_time": "2023-03-12T18:58:08.827Z"
   },
   {
    "duration": 4,
    "start_time": "2023-03-12T18:58:15.036Z"
   },
   {
    "duration": 3,
    "start_time": "2023-03-12T18:58:16.320Z"
   },
   {
    "duration": 432831,
    "start_time": "2023-03-12T18:58:16.933Z"
   },
   {
    "duration": 3,
    "start_time": "2023-03-12T19:05:29.859Z"
   },
   {
    "duration": 1210527,
    "start_time": "2023-03-12T19:05:29.863Z"
   },
   {
    "duration": 8,
    "start_time": "2023-03-12T19:25:40.392Z"
   },
   {
    "duration": 54,
    "start_time": "2023-03-12T19:25:40.402Z"
   },
   {
    "duration": 165,
    "start_time": "2023-03-12T19:25:40.458Z"
   },
   {
    "duration": 881,
    "start_time": "2023-03-12T19:25:40.625Z"
   },
   {
    "duration": 46,
    "start_time": "2023-03-12T19:25:56.823Z"
   },
   {
    "duration": 4,
    "start_time": "2023-03-12T19:31:30.644Z"
   },
   {
    "duration": 3,
    "start_time": "2023-03-12T19:32:30.523Z"
   },
   {
    "duration": 3,
    "start_time": "2023-03-12T19:32:41.733Z"
   },
   {
    "duration": 153,
    "start_time": "2023-03-12T19:32:42.507Z"
   },
   {
    "duration": 3,
    "start_time": "2023-03-12T19:34:41.839Z"
   },
   {
    "duration": 179,
    "start_time": "2023-03-12T19:34:42.451Z"
   },
   {
    "duration": 14,
    "start_time": "2023-03-12T19:38:15.792Z"
   },
   {
    "duration": 8,
    "start_time": "2023-03-12T19:40:58.494Z"
   },
   {
    "duration": 16,
    "start_time": "2023-03-12T19:41:10.451Z"
   },
   {
    "duration": 3,
    "start_time": "2023-03-12T19:44:25.184Z"
   },
   {
    "duration": 16,
    "start_time": "2023-03-12T19:44:27.085Z"
   },
   {
    "duration": 112983,
    "start_time": "2023-03-12T19:44:53.819Z"
   },
   {
    "duration": 31,
    "start_time": "2023-03-12T19:46:51.671Z"
   },
   {
    "duration": 25,
    "start_time": "2023-03-12T19:47:56.921Z"
   },
   {
    "duration": 864,
    "start_time": "2023-03-12T19:48:12.867Z"
   },
   {
    "duration": 15,
    "start_time": "2023-03-12T19:48:43.209Z"
   },
   {
    "duration": 22,
    "start_time": "2023-03-12T19:49:29.069Z"
   },
   {
    "duration": 18,
    "start_time": "2023-03-12T19:50:25.034Z"
   },
   {
    "duration": 15,
    "start_time": "2023-03-12T19:51:52.374Z"
   },
   {
    "duration": 180484,
    "start_time": "2023-03-12T19:52:32.579Z"
   },
   {
    "duration": 78,
    "start_time": "2023-03-12T19:55:33.066Z"
   },
   {
    "duration": 40,
    "start_time": "2023-03-12T19:55:41.271Z"
   },
   {
    "duration": 41,
    "start_time": "2023-03-12T19:56:13.401Z"
   },
   {
    "duration": 62,
    "start_time": "2023-03-12T19:58:04.004Z"
   },
   {
    "duration": 42,
    "start_time": "2023-03-12T20:01:41.692Z"
   },
   {
    "duration": 42,
    "start_time": "2023-03-12T20:01:55.693Z"
   },
   {
    "duration": 76504,
    "start_time": "2023-03-12T20:03:55.849Z"
   },
   {
    "duration": 72,
    "start_time": "2023-03-12T20:05:38.727Z"
   },
   {
    "duration": 94548,
    "start_time": "2023-03-12T20:06:07.727Z"
   },
   {
    "duration": 372622,
    "start_time": "2023-03-12T20:07:49.038Z"
   },
   {
    "duration": 392475,
    "start_time": "2023-03-12T20:15:51.901Z"
   },
   {
    "duration": 6,
    "start_time": "2023-03-12T20:22:24.379Z"
   },
   {
    "duration": 5,
    "start_time": "2023-03-12T20:23:44.243Z"
   },
   {
    "duration": 179,
    "start_time": "2023-03-12T20:23:46.172Z"
   },
   {
    "duration": 5,
    "start_time": "2023-03-12T20:25:33.908Z"
   },
   {
    "duration": 179,
    "start_time": "2023-03-12T20:25:39.138Z"
   },
   {
    "duration": 163,
    "start_time": "2023-03-12T20:27:09.591Z"
   },
   {
    "duration": 87,
    "start_time": "2023-03-12T20:29:27.191Z"
   },
   {
    "duration": 82,
    "start_time": "2023-03-12T20:29:41.054Z"
   },
   {
    "duration": 232172,
    "start_time": "2023-03-12T20:30:29.499Z"
   },
   {
    "duration": 345606,
    "start_time": "2023-03-12T20:50:07.663Z"
   },
   {
    "duration": 281726,
    "start_time": "2023-03-12T20:58:23.109Z"
   },
   {
    "duration": 11855628,
    "start_time": "2023-03-13T03:06:42.478Z"
   },
   {
    "duration": 461695,
    "start_time": "2023-03-13T06:24:44.407Z"
   },
   {
    "duration": 236,
    "start_time": "2023-03-13T06:32:33.308Z"
   },
   {
    "duration": 756,
    "start_time": "2023-03-13T06:32:34.142Z"
   },
   {
    "duration": 9,
    "start_time": "2023-03-13T06:32:34.900Z"
   },
   {
    "duration": 9,
    "start_time": "2023-03-13T06:32:35.164Z"
   },
   {
    "duration": 25,
    "start_time": "2023-03-13T06:32:35.566Z"
   },
   {
    "duration": 223,
    "start_time": "2023-03-13T06:32:35.839Z"
   },
   {
    "duration": 134,
    "start_time": "2023-03-13T06:32:36.357Z"
   },
   {
    "duration": 7,
    "start_time": "2023-03-13T06:32:37.085Z"
   },
   {
    "duration": 12,
    "start_time": "2023-03-13T06:32:38.714Z"
   },
   {
    "duration": 3,
    "start_time": "2023-03-13T06:32:39.230Z"
   },
   {
    "duration": 3826,
    "start_time": "2023-03-13T06:32:39.657Z"
   },
   {
    "duration": 3,
    "start_time": "2023-03-13T06:32:43.485Z"
   },
   {
    "duration": 4,
    "start_time": "2023-03-13T06:32:43.490Z"
   },
   {
    "duration": 1205801,
    "start_time": "2023-03-13T06:32:43.496Z"
   },
   {
    "duration": 7,
    "start_time": "2023-03-13T06:53:58.992Z"
   },
   {
    "duration": 40,
    "start_time": "2023-03-13T06:54:04.774Z"
   },
   {
    "duration": 104,
    "start_time": "2023-03-13T06:54:13.635Z"
   },
   {
    "duration": 352,
    "start_time": "2023-03-13T06:54:23.210Z"
   },
   {
    "duration": 7,
    "start_time": "2023-03-13T06:54:35.746Z"
   },
   {
    "duration": 42,
    "start_time": "2023-03-13T06:54:36.548Z"
   },
   {
    "duration": 284,
    "start_time": "2023-03-13T06:54:39.143Z"
   },
   {
    "duration": 55,
    "start_time": "2023-03-13T06:55:01.634Z"
   },
   {
    "duration": 340,
    "start_time": "2023-03-13T06:55:07.295Z"
   },
   {
    "duration": 7,
    "start_time": "2023-03-13T06:57:15.038Z"
   },
   {
    "duration": 26,
    "start_time": "2023-03-13T06:57:15.649Z"
   },
   {
    "duration": 240,
    "start_time": "2023-03-13T06:57:21.529Z"
   },
   {
    "duration": 2106,
    "start_time": "2023-03-13T06:57:41.597Z"
   },
   {
    "duration": 865,
    "start_time": "2023-03-13T06:57:43.705Z"
   },
   {
    "duration": 11,
    "start_time": "2023-03-13T06:57:44.575Z"
   },
   {
    "duration": 7,
    "start_time": "2023-03-13T06:57:44.588Z"
   },
   {
    "duration": 28,
    "start_time": "2023-03-13T06:57:44.597Z"
   },
   {
    "duration": 276,
    "start_time": "2023-03-13T06:57:44.627Z"
   },
   {
    "duration": 213,
    "start_time": "2023-03-13T06:57:44.905Z"
   },
   {
    "duration": 7,
    "start_time": "2023-03-13T06:57:45.120Z"
   },
   {
    "duration": 16,
    "start_time": "2023-03-13T06:57:46.052Z"
   },
   {
    "duration": 4,
    "start_time": "2023-03-13T06:57:46.733Z"
   },
   {
    "duration": 4232,
    "start_time": "2023-03-13T06:57:47.274Z"
   },
   {
    "duration": 4,
    "start_time": "2023-03-13T06:57:51.508Z"
   },
   {
    "duration": 6,
    "start_time": "2023-03-13T06:57:51.513Z"
   },
   {
    "duration": 1238986,
    "start_time": "2023-03-13T06:57:51.521Z"
   },
   {
    "duration": 8,
    "start_time": "2023-03-13T07:18:44.267Z"
   },
   {
    "duration": 38,
    "start_time": "2023-03-13T07:18:45.669Z"
   },
   {
    "duration": 403,
    "start_time": "2023-03-13T07:18:49.295Z"
   },
   {
    "duration": 23,
    "start_time": "2023-03-13T07:21:09.521Z"
   },
   {
    "duration": 220,
    "start_time": "2023-03-13T07:21:12.690Z"
   },
   {
    "duration": 32,
    "start_time": "2023-03-13T07:21:51.639Z"
   },
   {
    "duration": 101,
    "start_time": "2023-03-13T07:21:59.403Z"
   },
   {
    "duration": 25,
    "start_time": "2023-03-13T07:22:34.893Z"
   },
   {
    "duration": 228,
    "start_time": "2023-03-13T07:22:38.433Z"
   },
   {
    "duration": 46,
    "start_time": "2023-03-13T07:31:04.225Z"
   },
   {
    "duration": 322,
    "start_time": "2023-03-13T07:31:07.771Z"
   },
   {
    "duration": 27,
    "start_time": "2023-03-13T07:33:58.098Z"
   },
   {
    "duration": 36,
    "start_time": "2023-03-13T07:34:43.619Z"
   },
   {
    "duration": 245,
    "start_time": "2023-03-13T07:34:56.850Z"
   },
   {
    "duration": 29,
    "start_time": "2023-03-13T07:36:17.424Z"
   },
   {
    "duration": 239,
    "start_time": "2023-03-13T07:36:20.604Z"
   },
   {
    "duration": 288526,
    "start_time": "2023-03-13T07:37:50.348Z"
   },
   {
    "duration": 15034,
    "start_time": "2023-03-13T07:44:02.806Z"
   },
   {
    "duration": 1871,
    "start_time": "2023-03-13T07:46:17.900Z"
   },
   {
    "duration": 832,
    "start_time": "2023-03-13T07:46:19.773Z"
   },
   {
    "duration": 14,
    "start_time": "2023-03-13T07:46:20.606Z"
   },
   {
    "duration": 6,
    "start_time": "2023-03-13T07:46:20.622Z"
   },
   {
    "duration": 37,
    "start_time": "2023-03-13T07:46:20.761Z"
   },
   {
    "duration": 276,
    "start_time": "2023-03-13T07:46:21.415Z"
   },
   {
    "duration": 151,
    "start_time": "2023-03-13T07:46:21.694Z"
   },
   {
    "duration": 6,
    "start_time": "2023-03-13T07:46:21.961Z"
   },
   {
    "duration": 9,
    "start_time": "2023-03-13T07:46:23.121Z"
   },
   {
    "duration": 3,
    "start_time": "2023-03-13T07:46:23.861Z"
   },
   {
    "duration": 4021,
    "start_time": "2023-03-13T07:46:24.211Z"
   },
   {
    "duration": 6,
    "start_time": "2023-03-13T07:46:28.234Z"
   },
   {
    "duration": 8,
    "start_time": "2023-03-13T07:46:28.241Z"
   },
   {
    "duration": 1238187,
    "start_time": "2023-03-13T07:46:28.257Z"
   },
   {
    "duration": 220,
    "start_time": "2023-03-13T08:07:09.125Z"
   },
   {
    "duration": 8,
    "start_time": "2023-03-13T08:07:20.299Z"
   },
   {
    "duration": 29,
    "start_time": "2023-03-13T08:07:23.322Z"
   },
   {
    "duration": 618,
    "start_time": "2023-03-13T08:07:28.020Z"
   },
   {
    "duration": 1001929,
    "start_time": "2023-03-13T08:07:43.916Z"
   },
   {
    "duration": 11,
    "start_time": "2023-03-13T08:30:12.515Z"
   },
   {
    "duration": 19,
    "start_time": "2023-03-13T08:30:34.309Z"
   },
   {
    "duration": 16,
    "start_time": "2023-03-13T08:33:12.925Z"
   },
   {
    "duration": 25416,
    "start_time": "2023-03-13T08:38:12.811Z"
   },
   {
    "duration": 16,
    "start_time": "2023-03-13T08:42:17.034Z"
   },
   {
    "duration": 96,
    "start_time": "2023-03-13T08:43:03.026Z"
   },
   {
    "duration": 88,
    "start_time": "2023-03-13T08:44:43.502Z"
   },
   {
    "duration": 7,
    "start_time": "2023-03-13T08:45:24.132Z"
   },
   {
    "duration": 34,
    "start_time": "2023-03-13T08:45:25.847Z"
   },
   {
    "duration": 1160741,
    "start_time": "2023-03-13T08:45:29.131Z"
   },
   {
    "duration": 21,
    "start_time": "2023-03-13T09:05:08.133Z"
   },
   {
    "duration": 4,
    "start_time": "2023-03-13T09:07:17.429Z"
   },
   {
    "duration": 18,
    "start_time": "2023-03-13T09:07:26.816Z"
   },
   {
    "duration": 13,
    "start_time": "2023-03-13T09:07:51.497Z"
   },
   {
    "duration": 14,
    "start_time": "2023-03-13T09:08:09.737Z"
   },
   {
    "duration": 33896,
    "start_time": "2023-03-13T09:08:28.453Z"
   },
   {
    "duration": 31960,
    "start_time": "2023-03-13T09:09:02.351Z"
   },
   {
    "duration": 35512,
    "start_time": "2023-03-13T09:09:51.455Z"
   },
   {
    "duration": 34008,
    "start_time": "2023-03-13T09:10:48.097Z"
   },
   {
    "duration": 2715,
    "start_time": "2023-03-13T09:12:30.520Z"
   },
   {
    "duration": 33094,
    "start_time": "2023-03-13T09:12:43.411Z"
   },
   {
    "duration": 34304,
    "start_time": "2023-03-13T09:13:30.226Z"
   },
   {
    "duration": 1717,
    "start_time": "2023-03-13T09:16:04.769Z"
   },
   {
    "duration": 1685,
    "start_time": "2023-03-13T09:20:06.593Z"
   },
   {
    "duration": 235167,
    "start_time": "2023-03-13T09:22:15.620Z"
   },
   {
    "duration": 1659388,
    "start_time": "2023-03-13T09:26:10.788Z"
   },
   {
    "duration": 5079,
    "start_time": "2023-03-13T10:01:00.432Z"
   },
   {
    "duration": 184,
    "start_time": "2023-03-13T10:01:56.848Z"
   },
   {
    "duration": 915,
    "start_time": "2023-03-13T10:01:57.033Z"
   },
   {
    "duration": 7,
    "start_time": "2023-03-13T10:01:57.951Z"
   },
   {
    "duration": 22,
    "start_time": "2023-03-13T10:01:57.960Z"
   },
   {
    "duration": 25,
    "start_time": "2023-03-13T10:01:57.983Z"
   },
   {
    "duration": 257,
    "start_time": "2023-03-13T10:01:58.009Z"
   },
   {
    "duration": 146,
    "start_time": "2023-03-13T10:01:58.268Z"
   },
   {
    "duration": 7,
    "start_time": "2023-03-13T10:01:58.415Z"
   },
   {
    "duration": 9,
    "start_time": "2023-03-13T10:01:58.830Z"
   },
   {
    "duration": 4,
    "start_time": "2023-03-13T10:01:59.166Z"
   },
   {
    "duration": 4246,
    "start_time": "2023-03-13T10:01:59.344Z"
   },
   {
    "duration": 4,
    "start_time": "2023-03-13T10:02:03.592Z"
   },
   {
    "duration": 10,
    "start_time": "2023-03-13T10:02:03.598Z"
   },
   {
    "duration": 1326606,
    "start_time": "2023-03-13T10:02:03.610Z"
   },
   {
    "duration": 8,
    "start_time": "2023-03-13T10:24:10.218Z"
   },
   {
    "duration": 58,
    "start_time": "2023-03-13T10:24:10.228Z"
   },
   {
    "duration": 49,
    "start_time": "2023-03-13T10:24:10.288Z"
   },
   {
    "duration": 0,
    "start_time": "2023-03-13T10:24:10.339Z"
   },
   {
    "duration": 0,
    "start_time": "2023-03-13T10:24:10.340Z"
   },
   {
    "duration": 1264627,
    "start_time": "2023-03-13T10:35:48.541Z"
   },
   {
    "duration": 256733,
    "start_time": "2023-03-13T10:56:53.172Z"
   },
   {
    "duration": 464786,
    "start_time": "2023-03-13T15:11:53.921Z"
   },
   {
    "duration": 156,
    "start_time": "2023-03-13T15:19:38.716Z"
   },
   {
    "duration": 495553,
    "start_time": "2023-03-13T15:24:28.247Z"
   },
   {
    "duration": 203,
    "start_time": "2023-03-13T15:37:13.341Z"
   },
   {
    "duration": 190,
    "start_time": "2023-03-13T15:38:51.365Z"
   },
   {
    "duration": 247,
    "start_time": "2023-03-13T15:39:16.281Z"
   },
   {
    "duration": 31,
    "start_time": "2023-03-13T15:40:46.545Z"
   },
   {
    "duration": 342,
    "start_time": "2023-03-13T15:40:56.730Z"
   },
   {
    "duration": 450459,
    "start_time": "2023-03-13T15:41:54.234Z"
   },
   {
    "duration": 3109,
    "start_time": "2023-03-13T15:49:37.715Z"
   },
   {
    "duration": 8093,
    "start_time": "2023-03-13T15:49:41.209Z"
   },
   {
    "duration": 24,
    "start_time": "2023-03-13T15:49:49.314Z"
   },
   {
    "duration": 17,
    "start_time": "2023-03-13T15:49:49.344Z"
   },
   {
    "duration": 71,
    "start_time": "2023-03-13T15:49:49.365Z"
   },
   {
    "duration": 411,
    "start_time": "2023-03-13T15:49:53.785Z"
   },
   {
    "duration": 258,
    "start_time": "2023-03-13T15:49:54.198Z"
   },
   {
    "duration": 34,
    "start_time": "2023-03-13T15:49:54.482Z"
   },
   {
    "duration": 17,
    "start_time": "2023-03-13T15:49:55.235Z"
   },
   {
    "duration": 12,
    "start_time": "2023-03-13T15:49:55.735Z"
   },
   {
    "duration": 7180,
    "start_time": "2023-03-13T15:49:55.952Z"
   },
   {
    "duration": 15,
    "start_time": "2023-03-13T15:50:03.145Z"
   },
   {
    "duration": 17,
    "start_time": "2023-03-13T15:50:03.168Z"
   },
   {
    "duration": 2305013,
    "start_time": "2023-03-13T15:50:03.187Z"
   },
   {
    "duration": 25,
    "start_time": "2023-03-13T16:28:28.209Z"
   },
   {
    "duration": 61,
    "start_time": "2023-03-13T16:28:28.239Z"
   },
   {
    "duration": 1681184,
    "start_time": "2023-03-13T16:28:28.305Z"
   },
   {
    "duration": 377942,
    "start_time": "2023-03-13T16:56:29.494Z"
   },
   {
    "duration": 1438386,
    "start_time": "2023-03-13T17:02:47.438Z"
   },
   {
    "duration": 12,
    "start_time": "2023-03-13T17:26:45.826Z"
   },
   {
    "duration": 10,
    "start_time": "2023-03-13T17:28:11.313Z"
   },
   {
    "duration": 1554,
    "start_time": "2023-03-13T17:28:39.906Z"
   },
   {
    "duration": 1713,
    "start_time": "2023-03-13T17:39:44.285Z"
   },
   {
    "duration": 190,
    "start_time": "2023-03-13T17:40:17.613Z"
   },
   {
    "duration": 12,
    "start_time": "2023-03-13T17:40:26.409Z"
   },
   {
    "duration": 210,
    "start_time": "2023-03-13T17:42:32.218Z"
   },
   {
    "duration": 201,
    "start_time": "2023-03-13T17:42:43.783Z"
   },
   {
    "duration": 261,
    "start_time": "2023-03-13T17:42:57.035Z"
   },
   {
    "duration": 179,
    "start_time": "2023-03-13T17:47:25.609Z"
   },
   {
    "duration": 221,
    "start_time": "2023-03-13T17:48:06.851Z"
   },
   {
    "duration": 203,
    "start_time": "2023-03-13T17:48:26.543Z"
   },
   {
    "duration": 181,
    "start_time": "2023-03-13T17:48:54.527Z"
   },
   {
    "duration": 114,
    "start_time": "2023-03-13T17:49:08.104Z"
   },
   {
    "duration": 149,
    "start_time": "2023-03-13T17:49:15.826Z"
   },
   {
    "duration": 187,
    "start_time": "2023-03-13T17:49:48.844Z"
   },
   {
    "duration": 225,
    "start_time": "2023-03-13T17:52:02.717Z"
   },
   {
    "duration": 229,
    "start_time": "2023-03-13T17:52:09.655Z"
   },
   {
    "duration": 112,
    "start_time": "2023-03-13T17:53:04.835Z"
   },
   {
    "duration": 393,
    "start_time": "2023-03-13T17:53:12.723Z"
   },
   {
    "duration": 207,
    "start_time": "2023-03-13T17:53:28.222Z"
   },
   {
    "duration": 179,
    "start_time": "2023-03-13T17:53:45.018Z"
   },
   {
    "duration": 195,
    "start_time": "2023-03-13T17:54:27.845Z"
   },
   {
    "duration": 117,
    "start_time": "2023-03-13T17:55:08.621Z"
   },
   {
    "duration": 33,
    "start_time": "2023-03-13T17:55:17.319Z"
   },
   {
    "duration": 370,
    "start_time": "2023-03-13T17:56:27.643Z"
   },
   {
    "duration": 192,
    "start_time": "2023-03-13T17:57:10.344Z"
   },
   {
    "duration": 173,
    "start_time": "2023-03-13T18:13:43.887Z"
   },
   {
    "duration": 54,
    "start_time": "2023-03-14T08:00:01.592Z"
   },
   {
    "duration": 2632,
    "start_time": "2023-03-14T08:00:07.615Z"
   },
   {
    "duration": 3788,
    "start_time": "2023-03-14T08:00:10.702Z"
   },
   {
    "duration": 10,
    "start_time": "2023-03-14T08:00:14.491Z"
   },
   {
    "duration": 5,
    "start_time": "2023-03-14T08:00:14.503Z"
   },
   {
    "duration": 25,
    "start_time": "2023-03-14T08:00:16.497Z"
   },
   {
    "duration": 237,
    "start_time": "2023-03-14T08:00:17.097Z"
   },
   {
    "duration": 129,
    "start_time": "2023-03-14T08:00:18.144Z"
   },
   {
    "duration": 98,
    "start_time": "2023-03-14T08:00:22.532Z"
   },
   {
    "duration": 38,
    "start_time": "2023-03-14T08:08:11.621Z"
   },
   {
    "duration": 1160,
    "start_time": "2023-03-14T08:12:21.095Z"
   },
   {
    "duration": 12,
    "start_time": "2023-03-14T08:18:05.813Z"
   },
   {
    "duration": 11,
    "start_time": "2023-03-14T08:18:18.613Z"
   },
   {
    "duration": 9,
    "start_time": "2023-03-14T08:21:31.144Z"
   },
   {
    "duration": 6,
    "start_time": "2023-03-14T08:22:00.894Z"
   },
   {
    "duration": 820,
    "start_time": "2023-03-14T08:22:01.636Z"
   },
   {
    "duration": 7,
    "start_time": "2023-03-14T08:22:02.458Z"
   },
   {
    "duration": 7,
    "start_time": "2023-03-14T08:22:02.552Z"
   },
   {
    "duration": 27,
    "start_time": "2023-03-14T08:22:03.194Z"
   },
   {
    "duration": 237,
    "start_time": "2023-03-14T08:22:03.649Z"
   },
   {
    "duration": 121,
    "start_time": "2023-03-14T08:22:04.321Z"
   },
   {
    "duration": 815,
    "start_time": "2023-03-14T08:22:05.512Z"
   },
   {
    "duration": 820,
    "start_time": "2023-03-14T08:22:19.825Z"
   },
   {
    "duration": 12,
    "start_time": "2023-03-14T08:26:02.570Z"
   },
   {
    "duration": 110,
    "start_time": "2023-03-14T08:26:47.006Z"
   },
   {
    "duration": 14,
    "start_time": "2023-03-14T08:27:01.575Z"
   },
   {
    "duration": 73,
    "start_time": "2023-03-14T08:29:31.214Z"
   },
   {
    "duration": 9,
    "start_time": "2023-03-14T08:29:35.483Z"
   },
   {
    "duration": 10,
    "start_time": "2023-03-14T08:30:58.831Z"
   },
   {
    "duration": 99,
    "start_time": "2023-03-14T08:31:09.512Z"
   },
   {
    "duration": 11,
    "start_time": "2023-03-14T08:32:36.225Z"
   },
   {
    "duration": 179,
    "start_time": "2023-03-14T08:32:55.318Z"
   },
   {
    "duration": 320,
    "start_time": "2023-03-14T08:34:09.506Z"
   },
   {
    "duration": 171,
    "start_time": "2023-03-14T08:36:12.227Z"
   },
   {
    "duration": 96,
    "start_time": "2023-03-14T08:37:07.707Z"
   },
   {
    "duration": 90,
    "start_time": "2023-03-14T08:37:35.770Z"
   },
   {
    "duration": 99,
    "start_time": "2023-03-14T08:38:24.234Z"
   },
   {
    "duration": 98,
    "start_time": "2023-03-14T08:39:16.342Z"
   },
   {
    "duration": 6,
    "start_time": "2023-03-14T08:39:23.888Z"
   },
   {
    "duration": 77,
    "start_time": "2023-03-14T08:39:32.206Z"
   },
   {
    "duration": 122,
    "start_time": "2023-03-14T08:39:44.504Z"
   },
   {
    "duration": 102,
    "start_time": "2023-03-14T08:39:56.854Z"
   },
   {
    "duration": 6,
    "start_time": "2023-03-14T08:39:59.612Z"
   },
   {
    "duration": 8,
    "start_time": "2023-03-14T08:40:02.962Z"
   },
   {
    "duration": 3,
    "start_time": "2023-03-14T08:40:04.007Z"
   },
   {
    "duration": 3961,
    "start_time": "2023-03-14T08:40:04.425Z"
   },
   {
    "duration": 3,
    "start_time": "2023-03-14T08:40:08.388Z"
   },
   {
    "duration": 5,
    "start_time": "2023-03-14T08:40:08.393Z"
   },
   {
    "duration": 1201548,
    "start_time": "2023-03-14T08:40:08.400Z"
   },
   {
    "duration": 9,
    "start_time": "2023-03-14T09:00:19.066Z"
   },
   {
    "duration": 25,
    "start_time": "2023-03-14T09:00:22.290Z"
   },
   {
    "duration": 747239,
    "start_time": "2023-03-14T09:00:29.024Z"
   }
  ],
  "kernelspec": {
   "display_name": "Python 3 (ipykernel)",
   "language": "python",
   "name": "python3"
  },
  "language_info": {
   "codemirror_mode": {
    "name": "ipython",
    "version": 3
   },
   "file_extension": ".py",
   "mimetype": "text/x-python",
   "name": "python",
   "nbconvert_exporter": "python",
   "pygments_lexer": "ipython3",
   "version": "3.9.5"
  },
  "toc": {
   "base_numbering": 1,
   "nav_menu": {},
   "number_sections": true,
   "sideBar": true,
   "skip_h1_title": true,
   "title_cell": "Содержание",
   "title_sidebar": "Contents",
   "toc_cell": true,
   "toc_position": {
    "height": "calc(100% - 180px)",
    "left": "10px",
    "top": "150px",
    "width": "302.391px"
   },
   "toc_section_display": true,
   "toc_window_display": true
  }
 },
 "nbformat": 4,
 "nbformat_minor": 2
}
