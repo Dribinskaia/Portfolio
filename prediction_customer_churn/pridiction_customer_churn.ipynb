{
 "cells": [
  {
   "cell_type": "markdown",
   "metadata": {
    "toc": true
   },
   "source": [
    "<h1>Содержание<span class=\"tocSkip\"></span></h1>\n",
    "<div class=\"toc\"><ul class=\"toc-item\"><li><span><a href=\"#Подготовка-данных\" data-toc-modified-id=\"Подготовка-данных-1\"><span class=\"toc-item-num\">1&nbsp;&nbsp;</span>Подготовка данных</a></span></li><li><span><a href=\"#Исследование-задачи\" data-toc-modified-id=\"Исследование-задачи-2\"><span class=\"toc-item-num\">2&nbsp;&nbsp;</span>Исследование задачи</a></span><ul class=\"toc-item\"><li><span><a href=\"#Разделим-данные-на-выборки\" data-toc-modified-id=\"Разделим-данные-на-выборки-2.1\"><span class=\"toc-item-num\">2.1&nbsp;&nbsp;</span>Разделим данные на выборки</a></span></li><li><span><a href=\"#Проведем-кодирование-категориальных-признаков,-а-также-стандартизацию\" data-toc-modified-id=\"Проведем-кодирование-категориальных-признаков,-а-также-стандартизацию-2.2\"><span class=\"toc-item-num\">2.2&nbsp;&nbsp;</span>Проведем кодирование категориальных признаков, а также стандартизацию</a></span></li><li><span><a href=\"#Обучим-модели-без-учета-дисбаланса-классов\" data-toc-modified-id=\"Обучим-модели-без-учета-дисбаланса-классов-2.3\"><span class=\"toc-item-num\">2.3&nbsp;&nbsp;</span>Обучим модели без учета дисбаланса классов</a></span><ul class=\"toc-item\"><li><span><a href=\"#Дерево-решений\" data-toc-modified-id=\"Дерево-решений-2.3.1\"><span class=\"toc-item-num\">2.3.1&nbsp;&nbsp;</span>Дерево решений</a></span></li><li><span><a href=\"#Случайный-лес\" data-toc-modified-id=\"Случайный-лес-2.3.2\"><span class=\"toc-item-num\">2.3.2&nbsp;&nbsp;</span>Случайный лес</a></span></li><li><span><a href=\"#Логистическая-регрессия\" data-toc-modified-id=\"Логистическая-регрессия-2.3.3\"><span class=\"toc-item-num\">2.3.3&nbsp;&nbsp;</span>Логистическая регрессия</a></span></li></ul></li></ul></li><li><span><a href=\"#Борьба-с-дисбалансом\" data-toc-modified-id=\"Борьба-с-дисбалансом-3\"><span class=\"toc-item-num\">3&nbsp;&nbsp;</span>Борьба с дисбалансом</a></span><ul class=\"toc-item\"><li><span><a href=\"#Борьба-с-дисбалансом-с-помощью-class_weight='balanced'\" data-toc-modified-id=\"Борьба-с-дисбалансом-с-помощью-class_weight='balanced'-3.1\"><span class=\"toc-item-num\">3.1&nbsp;&nbsp;</span>Борьба с дисбалансом с помощью class_weight='balanced'</a></span><ul class=\"toc-item\"><li><span><a href=\"#Дерево-решений\" data-toc-modified-id=\"Дерево-решений-3.1.1\"><span class=\"toc-item-num\">3.1.1&nbsp;&nbsp;</span>Дерево решений</a></span></li><li><span><a href=\"#Случайный-лес\" data-toc-modified-id=\"Случайный-лес-3.1.2\"><span class=\"toc-item-num\">3.1.2&nbsp;&nbsp;</span>Случайный лес</a></span></li><li><span><a href=\"#Логистическая-регрессия\" data-toc-modified-id=\"Логистическая-регрессия-3.1.3\"><span class=\"toc-item-num\">3.1.3&nbsp;&nbsp;</span>Логистическая регрессия</a></span></li></ul></li><li><span><a href=\"#Борьба-с-дисбалансом-с-помощью-метода-upsampling\" data-toc-modified-id=\"Борьба-с-дисбалансом-с-помощью-метода-upsampling-3.2\"><span class=\"toc-item-num\">3.2&nbsp;&nbsp;</span>Борьба с дисбалансом с помощью метода upsampling</a></span><ul class=\"toc-item\"><li><span><a href=\"#Дерево-решений\" data-toc-modified-id=\"Дерево-решений-3.2.1\"><span class=\"toc-item-num\">3.2.1&nbsp;&nbsp;</span>Дерево решений</a></span></li><li><span><a href=\"#Случайный-лес\" data-toc-modified-id=\"Случайный-лес-3.2.2\"><span class=\"toc-item-num\">3.2.2&nbsp;&nbsp;</span>Случайный лес</a></span></li><li><span><a href=\"#Логистическая-регрессия\" data-toc-modified-id=\"Логистическая-регрессия-3.2.3\"><span class=\"toc-item-num\">3.2.3&nbsp;&nbsp;</span>Логистическая регрессия</a></span></li></ul></li></ul></li><li><span><a href=\"#Тестирование-модели\" data-toc-modified-id=\"Тестирование-модели-4\"><span class=\"toc-item-num\">4&nbsp;&nbsp;</span>Тестирование модели</a></span></li><li><span><a href=\"#Чек-лист-готовности-проекта\" data-toc-modified-id=\"Чек-лист-готовности-проекта-5\"><span class=\"toc-item-num\">5&nbsp;&nbsp;</span>Чек-лист готовности проекта</a></span></li></ul></div>"
   ]
  },
  {
   "cell_type": "markdown",
   "metadata": {},
   "source": [
    "# Отток клиентов"
   ]
  },
  {
   "cell_type": "markdown",
   "metadata": {},
   "source": [
    "Из «Бета-Банка» стали уходить клиенты. Каждый месяц. Немного, но заметно. Банковские маркетологи посчитали: сохранять текущих клиентов дешевле, чем привлекать новых.\n",
    "\n",
    "Нужно спрогнозировать, уйдёт клиент из банка в ближайшее время или нет. Вам предоставлены исторические данные о поведении клиентов и расторжении договоров с банком. \n",
    "\n",
    "Постройте модель с предельно большим значением *F1*-меры. Чтобы сдать проект успешно, нужно довести метрику до 0.59. Проверьте *F1*-меру на тестовой выборке самостоятельно.\n",
    "\n",
    "Дополнительно измеряйте *AUC-ROC*, сравнивайте её значение с *F1*-мерой.\n",
    "\n"
   ]
  },
  {
   "cell_type": "markdown",
   "metadata": {},
   "source": [
    "Цель исследования - построить модель, предсказывающую, уйдет ли клиент банка в ближайшее время или нет. Вариантов поведения клиентов всего два, соответственно, модель будет решать задачу классификации.\n",
    "Исследование будет проходить в несколько этапов:\n",
    "- предобработка данных: при необхоимости будут обработаны пропуски, данные будут приведены к корректному типу, проверены на наличие дубликатов;\n",
    "- далее будет изучен баланс классов в имеющихся данных;\n",
    "- разделение исходных данных  на обучающую, валидационную и тестовую выборки;\n",
    "- построение моделей: решающее дерево, случайный лес, логистическая регрессия, выбор модели с самым большим знаечнием F1-меры;\n",
    "- улучшение выбранной модели;\n",
    "- проверка выбранной модели на тестовой выборке;\n",
    "- выводы."
   ]
  },
  {
   "cell_type": "markdown",
   "metadata": {},
   "source": [
    "## Подготовка данных"
   ]
  },
  {
   "cell_type": "code",
   "execution_count": 1,
   "metadata": {},
   "outputs": [],
   "source": [
    "import pandas as pd\n",
    "import numpy as np\n",
    "from sklearn.model_selection import train_test_split\n",
    "from sklearn.preprocessing import OneHotEncoder\n",
    "from sklearn.preprocessing import StandardScaler\n",
    "from sklearn.tree import DecisionTreeClassifier\n",
    "from sklearn.ensemble import RandomForestClassifier\n",
    "from sklearn.linear_model import LogisticRegression\n",
    "from sklearn.metrics import f1_score\n",
    "from sklearn.metrics import roc_auc_score\n",
    "from sklearn.utils import shuffle\n",
    "from sklearn.compose import ColumnTransformer\n",
    "from sklearn.metrics import roc_curve\n",
    "import matplotlib.pyplot as plt"
   ]
  },
  {
   "cell_type": "code",
   "execution_count": 2,
   "metadata": {},
   "outputs": [],
   "source": [
    "df = pd.read_csv('/datasets/Churn.csv') "
   ]
  },
  {
   "cell_type": "code",
   "execution_count": 3,
   "metadata": {},
   "outputs": [
    {
     "name": "stdout",
     "output_type": "stream",
     "text": [
      "<class 'pandas.core.frame.DataFrame'>\n",
      "RangeIndex: 10000 entries, 0 to 9999\n",
      "Data columns (total 14 columns):\n",
      " #   Column           Non-Null Count  Dtype  \n",
      "---  ------           --------------  -----  \n",
      " 0   RowNumber        10000 non-null  int64  \n",
      " 1   CustomerId       10000 non-null  int64  \n",
      " 2   Surname          10000 non-null  object \n",
      " 3   CreditScore      10000 non-null  int64  \n",
      " 4   Geography        10000 non-null  object \n",
      " 5   Gender           10000 non-null  object \n",
      " 6   Age              10000 non-null  int64  \n",
      " 7   Tenure           9091 non-null   float64\n",
      " 8   Balance          10000 non-null  float64\n",
      " 9   NumOfProducts    10000 non-null  int64  \n",
      " 10  HasCrCard        10000 non-null  int64  \n",
      " 11  IsActiveMember   10000 non-null  int64  \n",
      " 12  EstimatedSalary  10000 non-null  float64\n",
      " 13  Exited           10000 non-null  int64  \n",
      "dtypes: float64(3), int64(8), object(3)\n",
      "memory usage: 1.1+ MB\n"
     ]
    }
   ],
   "source": [
    "df.info()"
   ]
  },
  {
   "cell_type": "code",
   "execution_count": 4,
   "metadata": {},
   "outputs": [
    {
     "data": {
      "text/plain": [
       "1.0     952\n",
       "2.0     950\n",
       "8.0     933\n",
       "3.0     928\n",
       "5.0     927\n",
       "7.0     925\n",
       "4.0     885\n",
       "9.0     882\n",
       "6.0     881\n",
       "10.0    446\n",
       "0.0     382\n",
       "Name: Tenure, dtype: int64"
      ]
     },
     "execution_count": 4,
     "metadata": {},
     "output_type": "execute_result"
    }
   ],
   "source": [
    "df['Tenure'].value_counts()"
   ]
  },
  {
   "cell_type": "code",
   "execution_count": 5,
   "metadata": {},
   "outputs": [
    {
     "data": {
      "text/plain": [
       "RowNumber            0\n",
       "CustomerId           0\n",
       "Surname              0\n",
       "CreditScore          0\n",
       "Geography            0\n",
       "Gender               0\n",
       "Age                  0\n",
       "Tenure             909\n",
       "Balance              0\n",
       "NumOfProducts        0\n",
       "HasCrCard            0\n",
       "IsActiveMember       0\n",
       "EstimatedSalary      0\n",
       "Exited               0\n",
       "dtype: int64"
      ]
     },
     "execution_count": 5,
     "metadata": {},
     "output_type": "execute_result"
    }
   ],
   "source": [
    "df.isna().sum()"
   ]
  },
  {
   "cell_type": "markdown",
   "metadata": {},
   "source": [
    "Пропускив в изучаемых данных имеютя только в одном столбце Tenure. При удалении пропусков потеряется порядка 9 процентов данных, заполнение константным значением - средним/медианой может исказить данные. Столбец хранит информацию о том, в течение скольки лет человек является клиентом банка и заполнен числами от 0 до 10. Заполним отсутствующие значения случайным образом числами из заданного диапазона. Поскольку ячейка содержит только целые положительные числа, тип ячейки можно перевести в int."
   ]
  },
  {
   "cell_type": "code",
   "execution_count": 6,
   "metadata": {},
   "outputs": [],
   "source": [
    "df['Tenure'] = df['Tenure'].fillna(pd.Series(np.random.randint(0,11, size = 10000))) # заполняем пропуски\n",
    "df['Tenure'] = df['Tenure'].astype('int64') # приводим данные в целочисленный тип"
   ]
  },
  {
   "cell_type": "markdown",
   "metadata": {},
   "source": [
    "В датасете содержится персональная информация - фамилии клиентов и идентификационные номера. Эти данные не влияют на целевую переменную (вряд ли люди с фамилией \"Смирнов\" более ответственные заемщики, чем люди с более редкой фамилией. Однако распространенность фамилии может увести модель по ложному следу). Удалим персональные данные. "
   ]
  },
  {
   "cell_type": "code",
   "execution_count": 7,
   "metadata": {},
   "outputs": [],
   "source": [
    "df = df.drop(['CustomerId', 'Surname', 'RowNumber'], axis=1)"
   ]
  },
  {
   "cell_type": "code",
   "execution_count": 8,
   "metadata": {},
   "outputs": [
    {
     "name": "stdout",
     "output_type": "stream",
     "text": [
      "<class 'pandas.core.frame.DataFrame'>\n",
      "RangeIndex: 10000 entries, 0 to 9999\n",
      "Data columns (total 11 columns):\n",
      " #   Column           Non-Null Count  Dtype  \n",
      "---  ------           --------------  -----  \n",
      " 0   CreditScore      10000 non-null  int64  \n",
      " 1   Geography        10000 non-null  object \n",
      " 2   Gender           10000 non-null  object \n",
      " 3   Age              10000 non-null  int64  \n",
      " 4   Tenure           10000 non-null  int64  \n",
      " 5   Balance          10000 non-null  float64\n",
      " 6   NumOfProducts    10000 non-null  int64  \n",
      " 7   HasCrCard        10000 non-null  int64  \n",
      " 8   IsActiveMember   10000 non-null  int64  \n",
      " 9   EstimatedSalary  10000 non-null  float64\n",
      " 10  Exited           10000 non-null  int64  \n",
      "dtypes: float64(2), int64(7), object(2)\n",
      "memory usage: 859.5+ KB\n"
     ]
    }
   ],
   "source": [
    "df.info() # убедимся, что все манипуляции выше сработали верно"
   ]
  },
  {
   "cell_type": "code",
   "execution_count": 9,
   "metadata": {},
   "outputs": [
    {
     "data": {
      "text/plain": [
       "0"
      ]
     },
     "execution_count": 9,
     "metadata": {},
     "output_type": "execute_result"
    }
   ],
   "source": [
    "df.duplicated().sum() # явные дубликаты отсутствуют"
   ]
  },
  {
   "cell_type": "markdown",
   "metadata": {},
   "source": [
    "С помощью метода describe() убедимся, что в датасете нет аномалий (например, тысячалетних клиентов банка). "
   ]
  },
  {
   "cell_type": "code",
   "execution_count": 10,
   "metadata": {},
   "outputs": [
    {
     "data": {
      "text/html": [
       "<div>\n",
       "<style scoped>\n",
       "    .dataframe tbody tr th:only-of-type {\n",
       "        vertical-align: middle;\n",
       "    }\n",
       "\n",
       "    .dataframe tbody tr th {\n",
       "        vertical-align: top;\n",
       "    }\n",
       "\n",
       "    .dataframe thead th {\n",
       "        text-align: right;\n",
       "    }\n",
       "</style>\n",
       "<table border=\"1\" class=\"dataframe\">\n",
       "  <thead>\n",
       "    <tr style=\"text-align: right;\">\n",
       "      <th></th>\n",
       "      <th>CreditScore</th>\n",
       "      <th>Age</th>\n",
       "      <th>Tenure</th>\n",
       "      <th>Balance</th>\n",
       "      <th>NumOfProducts</th>\n",
       "      <th>HasCrCard</th>\n",
       "      <th>IsActiveMember</th>\n",
       "      <th>EstimatedSalary</th>\n",
       "      <th>Exited</th>\n",
       "    </tr>\n",
       "  </thead>\n",
       "  <tbody>\n",
       "    <tr>\n",
       "      <th>count</th>\n",
       "      <td>10000.000000</td>\n",
       "      <td>10000.000000</td>\n",
       "      <td>10000.000000</td>\n",
       "      <td>10000.000000</td>\n",
       "      <td>10000.000000</td>\n",
       "      <td>10000.00000</td>\n",
       "      <td>10000.000000</td>\n",
       "      <td>10000.000000</td>\n",
       "      <td>10000.000000</td>\n",
       "    </tr>\n",
       "    <tr>\n",
       "      <th>mean</th>\n",
       "      <td>650.528800</td>\n",
       "      <td>38.921800</td>\n",
       "      <td>4.994400</td>\n",
       "      <td>76485.889288</td>\n",
       "      <td>1.530200</td>\n",
       "      <td>0.70550</td>\n",
       "      <td>0.515100</td>\n",
       "      <td>100090.239881</td>\n",
       "      <td>0.203700</td>\n",
       "    </tr>\n",
       "    <tr>\n",
       "      <th>std</th>\n",
       "      <td>96.653299</td>\n",
       "      <td>10.487806</td>\n",
       "      <td>2.915685</td>\n",
       "      <td>62397.405202</td>\n",
       "      <td>0.581654</td>\n",
       "      <td>0.45584</td>\n",
       "      <td>0.499797</td>\n",
       "      <td>57510.492818</td>\n",
       "      <td>0.402769</td>\n",
       "    </tr>\n",
       "    <tr>\n",
       "      <th>min</th>\n",
       "      <td>350.000000</td>\n",
       "      <td>18.000000</td>\n",
       "      <td>0.000000</td>\n",
       "      <td>0.000000</td>\n",
       "      <td>1.000000</td>\n",
       "      <td>0.00000</td>\n",
       "      <td>0.000000</td>\n",
       "      <td>11.580000</td>\n",
       "      <td>0.000000</td>\n",
       "    </tr>\n",
       "    <tr>\n",
       "      <th>25%</th>\n",
       "      <td>584.000000</td>\n",
       "      <td>32.000000</td>\n",
       "      <td>2.000000</td>\n",
       "      <td>0.000000</td>\n",
       "      <td>1.000000</td>\n",
       "      <td>0.00000</td>\n",
       "      <td>0.000000</td>\n",
       "      <td>51002.110000</td>\n",
       "      <td>0.000000</td>\n",
       "    </tr>\n",
       "    <tr>\n",
       "      <th>50%</th>\n",
       "      <td>652.000000</td>\n",
       "      <td>37.000000</td>\n",
       "      <td>5.000000</td>\n",
       "      <td>97198.540000</td>\n",
       "      <td>1.000000</td>\n",
       "      <td>1.00000</td>\n",
       "      <td>1.000000</td>\n",
       "      <td>100193.915000</td>\n",
       "      <td>0.000000</td>\n",
       "    </tr>\n",
       "    <tr>\n",
       "      <th>75%</th>\n",
       "      <td>718.000000</td>\n",
       "      <td>44.000000</td>\n",
       "      <td>7.250000</td>\n",
       "      <td>127644.240000</td>\n",
       "      <td>2.000000</td>\n",
       "      <td>1.00000</td>\n",
       "      <td>1.000000</td>\n",
       "      <td>149388.247500</td>\n",
       "      <td>0.000000</td>\n",
       "    </tr>\n",
       "    <tr>\n",
       "      <th>max</th>\n",
       "      <td>850.000000</td>\n",
       "      <td>92.000000</td>\n",
       "      <td>10.000000</td>\n",
       "      <td>250898.090000</td>\n",
       "      <td>4.000000</td>\n",
       "      <td>1.00000</td>\n",
       "      <td>1.000000</td>\n",
       "      <td>199992.480000</td>\n",
       "      <td>1.000000</td>\n",
       "    </tr>\n",
       "  </tbody>\n",
       "</table>\n",
       "</div>"
      ],
      "text/plain": [
       "        CreditScore           Age        Tenure        Balance  NumOfProducts  \\\n",
       "count  10000.000000  10000.000000  10000.000000   10000.000000   10000.000000   \n",
       "mean     650.528800     38.921800      4.994400   76485.889288       1.530200   \n",
       "std       96.653299     10.487806      2.915685   62397.405202       0.581654   \n",
       "min      350.000000     18.000000      0.000000       0.000000       1.000000   \n",
       "25%      584.000000     32.000000      2.000000       0.000000       1.000000   \n",
       "50%      652.000000     37.000000      5.000000   97198.540000       1.000000   \n",
       "75%      718.000000     44.000000      7.250000  127644.240000       2.000000   \n",
       "max      850.000000     92.000000     10.000000  250898.090000       4.000000   \n",
       "\n",
       "         HasCrCard  IsActiveMember  EstimatedSalary        Exited  \n",
       "count  10000.00000    10000.000000     10000.000000  10000.000000  \n",
       "mean       0.70550        0.515100    100090.239881      0.203700  \n",
       "std        0.45584        0.499797     57510.492818      0.402769  \n",
       "min        0.00000        0.000000        11.580000      0.000000  \n",
       "25%        0.00000        0.000000     51002.110000      0.000000  \n",
       "50%        1.00000        1.000000    100193.915000      0.000000  \n",
       "75%        1.00000        1.000000    149388.247500      0.000000  \n",
       "max        1.00000        1.000000    199992.480000      1.000000  "
      ]
     },
     "execution_count": 10,
     "metadata": {},
     "output_type": "execute_result"
    }
   ],
   "source": [
    "df.describe()"
   ]
  },
  {
   "cell_type": "code",
   "execution_count": 11,
   "metadata": {},
   "outputs": [
    {
     "data": {
      "text/html": [
       "<div>\n",
       "<style scoped>\n",
       "    .dataframe tbody tr th:only-of-type {\n",
       "        vertical-align: middle;\n",
       "    }\n",
       "\n",
       "    .dataframe tbody tr th {\n",
       "        vertical-align: top;\n",
       "    }\n",
       "\n",
       "    .dataframe thead th {\n",
       "        text-align: right;\n",
       "    }\n",
       "</style>\n",
       "<table border=\"1\" class=\"dataframe\">\n",
       "  <thead>\n",
       "    <tr style=\"text-align: right;\">\n",
       "      <th></th>\n",
       "      <th>CreditScore</th>\n",
       "      <th>Geography</th>\n",
       "      <th>Gender</th>\n",
       "      <th>Age</th>\n",
       "      <th>Tenure</th>\n",
       "      <th>Balance</th>\n",
       "      <th>NumOfProducts</th>\n",
       "      <th>HasCrCard</th>\n",
       "      <th>IsActiveMember</th>\n",
       "      <th>EstimatedSalary</th>\n",
       "      <th>Exited</th>\n",
       "    </tr>\n",
       "  </thead>\n",
       "  <tbody>\n",
       "    <tr>\n",
       "      <th>count</th>\n",
       "      <td>10000.000000</td>\n",
       "      <td>10000</td>\n",
       "      <td>10000</td>\n",
       "      <td>10000.000000</td>\n",
       "      <td>10000.000000</td>\n",
       "      <td>10000.000000</td>\n",
       "      <td>10000.000000</td>\n",
       "      <td>10000.00000</td>\n",
       "      <td>10000.000000</td>\n",
       "      <td>10000.000000</td>\n",
       "      <td>10000.000000</td>\n",
       "    </tr>\n",
       "    <tr>\n",
       "      <th>unique</th>\n",
       "      <td>NaN</td>\n",
       "      <td>3</td>\n",
       "      <td>2</td>\n",
       "      <td>NaN</td>\n",
       "      <td>NaN</td>\n",
       "      <td>NaN</td>\n",
       "      <td>NaN</td>\n",
       "      <td>NaN</td>\n",
       "      <td>NaN</td>\n",
       "      <td>NaN</td>\n",
       "      <td>NaN</td>\n",
       "    </tr>\n",
       "    <tr>\n",
       "      <th>top</th>\n",
       "      <td>NaN</td>\n",
       "      <td>France</td>\n",
       "      <td>Male</td>\n",
       "      <td>NaN</td>\n",
       "      <td>NaN</td>\n",
       "      <td>NaN</td>\n",
       "      <td>NaN</td>\n",
       "      <td>NaN</td>\n",
       "      <td>NaN</td>\n",
       "      <td>NaN</td>\n",
       "      <td>NaN</td>\n",
       "    </tr>\n",
       "    <tr>\n",
       "      <th>freq</th>\n",
       "      <td>NaN</td>\n",
       "      <td>5014</td>\n",
       "      <td>5457</td>\n",
       "      <td>NaN</td>\n",
       "      <td>NaN</td>\n",
       "      <td>NaN</td>\n",
       "      <td>NaN</td>\n",
       "      <td>NaN</td>\n",
       "      <td>NaN</td>\n",
       "      <td>NaN</td>\n",
       "      <td>NaN</td>\n",
       "    </tr>\n",
       "    <tr>\n",
       "      <th>mean</th>\n",
       "      <td>650.528800</td>\n",
       "      <td>NaN</td>\n",
       "      <td>NaN</td>\n",
       "      <td>38.921800</td>\n",
       "      <td>4.994400</td>\n",
       "      <td>76485.889288</td>\n",
       "      <td>1.530200</td>\n",
       "      <td>0.70550</td>\n",
       "      <td>0.515100</td>\n",
       "      <td>100090.239881</td>\n",
       "      <td>0.203700</td>\n",
       "    </tr>\n",
       "    <tr>\n",
       "      <th>std</th>\n",
       "      <td>96.653299</td>\n",
       "      <td>NaN</td>\n",
       "      <td>NaN</td>\n",
       "      <td>10.487806</td>\n",
       "      <td>2.915685</td>\n",
       "      <td>62397.405202</td>\n",
       "      <td>0.581654</td>\n",
       "      <td>0.45584</td>\n",
       "      <td>0.499797</td>\n",
       "      <td>57510.492818</td>\n",
       "      <td>0.402769</td>\n",
       "    </tr>\n",
       "    <tr>\n",
       "      <th>min</th>\n",
       "      <td>350.000000</td>\n",
       "      <td>NaN</td>\n",
       "      <td>NaN</td>\n",
       "      <td>18.000000</td>\n",
       "      <td>0.000000</td>\n",
       "      <td>0.000000</td>\n",
       "      <td>1.000000</td>\n",
       "      <td>0.00000</td>\n",
       "      <td>0.000000</td>\n",
       "      <td>11.580000</td>\n",
       "      <td>0.000000</td>\n",
       "    </tr>\n",
       "    <tr>\n",
       "      <th>25%</th>\n",
       "      <td>584.000000</td>\n",
       "      <td>NaN</td>\n",
       "      <td>NaN</td>\n",
       "      <td>32.000000</td>\n",
       "      <td>2.000000</td>\n",
       "      <td>0.000000</td>\n",
       "      <td>1.000000</td>\n",
       "      <td>0.00000</td>\n",
       "      <td>0.000000</td>\n",
       "      <td>51002.110000</td>\n",
       "      <td>0.000000</td>\n",
       "    </tr>\n",
       "    <tr>\n",
       "      <th>50%</th>\n",
       "      <td>652.000000</td>\n",
       "      <td>NaN</td>\n",
       "      <td>NaN</td>\n",
       "      <td>37.000000</td>\n",
       "      <td>5.000000</td>\n",
       "      <td>97198.540000</td>\n",
       "      <td>1.000000</td>\n",
       "      <td>1.00000</td>\n",
       "      <td>1.000000</td>\n",
       "      <td>100193.915000</td>\n",
       "      <td>0.000000</td>\n",
       "    </tr>\n",
       "    <tr>\n",
       "      <th>75%</th>\n",
       "      <td>718.000000</td>\n",
       "      <td>NaN</td>\n",
       "      <td>NaN</td>\n",
       "      <td>44.000000</td>\n",
       "      <td>7.250000</td>\n",
       "      <td>127644.240000</td>\n",
       "      <td>2.000000</td>\n",
       "      <td>1.00000</td>\n",
       "      <td>1.000000</td>\n",
       "      <td>149388.247500</td>\n",
       "      <td>0.000000</td>\n",
       "    </tr>\n",
       "    <tr>\n",
       "      <th>max</th>\n",
       "      <td>850.000000</td>\n",
       "      <td>NaN</td>\n",
       "      <td>NaN</td>\n",
       "      <td>92.000000</td>\n",
       "      <td>10.000000</td>\n",
       "      <td>250898.090000</td>\n",
       "      <td>4.000000</td>\n",
       "      <td>1.00000</td>\n",
       "      <td>1.000000</td>\n",
       "      <td>199992.480000</td>\n",
       "      <td>1.000000</td>\n",
       "    </tr>\n",
       "  </tbody>\n",
       "</table>\n",
       "</div>"
      ],
      "text/plain": [
       "         CreditScore Geography Gender           Age        Tenure  \\\n",
       "count   10000.000000     10000  10000  10000.000000  10000.000000   \n",
       "unique           NaN         3      2           NaN           NaN   \n",
       "top              NaN    France   Male           NaN           NaN   \n",
       "freq             NaN      5014   5457           NaN           NaN   \n",
       "mean      650.528800       NaN    NaN     38.921800      4.994400   \n",
       "std        96.653299       NaN    NaN     10.487806      2.915685   \n",
       "min       350.000000       NaN    NaN     18.000000      0.000000   \n",
       "25%       584.000000       NaN    NaN     32.000000      2.000000   \n",
       "50%       652.000000       NaN    NaN     37.000000      5.000000   \n",
       "75%       718.000000       NaN    NaN     44.000000      7.250000   \n",
       "max       850.000000       NaN    NaN     92.000000     10.000000   \n",
       "\n",
       "              Balance  NumOfProducts    HasCrCard  IsActiveMember  \\\n",
       "count    10000.000000   10000.000000  10000.00000    10000.000000   \n",
       "unique            NaN            NaN          NaN             NaN   \n",
       "top               NaN            NaN          NaN             NaN   \n",
       "freq              NaN            NaN          NaN             NaN   \n",
       "mean     76485.889288       1.530200      0.70550        0.515100   \n",
       "std      62397.405202       0.581654      0.45584        0.499797   \n",
       "min          0.000000       1.000000      0.00000        0.000000   \n",
       "25%          0.000000       1.000000      0.00000        0.000000   \n",
       "50%      97198.540000       1.000000      1.00000        1.000000   \n",
       "75%     127644.240000       2.000000      1.00000        1.000000   \n",
       "max     250898.090000       4.000000      1.00000        1.000000   \n",
       "\n",
       "        EstimatedSalary        Exited  \n",
       "count      10000.000000  10000.000000  \n",
       "unique              NaN           NaN  \n",
       "top                 NaN           NaN  \n",
       "freq                NaN           NaN  \n",
       "mean      100090.239881      0.203700  \n",
       "std        57510.492818      0.402769  \n",
       "min           11.580000      0.000000  \n",
       "25%        51002.110000      0.000000  \n",
       "50%       100193.915000      0.000000  \n",
       "75%       149388.247500      0.000000  \n",
       "max       199992.480000      1.000000  "
      ]
     },
     "execution_count": 11,
     "metadata": {},
     "output_type": "execute_result"
    }
   ],
   "source": [
    "df.describe(include='all')"
   ]
  },
  {
   "cell_type": "code",
   "execution_count": 12,
   "metadata": {},
   "outputs": [
    {
     "data": {
      "image/png": "[encoded data removed]",
      "text/plain": [
       "<Figure size 576x432 with 1 Axes>"
      ]
     },
     "metadata": {
      "needs_background": "light"
     },
     "output_type": "display_data"
    }
   ],
   "source": [
    "# построим график распределения целевого показателя\n",
    "df['Exited'].value_counts().\\\n",
    "             plot(kind='bar', grid=True, figsize=(8,6), title='Число оставшихся и ушедших клиентов');"
   ]
  },
  {
   "cell_type": "markdown",
   "metadata": {},
   "source": [
    "Вывод: были рассмотрены и предобработаны данные, пропуски имелись только в одном столбце и были заполнены случайным образом из выбранного диапазона. Явные дубликаты и аномалии в данных не обнаружены. Из построенного графика виден имеющийся в данных дисбаланс - число оставшихся клиентов превышает число ушедших в 4 раза. "
   ]
  },
  {
   "cell_type": "markdown",
   "metadata": {},
   "source": [
    "## Исследование задачи"
   ]
  },
  {
   "cell_type": "markdown",
   "metadata": {},
   "source": [
    "### Разделим данные на выборки"
   ]
  },
  {
   "cell_type": "code",
   "execution_count": 13,
   "metadata": {
    "scrolled": true
   },
   "outputs": [
    {
     "name": "stdout",
     "output_type": "stream",
     "text": [
      "Размер обучающей выборки 6000\n",
      "Размер валидационной выборки 2000\n",
      "Размер тестовой выборки 2000\n"
     ]
    }
   ],
   "source": [
    "# Разделим данные на обучающую, валидационную и тестовую выборку\n",
    "\n",
    "features = df.drop(['Exited'], axis=1) # признаки, на которых будет обучаться модель\n",
    "target = df['Exited'] # целевой признак \n",
    "\n",
    "# данные необходимо разделить на 3 выборки. \n",
    "# делить будем в соотношении 60-20-20 процентов\n",
    "# Поскольку в данных имеется дисбаланс, используем stratify\n",
    "\n",
    "# Сначала отделяем обучающую выборку train\n",
    "features_train, features_rest, target_train, target_rest = train_test_split\\\n",
    "(features, target, test_size=0.4, stratify=target, random_state=12345)\n",
    "\n",
    "# теперь оставшуюся часть делим на две равные выборки\n",
    "features_valid, features_test, target_valid,target_test = train_test_split\\\n",
    "(features_rest, target_rest,test_size=0.5, stratify=target_rest, random_state=12345)\n",
    "\n",
    "# выводим размеры полученных выборок\n",
    "print('Размер обучающей выборки', len(features_train))\n",
    "print('Размер валидационной выборки', len(features_valid))\n",
    "print('Размер тестовой выборки', len(features_test))"
   ]
  },
  {
   "cell_type": "markdown",
   "metadata": {},
   "source": [
    "### Проведем кодирование категориальных признаков, а также стандартизацию"
   ]
  },
  {
   "cell_type": "markdown",
   "metadata": {},
   "source": [
    "В данных содержатся категориальные переменные - пол и география, которые необходимо закодировать. Также в данных встречаются столбцы со значениями разного масштаба, чтобы привести значения к единому масштабу, используем StandardScaler "
   ]
  },
  {
   "cell_type": "code",
   "execution_count": 14,
   "metadata": {},
   "outputs": [],
   "source": [
    "# Выделяем категориальные признаки\n",
    "category = ['Geography', 'Gender']\n",
    "# Выделяем признаки, которые необходимо масштабировать\n",
    "numeric= ['CreditScore','Age','Tenure','Balance','NumOfProducts','EstimatedSalary']\n",
    "\n",
    "# Создаем преобразователь\n",
    "col_transformer = ColumnTransformer(transformers=[\n",
    "                                   ('ohe', OneHotEncoder(), category), ('ss', StandardScaler(), numeric)])\n",
    "\n",
    "# Обучаем преобразователь на тренировочной выборке\n",
    "col_transformer.fit(features_train)\n",
    "\n",
    "# Преобразовываем обучающую выборку\n",
    "# Датафреймы из полученных выборок создаются для удобства последующего использования\n",
    "# (в частности для применения метода апсэмплинга)\n",
    "\n",
    "features_train = pd.DataFrame(col_transformer.transform(features_train), index=features_train.index)\n",
    "# Преобразовываем валидационную выборку\n",
    "features_valid = pd.DataFrame(col_transformer.transform(features_valid), index=features_valid.index)\n",
    "# Преобразовываем тестовую выборку\n",
    "features_test = pd.DataFrame(col_transformer.transform(features_test),index=features_test.index)\n"
   ]
  },
  {
   "cell_type": "markdown",
   "metadata": {},
   "source": [
    "### Обучим модели без учета дисбаланса классов\n"
   ]
  },
  {
   "cell_type": "markdown",
   "metadata": {},
   "source": [
    "#### Дерево решений"
   ]
  },
  {
   "cell_type": "code",
   "execution_count": 37,
   "metadata": {},
   "outputs": [
    {
     "name": "stdout",
     "output_type": "stream",
     "text": [
      "F-1 наилучшей модели на валидационной выборке: 0.572972972972973\n",
      "AUC-ROC наилучшей модели 0.8090344492068184\n",
      "Глубина дерева: 9\n",
      "CPU times: user 193 ms, sys: 0 ns, total: 193 ms\n",
      "Wall time: 191 ms\n"
     ]
    }
   ],
   "source": [
    "%%time\n",
    "\n",
    "# Построим модель Дерево решений\n",
    "# Для подбора оптимальных гиперпараметров переберем в цикле разные значения глубины\n",
    "\n",
    "best_f1 = 0\n",
    "best_depth = 0\n",
    "best_auc_roc = 0\n",
    "for depth in range(1,11):\n",
    "    model_tree = DecisionTreeClassifier(random_state=12345,max_depth=depth)\n",
    "    model_tree.fit(features_train,target_train)\n",
    "    predictions_valid = model_tree.predict(features_valid)\n",
    "    result = f1_score(target_valid,predictions_valid)\n",
    "    probabilities_valid = model_tree.predict_proba(features_valid)\n",
    "    probabilities_one_valid = probabilities_valid[:,1]\n",
    "    auc_roc = roc_auc_score(target_valid,probabilities_one_valid)\n",
    "    if result > best_f1:\n",
    "        best_depth=depth\n",
    "        best_f1 = result \n",
    "        best_auc_roc = auc_roc\n",
    "print('F-1 наилучшей модели на валидационной выборке:', best_f1)\n",
    "print('AUC-ROC наилучшей модели', best_auc_roc)\n",
    "print('Глубина дерева:', best_depth)\n",
    "\n"
   ]
  },
  {
   "cell_type": "markdown",
   "metadata": {},
   "source": [
    "#### Случайный лес"
   ]
  },
  {
   "cell_type": "code",
   "execution_count": 38,
   "metadata": {},
   "outputs": [
    {
     "name": "stdout",
     "output_type": "stream",
     "text": [
      "F-1  наилучшей модели на валидационной выборке: 0.571875\n",
      "Число деревьев наилучшей модели на валидационной выборке: 20\n",
      "AUC-ROC наилучшей модели 0.8653269410779386\n",
      "Глубина деревьев наилучшей модели на валидационной выборке: 8\n",
      "CPU times: user 4.13 s, sys: 29.4 ms, total: 4.16 s\n",
      "Wall time: 4.16 s\n"
     ]
    }
   ],
   "source": [
    "%%time\n",
    "# Построим модель Случайный лес\n",
    "# Для подбора оптимальных гиперпараметров переберем в цикле разные значения числа деревьев и их глубины\n",
    "\n",
    "best_f1 = 0\n",
    "best_est = 0\n",
    "best_depth = 0\n",
    "best_auc_roc = 0\n",
    "for est in range(10,50,10):\n",
    "    for depth in range(1,10):\n",
    "        model_forest = RandomForestClassifier(random_state=12345,n_estimators=est, max_depth=depth)\n",
    "        model_forest.fit(features_train,target_train)\n",
    "        predictions_valid = model_forest.predict(features_valid)\n",
    "        result = f1_score(target_valid,predictions_valid)\n",
    "        probabilities_valid = model_forest.predict_proba(features_valid)\n",
    "        probabilities_one_valid = probabilities_valid[:,1]\n",
    "        auc_roc = roc_auc_score(target_valid,probabilities_one_valid)\n",
    "        if result > best_f1:\n",
    "            best_est = est\n",
    "            best_depth = depth\n",
    "            best_f1 = result  \n",
    "            best_auc_roc = auc_roc\n",
    "print('F-1  наилучшей модели на валидационной выборке:', best_f1)\n",
    "print('Число деревьев наилучшей модели на валидационной выборке:', best_est)\n",
    "print('AUC-ROC наилучшей модели', best_auc_roc)\n",
    "print('Глубина деревьев наилучшей модели на валидационной выборке:', best_depth)\n"
   ]
  },
  {
   "cell_type": "markdown",
   "metadata": {},
   "source": [
    "#### Логистическая регрессия"
   ]
  },
  {
   "cell_type": "code",
   "execution_count": 39,
   "metadata": {},
   "outputs": [
    {
     "name": "stdout",
     "output_type": "stream",
     "text": [
      "F-1  линейной модели на валидационной выборке:  0.1937984496124031\n",
      "AUC-ROC линейной модели на валидационной выборке 0.7823169154596512\n",
      "CPU times: user 66.5 ms, sys: 160 ms, total: 227 ms\n",
      "Wall time: 188 ms\n"
     ]
    }
   ],
   "source": [
    "%%time\n",
    "# Построим модель Логистической регрессии\n",
    "\n",
    "model_lr=LogisticRegression(random_state=12345, solver='lbfgs')                         \n",
    "model_lr.fit(features_train,target_train)\n",
    "predictions_valid = model_lr.predict(features_valid)\n",
    "probabilities_valid = model_lr.predict_proba(features_valid)\n",
    "probabilities_one_valid = probabilities_valid[:,1]\n",
    "\n",
    "print('F-1  линейной модели на валидационной выборке: ', f1_score(target_valid,predictions_valid))\n",
    "print('AUC-ROC линейной модели на валидационной выборке',roc_auc_score(target_valid,probabilities_one_valid))\n",
    "   "
   ]
  },
  {
   "cell_type": "markdown",
   "metadata": {},
   "source": [
    "Вывод: Наилучшие показатели f-1 и AUC-ROC до балансировки данных показала модель дерево решений, наихудшие логистическая регрессия, поскольку данная модель чувствительна к дисбалансу классов."
   ]
  },
  {
   "cell_type": "markdown",
   "metadata": {},
   "source": [
    "## Борьба с дисбалансом\n"
   ]
  },
  {
   "cell_type": "markdown",
   "metadata": {},
   "source": [
    "### Борьба с дисбалансом с помощью class_weight='balanced'"
   ]
  },
  {
   "cell_type": "markdown",
   "metadata": {},
   "source": [
    "В данных имеется дисбаланс - ушедших клиентов в 4 раза меньше, чем оставшихся. Устраним дисбаланс с помощью параметра class_weight='balanced'"
   ]
  },
  {
   "cell_type": "markdown",
   "metadata": {},
   "source": [
    "#### Дерево решений"
   ]
  },
  {
   "cell_type": "code",
   "execution_count": 40,
   "metadata": {},
   "outputs": [
    {
     "name": "stdout",
     "output_type": "stream",
     "text": [
      "F-1 наилучшей модели на валидационной выборке: 0.5886588658865887\n",
      "AUC-ROC наилучшей модели 0.8497165669031431\n",
      "Глубина дерева: 5\n",
      "CPU times: user 215 ms, sys: 188 µs, total: 216 ms\n",
      "Wall time: 214 ms\n"
     ]
    }
   ],
   "source": [
    "%%time\n",
    "# Построим модель Деверо решений с учетом балансировки классов\n",
    "best_f1 = 0\n",
    "best_depth = 0\n",
    "best_auc_roc = 0\n",
    "for depth in range(1,11):\n",
    "    model_tree = DecisionTreeClassifier(class_weight='balanced', random_state=12345,max_depth=depth)\n",
    "    model_tree.fit(features_train,target_train)\n",
    "    predictions_valid = model_tree.predict(features_valid)\n",
    "    result = f1_score(target_valid,predictions_valid)\n",
    "    probabilities_valid = model_tree.predict_proba(features_valid)\n",
    "    probabilities_one_valid = probabilities_valid[:,1]\n",
    "    auc_roc = roc_auc_score(target_valid,probabilities_one_valid)\n",
    "    if result > best_f1:\n",
    "        best_depth=depth\n",
    "        best_f1 = result \n",
    "        best_auc_roc = auc_roc\n",
    "print('F-1 наилучшей модели на валидационной выборке:', best_f1)\n",
    "print('AUC-ROC наилучшей модели', best_auc_roc)\n",
    "print('Глубина дерева:', best_depth)\n",
    "\n"
   ]
  },
  {
   "cell_type": "markdown",
   "metadata": {},
   "source": [
    "#### Случайный лес"
   ]
  },
  {
   "cell_type": "code",
   "execution_count": 41,
   "metadata": {},
   "outputs": [
    {
     "name": "stdout",
     "output_type": "stream",
     "text": [
      "F-1  наилучшей модели на валидационной выборке: 0.6366559485530547\n",
      "Число деревьев наилучшей модели на валидационной выборке: 40\n",
      "AUC-ROC наилучшей модели 0.8637196398659968\n",
      "Глубина деревьев наилучшей модели на валидационной выборке: 9\n",
      "CPU times: user 4.16 s, sys: 30.2 ms, total: 4.19 s\n",
      "Wall time: 4.19 s\n"
     ]
    }
   ],
   "source": [
    "%%time\n",
    "# Построим модель Случайный лес с учетом балансировки классов\n",
    "best_f1 = 0\n",
    "best_est = 0\n",
    "best_depth = 0\n",
    "best_auc_roc = 0\n",
    "for est in range(10,50, 10):\n",
    "    for depth in range(1,10):\n",
    "        model_forest = RandomForestClassifier(class_weight='balanced', \\\n",
    "                                              random_state=12345,n_estimators=est, max_depth=depth)\n",
    "        model_forest.fit(features_train,target_train)\n",
    "        predictions_valid = model_forest.predict(features_valid)\n",
    "        result = f1_score(target_valid,predictions_valid)\n",
    "        probabilities_valid = model_forest.predict_proba(features_valid)\n",
    "        probabilities_one_valid = probabilities_valid[:,1]\n",
    "        auc_roc = roc_auc_score(target_valid,probabilities_one_valid)\n",
    "        if result > best_f1:\n",
    "            best_est = est\n",
    "            best_depth = depth\n",
    "            best_f1 = result  \n",
    "            best_auc_roc = auc_roc\n",
    "print('F-1  наилучшей модели на валидационной выборке:', best_f1)\n",
    "print('Число деревьев наилучшей модели на валидационной выборке:', best_est)\n",
    "print('AUC-ROC наилучшей модели', best_auc_roc)\n",
    "print('Глубина деревьев наилучшей модели на валидационной выборке:', best_depth)"
   ]
  },
  {
   "cell_type": "markdown",
   "metadata": {},
   "source": [
    "#### Логистическая регрессия"
   ]
  },
  {
   "cell_type": "code",
   "execution_count": 42,
   "metadata": {},
   "outputs": [
    {
     "name": "stdout",
     "output_type": "stream",
     "text": [
      "F-1  линейной модели при устранении дисбаланса:  0.5130434782608696\n",
      "AUC-ROC линейной модели при устранении дисбаланса 0.7862320179328013\n",
      "CPU times: user 64 ms, sys: 248 ms, total: 312 ms\n",
      "Wall time: 219 ms\n"
     ]
    }
   ],
   "source": [
    "%%time\n",
    "# Построим модель Логистической регрессии с учетом балансировки классов\n",
    "\n",
    "model_lr=LogisticRegression(class_weight='balanced', random_state=12345, solver='lbfgs')                         \n",
    "model_lr.fit(features_train,target_train)\n",
    "predictions_valid = model_lr.predict(features_valid)\n",
    "probabilities_valid = model_lr.predict_proba(features_valid)\n",
    "probabilities_one_valid = probabilities_valid[:,1]\n",
    "\n",
    "print('F-1  линейной модели при устранении дисбаланса: ', f1_score(target_valid,predictions_valid))\n",
    "print('AUC-ROC линейной модели при устранении дисбаланса',roc_auc_score(target_valid,probabilities_one_valid))"
   ]
  },
  {
   "cell_type": "markdown",
   "metadata": {},
   "source": [
    "### Борьба с дисбалансом с помощью метода upsampling"
   ]
  },
  {
   "cell_type": "code",
   "execution_count": 43,
   "metadata": {},
   "outputs": [],
   "source": [
    "# напишем Функцию Upsampling для увеличения тренировочной выборки\n",
    "def upsampling (features,target,repeat):\n",
    "    #Разделяем выборку по значениям целевой функции 0 и 1\n",
    "    target_one=target[target==1]\n",
    "    target_null=target[target==0]\n",
    "    features_one=features[target==1]\n",
    "    features_null=features[target==0]\n",
    "    \n",
    "    #Увеличиваем выборку ушедших клиентов и объединяем снова\n",
    "    upsampling_features=pd.concat([features_null]+[features_one]*repeat)\n",
    "    upsampling_target=pd.concat([target_null]+[target_one]*repeat)\n",
    "    \n",
    "    # Перемешиваем\n",
    "    upsampling_features,upsampling_target=shuffle(upsampling_features,upsampling_target,random_state=1234)\n",
    "    \n",
    "    return upsampling_features,upsampling_target"
   ]
  },
  {
   "cell_type": "code",
   "execution_count": 44,
   "metadata": {},
   "outputs": [],
   "source": [
    "# применим функцию на тенировочной выборке\n",
    "features_balanced,target_balanced=upsampling(features_train, target_train, 4)"
   ]
  },
  {
   "cell_type": "markdown",
   "metadata": {},
   "source": [
    "#### Дерево решений"
   ]
  },
  {
   "cell_type": "code",
   "execution_count": 45,
   "metadata": {},
   "outputs": [
    {
     "name": "stdout",
     "output_type": "stream",
     "text": [
      "F-1 наилучшей модели на валидационной выборке: 0.5897204688908927\n",
      "AUC-ROC наилучшей модели 0.8509713087496306\n",
      "Глубина дерева: 5\n",
      "CPU times: user 262 ms, sys: 0 ns, total: 262 ms\n",
      "Wall time: 262 ms\n"
     ]
    }
   ],
   "source": [
    "%%time\n",
    "# Построим модель Деверо решений с учетом балансировки классов\n",
    "best_f1 = 0\n",
    "best_depth = 0\n",
    "best_auc_roc = 0\n",
    "for depth in range(1,11):\n",
    "    model_tree = DecisionTreeClassifier(random_state=12345,max_depth=depth)\n",
    "    model_tree.fit(features_balanced,target_balanced)\n",
    "    predictions_valid = model_tree.predict(features_valid)\n",
    "    result = f1_score(target_valid,predictions_valid)\n",
    "    probabilities_valid = model_tree.predict_proba(features_valid)\n",
    "    probabilities_one_valid = probabilities_valid[:,1]\n",
    "    auc_roc = roc_auc_score(target_valid,probabilities_one_valid)\n",
    "    if result > best_f1:\n",
    "        best_depth=depth\n",
    "        best_f1 = result \n",
    "        best_auc_roc = auc_roc\n",
    "print('F-1 наилучшей модели на валидационной выборке:', best_f1)\n",
    "print('AUC-ROC наилучшей модели', best_auc_roc)\n",
    "print('Глубина дерева:', best_depth)\n"
   ]
  },
  {
   "cell_type": "markdown",
   "metadata": {},
   "source": [
    "#### Случайный лес"
   ]
  },
  {
   "cell_type": "code",
   "execution_count": 46,
   "metadata": {},
   "outputs": [
    {
     "name": "stdout",
     "output_type": "stream",
     "text": [
      "F-1  наилучшей модели на валидационной выборке: 0.6382113821138212\n",
      "Число деревьев наилучшей модели на валидационной выборке: 10\n",
      "AUC-ROC наилучшей модели 0.8696946743521529\n",
      "Глубина деревьев наилучшей модели на валидационной выборке: 9\n",
      "CPU times: user 1min 13s, sys: 223 ms, total: 1min 14s\n",
      "Wall time: 1min 14s\n"
     ]
    }
   ],
   "source": [
    "%%time\n",
    "# Построим модель Случайный лес с учетом балансировки классов\n",
    "best_f1 = 0\n",
    "best_est = 0\n",
    "best_depth = 0\n",
    "best_auc_roc = 0\n",
    "for est in range(10,50):\n",
    "    for depth in range(1,11):\n",
    "        model_forest = RandomForestClassifier(random_state=12345, n_estimators=est, max_depth=depth)\n",
    "        model_forest.fit(features_balanced,target_balanced)\n",
    "        predictions_valid = model_forest.predict(features_valid)\n",
    "        result = f1_score(target_valid,predictions_valid)\n",
    "        probabilities_valid = model_forest.predict_proba(features_valid)\n",
    "        probabilities_one_valid = probabilities_valid[:,1]\n",
    "        auc_roc = roc_auc_score(target_valid,probabilities_one_valid)\n",
    "        if result > best_f1:\n",
    "            best_est = est\n",
    "            best_depth = depth\n",
    "            best_f1 = result  \n",
    "            best_auc_roc = auc_roc\n",
    "print('F-1  наилучшей модели на валидационной выборке:', best_f1)\n",
    "print('Число деревьев наилучшей модели на валидационной выборке:', best_est)\n",
    "print('AUC-ROC наилучшей модели', best_auc_roc)\n",
    "print('Глубина деревьев наилучшей модели на валидационной выборке:', best_depth)"
   ]
  },
  {
   "cell_type": "markdown",
   "metadata": {},
   "source": [
    "#### Логистическая регрессия"
   ]
  },
  {
   "cell_type": "code",
   "execution_count": 47,
   "metadata": {},
   "outputs": [
    {
     "name": "stdout",
     "output_type": "stream",
     "text": [
      "F-1  линейной модели при устранении дисбаланса:  0.5140905209222887\n",
      "AUC-ROC линейной модели при устранении дисбаланса 0.78622585969061\n",
      "CPU times: user 141 ms, sys: 152 ms, total: 292 ms\n",
      "Wall time: 263 ms\n"
     ]
    }
   ],
   "source": [
    "%%time\n",
    "# Построим модель Логистической регрессии с учетом балансировки классов\n",
    "\n",
    "model_lr=LogisticRegression(random_state=12345, solver='lbfgs')                         \n",
    "model_lr.fit(features_balanced,target_balanced)\n",
    "predictions_valid = model_lr.predict(features_valid)\n",
    "probabilities_valid = model_lr.predict_proba(features_valid)\n",
    "probabilities_one_valid = probabilities_valid[:,1]\n",
    "\n",
    "print('F-1  линейной модели при устранении дисбаланса: ', f1_score(target_valid,predictions_valid))\n",
    "print('AUC-ROC линейной модели при устранении дисбаланса',roc_auc_score(target_valid,probabilities_one_valid))"
   ]
  },
  {
   "cell_type": "markdown",
   "metadata": {},
   "source": [
    "Вывод: после балансировки классов качество всех моделей возросло, однако наилучшие показатели по-прежнему у модели случайный лес с числом деревьев 30 и глубиной 9. Используем эти параметры на этапе тестирования модели. Для борьбы с дисбалансом будем использовать class_weight='balanced'."
   ]
  },
  {
   "cell_type": "markdown",
   "metadata": {},
   "source": [
    "## Тестирование модели"
   ]
  },
  {
   "cell_type": "code",
   "execution_count": 51,
   "metadata": {},
   "outputs": [
    {
     "name": "stdout",
     "output_type": "stream",
     "text": [
      "F-1  модели случайный лес на тестовой выборке: 0.5906976744186047\n",
      "AUC-ROC модели случайный лес на тестовой выборке: 0.8430988769971821\n",
      "CPU times: user 274 ms, sys: 41 µs, total: 274 ms\n",
      "Wall time: 272 ms\n"
     ]
    }
   ],
   "source": [
    "%%time\n",
    "# Строим модель Случайный лес с определенными выше гиперпараметрами\n",
    "model_forest = RandomForestClassifier(class_weight='balanced', random_state=12345,n_estimators=40, max_depth=10)\n",
    "model_forest.fit(features_train,target_train)\n",
    "predictions_test = model_forest.predict(features_test)\n",
    "\n",
    "probabilities_test = model_forest.predict_proba(features_test)\n",
    "probabilities_one_test = probabilities_test[:,1]\n",
    "        \n",
    "       \n",
    "print('F-1  модели случайный лес на тестовой выборке:',  f1_score(target_test,predictions_test))\n",
    "\n",
    "print('AUC-ROC модели случайный лес на тестовой выборке:', roc_auc_score(target_test,\\\n",
    "                                                                                   probabilities_one_test))\n"
   ]
  },
  {
   "cell_type": "code",
   "execution_count": 52,
   "metadata": {},
   "outputs": [
    {
     "data": {
      "image/png": "[encoded data removed]",
      "text/plain": [
       "<Figure size 432x288 with 1 Axes>"
      ]
     },
     "metadata": {
      "needs_background": "light"
     },
     "output_type": "display_data"
    }
   ],
   "source": [
    "# Визуализируем, насколько полученная модель отличается от случайной, с помощью графика\n",
    "fpr, tpr,thresholds = roc_curve(target_test, probabilities_one_test)\n",
    "plt.figure()\n",
    "plt.plot(fpr, tpr)\n",
    "plt.xlim([0.0, 1.0])\n",
    "plt.ylim([0.0, 1.0])\n",
    "plt.xlabel('False Positive Rate')\n",
    "plt.ylabel('True Positive Rate')\n",
    "plt.title('ROC-кривая')\n",
    "plt.plot([0,1],[0,1],linestyle='--')\n",
    "plt.show() "
   ]
  },
  {
   "cell_type": "markdown",
   "metadata": {},
   "source": [
    "Из графика видно, что выбранная модель предсказывает лучше случайной."
   ]
  },
  {
   "cell_type": "code",
   "execution_count": 97,
   "metadata": {},
   "outputs": [
    {
     "data": {
      "text/html": [
       "<div>\n",
       "<style scoped>\n",
       "    .dataframe tbody tr th:only-of-type {\n",
       "        vertical-align: middle;\n",
       "    }\n",
       "\n",
       "    .dataframe tbody tr th {\n",
       "        vertical-align: top;\n",
       "    }\n",
       "\n",
       "    .dataframe thead th {\n",
       "        text-align: right;\n",
       "    }\n",
       "</style>\n",
       "<table border=\"1\" class=\"dataframe\">\n",
       "  <thead>\n",
       "    <tr style=\"text-align: right;\">\n",
       "      <th></th>\n",
       "      <th>Борьба с дисбалансом</th>\n",
       "      <th>Дерево решений</th>\n",
       "      <th>Случайный лес</th>\n",
       "      <th>Логистическая регрессия</th>\n",
       "    </tr>\n",
       "  </thead>\n",
       "  <tbody>\n",
       "    <tr>\n",
       "      <th>0</th>\n",
       "      <td>Без учета дисбаланса</td>\n",
       "      <td>0.572</td>\n",
       "      <td>0.567</td>\n",
       "      <td>0.190</td>\n",
       "    </tr>\n",
       "    <tr>\n",
       "      <th>1</th>\n",
       "      <td>C параметром class_weight=balanced</td>\n",
       "      <td>0.597</td>\n",
       "      <td>0.648</td>\n",
       "      <td>0.513</td>\n",
       "    </tr>\n",
       "    <tr>\n",
       "      <th>2</th>\n",
       "      <td>С upsampling</td>\n",
       "      <td>0.596</td>\n",
       "      <td>0.631</td>\n",
       "      <td>0.515</td>\n",
       "    </tr>\n",
       "  </tbody>\n",
       "</table>\n",
       "</div>"
      ],
      "text/plain": [
       "                 Борьба с дисбалансом  Дерево решений  Случайный лес  \\\n",
       "0                Без учета дисбаланса           0.572          0.567   \n",
       "1  C параметром class_weight=balanced           0.597          0.648   \n",
       "2                        С upsampling           0.596          0.631   \n",
       "\n",
       "   Логистическая регрессия  \n",
       "0                    0.190  \n",
       "1                    0.513  \n",
       "2                    0.515  "
      ]
     },
     "execution_count": 97,
     "metadata": {},
     "output_type": "execute_result"
    }
   ],
   "source": [
    "# Выведем значения f1-меры, полученные разными моделями с разными параметрами\n",
    "\n",
    "final_data  =pd.DataFrame([['Без учета дисбаланса', 0.572,0.567, 0.190],\\\n",
    "                           ['C параметром class_weight=balanced', 0.597,0.648, 0.513],\\\n",
    "                           ['С upsampling', 0.596, 0.631,0.515]],\\\n",
    "                          columns = ['Борьба с дисбалансом','Дерево решений',\\\n",
    "                                     'Случайный лес','Логистическая регрессия'])\n",
    "final_data                           \n"
   ]
  },
  {
   "cell_type": "markdown",
   "metadata": {},
   "source": [
    "Выводы:\n",
    "- исследовались архивные данные о поведении клиентов банка;\n",
    "- целью исследования было построение модели, оптимальным образом предсказывающей, останется ли человек клиентом банка или уйдет. Таким образом, строилась модель, решающая задачу классификации;\n",
    "- в начале была проведена предобработка данных, в ходе которой были заполнены пропуски, удалены данные, не влияющие на поведение клиентов (имена, порядковый номер), данные в столбцах приведены к типу, соответствующему содержимому;\n",
    "- далее было проведено кодирование категориальных признаков,  также  числовые признаки приведены к одному масштабу;\n",
    "- были построены три модели: дерево решений, случайный лес и логистическая регрессия, с помощью цикла подбирались оптимальные гиперпараметры;\n",
    "- для каждой модели рассчитывались метрики: f1-мера и auc_roc; \n",
    "- поскольку в данных имелся дисбаланс (число оставшихся клиентов превышало число ушедших в 4 раза), далее была проведена балансировка данных - с помощью параметра class_weight='balanced', а также с помощью метода апсэмплинга;\n",
    "- модели были построены повторно для каждого из указанных методов борьбы с дисбалансом, после чего метрики всех моделей улучшились;\n",
    "- в результате наилучших показателей удалось достичь для модели случайный лес с числом деревьев 30 и глубиной 9, с использованием для балансировки параметра class_weight='balanced'. Данная модель рекомендуется для последующего внедрения. \n",
    "\n",
    "\n"
   ]
  },
  {
   "cell_type": "code",
   "execution_count": null,
   "metadata": {},
   "outputs": [],
   "source": []
  }
 ],
 "metadata": {
  "ExecuteTimeLog": [
   {
    "duration": 45,
    "start_time": "2022-12-22T12:25:33.077Z"
   },
   {
    "duration": 341,
    "start_time": "2022-12-22T12:25:37.356Z"
   },
   {
    "duration": 181,
    "start_time": "2022-12-22T12:25:37.953Z"
   },
   {
    "duration": 9,
    "start_time": "2022-12-22T12:27:40.410Z"
   },
   {
    "duration": 11,
    "start_time": "2022-12-22T12:28:08.465Z"
   },
   {
    "duration": 5,
    "start_time": "2022-12-22T12:32:42.719Z"
   },
   {
    "duration": 9,
    "start_time": "2022-12-22T12:37:09.552Z"
   },
   {
    "duration": 34,
    "start_time": "2022-12-22T12:38:02.183Z"
   },
   {
    "duration": 49,
    "start_time": "2022-12-22T12:39:00.285Z"
   },
   {
    "duration": 13,
    "start_time": "2022-12-22T13:14:31.698Z"
   },
   {
    "duration": 11,
    "start_time": "2022-12-22T13:16:56.209Z"
   },
   {
    "duration": 8,
    "start_time": "2022-12-22T13:17:00.876Z"
   },
   {
    "duration": 9,
    "start_time": "2022-12-22T13:17:29.979Z"
   },
   {
    "duration": 4,
    "start_time": "2022-12-22T13:17:42.991Z"
   },
   {
    "duration": 15,
    "start_time": "2022-12-22T13:17:48.040Z"
   },
   {
    "duration": 8,
    "start_time": "2022-12-22T13:19:46.356Z"
   },
   {
    "duration": 74,
    "start_time": "2022-12-22T13:21:23.149Z"
   },
   {
    "duration": 17,
    "start_time": "2022-12-22T13:21:30.706Z"
   },
   {
    "duration": 6,
    "start_time": "2022-12-22T13:22:24.968Z"
   },
   {
    "duration": 8,
    "start_time": "2022-12-22T13:22:30.659Z"
   },
   {
    "duration": 7,
    "start_time": "2022-12-22T13:23:12.235Z"
   },
   {
    "duration": 3,
    "start_time": "2022-12-22T13:23:28.027Z"
   },
   {
    "duration": 60,
    "start_time": "2022-12-22T13:23:28.576Z"
   },
   {
    "duration": 13,
    "start_time": "2022-12-22T13:23:29.119Z"
   },
   {
    "duration": 6,
    "start_time": "2022-12-22T13:23:29.595Z"
   },
   {
    "duration": 43,
    "start_time": "2022-12-22T13:23:30.196Z"
   },
   {
    "duration": 7,
    "start_time": "2022-12-22T13:23:32.459Z"
   },
   {
    "duration": 7,
    "start_time": "2022-12-22T13:23:47.697Z"
   },
   {
    "duration": 9,
    "start_time": "2022-12-22T13:23:50.558Z"
   },
   {
    "duration": 11,
    "start_time": "2022-12-22T13:23:51.134Z"
   },
   {
    "duration": 3,
    "start_time": "2022-12-22T13:25:10.587Z"
   },
   {
    "duration": 9,
    "start_time": "2022-12-22T13:25:11.850Z"
   },
   {
    "duration": 13,
    "start_time": "2022-12-22T13:29:30.329Z"
   },
   {
    "duration": 6,
    "start_time": "2022-12-22T13:30:18.389Z"
   },
   {
    "duration": 6,
    "start_time": "2022-12-22T13:30:59.610Z"
   },
   {
    "duration": 2,
    "start_time": "2022-12-22T13:31:04.845Z"
   },
   {
    "duration": 62,
    "start_time": "2022-12-22T13:31:08.539Z"
   },
   {
    "duration": 12,
    "start_time": "2022-12-22T13:31:09.361Z"
   },
   {
    "duration": 8,
    "start_time": "2022-12-22T13:31:10.059Z"
   },
   {
    "duration": 42,
    "start_time": "2022-12-22T13:31:11.629Z"
   },
   {
    "duration": 6,
    "start_time": "2022-12-22T13:31:12.227Z"
   },
   {
    "duration": 12,
    "start_time": "2022-12-22T13:32:56.847Z"
   },
   {
    "duration": 5,
    "start_time": "2022-12-22T13:33:06.028Z"
   },
   {
    "duration": 7,
    "start_time": "2022-12-22T13:33:06.544Z"
   },
   {
    "duration": 12,
    "start_time": "2022-12-22T13:33:07.577Z"
   },
   {
    "duration": 6,
    "start_time": "2022-12-22T13:33:30.086Z"
   },
   {
    "duration": 4,
    "start_time": "2022-12-22T13:33:32.248Z"
   },
   {
    "duration": 9,
    "start_time": "2022-12-22T13:38:16.322Z"
   },
   {
    "duration": 3,
    "start_time": "2022-12-22T13:43:41.570Z"
   },
   {
    "duration": 37,
    "start_time": "2022-12-22T13:45:25.473Z"
   },
   {
    "duration": 5,
    "start_time": "2022-12-22T13:46:52.501Z"
   },
   {
    "duration": 15,
    "start_time": "2022-12-22T13:47:01.815Z"
   },
   {
    "duration": 4,
    "start_time": "2022-12-22T13:48:03.003Z"
   },
   {
    "duration": 5,
    "start_time": "2022-12-22T13:48:16.478Z"
   },
   {
    "duration": 6,
    "start_time": "2022-12-22T13:48:24.908Z"
   },
   {
    "duration": 3,
    "start_time": "2022-12-22T13:48:30.926Z"
   },
   {
    "duration": 3,
    "start_time": "2022-12-22T13:49:15.657Z"
   },
   {
    "duration": 46,
    "start_time": "2022-12-22T13:49:16.026Z"
   },
   {
    "duration": 12,
    "start_time": "2022-12-22T13:49:16.953Z"
   },
   {
    "duration": 8,
    "start_time": "2022-12-22T13:49:17.584Z"
   },
   {
    "duration": 5,
    "start_time": "2022-12-22T13:49:18.377Z"
   },
   {
    "duration": 4,
    "start_time": "2022-12-22T13:49:30.752Z"
   },
   {
    "duration": 51,
    "start_time": "2022-12-22T13:49:35.203Z"
   },
   {
    "duration": 4,
    "start_time": "2022-12-22T13:49:38.945Z"
   },
   {
    "duration": 14,
    "start_time": "2022-12-22T13:49:39.518Z"
   },
   {
    "duration": 6,
    "start_time": "2022-12-22T13:49:41.888Z"
   },
   {
    "duration": 4,
    "start_time": "2022-12-22T13:50:58.005Z"
   },
   {
    "duration": 5,
    "start_time": "2022-12-22T13:51:00.315Z"
   },
   {
    "duration": 35,
    "start_time": "2022-12-22T13:51:01.802Z"
   },
   {
    "duration": 4,
    "start_time": "2022-12-22T13:51:05.599Z"
   },
   {
    "duration": 17,
    "start_time": "2022-12-22T13:51:06.137Z"
   },
   {
    "duration": 6,
    "start_time": "2022-12-22T13:51:07.122Z"
   },
   {
    "duration": 3,
    "start_time": "2022-12-22T13:52:23.146Z"
   },
   {
    "duration": 3,
    "start_time": "2022-12-22T13:52:40.047Z"
   },
   {
    "duration": 49,
    "start_time": "2022-12-22T13:52:46.336Z"
   },
   {
    "duration": 12,
    "start_time": "2022-12-22T13:52:46.575Z"
   },
   {
    "duration": 8,
    "start_time": "2022-12-22T13:52:46.886Z"
   },
   {
    "duration": 6,
    "start_time": "2022-12-22T13:52:47.159Z"
   },
   {
    "duration": 5,
    "start_time": "2022-12-22T13:52:48.106Z"
   },
   {
    "duration": 36,
    "start_time": "2022-12-22T13:52:49.826Z"
   },
   {
    "duration": 327,
    "start_time": "2022-12-22T13:52:50.358Z"
   },
   {
    "duration": 0,
    "start_time": "2022-12-22T13:52:50.686Z"
   },
   {
    "duration": 6,
    "start_time": "2022-12-22T13:52:53.198Z"
   },
   {
    "duration": 5,
    "start_time": "2022-12-22T13:54:31.430Z"
   },
   {
    "duration": 33,
    "start_time": "2022-12-22T13:54:34.045Z"
   },
   {
    "duration": 326,
    "start_time": "2022-12-22T13:54:34.765Z"
   },
   {
    "duration": 3,
    "start_time": "2022-12-22T13:54:53.652Z"
   },
   {
    "duration": 47,
    "start_time": "2022-12-22T13:54:54.141Z"
   },
   {
    "duration": 10,
    "start_time": "2022-12-22T13:54:54.549Z"
   },
   {
    "duration": 7,
    "start_time": "2022-12-22T13:54:54.739Z"
   },
   {
    "duration": 6,
    "start_time": "2022-12-22T13:54:54.930Z"
   },
   {
    "duration": 3,
    "start_time": "2022-12-22T13:54:55.876Z"
   },
   {
    "duration": 48,
    "start_time": "2022-12-22T13:54:56.910Z"
   },
   {
    "duration": 4,
    "start_time": "2022-12-22T13:54:57.468Z"
   },
   {
    "duration": 13,
    "start_time": "2022-12-22T13:55:03.427Z"
   },
   {
    "duration": 6,
    "start_time": "2022-12-22T13:55:11.034Z"
   },
   {
    "duration": 7,
    "start_time": "2022-12-22T14:03:20.040Z"
   },
   {
    "duration": 2,
    "start_time": "2022-12-22T14:03:26.998Z"
   },
   {
    "duration": 53,
    "start_time": "2022-12-22T14:03:38.978Z"
   },
   {
    "duration": 11,
    "start_time": "2022-12-22T14:03:39.575Z"
   },
   {
    "duration": 15,
    "start_time": "2022-12-22T14:03:40.211Z"
   },
   {
    "duration": 8,
    "start_time": "2022-12-22T14:03:40.399Z"
   },
   {
    "duration": 10,
    "start_time": "2022-12-22T14:03:40.940Z"
   },
   {
    "duration": 4,
    "start_time": "2022-12-22T14:06:24.204Z"
   },
   {
    "duration": 45,
    "start_time": "2022-12-22T14:06:26.366Z"
   },
   {
    "duration": 11,
    "start_time": "2022-12-22T14:06:29.043Z"
   },
   {
    "duration": 7,
    "start_time": "2022-12-22T14:09:23.406Z"
   },
   {
    "duration": 6,
    "start_time": "2022-12-22T14:09:41.627Z"
   },
   {
    "duration": 6,
    "start_time": "2022-12-22T14:09:56.480Z"
   },
   {
    "duration": 5,
    "start_time": "2022-12-22T14:09:57.118Z"
   },
   {
    "duration": 3,
    "start_time": "2022-12-22T14:23:41.154Z"
   },
   {
    "duration": 5,
    "start_time": "2022-12-22T14:23:41.732Z"
   },
   {
    "duration": 1196,
    "start_time": "2022-12-22T14:25:14.406Z"
   },
   {
    "duration": 64,
    "start_time": "2022-12-22T14:26:13.446Z"
   },
   {
    "duration": 8,
    "start_time": "2022-12-22T14:26:35.109Z"
   },
   {
    "duration": 3,
    "start_time": "2022-12-22T14:27:20.168Z"
   },
   {
    "duration": 3,
    "start_time": "2022-12-22T14:27:23.691Z"
   },
   {
    "duration": 8,
    "start_time": "2022-12-22T14:44:05.351Z"
   },
   {
    "duration": 3,
    "start_time": "2022-12-22T14:44:11.766Z"
   },
   {
    "duration": 7,
    "start_time": "2022-12-22T14:44:13.432Z"
   },
   {
    "duration": 3,
    "start_time": "2022-12-22T14:44:54.613Z"
   },
   {
    "duration": 48,
    "start_time": "2022-12-22T14:44:55.339Z"
   },
   {
    "duration": 11,
    "start_time": "2022-12-22T14:44:57.739Z"
   },
   {
    "duration": 7,
    "start_time": "2022-12-22T14:44:58.122Z"
   },
   {
    "duration": 6,
    "start_time": "2022-12-22T14:44:58.913Z"
   },
   {
    "duration": 4,
    "start_time": "2022-12-22T14:45:04.042Z"
   },
   {
    "duration": 6,
    "start_time": "2022-12-22T14:45:04.619Z"
   },
   {
    "duration": 8,
    "start_time": "2022-12-22T14:45:24.513Z"
   },
   {
    "duration": 6,
    "start_time": "2022-12-22T14:45:35.216Z"
   },
   {
    "duration": 6,
    "start_time": "2022-12-22T14:52:23.841Z"
   },
   {
    "duration": 6,
    "start_time": "2022-12-22T14:52:26.744Z"
   },
   {
    "duration": 12,
    "start_time": "2022-12-22T14:55:08.416Z"
   },
   {
    "duration": 10,
    "start_time": "2022-12-22T14:56:00.542Z"
   },
   {
    "duration": 4,
    "start_time": "2022-12-22T14:57:32.437Z"
   },
   {
    "duration": 12,
    "start_time": "2022-12-22T14:57:36.017Z"
   },
   {
    "duration": 523,
    "start_time": "2022-12-22T14:59:03.472Z"
   },
   {
    "duration": 11,
    "start_time": "2022-12-22T15:03:44.049Z"
   },
   {
    "duration": 395,
    "start_time": "2022-12-22T18:24:26.744Z"
   },
   {
    "duration": 105,
    "start_time": "2022-12-22T18:24:28.349Z"
   },
   {
    "duration": 11,
    "start_time": "2022-12-22T18:24:28.597Z"
   },
   {
    "duration": 7,
    "start_time": "2022-12-22T18:24:28.786Z"
   },
   {
    "duration": 6,
    "start_time": "2022-12-22T18:24:28.949Z"
   },
   {
    "duration": 5,
    "start_time": "2022-12-22T18:26:20.212Z"
   },
   {
    "duration": 6,
    "start_time": "2022-12-22T18:26:25.348Z"
   },
   {
    "duration": 4,
    "start_time": "2022-12-22T18:27:06.441Z"
   },
   {
    "duration": 6,
    "start_time": "2022-12-22T18:27:06.915Z"
   },
   {
    "duration": 4,
    "start_time": "2022-12-22T18:27:18.332Z"
   },
   {
    "duration": 6,
    "start_time": "2022-12-22T18:27:18.832Z"
   },
   {
    "duration": 3,
    "start_time": "2022-12-22T18:27:24.970Z"
   },
   {
    "duration": 6,
    "start_time": "2022-12-22T18:27:25.432Z"
   },
   {
    "duration": 6,
    "start_time": "2022-12-22T18:27:39.751Z"
   },
   {
    "duration": 8,
    "start_time": "2022-12-22T18:28:24.294Z"
   },
   {
    "duration": 6,
    "start_time": "2022-12-22T18:28:27.966Z"
   },
   {
    "duration": 7,
    "start_time": "2022-12-22T18:28:28.273Z"
   },
   {
    "duration": 2862,
    "start_time": "2022-12-22T18:31:12.410Z"
   },
   {
    "duration": 7,
    "start_time": "2022-12-22T18:31:15.273Z"
   },
   {
    "duration": 2894,
    "start_time": "2022-12-22T18:31:19.135Z"
   },
   {
    "duration": 7,
    "start_time": "2022-12-22T18:31:22.031Z"
   },
   {
    "duration": 9,
    "start_time": "2022-12-22T18:31:32.658Z"
   },
   {
    "duration": 6,
    "start_time": "2022-12-22T18:31:45.349Z"
   },
   {
    "duration": 62,
    "start_time": "2022-12-22T18:33:57.276Z"
   },
   {
    "duration": 8,
    "start_time": "2022-12-22T18:35:08.613Z"
   },
   {
    "duration": 15,
    "start_time": "2022-12-22T18:35:20.035Z"
   },
   {
    "duration": 6,
    "start_time": "2022-12-22T18:38:18.735Z"
   },
   {
    "duration": 6,
    "start_time": "2022-12-22T18:38:21.309Z"
   },
   {
    "duration": 10,
    "start_time": "2022-12-22T18:38:27.110Z"
   },
   {
    "duration": 6,
    "start_time": "2022-12-22T18:39:22.071Z"
   },
   {
    "duration": 3,
    "start_time": "2022-12-22T18:39:31.010Z"
   },
   {
    "duration": 48,
    "start_time": "2022-12-22T18:39:31.460Z"
   },
   {
    "duration": 10,
    "start_time": "2022-12-22T18:39:32.453Z"
   },
   {
    "duration": 7,
    "start_time": "2022-12-22T18:39:34.333Z"
   },
   {
    "duration": 6,
    "start_time": "2022-12-22T18:39:37.598Z"
   },
   {
    "duration": 6,
    "start_time": "2022-12-22T18:39:39.105Z"
   },
   {
    "duration": 3,
    "start_time": "2022-12-22T18:40:09.995Z"
   },
   {
    "duration": 51,
    "start_time": "2022-12-22T18:40:10.534Z"
   },
   {
    "duration": 12,
    "start_time": "2022-12-22T18:40:12.701Z"
   },
   {
    "duration": 9,
    "start_time": "2022-12-22T18:40:13.037Z"
   },
   {
    "duration": 6,
    "start_time": "2022-12-22T18:40:15.815Z"
   },
   {
    "duration": 4,
    "start_time": "2022-12-22T18:40:16.200Z"
   },
   {
    "duration": 8,
    "start_time": "2022-12-22T18:42:06.653Z"
   },
   {
    "duration": 9,
    "start_time": "2022-12-22T18:42:43.420Z"
   },
   {
    "duration": 9,
    "start_time": "2022-12-22T18:43:15.329Z"
   },
   {
    "duration": 6,
    "start_time": "2022-12-22T18:43:18.420Z"
   },
   {
    "duration": 5,
    "start_time": "2022-12-22T18:45:10.671Z"
   },
   {
    "duration": 5,
    "start_time": "2022-12-22T18:45:25.414Z"
   },
   {
    "duration": 3,
    "start_time": "2022-12-22T18:45:30.555Z"
   },
   {
    "duration": 50,
    "start_time": "2022-12-22T18:45:30.714Z"
   },
   {
    "duration": 11,
    "start_time": "2022-12-22T18:45:30.850Z"
   },
   {
    "duration": 8,
    "start_time": "2022-12-22T18:45:30.991Z"
   },
   {
    "duration": 8,
    "start_time": "2022-12-22T18:45:31.147Z"
   },
   {
    "duration": 4,
    "start_time": "2022-12-22T18:45:31.293Z"
   },
   {
    "duration": 9,
    "start_time": "2022-12-22T18:45:35.249Z"
   },
   {
    "duration": 5,
    "start_time": "2022-12-22T18:45:37.534Z"
   },
   {
    "duration": 6,
    "start_time": "2022-12-22T18:45:38.105Z"
   },
   {
    "duration": 7,
    "start_time": "2022-12-22T18:49:58.301Z"
   },
   {
    "duration": 3,
    "start_time": "2022-12-22T18:50:10.196Z"
   },
   {
    "duration": 5,
    "start_time": "2022-12-22T18:50:11.895Z"
   },
   {
    "duration": 7,
    "start_time": "2022-12-22T18:50:12.549Z"
   },
   {
    "duration": 6,
    "start_time": "2022-12-22T18:50:23.961Z"
   },
   {
    "duration": 3,
    "start_time": "2022-12-22T18:50:31.217Z"
   },
   {
    "duration": 48,
    "start_time": "2022-12-22T18:50:31.594Z"
   },
   {
    "duration": 12,
    "start_time": "2022-12-22T18:50:32.370Z"
   },
   {
    "duration": 7,
    "start_time": "2022-12-22T18:50:32.841Z"
   },
   {
    "duration": 5,
    "start_time": "2022-12-22T18:50:37.305Z"
   },
   {
    "duration": 6,
    "start_time": "2022-12-22T18:51:02.977Z"
   },
   {
    "duration": 4,
    "start_time": "2022-12-22T18:51:06.800Z"
   },
   {
    "duration": 6,
    "start_time": "2022-12-22T18:51:07.713Z"
   },
   {
    "duration": 6,
    "start_time": "2022-12-22T18:51:16.000Z"
   },
   {
    "duration": 6,
    "start_time": "2022-12-22T18:51:21.701Z"
   },
   {
    "duration": 4,
    "start_time": "2022-12-22T18:52:09.945Z"
   },
   {
    "duration": 43,
    "start_time": "2022-12-23T06:32:11.122Z"
   },
   {
    "duration": 380,
    "start_time": "2022-12-23T06:33:05.242Z"
   },
   {
    "duration": 162,
    "start_time": "2022-12-23T06:33:05.654Z"
   },
   {
    "duration": 12,
    "start_time": "2022-12-23T06:33:06.092Z"
   },
   {
    "duration": 7,
    "start_time": "2022-12-23T06:33:06.789Z"
   },
   {
    "duration": 6,
    "start_time": "2022-12-23T06:33:07.262Z"
   },
   {
    "duration": 4,
    "start_time": "2022-12-23T06:33:08.140Z"
   },
   {
    "duration": 6,
    "start_time": "2022-12-23T06:33:08.398Z"
   },
   {
    "duration": 5,
    "start_time": "2022-12-23T06:33:08.646Z"
   },
   {
    "duration": 6,
    "start_time": "2022-12-23T06:33:09.143Z"
   },
   {
    "duration": 7,
    "start_time": "2022-12-23T06:33:09.534Z"
   },
   {
    "duration": 41,
    "start_time": "2022-12-23T06:33:11.542Z"
   },
   {
    "duration": 3,
    "start_time": "2022-12-23T06:33:12.140Z"
   },
   {
    "duration": 6,
    "start_time": "2022-12-23T06:33:12.660Z"
   },
   {
    "duration": 4,
    "start_time": "2022-12-23T06:35:03.714Z"
   },
   {
    "duration": 8,
    "start_time": "2022-12-23T06:35:05.320Z"
   },
   {
    "duration": 3,
    "start_time": "2022-12-23T06:35:08.314Z"
   },
   {
    "duration": 9,
    "start_time": "2022-12-23T06:35:08.698Z"
   },
   {
    "duration": 28,
    "start_time": "2022-12-23T06:37:17.396Z"
   },
   {
    "duration": 4,
    "start_time": "2022-12-23T06:37:36.254Z"
   },
   {
    "duration": 9,
    "start_time": "2022-12-23T06:37:43.850Z"
   },
   {
    "duration": 4,
    "start_time": "2022-12-23T06:38:52.252Z"
   },
   {
    "duration": 5,
    "start_time": "2022-12-23T06:39:23.252Z"
   },
   {
    "duration": 8,
    "start_time": "2022-12-23T06:40:10.533Z"
   },
   {
    "duration": 2,
    "start_time": "2022-12-23T06:40:30.274Z"
   },
   {
    "duration": 48,
    "start_time": "2022-12-23T06:40:30.694Z"
   },
   {
    "duration": 13,
    "start_time": "2022-12-23T06:40:31.158Z"
   },
   {
    "duration": 10,
    "start_time": "2022-12-23T06:40:31.668Z"
   },
   {
    "duration": 6,
    "start_time": "2022-12-23T06:40:32.116Z"
   },
   {
    "duration": 4,
    "start_time": "2022-12-23T06:40:33.179Z"
   },
   {
    "duration": 8,
    "start_time": "2022-12-23T06:40:33.633Z"
   },
   {
    "duration": 8,
    "start_time": "2022-12-23T06:40:34.203Z"
   },
   {
    "duration": 8,
    "start_time": "2022-12-23T06:40:34.914Z"
   },
   {
    "duration": 2,
    "start_time": "2022-12-23T06:41:23.779Z"
   },
   {
    "duration": 47,
    "start_time": "2022-12-23T06:41:24.788Z"
   },
   {
    "duration": 13,
    "start_time": "2022-12-23T06:41:25.476Z"
   },
   {
    "duration": 7,
    "start_time": "2022-12-23T06:41:26.147Z"
   },
   {
    "duration": 39,
    "start_time": "2022-12-23T06:41:29.996Z"
   },
   {
    "duration": 8,
    "start_time": "2022-12-23T06:41:32.371Z"
   },
   {
    "duration": 12,
    "start_time": "2022-12-23T06:41:47.407Z"
   },
   {
    "duration": 9,
    "start_time": "2022-12-23T06:42:20.833Z"
   },
   {
    "duration": 11,
    "start_time": "2022-12-23T06:42:20.907Z"
   },
   {
    "duration": 6,
    "start_time": "2022-12-23T06:42:56.533Z"
   },
   {
    "duration": 8,
    "start_time": "2022-12-23T06:43:01.343Z"
   },
   {
    "duration": 12,
    "start_time": "2022-12-23T06:43:23.207Z"
   },
   {
    "duration": 6,
    "start_time": "2022-12-23T06:43:39.408Z"
   },
   {
    "duration": 5,
    "start_time": "2022-12-23T06:43:56.480Z"
   },
   {
    "duration": 5,
    "start_time": "2022-12-23T06:44:03.924Z"
   },
   {
    "duration": 6,
    "start_time": "2022-12-23T06:45:45.978Z"
   },
   {
    "duration": 6,
    "start_time": "2022-12-23T06:45:46.955Z"
   },
   {
    "duration": 6,
    "start_time": "2022-12-23T06:49:00.103Z"
   },
   {
    "duration": 6,
    "start_time": "2022-12-23T06:49:00.670Z"
   },
   {
    "duration": 17,
    "start_time": "2022-12-23T06:49:10.978Z"
   },
   {
    "duration": 11,
    "start_time": "2022-12-23T06:49:40.134Z"
   },
   {
    "duration": 10,
    "start_time": "2022-12-23T06:49:55.454Z"
   },
   {
    "duration": 5,
    "start_time": "2022-12-23T06:50:13.734Z"
   },
   {
    "duration": 3,
    "start_time": "2022-12-23T06:52:01.796Z"
   },
   {
    "duration": 6,
    "start_time": "2022-12-23T06:52:02.260Z"
   },
   {
    "duration": 3,
    "start_time": "2022-12-23T06:52:12.309Z"
   },
   {
    "duration": 5,
    "start_time": "2022-12-23T06:52:12.788Z"
   },
   {
    "duration": 7,
    "start_time": "2022-12-23T06:52:17.138Z"
   },
   {
    "duration": 3,
    "start_time": "2022-12-23T06:52:18.468Z"
   },
   {
    "duration": 8,
    "start_time": "2022-12-23T06:52:19.162Z"
   },
   {
    "duration": 12,
    "start_time": "2022-12-23T06:52:20.773Z"
   },
   {
    "duration": 3,
    "start_time": "2022-12-23T06:52:27.806Z"
   },
   {
    "duration": 46,
    "start_time": "2022-12-23T06:52:28.249Z"
   },
   {
    "duration": 12,
    "start_time": "2022-12-23T06:52:28.573Z"
   },
   {
    "duration": 7,
    "start_time": "2022-12-23T06:52:29.654Z"
   },
   {
    "duration": 43,
    "start_time": "2022-12-23T06:52:33.808Z"
   },
   {
    "duration": 7,
    "start_time": "2022-12-23T06:52:34.509Z"
   },
   {
    "duration": 3,
    "start_time": "2022-12-23T06:52:35.655Z"
   },
   {
    "duration": 6,
    "start_time": "2022-12-23T06:52:36.444Z"
   },
   {
    "duration": 12,
    "start_time": "2022-12-23T06:52:39.911Z"
   },
   {
    "duration": 4,
    "start_time": "2022-12-23T06:53:11.969Z"
   },
   {
    "duration": 5,
    "start_time": "2022-12-23T06:53:12.516Z"
   },
   {
    "duration": 11,
    "start_time": "2022-12-23T06:53:13.322Z"
   },
   {
    "duration": 55,
    "start_time": "2022-12-23T07:12:43.112Z"
   },
   {
    "duration": 4,
    "start_time": "2022-12-23T07:13:20.010Z"
   },
   {
    "duration": 12,
    "start_time": "2022-12-23T07:13:44.335Z"
   },
   {
    "duration": 6,
    "start_time": "2022-12-23T07:15:46.510Z"
   },
   {
    "duration": 40,
    "start_time": "2022-12-23T07:15:47.559Z"
   },
   {
    "duration": 12,
    "start_time": "2022-12-23T07:15:48.536Z"
   },
   {
    "duration": 4,
    "start_time": "2022-12-23T07:17:11.741Z"
   },
   {
    "duration": 38,
    "start_time": "2022-12-23T07:17:13.046Z"
   },
   {
    "duration": 12,
    "start_time": "2022-12-23T07:45:14.066Z"
   },
   {
    "duration": 506,
    "start_time": "2022-12-23T07:46:23.058Z"
   },
   {
    "duration": 118,
    "start_time": "2022-12-23T07:47:28.368Z"
   },
   {
    "duration": 7,
    "start_time": "2022-12-23T07:51:48.747Z"
   },
   {
    "duration": 125,
    "start_time": "2022-12-23T07:52:02.051Z"
   },
   {
    "duration": 171,
    "start_time": "2022-12-23T07:52:53.233Z"
   },
   {
    "duration": 709,
    "start_time": "2022-12-23T07:59:58.413Z"
   },
   {
    "duration": 4,
    "start_time": "2022-12-23T08:00:38.967Z"
   },
   {
    "duration": 51,
    "start_time": "2022-12-23T08:00:39.438Z"
   },
   {
    "duration": 12,
    "start_time": "2022-12-23T08:00:39.867Z"
   },
   {
    "duration": 7,
    "start_time": "2022-12-23T08:00:40.307Z"
   },
   {
    "duration": 5,
    "start_time": "2022-12-23T08:00:40.620Z"
   },
   {
    "duration": 41,
    "start_time": "2022-12-23T08:00:41.324Z"
   },
   {
    "duration": 641,
    "start_time": "2022-12-23T08:00:41.902Z"
   },
   {
    "duration": 339,
    "start_time": "2022-12-23T08:00:58.761Z"
   },
   {
    "duration": 52,
    "start_time": "2022-12-23T08:04:27.108Z"
   },
   {
    "duration": 606,
    "start_time": "2022-12-23T08:04:32.878Z"
   },
   {
    "duration": 63,
    "start_time": "2022-12-23T08:04:33.486Z"
   },
   {
    "duration": 13,
    "start_time": "2022-12-23T08:04:33.781Z"
   },
   {
    "duration": 7,
    "start_time": "2022-12-23T08:04:34.366Z"
   },
   {
    "duration": 6,
    "start_time": "2022-12-23T08:04:35.270Z"
   },
   {
    "duration": 39,
    "start_time": "2022-12-23T08:04:36.255Z"
   },
   {
    "duration": 218,
    "start_time": "2022-12-23T08:06:42.241Z"
   },
   {
    "duration": 5,
    "start_time": "2022-12-23T08:06:42.461Z"
   },
   {
    "duration": 192,
    "start_time": "2022-12-23T08:06:42.467Z"
   },
   {
    "duration": 149,
    "start_time": "2022-12-23T08:09:23.725Z"
   },
   {
    "duration": 138,
    "start_time": "2022-12-23T08:15:47.454Z"
   },
   {
    "duration": 137,
    "start_time": "2022-12-23T08:15:53.214Z"
   },
   {
    "duration": 146,
    "start_time": "2022-12-23T08:16:03.391Z"
   },
   {
    "duration": 36,
    "start_time": "2022-12-23T08:17:15.581Z"
   },
   {
    "duration": 11,
    "start_time": "2022-12-23T08:17:45.837Z"
   },
   {
    "duration": 158,
    "start_time": "2022-12-23T08:23:27.942Z"
   },
   {
    "duration": 140,
    "start_time": "2022-12-23T08:23:42.862Z"
   },
   {
    "duration": 5,
    "start_time": "2022-12-23T08:25:52.950Z"
   },
   {
    "duration": 127,
    "start_time": "2022-12-23T08:26:03.218Z"
   },
   {
    "duration": 8,
    "start_time": "2022-12-23T08:36:28.086Z"
   },
   {
    "duration": 40,
    "start_time": "2022-12-23T08:36:29.239Z"
   },
   {
    "duration": 130,
    "start_time": "2022-12-23T08:36:30.663Z"
   },
   {
    "duration": 11,
    "start_time": "2022-12-23T08:36:43.655Z"
   },
   {
    "duration": 3,
    "start_time": "2022-12-23T08:36:57.338Z"
   },
   {
    "duration": 54,
    "start_time": "2022-12-23T08:36:57.730Z"
   },
   {
    "duration": 13,
    "start_time": "2022-12-23T08:36:58.341Z"
   },
   {
    "duration": 6,
    "start_time": "2022-12-23T08:36:59.028Z"
   },
   {
    "duration": 7,
    "start_time": "2022-12-23T08:37:00.676Z"
   },
   {
    "duration": 13,
    "start_time": "2022-12-23T08:37:03.191Z"
   },
   {
    "duration": 39,
    "start_time": "2022-12-23T08:37:08.368Z"
   },
   {
    "duration": 125,
    "start_time": "2022-12-23T08:37:08.409Z"
   },
   {
    "duration": 124,
    "start_time": "2022-12-23T08:37:18.853Z"
   },
   {
    "duration": 3,
    "start_time": "2022-12-23T08:44:26.339Z"
   },
   {
    "duration": 49,
    "start_time": "2022-12-23T08:44:26.826Z"
   },
   {
    "duration": 12,
    "start_time": "2022-12-23T08:44:27.253Z"
   },
   {
    "duration": 8,
    "start_time": "2022-12-23T08:44:27.519Z"
   },
   {
    "duration": 6,
    "start_time": "2022-12-23T08:44:27.991Z"
   },
   {
    "duration": 13,
    "start_time": "2022-12-23T08:44:28.322Z"
   },
   {
    "duration": 40,
    "start_time": "2022-12-23T08:44:29.155Z"
   },
   {
    "duration": 120,
    "start_time": "2022-12-23T08:44:29.674Z"
   },
   {
    "duration": 7,
    "start_time": "2022-12-23T08:45:17.158Z"
   },
   {
    "duration": 14,
    "start_time": "2022-12-23T08:45:24.254Z"
   },
   {
    "duration": 12,
    "start_time": "2022-12-23T09:07:49.663Z"
   },
   {
    "duration": 615,
    "start_time": "2022-12-23T09:08:20.658Z"
   },
   {
    "duration": 57,
    "start_time": "2022-12-23T09:08:21.275Z"
   },
   {
    "duration": 13,
    "start_time": "2022-12-23T09:08:21.334Z"
   },
   {
    "duration": 8,
    "start_time": "2022-12-23T09:08:21.450Z"
   },
   {
    "duration": 8,
    "start_time": "2022-12-23T09:08:21.740Z"
   },
   {
    "duration": 13,
    "start_time": "2022-12-23T09:08:21.900Z"
   },
   {
    "duration": 12,
    "start_time": "2022-12-23T09:08:22.076Z"
   },
   {
    "duration": 44,
    "start_time": "2022-12-23T09:08:22.437Z"
   },
   {
    "duration": 130,
    "start_time": "2022-12-23T09:08:22.607Z"
   },
   {
    "duration": 15,
    "start_time": "2022-12-23T09:08:23.604Z"
   },
   {
    "duration": 2,
    "start_time": "2022-12-23T09:30:33.014Z"
   },
   {
    "duration": 48,
    "start_time": "2022-12-23T09:30:33.212Z"
   },
   {
    "duration": 12,
    "start_time": "2022-12-23T09:30:33.394Z"
   },
   {
    "duration": 7,
    "start_time": "2022-12-23T09:30:33.560Z"
   },
   {
    "duration": 7,
    "start_time": "2022-12-23T09:30:33.926Z"
   },
   {
    "duration": 13,
    "start_time": "2022-12-23T09:30:34.099Z"
   },
   {
    "duration": 12,
    "start_time": "2022-12-23T09:30:34.256Z"
   },
   {
    "duration": 38,
    "start_time": "2022-12-23T09:30:34.578Z"
   },
   {
    "duration": 121,
    "start_time": "2022-12-23T09:30:34.752Z"
   },
   {
    "duration": 15,
    "start_time": "2022-12-23T09:30:35.404Z"
   },
   {
    "duration": 55,
    "start_time": "2022-12-24T14:13:02.184Z"
   },
   {
    "duration": 973,
    "start_time": "2022-12-24T14:13:07.376Z"
   },
   {
    "duration": 93,
    "start_time": "2022-12-24T14:13:08.351Z"
   },
   {
    "duration": 13,
    "start_time": "2022-12-24T14:13:08.446Z"
   },
   {
    "duration": 23,
    "start_time": "2022-12-24T14:13:08.461Z"
   },
   {
    "duration": 85,
    "start_time": "2022-12-24T14:13:08.486Z"
   },
   {
    "duration": 8,
    "start_time": "2022-12-24T14:13:08.607Z"
   },
   {
    "duration": 13,
    "start_time": "2022-12-24T14:13:18.434Z"
   },
   {
    "duration": 69,
    "start_time": "2022-12-24T14:20:21.905Z"
   },
   {
    "duration": 10,
    "start_time": "2022-12-24T14:20:32.463Z"
   },
   {
    "duration": 5,
    "start_time": "2022-12-24T14:20:39.064Z"
   },
   {
    "duration": 7,
    "start_time": "2022-12-24T14:20:49.840Z"
   },
   {
    "duration": 4,
    "start_time": "2022-12-24T14:21:12.795Z"
   },
   {
    "duration": 12,
    "start_time": "2022-12-24T14:21:13.383Z"
   },
   {
    "duration": 6,
    "start_time": "2022-12-24T14:21:17.527Z"
   },
   {
    "duration": 15,
    "start_time": "2022-12-24T14:21:18.152Z"
   },
   {
    "duration": 3,
    "start_time": "2022-12-24T14:21:25.196Z"
   },
   {
    "duration": 58,
    "start_time": "2022-12-24T14:21:25.430Z"
   },
   {
    "duration": 15,
    "start_time": "2022-12-24T14:21:25.596Z"
   },
   {
    "duration": 7,
    "start_time": "2022-12-24T14:21:25.751Z"
   },
   {
    "duration": 5,
    "start_time": "2022-12-24T14:21:25.910Z"
   },
   {
    "duration": 9,
    "start_time": "2022-12-24T14:21:26.069Z"
   },
   {
    "duration": 5,
    "start_time": "2022-12-24T14:21:43.179Z"
   },
   {
    "duration": 8,
    "start_time": "2022-12-24T14:21:43.989Z"
   },
   {
    "duration": 6,
    "start_time": "2022-12-24T14:24:02.844Z"
   },
   {
    "duration": 399,
    "start_time": "2022-12-24T14:24:09.458Z"
   },
   {
    "duration": 8,
    "start_time": "2022-12-24T14:24:09.998Z"
   },
   {
    "duration": 46,
    "start_time": "2022-12-24T14:24:27.627Z"
   },
   {
    "duration": 6,
    "start_time": "2022-12-24T14:24:34.138Z"
   },
   {
    "duration": 7,
    "start_time": "2022-12-24T14:24:34.917Z"
   },
   {
    "duration": 5,
    "start_time": "2022-12-24T14:24:37.577Z"
   },
   {
    "duration": 7,
    "start_time": "2022-12-24T14:24:37.985Z"
   },
   {
    "duration": 6,
    "start_time": "2022-12-24T14:26:19.532Z"
   },
   {
    "duration": 10,
    "start_time": "2022-12-24T14:26:20.081Z"
   },
   {
    "duration": 4,
    "start_time": "2022-12-24T14:26:27.485Z"
   },
   {
    "duration": 7,
    "start_time": "2022-12-24T14:28:15.216Z"
   },
   {
    "duration": 6,
    "start_time": "2022-12-24T14:35:16.988Z"
   },
   {
    "duration": 17,
    "start_time": "2022-12-24T14:35:17.701Z"
   },
   {
    "duration": 5,
    "start_time": "2022-12-24T14:42:01.314Z"
   },
   {
    "duration": 12,
    "start_time": "2022-12-24T14:42:01.903Z"
   },
   {
    "duration": 3,
    "start_time": "2022-12-24T14:43:01.066Z"
   },
   {
    "duration": 46,
    "start_time": "2022-12-24T14:43:01.344Z"
   },
   {
    "duration": 12,
    "start_time": "2022-12-24T14:43:01.606Z"
   },
   {
    "duration": 6,
    "start_time": "2022-12-24T14:43:02.158Z"
   },
   {
    "duration": 7,
    "start_time": "2022-12-24T14:43:06.500Z"
   },
   {
    "duration": 6,
    "start_time": "2022-12-24T14:43:07.162Z"
   },
   {
    "duration": 7,
    "start_time": "2022-12-24T14:43:31.202Z"
   },
   {
    "duration": 7,
    "start_time": "2022-12-24T14:43:44.003Z"
   },
   {
    "duration": 11,
    "start_time": "2022-12-24T14:43:53.937Z"
   },
   {
    "duration": 11,
    "start_time": "2022-12-24T14:43:54.642Z"
   },
   {
    "duration": 3,
    "start_time": "2022-12-24T14:44:01.563Z"
   },
   {
    "duration": 51,
    "start_time": "2022-12-24T14:44:02.076Z"
   },
   {
    "duration": 12,
    "start_time": "2022-12-24T14:44:03.137Z"
   },
   {
    "duration": 6,
    "start_time": "2022-12-24T14:44:05.738Z"
   },
   {
    "duration": 8,
    "start_time": "2022-12-24T14:44:08.301Z"
   },
   {
    "duration": 5,
    "start_time": "2022-12-24T14:44:18.233Z"
   },
   {
    "duration": 6,
    "start_time": "2022-12-24T14:44:19.001Z"
   },
   {
    "duration": 6,
    "start_time": "2022-12-24T14:45:16.165Z"
   },
   {
    "duration": 12,
    "start_time": "2022-12-24T14:45:21.348Z"
   },
   {
    "duration": 547,
    "start_time": "2022-12-24T14:56:26.333Z"
   },
   {
    "duration": 27,
    "start_time": "2022-12-24T15:21:39.416Z"
   },
   {
    "duration": 5,
    "start_time": "2022-12-24T15:22:27.336Z"
   },
   {
    "duration": 13,
    "start_time": "2022-12-24T15:22:28.424Z"
   },
   {
    "duration": 18,
    "start_time": "2022-12-24T15:23:57.074Z"
   },
   {
    "duration": 9,
    "start_time": "2022-12-24T16:12:37.652Z"
   },
   {
    "duration": 21,
    "start_time": "2022-12-24T16:12:51.940Z"
   },
   {
    "duration": 8,
    "start_time": "2022-12-24T16:12:52.707Z"
   },
   {
    "duration": 6,
    "start_time": "2022-12-24T16:19:20.247Z"
   },
   {
    "duration": 15,
    "start_time": "2022-12-24T16:19:21.495Z"
   },
   {
    "duration": 9,
    "start_time": "2022-12-24T16:24:24.049Z"
   },
   {
    "duration": 14,
    "start_time": "2022-12-24T16:24:24.814Z"
   },
   {
    "duration": 8,
    "start_time": "2022-12-24T16:24:47.959Z"
   },
   {
    "duration": 8,
    "start_time": "2022-12-24T16:24:48.982Z"
   },
   {
    "duration": 7,
    "start_time": "2022-12-24T16:24:52.103Z"
   },
   {
    "duration": 8,
    "start_time": "2022-12-24T16:24:52.505Z"
   },
   {
    "duration": 6,
    "start_time": "2022-12-24T16:25:17.725Z"
   },
   {
    "duration": 6,
    "start_time": "2022-12-24T16:25:20.342Z"
   },
   {
    "duration": 15,
    "start_time": "2022-12-24T16:25:21.230Z"
   },
   {
    "duration": 7,
    "start_time": "2022-12-24T16:25:37.191Z"
   },
   {
    "duration": 12,
    "start_time": "2022-12-24T16:25:37.861Z"
   },
   {
    "duration": 7,
    "start_time": "2022-12-24T16:27:43.932Z"
   },
   {
    "duration": 7,
    "start_time": "2022-12-24T16:27:44.574Z"
   },
   {
    "duration": 6,
    "start_time": "2022-12-24T16:31:29.397Z"
   },
   {
    "duration": 23,
    "start_time": "2022-12-24T16:31:29.920Z"
   },
   {
    "duration": 5,
    "start_time": "2022-12-24T16:32:17.248Z"
   },
   {
    "duration": 5,
    "start_time": "2022-12-24T16:32:17.877Z"
   },
   {
    "duration": 9,
    "start_time": "2022-12-24T16:35:34.233Z"
   },
   {
    "duration": 14,
    "start_time": "2022-12-24T16:36:25.288Z"
   },
   {
    "duration": 2,
    "start_time": "2022-12-24T16:38:20.052Z"
   },
   {
    "duration": 13,
    "start_time": "2022-12-24T16:38:21.933Z"
   },
   {
    "duration": 3,
    "start_time": "2022-12-24T16:38:28.131Z"
   },
   {
    "duration": 13,
    "start_time": "2022-12-24T16:38:28.971Z"
   },
   {
    "duration": 27,
    "start_time": "2022-12-24T16:40:02.806Z"
   },
   {
    "duration": 13,
    "start_time": "2022-12-24T16:40:09.757Z"
   },
   {
    "duration": 4,
    "start_time": "2022-12-24T16:40:15.424Z"
   },
   {
    "duration": 11,
    "start_time": "2022-12-24T16:40:16.157Z"
   },
   {
    "duration": 11,
    "start_time": "2022-12-24T16:41:51.641Z"
   },
   {
    "duration": 12,
    "start_time": "2022-12-24T16:41:52.653Z"
   },
   {
    "duration": 11,
    "start_time": "2022-12-24T16:41:57.336Z"
   },
   {
    "duration": 3,
    "start_time": "2022-12-24T16:42:24.455Z"
   },
   {
    "duration": 52,
    "start_time": "2022-12-24T16:42:24.804Z"
   },
   {
    "duration": 13,
    "start_time": "2022-12-24T16:42:25.161Z"
   },
   {
    "duration": 7,
    "start_time": "2022-12-24T16:42:25.544Z"
   },
   {
    "duration": 17,
    "start_time": "2022-12-24T16:42:25.919Z"
   },
   {
    "duration": 6,
    "start_time": "2022-12-24T16:42:26.655Z"
   },
   {
    "duration": 5,
    "start_time": "2022-12-24T16:42:27.346Z"
   },
   {
    "duration": 13,
    "start_time": "2022-12-24T16:42:27.733Z"
   },
   {
    "duration": 9,
    "start_time": "2022-12-24T16:42:28.110Z"
   },
   {
    "duration": 35,
    "start_time": "2022-12-24T16:42:28.860Z"
   },
   {
    "duration": 138,
    "start_time": "2022-12-24T16:42:29.231Z"
   },
   {
    "duration": 15,
    "start_time": "2022-12-24T16:42:30.347Z"
   },
   {
    "duration": 7,
    "start_time": "2022-12-24T16:42:30.833Z"
   },
   {
    "duration": 21,
    "start_time": "2022-12-24T16:42:31.312Z"
   },
   {
    "duration": 12,
    "start_time": "2022-12-24T16:42:37.361Z"
   },
   {
    "duration": 10,
    "start_time": "2022-12-24T16:42:40.103Z"
   },
   {
    "duration": 1054,
    "start_time": "2022-12-24T16:43:19.032Z"
   },
   {
    "duration": 60,
    "start_time": "2022-12-24T16:43:20.088Z"
   },
   {
    "duration": 12,
    "start_time": "2022-12-24T16:43:20.149Z"
   },
   {
    "duration": 6,
    "start_time": "2022-12-24T16:43:20.163Z"
   },
   {
    "duration": 7,
    "start_time": "2022-12-24T16:43:20.170Z"
   },
   {
    "duration": 5,
    "start_time": "2022-12-24T16:43:20.179Z"
   },
   {
    "duration": 6,
    "start_time": "2022-12-24T16:43:20.387Z"
   },
   {
    "duration": 17,
    "start_time": "2022-12-24T16:43:20.537Z"
   },
   {
    "duration": 11,
    "start_time": "2022-12-24T16:43:20.682Z"
   },
   {
    "duration": 35,
    "start_time": "2022-12-24T16:43:20.953Z"
   },
   {
    "duration": 418,
    "start_time": "2022-12-24T16:43:21.134Z"
   },
   {
    "duration": 17,
    "start_time": "2022-12-24T16:43:22.461Z"
   },
   {
    "duration": 6,
    "start_time": "2022-12-24T16:43:23.300Z"
   },
   {
    "duration": 10,
    "start_time": "2022-12-24T16:43:36.786Z"
   },
   {
    "duration": 117,
    "start_time": "2022-12-24T16:43:41.689Z"
   },
   {
    "duration": 13,
    "start_time": "2022-12-24T16:45:29.792Z"
   },
   {
    "duration": 11,
    "start_time": "2022-12-24T16:45:41.944Z"
   },
   {
    "duration": 20,
    "start_time": "2022-12-24T16:45:45.457Z"
   },
   {
    "duration": 7,
    "start_time": "2022-12-24T16:45:45.812Z"
   },
   {
    "duration": 12,
    "start_time": "2022-12-24T16:47:45.943Z"
   },
   {
    "duration": 21,
    "start_time": "2022-12-24T16:47:57.446Z"
   },
   {
    "duration": 38,
    "start_time": "2022-12-24T16:48:24.404Z"
   },
   {
    "duration": 12,
    "start_time": "2022-12-24T16:55:11.488Z"
   },
   {
    "duration": 10,
    "start_time": "2022-12-24T17:03:36.379Z"
   },
   {
    "duration": 10,
    "start_time": "2022-12-24T17:03:40.174Z"
   },
   {
    "duration": 3,
    "start_time": "2022-12-24T17:04:21.403Z"
   },
   {
    "duration": 10,
    "start_time": "2022-12-24T17:04:24.664Z"
   },
   {
    "duration": 9,
    "start_time": "2022-12-24T17:04:36.333Z"
   },
   {
    "duration": 10,
    "start_time": "2022-12-24T17:05:07.668Z"
   },
   {
    "duration": 3,
    "start_time": "2022-12-24T17:06:45.024Z"
   },
   {
    "duration": 10,
    "start_time": "2022-12-24T17:07:06.031Z"
   },
   {
    "duration": 3,
    "start_time": "2022-12-24T17:07:31.852Z"
   },
   {
    "duration": 10,
    "start_time": "2022-12-24T17:07:32.381Z"
   },
   {
    "duration": 10,
    "start_time": "2022-12-24T17:09:49.824Z"
   },
   {
    "duration": 2,
    "start_time": "2022-12-24T17:10:06.374Z"
   },
   {
    "duration": 3,
    "start_time": "2022-12-24T17:10:08.422Z"
   },
   {
    "duration": 10,
    "start_time": "2022-12-24T17:10:12.498Z"
   },
   {
    "duration": 10,
    "start_time": "2022-12-24T17:12:59.122Z"
   },
   {
    "duration": 9,
    "start_time": "2022-12-24T17:13:08.017Z"
   },
   {
    "duration": 9,
    "start_time": "2022-12-24T17:14:30.979Z"
   },
   {
    "duration": 9,
    "start_time": "2022-12-24T17:16:54.376Z"
   },
   {
    "duration": 1058,
    "start_time": "2022-12-24T17:18:52.999Z"
   },
   {
    "duration": 54,
    "start_time": "2022-12-24T17:18:54.060Z"
   },
   {
    "duration": 13,
    "start_time": "2022-12-24T17:18:54.116Z"
   },
   {
    "duration": 7,
    "start_time": "2022-12-24T17:18:54.844Z"
   },
   {
    "duration": 8,
    "start_time": "2022-12-24T17:18:55.618Z"
   },
   {
    "duration": 5,
    "start_time": "2022-12-24T17:18:57.265Z"
   },
   {
    "duration": 5,
    "start_time": "2022-12-24T17:18:58.017Z"
   },
   {
    "duration": 16,
    "start_time": "2022-12-24T17:18:58.532Z"
   },
   {
    "duration": 9,
    "start_time": "2022-12-24T17:18:59.510Z"
   },
   {
    "duration": 35,
    "start_time": "2022-12-24T17:19:01.139Z"
   },
   {
    "duration": 373,
    "start_time": "2022-12-24T17:19:02.343Z"
   },
   {
    "duration": 20,
    "start_time": "2022-12-24T17:19:05.697Z"
   },
   {
    "duration": 7,
    "start_time": "2022-12-24T17:19:11.296Z"
   },
   {
    "duration": 3,
    "start_time": "2022-12-24T17:19:12.141Z"
   },
   {
    "duration": 104,
    "start_time": "2022-12-24T17:19:12.937Z"
   },
   {
    "duration": 8,
    "start_time": "2022-12-24T17:19:40.558Z"
   },
   {
    "duration": 6,
    "start_time": "2022-12-24T17:20:19.313Z"
   },
   {
    "duration": 21,
    "start_time": "2022-12-24T17:20:20.292Z"
   },
   {
    "duration": 16,
    "start_time": "2022-12-24T17:20:44.774Z"
   },
   {
    "duration": 29,
    "start_time": "2022-12-24T17:21:04.805Z"
   },
   {
    "duration": 11,
    "start_time": "2022-12-24T17:21:23.695Z"
   },
   {
    "duration": 12,
    "start_time": "2022-12-24T17:21:33.501Z"
   },
   {
    "duration": 2,
    "start_time": "2022-12-24T17:21:42.140Z"
   },
   {
    "duration": 59,
    "start_time": "2022-12-24T17:21:42.554Z"
   },
   {
    "duration": 13,
    "start_time": "2022-12-24T17:21:42.872Z"
   },
   {
    "duration": 6,
    "start_time": "2022-12-24T17:21:43.311Z"
   },
   {
    "duration": 10,
    "start_time": "2022-12-24T17:21:43.678Z"
   },
   {
    "duration": 7,
    "start_time": "2022-12-24T17:21:44.536Z"
   },
   {
    "duration": 7,
    "start_time": "2022-12-24T17:21:45.251Z"
   },
   {
    "duration": 16,
    "start_time": "2022-12-24T17:21:45.627Z"
   },
   {
    "duration": 13,
    "start_time": "2022-12-24T17:21:46.064Z"
   },
   {
    "duration": 42,
    "start_time": "2022-12-24T17:21:46.875Z"
   },
   {
    "duration": 117,
    "start_time": "2022-12-24T17:21:47.265Z"
   },
   {
    "duration": 15,
    "start_time": "2022-12-24T17:21:48.596Z"
   },
   {
    "duration": 8,
    "start_time": "2022-12-24T17:21:49.100Z"
   },
   {
    "duration": 17,
    "start_time": "2022-12-24T17:21:50.396Z"
   },
   {
    "duration": 16,
    "start_time": "2022-12-24T17:22:33.632Z"
   },
   {
    "duration": 12,
    "start_time": "2022-12-24T17:22:54.810Z"
   },
   {
    "duration": 11,
    "start_time": "2022-12-24T17:23:10.721Z"
   },
   {
    "duration": 1115,
    "start_time": "2022-12-24T17:23:32.850Z"
   },
   {
    "duration": 57,
    "start_time": "2022-12-24T17:23:33.967Z"
   },
   {
    "duration": 14,
    "start_time": "2022-12-24T17:23:34.026Z"
   },
   {
    "duration": 45,
    "start_time": "2022-12-24T17:23:34.042Z"
   },
   {
    "duration": 67,
    "start_time": "2022-12-24T17:23:34.089Z"
   },
   {
    "duration": 61,
    "start_time": "2022-12-24T17:23:34.157Z"
   },
   {
    "duration": 6,
    "start_time": "2022-12-24T17:23:34.354Z"
   },
   {
    "duration": 14,
    "start_time": "2022-12-24T17:23:34.561Z"
   },
   {
    "duration": 11,
    "start_time": "2022-12-24T17:23:34.763Z"
   },
   {
    "duration": 52,
    "start_time": "2022-12-24T17:23:35.218Z"
   },
   {
    "duration": 404,
    "start_time": "2022-12-24T17:23:35.434Z"
   },
   {
    "duration": 15,
    "start_time": "2022-12-24T17:23:36.409Z"
   },
   {
    "duration": 9,
    "start_time": "2022-12-24T17:23:38.946Z"
   },
   {
    "duration": 113,
    "start_time": "2022-12-24T17:23:43.505Z"
   },
   {
    "duration": 12,
    "start_time": "2022-12-24T17:23:57.194Z"
   },
   {
    "duration": 11,
    "start_time": "2022-12-24T17:23:57.830Z"
   },
   {
    "duration": 3,
    "start_time": "2022-12-24T17:24:14.995Z"
   },
   {
    "duration": 55,
    "start_time": "2022-12-24T17:24:15.402Z"
   },
   {
    "duration": 13,
    "start_time": "2022-12-24T17:24:15.928Z"
   },
   {
    "duration": 6,
    "start_time": "2022-12-24T17:24:16.382Z"
   },
   {
    "duration": 8,
    "start_time": "2022-12-24T17:24:16.966Z"
   },
   {
    "duration": 6,
    "start_time": "2022-12-24T17:24:17.927Z"
   },
   {
    "duration": 6,
    "start_time": "2022-12-24T17:24:18.580Z"
   },
   {
    "duration": 11,
    "start_time": "2022-12-24T17:24:19.021Z"
   },
   {
    "duration": 9,
    "start_time": "2022-12-24T17:24:19.460Z"
   },
   {
    "duration": 34,
    "start_time": "2022-12-24T17:24:20.381Z"
   },
   {
    "duration": 120,
    "start_time": "2022-12-24T17:24:20.900Z"
   },
   {
    "duration": 14,
    "start_time": "2022-12-24T17:24:22.622Z"
   },
   {
    "duration": 6,
    "start_time": "2022-12-24T17:24:23.167Z"
   },
   {
    "duration": 6,
    "start_time": "2022-12-24T17:25:57.516Z"
   },
   {
    "duration": 20,
    "start_time": "2022-12-24T17:25:59.972Z"
   },
   {
    "duration": 11,
    "start_time": "2022-12-24T17:26:09.775Z"
   },
   {
    "duration": 11,
    "start_time": "2022-12-24T17:28:28.027Z"
   },
   {
    "duration": 12,
    "start_time": "2022-12-24T17:28:38.268Z"
   },
   {
    "duration": 15,
    "start_time": "2022-12-24T17:29:02.834Z"
   },
   {
    "duration": 1062,
    "start_time": "2022-12-24T17:29:17.900Z"
   },
   {
    "duration": 71,
    "start_time": "2022-12-24T17:29:18.964Z"
   },
   {
    "duration": 14,
    "start_time": "2022-12-24T17:29:19.037Z"
   },
   {
    "duration": 20,
    "start_time": "2022-12-24T17:29:19.053Z"
   },
   {
    "duration": 14,
    "start_time": "2022-12-24T17:29:19.075Z"
   },
   {
    "duration": 6,
    "start_time": "2022-12-24T17:29:19.334Z"
   },
   {
    "duration": 6,
    "start_time": "2022-12-24T17:29:19.754Z"
   },
   {
    "duration": 14,
    "start_time": "2022-12-24T17:29:19.967Z"
   },
   {
    "duration": 10,
    "start_time": "2022-12-24T17:29:20.204Z"
   },
   {
    "duration": 35,
    "start_time": "2022-12-24T17:29:20.628Z"
   },
   {
    "duration": 346,
    "start_time": "2022-12-24T17:29:20.881Z"
   },
   {
    "duration": 16,
    "start_time": "2022-12-24T17:29:21.797Z"
   },
   {
    "duration": 7,
    "start_time": "2022-12-24T17:29:23.723Z"
   },
   {
    "duration": 102,
    "start_time": "2022-12-24T17:31:08.583Z"
   },
   {
    "duration": 13,
    "start_time": "2022-12-24T17:31:09.942Z"
   },
   {
    "duration": 6,
    "start_time": "2022-12-24T17:31:28.223Z"
   },
   {
    "duration": 7,
    "start_time": "2022-12-24T17:31:35.710Z"
   },
   {
    "duration": 8,
    "start_time": "2022-12-24T17:31:36.341Z"
   },
   {
    "duration": 12,
    "start_time": "2022-12-24T17:31:39.610Z"
   },
   {
    "duration": 13,
    "start_time": "2022-12-24T17:32:24.930Z"
   },
   {
    "duration": 14,
    "start_time": "2022-12-24T17:32:31.789Z"
   },
   {
    "duration": 7,
    "start_time": "2022-12-24T17:32:34.042Z"
   },
   {
    "duration": 6,
    "start_time": "2022-12-24T17:32:38.089Z"
   },
   {
    "duration": 8,
    "start_time": "2022-12-24T17:36:50.379Z"
   },
   {
    "duration": 12,
    "start_time": "2022-12-24T17:36:56.137Z"
   },
   {
    "duration": 12,
    "start_time": "2022-12-24T17:36:57.309Z"
   },
   {
    "duration": 13,
    "start_time": "2022-12-24T17:37:10.602Z"
   },
   {
    "duration": 47,
    "start_time": "2022-12-25T11:52:12.368Z"
   },
   {
    "duration": 1011,
    "start_time": "2022-12-25T11:52:19.535Z"
   },
   {
    "duration": 94,
    "start_time": "2022-12-25T11:52:20.548Z"
   },
   {
    "duration": 12,
    "start_time": "2022-12-25T11:52:20.644Z"
   },
   {
    "duration": 7,
    "start_time": "2022-12-25T11:52:20.738Z"
   },
   {
    "duration": 8,
    "start_time": "2022-12-25T11:52:21.171Z"
   },
   {
    "duration": 5,
    "start_time": "2022-12-25T11:52:22.663Z"
   },
   {
    "duration": 5,
    "start_time": "2022-12-25T11:52:23.434Z"
   },
   {
    "duration": 12,
    "start_time": "2022-12-25T11:52:23.709Z"
   },
   {
    "duration": 10,
    "start_time": "2022-12-25T11:52:24.185Z"
   },
   {
    "duration": 43,
    "start_time": "2022-12-25T11:52:25.149Z"
   },
   {
    "duration": 577,
    "start_time": "2022-12-25T11:52:25.637Z"
   },
   {
    "duration": 16,
    "start_time": "2022-12-25T11:52:27.875Z"
   },
   {
    "duration": 8,
    "start_time": "2022-12-25T11:52:30.116Z"
   },
   {
    "duration": 69,
    "start_time": "2022-12-25T11:52:46.706Z"
   },
   {
    "duration": 9,
    "start_time": "2022-12-25T11:52:59.614Z"
   },
   {
    "duration": 13,
    "start_time": "2022-12-25T11:53:03.861Z"
   },
   {
    "duration": 12,
    "start_time": "2022-12-25T11:54:48.950Z"
   },
   {
    "duration": 3,
    "start_time": "2022-12-25T11:54:57.805Z"
   },
   {
    "duration": 49,
    "start_time": "2022-12-25T11:54:57.943Z"
   },
   {
    "duration": 13,
    "start_time": "2022-12-25T11:54:58.091Z"
   },
   {
    "duration": 9,
    "start_time": "2022-12-25T11:54:58.216Z"
   },
   {
    "duration": 11,
    "start_time": "2022-12-25T11:54:58.343Z"
   },
   {
    "duration": 5,
    "start_time": "2022-12-25T11:54:58.589Z"
   },
   {
    "duration": 8,
    "start_time": "2022-12-25T11:54:58.934Z"
   },
   {
    "duration": 11,
    "start_time": "2022-12-25T11:54:59.056Z"
   },
   {
    "duration": 10,
    "start_time": "2022-12-25T11:54:59.179Z"
   },
   {
    "duration": 37,
    "start_time": "2022-12-25T11:54:59.413Z"
   },
   {
    "duration": 127,
    "start_time": "2022-12-25T11:54:59.540Z"
   },
   {
    "duration": 16,
    "start_time": "2022-12-25T11:54:59.918Z"
   },
   {
    "duration": 7,
    "start_time": "2022-12-25T11:55:00.054Z"
   },
   {
    "duration": 8,
    "start_time": "2022-12-25T11:55:00.186Z"
   },
   {
    "duration": 7,
    "start_time": "2022-12-25T11:55:29.062Z"
   },
   {
    "duration": 8,
    "start_time": "2022-12-25T11:55:29.618Z"
   },
   {
    "duration": 10,
    "start_time": "2022-12-25T11:57:28.883Z"
   },
   {
    "duration": 15,
    "start_time": "2022-12-25T11:57:37.112Z"
   },
   {
    "duration": 3,
    "start_time": "2022-12-25T11:59:11.284Z"
   },
   {
    "duration": 50,
    "start_time": "2022-12-25T11:59:11.447Z"
   },
   {
    "duration": 12,
    "start_time": "2022-12-25T11:59:11.584Z"
   },
   {
    "duration": 7,
    "start_time": "2022-12-25T11:59:11.734Z"
   },
   {
    "duration": 9,
    "start_time": "2022-12-25T11:59:11.884Z"
   },
   {
    "duration": 6,
    "start_time": "2022-12-25T11:59:12.159Z"
   },
   {
    "duration": 5,
    "start_time": "2022-12-25T11:59:12.447Z"
   },
   {
    "duration": 11,
    "start_time": "2022-12-25T11:59:12.596Z"
   },
   {
    "duration": 9,
    "start_time": "2022-12-25T11:59:12.735Z"
   },
   {
    "duration": 39,
    "start_time": "2022-12-25T11:59:13.033Z"
   },
   {
    "duration": 127,
    "start_time": "2022-12-25T11:59:13.188Z"
   },
   {
    "duration": 17,
    "start_time": "2022-12-25T11:59:13.700Z"
   },
   {
    "duration": 7,
    "start_time": "2022-12-25T11:59:13.847Z"
   },
   {
    "duration": 16,
    "start_time": "2022-12-25T11:59:14.012Z"
   },
   {
    "duration": 12,
    "start_time": "2022-12-25T11:59:57.973Z"
   },
   {
    "duration": 1138,
    "start_time": "2022-12-25T12:00:25.542Z"
   },
   {
    "duration": 59,
    "start_time": "2022-12-25T12:00:26.682Z"
   },
   {
    "duration": 12,
    "start_time": "2022-12-25T12:00:26.743Z"
   },
   {
    "duration": 31,
    "start_time": "2022-12-25T12:00:26.757Z"
   },
   {
    "duration": 8,
    "start_time": "2022-12-25T12:00:26.895Z"
   },
   {
    "duration": 5,
    "start_time": "2022-12-25T12:00:27.419Z"
   },
   {
    "duration": 6,
    "start_time": "2022-12-25T12:00:27.937Z"
   },
   {
    "duration": 12,
    "start_time": "2022-12-25T12:00:28.189Z"
   },
   {
    "duration": 13,
    "start_time": "2022-12-25T12:00:28.464Z"
   },
   {
    "duration": 40,
    "start_time": "2022-12-25T12:00:29.101Z"
   },
   {
    "duration": 399,
    "start_time": "2022-12-25T12:00:29.350Z"
   },
   {
    "duration": 16,
    "start_time": "2022-12-25T12:00:30.234Z"
   },
   {
    "duration": 8,
    "start_time": "2022-12-25T12:00:31.184Z"
   },
   {
    "duration": 119,
    "start_time": "2022-12-25T12:00:31.881Z"
   },
   {
    "duration": 10,
    "start_time": "2022-12-25T12:00:32.835Z"
   },
   {
    "duration": 9,
    "start_time": "2022-12-25T12:01:08.467Z"
   },
   {
    "duration": 12,
    "start_time": "2022-12-25T12:01:09.663Z"
   },
   {
    "duration": 15,
    "start_time": "2022-12-25T12:02:09.116Z"
   },
   {
    "duration": 7,
    "start_time": "2022-12-25T12:02:17.826Z"
   },
   {
    "duration": 10,
    "start_time": "2022-12-25T12:02:19.030Z"
   },
   {
    "duration": 11,
    "start_time": "2022-12-25T12:02:19.750Z"
   },
   {
    "duration": 8,
    "start_time": "2022-12-25T12:02:25.254Z"
   },
   {
    "duration": 12,
    "start_time": "2022-12-25T12:02:25.770Z"
   },
   {
    "duration": 15,
    "start_time": "2022-12-25T12:09:22.925Z"
   },
   {
    "duration": 8,
    "start_time": "2022-12-25T12:09:55.780Z"
   },
   {
    "duration": 13,
    "start_time": "2022-12-25T12:09:56.996Z"
   },
   {
    "duration": 12,
    "start_time": "2022-12-25T12:11:14.856Z"
   },
   {
    "duration": 10,
    "start_time": "2022-12-25T12:11:15.363Z"
   },
   {
    "duration": 9,
    "start_time": "2022-12-25T12:14:35.193Z"
   },
   {
    "duration": 11,
    "start_time": "2022-12-25T12:14:35.645Z"
   },
   {
    "duration": 4,
    "start_time": "2022-12-25T12:21:44.001Z"
   },
   {
    "duration": 10,
    "start_time": "2022-12-25T12:21:45.998Z"
   },
   {
    "duration": 10,
    "start_time": "2022-12-25T12:21:46.332Z"
   },
   {
    "duration": 11,
    "start_time": "2022-12-25T12:21:55.215Z"
   },
   {
    "duration": 14,
    "start_time": "2022-12-25T12:21:57.615Z"
   },
   {
    "duration": 10,
    "start_time": "2022-12-25T12:21:57.896Z"
   },
   {
    "duration": 13,
    "start_time": "2022-12-25T12:22:56.515Z"
   },
   {
    "duration": 19,
    "start_time": "2022-12-25T12:23:11.143Z"
   },
   {
    "duration": 12,
    "start_time": "2022-12-25T12:23:21.017Z"
   },
   {
    "duration": 3,
    "start_time": "2022-12-25T12:23:25.634Z"
   },
   {
    "duration": 57,
    "start_time": "2022-12-25T12:23:25.797Z"
   },
   {
    "duration": 14,
    "start_time": "2022-12-25T12:23:25.961Z"
   },
   {
    "duration": 7,
    "start_time": "2022-12-25T12:23:26.126Z"
   },
   {
    "duration": 9,
    "start_time": "2022-12-25T12:23:26.301Z"
   },
   {
    "duration": 5,
    "start_time": "2022-12-25T12:23:26.643Z"
   },
   {
    "duration": 5,
    "start_time": "2022-12-25T12:23:26.984Z"
   },
   {
    "duration": 12,
    "start_time": "2022-12-25T12:23:27.149Z"
   },
   {
    "duration": 10,
    "start_time": "2022-12-25T12:23:27.319Z"
   },
   {
    "duration": 36,
    "start_time": "2022-12-25T12:23:27.677Z"
   },
   {
    "duration": 124,
    "start_time": "2022-12-25T12:23:27.885Z"
   },
   {
    "duration": 15,
    "start_time": "2022-12-25T12:23:28.513Z"
   },
   {
    "duration": 7,
    "start_time": "2022-12-25T12:23:28.778Z"
   },
   {
    "duration": 8,
    "start_time": "2022-12-25T12:23:29.472Z"
   },
   {
    "duration": 11,
    "start_time": "2022-12-25T12:23:29.976Z"
   },
   {
    "duration": 11,
    "start_time": "2022-12-25T12:25:36.338Z"
   },
   {
    "duration": 9,
    "start_time": "2022-12-25T12:34:15.238Z"
   },
   {
    "duration": 11,
    "start_time": "2022-12-25T12:34:25.270Z"
   },
   {
    "duration": 6,
    "start_time": "2022-12-25T12:35:48.969Z"
   },
   {
    "duration": 6,
    "start_time": "2022-12-25T12:40:20.632Z"
   },
   {
    "duration": 49,
    "start_time": "2022-12-25T12:40:20.827Z"
   },
   {
    "duration": 16,
    "start_time": "2022-12-25T12:40:20.989Z"
   },
   {
    "duration": 6,
    "start_time": "2022-12-25T12:40:21.154Z"
   },
   {
    "duration": 8,
    "start_time": "2022-12-25T12:40:21.316Z"
   },
   {
    "duration": 5,
    "start_time": "2022-12-25T12:40:21.628Z"
   },
   {
    "duration": 5,
    "start_time": "2022-12-25T12:40:21.948Z"
   },
   {
    "duration": 13,
    "start_time": "2022-12-25T12:40:22.109Z"
   },
   {
    "duration": 11,
    "start_time": "2022-12-25T12:40:22.253Z"
   },
   {
    "duration": 39,
    "start_time": "2022-12-25T12:40:22.572Z"
   },
   {
    "duration": 135,
    "start_time": "2022-12-25T12:40:22.732Z"
   },
   {
    "duration": 16,
    "start_time": "2022-12-25T12:40:23.220Z"
   },
   {
    "duration": 7,
    "start_time": "2022-12-25T12:40:23.405Z"
   },
   {
    "duration": 4,
    "start_time": "2022-12-25T12:42:19.287Z"
   },
   {
    "duration": 15,
    "start_time": "2022-12-25T12:46:29.830Z"
   },
   {
    "duration": 17,
    "start_time": "2022-12-25T12:51:58.760Z"
   },
   {
    "duration": 19,
    "start_time": "2022-12-25T12:52:30.609Z"
   },
   {
    "duration": 17,
    "start_time": "2022-12-25T12:56:44.438Z"
   },
   {
    "duration": 13,
    "start_time": "2022-12-25T12:57:37.806Z"
   },
   {
    "duration": 34,
    "start_time": "2022-12-25T13:03:12.696Z"
   },
   {
    "duration": 11,
    "start_time": "2022-12-25T13:07:04.899Z"
   },
   {
    "duration": 20,
    "start_time": "2022-12-25T13:09:36.629Z"
   },
   {
    "duration": 19,
    "start_time": "2022-12-25T13:12:58.904Z"
   },
   {
    "duration": 207,
    "start_time": "2022-12-25T13:13:19.921Z"
   },
   {
    "duration": 10,
    "start_time": "2022-12-25T13:15:05.534Z"
   },
   {
    "duration": 5,
    "start_time": "2022-12-25T13:21:17.576Z"
   },
   {
    "duration": 52,
    "start_time": "2022-12-25T13:21:17.725Z"
   },
   {
    "duration": 14,
    "start_time": "2022-12-25T13:21:17.873Z"
   },
   {
    "duration": 7,
    "start_time": "2022-12-25T13:21:18.015Z"
   },
   {
    "duration": 9,
    "start_time": "2022-12-25T13:21:18.165Z"
   },
   {
    "duration": 7,
    "start_time": "2022-12-25T13:21:18.468Z"
   },
   {
    "duration": 7,
    "start_time": "2022-12-25T13:21:18.777Z"
   },
   {
    "duration": 12,
    "start_time": "2022-12-25T13:21:18.933Z"
   },
   {
    "duration": 10,
    "start_time": "2022-12-25T13:21:19.086Z"
   },
   {
    "duration": 40,
    "start_time": "2022-12-25T13:21:19.394Z"
   },
   {
    "duration": 123,
    "start_time": "2022-12-25T13:21:19.552Z"
   },
   {
    "duration": 16,
    "start_time": "2022-12-25T13:21:20.045Z"
   },
   {
    "duration": 21,
    "start_time": "2022-12-25T13:21:20.246Z"
   },
   {
    "duration": 11,
    "start_time": "2022-12-25T13:21:34.265Z"
   },
   {
    "duration": 17,
    "start_time": "2022-12-25T13:23:37.657Z"
   },
   {
    "duration": 10,
    "start_time": "2022-12-25T13:23:50.277Z"
   },
   {
    "duration": 18,
    "start_time": "2022-12-25T13:24:33.676Z"
   },
   {
    "duration": 25,
    "start_time": "2022-12-25T13:27:52.960Z"
   },
   {
    "duration": 19,
    "start_time": "2022-12-25T13:28:00.080Z"
   },
   {
    "duration": 301,
    "start_time": "2022-12-25T13:33:19.529Z"
   },
   {
    "duration": 10,
    "start_time": "2022-12-25T13:35:53.783Z"
   },
   {
    "duration": 13,
    "start_time": "2022-12-25T13:36:10.620Z"
   },
   {
    "duration": 28,
    "start_time": "2022-12-25T13:36:52.669Z"
   },
   {
    "duration": 10,
    "start_time": "2022-12-25T13:38:07.496Z"
   },
   {
    "duration": 15,
    "start_time": "2022-12-25T13:50:34.684Z"
   },
   {
    "duration": 3,
    "start_time": "2022-12-25T13:51:42.114Z"
   },
   {
    "duration": 48,
    "start_time": "2022-12-25T13:51:42.273Z"
   },
   {
    "duration": 12,
    "start_time": "2022-12-25T13:51:42.426Z"
   },
   {
    "duration": 7,
    "start_time": "2022-12-25T13:51:42.561Z"
   },
   {
    "duration": 7,
    "start_time": "2022-12-25T13:51:42.694Z"
   },
   {
    "duration": 6,
    "start_time": "2022-12-25T13:51:42.944Z"
   },
   {
    "duration": 5,
    "start_time": "2022-12-25T13:51:43.236Z"
   },
   {
    "duration": 12,
    "start_time": "2022-12-25T13:51:43.360Z"
   },
   {
    "duration": 10,
    "start_time": "2022-12-25T13:51:43.498Z"
   },
   {
    "duration": 39,
    "start_time": "2022-12-25T13:51:43.787Z"
   },
   {
    "duration": 129,
    "start_time": "2022-12-25T13:51:43.939Z"
   },
   {
    "duration": 15,
    "start_time": "2022-12-25T13:51:44.398Z"
   },
   {
    "duration": 10,
    "start_time": "2022-12-25T13:51:44.553Z"
   },
   {
    "duration": 10,
    "start_time": "2022-12-25T13:51:44.857Z"
   },
   {
    "duration": 25,
    "start_time": "2022-12-25T13:57:07.567Z"
   },
   {
    "duration": 33,
    "start_time": "2022-12-25T13:59:23.999Z"
   },
   {
    "duration": 11,
    "start_time": "2022-12-25T14:19:05.135Z"
   },
   {
    "duration": 46,
    "start_time": "2022-12-25T14:23:43.245Z"
   },
   {
    "duration": 50,
    "start_time": "2022-12-25T14:23:43.399Z"
   },
   {
    "duration": 14,
    "start_time": "2022-12-25T14:23:43.541Z"
   },
   {
    "duration": 7,
    "start_time": "2022-12-25T14:23:43.668Z"
   },
   {
    "duration": 7,
    "start_time": "2022-12-25T14:23:43.833Z"
   },
   {
    "duration": 5,
    "start_time": "2022-12-25T14:23:44.079Z"
   },
   {
    "duration": 5,
    "start_time": "2022-12-25T14:23:44.344Z"
   },
   {
    "duration": 11,
    "start_time": "2022-12-25T14:23:44.484Z"
   },
   {
    "duration": 9,
    "start_time": "2022-12-25T14:23:44.625Z"
   },
   {
    "duration": 40,
    "start_time": "2022-12-25T14:23:44.913Z"
   },
   {
    "duration": 129,
    "start_time": "2022-12-25T14:23:45.053Z"
   },
   {
    "duration": 16,
    "start_time": "2022-12-25T14:23:45.639Z"
   },
   {
    "duration": 11,
    "start_time": "2022-12-25T14:23:45.941Z"
   },
   {
    "duration": 27,
    "start_time": "2022-12-25T14:23:46.237Z"
   },
   {
    "duration": 26,
    "start_time": "2022-12-25T14:23:50.067Z"
   },
   {
    "duration": 19,
    "start_time": "2022-12-25T14:29:30.899Z"
   },
   {
    "duration": 22,
    "start_time": "2022-12-25T14:30:43.937Z"
   },
   {
    "duration": 20,
    "start_time": "2022-12-25T14:30:54.913Z"
   },
   {
    "duration": 4,
    "start_time": "2022-12-25T14:38:12.240Z"
   },
   {
    "duration": 3,
    "start_time": "2022-12-25T14:39:04.151Z"
   },
   {
    "duration": 48,
    "start_time": "2022-12-25T14:39:04.281Z"
   },
   {
    "duration": 13,
    "start_time": "2022-12-25T14:39:04.437Z"
   },
   {
    "duration": 7,
    "start_time": "2022-12-25T14:39:04.560Z"
   },
   {
    "duration": 9,
    "start_time": "2022-12-25T14:39:04.741Z"
   },
   {
    "duration": 6,
    "start_time": "2022-12-25T14:39:05.050Z"
   },
   {
    "duration": 6,
    "start_time": "2022-12-25T14:39:05.244Z"
   },
   {
    "duration": 14,
    "start_time": "2022-12-25T14:39:05.467Z"
   },
   {
    "duration": 11,
    "start_time": "2022-12-25T14:39:05.499Z"
   },
   {
    "duration": 37,
    "start_time": "2022-12-25T14:39:05.752Z"
   },
   {
    "duration": 138,
    "start_time": "2022-12-25T14:39:05.959Z"
   },
   {
    "duration": 16,
    "start_time": "2022-12-25T14:39:06.511Z"
   },
   {
    "duration": 11,
    "start_time": "2022-12-25T14:39:06.821Z"
   },
   {
    "duration": 29,
    "start_time": "2022-12-25T14:39:07.148Z"
   },
   {
    "duration": 23,
    "start_time": "2022-12-25T14:39:07.515Z"
   },
   {
    "duration": 22,
    "start_time": "2022-12-25T14:39:14.157Z"
   },
   {
    "duration": 22,
    "start_time": "2022-12-25T14:39:14.502Z"
   },
   {
    "duration": 4,
    "start_time": "2022-12-25T14:39:19.953Z"
   },
   {
    "duration": 5,
    "start_time": "2022-12-25T14:50:05.085Z"
   },
   {
    "duration": 3,
    "start_time": "2022-12-25T14:56:34.003Z"
   },
   {
    "duration": 253,
    "start_time": "2022-12-25T15:09:59.581Z"
   },
   {
    "duration": 289,
    "start_time": "2022-12-25T15:11:18.255Z"
   },
   {
    "duration": 340,
    "start_time": "2022-12-25T15:11:36.843Z"
   },
   {
    "duration": 253,
    "start_time": "2022-12-25T15:11:45.684Z"
   },
   {
    "duration": 47,
    "start_time": "2022-12-26T06:39:11.203Z"
   },
   {
    "duration": 1107,
    "start_time": "2022-12-26T06:39:18.201Z"
   },
   {
    "duration": 175,
    "start_time": "2022-12-26T06:39:19.310Z"
   },
   {
    "duration": 12,
    "start_time": "2022-12-26T06:39:19.487Z"
   },
   {
    "duration": 24,
    "start_time": "2022-12-26T06:39:19.501Z"
   },
   {
    "duration": 7,
    "start_time": "2022-12-26T06:39:19.787Z"
   },
   {
    "duration": 5,
    "start_time": "2022-12-26T06:39:20.277Z"
   },
   {
    "duration": 6,
    "start_time": "2022-12-26T06:39:20.780Z"
   },
   {
    "duration": 11,
    "start_time": "2022-12-26T06:39:21.053Z"
   },
   {
    "duration": 9,
    "start_time": "2022-12-26T06:39:21.361Z"
   },
   {
    "duration": 34,
    "start_time": "2022-12-26T06:39:21.971Z"
   },
   {
    "duration": 507,
    "start_time": "2022-12-26T06:39:22.262Z"
   },
   {
    "duration": 15,
    "start_time": "2022-12-26T06:39:23.912Z"
   },
   {
    "duration": 283,
    "start_time": "2022-12-26T06:39:25.474Z"
   },
   {
    "duration": 22,
    "start_time": "2022-12-26T06:41:57.593Z"
   },
   {
    "duration": 74,
    "start_time": "2022-12-26T06:47:16.416Z"
   },
   {
    "duration": 76,
    "start_time": "2022-12-26T06:49:30.633Z"
   },
   {
    "duration": 69,
    "start_time": "2022-12-26T06:49:52.265Z"
   },
   {
    "duration": 88,
    "start_time": "2022-12-26T06:52:47.991Z"
   },
   {
    "duration": 81,
    "start_time": "2022-12-26T06:52:59.242Z"
   },
   {
    "duration": 71,
    "start_time": "2022-12-26T06:53:08.840Z"
   },
   {
    "duration": 76,
    "start_time": "2022-12-26T06:53:12.249Z"
   },
   {
    "duration": 72,
    "start_time": "2022-12-26T06:53:55.732Z"
   },
   {
    "duration": 9,
    "start_time": "2022-12-26T06:56:12.332Z"
   },
   {
    "duration": 13,
    "start_time": "2022-12-26T06:56:34.152Z"
   },
   {
    "duration": 10,
    "start_time": "2022-12-26T06:56:51.072Z"
   },
   {
    "duration": 10,
    "start_time": "2022-12-26T06:57:21.163Z"
   },
   {
    "duration": 77,
    "start_time": "2022-12-26T06:57:21.269Z"
   },
   {
    "duration": 10,
    "start_time": "2022-12-26T06:57:28.373Z"
   },
   {
    "duration": 74,
    "start_time": "2022-12-26T06:57:51.677Z"
   },
   {
    "duration": 70,
    "start_time": "2022-12-26T06:58:20.961Z"
   },
   {
    "duration": 29,
    "start_time": "2022-12-26T06:58:23.733Z"
   },
   {
    "duration": 81,
    "start_time": "2022-12-26T06:58:27.158Z"
   },
   {
    "duration": 117,
    "start_time": "2022-12-26T07:11:30.704Z"
   },
   {
    "duration": 16,
    "start_time": "2022-12-26T07:11:42.349Z"
   },
   {
    "duration": 73,
    "start_time": "2022-12-26T07:13:55.678Z"
   },
   {
    "duration": 6,
    "start_time": "2022-12-26T07:20:17.930Z"
   },
   {
    "duration": 55,
    "start_time": "2022-12-26T07:20:18.210Z"
   },
   {
    "duration": 13,
    "start_time": "2022-12-26T07:20:19.391Z"
   },
   {
    "duration": 5,
    "start_time": "2022-12-26T07:20:19.609Z"
   },
   {
    "duration": 8,
    "start_time": "2022-12-26T07:20:19.840Z"
   },
   {
    "duration": 5,
    "start_time": "2022-12-26T07:20:20.458Z"
   },
   {
    "duration": 5,
    "start_time": "2022-12-26T07:20:20.913Z"
   },
   {
    "duration": 11,
    "start_time": "2022-12-26T07:20:21.135Z"
   },
   {
    "duration": 10,
    "start_time": "2022-12-26T07:20:21.326Z"
   },
   {
    "duration": 34,
    "start_time": "2022-12-26T07:20:21.719Z"
   },
   {
    "duration": 119,
    "start_time": "2022-12-26T07:20:21.919Z"
   },
   {
    "duration": 14,
    "start_time": "2022-12-26T07:20:23.321Z"
   },
   {
    "duration": 3,
    "start_time": "2022-12-26T07:26:54.465Z"
   },
   {
    "duration": 84,
    "start_time": "2022-12-26T07:43:29.780Z"
   },
   {
    "duration": 71,
    "start_time": "2022-12-26T07:43:39.880Z"
   },
   {
    "duration": 3,
    "start_time": "2022-12-26T07:47:44.827Z"
   },
   {
    "duration": 4,
    "start_time": "2022-12-26T07:47:48.784Z"
   },
   {
    "duration": 4,
    "start_time": "2022-12-26T07:51:18.219Z"
   },
   {
    "duration": 3,
    "start_time": "2022-12-26T07:51:45.720Z"
   },
   {
    "duration": 15,
    "start_time": "2022-12-26T07:52:52.746Z"
   },
   {
    "duration": 21,
    "start_time": "2022-12-26T07:53:31.839Z"
   },
   {
    "duration": 74,
    "start_time": "2022-12-26T07:53:32.467Z"
   },
   {
    "duration": 29,
    "start_time": "2022-12-26T07:53:42.550Z"
   },
   {
    "duration": 28,
    "start_time": "2022-12-26T07:56:45.591Z"
   },
   {
    "duration": 26,
    "start_time": "2022-12-26T07:56:52.733Z"
   },
   {
    "duration": 41,
    "start_time": "2022-12-26T07:57:27.454Z"
   },
   {
    "duration": 27,
    "start_time": "2022-12-26T07:57:35.412Z"
   },
   {
    "duration": 30,
    "start_time": "2022-12-26T07:57:41.392Z"
   },
   {
    "duration": 15,
    "start_time": "2022-12-26T07:59:25.732Z"
   },
   {
    "duration": 16,
    "start_time": "2022-12-26T07:59:33.132Z"
   },
   {
    "duration": 27,
    "start_time": "2022-12-26T08:05:13.596Z"
   },
   {
    "duration": 40,
    "start_time": "2022-12-26T08:05:26.828Z"
   },
   {
    "duration": 38,
    "start_time": "2022-12-26T08:07:42.873Z"
   },
   {
    "duration": 4,
    "start_time": "2022-12-26T08:10:58.259Z"
   },
   {
    "duration": 46,
    "start_time": "2022-12-26T08:10:58.745Z"
   },
   {
    "duration": 12,
    "start_time": "2022-12-26T08:10:58.952Z"
   },
   {
    "duration": 5,
    "start_time": "2022-12-26T08:10:59.150Z"
   },
   {
    "duration": 7,
    "start_time": "2022-12-26T08:10:59.340Z"
   },
   {
    "duration": 5,
    "start_time": "2022-12-26T08:10:59.650Z"
   },
   {
    "duration": 6,
    "start_time": "2022-12-26T08:10:59.991Z"
   },
   {
    "duration": 10,
    "start_time": "2022-12-26T08:11:00.176Z"
   },
   {
    "duration": 9,
    "start_time": "2022-12-26T08:11:00.352Z"
   },
   {
    "duration": 36,
    "start_time": "2022-12-26T08:11:00.713Z"
   },
   {
    "duration": 122,
    "start_time": "2022-12-26T08:11:01.035Z"
   },
   {
    "duration": 15,
    "start_time": "2022-12-26T08:11:01.872Z"
   },
   {
    "duration": 39,
    "start_time": "2022-12-26T08:11:02.289Z"
   },
   {
    "duration": 15,
    "start_time": "2022-12-26T08:12:04.238Z"
   },
   {
    "duration": 1151,
    "start_time": "2022-12-26T08:12:14.748Z"
   },
   {
    "duration": 80,
    "start_time": "2022-12-26T08:12:16.258Z"
   },
   {
    "duration": 35,
    "start_time": "2022-12-26T08:12:31.674Z"
   },
   {
    "duration": 113,
    "start_time": "2022-12-26T08:14:19.237Z"
   },
   {
    "duration": 93,
    "start_time": "2022-12-26T08:14:19.717Z"
   },
   {
    "duration": 32,
    "start_time": "2022-12-26T08:14:53.661Z"
   },
   {
    "duration": 37,
    "start_time": "2022-12-26T08:15:50.953Z"
   },
   {
    "duration": 38,
    "start_time": "2022-12-26T08:17:29.601Z"
   },
   {
    "duration": 37,
    "start_time": "2022-12-26T08:18:09.600Z"
   },
   {
    "duration": 15,
    "start_time": "2022-12-26T08:33:11.407Z"
   },
   {
    "duration": 13,
    "start_time": "2022-12-26T08:33:12.179Z"
   },
   {
    "duration": 4,
    "start_time": "2022-12-26T08:33:25.542Z"
   },
   {
    "duration": 50,
    "start_time": "2022-12-26T08:33:25.827Z"
   },
   {
    "duration": 14,
    "start_time": "2022-12-26T08:33:26.228Z"
   },
   {
    "duration": 7,
    "start_time": "2022-12-26T08:33:26.506Z"
   },
   {
    "duration": 9,
    "start_time": "2022-12-26T08:33:26.787Z"
   },
   {
    "duration": 6,
    "start_time": "2022-12-26T08:33:27.402Z"
   },
   {
    "duration": 6,
    "start_time": "2022-12-26T08:33:28.426Z"
   },
   {
    "duration": 13,
    "start_time": "2022-12-26T08:33:32.540Z"
   },
   {
    "duration": 9,
    "start_time": "2022-12-26T08:33:33.811Z"
   },
   {
    "duration": 39,
    "start_time": "2022-12-26T08:33:34.917Z"
   },
   {
    "duration": 149,
    "start_time": "2022-12-26T08:33:37.482Z"
   },
   {
    "duration": 17,
    "start_time": "2022-12-26T08:33:39.629Z"
   },
   {
    "duration": 41,
    "start_time": "2022-12-26T08:33:41.715Z"
   },
   {
    "duration": 46,
    "start_time": "2022-12-26T08:33:54.879Z"
   },
   {
    "duration": 57,
    "start_time": "2022-12-26T08:34:33.835Z"
   },
   {
    "duration": 1205,
    "start_time": "2022-12-26T08:34:45.193Z"
   },
   {
    "duration": 58,
    "start_time": "2022-12-26T08:34:46.400Z"
   },
   {
    "duration": 14,
    "start_time": "2022-12-26T08:34:46.459Z"
   },
   {
    "duration": 6,
    "start_time": "2022-12-26T08:34:46.475Z"
   },
   {
    "duration": 22,
    "start_time": "2022-12-26T08:34:46.482Z"
   },
   {
    "duration": 6,
    "start_time": "2022-12-26T08:34:47.023Z"
   },
   {
    "duration": 5,
    "start_time": "2022-12-26T08:34:47.848Z"
   },
   {
    "duration": 12,
    "start_time": "2022-12-26T08:34:48.543Z"
   },
   {
    "duration": 11,
    "start_time": "2022-12-26T08:34:49.074Z"
   },
   {
    "duration": 36,
    "start_time": "2022-12-26T08:34:50.105Z"
   },
   {
    "duration": 394,
    "start_time": "2022-12-26T08:34:50.681Z"
   },
   {
    "duration": 16,
    "start_time": "2022-12-26T08:34:52.802Z"
   },
   {
    "duration": 165,
    "start_time": "2022-12-26T08:34:58.010Z"
   },
   {
    "duration": 14,
    "start_time": "2022-12-26T08:35:34.909Z"
   },
   {
    "duration": 12,
    "start_time": "2022-12-26T08:35:35.174Z"
   },
   {
    "duration": 4,
    "start_time": "2022-12-26T08:35:41.659Z"
   },
   {
    "duration": 56,
    "start_time": "2022-12-26T08:35:42.123Z"
   },
   {
    "duration": 15,
    "start_time": "2022-12-26T08:35:42.433Z"
   },
   {
    "duration": 7,
    "start_time": "2022-12-26T08:35:42.752Z"
   },
   {
    "duration": 8,
    "start_time": "2022-12-26T08:35:42.973Z"
   },
   {
    "duration": 6,
    "start_time": "2022-12-26T08:35:43.591Z"
   },
   {
    "duration": 6,
    "start_time": "2022-12-26T08:35:44.119Z"
   },
   {
    "duration": 12,
    "start_time": "2022-12-26T08:35:44.405Z"
   },
   {
    "duration": 11,
    "start_time": "2022-12-26T08:35:45.054Z"
   },
   {
    "duration": 36,
    "start_time": "2022-12-26T08:35:45.942Z"
   },
   {
    "duration": 135,
    "start_time": "2022-12-26T08:35:46.355Z"
   },
   {
    "duration": 15,
    "start_time": "2022-12-26T08:35:49.439Z"
   },
   {
    "duration": 40,
    "start_time": "2022-12-26T08:35:51.321Z"
   },
   {
    "duration": 40,
    "start_time": "2022-12-26T08:39:21.018Z"
   },
   {
    "duration": 39,
    "start_time": "2022-12-26T08:45:25.034Z"
   },
   {
    "duration": 82,
    "start_time": "2022-12-26T08:52:59.599Z"
   },
   {
    "duration": 25,
    "start_time": "2022-12-26T08:53:08.413Z"
   },
   {
    "duration": 36,
    "start_time": "2022-12-26T08:53:24.486Z"
   },
   {
    "duration": 3,
    "start_time": "2022-12-26T08:53:33.496Z"
   },
   {
    "duration": 46,
    "start_time": "2022-12-26T08:53:34.019Z"
   },
   {
    "duration": 12,
    "start_time": "2022-12-26T08:53:34.207Z"
   },
   {
    "duration": 5,
    "start_time": "2022-12-26T08:53:34.405Z"
   },
   {
    "duration": 8,
    "start_time": "2022-12-26T08:53:34.584Z"
   },
   {
    "duration": 5,
    "start_time": "2022-12-26T08:53:35.188Z"
   },
   {
    "duration": 5,
    "start_time": "2022-12-26T08:53:35.765Z"
   },
   {
    "duration": 12,
    "start_time": "2022-12-26T08:53:36.061Z"
   },
   {
    "duration": 9,
    "start_time": "2022-12-26T08:53:36.384Z"
   },
   {
    "duration": 37,
    "start_time": "2022-12-26T08:53:37.054Z"
   },
   {
    "duration": 123,
    "start_time": "2022-12-26T08:53:37.573Z"
   },
   {
    "duration": 15,
    "start_time": "2022-12-26T08:53:39.229Z"
   },
   {
    "duration": 38,
    "start_time": "2022-12-26T08:53:40.826Z"
   },
   {
    "duration": 25,
    "start_time": "2022-12-26T08:53:43.717Z"
   },
   {
    "duration": 34,
    "start_time": "2022-12-26T08:54:56.525Z"
   },
   {
    "duration": 34,
    "start_time": "2022-12-26T08:55:34.324Z"
   },
   {
    "duration": 4,
    "start_time": "2022-12-26T08:56:25.480Z"
   },
   {
    "duration": 48,
    "start_time": "2022-12-26T08:56:25.677Z"
   },
   {
    "duration": 13,
    "start_time": "2022-12-26T08:56:25.843Z"
   },
   {
    "duration": 7,
    "start_time": "2022-12-26T08:56:26.007Z"
   },
   {
    "duration": 8,
    "start_time": "2022-12-26T08:56:26.173Z"
   },
   {
    "duration": 6,
    "start_time": "2022-12-26T08:56:26.502Z"
   },
   {
    "duration": 5,
    "start_time": "2022-12-26T08:56:26.842Z"
   },
   {
    "duration": 12,
    "start_time": "2022-12-26T08:56:26.998Z"
   },
   {
    "duration": 9,
    "start_time": "2022-12-26T08:56:27.165Z"
   },
   {
    "duration": 49,
    "start_time": "2022-12-26T08:56:27.476Z"
   },
   {
    "duration": 126,
    "start_time": "2022-12-26T08:56:27.658Z"
   },
   {
    "duration": 15,
    "start_time": "2022-12-26T08:56:28.354Z"
   },
   {
    "duration": 38,
    "start_time": "2022-12-26T08:56:29.711Z"
   },
   {
    "duration": 28,
    "start_time": "2022-12-26T08:59:03.633Z"
   },
   {
    "duration": 4,
    "start_time": "2022-12-26T08:59:14.247Z"
   },
   {
    "duration": 50,
    "start_time": "2022-12-26T08:59:14.439Z"
   },
   {
    "duration": 12,
    "start_time": "2022-12-26T08:59:14.650Z"
   },
   {
    "duration": 6,
    "start_time": "2022-12-26T08:59:14.789Z"
   },
   {
    "duration": 8,
    "start_time": "2022-12-26T08:59:14.966Z"
   },
   {
    "duration": 5,
    "start_time": "2022-12-26T08:59:15.336Z"
   },
   {
    "duration": 5,
    "start_time": "2022-12-26T08:59:15.739Z"
   },
   {
    "duration": 11,
    "start_time": "2022-12-26T08:59:16.054Z"
   },
   {
    "duration": 9,
    "start_time": "2022-12-26T08:59:16.221Z"
   },
   {
    "duration": 38,
    "start_time": "2022-12-26T08:59:16.551Z"
   },
   {
    "duration": 122,
    "start_time": "2022-12-26T08:59:16.740Z"
   },
   {
    "duration": 19,
    "start_time": "2022-12-26T08:59:17.419Z"
   },
   {
    "duration": 33,
    "start_time": "2022-12-26T08:59:18.527Z"
   },
   {
    "duration": 36,
    "start_time": "2022-12-26T09:00:40.210Z"
   },
   {
    "duration": 108,
    "start_time": "2022-12-26T09:00:44.919Z"
   },
   {
    "duration": 42,
    "start_time": "2022-12-26T09:00:53.474Z"
   },
   {
    "duration": 39,
    "start_time": "2022-12-26T09:05:31.573Z"
   },
   {
    "duration": 1702,
    "start_time": "2022-12-26T09:06:48.206Z"
   },
   {
    "duration": 47616,
    "start_time": "2022-12-26T09:08:56.705Z"
   },
   {
    "duration": 19,
    "start_time": "2022-12-26T09:18:59.482Z"
   },
   {
    "duration": 1913,
    "start_time": "2022-12-26T09:19:16.936Z"
   },
   {
    "duration": 1827,
    "start_time": "2022-12-26T09:19:52.697Z"
   },
   {
    "duration": 91,
    "start_time": "2022-12-26T09:20:28.782Z"
   },
   {
    "duration": 72,
    "start_time": "2022-12-26T09:20:49.375Z"
   },
   {
    "duration": 216,
    "start_time": "2022-12-26T09:21:05.355Z"
   },
   {
    "duration": 191,
    "start_time": "2022-12-26T09:23:25.350Z"
   },
   {
    "duration": 4,
    "start_time": "2022-12-26T09:23:30.972Z"
   },
   {
    "duration": 54,
    "start_time": "2022-12-26T09:23:31.191Z"
   },
   {
    "duration": 12,
    "start_time": "2022-12-26T09:23:31.425Z"
   },
   {
    "duration": 7,
    "start_time": "2022-12-26T09:23:31.634Z"
   },
   {
    "duration": 7,
    "start_time": "2022-12-26T09:23:31.860Z"
   },
   {
    "duration": 6,
    "start_time": "2022-12-26T09:23:32.425Z"
   },
   {
    "duration": 5,
    "start_time": "2022-12-26T09:23:33.025Z"
   },
   {
    "duration": 12,
    "start_time": "2022-12-26T09:23:33.257Z"
   },
   {
    "duration": 11,
    "start_time": "2022-12-26T09:23:33.475Z"
   },
   {
    "duration": 33,
    "start_time": "2022-12-26T09:23:33.986Z"
   },
   {
    "duration": 115,
    "start_time": "2022-12-26T09:23:34.366Z"
   },
   {
    "duration": 18,
    "start_time": "2022-12-26T09:23:36.095Z"
   },
   {
    "duration": 53,
    "start_time": "2022-12-26T09:23:38.158Z"
   },
   {
    "duration": 183,
    "start_time": "2022-12-26T09:23:39.355Z"
   },
   {
    "duration": 48542,
    "start_time": "2022-12-26T09:24:42.253Z"
   },
   {
    "duration": 194,
    "start_time": "2022-12-26T09:26:06.782Z"
   },
   {
    "duration": 48236,
    "start_time": "2022-12-26T09:28:05.869Z"
   },
   {
    "duration": 48932,
    "start_time": "2022-12-26T09:30:36.223Z"
   },
   {
    "duration": 106,
    "start_time": "2022-12-26T09:55:27.343Z"
   },
   {
    "duration": 51559,
    "start_time": "2022-12-26T09:56:13.156Z"
   },
   {
    "duration": 71,
    "start_time": "2022-12-26T09:57:04.717Z"
   },
   {
    "duration": 3561,
    "start_time": "2022-12-26T09:57:32.450Z"
   },
   {
    "duration": 3798,
    "start_time": "2022-12-26T09:59:10.507Z"
   },
   {
    "duration": 74,
    "start_time": "2022-12-26T10:01:55.167Z"
   },
   {
    "duration": 298,
    "start_time": "2022-12-26T10:02:17.013Z"
   },
   {
    "duration": 135,
    "start_time": "2022-12-26T10:02:34.575Z"
   },
   {
    "duration": 2,
    "start_time": "2022-12-26T10:03:48.100Z"
   },
   {
    "duration": 4,
    "start_time": "2022-12-26T10:04:43.581Z"
   },
   {
    "duration": 18,
    "start_time": "2022-12-26T10:04:44.387Z"
   },
   {
    "duration": 24,
    "start_time": "2022-12-26T10:50:04.983Z"
   },
   {
    "duration": 37,
    "start_time": "2022-12-26T10:55:55.006Z"
   },
   {
    "duration": 37,
    "start_time": "2022-12-26T10:56:01.384Z"
   },
   {
    "duration": 18,
    "start_time": "2022-12-26T10:56:29.778Z"
   },
   {
    "duration": 1098,
    "start_time": "2022-12-26T10:57:45.769Z"
   },
   {
    "duration": 57,
    "start_time": "2022-12-26T10:57:46.869Z"
   },
   {
    "duration": 13,
    "start_time": "2022-12-26T10:57:46.927Z"
   },
   {
    "duration": 6,
    "start_time": "2022-12-26T10:57:46.942Z"
   },
   {
    "duration": 10,
    "start_time": "2022-12-26T10:57:46.949Z"
   },
   {
    "duration": 5,
    "start_time": "2022-12-26T10:57:47.241Z"
   },
   {
    "duration": 5,
    "start_time": "2022-12-26T10:57:47.757Z"
   },
   {
    "duration": 13,
    "start_time": "2022-12-26T10:57:47.964Z"
   },
   {
    "duration": 14,
    "start_time": "2022-12-26T10:57:48.197Z"
   },
   {
    "duration": 37,
    "start_time": "2022-12-26T10:57:48.719Z"
   },
   {
    "duration": 393,
    "start_time": "2022-12-26T10:57:48.948Z"
   },
   {
    "duration": 15,
    "start_time": "2022-12-26T10:57:51.238Z"
   },
   {
    "duration": 32,
    "start_time": "2022-12-26T10:57:53.341Z"
   },
   {
    "duration": 126,
    "start_time": "2022-12-26T10:57:55.807Z"
   },
   {
    "duration": 20,
    "start_time": "2022-12-26T10:59:20.837Z"
   },
   {
    "duration": 15,
    "start_time": "2022-12-26T10:59:27.324Z"
   },
   {
    "duration": 32,
    "start_time": "2022-12-26T11:00:13.186Z"
   },
   {
    "duration": 171,
    "start_time": "2022-12-26T11:00:18.994Z"
   },
   {
    "duration": 51635,
    "start_time": "2022-12-26T11:01:21.843Z"
   },
   {
    "duration": 131,
    "start_time": "2022-12-26T11:03:07.582Z"
   },
   {
    "duration": 4,
    "start_time": "2022-12-26T11:03:18.488Z"
   },
   {
    "duration": 18,
    "start_time": "2022-12-26T11:03:57.884Z"
   },
   {
    "duration": 96,
    "start_time": "2022-12-26T11:06:40.857Z"
   },
   {
    "duration": 181,
    "start_time": "2022-12-26T11:07:01.169Z"
   },
   {
    "duration": 14,
    "start_time": "2022-12-26T11:10:24.653Z"
   },
   {
    "duration": 4,
    "start_time": "2022-12-26T11:10:37.461Z"
   },
   {
    "duration": 54,
    "start_time": "2022-12-26T11:10:37.602Z"
   },
   {
    "duration": 12,
    "start_time": "2022-12-26T11:10:37.770Z"
   },
   {
    "duration": 5,
    "start_time": "2022-12-26T11:10:37.913Z"
   },
   {
    "duration": 7,
    "start_time": "2022-12-26T11:10:38.093Z"
   },
   {
    "duration": 5,
    "start_time": "2022-12-26T11:10:38.365Z"
   },
   {
    "duration": 5,
    "start_time": "2022-12-26T11:10:38.674Z"
   },
   {
    "duration": 11,
    "start_time": "2022-12-26T11:10:38.861Z"
   },
   {
    "duration": 10,
    "start_time": "2022-12-26T11:10:39.000Z"
   },
   {
    "duration": 38,
    "start_time": "2022-12-26T11:10:39.319Z"
   },
   {
    "duration": 125,
    "start_time": "2022-12-26T11:10:39.498Z"
   },
   {
    "duration": 15,
    "start_time": "2022-12-26T11:10:40.168Z"
   },
   {
    "duration": 32,
    "start_time": "2022-12-26T11:10:42.318Z"
   },
   {
    "duration": 20,
    "start_time": "2022-12-26T11:10:45.669Z"
   },
   {
    "duration": 22,
    "start_time": "2022-12-26T11:10:46.647Z"
   },
   {
    "duration": 20,
    "start_time": "2022-12-26T11:10:47.273Z"
   },
   {
    "duration": 21,
    "start_time": "2022-12-26T11:10:49.385Z"
   },
   {
    "duration": 20,
    "start_time": "2022-12-26T11:11:46.665Z"
   },
   {
    "duration": 43,
    "start_time": "2022-12-26T11:13:33.057Z"
   },
   {
    "duration": 4,
    "start_time": "2022-12-26T11:13:43.411Z"
   },
   {
    "duration": 51,
    "start_time": "2022-12-26T11:13:43.865Z"
   },
   {
    "duration": 14,
    "start_time": "2022-12-26T11:13:44.088Z"
   },
   {
    "duration": 6,
    "start_time": "2022-12-26T11:13:44.279Z"
   },
   {
    "duration": 8,
    "start_time": "2022-12-26T11:13:44.699Z"
   },
   {
    "duration": 10,
    "start_time": "2022-12-26T11:13:46.953Z"
   },
   {
    "duration": 6,
    "start_time": "2022-12-26T11:13:47.564Z"
   },
   {
    "duration": 11,
    "start_time": "2022-12-26T11:13:47.863Z"
   },
   {
    "duration": 11,
    "start_time": "2022-12-26T11:13:48.178Z"
   },
   {
    "duration": 37,
    "start_time": "2022-12-26T11:13:48.865Z"
   },
   {
    "duration": 123,
    "start_time": "2022-12-26T11:13:49.269Z"
   },
   {
    "duration": 16,
    "start_time": "2022-12-26T11:13:50.874Z"
   },
   {
    "duration": 29,
    "start_time": "2022-12-26T11:13:52.615Z"
   },
   {
    "duration": 164,
    "start_time": "2022-12-26T11:14:07.862Z"
   },
   {
    "duration": 50343,
    "start_time": "2022-12-26T11:14:10.213Z"
   },
   {
    "duration": 252,
    "start_time": "2022-12-26T11:15:00.558Z"
   },
   {
    "duration": 116,
    "start_time": "2022-12-26T11:22:00.919Z"
   },
   {
    "duration": 75,
    "start_time": "2022-12-26T11:22:13.172Z"
   },
   {
    "duration": 176,
    "start_time": "2022-12-26T11:23:13.318Z"
   },
   {
    "duration": 180,
    "start_time": "2022-12-26T11:23:43.413Z"
   },
   {
    "duration": 53692,
    "start_time": "2022-12-26T11:24:24.686Z"
   },
   {
    "duration": 142,
    "start_time": "2022-12-26T11:27:57.764Z"
   },
   {
    "duration": 187,
    "start_time": "2022-12-26T11:31:01.606Z"
   },
   {
    "duration": 7,
    "start_time": "2022-12-26T11:31:29.203Z"
   },
   {
    "duration": 5,
    "start_time": "2022-12-26T11:33:25.252Z"
   },
   {
    "duration": 51,
    "start_time": "2022-12-26T11:33:25.721Z"
   },
   {
    "duration": 14,
    "start_time": "2022-12-26T11:33:25.895Z"
   },
   {
    "duration": 6,
    "start_time": "2022-12-26T11:33:26.075Z"
   },
   {
    "duration": 9,
    "start_time": "2022-12-26T11:33:26.262Z"
   },
   {
    "duration": 5,
    "start_time": "2022-12-26T11:33:26.749Z"
   },
   {
    "duration": 6,
    "start_time": "2022-12-26T11:33:27.119Z"
   },
   {
    "duration": 15,
    "start_time": "2022-12-26T11:33:27.320Z"
   },
   {
    "duration": 10,
    "start_time": "2022-12-26T11:33:27.505Z"
   },
   {
    "duration": 38,
    "start_time": "2022-12-26T11:33:27.953Z"
   },
   {
    "duration": 146,
    "start_time": "2022-12-26T11:33:28.195Z"
   },
   {
    "duration": 17,
    "start_time": "2022-12-26T11:33:29.682Z"
   },
   {
    "duration": 32,
    "start_time": "2022-12-26T11:33:30.712Z"
   },
   {
    "duration": 8,
    "start_time": "2022-12-26T11:33:32.151Z"
   },
   {
    "duration": 162,
    "start_time": "2022-12-26T11:37:02.720Z"
   },
   {
    "duration": 73,
    "start_time": "2022-12-26T11:38:20.973Z"
   },
   {
    "duration": 5,
    "start_time": "2022-12-26T11:38:25.970Z"
   },
   {
    "duration": 208,
    "start_time": "2022-12-26T11:39:23.899Z"
   },
   {
    "duration": 144,
    "start_time": "2022-12-26T11:40:04.263Z"
   },
   {
    "duration": 232,
    "start_time": "2022-12-26T11:53:00.194Z"
   },
   {
    "duration": 142,
    "start_time": "2022-12-26T11:53:13.065Z"
   },
   {
    "duration": 133,
    "start_time": "2022-12-26T11:54:36.654Z"
   },
   {
    "duration": 199831,
    "start_time": "2022-12-26T11:54:53.063Z"
   },
   {
    "duration": 72,
    "start_time": "2022-12-26T11:58:12.896Z"
   },
   {
    "duration": 372,
    "start_time": "2022-12-26T11:58:31.455Z"
   },
   {
    "duration": 172,
    "start_time": "2022-12-26T11:58:48.341Z"
   },
   {
    "duration": 54434,
    "start_time": "2022-12-26T12:04:34.398Z"
   },
   {
    "duration": 4,
    "start_time": "2022-12-26T12:05:41.637Z"
   },
   {
    "duration": 50,
    "start_time": "2022-12-26T12:05:42.170Z"
   },
   {
    "duration": 12,
    "start_time": "2022-12-26T12:05:42.606Z"
   },
   {
    "duration": 7,
    "start_time": "2022-12-26T12:05:43.062Z"
   },
   {
    "duration": 10,
    "start_time": "2022-12-26T12:05:43.540Z"
   },
   {
    "duration": 5,
    "start_time": "2022-12-26T12:05:44.638Z"
   },
   {
    "duration": 5,
    "start_time": "2022-12-26T12:05:45.382Z"
   },
   {
    "duration": 11,
    "start_time": "2022-12-26T12:05:45.792Z"
   },
   {
    "duration": 9,
    "start_time": "2022-12-26T12:05:46.269Z"
   },
   {
    "duration": 36,
    "start_time": "2022-12-26T12:05:47.037Z"
   },
   {
    "duration": 132,
    "start_time": "2022-12-26T12:05:47.856Z"
   },
   {
    "duration": 16,
    "start_time": "2022-12-26T12:05:49.285Z"
   },
   {
    "duration": 31,
    "start_time": "2022-12-26T12:05:50.753Z"
   },
   {
    "duration": 162,
    "start_time": "2022-12-26T12:05:52.462Z"
   },
   {
    "duration": 53492,
    "start_time": "2022-12-26T12:05:57.675Z"
   },
   {
    "duration": 247,
    "start_time": "2022-12-26T12:06:51.168Z"
   },
   {
    "duration": 290,
    "start_time": "2022-12-26T12:06:51.505Z"
   },
   {
    "duration": 53840,
    "start_time": "2022-12-26T12:06:51.797Z"
   },
   {
    "duration": 269,
    "start_time": "2022-12-26T12:07:45.638Z"
   },
   {
    "duration": 259,
    "start_time": "2022-12-26T12:07:45.909Z"
   },
   {
    "duration": 309,
    "start_time": "2022-12-26T12:08:14.642Z"
   },
   {
    "duration": 18616,
    "start_time": "2022-12-26T12:09:17.454Z"
   },
   {
    "duration": 180,
    "start_time": "2022-12-26T12:09:49.314Z"
   },
   {
    "duration": 156,
    "start_time": "2022-12-26T12:10:11.448Z"
   },
   {
    "duration": 180,
    "start_time": "2022-12-26T12:10:16.061Z"
   },
   {
    "duration": 186,
    "start_time": "2022-12-26T12:10:22.150Z"
   },
   {
    "duration": 172,
    "start_time": "2022-12-26T12:10:31.933Z"
   },
   {
    "duration": 17995,
    "start_time": "2022-12-26T12:10:41.756Z"
   },
   {
    "duration": 169,
    "start_time": "2022-12-26T12:11:45.150Z"
   },
   {
    "duration": 4502,
    "start_time": "2022-12-26T12:12:34.797Z"
   },
   {
    "duration": 4483,
    "start_time": "2022-12-26T12:12:52.262Z"
   },
   {
    "duration": 255,
    "start_time": "2022-12-26T12:13:45.442Z"
   },
   {
    "duration": 11950,
    "start_time": "2022-12-26T12:14:06.800Z"
   },
   {
    "duration": 11773,
    "start_time": "2022-12-26T12:14:19.560Z"
   },
   {
    "duration": 177,
    "start_time": "2022-12-26T12:15:25.230Z"
   },
   {
    "duration": 254,
    "start_time": "2022-12-26T12:15:31.366Z"
   },
   {
    "duration": 194,
    "start_time": "2022-12-26T12:15:44.998Z"
   },
   {
    "duration": 308,
    "start_time": "2022-12-26T12:15:50.663Z"
   },
   {
    "duration": 19606,
    "start_time": "2022-12-26T12:15:59.962Z"
   },
   {
    "duration": 172,
    "start_time": "2022-12-26T12:17:18.534Z"
   },
   {
    "duration": 310,
    "start_time": "2022-12-26T12:17:22.079Z"
   },
   {
    "duration": 180,
    "start_time": "2022-12-26T12:17:33.250Z"
   },
   {
    "duration": 3868,
    "start_time": "2022-12-26T12:17:48.854Z"
   },
   {
    "duration": 3793,
    "start_time": "2022-12-26T12:18:13.592Z"
   },
   {
    "duration": 187,
    "start_time": "2022-12-26T12:18:37.946Z"
   },
   {
    "duration": 15,
    "start_time": "2022-12-26T12:31:37.057Z"
   },
   {
    "duration": 14,
    "start_time": "2022-12-26T12:31:57.062Z"
   },
   {
    "duration": 15,
    "start_time": "2022-12-26T12:32:42.687Z"
   },
   {
    "duration": 16,
    "start_time": "2022-12-26T12:34:02.355Z"
   },
   {
    "duration": 4,
    "start_time": "2022-12-26T12:34:08.355Z"
   },
   {
    "duration": 48,
    "start_time": "2022-12-26T12:34:08.527Z"
   },
   {
    "duration": 12,
    "start_time": "2022-12-26T12:34:08.750Z"
   },
   {
    "duration": 6,
    "start_time": "2022-12-26T12:34:08.973Z"
   },
   {
    "duration": 7,
    "start_time": "2022-12-26T12:34:09.157Z"
   },
   {
    "duration": 5,
    "start_time": "2022-12-26T12:34:09.538Z"
   },
   {
    "duration": 4,
    "start_time": "2022-12-26T12:34:09.916Z"
   },
   {
    "duration": 16,
    "start_time": "2022-12-26T12:34:10.150Z"
   },
   {
    "duration": 10,
    "start_time": "2022-12-26T12:34:10.379Z"
   },
   {
    "duration": 36,
    "start_time": "2022-12-26T12:34:11.054Z"
   },
   {
    "duration": 133,
    "start_time": "2022-12-26T12:34:11.257Z"
   },
   {
    "duration": 16,
    "start_time": "2022-12-26T12:34:12.587Z"
   },
   {
    "duration": 31,
    "start_time": "2022-12-26T12:34:14.101Z"
   },
   {
    "duration": 39,
    "start_time": "2022-12-26T12:34:28.133Z"
   },
   {
    "duration": 4,
    "start_time": "2022-12-26T12:34:51.362Z"
   },
   {
    "duration": 50,
    "start_time": "2022-12-26T12:34:51.492Z"
   },
   {
    "duration": 11,
    "start_time": "2022-12-26T12:34:51.655Z"
   },
   {
    "duration": 6,
    "start_time": "2022-12-26T12:34:51.846Z"
   },
   {
    "duration": 7,
    "start_time": "2022-12-26T12:34:51.946Z"
   },
   {
    "duration": 5,
    "start_time": "2022-12-26T12:34:52.238Z"
   },
   {
    "duration": 6,
    "start_time": "2022-12-26T12:34:52.562Z"
   },
   {
    "duration": 12,
    "start_time": "2022-12-26T12:34:52.745Z"
   },
   {
    "duration": 10,
    "start_time": "2022-12-26T12:34:52.860Z"
   },
   {
    "duration": 37,
    "start_time": "2022-12-26T12:34:53.202Z"
   },
   {
    "duration": 129,
    "start_time": "2022-12-26T12:34:53.392Z"
   },
   {
    "duration": 18,
    "start_time": "2022-12-26T12:34:54.167Z"
   },
   {
    "duration": 30,
    "start_time": "2022-12-26T12:34:55.287Z"
   },
   {
    "duration": 72,
    "start_time": "2022-12-26T12:36:05.969Z"
   },
   {
    "duration": 30,
    "start_time": "2022-12-26T12:36:13.166Z"
   },
   {
    "duration": 222,
    "start_time": "2022-12-26T12:36:19.961Z"
   },
   {
    "duration": 3987,
    "start_time": "2022-12-26T12:36:24.354Z"
   },
   {
    "duration": 368,
    "start_time": "2022-12-26T12:36:28.343Z"
   },
   {
    "duration": 99,
    "start_time": "2022-12-26T12:36:28.714Z"
   },
   {
    "duration": 12,
    "start_time": "2022-12-26T12:36:28.815Z"
   },
   {
    "duration": 0,
    "start_time": "2022-12-26T12:36:28.829Z"
   },
   {
    "duration": 0,
    "start_time": "2022-12-26T12:36:28.830Z"
   },
   {
    "duration": 140,
    "start_time": "2022-12-26T12:36:29.067Z"
   },
   {
    "duration": 180,
    "start_time": "2022-12-26T12:36:29.804Z"
   },
   {
    "duration": 181,
    "start_time": "2022-12-26T12:36:36.487Z"
   },
   {
    "duration": 210,
    "start_time": "2022-12-26T12:37:06.074Z"
   },
   {
    "duration": 18,
    "start_time": "2022-12-26T12:38:07.685Z"
   },
   {
    "duration": 4,
    "start_time": "2022-12-26T12:38:52.344Z"
   },
   {
    "duration": 48,
    "start_time": "2022-12-26T12:38:52.841Z"
   },
   {
    "duration": 13,
    "start_time": "2022-12-26T12:38:53.245Z"
   },
   {
    "duration": 6,
    "start_time": "2022-12-26T12:38:53.672Z"
   },
   {
    "duration": 8,
    "start_time": "2022-12-26T12:38:54.337Z"
   },
   {
    "duration": 5,
    "start_time": "2022-12-26T12:38:55.267Z"
   },
   {
    "duration": 5,
    "start_time": "2022-12-26T12:38:55.905Z"
   },
   {
    "duration": 12,
    "start_time": "2022-12-26T12:38:56.270Z"
   },
   {
    "duration": 10,
    "start_time": "2022-12-26T12:38:56.831Z"
   },
   {
    "duration": 36,
    "start_time": "2022-12-26T12:38:57.665Z"
   },
   {
    "duration": 127,
    "start_time": "2022-12-26T12:38:58.271Z"
   },
   {
    "duration": 17,
    "start_time": "2022-12-26T12:39:00.142Z"
   },
   {
    "duration": 36,
    "start_time": "2022-12-26T12:39:06.170Z"
   },
   {
    "duration": 225,
    "start_time": "2022-12-26T12:39:22.399Z"
   },
   {
    "duration": 4223,
    "start_time": "2022-12-26T12:39:26.672Z"
   },
   {
    "duration": 557,
    "start_time": "2022-12-26T12:39:32.149Z"
   },
   {
    "duration": 4,
    "start_time": "2022-12-26T12:39:45.334Z"
   },
   {
    "duration": 18,
    "start_time": "2022-12-26T12:39:47.167Z"
   },
   {
    "duration": 4,
    "start_time": "2022-12-26T12:41:43.260Z"
   },
   {
    "duration": 17,
    "start_time": "2022-12-26T12:41:44.704Z"
   },
   {
    "duration": 4,
    "start_time": "2022-12-26T13:17:00.500Z"
   },
   {
    "duration": 18,
    "start_time": "2022-12-26T13:17:08.077Z"
   },
   {
    "duration": 16,
    "start_time": "2022-12-26T13:27:35.823Z"
   },
   {
    "duration": 5,
    "start_time": "2022-12-26T13:27:54.310Z"
   },
   {
    "duration": 48,
    "start_time": "2022-12-26T13:27:54.520Z"
   },
   {
    "duration": 12,
    "start_time": "2022-12-26T13:27:54.772Z"
   },
   {
    "duration": 6,
    "start_time": "2022-12-26T13:27:55.483Z"
   },
   {
    "duration": 7,
    "start_time": "2022-12-26T13:27:55.687Z"
   },
   {
    "duration": 7,
    "start_time": "2022-12-26T13:27:56.174Z"
   },
   {
    "duration": 5,
    "start_time": "2022-12-26T13:27:56.863Z"
   },
   {
    "duration": 11,
    "start_time": "2022-12-26T13:27:57.084Z"
   },
   {
    "duration": 9,
    "start_time": "2022-12-26T13:27:58.056Z"
   },
   {
    "duration": 36,
    "start_time": "2022-12-26T13:28:00.010Z"
   },
   {
    "duration": 128,
    "start_time": "2022-12-26T13:28:00.408Z"
   },
   {
    "duration": 15,
    "start_time": "2022-12-26T13:28:01.969Z"
   },
   {
    "duration": 35,
    "start_time": "2022-12-26T13:28:04.808Z"
   },
   {
    "duration": 190,
    "start_time": "2022-12-26T13:28:13.370Z"
   },
   {
    "duration": 3769,
    "start_time": "2022-12-26T13:28:16.165Z"
   },
   {
    "duration": 245,
    "start_time": "2022-12-26T13:28:20.261Z"
   },
   {
    "duration": 4,
    "start_time": "2022-12-26T13:28:31.898Z"
   },
   {
    "duration": 5,
    "start_time": "2022-12-26T13:30:17.581Z"
   },
   {
    "duration": 4,
    "start_time": "2022-12-26T13:30:34.517Z"
   },
   {
    "duration": 49,
    "start_time": "2022-12-26T13:30:34.849Z"
   },
   {
    "duration": 11,
    "start_time": "2022-12-26T13:30:35.184Z"
   },
   {
    "duration": 6,
    "start_time": "2022-12-26T13:30:36.508Z"
   },
   {
    "duration": 7,
    "start_time": "2022-12-26T13:30:36.921Z"
   },
   {
    "duration": 7,
    "start_time": "2022-12-26T13:30:37.557Z"
   },
   {
    "duration": 7,
    "start_time": "2022-12-26T13:30:38.156Z"
   },
   {
    "duration": 14,
    "start_time": "2022-12-26T13:30:38.406Z"
   },
   {
    "duration": 9,
    "start_time": "2022-12-26T13:30:38.741Z"
   },
   {
    "duration": 38,
    "start_time": "2022-12-26T13:30:39.308Z"
   },
   {
    "duration": 114,
    "start_time": "2022-12-26T13:30:39.902Z"
   },
   {
    "duration": 15,
    "start_time": "2022-12-26T13:30:41.277Z"
   },
   {
    "duration": 31,
    "start_time": "2022-12-26T13:30:42.180Z"
   },
   {
    "duration": 193,
    "start_time": "2022-12-26T13:30:43.192Z"
   },
   {
    "duration": 3760,
    "start_time": "2022-12-26T13:30:44.289Z"
   },
   {
    "duration": 361,
    "start_time": "2022-12-26T13:30:48.051Z"
   },
   {
    "duration": 90,
    "start_time": "2022-12-26T13:30:48.415Z"
   },
   {
    "duration": 23,
    "start_time": "2022-12-26T13:30:48.507Z"
   },
   {
    "duration": 80,
    "start_time": "2022-12-26T13:45:26.092Z"
   },
   {
    "duration": 4,
    "start_time": "2022-12-26T13:45:35.803Z"
   },
   {
    "duration": 54,
    "start_time": "2022-12-26T13:45:35.968Z"
   },
   {
    "duration": 12,
    "start_time": "2022-12-26T13:45:36.087Z"
   },
   {
    "duration": 6,
    "start_time": "2022-12-26T13:45:36.214Z"
   },
   {
    "duration": 9,
    "start_time": "2022-12-26T13:45:36.365Z"
   },
   {
    "duration": 6,
    "start_time": "2022-12-26T13:45:36.600Z"
   },
   {
    "duration": 6,
    "start_time": "2022-12-26T13:45:36.888Z"
   },
   {
    "duration": 14,
    "start_time": "2022-12-26T13:45:37.030Z"
   },
   {
    "duration": 9,
    "start_time": "2022-12-26T13:45:37.177Z"
   },
   {
    "duration": 45,
    "start_time": "2022-12-26T13:45:37.467Z"
   },
   {
    "duration": 121,
    "start_time": "2022-12-26T13:45:37.591Z"
   },
   {
    "duration": 15,
    "start_time": "2022-12-26T13:45:38.215Z"
   },
   {
    "duration": 82,
    "start_time": "2022-12-26T13:45:38.906Z"
   },
   {
    "duration": 31,
    "start_time": "2022-12-26T13:45:54.688Z"
   },
   {
    "duration": 156,
    "start_time": "2022-12-26T13:45:56.209Z"
   },
   {
    "duration": 3979,
    "start_time": "2022-12-26T13:45:56.584Z"
   },
   {
    "duration": 342,
    "start_time": "2022-12-26T13:46:00.565Z"
   },
   {
    "duration": 92,
    "start_time": "2022-12-26T13:46:00.914Z"
   },
   {
    "duration": 44,
    "start_time": "2022-12-26T13:46:01.009Z"
   },
   {
    "duration": 0,
    "start_time": "2022-12-26T13:46:01.054Z"
   },
   {
    "duration": 0,
    "start_time": "2022-12-26T13:46:01.056Z"
   },
   {
    "duration": 18,
    "start_time": "2022-12-26T14:06:07.866Z"
   },
   {
    "duration": 14,
    "start_time": "2022-12-26T14:06:57.087Z"
   },
   {
    "duration": 4,
    "start_time": "2022-12-26T14:07:07.207Z"
   },
   {
    "duration": 60,
    "start_time": "2022-12-26T14:07:07.385Z"
   },
   {
    "duration": 16,
    "start_time": "2022-12-26T14:07:07.549Z"
   },
   {
    "duration": 6,
    "start_time": "2022-12-26T14:07:07.712Z"
   },
   {
    "duration": 8,
    "start_time": "2022-12-26T14:07:07.902Z"
   },
   {
    "duration": 6,
    "start_time": "2022-12-26T14:07:08.207Z"
   },
   {
    "duration": 5,
    "start_time": "2022-12-26T14:07:08.558Z"
   },
   {
    "duration": 13,
    "start_time": "2022-12-26T14:07:08.721Z"
   },
   {
    "duration": 11,
    "start_time": "2022-12-26T14:07:09.091Z"
   },
   {
    "duration": 36,
    "start_time": "2022-12-26T14:07:09.441Z"
   },
   {
    "duration": 151,
    "start_time": "2022-12-26T14:07:09.612Z"
   },
   {
    "duration": 17,
    "start_time": "2022-12-26T14:07:10.620Z"
   },
   {
    "duration": 35,
    "start_time": "2022-12-26T14:07:12.801Z"
   },
   {
    "duration": 33,
    "start_time": "2022-12-26T14:07:41.484Z"
   },
   {
    "duration": 204,
    "start_time": "2022-12-26T14:07:45.554Z"
   },
   {
    "duration": 4143,
    "start_time": "2022-12-26T14:07:45.968Z"
   },
   {
    "duration": 202,
    "start_time": "2022-12-26T14:07:50.113Z"
   },
   {
    "duration": 7,
    "start_time": "2022-12-26T14:07:50.406Z"
   },
   {
    "duration": 21,
    "start_time": "2022-12-26T14:07:50.505Z"
   },
   {
    "duration": 17,
    "start_time": "2022-12-26T14:15:12.485Z"
   },
   {
    "duration": 17,
    "start_time": "2022-12-26T14:17:44.644Z"
   },
   {
    "duration": 15,
    "start_time": "2022-12-26T14:19:34.505Z"
   },
   {
    "duration": 20,
    "start_time": "2022-12-26T14:21:02.364Z"
   },
   {
    "duration": 16,
    "start_time": "2022-12-26T14:21:17.050Z"
   },
   {
    "duration": 15,
    "start_time": "2022-12-26T14:27:03.812Z"
   },
   {
    "duration": 16,
    "start_time": "2022-12-26T14:30:11.030Z"
   },
   {
    "duration": 4,
    "start_time": "2022-12-26T14:30:20.719Z"
   },
   {
    "duration": 48,
    "start_time": "2022-12-26T14:30:20.980Z"
   },
   {
    "duration": 11,
    "start_time": "2022-12-26T14:30:21.239Z"
   },
   {
    "duration": 7,
    "start_time": "2022-12-26T14:30:21.503Z"
   },
   {
    "duration": 9,
    "start_time": "2022-12-26T14:30:21.800Z"
   },
   {
    "duration": 5,
    "start_time": "2022-12-26T14:30:22.447Z"
   },
   {
    "duration": 4,
    "start_time": "2022-12-26T14:30:23.008Z"
   },
   {
    "duration": 11,
    "start_time": "2022-12-26T14:30:23.327Z"
   },
   {
    "duration": 8,
    "start_time": "2022-12-26T14:30:23.743Z"
   },
   {
    "duration": 36,
    "start_time": "2022-12-26T14:30:24.384Z"
   },
   {
    "duration": 129,
    "start_time": "2022-12-26T14:30:24.744Z"
   },
   {
    "duration": 17,
    "start_time": "2022-12-26T14:30:26.248Z"
   },
   {
    "duration": 28,
    "start_time": "2022-12-26T14:30:28.287Z"
   },
   {
    "duration": 30,
    "start_time": "2022-12-26T14:32:40.387Z"
   },
   {
    "duration": 23,
    "start_time": "2022-12-26T14:32:48.570Z"
   },
   {
    "duration": 15,
    "start_time": "2022-12-26T14:32:51.186Z"
   },
   {
    "duration": 3,
    "start_time": "2022-12-26T14:32:59.581Z"
   },
   {
    "duration": 50,
    "start_time": "2022-12-26T14:32:59.881Z"
   },
   {
    "duration": 13,
    "start_time": "2022-12-26T14:33:00.120Z"
   },
   {
    "duration": 7,
    "start_time": "2022-12-26T14:33:00.340Z"
   },
   {
    "duration": 7,
    "start_time": "2022-12-26T14:33:00.517Z"
   },
   {
    "duration": 5,
    "start_time": "2022-12-26T14:33:00.926Z"
   },
   {
    "duration": 5,
    "start_time": "2022-12-26T14:33:01.355Z"
   },
   {
    "duration": 12,
    "start_time": "2022-12-26T14:33:01.603Z"
   },
   {
    "duration": 10,
    "start_time": "2022-12-26T14:33:01.846Z"
   },
   {
    "duration": 34,
    "start_time": "2022-12-26T14:33:02.408Z"
   },
   {
    "duration": 118,
    "start_time": "2022-12-26T14:33:02.713Z"
   },
   {
    "duration": 14,
    "start_time": "2022-12-26T14:33:04.304Z"
   },
   {
    "duration": 24,
    "start_time": "2022-12-26T14:33:06.302Z"
   },
   {
    "duration": 17,
    "start_time": "2022-12-26T14:33:22.100Z"
   },
   {
    "duration": 4,
    "start_time": "2022-12-26T14:33:39.555Z"
   },
   {
    "duration": 46,
    "start_time": "2022-12-26T14:33:39.932Z"
   },
   {
    "duration": 13,
    "start_time": "2022-12-26T14:33:40.254Z"
   },
   {
    "duration": 6,
    "start_time": "2022-12-26T14:33:40.531Z"
   },
   {
    "duration": 9,
    "start_time": "2022-12-26T14:33:40.934Z"
   },
   {
    "duration": 5,
    "start_time": "2022-12-26T14:33:42.034Z"
   },
   {
    "duration": 5,
    "start_time": "2022-12-26T14:33:42.779Z"
   },
   {
    "duration": 12,
    "start_time": "2022-12-26T14:33:43.109Z"
   },
   {
    "duration": 9,
    "start_time": "2022-12-26T14:33:43.371Z"
   },
   {
    "duration": 45,
    "start_time": "2022-12-26T14:33:43.971Z"
   },
   {
    "duration": 128,
    "start_time": "2022-12-26T14:33:44.235Z"
   },
   {
    "duration": 17,
    "start_time": "2022-12-26T14:33:45.574Z"
   },
   {
    "duration": 33,
    "start_time": "2022-12-26T14:33:47.901Z"
   },
   {
    "duration": 202,
    "start_time": "2022-12-26T14:33:49.841Z"
   },
   {
    "duration": 3934,
    "start_time": "2022-12-26T14:33:50.357Z"
   },
   {
    "duration": 214,
    "start_time": "2022-12-26T14:33:54.293Z"
   },
   {
    "duration": 97,
    "start_time": "2022-12-26T14:33:54.509Z"
   },
   {
    "duration": 11,
    "start_time": "2022-12-26T14:33:54.608Z"
   },
   {
    "duration": 7,
    "start_time": "2022-12-26T14:35:09.911Z"
   },
   {
    "duration": 4,
    "start_time": "2022-12-26T14:36:50.478Z"
   },
   {
    "duration": 7,
    "start_time": "2022-12-26T14:36:51.054Z"
   },
   {
    "duration": 245,
    "start_time": "2022-12-26T14:39:02.821Z"
   },
   {
    "duration": 8,
    "start_time": "2022-12-26T14:43:23.309Z"
   },
   {
    "duration": 213,
    "start_time": "2022-12-26T14:44:30.074Z"
   },
   {
    "duration": 239,
    "start_time": "2022-12-26T14:44:47.367Z"
   },
   {
    "duration": 3934,
    "start_time": "2022-12-26T14:44:58.944Z"
   },
   {
    "duration": 221,
    "start_time": "2022-12-26T14:45:15.592Z"
   },
   {
    "duration": 4,
    "start_time": "2022-12-26T14:47:01.172Z"
   },
   {
    "duration": 222,
    "start_time": "2022-12-26T14:48:11.431Z"
   },
   {
    "duration": 11,
    "start_time": "2022-12-26T14:49:02.723Z"
   },
   {
    "duration": 278,
    "start_time": "2022-12-26T14:49:12.828Z"
   },
   {
    "duration": 5258,
    "start_time": "2022-12-26T14:49:20.714Z"
   },
   {
    "duration": 177,
    "start_time": "2022-12-26T14:49:32.833Z"
   },
   {
    "duration": 241,
    "start_time": "2022-12-26T14:49:58.000Z"
   },
   {
    "duration": 297,
    "start_time": "2022-12-26T14:50:17.043Z"
   },
   {
    "duration": 233,
    "start_time": "2022-12-26T14:50:28.927Z"
   },
   {
    "duration": 193,
    "start_time": "2022-12-26T14:50:39.360Z"
   },
   {
    "duration": 5,
    "start_time": "2022-12-26T14:52:08.939Z"
   },
   {
    "duration": 79,
    "start_time": "2022-12-26T14:52:35.789Z"
   },
   {
    "duration": 75,
    "start_time": "2022-12-26T14:53:12.948Z"
   },
   {
    "duration": 79,
    "start_time": "2022-12-26T14:54:03.693Z"
   },
   {
    "duration": 17,
    "start_time": "2022-12-26T14:55:50.994Z"
   },
   {
    "duration": 3,
    "start_time": "2022-12-26T14:55:57.093Z"
   },
   {
    "duration": 50,
    "start_time": "2022-12-26T14:55:57.933Z"
   },
   {
    "duration": 15,
    "start_time": "2022-12-26T14:55:58.172Z"
   },
   {
    "duration": 6,
    "start_time": "2022-12-26T14:55:58.375Z"
   },
   {
    "duration": 8,
    "start_time": "2022-12-26T14:55:58.571Z"
   },
   {
    "duration": 6,
    "start_time": "2022-12-26T14:55:58.987Z"
   },
   {
    "duration": 5,
    "start_time": "2022-12-26T14:55:59.620Z"
   },
   {
    "duration": 11,
    "start_time": "2022-12-26T14:55:59.875Z"
   },
   {
    "duration": 10,
    "start_time": "2022-12-26T14:56:00.071Z"
   },
   {
    "duration": 39,
    "start_time": "2022-12-26T14:56:00.451Z"
   },
   {
    "duration": 139,
    "start_time": "2022-12-26T14:56:00.651Z"
   },
   {
    "duration": 15,
    "start_time": "2022-12-26T14:56:01.776Z"
   },
   {
    "duration": 28,
    "start_time": "2022-12-26T14:56:02.901Z"
   },
   {
    "duration": 4,
    "start_time": "2022-12-26T14:56:33.809Z"
   },
   {
    "duration": 18,
    "start_time": "2022-12-26T14:56:39.041Z"
   },
   {
    "duration": 3,
    "start_time": "2022-12-26T14:56:46.403Z"
   },
   {
    "duration": 51,
    "start_time": "2022-12-26T14:56:46.644Z"
   },
   {
    "duration": 12,
    "start_time": "2022-12-26T14:56:46.852Z"
   },
   {
    "duration": 6,
    "start_time": "2022-12-26T14:56:47.025Z"
   },
   {
    "duration": 8,
    "start_time": "2022-12-26T14:56:47.211Z"
   },
   {
    "duration": 7,
    "start_time": "2022-12-26T14:56:47.580Z"
   },
   {
    "duration": 5,
    "start_time": "2022-12-26T14:56:47.943Z"
   },
   {
    "duration": 12,
    "start_time": "2022-12-26T14:56:48.144Z"
   },
   {
    "duration": 10,
    "start_time": "2022-12-26T14:56:48.340Z"
   },
   {
    "duration": 36,
    "start_time": "2022-12-26T14:56:48.707Z"
   },
   {
    "duration": 133,
    "start_time": "2022-12-26T14:56:48.906Z"
   },
   {
    "duration": 16,
    "start_time": "2022-12-26T14:56:49.693Z"
   },
   {
    "duration": 31,
    "start_time": "2022-12-26T14:56:51.013Z"
   },
   {
    "duration": 199,
    "start_time": "2022-12-26T14:56:52.547Z"
   },
   {
    "duration": 3914,
    "start_time": "2022-12-26T14:56:52.941Z"
   },
   {
    "duration": 247,
    "start_time": "2022-12-26T14:56:56.857Z"
   },
   {
    "duration": 311,
    "start_time": "2022-12-26T14:56:57.106Z"
   },
   {
    "duration": 4142,
    "start_time": "2022-12-26T14:56:57.419Z"
   },
   {
    "duration": 248,
    "start_time": "2022-12-26T14:57:01.563Z"
   },
   {
    "duration": 97,
    "start_time": "2022-12-26T14:57:01.813Z"
   },
   {
    "duration": 11,
    "start_time": "2022-12-26T14:57:01.912Z"
   },
   {
    "duration": 272,
    "start_time": "2022-12-26T14:57:01.924Z"
   },
   {
    "duration": 5064,
    "start_time": "2022-12-26T14:57:02.198Z"
   },
   {
    "duration": 346,
    "start_time": "2022-12-26T14:57:07.264Z"
   },
   {
    "duration": 286,
    "start_time": "2022-12-26T14:57:07.612Z"
   },
   {
    "duration": 70,
    "start_time": "2022-12-26T14:57:07.903Z"
   },
   {
    "duration": 4024,
    "start_time": "2022-12-26T15:00:52.805Z"
   },
   {
    "duration": 185,
    "start_time": "2022-12-26T15:01:01.508Z"
   },
   {
    "duration": 15,
    "start_time": "2022-12-26T15:02:31.475Z"
   },
   {
    "duration": 4,
    "start_time": "2022-12-26T15:02:38.847Z"
   },
   {
    "duration": 48,
    "start_time": "2022-12-26T15:02:39.101Z"
   },
   {
    "duration": 11,
    "start_time": "2022-12-26T15:02:39.356Z"
   },
   {
    "duration": 6,
    "start_time": "2022-12-26T15:02:39.692Z"
   },
   {
    "duration": 8,
    "start_time": "2022-12-26T15:02:39.948Z"
   },
   {
    "duration": 5,
    "start_time": "2022-12-26T15:02:40.581Z"
   },
   {
    "duration": 5,
    "start_time": "2022-12-26T15:02:41.509Z"
   },
   {
    "duration": 13,
    "start_time": "2022-12-26T15:02:41.949Z"
   },
   {
    "duration": 9,
    "start_time": "2022-12-26T15:02:42.437Z"
   },
   {
    "duration": 35,
    "start_time": "2022-12-26T15:02:43.341Z"
   },
   {
    "duration": 123,
    "start_time": "2022-12-26T15:02:43.726Z"
   },
   {
    "duration": 14,
    "start_time": "2022-12-26T15:02:45.285Z"
   },
   {
    "duration": 34,
    "start_time": "2022-12-26T15:02:46.621Z"
   },
   {
    "duration": 192,
    "start_time": "2022-12-26T15:02:52.393Z"
   },
   {
    "duration": 3885,
    "start_time": "2022-12-26T15:02:58.892Z"
   },
   {
    "duration": 277,
    "start_time": "2022-12-26T15:03:09.428Z"
   },
   {
    "duration": 219,
    "start_time": "2022-12-26T15:03:30.052Z"
   },
   {
    "duration": 4063,
    "start_time": "2022-12-26T15:03:34.835Z"
   },
   {
    "duration": 120,
    "start_time": "2022-12-26T15:04:03.188Z"
   },
   {
    "duration": 5,
    "start_time": "2022-12-26T15:04:08.419Z"
   },
   {
    "duration": 9,
    "start_time": "2022-12-26T15:04:09.274Z"
   },
   {
    "duration": 270,
    "start_time": "2022-12-26T15:04:12.259Z"
   },
   {
    "duration": 5219,
    "start_time": "2022-12-26T15:04:14.963Z"
   },
   {
    "duration": 294,
    "start_time": "2022-12-26T15:04:32.812Z"
   },
   {
    "duration": 249,
    "start_time": "2022-12-26T15:04:46.152Z"
   },
   {
    "duration": 204,
    "start_time": "2022-12-26T15:04:55.096Z"
   },
   {
    "duration": 128,
    "start_time": "2022-12-26T15:05:00.343Z"
   },
   {
    "duration": 296,
    "start_time": "2022-12-26T15:05:07.200Z"
   },
   {
    "duration": 4880,
    "start_time": "2022-12-26T15:05:25.224Z"
   },
   {
    "duration": 164,
    "start_time": "2022-12-26T15:05:34.945Z"
   },
   {
    "duration": 3,
    "start_time": "2022-12-26T15:05:37.961Z"
   },
   {
    "duration": 7,
    "start_time": "2022-12-26T15:05:39.112Z"
   },
   {
    "duration": 267,
    "start_time": "2022-12-26T15:05:42.512Z"
   },
   {
    "duration": 6124,
    "start_time": "2022-12-26T15:05:47.609Z"
   },
   {
    "duration": 205,
    "start_time": "2022-12-26T15:06:20.278Z"
   },
   {
    "duration": 204,
    "start_time": "2022-12-26T15:06:54.925Z"
   },
   {
    "duration": 266,
    "start_time": "2022-12-26T15:06:59.853Z"
   },
   {
    "duration": 2923,
    "start_time": "2022-12-26T15:07:23.790Z"
   },
   {
    "duration": 12441,
    "start_time": "2022-12-26T15:08:04.132Z"
   },
   {
    "duration": 20231,
    "start_time": "2022-12-26T15:08:41.885Z"
   },
   {
    "duration": 4,
    "start_time": "2022-12-26T16:27:03.861Z"
   },
   {
    "duration": 51,
    "start_time": "2022-12-26T16:27:04.311Z"
   },
   {
    "duration": 19,
    "start_time": "2022-12-26T16:27:04.925Z"
   },
   {
    "duration": 7,
    "start_time": "2022-12-26T16:27:05.088Z"
   },
   {
    "duration": 8,
    "start_time": "2022-12-26T16:27:05.242Z"
   },
   {
    "duration": 5,
    "start_time": "2022-12-26T16:27:05.545Z"
   },
   {
    "duration": 5,
    "start_time": "2022-12-26T16:27:05.837Z"
   },
   {
    "duration": 13,
    "start_time": "2022-12-26T16:27:05.987Z"
   },
   {
    "duration": 11,
    "start_time": "2022-12-26T16:27:06.140Z"
   },
   {
    "duration": 52,
    "start_time": "2022-12-26T16:27:06.459Z"
   },
   {
    "duration": 126,
    "start_time": "2022-12-26T16:27:06.607Z"
   },
   {
    "duration": 19,
    "start_time": "2022-12-26T16:27:07.227Z"
   },
   {
    "duration": 32,
    "start_time": "2022-12-26T16:27:07.688Z"
   },
   {
    "duration": 205,
    "start_time": "2022-12-26T16:27:08.194Z"
   },
   {
    "duration": 4089,
    "start_time": "2022-12-26T16:27:08.516Z"
   },
   {
    "duration": 199,
    "start_time": "2022-12-26T16:27:12.608Z"
   },
   {
    "duration": 317,
    "start_time": "2022-12-26T16:27:12.810Z"
   },
   {
    "duration": 121,
    "start_time": "2022-12-26T16:30:20.085Z"
   },
   {
    "duration": 1136,
    "start_time": "2022-12-26T16:30:28.375Z"
   },
   {
    "duration": 56,
    "start_time": "2022-12-26T16:30:29.513Z"
   },
   {
    "duration": 11,
    "start_time": "2022-12-26T16:30:29.570Z"
   },
   {
    "duration": 6,
    "start_time": "2022-12-26T16:30:29.583Z"
   },
   {
    "duration": 8,
    "start_time": "2022-12-26T16:30:29.590Z"
   },
   {
    "duration": 7,
    "start_time": "2022-12-26T16:30:29.600Z"
   },
   {
    "duration": 6,
    "start_time": "2022-12-26T16:30:29.752Z"
   },
   {
    "duration": 11,
    "start_time": "2022-12-26T16:30:29.917Z"
   },
   {
    "duration": 9,
    "start_time": "2022-12-26T16:30:30.101Z"
   },
   {
    "duration": 35,
    "start_time": "2022-12-26T16:30:30.462Z"
   },
   {
    "duration": 382,
    "start_time": "2022-12-26T16:30:30.647Z"
   },
   {
    "duration": 15,
    "start_time": "2022-12-26T16:30:31.393Z"
   },
   {
    "duration": 31,
    "start_time": "2022-12-26T16:30:32.166Z"
   },
   {
    "duration": 187,
    "start_time": "2022-12-26T16:30:32.998Z"
   },
   {
    "duration": 3676,
    "start_time": "2022-12-26T16:30:39.236Z"
   },
   {
    "duration": 259,
    "start_time": "2022-12-26T16:30:48.254Z"
   },
   {
    "duration": 191,
    "start_time": "2022-12-26T16:31:02.998Z"
   },
   {
    "duration": 19238,
    "start_time": "2022-12-26T16:35:17.713Z"
   },
   {
    "duration": 4439,
    "start_time": "2022-12-26T16:35:49.706Z"
   },
   {
    "duration": 252,
    "start_time": "2022-12-26T16:36:04.806Z"
   },
   {
    "duration": 51926,
    "start_time": "2022-12-26T16:36:16.866Z"
   },
   {
    "duration": 313,
    "start_time": "2022-12-26T16:39:47.576Z"
   },
   {
    "duration": 181,
    "start_time": "2022-12-26T16:39:56.615Z"
   },
   {
    "duration": 174,
    "start_time": "2022-12-26T16:40:17.295Z"
   },
   {
    "duration": 160,
    "start_time": "2022-12-26T16:40:22.792Z"
   },
   {
    "duration": 241,
    "start_time": "2022-12-26T16:40:31.167Z"
   },
   {
    "duration": 247,
    "start_time": "2022-12-26T16:40:41.738Z"
   },
   {
    "duration": 179,
    "start_time": "2022-12-26T16:40:47.653Z"
   },
   {
    "duration": 4508,
    "start_time": "2022-12-26T16:45:11.808Z"
   },
   {
    "duration": 200,
    "start_time": "2022-12-26T16:46:33.110Z"
   },
   {
    "duration": 3,
    "start_time": "2022-12-26T16:46:38.325Z"
   },
   {
    "duration": 41,
    "start_time": "2022-12-26T16:46:38.795Z"
   },
   {
    "duration": 241,
    "start_time": "2022-12-26T16:46:41.640Z"
   },
   {
    "duration": 5956,
    "start_time": "2022-12-26T16:46:46.735Z"
   },
   {
    "duration": 206,
    "start_time": "2022-12-26T16:46:57.708Z"
   },
   {
    "duration": 180,
    "start_time": "2022-12-26T16:47:01.901Z"
   },
   {
    "duration": 169,
    "start_time": "2022-12-26T16:47:07.796Z"
   },
   {
    "duration": 605,
    "start_time": "2022-12-26T16:47:17.040Z"
   },
   {
    "duration": 68455,
    "start_time": "2022-12-26T16:51:14.559Z"
   },
   {
    "duration": 51933,
    "start_time": "2022-12-26T16:53:30.342Z"
   },
   {
    "duration": 306,
    "start_time": "2022-12-26T16:54:45.510Z"
   },
   {
    "duration": 294,
    "start_time": "2022-12-26T16:55:28.390Z"
   },
   {
    "duration": 181,
    "start_time": "2022-12-26T16:55:35.351Z"
   },
   {
    "duration": 3779,
    "start_time": "2022-12-26T16:56:12.327Z"
   },
   {
    "duration": 206,
    "start_time": "2022-12-26T16:56:44.986Z"
   },
   {
    "duration": 137124,
    "start_time": "2022-12-26T16:57:09.069Z"
   },
   {
    "duration": 257,
    "start_time": "2022-12-26T17:02:58.942Z"
   },
   {
    "duration": 262,
    "start_time": "2022-12-26T17:03:04.171Z"
   },
   {
    "duration": 287,
    "start_time": "2022-12-26T17:04:00.411Z"
   },
   {
    "duration": 4,
    "start_time": "2022-12-26T17:04:07.645Z"
   },
   {
    "duration": 46,
    "start_time": "2022-12-26T17:04:07.781Z"
   },
   {
    "duration": 16,
    "start_time": "2022-12-26T17:04:07.928Z"
   },
   {
    "duration": 7,
    "start_time": "2022-12-26T17:04:08.069Z"
   },
   {
    "duration": 8,
    "start_time": "2022-12-26T17:04:08.210Z"
   },
   {
    "duration": 7,
    "start_time": "2022-12-26T17:04:08.487Z"
   },
   {
    "duration": 5,
    "start_time": "2022-12-26T17:04:08.774Z"
   },
   {
    "duration": 12,
    "start_time": "2022-12-26T17:04:08.940Z"
   },
   {
    "duration": 9,
    "start_time": "2022-12-26T17:04:09.085Z"
   },
   {
    "duration": 35,
    "start_time": "2022-12-26T17:04:09.372Z"
   },
   {
    "duration": 123,
    "start_time": "2022-12-26T17:04:09.525Z"
   },
   {
    "duration": 16,
    "start_time": "2022-12-26T17:04:10.112Z"
   },
   {
    "duration": 29,
    "start_time": "2022-12-26T17:04:10.548Z"
   },
   {
    "duration": 203,
    "start_time": "2022-12-26T17:04:10.990Z"
   },
   {
    "duration": 3756,
    "start_time": "2022-12-26T17:04:11.270Z"
   },
   {
    "duration": 184,
    "start_time": "2022-12-26T17:04:15.028Z"
   },
   {
    "duration": 341,
    "start_time": "2022-12-26T17:04:15.215Z"
   },
   {
    "duration": 139671,
    "start_time": "2022-12-26T17:04:15.558Z"
   },
   {
    "duration": 185,
    "start_time": "2022-12-26T17:06:35.231Z"
   },
   {
    "duration": 103,
    "start_time": "2022-12-26T17:06:35.506Z"
   },
   {
    "duration": 15,
    "start_time": "2022-12-26T17:06:35.611Z"
   },
   {
    "duration": 258,
    "start_time": "2022-12-26T17:06:35.628Z"
   },
   {
    "duration": 70044,
    "start_time": "2022-12-26T17:06:35.887Z"
   },
   {
    "duration": 273,
    "start_time": "2022-12-26T17:07:45.933Z"
   },
   {
    "duration": 236,
    "start_time": "2022-12-26T17:07:46.573Z"
   },
   {
    "duration": 226,
    "start_time": "2022-12-26T17:09:03.980Z"
   },
   {
    "duration": 310,
    "start_time": "2022-12-26T17:09:57.672Z"
   },
   {
    "duration": 406,
    "start_time": "2022-12-26T17:10:02.616Z"
   },
   {
    "duration": 345,
    "start_time": "2022-12-26T17:10:07.950Z"
   },
   {
    "duration": 369,
    "start_time": "2022-12-26T17:10:12.964Z"
   },
   {
    "duration": 51,
    "start_time": "2022-12-26T17:10:21.680Z"
   },
   {
    "duration": 153,
    "start_time": "2022-12-26T17:10:32.407Z"
   },
   {
    "duration": 74,
    "start_time": "2022-12-26T17:10:39.279Z"
   },
   {
    "duration": 153,
    "start_time": "2022-12-26T17:10:46.264Z"
   },
   {
    "duration": 182,
    "start_time": "2022-12-26T17:10:50.942Z"
   },
   {
    "duration": 187,
    "start_time": "2022-12-26T17:10:55.720Z"
   },
   {
    "duration": 154,
    "start_time": "2022-12-26T17:11:00.600Z"
   },
   {
    "duration": 125,
    "start_time": "2022-12-26T17:11:05.843Z"
   },
   {
    "duration": 211,
    "start_time": "2022-12-26T17:11:11.444Z"
   },
   {
    "duration": 45274,
    "start_time": "2022-12-26T17:11:27.826Z"
   },
   {
    "duration": 159,
    "start_time": "2022-12-26T17:12:41.346Z"
   },
   {
    "duration": 51962,
    "start_time": "2022-12-26T17:13:13.075Z"
   },
   {
    "duration": 169,
    "start_time": "2022-12-26T17:14:05.223Z"
   },
   {
    "duration": 212,
    "start_time": "2022-12-26T17:14:29.482Z"
   },
   {
    "duration": 160,
    "start_time": "2022-12-26T17:17:04.206Z"
   },
   {
    "duration": 1138,
    "start_time": "2022-12-26T17:20:25.486Z"
   },
   {
    "duration": 58,
    "start_time": "2022-12-26T17:20:26.625Z"
   },
   {
    "duration": 24,
    "start_time": "2022-12-26T17:20:26.684Z"
   },
   {
    "duration": 11,
    "start_time": "2022-12-26T17:20:26.711Z"
   },
   {
    "duration": 15,
    "start_time": "2022-12-26T17:20:26.724Z"
   },
   {
    "duration": 15,
    "start_time": "2022-12-26T17:20:26.741Z"
   },
   {
    "duration": 6,
    "start_time": "2022-12-26T17:20:26.893Z"
   },
   {
    "duration": 13,
    "start_time": "2022-12-26T17:20:27.074Z"
   },
   {
    "duration": 11,
    "start_time": "2022-12-26T17:20:27.256Z"
   },
   {
    "duration": 39,
    "start_time": "2022-12-26T17:20:27.642Z"
   },
   {
    "duration": 400,
    "start_time": "2022-12-26T17:20:27.814Z"
   },
   {
    "duration": 14,
    "start_time": "2022-12-26T17:20:28.672Z"
   },
   {
    "duration": 32,
    "start_time": "2022-12-26T17:20:29.285Z"
   },
   {
    "duration": 187,
    "start_time": "2022-12-26T17:20:29.912Z"
   },
   {
    "duration": 3723,
    "start_time": "2022-12-26T17:20:31.212Z"
   },
   {
    "duration": 199,
    "start_time": "2022-12-26T17:20:45.399Z"
   },
   {
    "duration": 1100,
    "start_time": "2022-12-26T17:25:50.502Z"
   },
   {
    "duration": 54,
    "start_time": "2022-12-26T17:25:51.603Z"
   },
   {
    "duration": 14,
    "start_time": "2022-12-26T17:25:54.124Z"
   },
   {
    "duration": 6,
    "start_time": "2022-12-26T17:25:57.244Z"
   },
   {
    "duration": 8,
    "start_time": "2022-12-26T17:25:59.557Z"
   },
   {
    "duration": 5,
    "start_time": "2022-12-26T17:26:02.254Z"
   },
   {
    "duration": 6,
    "start_time": "2022-12-26T17:26:04.053Z"
   },
   {
    "duration": 11,
    "start_time": "2022-12-26T17:26:04.600Z"
   },
   {
    "duration": 9,
    "start_time": "2022-12-26T17:26:06.821Z"
   },
   {
    "duration": 35,
    "start_time": "2022-12-26T17:26:08.045Z"
   },
   {
    "duration": 393,
    "start_time": "2022-12-26T17:26:09.949Z"
   },
   {
    "duration": 15,
    "start_time": "2022-12-26T17:26:15.909Z"
   },
   {
    "duration": 33,
    "start_time": "2022-12-26T17:26:19.533Z"
   },
   {
    "duration": 192,
    "start_time": "2022-12-26T17:26:23.302Z"
   },
   {
    "duration": 3805,
    "start_time": "2022-12-26T17:26:27.789Z"
   },
   {
    "duration": 295,
    "start_time": "2022-12-26T17:26:37.612Z"
   },
   {
    "duration": 205,
    "start_time": "2022-12-26T17:26:41.269Z"
   },
   {
    "duration": 51510,
    "start_time": "2022-12-26T17:26:46.497Z"
   },
   {
    "duration": 267,
    "start_time": "2022-12-26T17:28:29.240Z"
   },
   {
    "duration": 183,
    "start_time": "2022-12-26T17:29:27.656Z"
   },
   {
    "duration": 9,
    "start_time": "2022-12-26T17:29:35.542Z"
   },
   {
    "duration": 3,
    "start_time": "2022-12-26T17:29:42.289Z"
   },
   {
    "duration": 49,
    "start_time": "2022-12-26T17:29:42.782Z"
   },
   {
    "duration": 12,
    "start_time": "2022-12-26T17:29:43.696Z"
   },
   {
    "duration": 6,
    "start_time": "2022-12-26T17:29:43.899Z"
   },
   {
    "duration": 8,
    "start_time": "2022-12-26T17:29:44.095Z"
   },
   {
    "duration": 5,
    "start_time": "2022-12-26T17:29:44.471Z"
   },
   {
    "duration": 5,
    "start_time": "2022-12-26T17:29:44.871Z"
   },
   {
    "duration": 13,
    "start_time": "2022-12-26T17:29:45.048Z"
   },
   {
    "duration": 10,
    "start_time": "2022-12-26T17:29:45.218Z"
   },
   {
    "duration": 37,
    "start_time": "2022-12-26T17:29:45.534Z"
   },
   {
    "duration": 119,
    "start_time": "2022-12-26T17:29:45.695Z"
   },
   {
    "duration": 14,
    "start_time": "2022-12-26T17:29:46.401Z"
   },
   {
    "duration": 31,
    "start_time": "2022-12-26T17:29:46.937Z"
   },
   {
    "duration": 214,
    "start_time": "2022-12-26T17:29:47.517Z"
   },
   {
    "duration": 3723,
    "start_time": "2022-12-26T17:29:48.209Z"
   },
   {
    "duration": 259,
    "start_time": "2022-12-26T17:29:54.147Z"
   },
   {
    "duration": 211,
    "start_time": "2022-12-26T17:30:01.211Z"
   },
   {
    "duration": 52929,
    "start_time": "2022-12-26T17:30:05.865Z"
   },
   {
    "duration": 128,
    "start_time": "2022-12-26T17:32:14.779Z"
   },
   {
    "duration": 6,
    "start_time": "2022-12-26T17:32:18.482Z"
   },
   {
    "duration": 9,
    "start_time": "2022-12-26T17:32:20.275Z"
   },
   {
    "duration": 250,
    "start_time": "2022-12-26T17:32:22.907Z"
   },
   {
    "duration": 70118,
    "start_time": "2022-12-26T17:32:26.939Z"
   },
   {
    "duration": 231,
    "start_time": "2022-12-26T17:33:50.786Z"
   },
   {
    "duration": 326,
    "start_time": "2022-12-26T17:34:01.024Z"
   },
   {
    "duration": 286,
    "start_time": "2022-12-26T17:35:07.821Z"
   },
   {
    "duration": 1132,
    "start_time": "2022-12-27T09:21:40.151Z"
   },
   {
    "duration": 163,
    "start_time": "2022-12-27T09:21:42.739Z"
   },
   {
    "duration": 14,
    "start_time": "2022-12-27T09:22:07.426Z"
   },
   {
    "duration": 7,
    "start_time": "2022-12-27T09:22:08.383Z"
   },
   {
    "duration": 9,
    "start_time": "2022-12-27T09:22:11.314Z"
   },
   {
    "duration": 6,
    "start_time": "2022-12-27T09:22:13.890Z"
   },
   {
    "duration": 6,
    "start_time": "2022-12-27T09:22:15.295Z"
   },
   {
    "duration": 12,
    "start_time": "2022-12-27T09:22:18.320Z"
   },
   {
    "duration": 13,
    "start_time": "2022-12-27T09:22:20.714Z"
   },
   {
    "duration": 52,
    "start_time": "2022-12-27T09:22:21.919Z"
   },
   {
    "duration": 577,
    "start_time": "2022-12-27T09:22:24.379Z"
   },
   {
    "duration": 17,
    "start_time": "2022-12-27T09:22:28.785Z"
   },
   {
    "duration": 45,
    "start_time": "2022-12-27T09:22:34.894Z"
   },
   {
    "duration": 195,
    "start_time": "2022-12-27T09:22:40.802Z"
   },
   {
    "duration": 3975,
    "start_time": "2022-12-27T09:23:19.479Z"
   },
   {
    "duration": 154,
    "start_time": "2022-12-27T09:23:35.377Z"
   },
   {
    "duration": 254,
    "start_time": "2022-12-27T09:24:24.023Z"
   },
   {
    "duration": 55640,
    "start_time": "2022-12-27T09:24:51.923Z"
   },
   {
    "duration": 319,
    "start_time": "2022-12-27T09:26:09.108Z"
   },
   {
    "duration": 4,
    "start_time": "2022-12-27T09:26:29.949Z"
   },
   {
    "duration": 15,
    "start_time": "2022-12-27T09:26:33.909Z"
   },
   {
    "duration": 285,
    "start_time": "2022-12-27T09:26:35.806Z"
   },
   {
    "duration": 71708,
    "start_time": "2022-12-27T09:26:54.120Z"
   },
   {
    "duration": 173,
    "start_time": "2022-12-27T09:28:20.751Z"
   },
   {
    "duration": 300,
    "start_time": "2022-12-27T09:28:39.431Z"
   },
   {
    "duration": 239,
    "start_time": "2022-12-27T09:29:01.222Z"
   },
   {
    "duration": 53921,
    "start_time": "2022-12-27T09:29:12.231Z"
   },
   {
    "duration": 70298,
    "start_time": "2022-12-27T09:30:44.842Z"
   },
   {
    "duration": 54822,
    "start_time": "2022-12-27T09:32:22.503Z"
   },
   {
    "duration": 236,
    "start_time": "2022-12-27T09:33:44.526Z"
   },
   {
    "duration": 328,
    "start_time": "2022-12-27T09:33:52.319Z"
   },
   {
    "duration": 266,
    "start_time": "2022-12-27T09:34:09.806Z"
   },
   {
    "duration": 116,
    "start_time": "2022-12-27T09:34:12.236Z"
   },
   {
    "duration": 6,
    "start_time": "2022-12-27T09:34:40.453Z"
   },
   {
    "duration": 66,
    "start_time": "2022-12-27T09:34:40.901Z"
   },
   {
    "duration": 13,
    "start_time": "2022-12-27T09:34:41.103Z"
   },
   {
    "duration": 6,
    "start_time": "2022-12-27T09:34:41.390Z"
   },
   {
    "duration": 7,
    "start_time": "2022-12-27T09:34:43.805Z"
   },
   {
    "duration": 6,
    "start_time": "2022-12-27T09:34:44.144Z"
   },
   {
    "duration": 5,
    "start_time": "2022-12-27T09:34:44.467Z"
   },
   {
    "duration": 12,
    "start_time": "2022-12-27T09:34:44.608Z"
   },
   {
    "duration": 9,
    "start_time": "2022-12-27T09:34:44.769Z"
   },
   {
    "duration": 43,
    "start_time": "2022-12-27T09:34:45.116Z"
   },
   {
    "duration": 128,
    "start_time": "2022-12-27T09:34:47.644Z"
   },
   {
    "duration": 14,
    "start_time": "2022-12-27T09:34:50.711Z"
   },
   {
    "duration": 29,
    "start_time": "2022-12-27T09:34:53.495Z"
   },
   {
    "duration": 197,
    "start_time": "2022-12-27T09:34:57.669Z"
   },
   {
    "duration": 3870,
    "start_time": "2022-12-27T09:35:01.808Z"
   },
   {
    "duration": 171,
    "start_time": "2022-12-27T09:35:14.654Z"
   },
   {
    "duration": 197,
    "start_time": "2022-12-27T09:35:25.485Z"
   },
   {
    "duration": 53134,
    "start_time": "2022-12-27T09:35:47.475Z"
   },
   {
    "duration": 63,
    "start_time": "2022-12-27T09:37:15.568Z"
   },
   {
    "duration": 5,
    "start_time": "2022-12-27T09:37:22.649Z"
   },
   {
    "duration": 7,
    "start_time": "2022-12-27T09:37:23.210Z"
   },
   {
    "duration": 236,
    "start_time": "2022-12-27T09:37:25.934Z"
   },
   {
    "duration": 67691,
    "start_time": "2022-12-27T09:37:39.880Z"
   },
   {
    "duration": 195,
    "start_time": "2022-12-27T09:39:01.528Z"
   },
   {
    "duration": 286,
    "start_time": "2022-12-27T09:39:11.173Z"
   },
   {
    "duration": 270,
    "start_time": "2022-12-27T09:39:17.798Z"
   },
   {
    "duration": 110,
    "start_time": "2022-12-27T09:39:36.171Z"
   },
   {
    "duration": 120,
    "start_time": "2022-12-27T09:41:17.934Z"
   },
   {
    "duration": 289,
    "start_time": "2022-12-27T09:41:26.151Z"
   },
   {
    "duration": 296,
    "start_time": "2022-12-27T09:41:29.686Z"
   },
   {
    "duration": 308,
    "start_time": "2022-12-27T09:41:52.849Z"
   },
   {
    "duration": 14,
    "start_time": "2022-12-27T09:42:11.757Z"
   },
   {
    "duration": 33,
    "start_time": "2022-12-27T09:42:15.395Z"
   },
   {
    "duration": 200,
    "start_time": "2022-12-27T09:42:18.799Z"
   },
   {
    "duration": 3969,
    "start_time": "2022-12-27T09:42:22.943Z"
   },
   {
    "duration": 103,
    "start_time": "2022-12-27T09:42:36.431Z"
   },
   {
    "duration": 209,
    "start_time": "2022-12-27T09:42:39.048Z"
   },
   {
    "duration": 54100,
    "start_time": "2022-12-27T09:42:45.792Z"
   },
   {
    "duration": 301,
    "start_time": "2022-12-27T09:44:05.821Z"
   },
   {
    "duration": 3936,
    "start_time": "2022-12-27T09:44:29.412Z"
   },
   {
    "duration": 540,
    "start_time": "2022-12-27T09:45:07.682Z"
   },
   {
    "duration": 557,
    "start_time": "2022-12-27T09:45:14.739Z"
   },
   {
    "duration": 201,
    "start_time": "2022-12-27T09:45:27.820Z"
   },
   {
    "duration": 133,
    "start_time": "2022-12-27T09:45:34.261Z"
   },
   {
    "duration": 195,
    "start_time": "2022-12-27T09:46:56.283Z"
   },
   {
    "duration": 4029,
    "start_time": "2022-12-27T09:47:00.729Z"
   },
   {
    "duration": 92,
    "start_time": "2022-12-27T09:47:09.944Z"
   },
   {
    "duration": 214,
    "start_time": "2022-12-27T09:47:15.049Z"
   },
   {
    "duration": 4036,
    "start_time": "2022-12-27T09:47:20.150Z"
   },
   {
    "duration": 55,
    "start_time": "2022-12-27T09:47:29.076Z"
   },
   {
    "duration": 3,
    "start_time": "2022-12-27T09:47:33.064Z"
   },
   {
    "duration": 9,
    "start_time": "2022-12-27T09:47:34.435Z"
   },
   {
    "duration": 235,
    "start_time": "2022-12-27T09:47:36.455Z"
   },
   {
    "duration": 70238,
    "start_time": "2022-12-27T09:47:41.048Z"
   },
   {
    "duration": 159,
    "start_time": "2022-12-27T09:49:01.886Z"
   },
   {
    "duration": 216,
    "start_time": "2022-12-27T09:49:05.248Z"
   },
   {
    "duration": 117,
    "start_time": "2022-12-27T10:13:37.260Z"
   },
   {
    "duration": 79,
    "start_time": "2022-12-27T10:14:25.508Z"
   },
   {
    "duration": 19,
    "start_time": "2022-12-27T10:14:37.942Z"
   },
   {
    "duration": 16,
    "start_time": "2022-12-27T10:16:40.631Z"
   },
   {
    "duration": 11,
    "start_time": "2022-12-27T10:18:56.009Z"
   },
   {
    "duration": 186,
    "start_time": "2022-12-27T10:24:02.368Z"
   },
   {
    "duration": 11,
    "start_time": "2022-12-27T10:24:36.264Z"
   },
   {
    "duration": 10,
    "start_time": "2022-12-27T10:24:38.523Z"
   },
   {
    "duration": 97,
    "start_time": "2022-12-27T20:46:54.647Z"
   },
   {
    "duration": 48,
    "start_time": "2022-12-28T06:42:14.572Z"
   },
   {
    "duration": 1535,
    "start_time": "2022-12-28T06:42:41.371Z"
   },
   {
    "duration": 106,
    "start_time": "2022-12-28T06:42:42.908Z"
   },
   {
    "duration": 14,
    "start_time": "2022-12-28T06:42:45.656Z"
   },
   {
    "duration": 10,
    "start_time": "2022-12-28T06:42:47.402Z"
   },
   {
    "duration": 9,
    "start_time": "2022-12-28T06:42:47.975Z"
   },
   {
    "duration": 6,
    "start_time": "2022-12-28T06:42:51.493Z"
   },
   {
    "duration": 5,
    "start_time": "2022-12-28T06:42:52.856Z"
   },
   {
    "duration": 11,
    "start_time": "2022-12-28T06:42:56.048Z"
   },
   {
    "duration": 11,
    "start_time": "2022-12-28T06:43:02.377Z"
   },
   {
    "duration": 35,
    "start_time": "2022-12-28T06:43:03.419Z"
   },
   {
    "duration": 147,
    "start_time": "2022-12-28T06:43:17.104Z"
   },
   {
    "duration": 14,
    "start_time": "2022-12-28T06:43:24.375Z"
   },
   {
    "duration": 39,
    "start_time": "2022-12-28T06:43:28.749Z"
   },
   {
    "duration": 202,
    "start_time": "2022-12-28T06:43:33.751Z"
   },
   {
    "duration": 192,
    "start_time": "2022-12-28T06:51:54.536Z"
   },
   {
    "duration": 4071,
    "start_time": "2022-12-28T06:52:03.269Z"
   },
   {
    "duration": 55,
    "start_time": "2022-12-28T06:55:07.057Z"
   },
   {
    "duration": 47,
    "start_time": "2022-12-28T07:01:48.069Z"
   },
   {
    "duration": 42,
    "start_time": "2022-12-28T07:03:29.331Z"
   },
   {
    "duration": 192,
    "start_time": "2022-12-28T07:10:53.640Z"
   },
   {
    "duration": 251,
    "start_time": "2022-12-28T07:12:05.349Z"
   },
   {
    "duration": 5,
    "start_time": "2022-12-28T07:13:55.727Z"
   },
   {
    "duration": 62,
    "start_time": "2022-12-28T07:13:55.918Z"
   },
   {
    "duration": 12,
    "start_time": "2022-12-28T07:13:56.425Z"
   },
   {
    "duration": 6,
    "start_time": "2022-12-28T07:13:56.681Z"
   },
   {
    "duration": 7,
    "start_time": "2022-12-28T07:13:56.928Z"
   },
   {
    "duration": 6,
    "start_time": "2022-12-28T07:13:57.348Z"
   },
   {
    "duration": 6,
    "start_time": "2022-12-28T07:13:57.942Z"
   },
   {
    "duration": 12,
    "start_time": "2022-12-28T07:13:58.614Z"
   },
   {
    "duration": 8,
    "start_time": "2022-12-28T07:13:58.809Z"
   },
   {
    "duration": 34,
    "start_time": "2022-12-28T07:13:59.263Z"
   },
   {
    "duration": 47,
    "start_time": "2022-12-28T07:14:00.126Z"
   },
   {
    "duration": 131,
    "start_time": "2022-12-28T07:14:00.426Z"
   },
   {
    "duration": 15,
    "start_time": "2022-12-28T07:14:01.976Z"
   },
   {
    "duration": 34,
    "start_time": "2022-12-28T07:14:03.196Z"
   },
   {
    "duration": 197,
    "start_time": "2022-12-28T07:14:04.647Z"
   },
   {
    "duration": 4165,
    "start_time": "2022-12-28T07:14:06.126Z"
   },
   {
    "duration": 192,
    "start_time": "2022-12-28T07:14:10.294Z"
   },
   {
    "duration": 221,
    "start_time": "2022-12-28T07:14:17.039Z"
   },
   {
    "duration": 4194,
    "start_time": "2022-12-28T07:14:20.441Z"
   },
   {
    "duration": 224,
    "start_time": "2022-12-28T07:14:31.761Z"
   },
   {
    "duration": 4,
    "start_time": "2022-12-28T07:14:35.039Z"
   },
   {
    "duration": 11,
    "start_time": "2022-12-28T07:14:35.313Z"
   },
   {
    "duration": 270,
    "start_time": "2022-12-28T07:14:36.369Z"
   },
   {
    "duration": 74235,
    "start_time": "2022-12-28T07:14:39.280Z"
   },
   {
    "duration": 268,
    "start_time": "2022-12-28T07:15:53.518Z"
   },
   {
    "duration": 411,
    "start_time": "2022-12-28T07:15:53.788Z"
   },
   {
    "duration": 195,
    "start_time": "2022-12-28T07:16:40.421Z"
   },
   {
    "duration": 277,
    "start_time": "2022-12-28T07:16:45.810Z"
   },
   {
    "duration": 277,
    "start_time": "2022-12-28T07:16:50.803Z"
   },
   {
    "duration": 127,
    "start_time": "2022-12-28T07:17:15.075Z"
   },
   {
    "duration": 1375,
    "start_time": "2023-02-21T10:13:15.516Z"
   },
   {
    "duration": 116,
    "start_time": "2023-02-21T10:13:16.892Z"
   },
   {
    "duration": 15,
    "start_time": "2023-02-21T10:13:17.009Z"
   },
   {
    "duration": 6,
    "start_time": "2023-02-21T10:13:17.026Z"
   },
   {
    "duration": 8,
    "start_time": "2023-02-21T10:13:17.232Z"
   },
   {
    "duration": 5,
    "start_time": "2023-02-21T10:13:17.930Z"
   },
   {
    "duration": 5,
    "start_time": "2023-02-21T10:13:18.813Z"
   },
   {
    "duration": 13,
    "start_time": "2023-02-21T10:13:19.769Z"
   },
   {
    "duration": 10,
    "start_time": "2023-02-21T10:13:20.054Z"
   },
   {
    "duration": 37,
    "start_time": "2023-02-21T10:13:20.617Z"
   },
   {
    "duration": 41,
    "start_time": "2023-02-21T10:13:21.536Z"
   },
   {
    "duration": 149,
    "start_time": "2023-02-21T10:13:21.816Z"
   },
   {
    "duration": 15,
    "start_time": "2023-02-21T10:13:25.238Z"
   },
   {
    "duration": 35,
    "start_time": "2023-02-21T10:13:29.819Z"
   },
   {
    "duration": 140,
    "start_time": "2023-02-21T10:13:35.725Z"
   },
   {
    "duration": 4,
    "start_time": "2023-02-21T10:35:32.524Z"
   },
   {
    "duration": 91,
    "start_time": "2023-02-21T10:35:32.668Z"
   },
   {
    "duration": 14,
    "start_time": "2023-02-21T10:35:34.485Z"
   },
   {
    "duration": 7,
    "start_time": "2023-02-21T10:35:34.706Z"
   },
   {
    "duration": 13,
    "start_time": "2023-02-21T10:35:34.886Z"
   },
   {
    "duration": 7,
    "start_time": "2023-02-21T10:35:35.207Z"
   },
   {
    "duration": 15,
    "start_time": "2023-02-21T10:35:35.802Z"
   },
   {
    "duration": 12,
    "start_time": "2023-02-21T10:35:38.961Z"
   },
   {
    "duration": 8,
    "start_time": "2023-02-21T10:35:41.329Z"
   },
   {
    "duration": 34,
    "start_time": "2023-02-21T10:35:42.248Z"
   },
   {
    "duration": 42,
    "start_time": "2023-02-21T10:35:46.570Z"
   },
   {
    "duration": 125,
    "start_time": "2023-02-21T10:35:47.025Z"
   },
   {
    "duration": 20,
    "start_time": "2023-02-21T10:35:55.493Z"
   },
   {
    "duration": 42,
    "start_time": "2023-02-21T10:36:00.153Z"
   },
   {
    "duration": 16,
    "start_time": "2023-02-21T11:41:36.424Z"
   },
   {
    "duration": 1902,
    "start_time": "2023-06-07T17:00:07.938Z"
   },
   {
    "duration": 78,
    "start_time": "2023-06-07T17:00:09.843Z"
   },
   {
    "duration": 15,
    "start_time": "2023-06-07T17:00:52.208Z"
   },
   {
    "duration": 10,
    "start_time": "2023-06-07T17:00:54.931Z"
   },
   {
    "duration": 11,
    "start_time": "2023-06-07T17:00:55.595Z"
   },
   {
    "duration": 6,
    "start_time": "2023-06-07T17:00:58.316Z"
   },
   {
    "duration": 6,
    "start_time": "2023-06-07T17:00:58.755Z"
   },
   {
    "duration": 12,
    "start_time": "2023-06-07T17:00:59.060Z"
   },
   {
    "duration": 9,
    "start_time": "2023-06-07T17:01:01.574Z"
   },
   {
    "duration": 36,
    "start_time": "2023-06-07T17:01:02.647Z"
   },
   {
    "duration": 38,
    "start_time": "2023-06-07T17:01:04.099Z"
   },
   {
    "duration": 142,
    "start_time": "2023-06-07T17:01:04.574Z"
   },
   {
    "duration": 16,
    "start_time": "2023-06-07T17:01:09.172Z"
   },
   {
    "duration": 33,
    "start_time": "2023-06-07T17:01:12.219Z"
   }
  ],
  "kernelspec": {
   "display_name": "Python 3 (ipykernel)",
   "language": "python",
   "name": "python3"
  },
  "language_info": {
   "codemirror_mode": {
    "name": "ipython",
    "version": 3
   },
   "file_extension": ".py",
   "mimetype": "text/x-python",
   "name": "python",
   "nbconvert_exporter": "python",
   "pygments_lexer": "ipython3",
   "version": "3.9.5"
  },
  "toc": {
   "base_numbering": 1,
   "nav_menu": {},
   "number_sections": true,
   "sideBar": true,
   "skip_h1_title": true,
   "title_cell": "Содержание",
   "title_sidebar": "Contents",
   "toc_cell": true,
   "toc_position": {
    "height": "calc(100% - 180px)",
    "left": "10px",
    "top": "150px",
    "width": "323.75px"
   },
   "toc_section_display": true,
   "toc_window_display": true
  }
 },
 "nbformat": 4,
 "nbformat_minor": 2
}
